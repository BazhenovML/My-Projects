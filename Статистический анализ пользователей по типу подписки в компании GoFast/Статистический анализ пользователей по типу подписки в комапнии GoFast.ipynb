{
 "cells": [
  {
   "cell_type": "markdown",
   "id": "a955a309",
   "metadata": {},
   "source": [
    "# Исследование пользователей по типу подписки в комании GoFast."
   ]
  },
  {
   "cell_type": "markdown",
   "id": "fea3ddf9",
   "metadata": {},
   "source": [
    "\n",
    "\n",
    "**Цель проекта:** \n",
    "\n",
    "Провести исследование данных сервиса по аренде самокатов GoFast. определить **являются ли пользователи с подпиской выгоднее чем пользователи без подписки.**\n",
    "\n",
    "\n",
    "**Ход исследования:**\n",
    "\n",
    "    1. Проведем анализ данных. Изучим общую информацию о пользователях. Визуализируем данные.\n",
    "    2. Создадим объединенный датасет из предоставленных наборов данных.\n",
    "    4. Посчитаем выручку по группам пользователей (ultra/free).\n",
    "    5. Проверим гипотезы: 1) Тратят ли пользователи с подпиской больше времени на поездки\n",
    "                          2) Не превышает ли среднее расстояние которое проезжают пользователей с подпиской 3130 метров.\n",
    "                          3) Помесячная выручка от пользователей с подпиской по месяцам выше, чем выручка от пользователей без подписки. \n",
    "            \n",
    "          \n",
    "\n",
    "**Типы подписки:**\n",
    "\n",
    "*без подписки*\n",
    "\n",
    "    абонентская плата отсутствует;\n",
    "    стоимость одной минуты поездки — 8 рублей;\n",
    "    стоимость старта (начала поездки) — 50 рублей;\n",
    "\n",
    "\n",
    "*с подпиской Ultra*\n",
    "\n",
    "    абонентская плата — 199 рублей в месяц;\n",
    "    стоимость одной минуты поездки — 6 рублей;\n",
    "    стоимость старта — бесплатно."
   ]
  },
  {
   "cell_type": "markdown",
   "id": "b4f51c5f",
   "metadata": {},
   "source": [
    "## Обзор данных"
   ]
  },
  {
   "cell_type": "markdown",
   "id": "8dff88f1",
   "metadata": {},
   "source": [
    "**Пользователи — users_go.csv**\n",
    "\n",
    "`user_id`\tуникальный идентификатор пользователяж\n",
    "\n",
    "`name`\tимя пользовател\n",
    "\n",
    "`age`\tвозраст\n",
    "\n",
    "`city`\tгород\n",
    "\n",
    "`subscription_type`\tтип подписки (free, ultra)\n",
    "\n",
    "**Поездки — rides_go.csv**\n",
    "\n",
    "`user_id`\tуникальный идентификатор пользователя\n",
    "\n",
    "`distance`\tрасстояние, которое пользователь проехал в текущей сессии (в метрах)\n",
    "\n",
    "`duration`\tпродолжительность сессии (в минутах) — время с того момента, как пользователь нажал кнопку «Начать поездку» до момента, как он нажал кнопку «Завершить поездку\n",
    "\n",
    "`date`\tдата совершения \n",
    "\n",
    "**Подписки — subscriptions_go.csv**\n",
    "\n",
    "`subscription_type`\tтип подписки\n",
    "\n",
    "`minute_price`\tстоимость одной минуты поездки по данной подписке\n",
    "\n",
    "`start_ride_price`\tстоимость начала поездки\n",
    "\n",
    "`subscription_fee`\tстоимость ежемесячного платежа\n",
    "\n",
    "\n",
    "    \n",
    "    \n",
    "    \n",
    "    "
   ]
  },
  {
   "cell_type": "markdown",
   "id": "7dea5319",
   "metadata": {},
   "source": [
    "**Импорт необходимых библиотек:**"
   ]
  },
  {
   "cell_type": "code",
   "execution_count": 1,
   "id": "0e6d4029",
   "metadata": {},
   "outputs": [],
   "source": [
    "import pandas as pd\n",
    "import matplotlib.pyplot as plt\n",
    "import seaborn as sns\n",
    "import numpy as np\n",
    "import math\n",
    "from scipy import stats as st"
   ]
  },
  {
   "cell_type": "code",
   "execution_count": 2,
   "id": "8228d1dd",
   "metadata": {},
   "outputs": [],
   "source": [
    "pd.options.display.float_format = '{:,.2f}'.format"
   ]
  },
  {
   "cell_type": "code",
   "execution_count": 3,
   "id": "266984e1",
   "metadata": {},
   "outputs": [],
   "source": [
    "users = pd.read_csv('/datasets/users_go.csv')\n",
    "rides = pd.read_csv('/datasets/rides_go.csv')\n",
    "subscriptions = pd.read_csv('/datasets/subscriptions_go.csv')"
   ]
  },
  {
   "cell_type": "code",
   "execution_count": 4,
   "id": "5e1a1768",
   "metadata": {},
   "outputs": [],
   "source": [
    "dataframes = [users, rides, subscriptions]"
   ]
  },
  {
   "cell_type": "markdown",
   "id": "b2fcad32",
   "metadata": {},
   "source": [
    "### Выведем первые строки и общую информацию, изучим данные"
   ]
  },
  {
   "cell_type": "code",
   "execution_count": 5,
   "id": "4cc8f8a9",
   "metadata": {
    "scrolled": false
   },
   "outputs": [
    {
     "data": {
      "text/html": [
       "<div>\n",
       "<style scoped>\n",
       "    .dataframe tbody tr th:only-of-type {\n",
       "        vertical-align: middle;\n",
       "    }\n",
       "\n",
       "    .dataframe tbody tr th {\n",
       "        vertical-align: top;\n",
       "    }\n",
       "\n",
       "    .dataframe thead th {\n",
       "        text-align: right;\n",
       "    }\n",
       "</style>\n",
       "<table border=\"1\" class=\"dataframe\">\n",
       "  <thead>\n",
       "    <tr style=\"text-align: right;\">\n",
       "      <th></th>\n",
       "      <th>user_id</th>\n",
       "      <th>name</th>\n",
       "      <th>age</th>\n",
       "      <th>city</th>\n",
       "      <th>subscription_type</th>\n",
       "    </tr>\n",
       "  </thead>\n",
       "  <tbody>\n",
       "    <tr>\n",
       "      <th>0</th>\n",
       "      <td>1</td>\n",
       "      <td>Кира</td>\n",
       "      <td>22</td>\n",
       "      <td>Тюмень</td>\n",
       "      <td>ultra</td>\n",
       "    </tr>\n",
       "    <tr>\n",
       "      <th>1</th>\n",
       "      <td>2</td>\n",
       "      <td>Станислав</td>\n",
       "      <td>31</td>\n",
       "      <td>Омск</td>\n",
       "      <td>ultra</td>\n",
       "    </tr>\n",
       "    <tr>\n",
       "      <th>2</th>\n",
       "      <td>3</td>\n",
       "      <td>Алексей</td>\n",
       "      <td>20</td>\n",
       "      <td>Москва</td>\n",
       "      <td>ultra</td>\n",
       "    </tr>\n",
       "    <tr>\n",
       "      <th>3</th>\n",
       "      <td>4</td>\n",
       "      <td>Константин</td>\n",
       "      <td>26</td>\n",
       "      <td>Ростов-на-Дону</td>\n",
       "      <td>ultra</td>\n",
       "    </tr>\n",
       "    <tr>\n",
       "      <th>4</th>\n",
       "      <td>5</td>\n",
       "      <td>Адель</td>\n",
       "      <td>28</td>\n",
       "      <td>Омск</td>\n",
       "      <td>ultra</td>\n",
       "    </tr>\n",
       "  </tbody>\n",
       "</table>\n",
       "</div>"
      ],
      "text/plain": [
       "   user_id        name  age            city subscription_type\n",
       "0        1        Кира   22          Тюмень             ultra\n",
       "1        2   Станислав   31            Омск             ultra\n",
       "2        3     Алексей   20          Москва             ultra\n",
       "3        4  Константин   26  Ростов-на-Дону             ultra\n",
       "4        5       Адель   28            Омск             ultra"
      ]
     },
     "metadata": {},
     "output_type": "display_data"
    },
    {
     "name": "stdout",
     "output_type": "stream",
     "text": [
      "<class 'pandas.core.frame.DataFrame'>\n",
      "RangeIndex: 1565 entries, 0 to 1564\n",
      "Data columns (total 5 columns):\n",
      " #   Column             Non-Null Count  Dtype \n",
      "---  ------             --------------  ----- \n",
      " 0   user_id            1565 non-null   int64 \n",
      " 1   name               1565 non-null   object\n",
      " 2   age                1565 non-null   int64 \n",
      " 3   city               1565 non-null   object\n",
      " 4   subscription_type  1565 non-null   object\n",
      "dtypes: int64(2), object(3)\n",
      "memory usage: 61.3+ KB\n"
     ]
    },
    {
     "data": {
      "text/plain": [
       "None"
      ]
     },
     "metadata": {},
     "output_type": "display_data"
    },
    {
     "data": {
      "text/html": [
       "<div>\n",
       "<style scoped>\n",
       "    .dataframe tbody tr th:only-of-type {\n",
       "        vertical-align: middle;\n",
       "    }\n",
       "\n",
       "    .dataframe tbody tr th {\n",
       "        vertical-align: top;\n",
       "    }\n",
       "\n",
       "    .dataframe thead th {\n",
       "        text-align: right;\n",
       "    }\n",
       "</style>\n",
       "<table border=\"1\" class=\"dataframe\">\n",
       "  <thead>\n",
       "    <tr style=\"text-align: right;\">\n",
       "      <th></th>\n",
       "      <th>user_id</th>\n",
       "      <th>age</th>\n",
       "    </tr>\n",
       "  </thead>\n",
       "  <tbody>\n",
       "    <tr>\n",
       "      <th>count</th>\n",
       "      <td>1,565.00</td>\n",
       "      <td>1,565.00</td>\n",
       "    </tr>\n",
       "    <tr>\n",
       "      <th>mean</th>\n",
       "      <td>762.63</td>\n",
       "      <td>24.92</td>\n",
       "    </tr>\n",
       "    <tr>\n",
       "      <th>std</th>\n",
       "      <td>443.26</td>\n",
       "      <td>4.55</td>\n",
       "    </tr>\n",
       "    <tr>\n",
       "      <th>min</th>\n",
       "      <td>1.00</td>\n",
       "      <td>12.00</td>\n",
       "    </tr>\n",
       "    <tr>\n",
       "      <th>25%</th>\n",
       "      <td>378.00</td>\n",
       "      <td>22.00</td>\n",
       "    </tr>\n",
       "    <tr>\n",
       "      <th>50%</th>\n",
       "      <td>762.00</td>\n",
       "      <td>25.00</td>\n",
       "    </tr>\n",
       "    <tr>\n",
       "      <th>75%</th>\n",
       "      <td>1,146.00</td>\n",
       "      <td>28.00</td>\n",
       "    </tr>\n",
       "    <tr>\n",
       "      <th>max</th>\n",
       "      <td>1,534.00</td>\n",
       "      <td>43.00</td>\n",
       "    </tr>\n",
       "  </tbody>\n",
       "</table>\n",
       "</div>"
      ],
      "text/plain": [
       "       user_id      age\n",
       "count 1,565.00 1,565.00\n",
       "mean    762.63    24.92\n",
       "std     443.26     4.55\n",
       "min       1.00    12.00\n",
       "25%     378.00    22.00\n",
       "50%     762.00    25.00\n",
       "75%   1,146.00    28.00\n",
       "max   1,534.00    43.00"
      ]
     },
     "metadata": {},
     "output_type": "display_data"
    },
    {
     "data": {
      "text/html": [
       "<div>\n",
       "<style scoped>\n",
       "    .dataframe tbody tr th:only-of-type {\n",
       "        vertical-align: middle;\n",
       "    }\n",
       "\n",
       "    .dataframe tbody tr th {\n",
       "        vertical-align: top;\n",
       "    }\n",
       "\n",
       "    .dataframe thead th {\n",
       "        text-align: right;\n",
       "    }\n",
       "</style>\n",
       "<table border=\"1\" class=\"dataframe\">\n",
       "  <thead>\n",
       "    <tr style=\"text-align: right;\">\n",
       "      <th></th>\n",
       "      <th>user_id</th>\n",
       "      <th>distance</th>\n",
       "      <th>duration</th>\n",
       "      <th>date</th>\n",
       "    </tr>\n",
       "  </thead>\n",
       "  <tbody>\n",
       "    <tr>\n",
       "      <th>0</th>\n",
       "      <td>1</td>\n",
       "      <td>4,409.92</td>\n",
       "      <td>25.60</td>\n",
       "      <td>2021-01-01</td>\n",
       "    </tr>\n",
       "    <tr>\n",
       "      <th>1</th>\n",
       "      <td>1</td>\n",
       "      <td>2,617.59</td>\n",
       "      <td>15.82</td>\n",
       "      <td>2021-01-18</td>\n",
       "    </tr>\n",
       "    <tr>\n",
       "      <th>2</th>\n",
       "      <td>1</td>\n",
       "      <td>754.16</td>\n",
       "      <td>6.23</td>\n",
       "      <td>2021-04-20</td>\n",
       "    </tr>\n",
       "    <tr>\n",
       "      <th>3</th>\n",
       "      <td>1</td>\n",
       "      <td>2,694.78</td>\n",
       "      <td>18.51</td>\n",
       "      <td>2021-08-11</td>\n",
       "    </tr>\n",
       "    <tr>\n",
       "      <th>4</th>\n",
       "      <td>1</td>\n",
       "      <td>4,028.69</td>\n",
       "      <td>26.27</td>\n",
       "      <td>2021-08-28</td>\n",
       "    </tr>\n",
       "  </tbody>\n",
       "</table>\n",
       "</div>"
      ],
      "text/plain": [
       "   user_id  distance  duration        date\n",
       "0        1  4,409.92     25.60  2021-01-01\n",
       "1        1  2,617.59     15.82  2021-01-18\n",
       "2        1    754.16      6.23  2021-04-20\n",
       "3        1  2,694.78     18.51  2021-08-11\n",
       "4        1  4,028.69     26.27  2021-08-28"
      ]
     },
     "metadata": {},
     "output_type": "display_data"
    },
    {
     "name": "stdout",
     "output_type": "stream",
     "text": [
      "<class 'pandas.core.frame.DataFrame'>\n",
      "RangeIndex: 18068 entries, 0 to 18067\n",
      "Data columns (total 4 columns):\n",
      " #   Column    Non-Null Count  Dtype  \n",
      "---  ------    --------------  -----  \n",
      " 0   user_id   18068 non-null  int64  \n",
      " 1   distance  18068 non-null  float64\n",
      " 2   duration  18068 non-null  float64\n",
      " 3   date      18068 non-null  object \n",
      "dtypes: float64(2), int64(1), object(1)\n",
      "memory usage: 564.8+ KB\n"
     ]
    },
    {
     "data": {
      "text/plain": [
       "None"
      ]
     },
     "metadata": {},
     "output_type": "display_data"
    },
    {
     "data": {
      "text/html": [
       "<div>\n",
       "<style scoped>\n",
       "    .dataframe tbody tr th:only-of-type {\n",
       "        vertical-align: middle;\n",
       "    }\n",
       "\n",
       "    .dataframe tbody tr th {\n",
       "        vertical-align: top;\n",
       "    }\n",
       "\n",
       "    .dataframe thead th {\n",
       "        text-align: right;\n",
       "    }\n",
       "</style>\n",
       "<table border=\"1\" class=\"dataframe\">\n",
       "  <thead>\n",
       "    <tr style=\"text-align: right;\">\n",
       "      <th></th>\n",
       "      <th>user_id</th>\n",
       "      <th>distance</th>\n",
       "      <th>duration</th>\n",
       "    </tr>\n",
       "  </thead>\n",
       "  <tbody>\n",
       "    <tr>\n",
       "      <th>count</th>\n",
       "      <td>18,068.00</td>\n",
       "      <td>18,068.00</td>\n",
       "      <td>18,068.00</td>\n",
       "    </tr>\n",
       "    <tr>\n",
       "      <th>mean</th>\n",
       "      <td>842.87</td>\n",
       "      <td>3,070.66</td>\n",
       "      <td>17.81</td>\n",
       "    </tr>\n",
       "    <tr>\n",
       "      <th>std</th>\n",
       "      <td>434.73</td>\n",
       "      <td>1,116.83</td>\n",
       "      <td>6.09</td>\n",
       "    </tr>\n",
       "    <tr>\n",
       "      <th>min</th>\n",
       "      <td>1.00</td>\n",
       "      <td>0.86</td>\n",
       "      <td>0.50</td>\n",
       "    </tr>\n",
       "    <tr>\n",
       "      <th>25%</th>\n",
       "      <td>487.00</td>\n",
       "      <td>2,543.23</td>\n",
       "      <td>13.60</td>\n",
       "    </tr>\n",
       "    <tr>\n",
       "      <th>50%</th>\n",
       "      <td>889.00</td>\n",
       "      <td>3,133.61</td>\n",
       "      <td>17.68</td>\n",
       "    </tr>\n",
       "    <tr>\n",
       "      <th>75%</th>\n",
       "      <td>1,213.25</td>\n",
       "      <td>3,776.22</td>\n",
       "      <td>21.72</td>\n",
       "    </tr>\n",
       "    <tr>\n",
       "      <th>max</th>\n",
       "      <td>1,534.00</td>\n",
       "      <td>7,211.01</td>\n",
       "      <td>40.82</td>\n",
       "    </tr>\n",
       "  </tbody>\n",
       "</table>\n",
       "</div>"
      ],
      "text/plain": [
       "        user_id  distance  duration\n",
       "count 18,068.00 18,068.00 18,068.00\n",
       "mean     842.87  3,070.66     17.81\n",
       "std      434.73  1,116.83      6.09\n",
       "min        1.00      0.86      0.50\n",
       "25%      487.00  2,543.23     13.60\n",
       "50%      889.00  3,133.61     17.68\n",
       "75%    1,213.25  3,776.22     21.72\n",
       "max    1,534.00  7,211.01     40.82"
      ]
     },
     "metadata": {},
     "output_type": "display_data"
    },
    {
     "data": {
      "text/html": [
       "<div>\n",
       "<style scoped>\n",
       "    .dataframe tbody tr th:only-of-type {\n",
       "        vertical-align: middle;\n",
       "    }\n",
       "\n",
       "    .dataframe tbody tr th {\n",
       "        vertical-align: top;\n",
       "    }\n",
       "\n",
       "    .dataframe thead th {\n",
       "        text-align: right;\n",
       "    }\n",
       "</style>\n",
       "<table border=\"1\" class=\"dataframe\">\n",
       "  <thead>\n",
       "    <tr style=\"text-align: right;\">\n",
       "      <th></th>\n",
       "      <th>subscription_type</th>\n",
       "      <th>minute_price</th>\n",
       "      <th>start_ride_price</th>\n",
       "      <th>subscription_fee</th>\n",
       "    </tr>\n",
       "  </thead>\n",
       "  <tbody>\n",
       "    <tr>\n",
       "      <th>0</th>\n",
       "      <td>free</td>\n",
       "      <td>8</td>\n",
       "      <td>50</td>\n",
       "      <td>0</td>\n",
       "    </tr>\n",
       "    <tr>\n",
       "      <th>1</th>\n",
       "      <td>ultra</td>\n",
       "      <td>6</td>\n",
       "      <td>0</td>\n",
       "      <td>199</td>\n",
       "    </tr>\n",
       "  </tbody>\n",
       "</table>\n",
       "</div>"
      ],
      "text/plain": [
       "  subscription_type  minute_price  start_ride_price  subscription_fee\n",
       "0              free             8                50                 0\n",
       "1             ultra             6                 0               199"
      ]
     },
     "metadata": {},
     "output_type": "display_data"
    },
    {
     "name": "stdout",
     "output_type": "stream",
     "text": [
      "<class 'pandas.core.frame.DataFrame'>\n",
      "RangeIndex: 2 entries, 0 to 1\n",
      "Data columns (total 4 columns):\n",
      " #   Column             Non-Null Count  Dtype \n",
      "---  ------             --------------  ----- \n",
      " 0   subscription_type  2 non-null      object\n",
      " 1   minute_price       2 non-null      int64 \n",
      " 2   start_ride_price   2 non-null      int64 \n",
      " 3   subscription_fee   2 non-null      int64 \n",
      "dtypes: int64(3), object(1)\n",
      "memory usage: 192.0+ bytes\n"
     ]
    },
    {
     "data": {
      "text/plain": [
       "None"
      ]
     },
     "metadata": {},
     "output_type": "display_data"
    },
    {
     "data": {
      "text/html": [
       "<div>\n",
       "<style scoped>\n",
       "    .dataframe tbody tr th:only-of-type {\n",
       "        vertical-align: middle;\n",
       "    }\n",
       "\n",
       "    .dataframe tbody tr th {\n",
       "        vertical-align: top;\n",
       "    }\n",
       "\n",
       "    .dataframe thead th {\n",
       "        text-align: right;\n",
       "    }\n",
       "</style>\n",
       "<table border=\"1\" class=\"dataframe\">\n",
       "  <thead>\n",
       "    <tr style=\"text-align: right;\">\n",
       "      <th></th>\n",
       "      <th>minute_price</th>\n",
       "      <th>start_ride_price</th>\n",
       "      <th>subscription_fee</th>\n",
       "    </tr>\n",
       "  </thead>\n",
       "  <tbody>\n",
       "    <tr>\n",
       "      <th>count</th>\n",
       "      <td>2.00</td>\n",
       "      <td>2.00</td>\n",
       "      <td>2.00</td>\n",
       "    </tr>\n",
       "    <tr>\n",
       "      <th>mean</th>\n",
       "      <td>7.00</td>\n",
       "      <td>25.00</td>\n",
       "      <td>99.50</td>\n",
       "    </tr>\n",
       "    <tr>\n",
       "      <th>std</th>\n",
       "      <td>1.41</td>\n",
       "      <td>35.36</td>\n",
       "      <td>140.71</td>\n",
       "    </tr>\n",
       "    <tr>\n",
       "      <th>min</th>\n",
       "      <td>6.00</td>\n",
       "      <td>0.00</td>\n",
       "      <td>0.00</td>\n",
       "    </tr>\n",
       "    <tr>\n",
       "      <th>25%</th>\n",
       "      <td>6.50</td>\n",
       "      <td>12.50</td>\n",
       "      <td>49.75</td>\n",
       "    </tr>\n",
       "    <tr>\n",
       "      <th>50%</th>\n",
       "      <td>7.00</td>\n",
       "      <td>25.00</td>\n",
       "      <td>99.50</td>\n",
       "    </tr>\n",
       "    <tr>\n",
       "      <th>75%</th>\n",
       "      <td>7.50</td>\n",
       "      <td>37.50</td>\n",
       "      <td>149.25</td>\n",
       "    </tr>\n",
       "    <tr>\n",
       "      <th>max</th>\n",
       "      <td>8.00</td>\n",
       "      <td>50.00</td>\n",
       "      <td>199.00</td>\n",
       "    </tr>\n",
       "  </tbody>\n",
       "</table>\n",
       "</div>"
      ],
      "text/plain": [
       "       minute_price  start_ride_price  subscription_fee\n",
       "count          2.00              2.00              2.00\n",
       "mean           7.00             25.00             99.50\n",
       "std            1.41             35.36            140.71\n",
       "min            6.00              0.00              0.00\n",
       "25%            6.50             12.50             49.75\n",
       "50%            7.00             25.00             99.50\n",
       "75%            7.50             37.50            149.25\n",
       "max            8.00             50.00            199.00"
      ]
     },
     "metadata": {},
     "output_type": "display_data"
    }
   ],
   "source": [
    "#Цикл для вывода общей информации и описательной статистики\n",
    "for data in dataframes: \n",
    "    display(data.head(5))\n",
    "    display(data.info())\n",
    "    display(data.describe())"
   ]
  },
  {
   "cell_type": "markdown",
   "id": "9dccb345",
   "metadata": {},
   "source": [
    "### Построим гистограммы для визуального представления о числовых значениях"
   ]
  },
  {
   "cell_type": "code",
   "execution_count": 6,
   "id": "964c3554",
   "metadata": {},
   "outputs": [
    {
     "data": {
      "image/png": "[encoded data removed]",
      "text/plain": [
       "<Figure size 1440x504 with 2 Axes>"
      ]
     },
     "metadata": {
      "needs_background": "light"
     },
     "output_type": "display_data"
    }
   ],
   "source": [
    "# Построим гистограмму для наглядного представления о числовых значениях\n",
    "users.hist(figsize=(20, 7), bins=10, edgecolor=\"black\", grid = False) \n",
    "plt.show()"
   ]
  },
  {
   "cell_type": "code",
   "execution_count": 7,
   "id": "afa7d8da",
   "metadata": {},
   "outputs": [
    {
     "data": {
      "image/png": "[encoded data removed]",
      "text/plain": [
       "<Figure size 1440x1080 with 4 Axes>"
      ]
     },
     "metadata": {
      "needs_background": "light"
     },
     "output_type": "display_data"
    }
   ],
   "source": [
    "rides.hist(figsize=(20, 15), bins=10, edgecolor=\"black\", grid = False) \n",
    "plt.show()"
   ]
  },
  {
   "cell_type": "markdown",
   "id": "30965ebb",
   "metadata": {
    "scrolled": true
   },
   "source": [
    "### Вывод:"
   ]
  },
  {
   "cell_type": "markdown",
   "id": "5227c808",
   "metadata": {
    "scrolled": false
   },
   "source": [
    "Входе изучения данных выяснилось:\n",
    "\n",
    "    * Названия колонок соответствуют стилю snake_case.\n",
    "    * Типы данных в колонках соответствуют ожиданиям, за исключением колонки с датами в таблице 'rides'. На этапе предобработки потребуется поменять тип данных на *to_datetime*.\n",
    "    \n",
    "    Таблица (User):\n",
    "\n",
    "    1. датафрейм состоит из 1565 строк и 5 колонок\n",
    "    2. датафрейм содердит числовые и тексторые значения. \n",
    "    3. колонки имеют правильные названия\n",
    "    4. в датасете отсутствуют пропущенные значения.\n",
    "    5. в датасете имеются дубликаты которые будут обработаны на этапе предобработки\n",
    "    6. возраст пользователей имеет нормальное распределение \n",
    " \n",
    "     Таблица (Rides): \n",
    "     \n",
    "    1. датафрейм состоит из 18068 строк и 4 колонки\n",
    "    2. датафрейм содердит числовые и тексторые значения. \n",
    "    3. колонки имеют правильные названия\n",
    "    4. в датасете отсутствуют пропущенные значения.\n",
    "    5. колонки имеют правильный тип данных, за исключением колонки date - в преобработке изменим тип на to_datetime\n",
    "     \n",
    "     \n",
    "     Таблица (subscriptions):\n",
    "     \n",
    "    1. Датафрейм состоит из 2 строк и 4 колонок\n",
    "    2. Таблица содержит стоимость  пользования самокатом с подпиской и без  \n",
    "   \n",
    "     \n",
    "     \n",
    "     "
   ]
  },
  {
   "cell_type": "markdown",
   "id": "b09e1879",
   "metadata": {
    "scrolled": false
   },
   "source": [
    "## Предобработка данных"
   ]
  },
  {
   "cell_type": "code",
   "execution_count": 8,
   "id": "cbaea4cc",
   "metadata": {},
   "outputs": [
    {
     "data": {
      "text/html": [
       "<div>\n",
       "<style scoped>\n",
       "    .dataframe tbody tr th:only-of-type {\n",
       "        vertical-align: middle;\n",
       "    }\n",
       "\n",
       "    .dataframe tbody tr th {\n",
       "        vertical-align: top;\n",
       "    }\n",
       "\n",
       "    .dataframe thead th {\n",
       "        text-align: right;\n",
       "    }\n",
       "</style>\n",
       "<table border=\"1\" class=\"dataframe\">\n",
       "  <thead>\n",
       "    <tr style=\"text-align: right;\">\n",
       "      <th></th>\n",
       "      <th>user_id</th>\n",
       "      <th>distance</th>\n",
       "      <th>duration</th>\n",
       "      <th>date</th>\n",
       "    </tr>\n",
       "  </thead>\n",
       "  <tbody>\n",
       "    <tr>\n",
       "      <th>0</th>\n",
       "      <td>1</td>\n",
       "      <td>4,409.92</td>\n",
       "      <td>25.60</td>\n",
       "      <td>2021-01-01</td>\n",
       "    </tr>\n",
       "    <tr>\n",
       "      <th>1</th>\n",
       "      <td>1</td>\n",
       "      <td>2,617.59</td>\n",
       "      <td>15.82</td>\n",
       "      <td>2021-01-18</td>\n",
       "    </tr>\n",
       "    <tr>\n",
       "      <th>2</th>\n",
       "      <td>1</td>\n",
       "      <td>754.16</td>\n",
       "      <td>6.23</td>\n",
       "      <td>2021-04-20</td>\n",
       "    </tr>\n",
       "    <tr>\n",
       "      <th>3</th>\n",
       "      <td>1</td>\n",
       "      <td>2,694.78</td>\n",
       "      <td>18.51</td>\n",
       "      <td>2021-08-11</td>\n",
       "    </tr>\n",
       "    <tr>\n",
       "      <th>4</th>\n",
       "      <td>1</td>\n",
       "      <td>4,028.69</td>\n",
       "      <td>26.27</td>\n",
       "      <td>2021-08-28</td>\n",
       "    </tr>\n",
       "  </tbody>\n",
       "</table>\n",
       "</div>"
      ],
      "text/plain": [
       "   user_id  distance  duration        date\n",
       "0        1  4,409.92     25.60  2021-01-01\n",
       "1        1  2,617.59     15.82  2021-01-18\n",
       "2        1    754.16      6.23  2021-04-20\n",
       "3        1  2,694.78     18.51  2021-08-11\n",
       "4        1  4,028.69     26.27  2021-08-28"
      ]
     },
     "execution_count": 8,
     "metadata": {},
     "output_type": "execute_result"
    }
   ],
   "source": [
    "rides.head(5)"
   ]
  },
  {
   "cell_type": "markdown",
   "id": "6adcaca0",
   "metadata": {},
   "source": [
    "### Приведем столбец date в таблице (Rides) к типу даты pandas"
   ]
  },
  {
   "cell_type": "code",
   "execution_count": 9,
   "id": "58e65ade",
   "metadata": {},
   "outputs": [],
   "source": [
    "# приведем тип к удобному формату\n",
    "rides['date'] = pd.to_datetime(rides['date'], format='%Y-%m-%dT%H:%M:%S')"
   ]
  },
  {
   "cell_type": "code",
   "execution_count": 10,
   "id": "7d39d8fa",
   "metadata": {},
   "outputs": [
    {
     "data": {
      "text/plain": [
       "0       2021-01-01\n",
       "1       2021-01-18\n",
       "2       2021-04-20\n",
       "3       2021-08-11\n",
       "4       2021-08-28\n",
       "           ...    \n",
       "18063   2021-11-04\n",
       "18064   2021-11-16\n",
       "18065   2021-11-18\n",
       "18066   2021-11-27\n",
       "18067   2021-12-29\n",
       "Name: date, Length: 18068, dtype: datetime64[ns]"
      ]
     },
     "execution_count": 10,
     "metadata": {},
     "output_type": "execute_result"
    }
   ],
   "source": [
    "#проверим полученный результат\n",
    "rides['date'] "
   ]
  },
  {
   "cell_type": "markdown",
   "id": "3af88cfc",
   "metadata": {},
   "source": [
    "### Создадим столбец с номером месяца на основе rides['data']"
   ]
  },
  {
   "cell_type": "code",
   "execution_count": 11,
   "id": "8a7b18d5",
   "metadata": {},
   "outputs": [],
   "source": [
    "#создание дополнительного столбца с указанием номера месяца\n",
    "rides['month'] = pd.DatetimeIndex(rides['date']).month "
   ]
  },
  {
   "cell_type": "code",
   "execution_count": 12,
   "id": "a9149594",
   "metadata": {},
   "outputs": [
    {
     "data": {
      "text/plain": [
       "Timestamp('2021-01-01 00:00:00')"
      ]
     },
     "execution_count": 12,
     "metadata": {},
     "output_type": "execute_result"
    }
   ],
   "source": [
    "# Начальная дата в датафрейме\n",
    "rides['date'].min() "
   ]
  },
  {
   "cell_type": "code",
   "execution_count": 13,
   "id": "1590ac26",
   "metadata": {},
   "outputs": [
    {
     "data": {
      "text/plain": [
       "Timestamp('2021-12-30 00:00:00')"
      ]
     },
     "execution_count": 13,
     "metadata": {},
     "output_type": "execute_result"
    }
   ],
   "source": [
    "# Последняя дата в датасете\n",
    "rides['date'].max() "
   ]
  },
  {
   "cell_type": "code",
   "execution_count": 14,
   "id": "26e0babb",
   "metadata": {},
   "outputs": [
    {
     "data": {
      "text/html": [
       "<div>\n",
       "<style scoped>\n",
       "    .dataframe tbody tr th:only-of-type {\n",
       "        vertical-align: middle;\n",
       "    }\n",
       "\n",
       "    .dataframe tbody tr th {\n",
       "        vertical-align: top;\n",
       "    }\n",
       "\n",
       "    .dataframe thead th {\n",
       "        text-align: right;\n",
       "    }\n",
       "</style>\n",
       "<table border=\"1\" class=\"dataframe\">\n",
       "  <thead>\n",
       "    <tr style=\"text-align: right;\">\n",
       "      <th></th>\n",
       "      <th>user_id</th>\n",
       "      <th>distance</th>\n",
       "      <th>duration</th>\n",
       "      <th>date</th>\n",
       "      <th>month</th>\n",
       "    </tr>\n",
       "  </thead>\n",
       "  <tbody>\n",
       "    <tr>\n",
       "      <th>0</th>\n",
       "      <td>1</td>\n",
       "      <td>4,409.92</td>\n",
       "      <td>25.60</td>\n",
       "      <td>2021-01-01</td>\n",
       "      <td>1</td>\n",
       "    </tr>\n",
       "    <tr>\n",
       "      <th>1</th>\n",
       "      <td>1</td>\n",
       "      <td>2,617.59</td>\n",
       "      <td>15.82</td>\n",
       "      <td>2021-01-18</td>\n",
       "      <td>1</td>\n",
       "    </tr>\n",
       "    <tr>\n",
       "      <th>2</th>\n",
       "      <td>1</td>\n",
       "      <td>754.16</td>\n",
       "      <td>6.23</td>\n",
       "      <td>2021-04-20</td>\n",
       "      <td>4</td>\n",
       "    </tr>\n",
       "    <tr>\n",
       "      <th>3</th>\n",
       "      <td>1</td>\n",
       "      <td>2,694.78</td>\n",
       "      <td>18.51</td>\n",
       "      <td>2021-08-11</td>\n",
       "      <td>8</td>\n",
       "    </tr>\n",
       "    <tr>\n",
       "      <th>4</th>\n",
       "      <td>1</td>\n",
       "      <td>4,028.69</td>\n",
       "      <td>26.27</td>\n",
       "      <td>2021-08-28</td>\n",
       "      <td>8</td>\n",
       "    </tr>\n",
       "  </tbody>\n",
       "</table>\n",
       "</div>"
      ],
      "text/plain": [
       "   user_id  distance  duration       date  month\n",
       "0        1  4,409.92     25.60 2021-01-01      1\n",
       "1        1  2,617.59     15.82 2021-01-18      1\n",
       "2        1    754.16      6.23 2021-04-20      4\n",
       "3        1  2,694.78     18.51 2021-08-11      8\n",
       "4        1  4,028.69     26.27 2021-08-28      8"
      ]
     },
     "execution_count": 14,
     "metadata": {},
     "output_type": "execute_result"
    }
   ],
   "source": [
    "# проверим полученный резульат\n",
    "rides.head(5)"
   ]
  },
  {
   "cell_type": "markdown",
   "id": "111c006f",
   "metadata": {},
   "source": [
    "###  Проверим наличие пропущенных значений и дубликатов в датафреймах. "
   ]
  },
  {
   "cell_type": "markdown",
   "id": "3445f550",
   "metadata": {},
   "source": [
    "**Поиск пропущенных значений:**"
   ]
  },
  {
   "cell_type": "code",
   "execution_count": 15,
   "id": "20f8ec77",
   "metadata": {},
   "outputs": [
    {
     "data": {
      "text/plain": [
       "user_id              0\n",
       "name                 0\n",
       "age                  0\n",
       "city                 0\n",
       "subscription_type    0\n",
       "dtype: int64"
      ]
     },
     "metadata": {},
     "output_type": "display_data"
    },
    {
     "data": {
      "text/plain": [
       "user_id     0\n",
       "distance    0\n",
       "duration    0\n",
       "date        0\n",
       "month       0\n",
       "dtype: int64"
      ]
     },
     "metadata": {},
     "output_type": "display_data"
    },
    {
     "data": {
      "text/plain": [
       "subscription_type    0\n",
       "minute_price         0\n",
       "start_ride_price     0\n",
       "subscription_fee     0\n",
       "dtype: int64"
      ]
     },
     "metadata": {},
     "output_type": "display_data"
    }
   ],
   "source": [
    "dataframes = [users, rides, subscriptions]\n",
    "\n",
    "#проверим таблицы на предмет пропущенных значений\n",
    "for data in dataframes: \n",
    "    display(data.isna().sum())"
   ]
  },
  {
   "cell_type": "markdown",
   "id": "a24e1cd8",
   "metadata": {},
   "source": [
    "пропусков в таблицах не обнаружено"
   ]
  },
  {
   "cell_type": "markdown",
   "id": "2558db56",
   "metadata": {},
   "source": [
    "**Поиск явных дубликатов:**"
   ]
  },
  {
   "cell_type": "code",
   "execution_count": 16,
   "id": "f2b8a741",
   "metadata": {
    "scrolled": false
   },
   "outputs": [
    {
     "data": {
      "text/html": [
       "<div>\n",
       "<style scoped>\n",
       "    .dataframe tbody tr th:only-of-type {\n",
       "        vertical-align: middle;\n",
       "    }\n",
       "\n",
       "    .dataframe tbody tr th {\n",
       "        vertical-align: top;\n",
       "    }\n",
       "\n",
       "    .dataframe thead th {\n",
       "        text-align: right;\n",
       "    }\n",
       "</style>\n",
       "<table border=\"1\" class=\"dataframe\">\n",
       "  <thead>\n",
       "    <tr style=\"text-align: right;\">\n",
       "      <th></th>\n",
       "      <th>user_id</th>\n",
       "      <th>name</th>\n",
       "      <th>age</th>\n",
       "      <th>city</th>\n",
       "      <th>subscription_type</th>\n",
       "    </tr>\n",
       "  </thead>\n",
       "  <tbody>\n",
       "    <tr>\n",
       "      <th>0</th>\n",
       "      <td>1</td>\n",
       "      <td>Кира</td>\n",
       "      <td>22</td>\n",
       "      <td>Тюмень</td>\n",
       "      <td>ultra</td>\n",
       "    </tr>\n",
       "    <tr>\n",
       "      <th>1</th>\n",
       "      <td>2</td>\n",
       "      <td>Станислав</td>\n",
       "      <td>31</td>\n",
       "      <td>Омск</td>\n",
       "      <td>ultra</td>\n",
       "    </tr>\n",
       "    <tr>\n",
       "      <th>2</th>\n",
       "      <td>3</td>\n",
       "      <td>Алексей</td>\n",
       "      <td>20</td>\n",
       "      <td>Москва</td>\n",
       "      <td>ultra</td>\n",
       "    </tr>\n",
       "    <tr>\n",
       "      <th>3</th>\n",
       "      <td>4</td>\n",
       "      <td>Константин</td>\n",
       "      <td>26</td>\n",
       "      <td>Ростов-на-Дону</td>\n",
       "      <td>ultra</td>\n",
       "    </tr>\n",
       "    <tr>\n",
       "      <th>4</th>\n",
       "      <td>5</td>\n",
       "      <td>Адель</td>\n",
       "      <td>28</td>\n",
       "      <td>Омск</td>\n",
       "      <td>ultra</td>\n",
       "    </tr>\n",
       "  </tbody>\n",
       "</table>\n",
       "</div>"
      ],
      "text/plain": [
       "   user_id        name  age            city subscription_type\n",
       "0        1        Кира   22          Тюмень             ultra\n",
       "1        2   Станислав   31            Омск             ultra\n",
       "2        3     Алексей   20          Москва             ultra\n",
       "3        4  Константин   26  Ростов-на-Дону             ultra\n",
       "4        5       Адель   28            Омск             ultra"
      ]
     },
     "metadata": {},
     "output_type": "display_data"
    },
    {
     "data": {
      "text/plain": [
       "31"
      ]
     },
     "metadata": {},
     "output_type": "display_data"
    },
    {
     "data": {
      "text/html": [
       "<div>\n",
       "<style scoped>\n",
       "    .dataframe tbody tr th:only-of-type {\n",
       "        vertical-align: middle;\n",
       "    }\n",
       "\n",
       "    .dataframe tbody tr th {\n",
       "        vertical-align: top;\n",
       "    }\n",
       "\n",
       "    .dataframe thead th {\n",
       "        text-align: right;\n",
       "    }\n",
       "</style>\n",
       "<table border=\"1\" class=\"dataframe\">\n",
       "  <thead>\n",
       "    <tr style=\"text-align: right;\">\n",
       "      <th></th>\n",
       "      <th>user_id</th>\n",
       "      <th>distance</th>\n",
       "      <th>duration</th>\n",
       "      <th>date</th>\n",
       "      <th>month</th>\n",
       "    </tr>\n",
       "  </thead>\n",
       "  <tbody>\n",
       "    <tr>\n",
       "      <th>0</th>\n",
       "      <td>1</td>\n",
       "      <td>4,409.92</td>\n",
       "      <td>25.60</td>\n",
       "      <td>2021-01-01</td>\n",
       "      <td>1</td>\n",
       "    </tr>\n",
       "    <tr>\n",
       "      <th>1</th>\n",
       "      <td>1</td>\n",
       "      <td>2,617.59</td>\n",
       "      <td>15.82</td>\n",
       "      <td>2021-01-18</td>\n",
       "      <td>1</td>\n",
       "    </tr>\n",
       "    <tr>\n",
       "      <th>2</th>\n",
       "      <td>1</td>\n",
       "      <td>754.16</td>\n",
       "      <td>6.23</td>\n",
       "      <td>2021-04-20</td>\n",
       "      <td>4</td>\n",
       "    </tr>\n",
       "    <tr>\n",
       "      <th>3</th>\n",
       "      <td>1</td>\n",
       "      <td>2,694.78</td>\n",
       "      <td>18.51</td>\n",
       "      <td>2021-08-11</td>\n",
       "      <td>8</td>\n",
       "    </tr>\n",
       "    <tr>\n",
       "      <th>4</th>\n",
       "      <td>1</td>\n",
       "      <td>4,028.69</td>\n",
       "      <td>26.27</td>\n",
       "      <td>2021-08-28</td>\n",
       "      <td>8</td>\n",
       "    </tr>\n",
       "  </tbody>\n",
       "</table>\n",
       "</div>"
      ],
      "text/plain": [
       "   user_id  distance  duration       date  month\n",
       "0        1  4,409.92     25.60 2021-01-01      1\n",
       "1        1  2,617.59     15.82 2021-01-18      1\n",
       "2        1    754.16      6.23 2021-04-20      4\n",
       "3        1  2,694.78     18.51 2021-08-11      8\n",
       "4        1  4,028.69     26.27 2021-08-28      8"
      ]
     },
     "metadata": {},
     "output_type": "display_data"
    },
    {
     "data": {
      "text/plain": [
       "0"
      ]
     },
     "metadata": {},
     "output_type": "display_data"
    },
    {
     "data": {
      "text/html": [
       "<div>\n",
       "<style scoped>\n",
       "    .dataframe tbody tr th:only-of-type {\n",
       "        vertical-align: middle;\n",
       "    }\n",
       "\n",
       "    .dataframe tbody tr th {\n",
       "        vertical-align: top;\n",
       "    }\n",
       "\n",
       "    .dataframe thead th {\n",
       "        text-align: right;\n",
       "    }\n",
       "</style>\n",
       "<table border=\"1\" class=\"dataframe\">\n",
       "  <thead>\n",
       "    <tr style=\"text-align: right;\">\n",
       "      <th></th>\n",
       "      <th>subscription_type</th>\n",
       "      <th>minute_price</th>\n",
       "      <th>start_ride_price</th>\n",
       "      <th>subscription_fee</th>\n",
       "    </tr>\n",
       "  </thead>\n",
       "  <tbody>\n",
       "    <tr>\n",
       "      <th>0</th>\n",
       "      <td>free</td>\n",
       "      <td>8</td>\n",
       "      <td>50</td>\n",
       "      <td>0</td>\n",
       "    </tr>\n",
       "    <tr>\n",
       "      <th>1</th>\n",
       "      <td>ultra</td>\n",
       "      <td>6</td>\n",
       "      <td>0</td>\n",
       "      <td>199</td>\n",
       "    </tr>\n",
       "  </tbody>\n",
       "</table>\n",
       "</div>"
      ],
      "text/plain": [
       "  subscription_type  minute_price  start_ride_price  subscription_fee\n",
       "0              free             8                50                 0\n",
       "1             ultra             6                 0               199"
      ]
     },
     "metadata": {},
     "output_type": "display_data"
    },
    {
     "data": {
      "text/plain": [
       "0"
      ]
     },
     "metadata": {},
     "output_type": "display_data"
    }
   ],
   "source": [
    "dataframes = [users, rides, subscriptions]\n",
    "\n",
    "for data in dataframes:\n",
    "    display(data.head(5))\n",
    "    display(data.duplicated().sum())"
   ]
  },
  {
   "cell_type": "markdown",
   "id": "a7a7f1b4",
   "metadata": {},
   "source": [
    "в таблице (users) - обнаружен 31 явный дубликат"
   ]
  },
  {
   "cell_type": "code",
   "execution_count": 17,
   "id": "c9bd9680",
   "metadata": {},
   "outputs": [
    {
     "data": {
      "text/html": [
       "<div>\n",
       "<style scoped>\n",
       "    .dataframe tbody tr th:only-of-type {\n",
       "        vertical-align: middle;\n",
       "    }\n",
       "\n",
       "    .dataframe tbody tr th {\n",
       "        vertical-align: top;\n",
       "    }\n",
       "\n",
       "    .dataframe thead th {\n",
       "        text-align: right;\n",
       "    }\n",
       "</style>\n",
       "<table border=\"1\" class=\"dataframe\">\n",
       "  <thead>\n",
       "    <tr style=\"text-align: right;\">\n",
       "      <th></th>\n",
       "      <th>user_id</th>\n",
       "      <th>name</th>\n",
       "      <th>age</th>\n",
       "      <th>city</th>\n",
       "      <th>subscription_type</th>\n",
       "    </tr>\n",
       "  </thead>\n",
       "  <tbody>\n",
       "    <tr>\n",
       "      <th>1534</th>\n",
       "      <td>293</td>\n",
       "      <td>Агата</td>\n",
       "      <td>26</td>\n",
       "      <td>Краснодар</td>\n",
       "      <td>ultra</td>\n",
       "    </tr>\n",
       "    <tr>\n",
       "      <th>1535</th>\n",
       "      <td>16</td>\n",
       "      <td>Амалия</td>\n",
       "      <td>27</td>\n",
       "      <td>Краснодар</td>\n",
       "      <td>ultra</td>\n",
       "    </tr>\n",
       "    <tr>\n",
       "      <th>1536</th>\n",
       "      <td>909</td>\n",
       "      <td>Константин</td>\n",
       "      <td>20</td>\n",
       "      <td>Екатеринбург</td>\n",
       "      <td>free</td>\n",
       "    </tr>\n",
       "    <tr>\n",
       "      <th>1537</th>\n",
       "      <td>403</td>\n",
       "      <td>Полина</td>\n",
       "      <td>19</td>\n",
       "      <td>Сочи</td>\n",
       "      <td>ultra</td>\n",
       "    </tr>\n",
       "    <tr>\n",
       "      <th>1538</th>\n",
       "      <td>908</td>\n",
       "      <td>Рустам</td>\n",
       "      <td>30</td>\n",
       "      <td>Тюмень</td>\n",
       "      <td>free</td>\n",
       "    </tr>\n",
       "  </tbody>\n",
       "</table>\n",
       "</div>"
      ],
      "text/plain": [
       "      user_id        name  age          city subscription_type\n",
       "1534      293       Агата   26     Краснодар             ultra\n",
       "1535       16      Амалия   27     Краснодар             ultra\n",
       "1536      909  Константин   20  Екатеринбург              free\n",
       "1537      403      Полина   19          Сочи             ultra\n",
       "1538      908      Рустам   30        Тюмень              free"
      ]
     },
     "execution_count": 17,
     "metadata": {},
     "output_type": "execute_result"
    }
   ],
   "source": [
    "# выведем список явных дубликатов таблицы users\n",
    "duplicated_users = users[users.duplicated()] \n",
    "duplicated_users.head()"
   ]
  },
  {
   "cell_type": "code",
   "execution_count": 18,
   "id": "ec085287",
   "metadata": {},
   "outputs": [
    {
     "data": {
      "text/plain": [
       "1565"
      ]
     },
     "execution_count": 18,
     "metadata": {},
     "output_type": "execute_result"
    }
   ],
   "source": [
    "users.value_counts().sum()"
   ]
  },
  {
   "cell_type": "markdown",
   "id": "9f41a3e9",
   "metadata": {},
   "source": [
    "удалим из таблицы  users 31 явный дубликат."
   ]
  },
  {
   "cell_type": "code",
   "execution_count": 19,
   "id": "579ab002",
   "metadata": {},
   "outputs": [],
   "source": [
    "# удалим явные дубликаты и обновим индексацию, чтобы неосталось пропусков.\n",
    "users = users.drop_duplicates() "
   ]
  },
  {
   "cell_type": "code",
   "execution_count": 20,
   "id": "dfe15fdd",
   "metadata": {},
   "outputs": [
    {
     "data": {
      "text/html": [
       "<div>\n",
       "<style scoped>\n",
       "    .dataframe tbody tr th:only-of-type {\n",
       "        vertical-align: middle;\n",
       "    }\n",
       "\n",
       "    .dataframe tbody tr th {\n",
       "        vertical-align: top;\n",
       "    }\n",
       "\n",
       "    .dataframe thead th {\n",
       "        text-align: right;\n",
       "    }\n",
       "</style>\n",
       "<table border=\"1\" class=\"dataframe\">\n",
       "  <thead>\n",
       "    <tr style=\"text-align: right;\">\n",
       "      <th></th>\n",
       "      <th>user_id</th>\n",
       "      <th>name</th>\n",
       "      <th>age</th>\n",
       "      <th>city</th>\n",
       "      <th>subscription_type</th>\n",
       "    </tr>\n",
       "  </thead>\n",
       "  <tbody>\n",
       "  </tbody>\n",
       "</table>\n",
       "</div>"
      ],
      "text/plain": [
       "Empty DataFrame\n",
       "Columns: [user_id, name, age, city, subscription_type]\n",
       "Index: []"
      ]
     },
     "execution_count": 20,
     "metadata": {},
     "output_type": "execute_result"
    }
   ],
   "source": [
    "# выведем список явных дубликатов таблицы users\n",
    "duplicated_users = users[users.duplicated()]\n",
    "\n",
    "\n",
    "# Проверим результат удаления дубликатов:\n",
    "duplicated_users.head()"
   ]
  },
  {
   "cell_type": "code",
   "execution_count": 21,
   "id": "3a784dd1",
   "metadata": {
    "scrolled": true
   },
   "outputs": [
    {
     "data": {
      "text/plain": [
       "1534"
      ]
     },
     "execution_count": 21,
     "metadata": {},
     "output_type": "execute_result"
    }
   ],
   "source": [
    "# дубликаты удалены корректно.\n",
    "users.value_counts().sum() "
   ]
  },
  {
   "cell_type": "markdown",
   "id": "33950006",
   "metadata": {},
   "source": [
    "### Вывод:"
   ]
  },
  {
   "cell_type": "markdown",
   "id": "d9c0f183",
   "metadata": {},
   "source": [
    "На этапе предобработки данных мы проверили датасеты на предмет наличия пропущенных значений и явных дубликатов.\n",
    "\n",
    "    Пропущенных значений - не обнаружено \n",
    "    Явные дубликаты в количестве 31 шт. найдеты в датасете Users.\n",
    "    \n",
    "Методом drop_duplicates() произвели удаление явных дубликатов и перепроверили данные после удаления, выводом суммы колличества строк."
   ]
  },
  {
   "cell_type": "markdown",
   "id": "93c2ea37",
   "metadata": {},
   "source": [
    "## Исследовательский анализ данных"
   ]
  },
  {
   "cell_type": "markdown",
   "id": "6e891ef8",
   "metadata": {},
   "source": [
    "Опишем и визуализируем общую информацию о пользователях и поездках:"
   ]
  },
  {
   "cell_type": "markdown",
   "id": "f313ed86",
   "metadata": {},
   "source": [
    "### Частота встречаемости городов"
   ]
  },
  {
   "cell_type": "code",
   "execution_count": 22,
   "id": "74b3d8e5",
   "metadata": {},
   "outputs": [
    {
     "data": {
      "image/png": "[encoded data removed]",
      "text/plain": [
       "<Figure size 720x360 with 1 Axes>"
      ]
     },
     "metadata": {
      "needs_background": "light"
     },
     "output_type": "display_data"
    },
    {
     "data": {
      "text/plain": [
       "Пятигорск        14.00\n",
       "Екатеринбург     13.00\n",
       "Ростов-на-Дону   13.00\n",
       "Краснодар        13.00\n",
       "Сочи             12.00\n",
       "Омск             12.00\n",
       "Тюмень           12.00\n",
       "Москва           11.00\n",
       "Name: city, dtype: float64"
      ]
     },
     "execution_count": 22,
     "metadata": {},
     "output_type": "execute_result"
    }
   ],
   "source": [
    "users['city'].value_counts(ascending=True).plot(kind='barh',\n",
    "                                                title='Соотношение пользователей по городам',\n",
    "                                                figsize=(10,5),\n",
    "                                                grid=True\n",
    "                                               )\n",
    "plt.show()\n",
    "\n",
    "# Вывод процентного соотношения пользователей по городам.\n",
    "round(users['city'].value_counts(normalize=True)*100)  "
   ]
  },
  {
   "cell_type": "markdown",
   "id": "d078b201",
   "metadata": {},
   "source": [
    "**Вывод:**"
   ]
  },
  {
   "cell_type": "markdown",
   "id": "dd7182a0",
   "metadata": {},
   "source": [
    "Из круговой диаграммы видно, что пользователи равномерно распределены по городам в процентном соотношении от 11-14 %. больше всего уникальных пользователей в г. Пятигорск 14%, в г.Москва наименьшее число пользователей 11%. "
   ]
  },
  {
   "cell_type": "markdown",
   "id": "ac20672e",
   "metadata": {},
   "source": [
    " ### Cоотношение пользователей с подпиской и без подписки"
   ]
  },
  {
   "cell_type": "markdown",
   "id": "62c15e1f",
   "metadata": {},
   "source": [
    "Построим круговую гистограмму соотношения пользователей с подпиской и без. Возьмём данные из таблицы users колонки subscription_type"
   ]
  },
  {
   "cell_type": "code",
   "execution_count": 23,
   "id": "068d6f0e",
   "metadata": {},
   "outputs": [
    {
     "data": {
      "image/png": "[encoded data removed]",
      "text/plain": [
       "<Figure size 1080x504 with 1 Axes>"
      ]
     },
     "metadata": {},
     "output_type": "display_data"
    },
    {
     "data": {
      "text/plain": [
       "free     835\n",
       "ultra    699\n",
       "Name: subscription_type, dtype: int64"
      ]
     },
     "execution_count": 23,
     "metadata": {},
     "output_type": "execute_result"
    }
   ],
   "source": [
    "users['subscription_type'].value_counts().plot(\n",
    "    kind = 'pie',\n",
    "    wedgeprops = {'linewidth' : 5, 'edgecolor' : 'white'},\n",
    "    autopct = '%1.0f%%',\n",
    "    figsize=(15,7),\n",
    "    title = 'Соотношение пользователей с подпиской и без',\n",
    "    )\n",
    "plt.ylabel('')\n",
    "plt.show()\n",
    "\n",
    "users['subscription_type'].value_counts()"
   ]
  },
  {
   "cell_type": "markdown",
   "id": "d9dd98f6",
   "metadata": {},
   "source": [
    "**Вывод:**  Пользователей с подпиской меньше - 46% (719 человек). Без подписки - 54% (846 человек)."
   ]
  },
  {
   "cell_type": "markdown",
   "id": "be7cf4b4",
   "metadata": {},
   "source": [
    "### Возраст пользователей"
   ]
  },
  {
   "cell_type": "code",
   "execution_count": 24,
   "id": "d7c9be00",
   "metadata": {
    "scrolled": false
   },
   "outputs": [
    {
     "data": {
      "text/plain": [
       "count   1,534.00\n",
       "mean       24.90\n",
       "std         4.57\n",
       "min        12.00\n",
       "25%        22.00\n",
       "50%        25.00\n",
       "75%        28.00\n",
       "max        43.00\n",
       "Name: age, dtype: float64"
      ]
     },
     "execution_count": 24,
     "metadata": {},
     "output_type": "execute_result"
    },
    {
     "data": {
      "image/png": "[encoded data removed]",
      "text/plain": [
       "<Figure size 1080x288 with 1 Axes>"
      ]
     },
     "metadata": {
      "needs_background": "light"
     },
     "output_type": "display_data"
    }
   ],
   "source": [
    "# гистограмма распределения возраста\n",
    "fig, ax = plt.subplots()\n",
    "\n",
    "users.plot(kind='hist', \n",
    "           edgecolor='black',\n",
    "           y='age',\n",
    "           bins=15,\n",
    "           title='Распределение по возрасту',\n",
    "           figsize=(15, 4),\n",
    "           grid=True, \n",
    "           ax=ax)\n",
    "\n",
    "\n",
    "#  Добавляем подписи к осям:\n",
    "ax.set_xlabel('Возраст')\n",
    "ax.set_ylabel('Количество человек');\n",
    "\n",
    "# вывод описательной статистики:\n",
    "users['age'].describe()"
   ]
  },
  {
   "cell_type": "markdown",
   "id": "c622eb10",
   "metadata": {},
   "source": [
    "**Вывод:**"
   ]
  },
  {
   "cell_type": "markdown",
   "id": "183e9b54",
   "metadata": {},
   "source": [
    "Распределение по возрасту соответствует \"нормальному распределению\", средний возвраст составляет 25 лет. Возраст большинства пользователей распределен в диапазоне от 22 лет до 28. Минимальный возраст пользователя составляет 12 лет, а максимальный 43 года."
   ]
  },
  {
   "cell_type": "markdown",
   "id": "628e9621",
   "metadata": {},
   "source": [
    "### Расстояние, которое пользователь преодолел за одну поездку"
   ]
  },
  {
   "cell_type": "code",
   "execution_count": 25,
   "id": "3030a46c",
   "metadata": {
    "scrolled": true
   },
   "outputs": [
    {
     "data": {
      "text/plain": [
       "count   18,068.00\n",
       "mean     3,070.66\n",
       "std      1,116.83\n",
       "min          0.86\n",
       "25%      2,543.23\n",
       "50%      3,133.61\n",
       "75%      3,776.22\n",
       "max      7,211.01\n",
       "Name: distance, dtype: float64"
      ]
     },
     "execution_count": 25,
     "metadata": {},
     "output_type": "execute_result"
    },
    {
     "data": {
      "image/png": "[encoded data removed]",
      "text/plain": [
       "<Figure size 1080x288 with 1 Axes>"
      ]
     },
     "metadata": {
      "needs_background": "light"
     },
     "output_type": "display_data"
    }
   ],
   "source": [
    "# гистограмма распределения расстояния за одну поездку\n",
    "fig, ax = plt.subplots()\n",
    "\n",
    "rides.plot(kind='hist', \n",
    "           edgecolor='black',\n",
    "           y='distance',\n",
    "           bins=40,\n",
    "           title='Распределение по приодаленной дистанции',\n",
    "           figsize=(15, 4),\n",
    "           grid=True, \n",
    "           ax=ax)\n",
    "\n",
    "\n",
    "#  Добавляем подписи к осям:\n",
    "ax.set_xlabel('Расстояние')\n",
    "ax.set_ylabel('Количество поездок');\n",
    "\n",
    "# Вывод описательной статистики:\n",
    "rides['distance'].describe()"
   ]
  },
  {
   "cell_type": "code",
   "execution_count": 26,
   "id": "0553dd97",
   "metadata": {
    "scrolled": true
   },
   "outputs": [
    {
     "data": {
      "text/html": [
       "<div>\n",
       "<style scoped>\n",
       "    .dataframe tbody tr th:only-of-type {\n",
       "        vertical-align: middle;\n",
       "    }\n",
       "\n",
       "    .dataframe tbody tr th {\n",
       "        vertical-align: top;\n",
       "    }\n",
       "\n",
       "    .dataframe thead th {\n",
       "        text-align: right;\n",
       "    }\n",
       "</style>\n",
       "<table border=\"1\" class=\"dataframe\">\n",
       "  <thead>\n",
       "    <tr style=\"text-align: right;\">\n",
       "      <th></th>\n",
       "      <th>user_id</th>\n",
       "      <th>distance</th>\n",
       "      <th>duration</th>\n",
       "      <th>date</th>\n",
       "      <th>month</th>\n",
       "    </tr>\n",
       "  </thead>\n",
       "  <tbody>\n",
       "    <tr>\n",
       "      <th>0</th>\n",
       "      <td>1</td>\n",
       "      <td>4,409.92</td>\n",
       "      <td>25.60</td>\n",
       "      <td>2021-01-01</td>\n",
       "      <td>1</td>\n",
       "    </tr>\n",
       "    <tr>\n",
       "      <th>1</th>\n",
       "      <td>1</td>\n",
       "      <td>2,617.59</td>\n",
       "      <td>15.82</td>\n",
       "      <td>2021-01-18</td>\n",
       "      <td>1</td>\n",
       "    </tr>\n",
       "    <tr>\n",
       "      <th>2</th>\n",
       "      <td>1</td>\n",
       "      <td>754.16</td>\n",
       "      <td>6.23</td>\n",
       "      <td>2021-04-20</td>\n",
       "      <td>4</td>\n",
       "    </tr>\n",
       "    <tr>\n",
       "      <th>3</th>\n",
       "      <td>1</td>\n",
       "      <td>2,694.78</td>\n",
       "      <td>18.51</td>\n",
       "      <td>2021-08-11</td>\n",
       "      <td>8</td>\n",
       "    </tr>\n",
       "    <tr>\n",
       "      <th>4</th>\n",
       "      <td>1</td>\n",
       "      <td>4,028.69</td>\n",
       "      <td>26.27</td>\n",
       "      <td>2021-08-28</td>\n",
       "      <td>8</td>\n",
       "    </tr>\n",
       "  </tbody>\n",
       "</table>\n",
       "</div>"
      ],
      "text/plain": [
       "   user_id  distance  duration       date  month\n",
       "0        1  4,409.92     25.60 2021-01-01      1\n",
       "1        1  2,617.59     15.82 2021-01-18      1\n",
       "2        1    754.16      6.23 2021-04-20      4\n",
       "3        1  2,694.78     18.51 2021-08-11      8\n",
       "4        1  4,028.69     26.27 2021-08-28      8"
      ]
     },
     "execution_count": 26,
     "metadata": {},
     "output_type": "execute_result"
    }
   ],
   "source": [
    "rides.head()"
   ]
  },
  {
   "cell_type": "code",
   "execution_count": 27,
   "id": "a2c4ecef",
   "metadata": {},
   "outputs": [
    {
     "data": {
      "image/png": "[encoded data removed]",
      "text/plain": [
       "<Figure size 1080x288 with 1 Axes>"
      ]
     },
     "metadata": {
      "needs_background": "light"
     },
     "output_type": "display_data"
    }
   ],
   "source": [
    "fig, ax = plt.subplots()\n",
    "\n",
    "rides.plot(kind='hist', \n",
    "           edgecolor='black',\n",
    "           y='distance',\n",
    "           bins=100,\n",
    "           title='Распределение по временной сессии',\n",
    "           figsize=(15, 4),\n",
    "           grid=True, \n",
    "           ax=ax)\n",
    "\n",
    "\n",
    "#  Добавляем подписи к осям:\n",
    "ax.set_xlabel('Минуты')\n",
    "ax.set_ylabel('Количество поездок');\n",
    "plt.show()\n"
   ]
  },
  {
   "cell_type": "markdown",
   "id": "10b950f7",
   "metadata": {},
   "source": [
    "**Вывод:**"
   ]
  },
  {
   "cell_type": "markdown",
   "id": "363102d6",
   "metadata": {},
   "source": [
    "Расстояние которое совершают пользователи GoFast:\n",
    "\n",
    "    Медианное значение - 3133 м.\n",
    "    Максимальное - 7211 метров\n",
    "    Минимальное  - меньше 1 метра. (вероятнее всего у пользователя не получилось воспользоваться самокатом или ошибка приложения) \n",
    "\n",
    "На гистограмме видно два пиковых значения. пользователи, совершают короткие поездки, в среднем около 500 метров и те кто в среднем проезжает 3000 метров. Данные группы различаются по объему совершаемых поездок, больше тех, кто предпочитает передвигаться на относительно дальние расстояния. "
   ]
  },
  {
   "cell_type": "markdown",
   "id": "68b56e67",
   "metadata": {},
   "source": [
    "### Продолжительность поездок"
   ]
  },
  {
   "cell_type": "code",
   "execution_count": 28,
   "id": "65b980a9",
   "metadata": {},
   "outputs": [
    {
     "data": {
      "image/png": "[encoded data removed]",
      "text/plain": [
       "<Figure size 1080x288 with 1 Axes>"
      ]
     },
     "metadata": {
      "needs_background": "light"
     },
     "output_type": "display_data"
    }
   ],
   "source": [
    "# гистограмма распределения времени за одну поездку\n",
    "fig, ax = plt.subplots()\n",
    "\n",
    "rides.plot(kind='hist', \n",
    "           edgecolor='black',\n",
    "           y='duration',\n",
    "           bins=100,\n",
    "           title='Распределение по временной сессии',\n",
    "           figsize=(15, 4),\n",
    "           grid=True, \n",
    "           ax=ax)\n",
    "\n",
    "\n",
    "#  Добавляем подписи к осям:\n",
    "ax.set_xlabel('Минуты')\n",
    "ax.set_ylabel('Количество поездок');\n",
    "plt.show()\n",
    "\n"
   ]
  },
  {
   "cell_type": "markdown",
   "id": "74d69123",
   "metadata": {},
   "source": [
    "В связи с наличием аномального количества коротких поездок со временем около нуля минут. Изучим короткие поездки. "
   ]
  },
  {
   "cell_type": "code",
   "execution_count": 29,
   "id": "15cd9672",
   "metadata": {
    "scrolled": true
   },
   "outputs": [
    {
     "data": {
      "text/html": [
       "<div>\n",
       "<style scoped>\n",
       "    .dataframe tbody tr th:only-of-type {\n",
       "        vertical-align: middle;\n",
       "    }\n",
       "\n",
       "    .dataframe tbody tr th {\n",
       "        vertical-align: top;\n",
       "    }\n",
       "\n",
       "    .dataframe thead th {\n",
       "        text-align: right;\n",
       "    }\n",
       "</style>\n",
       "<table border=\"1\" class=\"dataframe\">\n",
       "  <thead>\n",
       "    <tr style=\"text-align: right;\">\n",
       "      <th></th>\n",
       "      <th>user_id</th>\n",
       "      <th>distance</th>\n",
       "      <th>duration</th>\n",
       "      <th>date</th>\n",
       "      <th>month</th>\n",
       "    </tr>\n",
       "  </thead>\n",
       "  <tbody>\n",
       "    <tr>\n",
       "      <th>6531</th>\n",
       "      <td>701</td>\n",
       "      <td>4,196.45</td>\n",
       "      <td>0.50</td>\n",
       "      <td>2021-08-31</td>\n",
       "      <td>8</td>\n",
       "    </tr>\n",
       "    <tr>\n",
       "      <th>6570</th>\n",
       "      <td>704</td>\n",
       "      <td>4,830.82</td>\n",
       "      <td>0.50</td>\n",
       "      <td>2021-10-14</td>\n",
       "      <td>10</td>\n",
       "    </tr>\n",
       "    <tr>\n",
       "      <th>6680</th>\n",
       "      <td>712</td>\n",
       "      <td>4,684.00</td>\n",
       "      <td>0.50</td>\n",
       "      <td>2021-03-04</td>\n",
       "      <td>3</td>\n",
       "    </tr>\n",
       "    <tr>\n",
       "      <th>6695</th>\n",
       "      <td>713</td>\n",
       "      <td>5,215.64</td>\n",
       "      <td>0.50</td>\n",
       "      <td>2021-02-25</td>\n",
       "      <td>2</td>\n",
       "    </tr>\n",
       "    <tr>\n",
       "      <th>6768</th>\n",
       "      <td>718</td>\n",
       "      <td>5,197.44</td>\n",
       "      <td>0.50</td>\n",
       "      <td>2021-02-11</td>\n",
       "      <td>2</td>\n",
       "    </tr>\n",
       "    <tr>\n",
       "      <th>...</th>\n",
       "      <td>...</td>\n",
       "      <td>...</td>\n",
       "      <td>...</td>\n",
       "      <td>...</td>\n",
       "      <td>...</td>\n",
       "    </tr>\n",
       "    <tr>\n",
       "      <th>17004</th>\n",
       "      <td>1460</td>\n",
       "      <td>5,531.34</td>\n",
       "      <td>0.50</td>\n",
       "      <td>2021-01-19</td>\n",
       "      <td>1</td>\n",
       "    </tr>\n",
       "    <tr>\n",
       "      <th>17242</th>\n",
       "      <td>1477</td>\n",
       "      <td>6,724.93</td>\n",
       "      <td>0.50</td>\n",
       "      <td>2021-01-12</td>\n",
       "      <td>1</td>\n",
       "    </tr>\n",
       "    <tr>\n",
       "      <th>17314</th>\n",
       "      <td>1483</td>\n",
       "      <td>4,445.48</td>\n",
       "      <td>0.50</td>\n",
       "      <td>2021-03-06</td>\n",
       "      <td>3</td>\n",
       "    </tr>\n",
       "    <tr>\n",
       "      <th>17505</th>\n",
       "      <td>1496</td>\n",
       "      <td>5,722.55</td>\n",
       "      <td>0.50</td>\n",
       "      <td>2021-02-14</td>\n",
       "      <td>2</td>\n",
       "    </tr>\n",
       "    <tr>\n",
       "      <th>17909</th>\n",
       "      <td>1524</td>\n",
       "      <td>4,104.00</td>\n",
       "      <td>0.50</td>\n",
       "      <td>2021-06-18</td>\n",
       "      <td>6</td>\n",
       "    </tr>\n",
       "  </tbody>\n",
       "</table>\n",
       "<p>95 rows × 5 columns</p>\n",
       "</div>"
      ],
      "text/plain": [
       "       user_id  distance  duration       date  month\n",
       "6531       701  4,196.45      0.50 2021-08-31      8\n",
       "6570       704  4,830.82      0.50 2021-10-14     10\n",
       "6680       712  4,684.00      0.50 2021-03-04      3\n",
       "6695       713  5,215.64      0.50 2021-02-25      2\n",
       "6768       718  5,197.44      0.50 2021-02-11      2\n",
       "...        ...       ...       ...        ...    ...\n",
       "17004     1460  5,531.34      0.50 2021-01-19      1\n",
       "17242     1477  6,724.93      0.50 2021-01-12      1\n",
       "17314     1483  4,445.48      0.50 2021-03-06      3\n",
       "17505     1496  5,722.55      0.50 2021-02-14      2\n",
       "17909     1524  4,104.00      0.50 2021-06-18      6\n",
       "\n",
       "[95 rows x 5 columns]"
      ]
     },
     "execution_count": 29,
     "metadata": {},
     "output_type": "execute_result"
    }
   ],
   "source": [
    "# фильтрация коротких поездок:\n",
    "rides_anomaly = rides.query('duration < 0.6')\n",
    "rides_anomaly"
   ]
  },
  {
   "cell_type": "code",
   "execution_count": 30,
   "id": "225eda79",
   "metadata": {
    "scrolled": false
   },
   "outputs": [
    {
     "data": {
      "text/html": [
       "<div>\n",
       "<style scoped>\n",
       "    .dataframe tbody tr th:only-of-type {\n",
       "        vertical-align: middle;\n",
       "    }\n",
       "\n",
       "    .dataframe tbody tr th {\n",
       "        vertical-align: top;\n",
       "    }\n",
       "\n",
       "    .dataframe thead th {\n",
       "        text-align: right;\n",
       "    }\n",
       "</style>\n",
       "<table border=\"1\" class=\"dataframe\">\n",
       "  <thead>\n",
       "    <tr style=\"text-align: right;\">\n",
       "      <th></th>\n",
       "      <th>user_id</th>\n",
       "      <th>distance</th>\n",
       "      <th>duration</th>\n",
       "      <th>month</th>\n",
       "    </tr>\n",
       "  </thead>\n",
       "  <tbody>\n",
       "    <tr>\n",
       "      <th>user_id</th>\n",
       "      <td>1.00</td>\n",
       "      <td>0.09</td>\n",
       "      <td>NaN</td>\n",
       "      <td>-0.02</td>\n",
       "    </tr>\n",
       "    <tr>\n",
       "      <th>distance</th>\n",
       "      <td>0.09</td>\n",
       "      <td>1.00</td>\n",
       "      <td>NaN</td>\n",
       "      <td>-0.06</td>\n",
       "    </tr>\n",
       "    <tr>\n",
       "      <th>duration</th>\n",
       "      <td>NaN</td>\n",
       "      <td>NaN</td>\n",
       "      <td>NaN</td>\n",
       "      <td>NaN</td>\n",
       "    </tr>\n",
       "    <tr>\n",
       "      <th>month</th>\n",
       "      <td>-0.02</td>\n",
       "      <td>-0.06</td>\n",
       "      <td>NaN</td>\n",
       "      <td>1.00</td>\n",
       "    </tr>\n",
       "  </tbody>\n",
       "</table>\n",
       "</div>"
      ],
      "text/plain": [
       "          user_id  distance  duration  month\n",
       "user_id      1.00      0.09       NaN  -0.02\n",
       "distance     0.09      1.00       NaN  -0.06\n",
       "duration      NaN       NaN       NaN    NaN\n",
       "month       -0.02     -0.06       NaN   1.00"
      ]
     },
     "execution_count": 30,
     "metadata": {},
     "output_type": "execute_result"
    }
   ],
   "source": [
    "# посмотрим как данные корелируют между собой\n",
    "rides_anomaly.corr()"
   ]
  },
  {
   "cell_type": "markdown",
   "id": "5422d8a9",
   "metadata": {},
   "source": [
    "Мы отфильтровали короткие поездки и нашли причину аномального пика. Аномалия в том, что 95 поездок были совершены за 30 секунд(duration=0.5).\n",
    "Методом corr() мы изучили аномальные поездки и не обнаружили никакой зависимости между данными. Вероятнее всего ошибка в фиксации времени связана с ошибкой при выгрузке , повереждением файла или человеческим фактором.\n",
    "\n",
    "Данные строки можно : \n",
    "1. удалить - т.к. выборка не велика и она не повлияет на дальнейшее исследование.\n",
    "2. оставить как есть, т.к. в остальных колонках данные соответсвтуют нормальным.\n",
    "\n"
   ]
  },
  {
   "cell_type": "code",
   "execution_count": 31,
   "id": "0a5f4266",
   "metadata": {
    "scrolled": true
   },
   "outputs": [
    {
     "data": {
      "text/plain": [
       "user_id     17973\n",
       "distance    17973\n",
       "duration    17973\n",
       "date        17973\n",
       "month       17973\n",
       "dtype: int64"
      ]
     },
     "execution_count": 31,
     "metadata": {},
     "output_type": "execute_result"
    }
   ],
   "source": [
    "# удалим строки где duration < 0.6\n",
    "rides = rides.query('duration > 0.6') \n",
    "rides.count()"
   ]
  },
  {
   "cell_type": "markdown",
   "id": "e24b11f8",
   "metadata": {},
   "source": [
    "Удалили сроки с аномальными значениям, теперь выведем гистрограмму повторно:"
   ]
  },
  {
   "cell_type": "code",
   "execution_count": 32,
   "id": "dac200ba",
   "metadata": {},
   "outputs": [
    {
     "data": {
      "image/png": "[encoded data removed]",
      "text/plain": [
       "<Figure size 1080x288 with 1 Axes>"
      ]
     },
     "metadata": {
      "needs_background": "light"
     },
     "output_type": "display_data"
    },
    {
     "data": {
      "text/html": [
       "<div>\n",
       "<style scoped>\n",
       "    .dataframe tbody tr th:only-of-type {\n",
       "        vertical-align: middle;\n",
       "    }\n",
       "\n",
       "    .dataframe tbody tr th {\n",
       "        vertical-align: top;\n",
       "    }\n",
       "\n",
       "    .dataframe thead th {\n",
       "        text-align: right;\n",
       "    }\n",
       "</style>\n",
       "<table border=\"1\" class=\"dataframe\">\n",
       "  <thead>\n",
       "    <tr style=\"text-align: right;\">\n",
       "      <th></th>\n",
       "      <th>user_id</th>\n",
       "      <th>distance</th>\n",
       "      <th>duration</th>\n",
       "      <th>month</th>\n",
       "    </tr>\n",
       "  </thead>\n",
       "  <tbody>\n",
       "    <tr>\n",
       "      <th>count</th>\n",
       "      <td>17,973.00</td>\n",
       "      <td>17,973.00</td>\n",
       "      <td>17,973.00</td>\n",
       "      <td>17,973.00</td>\n",
       "    </tr>\n",
       "    <tr>\n",
       "      <th>mean</th>\n",
       "      <td>841.55</td>\n",
       "      <td>3,059.86</td>\n",
       "      <td>17.90</td>\n",
       "      <td>6.49</td>\n",
       "    </tr>\n",
       "    <tr>\n",
       "      <th>std</th>\n",
       "      <td>435.14</td>\n",
       "      <td>1,108.81</td>\n",
       "      <td>5.98</td>\n",
       "      <td>3.44</td>\n",
       "    </tr>\n",
       "    <tr>\n",
       "      <th>min</th>\n",
       "      <td>1.00</td>\n",
       "      <td>0.86</td>\n",
       "      <td>2.04</td>\n",
       "      <td>1.00</td>\n",
       "    </tr>\n",
       "    <tr>\n",
       "      <th>25%</th>\n",
       "      <td>484.00</td>\n",
       "      <td>2,538.84</td>\n",
       "      <td>13.67</td>\n",
       "      <td>4.00</td>\n",
       "    </tr>\n",
       "    <tr>\n",
       "      <th>50%</th>\n",
       "      <td>887.00</td>\n",
       "      <td>3,129.03</td>\n",
       "      <td>17.71</td>\n",
       "      <td>6.00</td>\n",
       "    </tr>\n",
       "    <tr>\n",
       "      <th>75%</th>\n",
       "      <td>1,213.00</td>\n",
       "      <td>3,762.64</td>\n",
       "      <td>21.75</td>\n",
       "      <td>9.00</td>\n",
       "    </tr>\n",
       "    <tr>\n",
       "      <th>max</th>\n",
       "      <td>1,534.00</td>\n",
       "      <td>7,066.00</td>\n",
       "      <td>40.82</td>\n",
       "      <td>12.00</td>\n",
       "    </tr>\n",
       "  </tbody>\n",
       "</table>\n",
       "</div>"
      ],
      "text/plain": [
       "        user_id  distance  duration     month\n",
       "count 17,973.00 17,973.00 17,973.00 17,973.00\n",
       "mean     841.55  3,059.86     17.90      6.49\n",
       "std      435.14  1,108.81      5.98      3.44\n",
       "min        1.00      0.86      2.04      1.00\n",
       "25%      484.00  2,538.84     13.67      4.00\n",
       "50%      887.00  3,129.03     17.71      6.00\n",
       "75%    1,213.00  3,762.64     21.75      9.00\n",
       "max    1,534.00  7,066.00     40.82     12.00"
      ]
     },
     "execution_count": 32,
     "metadata": {},
     "output_type": "execute_result"
    }
   ],
   "source": [
    "# гистограмма распределения времени за одну поездку\n",
    "fig, ax = plt.subplots()\n",
    "\n",
    "rides.plot(kind='hist', \n",
    "           edgecolor='black',\n",
    "           y='duration',\n",
    "           bins=100,\n",
    "           title='Распределение по временной сессии',\n",
    "           figsize=(15, 4),\n",
    "           grid=True, \n",
    "           ax=ax)\n",
    "\n",
    "\n",
    "#  Добавляем подписи к осям:\n",
    "ax.set_xlabel('Минуты')\n",
    "ax.set_ylabel('Количество поездок');\n",
    "plt.show()\n",
    "\n",
    "rides.describe()"
   ]
  },
  {
   "cell_type": "markdown",
   "id": "c5cbaaf8",
   "metadata": {},
   "source": [
    "**Вывод:** \n",
    "В столбце duration присутствовали аномальные значения в количестве 95 шт. учитывая что количество таких значение не велико и не повлияет на дальнейшее исследование, принято решение удалить их. \n",
    "\n",
    "Данные имеют нормальное распределение. \n",
    "    Среднее время поездок примерно равно 18 минут\n",
    "    минимальное время - 2 минуты \n",
    "    максимальное время - 40 минут\n",
    "    \n",
    " Чаще всего пользователи берут самокат на время от 13 минут до 21 минуты.\n",
    " "
   ]
  },
  {
   "cell_type": "markdown",
   "id": "14049893",
   "metadata": {},
   "source": [
    "## Объединение данных"
   ]
  },
  {
   "cell_type": "markdown",
   "id": "e169e537",
   "metadata": {},
   "source": [
    "Объединим данные о пользователях, поездках и подписках в один датафрейм. Для этого воспользуйтесь методом merge()"
   ]
  },
  {
   "cell_type": "code",
   "execution_count": 33,
   "id": "f230c0ff",
   "metadata": {
    "scrolled": true
   },
   "outputs": [
    {
     "data": {
      "text/html": [
       "<div>\n",
       "<style scoped>\n",
       "    .dataframe tbody tr th:only-of-type {\n",
       "        vertical-align: middle;\n",
       "    }\n",
       "\n",
       "    .dataframe tbody tr th {\n",
       "        vertical-align: top;\n",
       "    }\n",
       "\n",
       "    .dataframe thead th {\n",
       "        text-align: right;\n",
       "    }\n",
       "</style>\n",
       "<table border=\"1\" class=\"dataframe\">\n",
       "  <thead>\n",
       "    <tr style=\"text-align: right;\">\n",
       "      <th></th>\n",
       "      <th>user_id</th>\n",
       "      <th>name</th>\n",
       "      <th>age</th>\n",
       "      <th>city</th>\n",
       "      <th>subscription_type</th>\n",
       "      <th>distance</th>\n",
       "      <th>duration</th>\n",
       "      <th>date</th>\n",
       "      <th>month</th>\n",
       "    </tr>\n",
       "  </thead>\n",
       "  <tbody>\n",
       "    <tr>\n",
       "      <th>0</th>\n",
       "      <td>1</td>\n",
       "      <td>Кира</td>\n",
       "      <td>22</td>\n",
       "      <td>Тюмень</td>\n",
       "      <td>ultra</td>\n",
       "      <td>4,409.92</td>\n",
       "      <td>25.60</td>\n",
       "      <td>2021-01-01</td>\n",
       "      <td>1</td>\n",
       "    </tr>\n",
       "    <tr>\n",
       "      <th>1</th>\n",
       "      <td>1</td>\n",
       "      <td>Кира</td>\n",
       "      <td>22</td>\n",
       "      <td>Тюмень</td>\n",
       "      <td>ultra</td>\n",
       "      <td>2,617.59</td>\n",
       "      <td>15.82</td>\n",
       "      <td>2021-01-18</td>\n",
       "      <td>1</td>\n",
       "    </tr>\n",
       "    <tr>\n",
       "      <th>2</th>\n",
       "      <td>1</td>\n",
       "      <td>Кира</td>\n",
       "      <td>22</td>\n",
       "      <td>Тюмень</td>\n",
       "      <td>ultra</td>\n",
       "      <td>754.16</td>\n",
       "      <td>6.23</td>\n",
       "      <td>2021-04-20</td>\n",
       "      <td>4</td>\n",
       "    </tr>\n",
       "    <tr>\n",
       "      <th>3</th>\n",
       "      <td>1</td>\n",
       "      <td>Кира</td>\n",
       "      <td>22</td>\n",
       "      <td>Тюмень</td>\n",
       "      <td>ultra</td>\n",
       "      <td>2,694.78</td>\n",
       "      <td>18.51</td>\n",
       "      <td>2021-08-11</td>\n",
       "      <td>8</td>\n",
       "    </tr>\n",
       "    <tr>\n",
       "      <th>4</th>\n",
       "      <td>1</td>\n",
       "      <td>Кира</td>\n",
       "      <td>22</td>\n",
       "      <td>Тюмень</td>\n",
       "      <td>ultra</td>\n",
       "      <td>4,028.69</td>\n",
       "      <td>26.27</td>\n",
       "      <td>2021-08-28</td>\n",
       "      <td>8</td>\n",
       "    </tr>\n",
       "    <tr>\n",
       "      <th>...</th>\n",
       "      <td>...</td>\n",
       "      <td>...</td>\n",
       "      <td>...</td>\n",
       "      <td>...</td>\n",
       "      <td>...</td>\n",
       "      <td>...</td>\n",
       "      <td>...</td>\n",
       "      <td>...</td>\n",
       "      <td>...</td>\n",
       "    </tr>\n",
       "    <tr>\n",
       "      <th>17968</th>\n",
       "      <td>1534</td>\n",
       "      <td>Альберт</td>\n",
       "      <td>25</td>\n",
       "      <td>Краснодар</td>\n",
       "      <td>free</td>\n",
       "      <td>3,781.10</td>\n",
       "      <td>19.82</td>\n",
       "      <td>2021-11-04</td>\n",
       "      <td>11</td>\n",
       "    </tr>\n",
       "    <tr>\n",
       "      <th>17969</th>\n",
       "      <td>1534</td>\n",
       "      <td>Альберт</td>\n",
       "      <td>25</td>\n",
       "      <td>Краснодар</td>\n",
       "      <td>free</td>\n",
       "      <td>2,840.42</td>\n",
       "      <td>21.41</td>\n",
       "      <td>2021-11-16</td>\n",
       "      <td>11</td>\n",
       "    </tr>\n",
       "    <tr>\n",
       "      <th>17970</th>\n",
       "      <td>1534</td>\n",
       "      <td>Альберт</td>\n",
       "      <td>25</td>\n",
       "      <td>Краснодар</td>\n",
       "      <td>free</td>\n",
       "      <td>3,826.19</td>\n",
       "      <td>18.44</td>\n",
       "      <td>2021-11-18</td>\n",
       "      <td>11</td>\n",
       "    </tr>\n",
       "    <tr>\n",
       "      <th>17971</th>\n",
       "      <td>1534</td>\n",
       "      <td>Альберт</td>\n",
       "      <td>25</td>\n",
       "      <td>Краснодар</td>\n",
       "      <td>free</td>\n",
       "      <td>2,902.31</td>\n",
       "      <td>16.67</td>\n",
       "      <td>2021-11-27</td>\n",
       "      <td>11</td>\n",
       "    </tr>\n",
       "    <tr>\n",
       "      <th>17972</th>\n",
       "      <td>1534</td>\n",
       "      <td>Альберт</td>\n",
       "      <td>25</td>\n",
       "      <td>Краснодар</td>\n",
       "      <td>free</td>\n",
       "      <td>2,371.71</td>\n",
       "      <td>15.89</td>\n",
       "      <td>2021-12-29</td>\n",
       "      <td>12</td>\n",
       "    </tr>\n",
       "  </tbody>\n",
       "</table>\n",
       "<p>17973 rows × 9 columns</p>\n",
       "</div>"
      ],
      "text/plain": [
       "       user_id     name  age       city subscription_type  distance  duration  \\\n",
       "0            1     Кира   22     Тюмень             ultra  4,409.92     25.60   \n",
       "1            1     Кира   22     Тюмень             ultra  2,617.59     15.82   \n",
       "2            1     Кира   22     Тюмень             ultra    754.16      6.23   \n",
       "3            1     Кира   22     Тюмень             ultra  2,694.78     18.51   \n",
       "4            1     Кира   22     Тюмень             ultra  4,028.69     26.27   \n",
       "...        ...      ...  ...        ...               ...       ...       ...   \n",
       "17968     1534  Альберт   25  Краснодар              free  3,781.10     19.82   \n",
       "17969     1534  Альберт   25  Краснодар              free  2,840.42     21.41   \n",
       "17970     1534  Альберт   25  Краснодар              free  3,826.19     18.44   \n",
       "17971     1534  Альберт   25  Краснодар              free  2,902.31     16.67   \n",
       "17972     1534  Альберт   25  Краснодар              free  2,371.71     15.89   \n",
       "\n",
       "            date  month  \n",
       "0     2021-01-01      1  \n",
       "1     2021-01-18      1  \n",
       "2     2021-04-20      4  \n",
       "3     2021-08-11      8  \n",
       "4     2021-08-28      8  \n",
       "...          ...    ...  \n",
       "17968 2021-11-04     11  \n",
       "17969 2021-11-16     11  \n",
       "17970 2021-11-18     11  \n",
       "17971 2021-11-27     11  \n",
       "17972 2021-12-29     12  \n",
       "\n",
       "[17973 rows x 9 columns]"
      ]
     },
     "execution_count": 33,
     "metadata": {},
     "output_type": "execute_result"
    }
   ],
   "source": [
    "# Методом merge() объединим две таблицы.\n",
    "new_data = users.merge(rides, on='user_id') \n",
    "new_data"
   ]
  },
  {
   "cell_type": "markdown",
   "id": "b8a3442f",
   "metadata": {},
   "source": [
    "В новую таблицу new_data дабавим данные о тарифах из таблицы subscriptions: \n"
   ]
  },
  {
   "cell_type": "code",
   "execution_count": 34,
   "id": "44c7098f",
   "metadata": {},
   "outputs": [
    {
     "data": {
      "text/html": [
       "<div>\n",
       "<style scoped>\n",
       "    .dataframe tbody tr th:only-of-type {\n",
       "        vertical-align: middle;\n",
       "    }\n",
       "\n",
       "    .dataframe tbody tr th {\n",
       "        vertical-align: top;\n",
       "    }\n",
       "\n",
       "    .dataframe thead th {\n",
       "        text-align: right;\n",
       "    }\n",
       "</style>\n",
       "<table border=\"1\" class=\"dataframe\">\n",
       "  <thead>\n",
       "    <tr style=\"text-align: right;\">\n",
       "      <th></th>\n",
       "      <th>subscription_type</th>\n",
       "      <th>minute_price</th>\n",
       "      <th>start_ride_price</th>\n",
       "      <th>subscription_fee</th>\n",
       "    </tr>\n",
       "  </thead>\n",
       "  <tbody>\n",
       "    <tr>\n",
       "      <th>0</th>\n",
       "      <td>free</td>\n",
       "      <td>8</td>\n",
       "      <td>50</td>\n",
       "      <td>0</td>\n",
       "    </tr>\n",
       "    <tr>\n",
       "      <th>1</th>\n",
       "      <td>ultra</td>\n",
       "      <td>6</td>\n",
       "      <td>0</td>\n",
       "      <td>199</td>\n",
       "    </tr>\n",
       "  </tbody>\n",
       "</table>\n",
       "</div>"
      ],
      "text/plain": [
       "  subscription_type  minute_price  start_ride_price  subscription_fee\n",
       "0              free             8                50                 0\n",
       "1             ultra             6                 0               199"
      ]
     },
     "execution_count": 34,
     "metadata": {},
     "output_type": "execute_result"
    }
   ],
   "source": [
    "subscriptions.head()"
   ]
  },
  {
   "cell_type": "code",
   "execution_count": 35,
   "id": "8baefbc1",
   "metadata": {
    "scrolled": true
   },
   "outputs": [
    {
     "data": {
      "text/html": [
       "<div>\n",
       "<style scoped>\n",
       "    .dataframe tbody tr th:only-of-type {\n",
       "        vertical-align: middle;\n",
       "    }\n",
       "\n",
       "    .dataframe tbody tr th {\n",
       "        vertical-align: top;\n",
       "    }\n",
       "\n",
       "    .dataframe thead th {\n",
       "        text-align: right;\n",
       "    }\n",
       "</style>\n",
       "<table border=\"1\" class=\"dataframe\">\n",
       "  <thead>\n",
       "    <tr style=\"text-align: right;\">\n",
       "      <th></th>\n",
       "      <th>user_id</th>\n",
       "      <th>name</th>\n",
       "      <th>age</th>\n",
       "      <th>city</th>\n",
       "      <th>subscription_type</th>\n",
       "      <th>distance</th>\n",
       "      <th>duration</th>\n",
       "      <th>date</th>\n",
       "      <th>month</th>\n",
       "      <th>minute_price</th>\n",
       "      <th>start_ride_price</th>\n",
       "      <th>subscription_fee</th>\n",
       "    </tr>\n",
       "  </thead>\n",
       "  <tbody>\n",
       "    <tr>\n",
       "      <th>0</th>\n",
       "      <td>1</td>\n",
       "      <td>Кира</td>\n",
       "      <td>22</td>\n",
       "      <td>Тюмень</td>\n",
       "      <td>ultra</td>\n",
       "      <td>4,409.92</td>\n",
       "      <td>25.60</td>\n",
       "      <td>2021-01-01</td>\n",
       "      <td>1</td>\n",
       "      <td>6</td>\n",
       "      <td>0</td>\n",
       "      <td>199</td>\n",
       "    </tr>\n",
       "    <tr>\n",
       "      <th>1</th>\n",
       "      <td>1</td>\n",
       "      <td>Кира</td>\n",
       "      <td>22</td>\n",
       "      <td>Тюмень</td>\n",
       "      <td>ultra</td>\n",
       "      <td>2,617.59</td>\n",
       "      <td>15.82</td>\n",
       "      <td>2021-01-18</td>\n",
       "      <td>1</td>\n",
       "      <td>6</td>\n",
       "      <td>0</td>\n",
       "      <td>199</td>\n",
       "    </tr>\n",
       "    <tr>\n",
       "      <th>2</th>\n",
       "      <td>1</td>\n",
       "      <td>Кира</td>\n",
       "      <td>22</td>\n",
       "      <td>Тюмень</td>\n",
       "      <td>ultra</td>\n",
       "      <td>754.16</td>\n",
       "      <td>6.23</td>\n",
       "      <td>2021-04-20</td>\n",
       "      <td>4</td>\n",
       "      <td>6</td>\n",
       "      <td>0</td>\n",
       "      <td>199</td>\n",
       "    </tr>\n",
       "    <tr>\n",
       "      <th>3</th>\n",
       "      <td>1</td>\n",
       "      <td>Кира</td>\n",
       "      <td>22</td>\n",
       "      <td>Тюмень</td>\n",
       "      <td>ultra</td>\n",
       "      <td>2,694.78</td>\n",
       "      <td>18.51</td>\n",
       "      <td>2021-08-11</td>\n",
       "      <td>8</td>\n",
       "      <td>6</td>\n",
       "      <td>0</td>\n",
       "      <td>199</td>\n",
       "    </tr>\n",
       "    <tr>\n",
       "      <th>4</th>\n",
       "      <td>1</td>\n",
       "      <td>Кира</td>\n",
       "      <td>22</td>\n",
       "      <td>Тюмень</td>\n",
       "      <td>ultra</td>\n",
       "      <td>4,028.69</td>\n",
       "      <td>26.27</td>\n",
       "      <td>2021-08-28</td>\n",
       "      <td>8</td>\n",
       "      <td>6</td>\n",
       "      <td>0</td>\n",
       "      <td>199</td>\n",
       "    </tr>\n",
       "  </tbody>\n",
       "</table>\n",
       "</div>"
      ],
      "text/plain": [
       "   user_id  name  age    city subscription_type  distance  duration  \\\n",
       "0        1  Кира   22  Тюмень             ultra  4,409.92     25.60   \n",
       "1        1  Кира   22  Тюмень             ultra  2,617.59     15.82   \n",
       "2        1  Кира   22  Тюмень             ultra    754.16      6.23   \n",
       "3        1  Кира   22  Тюмень             ultra  2,694.78     18.51   \n",
       "4        1  Кира   22  Тюмень             ultra  4,028.69     26.27   \n",
       "\n",
       "        date  month  minute_price  start_ride_price  subscription_fee  \n",
       "0 2021-01-01      1             6                 0               199  \n",
       "1 2021-01-18      1             6                 0               199  \n",
       "2 2021-04-20      4             6                 0               199  \n",
       "3 2021-08-11      8             6                 0               199  \n",
       "4 2021-08-28      8             6                 0               199  "
      ]
     },
     "execution_count": 35,
     "metadata": {},
     "output_type": "execute_result"
    }
   ],
   "source": [
    "new_data = new_data.merge(subscriptions, on='subscription_type') #Методом merge() объединим две таблицы.\n",
    "new_data.head()"
   ]
  },
  {
   "cell_type": "code",
   "execution_count": 36,
   "id": "40815996",
   "metadata": {
    "scrolled": true
   },
   "outputs": [
    {
     "data": {
      "text/plain": [
       "0"
      ]
     },
     "execution_count": 36,
     "metadata": {},
     "output_type": "execute_result"
    }
   ],
   "source": [
    "new_data.duplicated().sum() # Дубликаты отсутствуют "
   ]
  },
  {
   "cell_type": "code",
   "execution_count": 37,
   "id": "209adbb8",
   "metadata": {},
   "outputs": [
    {
     "data": {
      "text/plain": [
       "user_id              0\n",
       "name                 0\n",
       "age                  0\n",
       "city                 0\n",
       "subscription_type    0\n",
       "distance             0\n",
       "duration             0\n",
       "date                 0\n",
       "month                0\n",
       "minute_price         0\n",
       "start_ride_price     0\n",
       "subscription_fee     0\n",
       "dtype: int64"
      ]
     },
     "execution_count": 37,
     "metadata": {},
     "output_type": "execute_result"
    }
   ],
   "source": [
    "new_data.isna().sum() # пропусков нет."
   ]
  },
  {
   "cell_type": "markdown",
   "id": "9cb5731d",
   "metadata": {
    "scrolled": true
   },
   "source": [
    "Создадим два датафрейма из датафрейма *new_data*, созданного на этапе № 4:\n",
    "\n",
    "    c данными о пользователях без подписки;\n",
    "\n",
    "    с данными о пользователях с подпиской."
   ]
  },
  {
   "cell_type": "code",
   "execution_count": 38,
   "id": "274c2105",
   "metadata": {},
   "outputs": [],
   "source": [
    "#создадим еще два датасета из датафрейма созданного на 4 Этапе:\n",
    "\n",
    "# c данными о пользователях без подписки\n",
    "no_subscription = new_data.query('subscription_type==\"free\"')\n",
    "\n",
    "# с данными о пользователях с подпиской\n",
    "yes_subscription = new_data.query('subscription_type==\"ultra\"')"
   ]
  },
  {
   "cell_type": "code",
   "execution_count": 39,
   "id": "1f6e5baa",
   "metadata": {},
   "outputs": [
    {
     "data": {
      "text/html": [
       "<div>\n",
       "<style scoped>\n",
       "    .dataframe tbody tr th:only-of-type {\n",
       "        vertical-align: middle;\n",
       "    }\n",
       "\n",
       "    .dataframe tbody tr th {\n",
       "        vertical-align: top;\n",
       "    }\n",
       "\n",
       "    .dataframe thead th {\n",
       "        text-align: right;\n",
       "    }\n",
       "</style>\n",
       "<table border=\"1\" class=\"dataframe\">\n",
       "  <thead>\n",
       "    <tr style=\"text-align: right;\">\n",
       "      <th></th>\n",
       "      <th>user_id</th>\n",
       "      <th>name</th>\n",
       "      <th>age</th>\n",
       "      <th>city</th>\n",
       "      <th>subscription_type</th>\n",
       "      <th>distance</th>\n",
       "      <th>duration</th>\n",
       "      <th>date</th>\n",
       "      <th>month</th>\n",
       "      <th>minute_price</th>\n",
       "      <th>start_ride_price</th>\n",
       "      <th>subscription_fee</th>\n",
       "    </tr>\n",
       "  </thead>\n",
       "  <tbody>\n",
       "    <tr>\n",
       "      <th>0</th>\n",
       "      <td>1</td>\n",
       "      <td>Кира</td>\n",
       "      <td>22</td>\n",
       "      <td>Тюмень</td>\n",
       "      <td>ultra</td>\n",
       "      <td>4,409.92</td>\n",
       "      <td>25.60</td>\n",
       "      <td>2021-01-01</td>\n",
       "      <td>1</td>\n",
       "      <td>6</td>\n",
       "      <td>0</td>\n",
       "      <td>199</td>\n",
       "    </tr>\n",
       "    <tr>\n",
       "      <th>1</th>\n",
       "      <td>1</td>\n",
       "      <td>Кира</td>\n",
       "      <td>22</td>\n",
       "      <td>Тюмень</td>\n",
       "      <td>ultra</td>\n",
       "      <td>2,617.59</td>\n",
       "      <td>15.82</td>\n",
       "      <td>2021-01-18</td>\n",
       "      <td>1</td>\n",
       "      <td>6</td>\n",
       "      <td>0</td>\n",
       "      <td>199</td>\n",
       "    </tr>\n",
       "    <tr>\n",
       "      <th>2</th>\n",
       "      <td>1</td>\n",
       "      <td>Кира</td>\n",
       "      <td>22</td>\n",
       "      <td>Тюмень</td>\n",
       "      <td>ultra</td>\n",
       "      <td>754.16</td>\n",
       "      <td>6.23</td>\n",
       "      <td>2021-04-20</td>\n",
       "      <td>4</td>\n",
       "      <td>6</td>\n",
       "      <td>0</td>\n",
       "      <td>199</td>\n",
       "    </tr>\n",
       "    <tr>\n",
       "      <th>3</th>\n",
       "      <td>1</td>\n",
       "      <td>Кира</td>\n",
       "      <td>22</td>\n",
       "      <td>Тюмень</td>\n",
       "      <td>ultra</td>\n",
       "      <td>2,694.78</td>\n",
       "      <td>18.51</td>\n",
       "      <td>2021-08-11</td>\n",
       "      <td>8</td>\n",
       "      <td>6</td>\n",
       "      <td>0</td>\n",
       "      <td>199</td>\n",
       "    </tr>\n",
       "    <tr>\n",
       "      <th>4</th>\n",
       "      <td>1</td>\n",
       "      <td>Кира</td>\n",
       "      <td>22</td>\n",
       "      <td>Тюмень</td>\n",
       "      <td>ultra</td>\n",
       "      <td>4,028.69</td>\n",
       "      <td>26.27</td>\n",
       "      <td>2021-08-28</td>\n",
       "      <td>8</td>\n",
       "      <td>6</td>\n",
       "      <td>0</td>\n",
       "      <td>199</td>\n",
       "    </tr>\n",
       "  </tbody>\n",
       "</table>\n",
       "</div>"
      ],
      "text/plain": [
       "   user_id  name  age    city subscription_type  distance  duration  \\\n",
       "0        1  Кира   22  Тюмень             ultra  4,409.92     25.60   \n",
       "1        1  Кира   22  Тюмень             ultra  2,617.59     15.82   \n",
       "2        1  Кира   22  Тюмень             ultra    754.16      6.23   \n",
       "3        1  Кира   22  Тюмень             ultra  2,694.78     18.51   \n",
       "4        1  Кира   22  Тюмень             ultra  4,028.69     26.27   \n",
       "\n",
       "        date  month  minute_price  start_ride_price  subscription_fee  \n",
       "0 2021-01-01      1             6                 0               199  \n",
       "1 2021-01-18      1             6                 0               199  \n",
       "2 2021-04-20      4             6                 0               199  \n",
       "3 2021-08-11      8             6                 0               199  \n",
       "4 2021-08-28      8             6                 0               199  "
      ]
     },
     "execution_count": 39,
     "metadata": {},
     "output_type": "execute_result"
    }
   ],
   "source": [
    "yes_subscription.head() #данные о пользователях с подпиской"
   ]
  },
  {
   "cell_type": "markdown",
   "id": "916fabef",
   "metadata": {},
   "source": [
    "\n"
   ]
  },
  {
   "cell_type": "code",
   "execution_count": 40,
   "id": "d46dd14f",
   "metadata": {},
   "outputs": [
    {
     "data": {
      "text/html": [
       "<div>\n",
       "<style scoped>\n",
       "    .dataframe tbody tr th:only-of-type {\n",
       "        vertical-align: middle;\n",
       "    }\n",
       "\n",
       "    .dataframe tbody tr th {\n",
       "        vertical-align: top;\n",
       "    }\n",
       "\n",
       "    .dataframe thead th {\n",
       "        text-align: right;\n",
       "    }\n",
       "</style>\n",
       "<table border=\"1\" class=\"dataframe\">\n",
       "  <thead>\n",
       "    <tr style=\"text-align: right;\">\n",
       "      <th></th>\n",
       "      <th>user_id</th>\n",
       "      <th>name</th>\n",
       "      <th>age</th>\n",
       "      <th>city</th>\n",
       "      <th>subscription_type</th>\n",
       "      <th>distance</th>\n",
       "      <th>duration</th>\n",
       "      <th>date</th>\n",
       "      <th>month</th>\n",
       "      <th>minute_price</th>\n",
       "      <th>start_ride_price</th>\n",
       "      <th>subscription_fee</th>\n",
       "    </tr>\n",
       "  </thead>\n",
       "  <tbody>\n",
       "    <tr>\n",
       "      <th>6500</th>\n",
       "      <td>700</td>\n",
       "      <td>Айдар</td>\n",
       "      <td>22</td>\n",
       "      <td>Омск</td>\n",
       "      <td>free</td>\n",
       "      <td>2,515.69</td>\n",
       "      <td>14.94</td>\n",
       "      <td>2021-01-02</td>\n",
       "      <td>1</td>\n",
       "      <td>8</td>\n",
       "      <td>50</td>\n",
       "      <td>0</td>\n",
       "    </tr>\n",
       "    <tr>\n",
       "      <th>6501</th>\n",
       "      <td>700</td>\n",
       "      <td>Айдар</td>\n",
       "      <td>22</td>\n",
       "      <td>Омск</td>\n",
       "      <td>free</td>\n",
       "      <td>846.93</td>\n",
       "      <td>16.23</td>\n",
       "      <td>2021-02-01</td>\n",
       "      <td>2</td>\n",
       "      <td>8</td>\n",
       "      <td>50</td>\n",
       "      <td>0</td>\n",
       "    </tr>\n",
       "    <tr>\n",
       "      <th>6502</th>\n",
       "      <td>700</td>\n",
       "      <td>Айдар</td>\n",
       "      <td>22</td>\n",
       "      <td>Омск</td>\n",
       "      <td>free</td>\n",
       "      <td>4,004.43</td>\n",
       "      <td>20.02</td>\n",
       "      <td>2021-02-04</td>\n",
       "      <td>2</td>\n",
       "      <td>8</td>\n",
       "      <td>50</td>\n",
       "      <td>0</td>\n",
       "    </tr>\n",
       "    <tr>\n",
       "      <th>6503</th>\n",
       "      <td>700</td>\n",
       "      <td>Айдар</td>\n",
       "      <td>22</td>\n",
       "      <td>Омск</td>\n",
       "      <td>free</td>\n",
       "      <td>1,205.91</td>\n",
       "      <td>9.78</td>\n",
       "      <td>2021-02-10</td>\n",
       "      <td>2</td>\n",
       "      <td>8</td>\n",
       "      <td>50</td>\n",
       "      <td>0</td>\n",
       "    </tr>\n",
       "    <tr>\n",
       "      <th>6504</th>\n",
       "      <td>700</td>\n",
       "      <td>Айдар</td>\n",
       "      <td>22</td>\n",
       "      <td>Омск</td>\n",
       "      <td>free</td>\n",
       "      <td>3,047.38</td>\n",
       "      <td>17.43</td>\n",
       "      <td>2021-02-14</td>\n",
       "      <td>2</td>\n",
       "      <td>8</td>\n",
       "      <td>50</td>\n",
       "      <td>0</td>\n",
       "    </tr>\n",
       "  </tbody>\n",
       "</table>\n",
       "</div>"
      ],
      "text/plain": [
       "      user_id   name  age  city subscription_type  distance  duration  \\\n",
       "6500      700  Айдар   22  Омск              free  2,515.69     14.94   \n",
       "6501      700  Айдар   22  Омск              free    846.93     16.23   \n",
       "6502      700  Айдар   22  Омск              free  4,004.43     20.02   \n",
       "6503      700  Айдар   22  Омск              free  1,205.91      9.78   \n",
       "6504      700  Айдар   22  Омск              free  3,047.38     17.43   \n",
       "\n",
       "           date  month  minute_price  start_ride_price  subscription_fee  \n",
       "6500 2021-01-02      1             8                50                 0  \n",
       "6501 2021-02-01      2             8                50                 0  \n",
       "6502 2021-02-04      2             8                50                 0  \n",
       "6503 2021-02-10      2             8                50                 0  \n",
       "6504 2021-02-14      2             8                50                 0  "
      ]
     },
     "execution_count": 40,
     "metadata": {},
     "output_type": "execute_result"
    }
   ],
   "source": [
    "no_subscription.head() #данные о пользователях без подписки"
   ]
  },
  {
   "cell_type": "markdown",
   "id": "54f8ade8",
   "metadata": {},
   "source": [
    "Визуализируем  информацию о расстоянии и времени поездок для пользователей обеих категорий"
   ]
  },
  {
   "cell_type": "code",
   "execution_count": 41,
   "id": "84d8edcb",
   "metadata": {
    "scrolled": true
   },
   "outputs": [
    {
     "data": {
      "image/png": "[encoded data removed]",
      "text/plain": [
       "<Figure size 1080x576 with 1 Axes>"
      ]
     },
     "metadata": {
      "needs_background": "light"
     },
     "output_type": "display_data"
    }
   ],
   "source": [
    "fig, axes = plt.subplots(figsize=(15,8))\n",
    "no_subscription.plot(y='distance', kind='hist', grid = True, bins=30, alpha=0.8,label='Без подписки', ax=axes)\n",
    "yes_subscription.plot(y='distance', kind='hist', grid=True, bins=30, alpha=0.8,label='C подпиской', ax=axes)\n",
    "\n",
    "axes.set_title('Расстояние по типу подписки')\n",
    "axes.set(xlabel='Дистанция', ylabel='Количество поездок')\n",
    "plt.show()"
   ]
  },
  {
   "cell_type": "markdown",
   "id": "3ac4f5dd",
   "metadata": {},
   "source": [
    "**Расстояние по типу подписки:**\n",
    "\n",
    "График расстояния имеет нормальное распределение, с двумя характерными пиковыми значениями. Пользователи без подписки совершают больше коротких поездок, чем пользователи с подпиской.\n",
    "\n",
    "Для пользователей с подпиской: среднее расстояние - 3115 метров, нормальное распределение в диапазоне от 2785 до 3560\n",
    "\n",
    "Для пользователей без подписки: среднее расстояние - 3028 метров, нормальное распределение в диапазоне от 2360 до 3883"
   ]
  },
  {
   "cell_type": "code",
   "execution_count": 42,
   "id": "468f28f4",
   "metadata": {
    "scrolled": false
   },
   "outputs": [
    {
     "data": {
      "image/png": "[encoded data removed]",
      "text/plain": [
       "<Figure size 1080x576 with 1 Axes>"
      ]
     },
     "metadata": {
      "needs_background": "light"
     },
     "output_type": "display_data"
    }
   ],
   "source": [
    "fig, axes = plt.subplots(figsize=(15,8))\n",
    "no_subscription.plot(y='duration', kind='hist', grid = True, bins=30, alpha=0.8,label='Без подписки', ax=axes)\n",
    "yes_subscription.plot(y='duration', kind='hist', grid=True, bins=30, alpha=0.8,label='C подпиской', ax=axes)\n",
    "\n",
    "axes.set_title('Время по типу подписки')\n",
    "axes.set(xlabel='Время', ylabel='Количество поездок')\n",
    "plt.show()"
   ]
  },
  {
   "cell_type": "markdown",
   "id": "0e241339",
   "metadata": {},
   "source": [
    "**Время по типу подписки:**\n",
    "\n",
    "\n",
    "\n",
    "График времени имеет нормльное распределение без аномальных значений.\n",
    "\n",
    "Для пользователей с подпиской: среднее время - 18 мин. 30 сек., нормальное распределение времени в диапазоне от 15 до 22 минут \n",
    "\n",
    "Для пользователей без подписки: среднее время - 17 мин. 30 сек., нормальное распределение времени в диапазоне от 13 до 22 минут"
   ]
  },
  {
   "cell_type": "markdown",
   "id": "f0b5b044",
   "metadata": {},
   "source": [
    "Выведем описательную статистику по каждой группе:"
   ]
  },
  {
   "cell_type": "code",
   "execution_count": 43,
   "id": "39f5eb13",
   "metadata": {},
   "outputs": [
    {
     "data": {
      "text/html": [
       "<div>\n",
       "<style scoped>\n",
       "    .dataframe tbody tr th:only-of-type {\n",
       "        vertical-align: middle;\n",
       "    }\n",
       "\n",
       "    .dataframe tbody tr th {\n",
       "        vertical-align: top;\n",
       "    }\n",
       "\n",
       "    .dataframe thead th {\n",
       "        text-align: right;\n",
       "    }\n",
       "</style>\n",
       "<table border=\"1\" class=\"dataframe\">\n",
       "  <thead>\n",
       "    <tr style=\"text-align: right;\">\n",
       "      <th></th>\n",
       "      <th>user_id</th>\n",
       "      <th>age</th>\n",
       "      <th>distance</th>\n",
       "      <th>duration</th>\n",
       "      <th>month</th>\n",
       "      <th>minute_price</th>\n",
       "      <th>start_ride_price</th>\n",
       "      <th>subscription_fee</th>\n",
       "    </tr>\n",
       "  </thead>\n",
       "  <tbody>\n",
       "    <tr>\n",
       "      <th>count</th>\n",
       "      <td>6,500.00</td>\n",
       "      <td>6,500.00</td>\n",
       "      <td>6,500.00</td>\n",
       "      <td>6,500.00</td>\n",
       "      <td>6,500.00</td>\n",
       "      <td>6,500.00</td>\n",
       "      <td>6,500.00</td>\n",
       "      <td>6,500.00</td>\n",
       "    </tr>\n",
       "    <tr>\n",
       "      <th>mean</th>\n",
       "      <td>348.73</td>\n",
       "      <td>24.89</td>\n",
       "      <td>3,115.45</td>\n",
       "      <td>18.54</td>\n",
       "      <td>6.42</td>\n",
       "      <td>6.00</td>\n",
       "      <td>0.00</td>\n",
       "      <td>199.00</td>\n",
       "    </tr>\n",
       "    <tr>\n",
       "      <th>std</th>\n",
       "      <td>201.10</td>\n",
       "      <td>4.76</td>\n",
       "      <td>836.90</td>\n",
       "      <td>5.57</td>\n",
       "      <td>3.41</td>\n",
       "      <td>0.00</td>\n",
       "      <td>0.00</td>\n",
       "      <td>0.00</td>\n",
       "    </tr>\n",
       "    <tr>\n",
       "      <th>min</th>\n",
       "      <td>1.00</td>\n",
       "      <td>12.00</td>\n",
       "      <td>244.21</td>\n",
       "      <td>3.76</td>\n",
       "      <td>1.00</td>\n",
       "      <td>6.00</td>\n",
       "      <td>0.00</td>\n",
       "      <td>199.00</td>\n",
       "    </tr>\n",
       "    <tr>\n",
       "      <th>25%</th>\n",
       "      <td>175.00</td>\n",
       "      <td>22.00</td>\n",
       "      <td>2,785.44</td>\n",
       "      <td>14.52</td>\n",
       "      <td>4.00</td>\n",
       "      <td>6.00</td>\n",
       "      <td>0.00</td>\n",
       "      <td>199.00</td>\n",
       "    </tr>\n",
       "    <tr>\n",
       "      <th>50%</th>\n",
       "      <td>351.00</td>\n",
       "      <td>25.00</td>\n",
       "      <td>3,148.64</td>\n",
       "      <td>18.18</td>\n",
       "      <td>6.00</td>\n",
       "      <td>6.00</td>\n",
       "      <td>0.00</td>\n",
       "      <td>199.00</td>\n",
       "    </tr>\n",
       "    <tr>\n",
       "      <th>75%</th>\n",
       "      <td>525.00</td>\n",
       "      <td>28.00</td>\n",
       "      <td>3,560.57</td>\n",
       "      <td>21.88</td>\n",
       "      <td>9.00</td>\n",
       "      <td>6.00</td>\n",
       "      <td>0.00</td>\n",
       "      <td>199.00</td>\n",
       "    </tr>\n",
       "    <tr>\n",
       "      <th>max</th>\n",
       "      <td>699.00</td>\n",
       "      <td>38.00</td>\n",
       "      <td>5,699.77</td>\n",
       "      <td>40.82</td>\n",
       "      <td>12.00</td>\n",
       "      <td>6.00</td>\n",
       "      <td>0.00</td>\n",
       "      <td>199.00</td>\n",
       "    </tr>\n",
       "  </tbody>\n",
       "</table>\n",
       "</div>"
      ],
      "text/plain": [
       "       user_id      age  distance  duration    month  minute_price  \\\n",
       "count 6,500.00 6,500.00  6,500.00  6,500.00 6,500.00      6,500.00   \n",
       "mean    348.73    24.89  3,115.45     18.54     6.42          6.00   \n",
       "std     201.10     4.76    836.90      5.57     3.41          0.00   \n",
       "min       1.00    12.00    244.21      3.76     1.00          6.00   \n",
       "25%     175.00    22.00  2,785.44     14.52     4.00          6.00   \n",
       "50%     351.00    25.00  3,148.64     18.18     6.00          6.00   \n",
       "75%     525.00    28.00  3,560.57     21.88     9.00          6.00   \n",
       "max     699.00    38.00  5,699.77     40.82    12.00          6.00   \n",
       "\n",
       "       start_ride_price  subscription_fee  \n",
       "count          6,500.00          6,500.00  \n",
       "mean               0.00            199.00  \n",
       "std                0.00              0.00  \n",
       "min                0.00            199.00  \n",
       "25%                0.00            199.00  \n",
       "50%                0.00            199.00  \n",
       "75%                0.00            199.00  \n",
       "max                0.00            199.00  "
      ]
     },
     "execution_count": 43,
     "metadata": {},
     "output_type": "execute_result"
    }
   ],
   "source": [
    "yes_subscription.describe()"
   ]
  },
  {
   "cell_type": "code",
   "execution_count": 44,
   "id": "2e92e73b",
   "metadata": {},
   "outputs": [
    {
     "data": {
      "text/html": [
       "<div>\n",
       "<style scoped>\n",
       "    .dataframe tbody tr th:only-of-type {\n",
       "        vertical-align: middle;\n",
       "    }\n",
       "\n",
       "    .dataframe tbody tr th {\n",
       "        vertical-align: top;\n",
       "    }\n",
       "\n",
       "    .dataframe thead th {\n",
       "        text-align: right;\n",
       "    }\n",
       "</style>\n",
       "<table border=\"1\" class=\"dataframe\">\n",
       "  <thead>\n",
       "    <tr style=\"text-align: right;\">\n",
       "      <th></th>\n",
       "      <th>user_id</th>\n",
       "      <th>age</th>\n",
       "      <th>distance</th>\n",
       "      <th>duration</th>\n",
       "      <th>month</th>\n",
       "      <th>minute_price</th>\n",
       "      <th>start_ride_price</th>\n",
       "      <th>subscription_fee</th>\n",
       "    </tr>\n",
       "  </thead>\n",
       "  <tbody>\n",
       "    <tr>\n",
       "      <th>count</th>\n",
       "      <td>11,473.00</td>\n",
       "      <td>11,473.00</td>\n",
       "      <td>11,473.00</td>\n",
       "      <td>11,473.00</td>\n",
       "      <td>11,473.00</td>\n",
       "      <td>11,473.00</td>\n",
       "      <td>11,473.00</td>\n",
       "      <td>11,473.00</td>\n",
       "    </tr>\n",
       "    <tr>\n",
       "      <th>mean</th>\n",
       "      <td>1,120.76</td>\n",
       "      <td>24.89</td>\n",
       "      <td>3,028.37</td>\n",
       "      <td>17.53</td>\n",
       "      <td>6.52</td>\n",
       "      <td>8.00</td>\n",
       "      <td>50.00</td>\n",
       "      <td>0.00</td>\n",
       "    </tr>\n",
       "    <tr>\n",
       "      <th>std</th>\n",
       "      <td>241.14</td>\n",
       "      <td>4.48</td>\n",
       "      <td>1,235.54</td>\n",
       "      <td>6.16</td>\n",
       "      <td>3.45</td>\n",
       "      <td>0.00</td>\n",
       "      <td>0.00</td>\n",
       "      <td>0.00</td>\n",
       "    </tr>\n",
       "    <tr>\n",
       "      <th>min</th>\n",
       "      <td>700.00</td>\n",
       "      <td>12.00</td>\n",
       "      <td>0.86</td>\n",
       "      <td>2.04</td>\n",
       "      <td>1.00</td>\n",
       "      <td>8.00</td>\n",
       "      <td>50.00</td>\n",
       "      <td>0.00</td>\n",
       "    </tr>\n",
       "    <tr>\n",
       "      <th>25%</th>\n",
       "      <td>915.00</td>\n",
       "      <td>22.00</td>\n",
       "      <td>2,360.88</td>\n",
       "      <td>13.09</td>\n",
       "      <td>4.00</td>\n",
       "      <td>8.00</td>\n",
       "      <td>50.00</td>\n",
       "      <td>0.00</td>\n",
       "    </tr>\n",
       "    <tr>\n",
       "      <th>50%</th>\n",
       "      <td>1,123.00</td>\n",
       "      <td>25.00</td>\n",
       "      <td>3,102.08</td>\n",
       "      <td>17.38</td>\n",
       "      <td>7.00</td>\n",
       "      <td>8.00</td>\n",
       "      <td>50.00</td>\n",
       "      <td>0.00</td>\n",
       "    </tr>\n",
       "    <tr>\n",
       "      <th>75%</th>\n",
       "      <td>1,329.00</td>\n",
       "      <td>28.00</td>\n",
       "      <td>3,883.98</td>\n",
       "      <td>21.64</td>\n",
       "      <td>9.00</td>\n",
       "      <td>8.00</td>\n",
       "      <td>50.00</td>\n",
       "      <td>0.00</td>\n",
       "    </tr>\n",
       "    <tr>\n",
       "      <th>max</th>\n",
       "      <td>1,534.00</td>\n",
       "      <td>43.00</td>\n",
       "      <td>7,066.00</td>\n",
       "      <td>34.95</td>\n",
       "      <td>12.00</td>\n",
       "      <td>8.00</td>\n",
       "      <td>50.00</td>\n",
       "      <td>0.00</td>\n",
       "    </tr>\n",
       "  </tbody>\n",
       "</table>\n",
       "</div>"
      ],
      "text/plain": [
       "        user_id       age  distance  duration     month  minute_price  \\\n",
       "count 11,473.00 11,473.00 11,473.00 11,473.00 11,473.00     11,473.00   \n",
       "mean   1,120.76     24.89  3,028.37     17.53      6.52          8.00   \n",
       "std      241.14      4.48  1,235.54      6.16      3.45          0.00   \n",
       "min      700.00     12.00      0.86      2.04      1.00          8.00   \n",
       "25%      915.00     22.00  2,360.88     13.09      4.00          8.00   \n",
       "50%    1,123.00     25.00  3,102.08     17.38      7.00          8.00   \n",
       "75%    1,329.00     28.00  3,883.98     21.64      9.00          8.00   \n",
       "max    1,534.00     43.00  7,066.00     34.95     12.00          8.00   \n",
       "\n",
       "       start_ride_price  subscription_fee  \n",
       "count         11,473.00         11,473.00  \n",
       "mean              50.00              0.00  \n",
       "std                0.00              0.00  \n",
       "min               50.00              0.00  \n",
       "25%               50.00              0.00  \n",
       "50%               50.00              0.00  \n",
       "75%               50.00              0.00  \n",
       "max               50.00              0.00  "
      ]
     },
     "execution_count": 44,
     "metadata": {},
     "output_type": "execute_result"
    }
   ],
   "source": [
    "no_subscription.describe()"
   ]
  },
  {
   "cell_type": "markdown",
   "id": "371e3972",
   "metadata": {},
   "source": [
    "## Подсчёт выручки"
   ]
  },
  {
   "cell_type": "markdown",
   "id": "c77c3ddd",
   "metadata": {},
   "source": [
    "**Этап 5.1**"
   ]
  },
  {
   "cell_type": "markdown",
   "id": "a0c8b517",
   "metadata": {},
   "source": [
    "Создадим датафрейм с агрегированными данными о поездках на основе датафрейма *new_data* с объединёнными данными из шага 4: \n",
    "найдём суммарное расстояние, количество поездок и суммарное время для каждого пользователя за каждый месяц."
   ]
  },
  {
   "cell_type": "code",
   "execution_count": 45,
   "id": "ede37785",
   "metadata": {},
   "outputs": [
    {
     "data": {
      "text/html": [
       "<div>\n",
       "<style scoped>\n",
       "    .dataframe tbody tr th:only-of-type {\n",
       "        vertical-align: middle;\n",
       "    }\n",
       "\n",
       "    .dataframe tbody tr th {\n",
       "        vertical-align: top;\n",
       "    }\n",
       "\n",
       "    .dataframe thead th {\n",
       "        text-align: right;\n",
       "    }\n",
       "</style>\n",
       "<table border=\"1\" class=\"dataframe\">\n",
       "  <thead>\n",
       "    <tr style=\"text-align: right;\">\n",
       "      <th></th>\n",
       "      <th>user_id</th>\n",
       "      <th>name</th>\n",
       "      <th>age</th>\n",
       "      <th>city</th>\n",
       "      <th>subscription_type</th>\n",
       "      <th>distance</th>\n",
       "      <th>duration</th>\n",
       "      <th>date</th>\n",
       "      <th>month</th>\n",
       "      <th>minute_price</th>\n",
       "      <th>start_ride_price</th>\n",
       "      <th>subscription_fee</th>\n",
       "    </tr>\n",
       "  </thead>\n",
       "  <tbody>\n",
       "    <tr>\n",
       "      <th>0</th>\n",
       "      <td>1</td>\n",
       "      <td>Кира</td>\n",
       "      <td>22</td>\n",
       "      <td>Тюмень</td>\n",
       "      <td>ultra</td>\n",
       "      <td>4,409.92</td>\n",
       "      <td>25.60</td>\n",
       "      <td>2021-01-01</td>\n",
       "      <td>1</td>\n",
       "      <td>6</td>\n",
       "      <td>0</td>\n",
       "      <td>199</td>\n",
       "    </tr>\n",
       "    <tr>\n",
       "      <th>1</th>\n",
       "      <td>1</td>\n",
       "      <td>Кира</td>\n",
       "      <td>22</td>\n",
       "      <td>Тюмень</td>\n",
       "      <td>ultra</td>\n",
       "      <td>2,617.59</td>\n",
       "      <td>15.82</td>\n",
       "      <td>2021-01-18</td>\n",
       "      <td>1</td>\n",
       "      <td>6</td>\n",
       "      <td>0</td>\n",
       "      <td>199</td>\n",
       "    </tr>\n",
       "    <tr>\n",
       "      <th>2</th>\n",
       "      <td>1</td>\n",
       "      <td>Кира</td>\n",
       "      <td>22</td>\n",
       "      <td>Тюмень</td>\n",
       "      <td>ultra</td>\n",
       "      <td>754.16</td>\n",
       "      <td>6.23</td>\n",
       "      <td>2021-04-20</td>\n",
       "      <td>4</td>\n",
       "      <td>6</td>\n",
       "      <td>0</td>\n",
       "      <td>199</td>\n",
       "    </tr>\n",
       "    <tr>\n",
       "      <th>3</th>\n",
       "      <td>1</td>\n",
       "      <td>Кира</td>\n",
       "      <td>22</td>\n",
       "      <td>Тюмень</td>\n",
       "      <td>ultra</td>\n",
       "      <td>2,694.78</td>\n",
       "      <td>18.51</td>\n",
       "      <td>2021-08-11</td>\n",
       "      <td>8</td>\n",
       "      <td>6</td>\n",
       "      <td>0</td>\n",
       "      <td>199</td>\n",
       "    </tr>\n",
       "    <tr>\n",
       "      <th>4</th>\n",
       "      <td>1</td>\n",
       "      <td>Кира</td>\n",
       "      <td>22</td>\n",
       "      <td>Тюмень</td>\n",
       "      <td>ultra</td>\n",
       "      <td>4,028.69</td>\n",
       "      <td>26.27</td>\n",
       "      <td>2021-08-28</td>\n",
       "      <td>8</td>\n",
       "      <td>6</td>\n",
       "      <td>0</td>\n",
       "      <td>199</td>\n",
       "    </tr>\n",
       "  </tbody>\n",
       "</table>\n",
       "</div>"
      ],
      "text/plain": [
       "   user_id  name  age    city subscription_type  distance  duration  \\\n",
       "0        1  Кира   22  Тюмень             ultra  4,409.92     25.60   \n",
       "1        1  Кира   22  Тюмень             ultra  2,617.59     15.82   \n",
       "2        1  Кира   22  Тюмень             ultra    754.16      6.23   \n",
       "3        1  Кира   22  Тюмень             ultra  2,694.78     18.51   \n",
       "4        1  Кира   22  Тюмень             ultra  4,028.69     26.27   \n",
       "\n",
       "        date  month  minute_price  start_ride_price  subscription_fee  \n",
       "0 2021-01-01      1             6                 0               199  \n",
       "1 2021-01-18      1             6                 0               199  \n",
       "2 2021-04-20      4             6                 0               199  \n",
       "3 2021-08-11      8             6                 0               199  \n",
       "4 2021-08-28      8             6                 0               199  "
      ]
     },
     "execution_count": 45,
     "metadata": {},
     "output_type": "execute_result"
    }
   ],
   "source": [
    "new_data.head(5)"
   ]
  },
  {
   "cell_type": "code",
   "execution_count": 46,
   "id": "026685a4",
   "metadata": {},
   "outputs": [],
   "source": [
    "# Округлили тип данных до целых\n",
    "new_data['duration'] = np.ceil(new_data['duration']) \n",
    "\n",
    "# Поменяем тип данных на (INT) \n",
    "new_data['duration'] = new_data['duration'].astype('int64') "
   ]
  },
  {
   "cell_type": "code",
   "execution_count": 47,
   "id": "c902c056",
   "metadata": {},
   "outputs": [
    {
     "data": {
      "text/html": [
       "<div>\n",
       "<style scoped>\n",
       "    .dataframe tbody tr th:only-of-type {\n",
       "        vertical-align: middle;\n",
       "    }\n",
       "\n",
       "    .dataframe tbody tr th {\n",
       "        vertical-align: top;\n",
       "    }\n",
       "\n",
       "    .dataframe thead th {\n",
       "        text-align: right;\n",
       "    }\n",
       "</style>\n",
       "<table border=\"1\" class=\"dataframe\">\n",
       "  <thead>\n",
       "    <tr style=\"text-align: right;\">\n",
       "      <th></th>\n",
       "      <th>user_id</th>\n",
       "      <th>name</th>\n",
       "      <th>age</th>\n",
       "      <th>city</th>\n",
       "      <th>subscription_type</th>\n",
       "      <th>distance</th>\n",
       "      <th>duration</th>\n",
       "      <th>date</th>\n",
       "      <th>month</th>\n",
       "      <th>minute_price</th>\n",
       "      <th>start_ride_price</th>\n",
       "      <th>subscription_fee</th>\n",
       "    </tr>\n",
       "  </thead>\n",
       "  <tbody>\n",
       "    <tr>\n",
       "      <th>0</th>\n",
       "      <td>1</td>\n",
       "      <td>Кира</td>\n",
       "      <td>22</td>\n",
       "      <td>Тюмень</td>\n",
       "      <td>ultra</td>\n",
       "      <td>4,409.92</td>\n",
       "      <td>26</td>\n",
       "      <td>2021-01-01</td>\n",
       "      <td>1</td>\n",
       "      <td>6</td>\n",
       "      <td>0</td>\n",
       "      <td>199</td>\n",
       "    </tr>\n",
       "    <tr>\n",
       "      <th>1</th>\n",
       "      <td>1</td>\n",
       "      <td>Кира</td>\n",
       "      <td>22</td>\n",
       "      <td>Тюмень</td>\n",
       "      <td>ultra</td>\n",
       "      <td>2,617.59</td>\n",
       "      <td>16</td>\n",
       "      <td>2021-01-18</td>\n",
       "      <td>1</td>\n",
       "      <td>6</td>\n",
       "      <td>0</td>\n",
       "      <td>199</td>\n",
       "    </tr>\n",
       "    <tr>\n",
       "      <th>2</th>\n",
       "      <td>1</td>\n",
       "      <td>Кира</td>\n",
       "      <td>22</td>\n",
       "      <td>Тюмень</td>\n",
       "      <td>ultra</td>\n",
       "      <td>754.16</td>\n",
       "      <td>7</td>\n",
       "      <td>2021-04-20</td>\n",
       "      <td>4</td>\n",
       "      <td>6</td>\n",
       "      <td>0</td>\n",
       "      <td>199</td>\n",
       "    </tr>\n",
       "    <tr>\n",
       "      <th>3</th>\n",
       "      <td>1</td>\n",
       "      <td>Кира</td>\n",
       "      <td>22</td>\n",
       "      <td>Тюмень</td>\n",
       "      <td>ultra</td>\n",
       "      <td>2,694.78</td>\n",
       "      <td>19</td>\n",
       "      <td>2021-08-11</td>\n",
       "      <td>8</td>\n",
       "      <td>6</td>\n",
       "      <td>0</td>\n",
       "      <td>199</td>\n",
       "    </tr>\n",
       "    <tr>\n",
       "      <th>4</th>\n",
       "      <td>1</td>\n",
       "      <td>Кира</td>\n",
       "      <td>22</td>\n",
       "      <td>Тюмень</td>\n",
       "      <td>ultra</td>\n",
       "      <td>4,028.69</td>\n",
       "      <td>27</td>\n",
       "      <td>2021-08-28</td>\n",
       "      <td>8</td>\n",
       "      <td>6</td>\n",
       "      <td>0</td>\n",
       "      <td>199</td>\n",
       "    </tr>\n",
       "  </tbody>\n",
       "</table>\n",
       "</div>"
      ],
      "text/plain": [
       "   user_id  name  age    city subscription_type  distance  duration  \\\n",
       "0        1  Кира   22  Тюмень             ultra  4,409.92        26   \n",
       "1        1  Кира   22  Тюмень             ultra  2,617.59        16   \n",
       "2        1  Кира   22  Тюмень             ultra    754.16         7   \n",
       "3        1  Кира   22  Тюмень             ultra  2,694.78        19   \n",
       "4        1  Кира   22  Тюмень             ultra  4,028.69        27   \n",
       "\n",
       "        date  month  minute_price  start_ride_price  subscription_fee  \n",
       "0 2021-01-01      1             6                 0               199  \n",
       "1 2021-01-18      1             6                 0               199  \n",
       "2 2021-04-20      4             6                 0               199  \n",
       "3 2021-08-11      8             6                 0               199  \n",
       "4 2021-08-28      8             6                 0               199  "
      ]
     },
     "execution_count": 47,
     "metadata": {},
     "output_type": "execute_result"
    }
   ],
   "source": [
    "new_data.head()"
   ]
  },
  {
   "cell_type": "code",
   "execution_count": 48,
   "id": "37c7e853",
   "metadata": {},
   "outputs": [
    {
     "data": {
      "text/html": [
       "<div>\n",
       "<style scoped>\n",
       "    .dataframe tbody tr th:only-of-type {\n",
       "        vertical-align: middle;\n",
       "    }\n",
       "\n",
       "    .dataframe tbody tr th {\n",
       "        vertical-align: top;\n",
       "    }\n",
       "\n",
       "    .dataframe thead th {\n",
       "        text-align: right;\n",
       "    }\n",
       "</style>\n",
       "<table border=\"1\" class=\"dataframe\">\n",
       "  <thead>\n",
       "    <tr style=\"text-align: right;\">\n",
       "      <th></th>\n",
       "      <th></th>\n",
       "      <th>distance</th>\n",
       "      <th>duration</th>\n",
       "      <th>minute_price</th>\n",
       "      <th>trips</th>\n",
       "      <th>start_ride_price</th>\n",
       "      <th>subscription_fee</th>\n",
       "      <th>subscription_type</th>\n",
       "    </tr>\n",
       "    <tr>\n",
       "      <th>user_id</th>\n",
       "      <th>month</th>\n",
       "      <th></th>\n",
       "      <th></th>\n",
       "      <th></th>\n",
       "      <th></th>\n",
       "      <th></th>\n",
       "      <th></th>\n",
       "      <th></th>\n",
       "    </tr>\n",
       "  </thead>\n",
       "  <tbody>\n",
       "    <tr>\n",
       "      <th rowspan=\"5\" valign=\"top\">1</th>\n",
       "      <th>1</th>\n",
       "      <td>7,027.51</td>\n",
       "      <td>42</td>\n",
       "      <td>6</td>\n",
       "      <td>2</td>\n",
       "      <td>0</td>\n",
       "      <td>199</td>\n",
       "      <td>ultra</td>\n",
       "    </tr>\n",
       "    <tr>\n",
       "      <th>4</th>\n",
       "      <td>754.16</td>\n",
       "      <td>7</td>\n",
       "      <td>6</td>\n",
       "      <td>1</td>\n",
       "      <td>0</td>\n",
       "      <td>199</td>\n",
       "      <td>ultra</td>\n",
       "    </tr>\n",
       "    <tr>\n",
       "      <th>8</th>\n",
       "      <td>6,723.47</td>\n",
       "      <td>46</td>\n",
       "      <td>6</td>\n",
       "      <td>2</td>\n",
       "      <td>0</td>\n",
       "      <td>199</td>\n",
       "      <td>ultra</td>\n",
       "    </tr>\n",
       "    <tr>\n",
       "      <th>10</th>\n",
       "      <td>5,809.91</td>\n",
       "      <td>32</td>\n",
       "      <td>6</td>\n",
       "      <td>2</td>\n",
       "      <td>0</td>\n",
       "      <td>199</td>\n",
       "      <td>ultra</td>\n",
       "    </tr>\n",
       "    <tr>\n",
       "      <th>11</th>\n",
       "      <td>7,003.50</td>\n",
       "      <td>56</td>\n",
       "      <td>6</td>\n",
       "      <td>3</td>\n",
       "      <td>0</td>\n",
       "      <td>199</td>\n",
       "      <td>ultra</td>\n",
       "    </tr>\n",
       "  </tbody>\n",
       "</table>\n",
       "</div>"
      ],
      "text/plain": [
       "               distance  duration  minute_price  trips  start_ride_price  \\\n",
       "user_id month                                                              \n",
       "1       1      7,027.51        42             6      2                 0   \n",
       "        4        754.16         7             6      1                 0   \n",
       "        8      6,723.47        46             6      2                 0   \n",
       "        10     5,809.91        32             6      2                 0   \n",
       "        11     7,003.50        56             6      3                 0   \n",
       "\n",
       "               subscription_fee subscription_type  \n",
       "user_id month                                      \n",
       "1       1                   199             ultra  \n",
       "        4                   199             ultra  \n",
       "        8                   199             ultra  \n",
       "        10                  199             ultra  \n",
       "        11                  199             ultra  "
      ]
     },
     "execution_count": 48,
     "metadata": {},
     "output_type": "execute_result"
    }
   ],
   "source": [
    "# в переменной data_pivot сгруппируем данные по каждому пользователю: \n",
    "# суммарное расстояние, количество поездок и суммарное время для каждого пользователя за каждый месяц \n",
    "\n",
    "data_pivot = pd.pivot_table(new_data,\n",
    "                            index=['user_id', 'month'],\n",
    "                            values=['distance', 'duration', 'name', 'subscription_type', 'minute_price', 'start_ride_price', 'subscription_fee'],\n",
    "                            aggfunc={'distance' : sum, 'duration' : sum, 'name' : len, 'subscription_type' : min, 'minute_price' : min, 'start_ride_price' : min, 'subscription_fee' : min})\n",
    "\n",
    "# т.к. колличество поездок рассчитали по колонке name, изменим название на trips. \n",
    "data_pivot.rename(columns = {'name' : 'trips'}, inplace = True) \n",
    "data_pivot.head()"
   ]
  },
  {
   "cell_type": "markdown",
   "id": "99076755",
   "metadata": {},
   "source": [
    "**Этап 5.2**"
   ]
  },
  {
   "cell_type": "code",
   "execution_count": 49,
   "id": "279e6f65",
   "metadata": {},
   "outputs": [
    {
     "name": "stdout",
     "output_type": "stream",
     "text": [
      "<class 'pandas.core.frame.DataFrame'>\n",
      "MultiIndex: 11300 entries, (1, 1) to (1534, 12)\n",
      "Data columns (total 7 columns):\n",
      " #   Column             Non-Null Count  Dtype  \n",
      "---  ------             --------------  -----  \n",
      " 0   distance           11300 non-null  float64\n",
      " 1   duration           11300 non-null  int64  \n",
      " 2   minute_price       11300 non-null  int64  \n",
      " 3   trips              11300 non-null  int64  \n",
      " 4   start_ride_price   11300 non-null  int64  \n",
      " 5   subscription_fee   11300 non-null  int64  \n",
      " 6   subscription_type  11300 non-null  object \n",
      "dtypes: float64(1), int64(5), object(1)\n",
      "memory usage: 663.3+ KB\n"
     ]
    }
   ],
   "source": [
    "data_pivot.info() # проверим полученный результат "
   ]
  },
  {
   "cell_type": "code",
   "execution_count": 50,
   "id": "b597d1aa",
   "metadata": {
    "scrolled": false
   },
   "outputs": [
    {
     "data": {
      "text/html": [
       "<div>\n",
       "<style scoped>\n",
       "    .dataframe tbody tr th:only-of-type {\n",
       "        vertical-align: middle;\n",
       "    }\n",
       "\n",
       "    .dataframe tbody tr th {\n",
       "        vertical-align: top;\n",
       "    }\n",
       "\n",
       "    .dataframe thead th {\n",
       "        text-align: right;\n",
       "    }\n",
       "</style>\n",
       "<table border=\"1\" class=\"dataframe\">\n",
       "  <thead>\n",
       "    <tr style=\"text-align: right;\">\n",
       "      <th></th>\n",
       "      <th></th>\n",
       "      <th>distance</th>\n",
       "      <th>duration</th>\n",
       "      <th>minute_price</th>\n",
       "      <th>trips</th>\n",
       "      <th>start_ride_price</th>\n",
       "      <th>subscription_fee</th>\n",
       "      <th>subscription_type</th>\n",
       "    </tr>\n",
       "    <tr>\n",
       "      <th>user_id</th>\n",
       "      <th>month</th>\n",
       "      <th></th>\n",
       "      <th></th>\n",
       "      <th></th>\n",
       "      <th></th>\n",
       "      <th></th>\n",
       "      <th></th>\n",
       "      <th></th>\n",
       "    </tr>\n",
       "  </thead>\n",
       "  <tbody>\n",
       "    <tr>\n",
       "      <th rowspan=\"5\" valign=\"top\">1</th>\n",
       "      <th>1</th>\n",
       "      <td>7,027.51</td>\n",
       "      <td>42</td>\n",
       "      <td>6</td>\n",
       "      <td>2</td>\n",
       "      <td>0</td>\n",
       "      <td>199</td>\n",
       "      <td>ultra</td>\n",
       "    </tr>\n",
       "    <tr>\n",
       "      <th>4</th>\n",
       "      <td>754.16</td>\n",
       "      <td>7</td>\n",
       "      <td>6</td>\n",
       "      <td>1</td>\n",
       "      <td>0</td>\n",
       "      <td>199</td>\n",
       "      <td>ultra</td>\n",
       "    </tr>\n",
       "    <tr>\n",
       "      <th>8</th>\n",
       "      <td>6,723.47</td>\n",
       "      <td>46</td>\n",
       "      <td>6</td>\n",
       "      <td>2</td>\n",
       "      <td>0</td>\n",
       "      <td>199</td>\n",
       "      <td>ultra</td>\n",
       "    </tr>\n",
       "    <tr>\n",
       "      <th>10</th>\n",
       "      <td>5,809.91</td>\n",
       "      <td>32</td>\n",
       "      <td>6</td>\n",
       "      <td>2</td>\n",
       "      <td>0</td>\n",
       "      <td>199</td>\n",
       "      <td>ultra</td>\n",
       "    </tr>\n",
       "    <tr>\n",
       "      <th>11</th>\n",
       "      <td>7,003.50</td>\n",
       "      <td>56</td>\n",
       "      <td>6</td>\n",
       "      <td>3</td>\n",
       "      <td>0</td>\n",
       "      <td>199</td>\n",
       "      <td>ultra</td>\n",
       "    </tr>\n",
       "  </tbody>\n",
       "</table>\n",
       "</div>"
      ],
      "text/plain": [
       "               distance  duration  minute_price  trips  start_ride_price  \\\n",
       "user_id month                                                              \n",
       "1       1      7,027.51        42             6      2                 0   \n",
       "        4        754.16         7             6      1                 0   \n",
       "        8      6,723.47        46             6      2                 0   \n",
       "        10     5,809.91        32             6      2                 0   \n",
       "        11     7,003.50        56             6      3                 0   \n",
       "\n",
       "               subscription_fee subscription_type  \n",
       "user_id month                                      \n",
       "1       1                   199             ultra  \n",
       "        4                   199             ultra  \n",
       "        8                   199             ultra  \n",
       "        10                  199             ultra  \n",
       "        11                  199             ultra  "
      ]
     },
     "execution_count": 50,
     "metadata": {},
     "output_type": "execute_result"
    }
   ],
   "source": [
    "data_pivot.head()"
   ]
  },
  {
   "cell_type": "markdown",
   "id": "15dfb4a4",
   "metadata": {},
   "source": [
    "В датасет **data_pivot** добавим новую колонку  **['revenue']** с помесячной выручкой "
   ]
  },
  {
   "cell_type": "code",
   "execution_count": 51,
   "id": "7a111dca",
   "metadata": {},
   "outputs": [],
   "source": [
    "data_pivot['revenue'] = 0"
   ]
  },
  {
   "cell_type": "code",
   "execution_count": 52,
   "id": "b729f4ee",
   "metadata": {},
   "outputs": [
    {
     "data": {
      "text/plain": [
       "user_id  month\n",
       "1        1        0\n",
       "         4        0\n",
       "         8        0\n",
       "         10       0\n",
       "         11       0\n",
       "                 ..\n",
       "699      6        0\n",
       "         8        0\n",
       "         9        0\n",
       "         10       0\n",
       "         12       0\n",
       "Name: revenue, Length: 4533, dtype: int64"
      ]
     },
     "execution_count": 52,
     "metadata": {},
     "output_type": "execute_result"
    }
   ],
   "source": [
    "data_pivot.loc[data_pivot['subscription_type'] == 'ultra', 'revenue']"
   ]
  },
  {
   "cell_type": "code",
   "execution_count": 53,
   "id": "80c35043",
   "metadata": {},
   "outputs": [
    {
     "data": {
      "text/plain": [
       "user_id  month\n",
       "1        1        42\n",
       "         4         7\n",
       "         8        46\n",
       "         10       32\n",
       "         11       56\n",
       "                  ..\n",
       "699      6        17\n",
       "         8        45\n",
       "         9        31\n",
       "         10       16\n",
       "         12       26\n",
       "Name: duration, Length: 4533, dtype: int64"
      ]
     },
     "execution_count": 53,
     "metadata": {},
     "output_type": "execute_result"
    }
   ],
   "source": [
    "data_pivot.loc[data_pivot['subscription_type'] == 'ultra', 'duration']"
   ]
  },
  {
   "cell_type": "code",
   "execution_count": 54,
   "id": "fcaa27c6",
   "metadata": {},
   "outputs": [
    {
     "data": {
      "text/plain": [
       "user_id  month\n",
       "1        1        42\n",
       "         4         7\n",
       "         8        46\n",
       "         10       32\n",
       "         11       56\n",
       "                  ..\n",
       "1534     6        26\n",
       "         8        48\n",
       "         9        23\n",
       "         11       78\n",
       "         12       16\n",
       "Name: duration, Length: 11300, dtype: int64"
      ]
     },
     "execution_count": 54,
     "metadata": {},
     "output_type": "execute_result"
    }
   ],
   "source": [
    "# Округлим значение времни к целому в большую сторону.\n",
    "data_pivot['duration'] = data_pivot['duration'].apply(math.ceil) \n",
    "data_pivot['duration']"
   ]
  },
  {
   "cell_type": "code",
   "execution_count": 55,
   "id": "4c1d27f2",
   "metadata": {},
   "outputs": [
    {
     "data": {
      "text/html": [
       "<div>\n",
       "<style scoped>\n",
       "    .dataframe tbody tr th:only-of-type {\n",
       "        vertical-align: middle;\n",
       "    }\n",
       "\n",
       "    .dataframe tbody tr th {\n",
       "        vertical-align: top;\n",
       "    }\n",
       "\n",
       "    .dataframe thead th {\n",
       "        text-align: right;\n",
       "    }\n",
       "</style>\n",
       "<table border=\"1\" class=\"dataframe\">\n",
       "  <thead>\n",
       "    <tr style=\"text-align: right;\">\n",
       "      <th></th>\n",
       "      <th></th>\n",
       "      <th>distance</th>\n",
       "      <th>duration</th>\n",
       "      <th>minute_price</th>\n",
       "      <th>trips</th>\n",
       "      <th>start_ride_price</th>\n",
       "      <th>subscription_fee</th>\n",
       "      <th>subscription_type</th>\n",
       "      <th>revenue</th>\n",
       "    </tr>\n",
       "    <tr>\n",
       "      <th>user_id</th>\n",
       "      <th>month</th>\n",
       "      <th></th>\n",
       "      <th></th>\n",
       "      <th></th>\n",
       "      <th></th>\n",
       "      <th></th>\n",
       "      <th></th>\n",
       "      <th></th>\n",
       "      <th></th>\n",
       "    </tr>\n",
       "  </thead>\n",
       "  <tbody>\n",
       "    <tr>\n",
       "      <th rowspan=\"5\" valign=\"top\">1</th>\n",
       "      <th>1</th>\n",
       "      <td>7,027.51</td>\n",
       "      <td>42</td>\n",
       "      <td>6</td>\n",
       "      <td>2</td>\n",
       "      <td>0</td>\n",
       "      <td>199</td>\n",
       "      <td>ultra</td>\n",
       "      <td>0</td>\n",
       "    </tr>\n",
       "    <tr>\n",
       "      <th>4</th>\n",
       "      <td>754.16</td>\n",
       "      <td>7</td>\n",
       "      <td>6</td>\n",
       "      <td>1</td>\n",
       "      <td>0</td>\n",
       "      <td>199</td>\n",
       "      <td>ultra</td>\n",
       "      <td>0</td>\n",
       "    </tr>\n",
       "    <tr>\n",
       "      <th>8</th>\n",
       "      <td>6,723.47</td>\n",
       "      <td>46</td>\n",
       "      <td>6</td>\n",
       "      <td>2</td>\n",
       "      <td>0</td>\n",
       "      <td>199</td>\n",
       "      <td>ultra</td>\n",
       "      <td>0</td>\n",
       "    </tr>\n",
       "    <tr>\n",
       "      <th>10</th>\n",
       "      <td>5,809.91</td>\n",
       "      <td>32</td>\n",
       "      <td>6</td>\n",
       "      <td>2</td>\n",
       "      <td>0</td>\n",
       "      <td>199</td>\n",
       "      <td>ultra</td>\n",
       "      <td>0</td>\n",
       "    </tr>\n",
       "    <tr>\n",
       "      <th>11</th>\n",
       "      <td>7,003.50</td>\n",
       "      <td>56</td>\n",
       "      <td>6</td>\n",
       "      <td>3</td>\n",
       "      <td>0</td>\n",
       "      <td>199</td>\n",
       "      <td>ultra</td>\n",
       "      <td>0</td>\n",
       "    </tr>\n",
       "    <tr>\n",
       "      <th>...</th>\n",
       "      <th>...</th>\n",
       "      <td>...</td>\n",
       "      <td>...</td>\n",
       "      <td>...</td>\n",
       "      <td>...</td>\n",
       "      <td>...</td>\n",
       "      <td>...</td>\n",
       "      <td>...</td>\n",
       "      <td>...</td>\n",
       "    </tr>\n",
       "    <tr>\n",
       "      <th rowspan=\"5\" valign=\"top\">1534</th>\n",
       "      <th>6</th>\n",
       "      <td>3,409.47</td>\n",
       "      <td>26</td>\n",
       "      <td>8</td>\n",
       "      <td>2</td>\n",
       "      <td>50</td>\n",
       "      <td>0</td>\n",
       "      <td>free</td>\n",
       "      <td>0</td>\n",
       "    </tr>\n",
       "    <tr>\n",
       "      <th>8</th>\n",
       "      <td>7,622.45</td>\n",
       "      <td>48</td>\n",
       "      <td>8</td>\n",
       "      <td>2</td>\n",
       "      <td>50</td>\n",
       "      <td>0</td>\n",
       "      <td>free</td>\n",
       "      <td>0</td>\n",
       "    </tr>\n",
       "    <tr>\n",
       "      <th>9</th>\n",
       "      <td>4,928.17</td>\n",
       "      <td>23</td>\n",
       "      <td>8</td>\n",
       "      <td>1</td>\n",
       "      <td>50</td>\n",
       "      <td>0</td>\n",
       "      <td>free</td>\n",
       "      <td>0</td>\n",
       "    </tr>\n",
       "    <tr>\n",
       "      <th>11</th>\n",
       "      <td>13,350.02</td>\n",
       "      <td>78</td>\n",
       "      <td>8</td>\n",
       "      <td>4</td>\n",
       "      <td>50</td>\n",
       "      <td>0</td>\n",
       "      <td>free</td>\n",
       "      <td>0</td>\n",
       "    </tr>\n",
       "    <tr>\n",
       "      <th>12</th>\n",
       "      <td>2,371.71</td>\n",
       "      <td>16</td>\n",
       "      <td>8</td>\n",
       "      <td>1</td>\n",
       "      <td>50</td>\n",
       "      <td>0</td>\n",
       "      <td>free</td>\n",
       "      <td>0</td>\n",
       "    </tr>\n",
       "  </tbody>\n",
       "</table>\n",
       "<p>11300 rows × 8 columns</p>\n",
       "</div>"
      ],
      "text/plain": [
       "               distance  duration  minute_price  trips  start_ride_price  \\\n",
       "user_id month                                                              \n",
       "1       1      7,027.51        42             6      2                 0   \n",
       "        4        754.16         7             6      1                 0   \n",
       "        8      6,723.47        46             6      2                 0   \n",
       "        10     5,809.91        32             6      2                 0   \n",
       "        11     7,003.50        56             6      3                 0   \n",
       "...                 ...       ...           ...    ...               ...   \n",
       "1534    6      3,409.47        26             8      2                50   \n",
       "        8      7,622.45        48             8      2                50   \n",
       "        9      4,928.17        23             8      1                50   \n",
       "        11    13,350.02        78             8      4                50   \n",
       "        12     2,371.71        16             8      1                50   \n",
       "\n",
       "               subscription_fee subscription_type  revenue  \n",
       "user_id month                                               \n",
       "1       1                   199             ultra        0  \n",
       "        4                   199             ultra        0  \n",
       "        8                   199             ultra        0  \n",
       "        10                  199             ultra        0  \n",
       "        11                  199             ultra        0  \n",
       "...                         ...               ...      ...  \n",
       "1534    6                     0              free        0  \n",
       "        8                     0              free        0  \n",
       "        9                     0              free        0  \n",
       "        11                    0              free        0  \n",
       "        12                    0              free        0  \n",
       "\n",
       "[11300 rows x 8 columns]"
      ]
     },
     "execution_count": 55,
     "metadata": {},
     "output_type": "execute_result"
    }
   ],
   "source": [
    "data_pivot"
   ]
  },
  {
   "cell_type": "code",
   "execution_count": 56,
   "id": "5c459330",
   "metadata": {},
   "outputs": [],
   "source": [
    "# new\n",
    "data_pivot.loc[data_pivot['subscription_type'] == 'ultra', 'revenue'] = \\\n",
    "                                                                          data_pivot.loc[data_pivot['subscription_type'] == 'ultra', 'minute_price'] * \\\n",
    "                                                                          data_pivot.loc[data_pivot['subscription_type'] == 'ultra', 'duration'] + \\\n",
    "                                                                          data_pivot.loc[data_pivot['subscription_type'] == 'ultra', 'start_ride_price'] + \\\n",
    "                                                                          data_pivot.loc[data_pivot['subscription_type'] == 'ultra', 'subscription_fee']"
   ]
  },
  {
   "cell_type": "code",
   "execution_count": 57,
   "id": "ee90713a",
   "metadata": {},
   "outputs": [],
   "source": [
    "#new\n",
    "data_pivot.loc[data_pivot['subscription_type'] == 'free', 'revenue'] = \\\n",
    "                                                                         data_pivot.loc[data_pivot['subscription_type'] == 'free', 'minute_price'] * \\\n",
    "                                                                         data_pivot.loc[data_pivot['subscription_type'] == 'free', 'duration'] + \\\n",
    "                                                                         data_pivot.loc[data_pivot['subscription_type'] == 'free', 'start_ride_price'] + \\\n",
    "                                                                         data_pivot.loc[data_pivot['subscription_type'] == 'free','subscription_fee']"
   ]
  },
  {
   "cell_type": "code",
   "execution_count": 58,
   "id": "e0346a29",
   "metadata": {},
   "outputs": [
    {
     "data": {
      "text/html": [
       "<div>\n",
       "<style scoped>\n",
       "    .dataframe tbody tr th:only-of-type {\n",
       "        vertical-align: middle;\n",
       "    }\n",
       "\n",
       "    .dataframe tbody tr th {\n",
       "        vertical-align: top;\n",
       "    }\n",
       "\n",
       "    .dataframe thead th {\n",
       "        text-align: right;\n",
       "    }\n",
       "</style>\n",
       "<table border=\"1\" class=\"dataframe\">\n",
       "  <thead>\n",
       "    <tr style=\"text-align: right;\">\n",
       "      <th></th>\n",
       "      <th></th>\n",
       "      <th>distance</th>\n",
       "      <th>duration</th>\n",
       "      <th>minute_price</th>\n",
       "      <th>trips</th>\n",
       "      <th>start_ride_price</th>\n",
       "      <th>subscription_fee</th>\n",
       "      <th>subscription_type</th>\n",
       "      <th>revenue</th>\n",
       "    </tr>\n",
       "    <tr>\n",
       "      <th>user_id</th>\n",
       "      <th>month</th>\n",
       "      <th></th>\n",
       "      <th></th>\n",
       "      <th></th>\n",
       "      <th></th>\n",
       "      <th></th>\n",
       "      <th></th>\n",
       "      <th></th>\n",
       "      <th></th>\n",
       "    </tr>\n",
       "  </thead>\n",
       "  <tbody>\n",
       "    <tr>\n",
       "      <th rowspan=\"5\" valign=\"top\">1</th>\n",
       "      <th>1</th>\n",
       "      <td>7,027.51</td>\n",
       "      <td>42</td>\n",
       "      <td>6</td>\n",
       "      <td>2</td>\n",
       "      <td>0</td>\n",
       "      <td>199</td>\n",
       "      <td>ultra</td>\n",
       "      <td>451</td>\n",
       "    </tr>\n",
       "    <tr>\n",
       "      <th>4</th>\n",
       "      <td>754.16</td>\n",
       "      <td>7</td>\n",
       "      <td>6</td>\n",
       "      <td>1</td>\n",
       "      <td>0</td>\n",
       "      <td>199</td>\n",
       "      <td>ultra</td>\n",
       "      <td>241</td>\n",
       "    </tr>\n",
       "    <tr>\n",
       "      <th>8</th>\n",
       "      <td>6,723.47</td>\n",
       "      <td>46</td>\n",
       "      <td>6</td>\n",
       "      <td>2</td>\n",
       "      <td>0</td>\n",
       "      <td>199</td>\n",
       "      <td>ultra</td>\n",
       "      <td>475</td>\n",
       "    </tr>\n",
       "    <tr>\n",
       "      <th>10</th>\n",
       "      <td>5,809.91</td>\n",
       "      <td>32</td>\n",
       "      <td>6</td>\n",
       "      <td>2</td>\n",
       "      <td>0</td>\n",
       "      <td>199</td>\n",
       "      <td>ultra</td>\n",
       "      <td>391</td>\n",
       "    </tr>\n",
       "    <tr>\n",
       "      <th>11</th>\n",
       "      <td>7,003.50</td>\n",
       "      <td>56</td>\n",
       "      <td>6</td>\n",
       "      <td>3</td>\n",
       "      <td>0</td>\n",
       "      <td>199</td>\n",
       "      <td>ultra</td>\n",
       "      <td>535</td>\n",
       "    </tr>\n",
       "    <tr>\n",
       "      <th>...</th>\n",
       "      <th>...</th>\n",
       "      <td>...</td>\n",
       "      <td>...</td>\n",
       "      <td>...</td>\n",
       "      <td>...</td>\n",
       "      <td>...</td>\n",
       "      <td>...</td>\n",
       "      <td>...</td>\n",
       "      <td>...</td>\n",
       "    </tr>\n",
       "    <tr>\n",
       "      <th rowspan=\"5\" valign=\"top\">1534</th>\n",
       "      <th>6</th>\n",
       "      <td>3,409.47</td>\n",
       "      <td>26</td>\n",
       "      <td>8</td>\n",
       "      <td>2</td>\n",
       "      <td>50</td>\n",
       "      <td>0</td>\n",
       "      <td>free</td>\n",
       "      <td>258</td>\n",
       "    </tr>\n",
       "    <tr>\n",
       "      <th>8</th>\n",
       "      <td>7,622.45</td>\n",
       "      <td>48</td>\n",
       "      <td>8</td>\n",
       "      <td>2</td>\n",
       "      <td>50</td>\n",
       "      <td>0</td>\n",
       "      <td>free</td>\n",
       "      <td>434</td>\n",
       "    </tr>\n",
       "    <tr>\n",
       "      <th>9</th>\n",
       "      <td>4,928.17</td>\n",
       "      <td>23</td>\n",
       "      <td>8</td>\n",
       "      <td>1</td>\n",
       "      <td>50</td>\n",
       "      <td>0</td>\n",
       "      <td>free</td>\n",
       "      <td>234</td>\n",
       "    </tr>\n",
       "    <tr>\n",
       "      <th>11</th>\n",
       "      <td>13,350.02</td>\n",
       "      <td>78</td>\n",
       "      <td>8</td>\n",
       "      <td>4</td>\n",
       "      <td>50</td>\n",
       "      <td>0</td>\n",
       "      <td>free</td>\n",
       "      <td>674</td>\n",
       "    </tr>\n",
       "    <tr>\n",
       "      <th>12</th>\n",
       "      <td>2,371.71</td>\n",
       "      <td>16</td>\n",
       "      <td>8</td>\n",
       "      <td>1</td>\n",
       "      <td>50</td>\n",
       "      <td>0</td>\n",
       "      <td>free</td>\n",
       "      <td>178</td>\n",
       "    </tr>\n",
       "  </tbody>\n",
       "</table>\n",
       "<p>11300 rows × 8 columns</p>\n",
       "</div>"
      ],
      "text/plain": [
       "               distance  duration  minute_price  trips  start_ride_price  \\\n",
       "user_id month                                                              \n",
       "1       1      7,027.51        42             6      2                 0   \n",
       "        4        754.16         7             6      1                 0   \n",
       "        8      6,723.47        46             6      2                 0   \n",
       "        10     5,809.91        32             6      2                 0   \n",
       "        11     7,003.50        56             6      3                 0   \n",
       "...                 ...       ...           ...    ...               ...   \n",
       "1534    6      3,409.47        26             8      2                50   \n",
       "        8      7,622.45        48             8      2                50   \n",
       "        9      4,928.17        23             8      1                50   \n",
       "        11    13,350.02        78             8      4                50   \n",
       "        12     2,371.71        16             8      1                50   \n",
       "\n",
       "               subscription_fee subscription_type  revenue  \n",
       "user_id month                                               \n",
       "1       1                   199             ultra      451  \n",
       "        4                   199             ultra      241  \n",
       "        8                   199             ultra      475  \n",
       "        10                  199             ultra      391  \n",
       "        11                  199             ultra      535  \n",
       "...                         ...               ...      ...  \n",
       "1534    6                     0              free      258  \n",
       "        8                     0              free      434  \n",
       "        9                     0              free      234  \n",
       "        11                    0              free      674  \n",
       "        12                    0              free      178  \n",
       "\n",
       "[11300 rows x 8 columns]"
      ]
     },
     "execution_count": 58,
     "metadata": {},
     "output_type": "execute_result"
    }
   ],
   "source": [
    "data_pivot"
   ]
  },
  {
   "cell_type": "code",
   "execution_count": 61,
   "id": "e6b099eb",
   "metadata": {},
   "outputs": [
    {
     "data": {
      "text/html": [
       "<div>\n",
       "<style scoped>\n",
       "    .dataframe tbody tr th:only-of-type {\n",
       "        vertical-align: middle;\n",
       "    }\n",
       "\n",
       "    .dataframe tbody tr th {\n",
       "        vertical-align: top;\n",
       "    }\n",
       "\n",
       "    .dataframe thead th {\n",
       "        text-align: right;\n",
       "    }\n",
       "</style>\n",
       "<table border=\"1\" class=\"dataframe\">\n",
       "  <thead>\n",
       "    <tr style=\"text-align: right;\">\n",
       "      <th></th>\n",
       "      <th></th>\n",
       "      <th>distance</th>\n",
       "      <th>duration</th>\n",
       "      <th>minute_price</th>\n",
       "      <th>trips</th>\n",
       "      <th>start_ride_price</th>\n",
       "      <th>subscription_fee</th>\n",
       "      <th>subscription_type</th>\n",
       "      <th>revenue</th>\n",
       "    </tr>\n",
       "    <tr>\n",
       "      <th>user_id</th>\n",
       "      <th>month</th>\n",
       "      <th></th>\n",
       "      <th></th>\n",
       "      <th></th>\n",
       "      <th></th>\n",
       "      <th></th>\n",
       "      <th></th>\n",
       "      <th></th>\n",
       "      <th></th>\n",
       "    </tr>\n",
       "  </thead>\n",
       "  <tbody>\n",
       "    <tr>\n",
       "      <th rowspan=\"5\" valign=\"top\">1</th>\n",
       "      <th>1</th>\n",
       "      <td>7,027.51</td>\n",
       "      <td>42</td>\n",
       "      <td>6</td>\n",
       "      <td>2</td>\n",
       "      <td>0</td>\n",
       "      <td>199</td>\n",
       "      <td>ultra</td>\n",
       "      <td>451</td>\n",
       "    </tr>\n",
       "    <tr>\n",
       "      <th>4</th>\n",
       "      <td>754.16</td>\n",
       "      <td>7</td>\n",
       "      <td>6</td>\n",
       "      <td>1</td>\n",
       "      <td>0</td>\n",
       "      <td>199</td>\n",
       "      <td>ultra</td>\n",
       "      <td>241</td>\n",
       "    </tr>\n",
       "    <tr>\n",
       "      <th>8</th>\n",
       "      <td>6,723.47</td>\n",
       "      <td>46</td>\n",
       "      <td>6</td>\n",
       "      <td>2</td>\n",
       "      <td>0</td>\n",
       "      <td>199</td>\n",
       "      <td>ultra</td>\n",
       "      <td>475</td>\n",
       "    </tr>\n",
       "    <tr>\n",
       "      <th>10</th>\n",
       "      <td>5,809.91</td>\n",
       "      <td>32</td>\n",
       "      <td>6</td>\n",
       "      <td>2</td>\n",
       "      <td>0</td>\n",
       "      <td>199</td>\n",
       "      <td>ultra</td>\n",
       "      <td>391</td>\n",
       "    </tr>\n",
       "    <tr>\n",
       "      <th>11</th>\n",
       "      <td>7,003.50</td>\n",
       "      <td>56</td>\n",
       "      <td>6</td>\n",
       "      <td>3</td>\n",
       "      <td>0</td>\n",
       "      <td>199</td>\n",
       "      <td>ultra</td>\n",
       "      <td>535</td>\n",
       "    </tr>\n",
       "  </tbody>\n",
       "</table>\n",
       "</div>"
      ],
      "text/plain": [
       "               distance  duration  minute_price  trips  start_ride_price  \\\n",
       "user_id month                                                              \n",
       "1       1      7,027.51        42             6      2                 0   \n",
       "        4        754.16         7             6      1                 0   \n",
       "        8      6,723.47        46             6      2                 0   \n",
       "        10     5,809.91        32             6      2                 0   \n",
       "        11     7,003.50        56             6      3                 0   \n",
       "\n",
       "               subscription_fee subscription_type  revenue  \n",
       "user_id month                                               \n",
       "1       1                   199             ultra      451  \n",
       "        4                   199             ultra      241  \n",
       "        8                   199             ultra      475  \n",
       "        10                  199             ultra      391  \n",
       "        11                  199             ultra      535  "
      ]
     },
     "execution_count": 61,
     "metadata": {},
     "output_type": "execute_result"
    }
   ],
   "source": [
    "data_pivot.head()"
   ]
  },
  {
   "cell_type": "markdown",
   "id": "b066adef",
   "metadata": {},
   "source": [
    "**Вывод:** \n",
    "\n",
    "Создан обновленный датасет **data_pivot** на основе датафрейма с объединенными данными **new_data**.\n",
    "\n",
    "Найдено суммарное расстояние, число поездок и суммарное время для каждого пользователя за каждый месяц. "
   ]
  },
  {
   "cell_type": "markdown",
   "id": "06d193e1",
   "metadata": {},
   "source": [
    "## Проверка гипотез"
   ]
  },
  {
   "cell_type": "markdown",
   "id": "9087c8d5",
   "metadata": {},
   "source": [
    "Продакт-менеджеры сервиса хотят увеличить количество пользователей с подпиской. \n",
    "\n",
    "Для этого они будут проводить различные акции, но сначала нужно выяснить несколько важных моментов."
   ]
  },
  {
   "cell_type": "markdown",
   "id": "65f82051",
   "metadata": {},
   "source": [
    "  "
   ]
  },
  {
   "cell_type": "markdown",
   "id": "9566156b",
   "metadata": {},
   "source": [
    "  "
   ]
  },
  {
   "cell_type": "markdown",
   "id": "cb5fa29c",
   "metadata": {},
   "source": [
    "**Задание 6.1**\n",
    "\n",
    "Важно понять, тратят ли пользователи с подпиской больше времени на поездки? Если да, то пользователи с подпиской могут быть «выгоднее» для компании. Проверьте гипотезу. Используйте исходные данные о продолжительности каждой сессии — отдельно для подписчиков и тех, у кого нет подписки."
   ]
  },
  {
   "cell_type": "markdown",
   "id": "000d47d0",
   "metadata": {},
   "source": [
    "Проверим гипотезу: \n",
    "\n",
    "(Н0) - Пользователи **с подпиской** тратят столько же времени, как и пользователи **без подписки**.\n",
    "\n",
    "(Н1) - Пользователи **с подпиской** тратят больше времени на поездки, чем пользователи **без подписки**."
   ]
  },
  {
   "cell_type": "code",
   "execution_count": 62,
   "id": "b2a41f60",
   "metadata": {
    "scrolled": true
   },
   "outputs": [
    {
     "name": "stdout",
     "output_type": "stream",
     "text": [
      "p - значение: 4.704468074453899e-28\n",
      "Отвергаем нулевую гипотезу\n"
     ]
    }
   ],
   "source": [
    "ultra = yes_subscription['duration']\n",
    "free = no_subscription['duration']\n",
    "\n",
    "alpha = 0.05\n",
    "\n",
    "results = st.ttest_ind(ultra,free,alternative='greater') # т.к. у нас две независимые выборки, применим _ind()\n",
    "\n",
    "print('p - значение:', results.pvalue)\n",
    "\n",
    "if results.pvalue > alpha:\n",
    "    print('Не отвергаем нулевую гипотезу')\n",
    "else:\n",
    "    print('Отвергаем нулевую гипотезу')\n"
   ]
  },
  {
   "cell_type": "markdown",
   "id": "256a4adb",
   "metadata": {},
   "source": [
    "Визуализируем данные по нашей гипотезе для большего убеждения:"
   ]
  },
  {
   "cell_type": "code",
   "execution_count": 63,
   "id": "dda86592",
   "metadata": {},
   "outputs": [
    {
     "data": {
      "text/html": [
       "<div>\n",
       "<style scoped>\n",
       "    .dataframe tbody tr th:only-of-type {\n",
       "        vertical-align: middle;\n",
       "    }\n",
       "\n",
       "    .dataframe tbody tr th {\n",
       "        vertical-align: top;\n",
       "    }\n",
       "\n",
       "    .dataframe thead th {\n",
       "        text-align: right;\n",
       "    }\n",
       "</style>\n",
       "<table border=\"1\" class=\"dataframe\">\n",
       "  <thead>\n",
       "    <tr style=\"text-align: right;\">\n",
       "      <th></th>\n",
       "      <th>user_id</th>\n",
       "      <th>name</th>\n",
       "      <th>age</th>\n",
       "      <th>city</th>\n",
       "      <th>subscription_type</th>\n",
       "      <th>distance</th>\n",
       "      <th>duration</th>\n",
       "      <th>date</th>\n",
       "      <th>month</th>\n",
       "      <th>minute_price</th>\n",
       "      <th>start_ride_price</th>\n",
       "      <th>subscription_fee</th>\n",
       "    </tr>\n",
       "  </thead>\n",
       "  <tbody>\n",
       "    <tr>\n",
       "      <th>0</th>\n",
       "      <td>1</td>\n",
       "      <td>Кира</td>\n",
       "      <td>22</td>\n",
       "      <td>Тюмень</td>\n",
       "      <td>ultra</td>\n",
       "      <td>4,409.92</td>\n",
       "      <td>26</td>\n",
       "      <td>2021-01-01</td>\n",
       "      <td>1</td>\n",
       "      <td>6</td>\n",
       "      <td>0</td>\n",
       "      <td>199</td>\n",
       "    </tr>\n",
       "    <tr>\n",
       "      <th>1</th>\n",
       "      <td>1</td>\n",
       "      <td>Кира</td>\n",
       "      <td>22</td>\n",
       "      <td>Тюмень</td>\n",
       "      <td>ultra</td>\n",
       "      <td>2,617.59</td>\n",
       "      <td>16</td>\n",
       "      <td>2021-01-18</td>\n",
       "      <td>1</td>\n",
       "      <td>6</td>\n",
       "      <td>0</td>\n",
       "      <td>199</td>\n",
       "    </tr>\n",
       "    <tr>\n",
       "      <th>2</th>\n",
       "      <td>1</td>\n",
       "      <td>Кира</td>\n",
       "      <td>22</td>\n",
       "      <td>Тюмень</td>\n",
       "      <td>ultra</td>\n",
       "      <td>754.16</td>\n",
       "      <td>7</td>\n",
       "      <td>2021-04-20</td>\n",
       "      <td>4</td>\n",
       "      <td>6</td>\n",
       "      <td>0</td>\n",
       "      <td>199</td>\n",
       "    </tr>\n",
       "    <tr>\n",
       "      <th>3</th>\n",
       "      <td>1</td>\n",
       "      <td>Кира</td>\n",
       "      <td>22</td>\n",
       "      <td>Тюмень</td>\n",
       "      <td>ultra</td>\n",
       "      <td>2,694.78</td>\n",
       "      <td>19</td>\n",
       "      <td>2021-08-11</td>\n",
       "      <td>8</td>\n",
       "      <td>6</td>\n",
       "      <td>0</td>\n",
       "      <td>199</td>\n",
       "    </tr>\n",
       "    <tr>\n",
       "      <th>4</th>\n",
       "      <td>1</td>\n",
       "      <td>Кира</td>\n",
       "      <td>22</td>\n",
       "      <td>Тюмень</td>\n",
       "      <td>ultra</td>\n",
       "      <td>4,028.69</td>\n",
       "      <td>27</td>\n",
       "      <td>2021-08-28</td>\n",
       "      <td>8</td>\n",
       "      <td>6</td>\n",
       "      <td>0</td>\n",
       "      <td>199</td>\n",
       "    </tr>\n",
       "    <tr>\n",
       "      <th>...</th>\n",
       "      <td>...</td>\n",
       "      <td>...</td>\n",
       "      <td>...</td>\n",
       "      <td>...</td>\n",
       "      <td>...</td>\n",
       "      <td>...</td>\n",
       "      <td>...</td>\n",
       "      <td>...</td>\n",
       "      <td>...</td>\n",
       "      <td>...</td>\n",
       "      <td>...</td>\n",
       "      <td>...</td>\n",
       "    </tr>\n",
       "    <tr>\n",
       "      <th>17968</th>\n",
       "      <td>1534</td>\n",
       "      <td>Альберт</td>\n",
       "      <td>25</td>\n",
       "      <td>Краснодар</td>\n",
       "      <td>free</td>\n",
       "      <td>3,781.10</td>\n",
       "      <td>20</td>\n",
       "      <td>2021-11-04</td>\n",
       "      <td>11</td>\n",
       "      <td>8</td>\n",
       "      <td>50</td>\n",
       "      <td>0</td>\n",
       "    </tr>\n",
       "    <tr>\n",
       "      <th>17969</th>\n",
       "      <td>1534</td>\n",
       "      <td>Альберт</td>\n",
       "      <td>25</td>\n",
       "      <td>Краснодар</td>\n",
       "      <td>free</td>\n",
       "      <td>2,840.42</td>\n",
       "      <td>22</td>\n",
       "      <td>2021-11-16</td>\n",
       "      <td>11</td>\n",
       "      <td>8</td>\n",
       "      <td>50</td>\n",
       "      <td>0</td>\n",
       "    </tr>\n",
       "    <tr>\n",
       "      <th>17970</th>\n",
       "      <td>1534</td>\n",
       "      <td>Альберт</td>\n",
       "      <td>25</td>\n",
       "      <td>Краснодар</td>\n",
       "      <td>free</td>\n",
       "      <td>3,826.19</td>\n",
       "      <td>19</td>\n",
       "      <td>2021-11-18</td>\n",
       "      <td>11</td>\n",
       "      <td>8</td>\n",
       "      <td>50</td>\n",
       "      <td>0</td>\n",
       "    </tr>\n",
       "    <tr>\n",
       "      <th>17971</th>\n",
       "      <td>1534</td>\n",
       "      <td>Альберт</td>\n",
       "      <td>25</td>\n",
       "      <td>Краснодар</td>\n",
       "      <td>free</td>\n",
       "      <td>2,902.31</td>\n",
       "      <td>17</td>\n",
       "      <td>2021-11-27</td>\n",
       "      <td>11</td>\n",
       "      <td>8</td>\n",
       "      <td>50</td>\n",
       "      <td>0</td>\n",
       "    </tr>\n",
       "    <tr>\n",
       "      <th>17972</th>\n",
       "      <td>1534</td>\n",
       "      <td>Альберт</td>\n",
       "      <td>25</td>\n",
       "      <td>Краснодар</td>\n",
       "      <td>free</td>\n",
       "      <td>2,371.71</td>\n",
       "      <td>16</td>\n",
       "      <td>2021-12-29</td>\n",
       "      <td>12</td>\n",
       "      <td>8</td>\n",
       "      <td>50</td>\n",
       "      <td>0</td>\n",
       "    </tr>\n",
       "  </tbody>\n",
       "</table>\n",
       "<p>17973 rows × 12 columns</p>\n",
       "</div>"
      ],
      "text/plain": [
       "       user_id     name  age       city subscription_type  distance  duration  \\\n",
       "0            1     Кира   22     Тюмень             ultra  4,409.92        26   \n",
       "1            1     Кира   22     Тюмень             ultra  2,617.59        16   \n",
       "2            1     Кира   22     Тюмень             ultra    754.16         7   \n",
       "3            1     Кира   22     Тюмень             ultra  2,694.78        19   \n",
       "4            1     Кира   22     Тюмень             ultra  4,028.69        27   \n",
       "...        ...      ...  ...        ...               ...       ...       ...   \n",
       "17968     1534  Альберт   25  Краснодар              free  3,781.10        20   \n",
       "17969     1534  Альберт   25  Краснодар              free  2,840.42        22   \n",
       "17970     1534  Альберт   25  Краснодар              free  3,826.19        19   \n",
       "17971     1534  Альберт   25  Краснодар              free  2,902.31        17   \n",
       "17972     1534  Альберт   25  Краснодар              free  2,371.71        16   \n",
       "\n",
       "            date  month  minute_price  start_ride_price  subscription_fee  \n",
       "0     2021-01-01      1             6                 0               199  \n",
       "1     2021-01-18      1             6                 0               199  \n",
       "2     2021-04-20      4             6                 0               199  \n",
       "3     2021-08-11      8             6                 0               199  \n",
       "4     2021-08-28      8             6                 0               199  \n",
       "...          ...    ...           ...               ...               ...  \n",
       "17968 2021-11-04     11             8                50                 0  \n",
       "17969 2021-11-16     11             8                50                 0  \n",
       "17970 2021-11-18     11             8                50                 0  \n",
       "17971 2021-11-27     11             8                50                 0  \n",
       "17972 2021-12-29     12             8                50                 0  \n",
       "\n",
       "[17973 rows x 12 columns]"
      ]
     },
     "execution_count": 63,
     "metadata": {},
     "output_type": "execute_result"
    }
   ],
   "source": [
    "new_data"
   ]
  },
  {
   "cell_type": "code",
   "execution_count": 64,
   "id": "7c73cec3",
   "metadata": {},
   "outputs": [
    {
     "data": {
      "image/png": "[encoded data removed]",
      "text/plain": [
       "<Figure size 432x288 with 1 Axes>"
      ]
     },
     "metadata": {
      "needs_background": "light"
     },
     "output_type": "display_data"
    },
    {
     "data": {
      "image/png": "[encoded data removed]",
      "text/plain": [
       "<Figure size 432x288 with 1 Axes>"
      ]
     },
     "metadata": {
      "needs_background": "light"
     },
     "output_type": "display_data"
    },
    {
     "data": {
      "text/plain": [
       "count   17,973.00\n",
       "mean        18.39\n",
       "std          5.98\n",
       "min          3.00\n",
       "25%         14.00\n",
       "50%         18.00\n",
       "75%         22.00\n",
       "max         41.00\n",
       "Name: duration, dtype: float64"
      ]
     },
     "execution_count": 64,
     "metadata": {},
     "output_type": "execute_result"
    }
   ],
   "source": [
    "df = sns.barplot(x='month', \n",
    "            y='duration', \n",
    "            data=new_data,\n",
    "            hue='subscription_type')\n",
    "                 \n",
    "df.set_title('Зависимость продолжительности поездок от вида тарифа')\n",
    "df.set(xlabel='Месяц', ylabel='количество минут')\n",
    "plt.show()\n",
    "\n",
    "\n",
    "# Дополнительно выведем общие средние значения продолжительности поездок для каждой категории польздователей\n",
    "df = sns.barplot(x='month', \n",
    "            y='duration', \n",
    "            data=new_data,\n",
    "           )\n",
    "                 \n",
    "df.set_title('Среднее временя поездок по месяцам')\n",
    "df.set(xlabel='Месяц', ylabel='количество минут')\n",
    "plt.show()\n",
    "\n",
    "# Выведем описательную статистику по столбцу Duration:\n",
    "new_data['duration'].describe()"
   ]
  },
  {
   "cell_type": "markdown",
   "id": "1b6dc0d8",
   "metadata": {},
   "source": [
    "**Вывод:**\n",
    "\n",
    "Т.к. мы отвергаем нулевую гипотезу и подтверждаем соответсвтующим графиком: Вероятнее всего, пользователи **с подпиской** тратят больше времени на поездки, чем пользователи **без подписки**."
   ]
  },
  {
   "cell_type": "markdown",
   "id": "10cef2ee",
   "metadata": {},
   "source": [
    "    "
   ]
  },
  {
   "cell_type": "markdown",
   "id": "135e0bf7",
   "metadata": {},
   "source": [
    "    "
   ]
  },
  {
   "cell_type": "markdown",
   "id": "a3cc7d1a",
   "metadata": {},
   "source": [
    "**Задание 6.2**"
   ]
  },
  {
   "cell_type": "markdown",
   "id": "4dbbb5de",
   "metadata": {},
   "source": [
    "Расстояние одной поездки в 3130 — оптимальное с точки зрения износа самоката. Можно ли сказать, что среднее расстояние, которое проезжают пользователи с подпиской за одну поездку, не превышает 3130 метров? Проверьте гипотезу и сделайте выводы."
   ]
  },
  {
   "cell_type": "code",
   "execution_count": 65,
   "id": "abf65241",
   "metadata": {},
   "outputs": [
    {
     "data": {
      "text/html": [
       "<div>\n",
       "<style scoped>\n",
       "    .dataframe tbody tr th:only-of-type {\n",
       "        vertical-align: middle;\n",
       "    }\n",
       "\n",
       "    .dataframe tbody tr th {\n",
       "        vertical-align: top;\n",
       "    }\n",
       "\n",
       "    .dataframe thead th {\n",
       "        text-align: right;\n",
       "    }\n",
       "</style>\n",
       "<table border=\"1\" class=\"dataframe\">\n",
       "  <thead>\n",
       "    <tr style=\"text-align: right;\">\n",
       "      <th></th>\n",
       "      <th>user_id</th>\n",
       "      <th>name</th>\n",
       "      <th>age</th>\n",
       "      <th>city</th>\n",
       "      <th>subscription_type</th>\n",
       "      <th>distance</th>\n",
       "      <th>duration</th>\n",
       "      <th>date</th>\n",
       "      <th>month</th>\n",
       "      <th>minute_price</th>\n",
       "      <th>start_ride_price</th>\n",
       "      <th>subscription_fee</th>\n",
       "    </tr>\n",
       "  </thead>\n",
       "  <tbody>\n",
       "    <tr>\n",
       "      <th>0</th>\n",
       "      <td>1</td>\n",
       "      <td>Кира</td>\n",
       "      <td>22</td>\n",
       "      <td>Тюмень</td>\n",
       "      <td>ultra</td>\n",
       "      <td>4,409.92</td>\n",
       "      <td>25.60</td>\n",
       "      <td>2021-01-01</td>\n",
       "      <td>1</td>\n",
       "      <td>6</td>\n",
       "      <td>0</td>\n",
       "      <td>199</td>\n",
       "    </tr>\n",
       "    <tr>\n",
       "      <th>1</th>\n",
       "      <td>1</td>\n",
       "      <td>Кира</td>\n",
       "      <td>22</td>\n",
       "      <td>Тюмень</td>\n",
       "      <td>ultra</td>\n",
       "      <td>2,617.59</td>\n",
       "      <td>15.82</td>\n",
       "      <td>2021-01-18</td>\n",
       "      <td>1</td>\n",
       "      <td>6</td>\n",
       "      <td>0</td>\n",
       "      <td>199</td>\n",
       "    </tr>\n",
       "    <tr>\n",
       "      <th>2</th>\n",
       "      <td>1</td>\n",
       "      <td>Кира</td>\n",
       "      <td>22</td>\n",
       "      <td>Тюмень</td>\n",
       "      <td>ultra</td>\n",
       "      <td>754.16</td>\n",
       "      <td>6.23</td>\n",
       "      <td>2021-04-20</td>\n",
       "      <td>4</td>\n",
       "      <td>6</td>\n",
       "      <td>0</td>\n",
       "      <td>199</td>\n",
       "    </tr>\n",
       "    <tr>\n",
       "      <th>3</th>\n",
       "      <td>1</td>\n",
       "      <td>Кира</td>\n",
       "      <td>22</td>\n",
       "      <td>Тюмень</td>\n",
       "      <td>ultra</td>\n",
       "      <td>2,694.78</td>\n",
       "      <td>18.51</td>\n",
       "      <td>2021-08-11</td>\n",
       "      <td>8</td>\n",
       "      <td>6</td>\n",
       "      <td>0</td>\n",
       "      <td>199</td>\n",
       "    </tr>\n",
       "    <tr>\n",
       "      <th>4</th>\n",
       "      <td>1</td>\n",
       "      <td>Кира</td>\n",
       "      <td>22</td>\n",
       "      <td>Тюмень</td>\n",
       "      <td>ultra</td>\n",
       "      <td>4,028.69</td>\n",
       "      <td>26.27</td>\n",
       "      <td>2021-08-28</td>\n",
       "      <td>8</td>\n",
       "      <td>6</td>\n",
       "      <td>0</td>\n",
       "      <td>199</td>\n",
       "    </tr>\n",
       "  </tbody>\n",
       "</table>\n",
       "</div>"
      ],
      "text/plain": [
       "   user_id  name  age    city subscription_type  distance  duration  \\\n",
       "0        1  Кира   22  Тюмень             ultra  4,409.92     25.60   \n",
       "1        1  Кира   22  Тюмень             ultra  2,617.59     15.82   \n",
       "2        1  Кира   22  Тюмень             ultra    754.16      6.23   \n",
       "3        1  Кира   22  Тюмень             ultra  2,694.78     18.51   \n",
       "4        1  Кира   22  Тюмень             ultra  4,028.69     26.27   \n",
       "\n",
       "        date  month  minute_price  start_ride_price  subscription_fee  \n",
       "0 2021-01-01      1             6                 0               199  \n",
       "1 2021-01-18      1             6                 0               199  \n",
       "2 2021-04-20      4             6                 0               199  \n",
       "3 2021-08-11      8             6                 0               199  \n",
       "4 2021-08-28      8             6                 0               199  "
      ]
     },
     "execution_count": 65,
     "metadata": {},
     "output_type": "execute_result"
    }
   ],
   "source": [
    "yes_subscription.head(5)"
   ]
  },
  {
   "cell_type": "markdown",
   "id": "0f70214c",
   "metadata": {},
   "source": [
    "(Н0) - среднее расстояние, которое проезжают пользователи с подпиской за одну поездку, **равно** 3130 метров\n",
    "\n",
    "(Н1) - среднее расстояние, которое проезжают пользователи с подпиской за одну поездку, **превышает** 3130 метров"
   ]
  },
  {
   "cell_type": "code",
   "execution_count": 66,
   "id": "090d1918",
   "metadata": {},
   "outputs": [
    {
     "name": "stdout",
     "output_type": "stream",
     "text": [
      "p - значение: 0.9195368847849785\n",
      "Не отвергаем нулевую гипотезу\n"
     ]
    }
   ],
   "source": [
    "distance = yes_subscription['distance']\n",
    "optimal_value = 3130\n",
    "alpha = 0.05\n",
    "\n",
    "results = st.ttest_1samp(\n",
    "    distance,\n",
    "    optimal_value,\n",
    "    alternative='greater')\n",
    "print('p - значение:', results.pvalue)\n",
    "\n",
    "if results.pvalue < alpha:\n",
    "    print('Отвергаем нулевую гипотезу')\n",
    "else:\n",
    "    print('Не отвергаем нулевую гипотезу')"
   ]
  },
  {
   "cell_type": "code",
   "execution_count": 67,
   "id": "3c51672a",
   "metadata": {
    "scrolled": true
   },
   "outputs": [
    {
     "data": {
      "image/png": "[encoded data removed]",
      "text/plain": [
       "<Figure size 432x288 with 1 Axes>"
      ]
     },
     "metadata": {
      "needs_background": "light"
     },
     "output_type": "display_data"
    }
   ],
   "source": [
    "df = sns.barplot(x='month', \n",
    "            y='distance', \n",
    "            data=yes_subscription,\n",
    "                )\n",
    "                 \n",
    "df.set_title('Расстояние которое проезжает пользователи по подписке ultra')\n",
    "df.set(xlabel='Месяц', ylabel='Дистанция')\n",
    "plt.show()\n",
    "\n"
   ]
  },
  {
   "cell_type": "code",
   "execution_count": 68,
   "id": "262adefa",
   "metadata": {},
   "outputs": [
    {
     "data": {
      "text/plain": [
       "count   6,500.00\n",
       "mean    3,115.45\n",
       "std       836.90\n",
       "min       244.21\n",
       "25%     2,785.44\n",
       "50%     3,148.64\n",
       "75%     3,560.57\n",
       "max     5,699.77\n",
       "Name: distance, dtype: float64"
      ]
     },
     "execution_count": 68,
     "metadata": {},
     "output_type": "execute_result"
    }
   ],
   "source": [
    "yes_subscription['distance'].describe() # Посмотрим на описательную статистику чтобы убедиться, что среднее в районе 3130"
   ]
  },
  {
   "cell_type": "markdown",
   "id": "fb770a7e",
   "metadata": {},
   "source": [
    "**Вывод:**\n",
    "    \n",
    "Значение P-value больше, чем уровень статистической значимости, соответственно мы не можем отвергнуть нулевую гипотезу. \n",
    "\n",
    "Т.е. пользователи с подпиской вероятнее всего будут совершать поездки в среднем около 3130 метров. \n",
    "\n",
    "В подтверждение теории построили график и вывели описательную статистику."
   ]
  },
  {
   "cell_type": "markdown",
   "id": "42af3ad2",
   "metadata": {},
   "source": [
    "**Задание 6.3**"
   ]
  },
  {
   "cell_type": "markdown",
   "id": "54fa572b",
   "metadata": {},
   "source": [
    "6.3 Проверьте гипотезу о том, будет ли помесячная выручка от пользователей с подпиской по месяцам выше, чем выручка от пользователей без подписки. Сделайте вывод."
   ]
  },
  {
   "cell_type": "markdown",
   "id": "1884dfe4",
   "metadata": {},
   "source": [
    "(Н0) - помесячная выручка от пользователей с подпиской **равна** помесячной выручке пользователей без подписки;\n",
    "\n",
    "(Н1) - помесячная выручка от пользователей с подпиской **выше** помесячной выручке пользователей без подписки;"
   ]
  },
  {
   "cell_type": "code",
   "execution_count": 69,
   "id": "7c04d434",
   "metadata": {},
   "outputs": [
    {
     "data": {
      "text/html": [
       "<div>\n",
       "<style scoped>\n",
       "    .dataframe tbody tr th:only-of-type {\n",
       "        vertical-align: middle;\n",
       "    }\n",
       "\n",
       "    .dataframe tbody tr th {\n",
       "        vertical-align: top;\n",
       "    }\n",
       "\n",
       "    .dataframe thead th {\n",
       "        text-align: right;\n",
       "    }\n",
       "</style>\n",
       "<table border=\"1\" class=\"dataframe\">\n",
       "  <thead>\n",
       "    <tr style=\"text-align: right;\">\n",
       "      <th></th>\n",
       "      <th></th>\n",
       "      <th>distance</th>\n",
       "      <th>duration</th>\n",
       "      <th>minute_price</th>\n",
       "      <th>trips</th>\n",
       "      <th>start_ride_price</th>\n",
       "      <th>subscription_fee</th>\n",
       "      <th>subscription_type</th>\n",
       "      <th>revenue</th>\n",
       "    </tr>\n",
       "    <tr>\n",
       "      <th>user_id</th>\n",
       "      <th>month</th>\n",
       "      <th></th>\n",
       "      <th></th>\n",
       "      <th></th>\n",
       "      <th></th>\n",
       "      <th></th>\n",
       "      <th></th>\n",
       "      <th></th>\n",
       "      <th></th>\n",
       "    </tr>\n",
       "  </thead>\n",
       "  <tbody>\n",
       "    <tr>\n",
       "      <th rowspan=\"5\" valign=\"top\">1</th>\n",
       "      <th>1</th>\n",
       "      <td>7,027.51</td>\n",
       "      <td>42</td>\n",
       "      <td>6</td>\n",
       "      <td>2</td>\n",
       "      <td>0</td>\n",
       "      <td>199</td>\n",
       "      <td>ultra</td>\n",
       "      <td>451</td>\n",
       "    </tr>\n",
       "    <tr>\n",
       "      <th>4</th>\n",
       "      <td>754.16</td>\n",
       "      <td>7</td>\n",
       "      <td>6</td>\n",
       "      <td>1</td>\n",
       "      <td>0</td>\n",
       "      <td>199</td>\n",
       "      <td>ultra</td>\n",
       "      <td>241</td>\n",
       "    </tr>\n",
       "    <tr>\n",
       "      <th>8</th>\n",
       "      <td>6,723.47</td>\n",
       "      <td>46</td>\n",
       "      <td>6</td>\n",
       "      <td>2</td>\n",
       "      <td>0</td>\n",
       "      <td>199</td>\n",
       "      <td>ultra</td>\n",
       "      <td>475</td>\n",
       "    </tr>\n",
       "    <tr>\n",
       "      <th>10</th>\n",
       "      <td>5,809.91</td>\n",
       "      <td>32</td>\n",
       "      <td>6</td>\n",
       "      <td>2</td>\n",
       "      <td>0</td>\n",
       "      <td>199</td>\n",
       "      <td>ultra</td>\n",
       "      <td>391</td>\n",
       "    </tr>\n",
       "    <tr>\n",
       "      <th>11</th>\n",
       "      <td>7,003.50</td>\n",
       "      <td>56</td>\n",
       "      <td>6</td>\n",
       "      <td>3</td>\n",
       "      <td>0</td>\n",
       "      <td>199</td>\n",
       "      <td>ultra</td>\n",
       "      <td>535</td>\n",
       "    </tr>\n",
       "  </tbody>\n",
       "</table>\n",
       "</div>"
      ],
      "text/plain": [
       "               distance  duration  minute_price  trips  start_ride_price  \\\n",
       "user_id month                                                              \n",
       "1       1      7,027.51        42             6      2                 0   \n",
       "        4        754.16         7             6      1                 0   \n",
       "        8      6,723.47        46             6      2                 0   \n",
       "        10     5,809.91        32             6      2                 0   \n",
       "        11     7,003.50        56             6      3                 0   \n",
       "\n",
       "               subscription_fee subscription_type  revenue  \n",
       "user_id month                                               \n",
       "1       1                   199             ultra      451  \n",
       "        4                   199             ultra      241  \n",
       "        8                   199             ultra      475  \n",
       "        10                  199             ultra      391  \n",
       "        11                  199             ultra      535  "
      ]
     },
     "execution_count": 69,
     "metadata": {},
     "output_type": "execute_result"
    }
   ],
   "source": [
    "data_pivot.head()"
   ]
  },
  {
   "cell_type": "code",
   "execution_count": 70,
   "id": "6bc829da",
   "metadata": {},
   "outputs": [
    {
     "name": "stdout",
     "output_type": "stream",
     "text": [
      "p-value: 6.029098397097659e-176\n",
      "Отвергаем нулевую гипотезу\n"
     ]
    }
   ],
   "source": [
    "ultra_revenge = data_pivot.loc[data_pivot.subscription_type == 'ultra', 'revenue']\n",
    "free_revenge = data_pivot.loc[data_pivot.subscription_type == 'free', 'revenue']\n",
    "results = st.ttest_ind(ultra_revenge, free_revenge, alternative='greater')\n",
    "alpha = 0.05\n",
    "\n",
    "print('p-value:', results.pvalue)\n",
    "if results.pvalue < alpha:\n",
    "    print('Отвергаем нулевую гипотезу')\n",
    "else:\n",
    "    print('Не отвергаем нулевую гипотезу')"
   ]
  },
  {
   "cell_type": "code",
   "execution_count": 71,
   "id": "82f37683",
   "metadata": {},
   "outputs": [
    {
     "data": {
      "image/png": "[encoded data removed]",
      "text/plain": [
       "<Figure size 432x288 with 1 Axes>"
      ]
     },
     "metadata": {
      "needs_background": "light"
     },
     "output_type": "display_data"
    }
   ],
   "source": [
    "df = sns.barplot(x='subscription_type',\n",
    "                 y='revenue',  \n",
    "                 data=data_pivot\n",
    "                )\n",
    "                 \n",
    "df.set_title('Выручка от пользователей с подпиской и без')\n",
    "df.set(xlabel='Месяц', ylabel='выручка')\n",
    "plt.show()"
   ]
  },
  {
   "cell_type": "markdown",
   "id": "5f4fe620",
   "metadata": {},
   "source": [
    "**Вывод:**\n",
    "   В соответствии с расчетами, мы скорее отвергаем нулевую гипотезу, т.к. p-value больше уровня статистической значимости.\n",
    "Это означает, что выручка от пользователей с подпиской ultra по месяцам выше, чем выручка от пользователей без подписки."
   ]
  },
  {
   "cell_type": "markdown",
   "id": "21ab4868",
   "metadata": {},
   "source": [
    "  "
   ]
  },
  {
   "cell_type": "markdown",
   "id": "59b42d27",
   "metadata": {},
   "source": [
    "**Задание 6.4**"
   ]
  },
  {
   "cell_type": "markdown",
   "id": "03d3d1a0",
   "metadata": {},
   "source": [
    "6.4 Представьте такую ситуацию: техническая команда сервиса обновила сервера, с которыми взаимодействует мобильное приложение. Она надеется, что из-за этого количество обращений в техподдержку значимо снизилось. Некоторый файл содержит для каждого пользователя данные о количестве обращений до обновления и после него. Какой тест вам понадобился бы для проверки этой гипотезы?"
   ]
  },
  {
   "cell_type": "markdown",
   "id": "67847a06",
   "metadata": {},
   "source": [
    "**Ответ:** В таком случае понадобится тест scipy.stats.ttest_rel(), учитывая, что выборки независимы.\n",
    " \n",
    "    Формулировка гипотезы : \n",
    "\n",
    "        \n",
    "        (Н0) - м1 >= м2\n",
    "\n",
    "        (Н1) - м1 < м2.   \n",
    "                \n",
    "                \n",
    "               "
   ]
  },
  {
   "cell_type": "markdown",
   "id": "67121403",
   "metadata": {},
   "source": [
    "# Вывод: \n",
    "    "
   ]
  },
  {
   "cell_type": "markdown",
   "id": "20173442",
   "metadata": {},
   "source": [
    "В данной исследовательской работе мы изучили пользователей сервиса по аренде самокатов комании GOFAST!. Работа была поделена на этапы, первым из которых - предобработка данных. На данном этапе мы преобразовывали тип данных у колонки с датой, создали новые колонки с указанием номера месяца, для удобства работы над проектом. \n",
    "\n",
    "Следущим шагом было проведение исследовательского анализа полученных данных, мы узнали сколько пользователей, кто имеет попдписку ultra, и сколько пользуется без подписки. Также построили  гистограмму и увидели, что пользователи равномерно распределены по городам в процентном соотношении от 11-14 %. Больше всего уникальных пользователей в г. Пятигорск 14%, а г.Москва наименьшее число пользователей 11%. По возрастным группам пользователи распределены \"нормально\" - чаще всего это молодые люди в возрасте от 22 до 28 лет. По временной сессии определелили, что чаще всего самокат берут в аренду на 13-21 минуты, а расстояние которое чаще всего проезжают пользователи в диапазоне от 2500 до 3700 метров.\n",
    "\n",
    "После проведенного исследования данных мы произвели слияние датасетов в один по общему уникальному номеру пользователя (user_id) для удобства подсчета выручки. После слияния мы снова разделили данные на две группы: пользователи с подпиской и пользователи без подписки с целью проверки гипотез о том, какие всё таки пользователи для компании GoFast интеренснее, с подпиской или без. \n",
    "Мы проверили гипотезы и пришли к выводу:\n",
    "      \n",
    "1. Тратят ли пользователи с подпиской больше времени на поездки?\n",
    "\n",
    "    **Вывод:** Вероятнее всего, пользователи с подпиской тратят больше времени на поездки, чем пользователи без подписки.\n",
    "       \n",
    "       \n",
    "2. Можно ли сказать, что среднее расстояние, которое проезжают пользователи с подпиской за одну поездку, не превышает 3130 метров? \n",
    "\n",
    "    **Вывод:** Пользователи с подпиской вероятнее всего будут совершать поездки в среднем около 3130 метров.\n",
    "       \n",
    "        \n",
    "3. Будет ли помесячная выручка от пользователей с подпиской по месяцам выше, чем выручка от пользователей без подписки.   \n",
    "\n",
    "    **Вывод:** Выручка от пользователей с подпиской ultra по месяцам выше, чем выручка от пользователей без подписки.\n",
    "          \n",
    "\n",
    "Подводя итоги исследования можно сделать вывод о том, что пользователи с подпиской выгоднее чем пользователи без подписки, и учитывая что 56% пользователей ещё не оформили подписку рекомендуется проводить различные мероприятия по привлечению большего числа подписчиков."
   ]
  }
 ],
 "metadata": {
  "ExecuteTimeLog": [
   {
    "duration": 57,
    "start_time": "2023-10-18T12:04:24.829Z"
   },
   {
    "duration": 9,
    "start_time": "2023-10-18T12:04:50.170Z"
   },
   {
    "duration": 478,
    "start_time": "2023-10-18T12:05:12.626Z"
   },
   {
    "duration": 37,
    "start_time": "2023-10-18T12:05:14.472Z"
   },
   {
    "duration": 102,
    "start_time": "2023-10-18T12:05:50.647Z"
   },
   {
    "duration": 246,
    "start_time": "2023-10-18T12:07:47.205Z"
   },
   {
    "duration": 10,
    "start_time": "2023-10-18T12:08:46.301Z"
   },
   {
    "duration": 10,
    "start_time": "2023-10-18T12:09:00.935Z"
   },
   {
    "duration": 9,
    "start_time": "2023-10-18T12:09:04.925Z"
   },
   {
    "duration": 79,
    "start_time": "2023-10-18T12:09:29.598Z"
   },
   {
    "duration": 10,
    "start_time": "2023-10-18T12:09:30.644Z"
   },
   {
    "duration": 8,
    "start_time": "2023-10-18T12:09:35.514Z"
   },
   {
    "duration": 9,
    "start_time": "2023-10-18T12:09:43.825Z"
   },
   {
    "duration": 15,
    "start_time": "2023-10-18T12:10:26.913Z"
   },
   {
    "duration": 16,
    "start_time": "2023-10-18T12:10:39.466Z"
   },
   {
    "duration": 17,
    "start_time": "2023-10-18T12:10:51.803Z"
   },
   {
    "duration": 22,
    "start_time": "2023-10-18T12:11:05.111Z"
   },
   {
    "duration": 12,
    "start_time": "2023-10-18T12:11:17.611Z"
   },
   {
    "duration": 18,
    "start_time": "2023-10-18T12:11:26.966Z"
   },
   {
    "duration": 8,
    "start_time": "2023-10-18T12:12:43.118Z"
   },
   {
    "duration": 12,
    "start_time": "2023-10-18T12:12:44.578Z"
   },
   {
    "duration": 10,
    "start_time": "2023-10-18T12:26:12.931Z"
   },
   {
    "duration": 16,
    "start_time": "2023-10-18T12:26:22.051Z"
   },
   {
    "duration": 7,
    "start_time": "2023-10-18T12:27:52.114Z"
   },
   {
    "duration": 5,
    "start_time": "2023-10-18T12:28:10.436Z"
   },
   {
    "duration": 7,
    "start_time": "2023-10-18T12:28:22.206Z"
   },
   {
    "duration": 7,
    "start_time": "2023-10-18T12:28:47.502Z"
   },
   {
    "duration": 13,
    "start_time": "2023-10-18T12:30:24.778Z"
   },
   {
    "duration": 8,
    "start_time": "2023-10-18T12:30:31.134Z"
   },
   {
    "duration": 1900,
    "start_time": "2023-10-18T12:31:16.592Z"
   },
   {
    "duration": 7,
    "start_time": "2023-10-18T12:31:26.772Z"
   },
   {
    "duration": 9,
    "start_time": "2023-10-18T12:32:09.176Z"
   },
   {
    "duration": 5,
    "start_time": "2023-10-18T12:32:47.502Z"
   },
   {
    "duration": 179,
    "start_time": "2023-10-18T12:34:04.744Z"
   },
   {
    "duration": 181,
    "start_time": "2023-10-18T12:34:16.738Z"
   },
   {
    "duration": 969,
    "start_time": "2023-10-18T12:34:34.815Z"
   },
   {
    "duration": 4,
    "start_time": "2023-10-18T12:35:34.173Z"
   },
   {
    "duration": 83,
    "start_time": "2023-10-18T12:35:35.347Z"
   },
   {
    "duration": 10,
    "start_time": "2023-10-18T12:35:35.482Z"
   },
   {
    "duration": 21,
    "start_time": "2023-10-18T12:35:35.648Z"
   },
   {
    "duration": 19,
    "start_time": "2023-10-18T12:35:35.940Z"
   },
   {
    "duration": 7,
    "start_time": "2023-10-18T12:35:36.114Z"
   },
   {
    "duration": 375,
    "start_time": "2023-10-18T12:35:36.243Z"
   },
   {
    "duration": 10,
    "start_time": "2023-10-18T12:35:53.626Z"
   },
   {
    "duration": 8,
    "start_time": "2023-10-18T12:41:30.141Z"
   },
   {
    "duration": 653,
    "start_time": "2023-10-18T13:18:44.781Z"
   },
   {
    "duration": 173,
    "start_time": "2023-10-18T13:20:31.072Z"
   },
   {
    "duration": 215,
    "start_time": "2023-10-18T13:20:52.966Z"
   },
   {
    "duration": 185,
    "start_time": "2023-10-18T13:21:04.604Z"
   },
   {
    "duration": 125,
    "start_time": "2023-10-18T13:21:34.384Z"
   },
   {
    "duration": 270,
    "start_time": "2023-10-18T13:21:53.780Z"
   },
   {
    "duration": 349,
    "start_time": "2023-10-18T13:23:00.398Z"
   },
   {
    "duration": 355,
    "start_time": "2023-10-18T13:23:11.229Z"
   },
   {
    "duration": 122,
    "start_time": "2023-10-18T13:25:41.546Z"
   },
   {
    "duration": 384,
    "start_time": "2023-10-18T13:27:47.810Z"
   },
   {
    "duration": 358,
    "start_time": "2023-10-18T13:30:13.725Z"
   },
   {
    "duration": 137,
    "start_time": "2023-10-18T13:33:43.437Z"
   },
   {
    "duration": 3,
    "start_time": "2023-10-18T13:35:47.085Z"
   },
   {
    "duration": 15,
    "start_time": "2023-10-18T13:35:47.748Z"
   },
   {
    "duration": 2,
    "start_time": "2023-10-18T13:35:49.729Z"
   },
   {
    "duration": 9,
    "start_time": "2023-10-18T13:36:29.230Z"
   },
   {
    "duration": 14,
    "start_time": "2023-10-18T13:36:47.428Z"
   },
   {
    "duration": 438,
    "start_time": "2023-10-18T13:37:42.696Z"
   },
   {
    "duration": 12,
    "start_time": "2023-10-18T13:42:59.717Z"
   },
   {
    "duration": 8,
    "start_time": "2023-10-18T13:44:22.612Z"
   },
   {
    "duration": 12,
    "start_time": "2023-10-18T13:44:43.195Z"
   },
   {
    "duration": 117,
    "start_time": "2023-10-18T13:56:24.184Z"
   },
   {
    "duration": 8,
    "start_time": "2023-10-18T13:57:11.237Z"
   },
   {
    "duration": 8,
    "start_time": "2023-10-18T13:57:12.717Z"
   },
   {
    "duration": 629,
    "start_time": "2023-10-18T13:58:48.592Z"
   },
   {
    "duration": 388,
    "start_time": "2023-10-18T13:59:04.488Z"
   },
   {
    "duration": 501,
    "start_time": "2023-10-18T13:59:08.816Z"
   },
   {
    "duration": 120,
    "start_time": "2023-10-18T14:00:01.273Z"
   },
   {
    "duration": 12,
    "start_time": "2023-10-18T14:00:59.718Z"
   },
   {
    "duration": 18,
    "start_time": "2023-10-18T14:01:00.877Z"
   },
   {
    "duration": 527,
    "start_time": "2023-10-18T14:01:01.067Z"
   },
   {
    "duration": 48,
    "start_time": "2023-10-19T09:03:39.384Z"
   },
   {
    "duration": 6,
    "start_time": "2023-10-19T09:03:48.413Z"
   },
   {
    "duration": 1290,
    "start_time": "2023-10-19T09:03:56.175Z"
   },
   {
    "duration": 280,
    "start_time": "2023-10-19T09:03:57.749Z"
   },
   {
    "duration": 59,
    "start_time": "2023-10-19T09:03:59.048Z"
   },
   {
    "duration": 8,
    "start_time": "2023-10-19T09:04:00.765Z"
   },
   {
    "duration": 3,
    "start_time": "2023-10-19T09:04:13.460Z"
   },
   {
    "duration": 22,
    "start_time": "2023-10-19T09:04:16.952Z"
   },
   {
    "duration": 19,
    "start_time": "2023-10-19T09:04:39.381Z"
   },
   {
    "duration": 18,
    "start_time": "2023-10-19T09:04:42.341Z"
   },
   {
    "duration": 39,
    "start_time": "2023-10-19T09:05:18.249Z"
   },
   {
    "duration": 77,
    "start_time": "2023-10-19T09:07:48.486Z"
   },
   {
    "duration": 83,
    "start_time": "2023-10-19T09:08:29.013Z"
   },
   {
    "duration": 71,
    "start_time": "2023-10-19T09:13:35.747Z"
   },
   {
    "duration": 75,
    "start_time": "2023-10-19T09:14:21.606Z"
   },
   {
    "duration": 2,
    "start_time": "2023-10-19T09:15:31.925Z"
   },
   {
    "duration": 70,
    "start_time": "2023-10-19T09:15:32.963Z"
   },
   {
    "duration": 2,
    "start_time": "2023-10-19T09:15:33.136Z"
   },
   {
    "duration": 81,
    "start_time": "2023-10-19T09:15:33.325Z"
   },
   {
    "duration": 286,
    "start_time": "2023-10-19T09:15:34.276Z"
   },
   {
    "duration": 363,
    "start_time": "2023-10-19T09:15:37.208Z"
   },
   {
    "duration": 9,
    "start_time": "2023-10-19T09:15:37.623Z"
   },
   {
    "duration": 345,
    "start_time": "2023-10-19T09:15:40.834Z"
   },
   {
    "duration": 7,
    "start_time": "2023-10-19T09:15:45.033Z"
   },
   {
    "duration": 4,
    "start_time": "2023-10-19T09:15:47.252Z"
   },
   {
    "duration": 111,
    "start_time": "2023-10-19T09:57:19.855Z"
   },
   {
    "duration": 2,
    "start_time": "2023-10-19T09:57:24.604Z"
   },
   {
    "duration": 67,
    "start_time": "2023-10-19T09:57:24.827Z"
   },
   {
    "duration": 3,
    "start_time": "2023-10-19T09:57:25.001Z"
   },
   {
    "duration": 10,
    "start_time": "2023-10-19T10:09:08.271Z"
   },
   {
    "duration": 10,
    "start_time": "2023-10-19T10:09:42.822Z"
   },
   {
    "duration": 8,
    "start_time": "2023-10-19T10:10:13.773Z"
   },
   {
    "duration": 391,
    "start_time": "2023-10-19T10:11:04.043Z"
   },
   {
    "duration": 435,
    "start_time": "2023-10-19T10:12:08.317Z"
   },
   {
    "duration": 366,
    "start_time": "2023-10-19T10:12:11.560Z"
   },
   {
    "duration": 8,
    "start_time": "2023-10-19T11:29:02.806Z"
   },
   {
    "duration": 8,
    "start_time": "2023-10-19T11:29:08.044Z"
   },
   {
    "duration": 9,
    "start_time": "2023-10-19T11:29:18.158Z"
   },
   {
    "duration": 5,
    "start_time": "2023-10-19T11:29:24.913Z"
   },
   {
    "duration": 1579,
    "start_time": "2023-10-19T11:32:35.455Z"
   },
   {
    "duration": 1591,
    "start_time": "2023-10-19T11:32:49.066Z"
   },
   {
    "duration": 8,
    "start_time": "2023-10-19T11:33:47.672Z"
   },
   {
    "duration": 7,
    "start_time": "2023-10-19T11:35:00.121Z"
   },
   {
    "duration": 6,
    "start_time": "2023-10-19T11:35:21.761Z"
   },
   {
    "duration": 9,
    "start_time": "2023-10-19T11:39:48.609Z"
   },
   {
    "duration": 1726,
    "start_time": "2023-10-19T11:40:06.936Z"
   },
   {
    "duration": 13,
    "start_time": "2023-10-19T11:40:17.690Z"
   },
   {
    "duration": 9,
    "start_time": "2023-10-19T11:41:10.378Z"
   },
   {
    "duration": 9,
    "start_time": "2023-10-19T11:41:15.845Z"
   },
   {
    "duration": 5,
    "start_time": "2023-10-19T11:42:05.697Z"
   },
   {
    "duration": 9,
    "start_time": "2023-10-19T11:42:25.475Z"
   },
   {
    "duration": 1959,
    "start_time": "2023-10-19T11:43:33.711Z"
   },
   {
    "duration": 9,
    "start_time": "2023-10-19T11:44:03.790Z"
   },
   {
    "duration": 8,
    "start_time": "2023-10-19T11:44:42.988Z"
   },
   {
    "duration": 11,
    "start_time": "2023-10-19T11:45:03.189Z"
   },
   {
    "duration": 13,
    "start_time": "2023-10-19T11:45:06.258Z"
   },
   {
    "duration": 13,
    "start_time": "2023-10-19T11:45:09.800Z"
   },
   {
    "duration": 25,
    "start_time": "2023-10-19T12:14:21.825Z"
   },
   {
    "duration": 12,
    "start_time": "2023-10-19T12:15:02.347Z"
   },
   {
    "duration": 115,
    "start_time": "2023-10-19T12:17:39.396Z"
   },
   {
    "duration": 13,
    "start_time": "2023-10-19T12:18:03.467Z"
   },
   {
    "duration": 16,
    "start_time": "2023-10-19T12:18:29.207Z"
   },
   {
    "duration": 9,
    "start_time": "2023-10-19T12:18:36.318Z"
   },
   {
    "duration": 9,
    "start_time": "2023-10-19T12:21:43.790Z"
   },
   {
    "duration": 122,
    "start_time": "2023-10-19T12:22:01.271Z"
   },
   {
    "duration": 28,
    "start_time": "2023-10-19T12:22:26.494Z"
   },
   {
    "duration": 27,
    "start_time": "2023-10-19T12:37:20.693Z"
   },
   {
    "duration": 11,
    "start_time": "2023-10-19T12:37:43.885Z"
   },
   {
    "duration": 119,
    "start_time": "2023-10-19T12:42:29.448Z"
   },
   {
    "duration": 8,
    "start_time": "2023-10-19T12:44:49.057Z"
   },
   {
    "duration": 4,
    "start_time": "2023-10-19T12:45:06.300Z"
   },
   {
    "duration": 5,
    "start_time": "2023-10-19T12:45:25.158Z"
   },
   {
    "duration": 4,
    "start_time": "2023-10-19T12:45:36.892Z"
   },
   {
    "duration": 6,
    "start_time": "2023-10-19T12:46:33.063Z"
   },
   {
    "duration": 5,
    "start_time": "2023-10-19T12:48:40.324Z"
   },
   {
    "duration": 13,
    "start_time": "2023-10-19T12:48:52.139Z"
   },
   {
    "duration": 8,
    "start_time": "2023-10-19T12:49:06.868Z"
   },
   {
    "duration": 13,
    "start_time": "2023-10-19T12:49:13.957Z"
   },
   {
    "duration": 12,
    "start_time": "2023-10-19T12:50:28.811Z"
   },
   {
    "duration": 20,
    "start_time": "2023-10-19T12:50:35.001Z"
   },
   {
    "duration": 15,
    "start_time": "2023-10-19T12:50:49.546Z"
   },
   {
    "duration": 12,
    "start_time": "2023-10-19T12:50:52.762Z"
   },
   {
    "duration": 7,
    "start_time": "2023-10-19T12:51:18.217Z"
   },
   {
    "duration": 19,
    "start_time": "2023-10-19T12:51:34.062Z"
   },
   {
    "duration": 12,
    "start_time": "2023-10-19T12:59:31.954Z"
   },
   {
    "duration": 30,
    "start_time": "2023-10-19T12:59:43.743Z"
   },
   {
    "duration": 138,
    "start_time": "2023-10-19T13:03:52.249Z"
   },
   {
    "duration": 17,
    "start_time": "2023-10-19T13:04:43.405Z"
   },
   {
    "duration": 11,
    "start_time": "2023-10-19T13:05:35.394Z"
   },
   {
    "duration": 288,
    "start_time": "2023-10-19T13:37:58.849Z"
   },
   {
    "duration": 482,
    "start_time": "2023-10-19T13:41:11.234Z"
   },
   {
    "duration": 262,
    "start_time": "2023-10-19T14:15:40.363Z"
   },
   {
    "duration": 4,
    "start_time": "2023-10-19T14:19:07.452Z"
   },
   {
    "duration": 8,
    "start_time": "2023-10-19T14:19:24.886Z"
   },
   {
    "duration": 22,
    "start_time": "2023-10-19T14:23:24.273Z"
   },
   {
    "duration": 14,
    "start_time": "2023-10-19T14:23:33.701Z"
   },
   {
    "duration": 15,
    "start_time": "2023-10-19T14:23:40.909Z"
   },
   {
    "duration": 13,
    "start_time": "2023-10-19T14:23:47.994Z"
   },
   {
    "duration": 5,
    "start_time": "2023-10-19T14:24:06.979Z"
   },
   {
    "duration": 345,
    "start_time": "2023-10-19T14:29:55.434Z"
   },
   {
    "duration": 322,
    "start_time": "2023-10-19T14:30:03.779Z"
   },
   {
    "duration": 302,
    "start_time": "2023-10-19T14:30:10.242Z"
   },
   {
    "duration": 632,
    "start_time": "2023-10-19T14:30:27.118Z"
   },
   {
    "duration": 795,
    "start_time": "2023-10-19T14:30:39.041Z"
   },
   {
    "duration": 99,
    "start_time": "2023-10-19T14:42:56.655Z"
   },
   {
    "duration": 107,
    "start_time": "2023-10-19T14:45:21.869Z"
   },
   {
    "duration": 71,
    "start_time": "2023-10-19T14:46:32.936Z"
   },
   {
    "duration": 95,
    "start_time": "2023-10-19T14:46:43.520Z"
   },
   {
    "duration": 115,
    "start_time": "2023-10-19T14:46:48.050Z"
   },
   {
    "duration": 78,
    "start_time": "2023-10-19T14:47:12.108Z"
   },
   {
    "duration": 76,
    "start_time": "2023-10-19T14:47:22.616Z"
   },
   {
    "duration": 68,
    "start_time": "2023-10-19T14:47:29.153Z"
   },
   {
    "duration": 73,
    "start_time": "2023-10-19T14:47:41.169Z"
   },
   {
    "duration": 179,
    "start_time": "2023-10-19T14:47:46.180Z"
   },
   {
    "duration": 78,
    "start_time": "2023-10-19T14:47:52.134Z"
   },
   {
    "duration": 81,
    "start_time": "2023-10-19T14:47:57.148Z"
   },
   {
    "duration": 68,
    "start_time": "2023-10-19T14:48:01.615Z"
   },
   {
    "duration": 68,
    "start_time": "2023-10-19T14:48:06.666Z"
   },
   {
    "duration": 69,
    "start_time": "2023-10-19T14:48:12.767Z"
   },
   {
    "duration": 73,
    "start_time": "2023-10-19T14:52:44.344Z"
   },
   {
    "duration": 93,
    "start_time": "2023-10-19T14:53:03.172Z"
   },
   {
    "duration": 70,
    "start_time": "2023-10-19T14:53:21.270Z"
   },
   {
    "duration": 70,
    "start_time": "2023-10-19T14:53:33.876Z"
   },
   {
    "duration": 10,
    "start_time": "2023-10-19T14:55:27.354Z"
   },
   {
    "duration": 112,
    "start_time": "2023-10-19T14:55:32.418Z"
   },
   {
    "duration": 71,
    "start_time": "2023-10-19T14:56:57.281Z"
   },
   {
    "duration": 4,
    "start_time": "2023-10-19T14:58:19.421Z"
   },
   {
    "duration": 5,
    "start_time": "2023-10-19T14:58:28.351Z"
   },
   {
    "duration": 4,
    "start_time": "2023-10-19T15:21:03.563Z"
   },
   {
    "duration": 7,
    "start_time": "2023-10-19T15:21:13.486Z"
   },
   {
    "duration": 6,
    "start_time": "2023-10-19T15:21:22.976Z"
   },
   {
    "duration": 6,
    "start_time": "2023-10-19T15:21:28.488Z"
   },
   {
    "duration": 7,
    "start_time": "2023-10-19T15:21:32.827Z"
   },
   {
    "duration": 7,
    "start_time": "2023-10-19T15:21:36.698Z"
   },
   {
    "duration": 6,
    "start_time": "2023-10-19T15:22:24.351Z"
   },
   {
    "duration": 7,
    "start_time": "2023-10-19T15:22:50.722Z"
   },
   {
    "duration": 7,
    "start_time": "2023-10-19T15:23:41.627Z"
   },
   {
    "duration": 68,
    "start_time": "2023-10-19T15:23:59.508Z"
   },
   {
    "duration": 67,
    "start_time": "2023-10-19T15:24:08.342Z"
   },
   {
    "duration": 9,
    "start_time": "2023-10-19T15:25:11.768Z"
   },
   {
    "duration": 11,
    "start_time": "2023-10-19T15:25:27.156Z"
   },
   {
    "duration": 10,
    "start_time": "2023-10-19T15:25:36.453Z"
   },
   {
    "duration": 224,
    "start_time": "2023-10-19T15:25:47.018Z"
   },
   {
    "duration": 143,
    "start_time": "2023-10-19T15:27:08.964Z"
   },
   {
    "duration": 134,
    "start_time": "2023-10-19T15:27:16.698Z"
   },
   {
    "duration": 134,
    "start_time": "2023-10-19T15:27:31.449Z"
   },
   {
    "duration": 129,
    "start_time": "2023-10-19T15:27:38.086Z"
   },
   {
    "duration": 127,
    "start_time": "2023-10-19T15:27:44.650Z"
   },
   {
    "duration": 137,
    "start_time": "2023-10-19T15:28:15.982Z"
   },
   {
    "duration": 120,
    "start_time": "2023-10-19T15:32:51.477Z"
   },
   {
    "duration": 122,
    "start_time": "2023-10-19T15:32:56.496Z"
   },
   {
    "duration": 140,
    "start_time": "2023-10-19T15:33:04.306Z"
   },
   {
    "duration": 140,
    "start_time": "2023-10-19T15:38:11.404Z"
   },
   {
    "duration": 140,
    "start_time": "2023-10-19T15:38:24.930Z"
   },
   {
    "duration": 129,
    "start_time": "2023-10-19T15:38:28.674Z"
   },
   {
    "duration": 133,
    "start_time": "2023-10-19T15:40:06.353Z"
   },
   {
    "duration": 151,
    "start_time": "2023-10-19T15:41:52.508Z"
   },
   {
    "duration": 142,
    "start_time": "2023-10-19T15:42:07.540Z"
   },
   {
    "duration": 135,
    "start_time": "2023-10-19T15:42:36.321Z"
   },
   {
    "duration": 139,
    "start_time": "2023-10-19T15:42:43.472Z"
   },
   {
    "duration": 221,
    "start_time": "2023-10-19T15:43:00.546Z"
   },
   {
    "duration": 7,
    "start_time": "2023-10-19T15:48:54.829Z"
   },
   {
    "duration": 140,
    "start_time": "2023-10-19T16:25:33.925Z"
   },
   {
    "duration": 121,
    "start_time": "2023-10-19T16:30:51.234Z"
   },
   {
    "duration": 12,
    "start_time": "2023-10-19T16:34:29.568Z"
   },
   {
    "duration": 9,
    "start_time": "2023-10-19T16:34:39.826Z"
   },
   {
    "duration": 9,
    "start_time": "2023-10-19T16:34:44.797Z"
   },
   {
    "duration": 4,
    "start_time": "2023-10-19T16:35:03.587Z"
   },
   {
    "duration": 5,
    "start_time": "2023-10-19T16:35:11.731Z"
   },
   {
    "duration": 10,
    "start_time": "2023-10-19T16:37:58.727Z"
   },
   {
    "duration": 11,
    "start_time": "2023-10-19T16:38:41.029Z"
   },
   {
    "duration": 11,
    "start_time": "2023-10-19T16:39:21.323Z"
   },
   {
    "duration": 115,
    "start_time": "2023-10-19T16:39:49.717Z"
   },
   {
    "duration": 3,
    "start_time": "2023-10-19T16:40:08.250Z"
   },
   {
    "duration": 84,
    "start_time": "2023-10-19T16:40:08.254Z"
   },
   {
    "duration": 2,
    "start_time": "2023-10-19T16:40:08.340Z"
   },
   {
    "duration": 106,
    "start_time": "2023-10-19T16:40:08.344Z"
   },
   {
    "duration": 276,
    "start_time": "2023-10-19T16:40:08.452Z"
   },
   {
    "duration": 426,
    "start_time": "2023-10-19T16:40:08.729Z"
   },
   {
    "duration": 366,
    "start_time": "2023-10-19T16:40:09.157Z"
   },
   {
    "duration": 8,
    "start_time": "2023-10-19T16:40:09.524Z"
   },
   {
    "duration": 23,
    "start_time": "2023-10-19T16:40:09.544Z"
   },
   {
    "duration": 32,
    "start_time": "2023-10-19T16:40:09.569Z"
   },
   {
    "duration": 46,
    "start_time": "2023-10-19T16:40:09.603Z"
   },
   {
    "duration": 38,
    "start_time": "2023-10-19T16:40:09.651Z"
   },
   {
    "duration": 43,
    "start_time": "2023-10-19T16:40:09.691Z"
   },
   {
    "duration": 38,
    "start_time": "2023-10-19T16:40:09.736Z"
   },
   {
    "duration": 23,
    "start_time": "2023-10-19T16:40:09.776Z"
   },
   {
    "duration": 64,
    "start_time": "2023-10-19T16:40:09.801Z"
   },
   {
    "duration": 104,
    "start_time": "2023-10-19T16:40:09.867Z"
   },
   {
    "duration": 0,
    "start_time": "2023-10-19T16:40:09.973Z"
   },
   {
    "duration": 0,
    "start_time": "2023-10-19T16:40:09.975Z"
   },
   {
    "duration": 0,
    "start_time": "2023-10-19T16:40:09.977Z"
   },
   {
    "duration": 0,
    "start_time": "2023-10-19T16:40:09.978Z"
   },
   {
    "duration": 0,
    "start_time": "2023-10-19T16:40:09.980Z"
   },
   {
    "duration": 4,
    "start_time": "2023-10-19T16:40:30.289Z"
   },
   {
    "duration": 6,
    "start_time": "2023-10-19T16:40:38.987Z"
   },
   {
    "duration": 5,
    "start_time": "2023-10-19T16:41:49.810Z"
   },
   {
    "duration": 16,
    "start_time": "2023-10-19T16:42:18.903Z"
   },
   {
    "duration": 6,
    "start_time": "2023-10-19T16:42:22.671Z"
   },
   {
    "duration": 13,
    "start_time": "2023-10-19T16:42:58.788Z"
   },
   {
    "duration": 13,
    "start_time": "2023-10-19T16:43:40.266Z"
   },
   {
    "duration": 14,
    "start_time": "2023-10-19T16:44:05.886Z"
   },
   {
    "duration": 16,
    "start_time": "2023-10-19T16:44:14.317Z"
   },
   {
    "duration": 12,
    "start_time": "2023-10-19T16:44:17.570Z"
   },
   {
    "duration": 6,
    "start_time": "2023-10-19T17:42:21.907Z"
   },
   {
    "duration": 8,
    "start_time": "2023-10-19T17:43:03.130Z"
   },
   {
    "duration": 157,
    "start_time": "2023-10-19T17:43:13.944Z"
   },
   {
    "duration": 6,
    "start_time": "2023-10-19T17:43:36.628Z"
   },
   {
    "duration": 8,
    "start_time": "2023-10-19T17:45:13.041Z"
   },
   {
    "duration": 8,
    "start_time": "2023-10-19T17:46:02.314Z"
   },
   {
    "duration": 85,
    "start_time": "2023-10-19T17:47:18.282Z"
   },
   {
    "duration": 93,
    "start_time": "2023-10-19T18:31:30.004Z"
   },
   {
    "duration": 174,
    "start_time": "2023-10-19T18:31:35.870Z"
   },
   {
    "duration": 8,
    "start_time": "2023-10-19T19:03:45.389Z"
   },
   {
    "duration": 4,
    "start_time": "2023-10-19T19:03:50.852Z"
   },
   {
    "duration": 5,
    "start_time": "2023-10-19T19:03:56.749Z"
   },
   {
    "duration": 7,
    "start_time": "2023-10-19T19:05:45.486Z"
   },
   {
    "duration": 47,
    "start_time": "2023-10-20T08:30:11.429Z"
   },
   {
    "duration": 8,
    "start_time": "2023-10-20T08:30:14.134Z"
   },
   {
    "duration": 1343,
    "start_time": "2023-10-20T08:30:24.010Z"
   },
   {
    "duration": 285,
    "start_time": "2023-10-20T08:30:25.355Z"
   },
   {
    "duration": 2,
    "start_time": "2023-10-20T08:30:25.642Z"
   },
   {
    "duration": 103,
    "start_time": "2023-10-20T08:30:25.645Z"
   },
   {
    "duration": 301,
    "start_time": "2023-10-20T08:30:25.750Z"
   },
   {
    "duration": 447,
    "start_time": "2023-10-20T08:30:26.053Z"
   },
   {
    "duration": 384,
    "start_time": "2023-10-20T08:30:26.501Z"
   },
   {
    "duration": 8,
    "start_time": "2023-10-20T08:30:26.887Z"
   },
   {
    "duration": 19,
    "start_time": "2023-10-20T08:30:26.897Z"
   },
   {
    "duration": 7,
    "start_time": "2023-10-20T08:30:26.917Z"
   },
   {
    "duration": 19,
    "start_time": "2023-10-20T08:30:26.926Z"
   },
   {
    "duration": 10,
    "start_time": "2023-10-20T08:30:26.947Z"
   },
   {
    "duration": 16,
    "start_time": "2023-10-20T08:30:26.959Z"
   },
   {
    "duration": 35,
    "start_time": "2023-10-20T08:30:26.979Z"
   },
   {
    "duration": 38,
    "start_time": "2023-10-20T08:30:27.016Z"
   },
   {
    "duration": 43,
    "start_time": "2023-10-20T08:30:27.055Z"
   },
   {
    "duration": 37,
    "start_time": "2023-10-20T08:30:27.100Z"
   },
   {
    "duration": 26,
    "start_time": "2023-10-20T08:30:27.139Z"
   },
   {
    "duration": 15,
    "start_time": "2023-10-20T08:30:27.166Z"
   },
   {
    "duration": 150,
    "start_time": "2023-10-20T08:30:27.183Z"
   },
   {
    "duration": 11,
    "start_time": "2023-10-20T08:30:27.334Z"
   },
   {
    "duration": 13,
    "start_time": "2023-10-20T08:30:27.347Z"
   },
   {
    "duration": 97,
    "start_time": "2023-10-20T08:30:27.362Z"
   },
   {
    "duration": 7,
    "start_time": "2023-10-20T08:30:27.461Z"
   },
   {
    "duration": 15,
    "start_time": "2023-10-20T08:30:27.470Z"
   },
   {
    "duration": 5,
    "start_time": "2023-10-20T08:30:41.591Z"
   },
   {
    "duration": 5,
    "start_time": "2023-10-20T08:30:46.714Z"
   },
   {
    "duration": 6,
    "start_time": "2023-10-20T08:30:50.959Z"
   },
   {
    "duration": 504,
    "start_time": "2023-10-20T08:37:14.162Z"
   },
   {
    "duration": 386,
    "start_time": "2023-10-20T08:38:17.001Z"
   },
   {
    "duration": 378,
    "start_time": "2023-10-20T08:38:25.202Z"
   },
   {
    "duration": 2,
    "start_time": "2023-10-20T09:03:52.868Z"
   },
   {
    "duration": 194,
    "start_time": "2023-10-20T09:07:22.186Z"
   },
   {
    "duration": 378,
    "start_time": "2023-10-20T09:07:29.566Z"
   },
   {
    "duration": 11,
    "start_time": "2023-10-20T09:10:44.066Z"
   },
   {
    "duration": 128,
    "start_time": "2023-10-20T09:10:48.138Z"
   },
   {
    "duration": 121,
    "start_time": "2023-10-20T09:11:12.649Z"
   },
   {
    "duration": 165,
    "start_time": "2023-10-20T09:11:24.017Z"
   },
   {
    "duration": 114,
    "start_time": "2023-10-20T09:11:51.531Z"
   },
   {
    "duration": 141,
    "start_time": "2023-10-20T09:12:06.603Z"
   },
   {
    "duration": 253,
    "start_time": "2023-10-20T09:12:40.975Z"
   },
   {
    "duration": 150,
    "start_time": "2023-10-20T09:13:03.140Z"
   },
   {
    "duration": 143,
    "start_time": "2023-10-20T09:13:11.908Z"
   },
   {
    "duration": 114,
    "start_time": "2023-10-20T09:13:55.186Z"
   },
   {
    "duration": 125,
    "start_time": "2023-10-20T09:14:01.896Z"
   },
   {
    "duration": 112,
    "start_time": "2023-10-20T09:15:25.917Z"
   },
   {
    "duration": 140,
    "start_time": "2023-10-20T09:24:48.714Z"
   },
   {
    "duration": 128,
    "start_time": "2023-10-20T09:25:07.444Z"
   },
   {
    "duration": 153,
    "start_time": "2023-10-20T09:25:14.929Z"
   },
   {
    "duration": 161,
    "start_time": "2023-10-20T09:36:41.205Z"
   },
   {
    "duration": 140,
    "start_time": "2023-10-20T09:36:51.180Z"
   },
   {
    "duration": 149,
    "start_time": "2023-10-20T09:37:24.357Z"
   },
   {
    "duration": 183,
    "start_time": "2023-10-20T09:37:33.126Z"
   },
   {
    "duration": 285,
    "start_time": "2023-10-20T09:37:40.293Z"
   },
   {
    "duration": 349,
    "start_time": "2023-10-20T09:38:12.323Z"
   },
   {
    "duration": 8,
    "start_time": "2023-10-20T09:38:58.209Z"
   },
   {
    "duration": 58,
    "start_time": "2023-10-20T11:55:10.564Z"
   },
   {
    "duration": 6,
    "start_time": "2023-10-20T11:55:15.204Z"
   },
   {
    "duration": 8,
    "start_time": "2023-10-20T11:55:17.587Z"
   },
   {
    "duration": 6,
    "start_time": "2023-10-20T11:55:31.207Z"
   },
   {
    "duration": 1513,
    "start_time": "2023-10-20T11:55:59.482Z"
   },
   {
    "duration": 409,
    "start_time": "2023-10-20T11:56:00.997Z"
   },
   {
    "duration": 3,
    "start_time": "2023-10-20T11:56:01.408Z"
   },
   {
    "duration": 154,
    "start_time": "2023-10-20T11:56:01.413Z"
   },
   {
    "duration": 367,
    "start_time": "2023-10-20T11:56:01.570Z"
   },
   {
    "duration": 556,
    "start_time": "2023-10-20T11:56:01.938Z"
   },
   {
    "duration": 448,
    "start_time": "2023-10-20T11:56:02.496Z"
   },
   {
    "duration": 10,
    "start_time": "2023-10-20T11:56:02.946Z"
   },
   {
    "duration": 130,
    "start_time": "2023-10-20T11:56:02.958Z"
   },
   {
    "duration": 9,
    "start_time": "2023-10-20T11:56:03.090Z"
   },
   {
    "duration": 6,
    "start_time": "2023-10-20T11:56:03.100Z"
   },
   {
    "duration": 14,
    "start_time": "2023-10-20T11:56:03.108Z"
   },
   {
    "duration": 39,
    "start_time": "2023-10-20T11:56:03.123Z"
   },
   {
    "duration": 51,
    "start_time": "2023-10-20T11:56:03.168Z"
   },
   {
    "duration": 12,
    "start_time": "2023-10-20T11:56:03.221Z"
   },
   {
    "duration": 52,
    "start_time": "2023-10-20T11:56:03.235Z"
   },
   {
    "duration": 16,
    "start_time": "2023-10-20T11:56:03.289Z"
   },
   {
    "duration": 6,
    "start_time": "2023-10-20T11:56:03.307Z"
   },
   {
    "duration": 10,
    "start_time": "2023-10-20T11:56:03.315Z"
   },
   {
    "duration": 185,
    "start_time": "2023-10-20T11:56:03.326Z"
   },
   {
    "duration": 7,
    "start_time": "2023-10-20T11:56:03.512Z"
   },
   {
    "duration": 15,
    "start_time": "2023-10-20T11:56:03.521Z"
   },
   {
    "duration": 126,
    "start_time": "2023-10-20T11:56:03.537Z"
   },
   {
    "duration": 4,
    "start_time": "2023-10-20T11:56:03.665Z"
   },
   {
    "duration": 33,
    "start_time": "2023-10-20T11:56:03.670Z"
   },
   {
    "duration": 405,
    "start_time": "2023-10-20T11:56:03.704Z"
   },
   {
    "duration": 10,
    "start_time": "2023-10-20T11:56:04.111Z"
   },
   {
    "duration": 32,
    "start_time": "2023-10-20T11:56:04.123Z"
   },
   {
    "duration": 6,
    "start_time": "2023-10-20T11:57:13.883Z"
   },
   {
    "duration": 276,
    "start_time": "2023-10-20T11:58:08.890Z"
   },
   {
    "duration": 184,
    "start_time": "2023-10-20T11:59:42.198Z"
   },
   {
    "duration": 135,
    "start_time": "2023-10-20T12:00:09.604Z"
   },
   {
    "duration": 145,
    "start_time": "2023-10-20T12:02:20.682Z"
   },
   {
    "duration": 148,
    "start_time": "2023-10-20T12:02:27.680Z"
   },
   {
    "duration": 175,
    "start_time": "2023-10-20T12:02:57.803Z"
   },
   {
    "duration": 215,
    "start_time": "2023-10-20T12:03:01.998Z"
   },
   {
    "duration": 94,
    "start_time": "2023-10-20T12:03:06.893Z"
   },
   {
    "duration": 4,
    "start_time": "2023-10-20T12:03:55.176Z"
   },
   {
    "duration": 7,
    "start_time": "2023-10-20T12:03:57.192Z"
   },
   {
    "duration": 118,
    "start_time": "2023-10-20T12:03:59.562Z"
   },
   {
    "duration": 7,
    "start_time": "2023-10-20T12:04:13.834Z"
   },
   {
    "duration": 115,
    "start_time": "2023-10-20T12:04:14.680Z"
   },
   {
    "duration": 2,
    "start_time": "2023-10-20T12:04:56.741Z"
   },
   {
    "duration": 185,
    "start_time": "2023-10-20T12:04:56.883Z"
   },
   {
    "duration": 111,
    "start_time": "2023-10-20T12:04:58.285Z"
   },
   {
    "duration": 113,
    "start_time": "2023-10-20T12:05:31.812Z"
   },
   {
    "duration": 99,
    "start_time": "2023-10-20T12:05:55.469Z"
   },
   {
    "duration": 246,
    "start_time": "2023-10-20T12:06:15.598Z"
   },
   {
    "duration": 270,
    "start_time": "2023-10-20T12:06:25.233Z"
   },
   {
    "duration": 291,
    "start_time": "2023-10-20T12:07:01.537Z"
   },
   {
    "duration": 281,
    "start_time": "2023-10-20T12:07:08.701Z"
   },
   {
    "duration": 263,
    "start_time": "2023-10-20T12:07:15.068Z"
   },
   {
    "duration": 154,
    "start_time": "2023-10-20T12:07:30.143Z"
   },
   {
    "duration": 337,
    "start_time": "2023-10-20T12:07:35.068Z"
   },
   {
    "duration": 162,
    "start_time": "2023-10-20T12:08:03.347Z"
   },
   {
    "duration": 172,
    "start_time": "2023-10-20T12:09:55.547Z"
   },
   {
    "duration": 227,
    "start_time": "2023-10-20T12:10:01.426Z"
   },
   {
    "duration": 164,
    "start_time": "2023-10-20T12:10:19.101Z"
   },
   {
    "duration": 169,
    "start_time": "2023-10-20T12:10:57.700Z"
   },
   {
    "duration": 229,
    "start_time": "2023-10-20T12:11:56.170Z"
   },
   {
    "duration": 159,
    "start_time": "2023-10-20T12:12:03.026Z"
   },
   {
    "duration": 143,
    "start_time": "2023-10-20T12:12:56.863Z"
   },
   {
    "duration": 136,
    "start_time": "2023-10-20T12:13:12.876Z"
   },
   {
    "duration": 160,
    "start_time": "2023-10-20T12:13:30.502Z"
   },
   {
    "duration": 135,
    "start_time": "2023-10-20T12:14:16.809Z"
   },
   {
    "duration": 138,
    "start_time": "2023-10-20T12:14:40.539Z"
   },
   {
    "duration": 236,
    "start_time": "2023-10-20T12:14:58.148Z"
   },
   {
    "duration": 129,
    "start_time": "2023-10-20T12:15:43.472Z"
   },
   {
    "duration": 151,
    "start_time": "2023-10-20T12:16:06.309Z"
   },
   {
    "duration": 147,
    "start_time": "2023-10-20T12:16:11.537Z"
   },
   {
    "duration": 269,
    "start_time": "2023-10-20T12:18:09.358Z"
   },
   {
    "duration": 260,
    "start_time": "2023-10-20T12:18:52.900Z"
   },
   {
    "duration": 227,
    "start_time": "2023-10-20T12:31:25.790Z"
   },
   {
    "duration": 10,
    "start_time": "2023-10-20T12:32:26.322Z"
   },
   {
    "duration": 21028,
    "start_time": "2023-10-20T12:32:32.279Z"
   },
   {
    "duration": 18512,
    "start_time": "2023-10-20T12:33:25.477Z"
   },
   {
    "duration": 18237,
    "start_time": "2023-10-20T12:33:44.085Z"
   },
   {
    "duration": 111,
    "start_time": "2023-10-20T12:34:35.455Z"
   },
   {
    "duration": 137,
    "start_time": "2023-10-20T12:34:38.973Z"
   },
   {
    "duration": 18420,
    "start_time": "2023-10-20T12:35:41.092Z"
   },
   {
    "duration": 20302,
    "start_time": "2023-10-20T12:36:18.812Z"
   },
   {
    "duration": 279,
    "start_time": "2023-10-20T12:37:07.486Z"
   },
   {
    "duration": 532,
    "start_time": "2023-10-20T12:37:38.775Z"
   },
   {
    "duration": 229,
    "start_time": "2023-10-20T12:38:20.740Z"
   },
   {
    "duration": 248,
    "start_time": "2023-10-20T12:38:40.673Z"
   },
   {
    "duration": 186,
    "start_time": "2023-10-20T12:38:59.199Z"
   },
   {
    "duration": 184,
    "start_time": "2023-10-20T12:39:08.816Z"
   },
   {
    "duration": 182,
    "start_time": "2023-10-20T12:39:48.873Z"
   },
   {
    "duration": 227,
    "start_time": "2023-10-20T12:41:48.600Z"
   },
   {
    "duration": 332,
    "start_time": "2023-10-20T12:43:09.100Z"
   },
   {
    "duration": 380,
    "start_time": "2023-10-20T12:43:30.846Z"
   },
   {
    "duration": 172,
    "start_time": "2023-10-20T12:48:10.226Z"
   },
   {
    "duration": 241,
    "start_time": "2023-10-20T13:07:33.979Z"
   },
   {
    "duration": 112,
    "start_time": "2023-10-20T13:13:36.168Z"
   },
   {
    "duration": 122,
    "start_time": "2023-10-20T13:16:29.789Z"
   },
   {
    "duration": 133,
    "start_time": "2023-10-20T13:17:03.468Z"
   },
   {
    "duration": 132,
    "start_time": "2023-10-20T13:17:07.686Z"
   },
   {
    "duration": 146,
    "start_time": "2023-10-20T13:17:16.218Z"
   },
   {
    "duration": 187,
    "start_time": "2023-10-20T13:17:45.190Z"
   },
   {
    "duration": 275,
    "start_time": "2023-10-20T13:18:18.100Z"
   },
   {
    "duration": 208,
    "start_time": "2023-10-20T13:19:30.189Z"
   },
   {
    "duration": 111,
    "start_time": "2023-10-20T13:19:54.726Z"
   },
   {
    "duration": 113,
    "start_time": "2023-10-20T13:20:14.093Z"
   },
   {
    "duration": 157,
    "start_time": "2023-10-20T13:20:20.571Z"
   },
   {
    "duration": 107,
    "start_time": "2023-10-20T13:20:50.766Z"
   },
   {
    "duration": 147,
    "start_time": "2023-10-20T13:20:54.413Z"
   },
   {
    "duration": 143,
    "start_time": "2023-10-20T13:21:18.856Z"
   },
   {
    "duration": 114,
    "start_time": "2023-10-20T13:22:10.077Z"
   },
   {
    "duration": 208,
    "start_time": "2023-10-20T13:22:14.060Z"
   },
   {
    "duration": 160,
    "start_time": "2023-10-20T13:22:32.724Z"
   },
   {
    "duration": 124,
    "start_time": "2023-10-20T13:23:35.566Z"
   },
   {
    "duration": 22,
    "start_time": "2023-10-20T13:23:39.618Z"
   },
   {
    "duration": 157,
    "start_time": "2023-10-20T13:23:52.143Z"
   },
   {
    "duration": 128,
    "start_time": "2023-10-20T13:24:15.256Z"
   },
   {
    "duration": 146,
    "start_time": "2023-10-20T13:24:27.560Z"
   },
   {
    "duration": 185,
    "start_time": "2023-10-20T13:24:51.376Z"
   },
   {
    "duration": 118,
    "start_time": "2023-10-20T13:25:55.793Z"
   },
   {
    "duration": 182,
    "start_time": "2023-10-20T13:26:19.053Z"
   },
   {
    "duration": 116,
    "start_time": "2023-10-20T13:26:57.950Z"
   },
   {
    "duration": 173,
    "start_time": "2023-10-20T13:27:16.005Z"
   },
   {
    "duration": 290,
    "start_time": "2023-10-20T13:28:26.660Z"
   },
   {
    "duration": 8,
    "start_time": "2023-10-20T13:29:18.891Z"
   },
   {
    "duration": 219,
    "start_time": "2023-10-20T13:30:27.011Z"
   },
   {
    "duration": 205,
    "start_time": "2023-10-20T13:35:32.493Z"
   },
   {
    "duration": 217,
    "start_time": "2023-10-20T13:38:17.682Z"
   },
   {
    "duration": 202,
    "start_time": "2023-10-20T13:38:25.536Z"
   },
   {
    "duration": 211,
    "start_time": "2023-10-20T13:38:33.305Z"
   },
   {
    "duration": 183,
    "start_time": "2023-10-20T13:39:29.419Z"
   },
   {
    "duration": 191,
    "start_time": "2023-10-20T13:39:39.783Z"
   },
   {
    "duration": 172,
    "start_time": "2023-10-20T13:40:18.517Z"
   },
   {
    "duration": 192,
    "start_time": "2023-10-20T13:40:43.291Z"
   },
   {
    "duration": 218,
    "start_time": "2023-10-20T13:45:06.647Z"
   },
   {
    "duration": 403,
    "start_time": "2023-10-20T13:56:54.044Z"
   },
   {
    "duration": 214,
    "start_time": "2023-10-20T13:57:14.788Z"
   },
   {
    "duration": 184,
    "start_time": "2023-10-20T13:57:39.175Z"
   },
   {
    "duration": 222,
    "start_time": "2023-10-20T13:57:53.435Z"
   },
   {
    "duration": 218,
    "start_time": "2023-10-20T13:58:05.813Z"
   },
   {
    "duration": 231,
    "start_time": "2023-10-20T13:59:04.435Z"
   },
   {
    "duration": 220,
    "start_time": "2023-10-20T13:59:48.081Z"
   },
   {
    "duration": 275,
    "start_time": "2023-10-20T13:59:53.584Z"
   },
   {
    "duration": 227,
    "start_time": "2023-10-20T14:00:53.082Z"
   },
   {
    "duration": 201,
    "start_time": "2023-10-20T14:01:01.003Z"
   },
   {
    "duration": 119,
    "start_time": "2023-10-20T14:01:42.855Z"
   },
   {
    "duration": 270,
    "start_time": "2023-10-20T14:04:13.920Z"
   },
   {
    "duration": 296,
    "start_time": "2023-10-20T14:13:19.044Z"
   },
   {
    "duration": 236,
    "start_time": "2023-10-20T14:13:27.299Z"
   },
   {
    "duration": 176,
    "start_time": "2023-10-20T14:13:38.633Z"
   },
   {
    "duration": 78,
    "start_time": "2023-10-20T14:13:50.262Z"
   },
   {
    "duration": 97,
    "start_time": "2023-10-20T14:13:58.178Z"
   },
   {
    "duration": 15,
    "start_time": "2023-10-20T14:15:23.625Z"
   },
   {
    "duration": 473,
    "start_time": "2023-10-20T14:15:46.686Z"
   },
   {
    "duration": 529,
    "start_time": "2023-10-20T14:16:11.492Z"
   },
   {
    "duration": 207,
    "start_time": "2023-10-20T14:16:54.739Z"
   },
   {
    "duration": 100,
    "start_time": "2023-10-20T14:17:09.424Z"
   },
   {
    "duration": 2,
    "start_time": "2023-10-20T14:18:39.918Z"
   },
   {
    "duration": 2,
    "start_time": "2023-10-20T14:18:40.504Z"
   },
   {
    "duration": 156,
    "start_time": "2023-10-20T14:18:40.971Z"
   },
   {
    "duration": 158,
    "start_time": "2023-10-20T14:18:52.235Z"
   },
   {
    "duration": 197,
    "start_time": "2023-10-20T14:19:26.914Z"
   },
   {
    "duration": 9,
    "start_time": "2023-10-20T15:03:23.461Z"
   },
   {
    "duration": 9,
    "start_time": "2023-10-20T15:03:41.503Z"
   },
   {
    "duration": 9,
    "start_time": "2023-10-20T15:03:53.290Z"
   },
   {
    "duration": 24,
    "start_time": "2023-10-20T15:06:24.293Z"
   },
   {
    "duration": 28,
    "start_time": "2023-10-20T15:07:24.174Z"
   },
   {
    "duration": 15,
    "start_time": "2023-10-20T15:08:00.862Z"
   },
   {
    "duration": 22,
    "start_time": "2023-10-20T15:09:42.860Z"
   },
   {
    "duration": 12,
    "start_time": "2023-10-20T15:09:48.606Z"
   },
   {
    "duration": 22,
    "start_time": "2023-10-20T15:14:09.153Z"
   },
   {
    "duration": 622,
    "start_time": "2023-10-20T15:15:05.385Z"
   },
   {
    "duration": 680,
    "start_time": "2023-10-20T15:15:22.670Z"
   },
   {
    "duration": 8,
    "start_time": "2023-10-20T15:29:16.714Z"
   },
   {
    "duration": 13,
    "start_time": "2023-10-20T15:29:35.591Z"
   },
   {
    "duration": 12,
    "start_time": "2023-10-20T15:35:57.360Z"
   },
   {
    "duration": 8,
    "start_time": "2023-10-20T15:46:19.505Z"
   },
   {
    "duration": 16,
    "start_time": "2023-10-20T15:46:32.386Z"
   },
   {
    "duration": 17,
    "start_time": "2023-10-20T15:46:46.918Z"
   },
   {
    "duration": 8,
    "start_time": "2023-10-20T15:59:32.961Z"
   },
   {
    "duration": 8,
    "start_time": "2023-10-20T15:59:38.094Z"
   },
   {
    "duration": 15,
    "start_time": "2023-10-20T15:59:38.694Z"
   },
   {
    "duration": 15,
    "start_time": "2023-10-20T15:59:40.285Z"
   },
   {
    "duration": 130,
    "start_time": "2023-10-20T16:01:44.465Z"
   },
   {
    "duration": 470,
    "start_time": "2023-10-20T16:02:26.959Z"
   },
   {
    "duration": 341,
    "start_time": "2023-10-20T16:12:22.979Z"
   },
   {
    "duration": 241,
    "start_time": "2023-10-20T16:12:54.669Z"
   },
   {
    "duration": 20,
    "start_time": "2023-10-20T16:13:52.025Z"
   },
   {
    "duration": 21,
    "start_time": "2023-10-20T16:14:09.826Z"
   },
   {
    "duration": 20,
    "start_time": "2023-10-20T16:14:48.782Z"
   },
   {
    "duration": 318,
    "start_time": "2023-10-20T16:15:01.406Z"
   },
   {
    "duration": 312,
    "start_time": "2023-10-20T16:36:24.977Z"
   },
   {
    "duration": 208,
    "start_time": "2023-10-20T16:42:31.411Z"
   },
   {
    "duration": 216,
    "start_time": "2023-10-20T16:44:02.684Z"
   },
   {
    "duration": 241,
    "start_time": "2023-10-20T16:45:16.349Z"
   },
   {
    "duration": 237,
    "start_time": "2023-10-20T16:45:22.620Z"
   },
   {
    "duration": 227,
    "start_time": "2023-10-20T16:45:29.220Z"
   },
   {
    "duration": 215,
    "start_time": "2023-10-20T16:45:35.435Z"
   },
   {
    "duration": 255,
    "start_time": "2023-10-20T16:45:43.875Z"
   },
   {
    "duration": 223,
    "start_time": "2023-10-20T16:45:53.159Z"
   },
   {
    "duration": 108,
    "start_time": "2023-10-20T18:16:09.650Z"
   },
   {
    "duration": 205,
    "start_time": "2023-10-20T18:23:21.311Z"
   },
   {
    "duration": 205,
    "start_time": "2023-10-20T18:23:27.055Z"
   },
   {
    "duration": 316,
    "start_time": "2023-10-20T18:23:35.149Z"
   },
   {
    "duration": 203,
    "start_time": "2023-10-20T18:23:39.473Z"
   },
   {
    "duration": 196,
    "start_time": "2023-10-20T18:23:43.617Z"
   },
   {
    "duration": 193,
    "start_time": "2023-10-20T18:23:49.718Z"
   },
   {
    "duration": 17,
    "start_time": "2023-10-20T18:24:46.490Z"
   },
   {
    "duration": 12,
    "start_time": "2023-10-20T18:25:03.219Z"
   },
   {
    "duration": 11,
    "start_time": "2023-10-20T18:25:09.996Z"
   },
   {
    "duration": 11,
    "start_time": "2023-10-20T18:25:17.260Z"
   },
   {
    "duration": 55,
    "start_time": "2023-10-21T11:19:18.216Z"
   },
   {
    "duration": 1438,
    "start_time": "2023-10-21T11:19:25.175Z"
   },
   {
    "duration": 242,
    "start_time": "2023-10-21T11:19:26.615Z"
   },
   {
    "duration": 4,
    "start_time": "2023-10-21T11:19:26.862Z"
   },
   {
    "duration": 127,
    "start_time": "2023-10-21T11:19:26.868Z"
   },
   {
    "duration": 387,
    "start_time": "2023-10-21T11:19:26.998Z"
   },
   {
    "duration": 532,
    "start_time": "2023-10-21T11:19:27.386Z"
   },
   {
    "duration": 540,
    "start_time": "2023-10-21T11:19:27.921Z"
   },
   {
    "duration": 11,
    "start_time": "2023-10-21T11:19:28.464Z"
   },
   {
    "duration": 37,
    "start_time": "2023-10-21T11:19:28.477Z"
   },
   {
    "duration": 49,
    "start_time": "2023-10-21T11:19:28.517Z"
   },
   {
    "duration": 19,
    "start_time": "2023-10-21T11:19:28.568Z"
   },
   {
    "duration": 23,
    "start_time": "2023-10-21T11:19:28.589Z"
   },
   {
    "duration": 60,
    "start_time": "2023-10-21T11:19:28.614Z"
   },
   {
    "duration": 54,
    "start_time": "2023-10-21T11:19:28.677Z"
   },
   {
    "duration": 49,
    "start_time": "2023-10-21T11:19:28.734Z"
   },
   {
    "duration": 23,
    "start_time": "2023-10-21T11:19:28.785Z"
   },
   {
    "duration": 49,
    "start_time": "2023-10-21T11:19:28.810Z"
   },
   {
    "duration": 99,
    "start_time": "2023-10-21T11:19:28.862Z"
   },
   {
    "duration": 0,
    "start_time": "2023-10-21T11:19:28.963Z"
   },
   {
    "duration": 0,
    "start_time": "2023-10-21T11:19:28.965Z"
   },
   {
    "duration": 0,
    "start_time": "2023-10-21T11:19:28.966Z"
   },
   {
    "duration": 0,
    "start_time": "2023-10-21T11:19:28.967Z"
   },
   {
    "duration": 0,
    "start_time": "2023-10-21T11:19:28.969Z"
   },
   {
    "duration": 0,
    "start_time": "2023-10-21T11:19:28.970Z"
   },
   {
    "duration": 0,
    "start_time": "2023-10-21T11:19:28.971Z"
   },
   {
    "duration": 0,
    "start_time": "2023-10-21T11:19:28.972Z"
   },
   {
    "duration": 0,
    "start_time": "2023-10-21T11:19:28.973Z"
   },
   {
    "duration": 0,
    "start_time": "2023-10-21T11:19:28.975Z"
   },
   {
    "duration": 0,
    "start_time": "2023-10-21T11:19:28.977Z"
   },
   {
    "duration": 0,
    "start_time": "2023-10-21T11:19:28.979Z"
   },
   {
    "duration": 3,
    "start_time": "2023-10-21T11:19:49.063Z"
   },
   {
    "duration": 94,
    "start_time": "2023-10-21T11:19:49.067Z"
   },
   {
    "duration": 3,
    "start_time": "2023-10-21T11:19:49.163Z"
   },
   {
    "duration": 105,
    "start_time": "2023-10-21T11:19:49.167Z"
   },
   {
    "duration": 321,
    "start_time": "2023-10-21T11:19:49.275Z"
   },
   {
    "duration": 532,
    "start_time": "2023-10-21T11:19:49.598Z"
   },
   {
    "duration": 409,
    "start_time": "2023-10-21T11:19:50.132Z"
   },
   {
    "duration": 14,
    "start_time": "2023-10-21T11:19:50.543Z"
   },
   {
    "duration": 39,
    "start_time": "2023-10-21T11:19:50.559Z"
   },
   {
    "duration": 41,
    "start_time": "2023-10-21T11:19:50.599Z"
   },
   {
    "duration": 54,
    "start_time": "2023-10-21T11:19:50.642Z"
   },
   {
    "duration": 39,
    "start_time": "2023-10-21T11:19:50.698Z"
   },
   {
    "duration": 50,
    "start_time": "2023-10-21T11:19:50.739Z"
   },
   {
    "duration": 84,
    "start_time": "2023-10-21T11:19:50.791Z"
   },
   {
    "duration": 12,
    "start_time": "2023-10-21T11:19:50.876Z"
   },
   {
    "duration": 38,
    "start_time": "2023-10-21T11:19:50.889Z"
   },
   {
    "duration": 40,
    "start_time": "2023-10-21T11:19:50.928Z"
   },
   {
    "duration": 27,
    "start_time": "2023-10-21T11:19:50.969Z"
   },
   {
    "duration": 0,
    "start_time": "2023-10-21T11:19:50.998Z"
   },
   {
    "duration": 0,
    "start_time": "2023-10-21T11:19:50.999Z"
   },
   {
    "duration": 0,
    "start_time": "2023-10-21T11:19:51.000Z"
   },
   {
    "duration": 0,
    "start_time": "2023-10-21T11:19:51.001Z"
   },
   {
    "duration": 0,
    "start_time": "2023-10-21T11:19:51.003Z"
   },
   {
    "duration": 0,
    "start_time": "2023-10-21T11:19:51.004Z"
   },
   {
    "duration": 1,
    "start_time": "2023-10-21T11:19:51.004Z"
   },
   {
    "duration": 0,
    "start_time": "2023-10-21T11:19:51.005Z"
   },
   {
    "duration": 0,
    "start_time": "2023-10-21T11:19:51.007Z"
   },
   {
    "duration": 0,
    "start_time": "2023-10-21T11:19:51.008Z"
   },
   {
    "duration": 0,
    "start_time": "2023-10-21T11:19:51.009Z"
   },
   {
    "duration": 0,
    "start_time": "2023-10-21T11:19:51.010Z"
   },
   {
    "duration": 172,
    "start_time": "2023-10-21T11:20:16.890Z"
   },
   {
    "duration": 3,
    "start_time": "2023-10-21T11:20:25.200Z"
   },
   {
    "duration": 91,
    "start_time": "2023-10-21T11:20:25.205Z"
   },
   {
    "duration": 3,
    "start_time": "2023-10-21T11:20:25.297Z"
   },
   {
    "duration": 115,
    "start_time": "2023-10-21T11:20:25.302Z"
   },
   {
    "duration": 321,
    "start_time": "2023-10-21T11:20:25.419Z"
   },
   {
    "duration": 433,
    "start_time": "2023-10-21T11:20:25.742Z"
   },
   {
    "duration": 432,
    "start_time": "2023-10-21T11:20:26.178Z"
   },
   {
    "duration": 10,
    "start_time": "2023-10-21T11:20:26.612Z"
   },
   {
    "duration": 23,
    "start_time": "2023-10-21T11:20:26.623Z"
   },
   {
    "duration": 11,
    "start_time": "2023-10-21T11:20:26.648Z"
   },
   {
    "duration": 14,
    "start_time": "2023-10-21T11:20:26.661Z"
   },
   {
    "duration": 12,
    "start_time": "2023-10-21T11:20:26.676Z"
   },
   {
    "duration": 20,
    "start_time": "2023-10-21T11:20:26.689Z"
   },
   {
    "duration": 53,
    "start_time": "2023-10-21T11:20:26.711Z"
   },
   {
    "duration": 12,
    "start_time": "2023-10-21T11:20:26.766Z"
   },
   {
    "duration": 12,
    "start_time": "2023-10-21T11:20:26.780Z"
   },
   {
    "duration": 17,
    "start_time": "2023-10-21T11:20:26.793Z"
   },
   {
    "duration": 261,
    "start_time": "2023-10-21T11:20:26.812Z"
   },
   {
    "duration": 95,
    "start_time": "2023-10-21T11:20:27.075Z"
   },
   {
    "duration": 193,
    "start_time": "2023-10-21T11:20:27.172Z"
   },
   {
    "duration": 238,
    "start_time": "2023-10-21T11:20:27.366Z"
   },
   {
    "duration": 214,
    "start_time": "2023-10-21T11:20:27.606Z"
   },
   {
    "duration": 38,
    "start_time": "2023-10-21T11:20:27.822Z"
   },
   {
    "duration": 12,
    "start_time": "2023-10-21T11:20:27.862Z"
   },
   {
    "duration": 16,
    "start_time": "2023-10-21T11:20:27.876Z"
   },
   {
    "duration": 12,
    "start_time": "2023-10-21T11:20:27.894Z"
   },
   {
    "duration": 28,
    "start_time": "2023-10-21T11:20:27.908Z"
   },
   {
    "duration": 48,
    "start_time": "2023-10-21T11:20:27.938Z"
   },
   {
    "duration": 266,
    "start_time": "2023-10-21T11:20:27.988Z"
   },
   {
    "duration": 242,
    "start_time": "2023-10-21T11:20:28.256Z"
   },
   {
    "duration": 11,
    "start_time": "2023-10-21T11:21:45.017Z"
   },
   {
    "duration": 24,
    "start_time": "2023-10-21T11:23:13.880Z"
   },
   {
    "duration": 13,
    "start_time": "2023-10-21T11:24:58.674Z"
   },
   {
    "duration": 19,
    "start_time": "2023-10-21T11:25:00.992Z"
   },
   {
    "duration": 13,
    "start_time": "2023-10-21T11:25:44.795Z"
   },
   {
    "duration": 25,
    "start_time": "2023-10-21T11:27:17.959Z"
   },
   {
    "duration": 90,
    "start_time": "2023-10-21T11:32:47.081Z"
   },
   {
    "duration": 11,
    "start_time": "2023-10-21T11:44:50.195Z"
   },
   {
    "duration": 15,
    "start_time": "2023-10-21T12:03:14.485Z"
   },
   {
    "duration": 10,
    "start_time": "2023-10-21T12:05:09.618Z"
   },
   {
    "duration": 10,
    "start_time": "2023-10-21T12:07:13.994Z"
   },
   {
    "duration": 12,
    "start_time": "2023-10-21T12:07:35.220Z"
   },
   {
    "duration": 10,
    "start_time": "2023-10-21T12:08:51.374Z"
   },
   {
    "duration": 14,
    "start_time": "2023-10-21T12:09:29.777Z"
   },
   {
    "duration": 103,
    "start_time": "2023-10-21T12:10:08.011Z"
   },
   {
    "duration": 101,
    "start_time": "2023-10-21T12:10:24.821Z"
   },
   {
    "duration": 121,
    "start_time": "2023-10-21T12:10:38.847Z"
   },
   {
    "duration": 13,
    "start_time": "2023-10-21T12:11:22.912Z"
   },
   {
    "duration": 100,
    "start_time": "2023-10-21T12:13:01.142Z"
   },
   {
    "duration": 89,
    "start_time": "2023-10-21T13:46:02.551Z"
   },
   {
    "duration": 90,
    "start_time": "2023-10-21T13:46:13.887Z"
   },
   {
    "duration": 91,
    "start_time": "2023-10-21T13:51:56.085Z"
   },
   {
    "duration": 90,
    "start_time": "2023-10-21T13:54:01.619Z"
   },
   {
    "duration": 11,
    "start_time": "2023-10-21T14:13:38.448Z"
   },
   {
    "duration": 9,
    "start_time": "2023-10-21T14:13:58.421Z"
   },
   {
    "duration": 73,
    "start_time": "2023-10-21T14:15:38.032Z"
   },
   {
    "duration": 86,
    "start_time": "2023-10-21T14:15:41.873Z"
   },
   {
    "duration": 4,
    "start_time": "2023-10-21T14:18:24.369Z"
   },
   {
    "duration": 9,
    "start_time": "2023-10-21T14:18:31.975Z"
   },
   {
    "duration": 928,
    "start_time": "2023-10-21T14:20:13.975Z"
   },
   {
    "duration": 4,
    "start_time": "2023-10-21T14:20:23.632Z"
   },
   {
    "duration": 11,
    "start_time": "2023-10-21T14:20:25.535Z"
   },
   {
    "duration": 10,
    "start_time": "2023-10-21T14:20:41.942Z"
   },
   {
    "duration": 11,
    "start_time": "2023-10-21T14:25:04.862Z"
   },
   {
    "duration": 14,
    "start_time": "2023-10-21T14:29:01.544Z"
   },
   {
    "duration": 4,
    "start_time": "2023-10-21T14:37:13.536Z"
   },
   {
    "duration": 13,
    "start_time": "2023-10-21T14:37:28.379Z"
   },
   {
    "duration": 13,
    "start_time": "2023-10-21T14:38:22.574Z"
   },
   {
    "duration": 76,
    "start_time": "2023-10-21T19:41:37.193Z"
   },
   {
    "duration": 1785,
    "start_time": "2023-10-21T19:41:46.489Z"
   },
   {
    "duration": 212,
    "start_time": "2023-10-21T19:41:48.277Z"
   },
   {
    "duration": 6,
    "start_time": "2023-10-21T19:41:48.497Z"
   },
   {
    "duration": 152,
    "start_time": "2023-10-21T19:41:48.506Z"
   },
   {
    "duration": 497,
    "start_time": "2023-10-21T19:41:48.663Z"
   },
   {
    "duration": 716,
    "start_time": "2023-10-21T19:41:49.163Z"
   },
   {
    "duration": 625,
    "start_time": "2023-10-21T19:41:49.882Z"
   },
   {
    "duration": 13,
    "start_time": "2023-10-21T19:41:50.509Z"
   },
   {
    "duration": 23,
    "start_time": "2023-10-21T19:41:50.524Z"
   },
   {
    "duration": 14,
    "start_time": "2023-10-21T19:41:50.549Z"
   },
   {
    "duration": 35,
    "start_time": "2023-10-21T19:41:50.565Z"
   },
   {
    "duration": 24,
    "start_time": "2023-10-21T19:41:50.602Z"
   },
   {
    "duration": 18,
    "start_time": "2023-10-21T19:41:50.628Z"
   },
   {
    "duration": 66,
    "start_time": "2023-10-21T19:41:50.650Z"
   },
   {
    "duration": 21,
    "start_time": "2023-10-21T19:41:50.718Z"
   },
   {
    "duration": 22,
    "start_time": "2023-10-21T19:41:50.741Z"
   },
   {
    "duration": 42,
    "start_time": "2023-10-21T19:41:50.766Z"
   },
   {
    "duration": 235,
    "start_time": "2023-10-21T19:41:50.810Z"
   },
   {
    "duration": 152,
    "start_time": "2023-10-21T19:41:51.047Z"
   },
   {
    "duration": 377,
    "start_time": "2023-10-21T19:41:51.207Z"
   },
   {
    "duration": 395,
    "start_time": "2023-10-21T19:41:51.586Z"
   },
   {
    "duration": 297,
    "start_time": "2023-10-21T19:41:51.983Z"
   },
   {
    "duration": 31,
    "start_time": "2023-10-21T19:41:52.282Z"
   },
   {
    "duration": 26,
    "start_time": "2023-10-21T19:41:52.316Z"
   },
   {
    "duration": 25,
    "start_time": "2023-10-21T19:41:52.343Z"
   },
   {
    "duration": 52,
    "start_time": "2023-10-21T19:41:52.370Z"
   },
   {
    "duration": 13,
    "start_time": "2023-10-21T19:41:52.424Z"
   },
   {
    "duration": 21,
    "start_time": "2023-10-21T19:41:52.439Z"
   },
   {
    "duration": 27,
    "start_time": "2023-10-21T19:41:52.461Z"
   },
   {
    "duration": 298,
    "start_time": "2023-10-21T19:41:52.490Z"
   },
   {
    "duration": 377,
    "start_time": "2023-10-21T19:41:52.790Z"
   },
   {
    "duration": 990,
    "start_time": "2023-10-21T19:41:53.170Z"
   },
   {
    "duration": 5,
    "start_time": "2023-10-21T19:41:54.162Z"
   },
   {
    "duration": 16,
    "start_time": "2023-10-21T19:41:54.169Z"
   },
   {
    "duration": 110,
    "start_time": "2023-10-21T19:41:54.187Z"
   },
   {
    "duration": 1003,
    "start_time": "2023-10-21T19:42:12.758Z"
   },
   {
    "duration": 17,
    "start_time": "2023-10-21T19:42:53.106Z"
   },
   {
    "duration": 19,
    "start_time": "2023-10-21T19:44:00.038Z"
   },
   {
    "duration": 70,
    "start_time": "2023-10-21T19:46:50.905Z"
   },
   {
    "duration": 954,
    "start_time": "2023-10-21T19:47:01.326Z"
   },
   {
    "duration": 16,
    "start_time": "2023-10-21T19:50:03.196Z"
   },
   {
    "duration": 15,
    "start_time": "2023-10-21T19:50:30.748Z"
   },
   {
    "duration": 9,
    "start_time": "2023-10-21T19:57:31.911Z"
   },
   {
    "duration": 9,
    "start_time": "2023-10-21T19:57:43.420Z"
   },
   {
    "duration": 4,
    "start_time": "2023-10-21T20:03:23.780Z"
   },
   {
    "duration": 15,
    "start_time": "2023-10-21T20:03:31.807Z"
   },
   {
    "duration": 5,
    "start_time": "2023-10-21T20:05:57.746Z"
   },
   {
    "duration": 19,
    "start_time": "2023-10-21T20:06:05.717Z"
   },
   {
    "duration": 4,
    "start_time": "2023-10-21T20:08:39.538Z"
   },
   {
    "duration": 10,
    "start_time": "2023-10-21T20:08:43.324Z"
   },
   {
    "duration": 7,
    "start_time": "2023-10-21T20:08:48.083Z"
   },
   {
    "duration": 10,
    "start_time": "2023-10-21T20:10:00.317Z"
   },
   {
    "duration": 18,
    "start_time": "2023-10-21T20:10:29.578Z"
   },
   {
    "duration": 1323,
    "start_time": "2023-10-21T20:10:51.190Z"
   },
   {
    "duration": 1244,
    "start_time": "2023-10-21T20:43:29.960Z"
   },
   {
    "duration": 5,
    "start_time": "2023-10-21T20:43:39.982Z"
   },
   {
    "duration": 38,
    "start_time": "2023-10-21T20:43:53.188Z"
   },
   {
    "duration": 5,
    "start_time": "2023-10-21T20:44:58.060Z"
   },
   {
    "duration": 924,
    "start_time": "2023-10-21T20:44:58.667Z"
   },
   {
    "duration": 346,
    "start_time": "2023-10-21T20:45:26.320Z"
   },
   {
    "duration": 370,
    "start_time": "2023-10-21T20:45:33.200Z"
   },
   {
    "duration": 5,
    "start_time": "2023-10-21T20:45:50.851Z"
   },
   {
    "duration": 1189,
    "start_time": "2023-10-21T20:45:51.095Z"
   },
   {
    "duration": 342,
    "start_time": "2023-10-21T20:46:37.351Z"
   },
   {
    "duration": 13,
    "start_time": "2023-10-21T20:46:42.035Z"
   },
   {
    "duration": 522,
    "start_time": "2023-10-21T20:46:42.399Z"
   },
   {
    "duration": 4,
    "start_time": "2023-10-21T20:47:07.382Z"
   },
   {
    "duration": 353,
    "start_time": "2023-10-21T20:47:11.106Z"
   },
   {
    "duration": 41,
    "start_time": "2023-10-21T20:48:40.301Z"
   },
   {
    "duration": 37,
    "start_time": "2023-10-21T20:49:23.276Z"
   },
   {
    "duration": 12,
    "start_time": "2023-10-21T20:58:34.278Z"
   },
   {
    "duration": 1702,
    "start_time": "2023-10-21T20:58:50.338Z"
   },
   {
    "duration": 32,
    "start_time": "2023-10-21T20:59:16.026Z"
   },
   {
    "duration": 19,
    "start_time": "2023-10-21T21:00:35.098Z"
   },
   {
    "duration": 11,
    "start_time": "2023-10-21T21:02:41.159Z"
   },
   {
    "duration": 23,
    "start_time": "2023-10-21T21:02:56.179Z"
   },
   {
    "duration": 4,
    "start_time": "2023-10-21T21:03:14.427Z"
   },
   {
    "duration": 9,
    "start_time": "2023-10-21T21:04:48.149Z"
   },
   {
    "duration": 5,
    "start_time": "2023-10-21T21:04:48.806Z"
   },
   {
    "duration": 13,
    "start_time": "2023-10-21T21:04:49.388Z"
   },
   {
    "duration": 131,
    "start_time": "2023-10-21T21:04:50.226Z"
   },
   {
    "duration": 19,
    "start_time": "2023-10-21T21:04:52.264Z"
   },
   {
    "duration": 1315,
    "start_time": "2023-10-21T21:05:00.847Z"
   },
   {
    "duration": 77,
    "start_time": "2023-10-21T21:05:02.164Z"
   },
   {
    "duration": 3,
    "start_time": "2023-10-21T21:05:02.243Z"
   },
   {
    "duration": 120,
    "start_time": "2023-10-21T21:05:02.248Z"
   },
   {
    "duration": 376,
    "start_time": "2023-10-21T21:05:02.370Z"
   },
   {
    "duration": 481,
    "start_time": "2023-10-21T21:05:02.748Z"
   },
   {
    "duration": 532,
    "start_time": "2023-10-21T21:05:03.231Z"
   },
   {
    "duration": 9,
    "start_time": "2023-10-21T21:05:03.765Z"
   },
   {
    "duration": 22,
    "start_time": "2023-10-21T21:05:03.775Z"
   },
   {
    "duration": 26,
    "start_time": "2023-10-21T21:05:03.800Z"
   },
   {
    "duration": 12,
    "start_time": "2023-10-21T21:05:03.828Z"
   },
   {
    "duration": 13,
    "start_time": "2023-10-21T21:05:03.842Z"
   },
   {
    "duration": 13,
    "start_time": "2023-10-21T21:05:03.856Z"
   },
   {
    "duration": 42,
    "start_time": "2023-10-21T21:05:03.870Z"
   },
   {
    "duration": 22,
    "start_time": "2023-10-21T21:05:03.914Z"
   },
   {
    "duration": 27,
    "start_time": "2023-10-21T21:05:03.937Z"
   },
   {
    "duration": 15,
    "start_time": "2023-10-21T21:05:03.965Z"
   },
   {
    "duration": 158,
    "start_time": "2023-10-21T21:05:03.981Z"
   },
   {
    "duration": 117,
    "start_time": "2023-10-21T21:05:04.141Z"
   },
   {
    "duration": 282,
    "start_time": "2023-10-21T21:05:04.261Z"
   },
   {
    "duration": 271,
    "start_time": "2023-10-21T21:05:04.545Z"
   },
   {
    "duration": 205,
    "start_time": "2023-10-21T21:05:04.824Z"
   },
   {
    "duration": 23,
    "start_time": "2023-10-21T21:05:05.030Z"
   },
   {
    "duration": 14,
    "start_time": "2023-10-21T21:05:05.055Z"
   },
   {
    "duration": 41,
    "start_time": "2023-10-21T21:05:05.070Z"
   },
   {
    "duration": 38,
    "start_time": "2023-10-21T21:05:05.113Z"
   },
   {
    "duration": 9,
    "start_time": "2023-10-21T21:05:05.153Z"
   },
   {
    "duration": 22,
    "start_time": "2023-10-21T21:05:05.165Z"
   },
   {
    "duration": 35,
    "start_time": "2023-10-21T21:05:05.189Z"
   },
   {
    "duration": 303,
    "start_time": "2023-10-21T21:05:05.226Z"
   },
   {
    "duration": 239,
    "start_time": "2023-10-21T21:05:05.530Z"
   },
   {
    "duration": 1065,
    "start_time": "2023-10-21T21:05:05.770Z"
   },
   {
    "duration": 4,
    "start_time": "2023-10-21T21:05:06.837Z"
   },
   {
    "duration": 44,
    "start_time": "2023-10-21T21:05:06.842Z"
   },
   {
    "duration": 40,
    "start_time": "2023-10-21T21:05:06.888Z"
   },
   {
    "duration": 54,
    "start_time": "2023-10-21T21:05:06.930Z"
   },
   {
    "duration": 40,
    "start_time": "2023-10-21T21:05:06.986Z"
   },
   {
    "duration": 43,
    "start_time": "2023-10-21T21:05:07.028Z"
   },
   {
    "duration": 21,
    "start_time": "2023-10-21T21:05:07.072Z"
   },
   {
    "duration": 11,
    "start_time": "2023-10-21T21:05:07.095Z"
   },
   {
    "duration": 766,
    "start_time": "2023-10-21T21:05:07.110Z"
   },
   {
    "duration": 0,
    "start_time": "2023-10-21T21:05:07.877Z"
   },
   {
    "duration": 1245,
    "start_time": "2023-10-21T21:07:05.383Z"
   },
   {
    "duration": 69,
    "start_time": "2023-10-21T21:07:06.630Z"
   },
   {
    "duration": 3,
    "start_time": "2023-10-21T21:07:06.701Z"
   },
   {
    "duration": 141,
    "start_time": "2023-10-21T21:07:06.705Z"
   },
   {
    "duration": 347,
    "start_time": "2023-10-21T21:07:06.848Z"
   },
   {
    "duration": 531,
    "start_time": "2023-10-21T21:07:07.197Z"
   },
   {
    "duration": 439,
    "start_time": "2023-10-21T21:07:07.730Z"
   },
   {
    "duration": 8,
    "start_time": "2023-10-21T21:07:08.170Z"
   },
   {
    "duration": 17,
    "start_time": "2023-10-21T21:07:08.180Z"
   },
   {
    "duration": 16,
    "start_time": "2023-10-21T21:07:08.198Z"
   },
   {
    "duration": 11,
    "start_time": "2023-10-21T21:07:08.215Z"
   },
   {
    "duration": 17,
    "start_time": "2023-10-21T21:07:08.229Z"
   },
   {
    "duration": 12,
    "start_time": "2023-10-21T21:07:08.248Z"
   },
   {
    "duration": 58,
    "start_time": "2023-10-21T21:07:08.263Z"
   },
   {
    "duration": 13,
    "start_time": "2023-10-21T21:07:08.324Z"
   },
   {
    "duration": 17,
    "start_time": "2023-10-21T21:07:08.339Z"
   },
   {
    "duration": 12,
    "start_time": "2023-10-21T21:07:08.357Z"
   },
   {
    "duration": 179,
    "start_time": "2023-10-21T21:07:08.370Z"
   },
   {
    "duration": 113,
    "start_time": "2023-10-21T21:07:08.551Z"
   },
   {
    "duration": 290,
    "start_time": "2023-10-21T21:07:08.666Z"
   },
   {
    "duration": 272,
    "start_time": "2023-10-21T21:07:08.958Z"
   },
   {
    "duration": 218,
    "start_time": "2023-10-21T21:07:09.232Z"
   },
   {
    "duration": 22,
    "start_time": "2023-10-21T21:07:09.452Z"
   },
   {
    "duration": 12,
    "start_time": "2023-10-21T21:07:09.476Z"
   },
   {
    "duration": 39,
    "start_time": "2023-10-21T21:07:09.489Z"
   },
   {
    "duration": 26,
    "start_time": "2023-10-21T21:07:09.530Z"
   },
   {
    "duration": 9,
    "start_time": "2023-10-21T21:07:09.557Z"
   },
   {
    "duration": 34,
    "start_time": "2023-10-21T21:07:09.567Z"
   },
   {
    "duration": 23,
    "start_time": "2023-10-21T21:07:09.608Z"
   },
   {
    "duration": 244,
    "start_time": "2023-10-21T21:07:09.632Z"
   },
   {
    "duration": 276,
    "start_time": "2023-10-21T21:07:09.877Z"
   },
   {
    "duration": 957,
    "start_time": "2023-10-21T21:07:10.155Z"
   },
   {
    "duration": 4,
    "start_time": "2023-10-21T21:07:11.118Z"
   },
   {
    "duration": 23,
    "start_time": "2023-10-21T21:07:11.124Z"
   },
   {
    "duration": 7,
    "start_time": "2023-10-21T21:07:11.149Z"
   },
   {
    "duration": 7,
    "start_time": "2023-10-21T21:07:11.158Z"
   },
   {
    "duration": 20,
    "start_time": "2023-10-21T21:07:11.166Z"
   },
   {
    "duration": 13,
    "start_time": "2023-10-21T21:07:11.188Z"
   },
   {
    "duration": 28,
    "start_time": "2023-10-21T21:07:11.202Z"
   },
   {
    "duration": 20,
    "start_time": "2023-10-21T21:07:11.233Z"
   },
   {
    "duration": 22,
    "start_time": "2023-10-21T21:12:00.502Z"
   },
   {
    "duration": 4,
    "start_time": "2023-10-21T21:12:23.751Z"
   },
   {
    "duration": 9,
    "start_time": "2023-10-21T21:12:24.481Z"
   },
   {
    "duration": 12,
    "start_time": "2023-10-21T21:13:01.036Z"
   },
   {
    "duration": 3,
    "start_time": "2023-10-21T21:17:18.415Z"
   },
   {
    "duration": 100,
    "start_time": "2023-10-21T21:17:41.848Z"
   },
   {
    "duration": 24,
    "start_time": "2023-10-21T21:17:57.598Z"
   },
   {
    "duration": 1370,
    "start_time": "2023-10-21T21:19:03.538Z"
   },
   {
    "duration": 15,
    "start_time": "2023-10-21T21:19:18.945Z"
   },
   {
    "duration": 10,
    "start_time": "2023-10-21T21:19:27.950Z"
   },
   {
    "duration": 1236,
    "start_time": "2023-10-21T21:19:38.301Z"
   },
   {
    "duration": 75,
    "start_time": "2023-10-21T21:19:39.539Z"
   },
   {
    "duration": 4,
    "start_time": "2023-10-21T21:19:39.617Z"
   },
   {
    "duration": 105,
    "start_time": "2023-10-21T21:19:39.623Z"
   },
   {
    "duration": 318,
    "start_time": "2023-10-21T21:19:39.731Z"
   },
   {
    "duration": 500,
    "start_time": "2023-10-21T21:19:40.050Z"
   },
   {
    "duration": 391,
    "start_time": "2023-10-21T21:19:40.552Z"
   },
   {
    "duration": 9,
    "start_time": "2023-10-21T21:19:40.945Z"
   },
   {
    "duration": 10,
    "start_time": "2023-10-21T21:19:40.955Z"
   },
   {
    "duration": 6,
    "start_time": "2023-10-21T21:19:40.966Z"
   },
   {
    "duration": 19,
    "start_time": "2023-10-21T21:19:40.973Z"
   },
   {
    "duration": 23,
    "start_time": "2023-10-21T21:19:40.994Z"
   },
   {
    "duration": 25,
    "start_time": "2023-10-21T21:19:41.022Z"
   },
   {
    "duration": 26,
    "start_time": "2023-10-21T21:19:41.050Z"
   },
   {
    "duration": 12,
    "start_time": "2023-10-21T21:19:41.077Z"
   },
   {
    "duration": 29,
    "start_time": "2023-10-21T21:19:41.090Z"
   },
   {
    "duration": 16,
    "start_time": "2023-10-21T21:19:41.121Z"
   },
   {
    "duration": 161,
    "start_time": "2023-10-21T21:19:41.139Z"
   },
   {
    "duration": 97,
    "start_time": "2023-10-21T21:19:41.302Z"
   },
   {
    "duration": 265,
    "start_time": "2023-10-21T21:19:41.406Z"
   },
   {
    "duration": 251,
    "start_time": "2023-10-21T21:19:41.673Z"
   },
   {
    "duration": 217,
    "start_time": "2023-10-21T21:19:41.926Z"
   },
   {
    "duration": 25,
    "start_time": "2023-10-21T21:19:42.144Z"
   },
   {
    "duration": 12,
    "start_time": "2023-10-21T21:19:42.171Z"
   },
   {
    "duration": 37,
    "start_time": "2023-10-21T21:19:42.185Z"
   },
   {
    "duration": 26,
    "start_time": "2023-10-21T21:19:42.223Z"
   },
   {
    "duration": 10,
    "start_time": "2023-10-21T21:19:42.251Z"
   },
   {
    "duration": 10,
    "start_time": "2023-10-21T21:19:42.263Z"
   },
   {
    "duration": 42,
    "start_time": "2023-10-21T21:19:42.275Z"
   },
   {
    "duration": 221,
    "start_time": "2023-10-21T21:19:42.323Z"
   },
   {
    "duration": 219,
    "start_time": "2023-10-21T21:19:42.545Z"
   },
   {
    "duration": 856,
    "start_time": "2023-10-21T21:19:42.765Z"
   },
   {
    "duration": 3,
    "start_time": "2023-10-21T21:19:43.625Z"
   },
   {
    "duration": 22,
    "start_time": "2023-10-21T21:19:43.630Z"
   },
   {
    "duration": 21,
    "start_time": "2023-10-21T21:19:43.654Z"
   },
   {
    "duration": 10,
    "start_time": "2023-10-21T21:19:43.676Z"
   },
   {
    "duration": 36,
    "start_time": "2023-10-21T21:19:43.687Z"
   },
   {
    "duration": 17,
    "start_time": "2023-10-21T21:19:43.725Z"
   },
   {
    "duration": 20,
    "start_time": "2023-10-21T21:19:43.744Z"
   },
   {
    "duration": 26,
    "start_time": "2023-10-21T21:19:43.766Z"
   },
   {
    "duration": 14,
    "start_time": "2023-10-21T21:19:43.797Z"
   },
   {
    "duration": 31,
    "start_time": "2023-10-21T21:19:43.812Z"
   },
   {
    "duration": 11,
    "start_time": "2023-10-21T21:19:57.858Z"
   },
   {
    "duration": 1416,
    "start_time": "2023-10-24T10:03:05.000Z"
   },
   {
    "duration": 199,
    "start_time": "2023-10-24T10:03:06.419Z"
   },
   {
    "duration": 3,
    "start_time": "2023-10-24T10:03:06.620Z"
   },
   {
    "duration": 116,
    "start_time": "2023-10-24T10:03:06.625Z"
   },
   {
    "duration": 377,
    "start_time": "2023-10-24T10:03:06.743Z"
   },
   {
    "duration": 644,
    "start_time": "2023-10-24T10:03:07.122Z"
   },
   {
    "duration": 425,
    "start_time": "2023-10-24T10:03:07.768Z"
   },
   {
    "duration": 13,
    "start_time": "2023-10-24T10:03:08.196Z"
   },
   {
    "duration": 52,
    "start_time": "2023-10-24T10:03:08.210Z"
   },
   {
    "duration": 7,
    "start_time": "2023-10-24T10:03:08.265Z"
   },
   {
    "duration": 7,
    "start_time": "2023-10-24T10:03:08.273Z"
   },
   {
    "duration": 18,
    "start_time": "2023-10-24T10:03:08.281Z"
   },
   {
    "duration": 25,
    "start_time": "2023-10-24T10:03:08.300Z"
   },
   {
    "duration": 34,
    "start_time": "2023-10-24T10:03:08.327Z"
   },
   {
    "duration": 14,
    "start_time": "2023-10-24T10:03:08.363Z"
   },
   {
    "duration": 38,
    "start_time": "2023-10-24T10:03:08.379Z"
   },
   {
    "duration": 18,
    "start_time": "2023-10-24T10:03:08.419Z"
   },
   {
    "duration": 175,
    "start_time": "2023-10-24T10:03:08.439Z"
   },
   {
    "duration": 125,
    "start_time": "2023-10-24T10:03:08.616Z"
   },
   {
    "duration": 278,
    "start_time": "2023-10-24T10:03:08.743Z"
   },
   {
    "duration": 258,
    "start_time": "2023-10-24T10:03:09.023Z"
   },
   {
    "duration": 208,
    "start_time": "2023-10-24T10:03:09.282Z"
   },
   {
    "duration": 27,
    "start_time": "2023-10-24T10:03:09.492Z"
   },
   {
    "duration": 15,
    "start_time": "2023-10-24T10:03:09.520Z"
   },
   {
    "duration": 20,
    "start_time": "2023-10-24T10:03:09.537Z"
   },
   {
    "duration": 47,
    "start_time": "2023-10-24T10:03:09.558Z"
   },
   {
    "duration": 11,
    "start_time": "2023-10-24T10:03:09.607Z"
   },
   {
    "duration": 19,
    "start_time": "2023-10-24T10:03:09.621Z"
   },
   {
    "duration": 47,
    "start_time": "2023-10-24T10:03:09.642Z"
   },
   {
    "duration": 260,
    "start_time": "2023-10-24T10:03:09.691Z"
   },
   {
    "duration": 231,
    "start_time": "2023-10-24T10:03:09.953Z"
   },
   {
    "duration": 923,
    "start_time": "2023-10-24T10:03:10.186Z"
   },
   {
    "duration": 5,
    "start_time": "2023-10-24T10:03:11.111Z"
   },
   {
    "duration": 25,
    "start_time": "2023-10-24T10:03:11.118Z"
   },
   {
    "duration": 13,
    "start_time": "2023-10-24T10:03:11.145Z"
   },
   {
    "duration": 23,
    "start_time": "2023-10-24T10:03:11.160Z"
   },
   {
    "duration": 32,
    "start_time": "2023-10-24T10:03:11.184Z"
   },
   {
    "duration": 11,
    "start_time": "2023-10-24T10:03:11.218Z"
   },
   {
    "duration": 11,
    "start_time": "2023-10-24T10:03:11.231Z"
   },
   {
    "duration": 27,
    "start_time": "2023-10-24T10:03:11.243Z"
   },
   {
    "duration": 10,
    "start_time": "2023-10-24T10:03:11.272Z"
   },
   {
    "duration": 19,
    "start_time": "2023-10-24T10:03:11.284Z"
   },
   {
    "duration": 84,
    "start_time": "2023-10-24T10:10:05.174Z"
   },
   {
    "duration": 892,
    "start_time": "2023-10-24T10:27:35.177Z"
   },
   {
    "duration": 4,
    "start_time": "2023-10-24T10:53:01.809Z"
   },
   {
    "duration": 11,
    "start_time": "2023-10-24T10:53:10.659Z"
   },
   {
    "duration": 4,
    "start_time": "2023-10-24T10:53:50.265Z"
   },
   {
    "duration": 4,
    "start_time": "2023-10-24T10:54:16.960Z"
   },
   {
    "duration": 5,
    "start_time": "2023-10-24T10:54:18.701Z"
   },
   {
    "duration": 14,
    "start_time": "2023-10-24T10:57:10.007Z"
   },
   {
    "duration": 11,
    "start_time": "2023-10-24T11:00:03.316Z"
   },
   {
    "duration": 12,
    "start_time": "2023-10-24T11:00:25.369Z"
   },
   {
    "duration": 12,
    "start_time": "2023-10-24T11:00:37.031Z"
   },
   {
    "duration": 13,
    "start_time": "2023-10-24T11:03:08.056Z"
   },
   {
    "duration": 9,
    "start_time": "2023-10-24T11:03:20.891Z"
   },
   {
    "duration": 131,
    "start_time": "2023-10-24T11:19:45.370Z"
   },
   {
    "duration": 10,
    "start_time": "2023-10-24T11:20:54.505Z"
   },
   {
    "duration": 11,
    "start_time": "2023-10-24T11:24:34.342Z"
   },
   {
    "duration": 14,
    "start_time": "2023-10-24T11:37:00.728Z"
   },
   {
    "duration": 10,
    "start_time": "2023-10-24T11:37:03.008Z"
   },
   {
    "duration": 3,
    "start_time": "2023-10-24T11:37:09.341Z"
   },
   {
    "duration": 9,
    "start_time": "2023-10-24T11:37:19.897Z"
   },
   {
    "duration": 10,
    "start_time": "2023-10-24T11:37:23.934Z"
   },
   {
    "duration": 13,
    "start_time": "2023-10-24T11:37:24.071Z"
   },
   {
    "duration": 3,
    "start_time": "2023-10-24T11:59:40.954Z"
   },
   {
    "duration": 5,
    "start_time": "2023-10-24T12:00:54.817Z"
   },
   {
    "duration": 17,
    "start_time": "2023-10-24T12:03:21.962Z"
   },
   {
    "duration": 4,
    "start_time": "2023-10-24T12:03:25.637Z"
   },
   {
    "duration": 17,
    "start_time": "2023-10-24T12:03:27.652Z"
   },
   {
    "duration": 112,
    "start_time": "2023-10-24T12:04:30.273Z"
   },
   {
    "duration": 16,
    "start_time": "2023-10-24T12:06:26.233Z"
   },
   {
    "duration": 24,
    "start_time": "2023-10-24T12:06:32.481Z"
   },
   {
    "duration": 13,
    "start_time": "2023-10-24T12:07:35.035Z"
   },
   {
    "duration": 297,
    "start_time": "2023-10-24T12:07:53.119Z"
   },
   {
    "duration": 393,
    "start_time": "2023-10-24T12:08:05.782Z"
   },
   {
    "duration": 4,
    "start_time": "2023-10-24T12:08:08.263Z"
   },
   {
    "duration": 355,
    "start_time": "2023-10-24T12:08:10.147Z"
   },
   {
    "duration": 54,
    "start_time": "2023-10-24T14:07:35.502Z"
   },
   {
    "duration": 1450,
    "start_time": "2023-10-24T14:07:42.349Z"
   },
   {
    "duration": 202,
    "start_time": "2023-10-24T14:07:43.801Z"
   },
   {
    "duration": 2,
    "start_time": "2023-10-24T14:07:44.005Z"
   },
   {
    "duration": 111,
    "start_time": "2023-10-24T14:07:44.009Z"
   },
   {
    "duration": 352,
    "start_time": "2023-10-24T14:07:44.122Z"
   },
   {
    "duration": 487,
    "start_time": "2023-10-24T14:07:44.476Z"
   },
   {
    "duration": 8,
    "start_time": "2023-10-24T14:07:44.965Z"
   },
   {
    "duration": 11,
    "start_time": "2023-10-24T14:07:44.975Z"
   },
   {
    "duration": 47,
    "start_time": "2023-10-24T14:07:44.987Z"
   },
   {
    "duration": 26,
    "start_time": "2023-10-24T14:07:45.037Z"
   },
   {
    "duration": 37,
    "start_time": "2023-10-24T14:07:45.065Z"
   },
   {
    "duration": 28,
    "start_time": "2023-10-24T14:07:45.104Z"
   },
   {
    "duration": 29,
    "start_time": "2023-10-24T14:07:45.133Z"
   },
   {
    "duration": 126,
    "start_time": "2023-10-24T14:07:45.164Z"
   },
   {
    "duration": 14,
    "start_time": "2023-10-24T14:07:45.291Z"
   },
   {
    "duration": 14,
    "start_time": "2023-10-24T14:07:45.307Z"
   },
   {
    "duration": 186,
    "start_time": "2023-10-24T14:07:45.322Z"
   },
   {
    "duration": 136,
    "start_time": "2023-10-24T14:07:45.510Z"
   },
   {
    "duration": 204,
    "start_time": "2023-10-24T14:07:45.649Z"
   },
   {
    "duration": 267,
    "start_time": "2023-10-24T14:07:45.855Z"
   },
   {
    "duration": 289,
    "start_time": "2023-10-24T14:07:46.125Z"
   },
   {
    "duration": 35,
    "start_time": "2023-10-24T14:07:46.416Z"
   },
   {
    "duration": 18,
    "start_time": "2023-10-24T14:07:46.453Z"
   },
   {
    "duration": 22,
    "start_time": "2023-10-24T14:07:46.473Z"
   },
   {
    "duration": 49,
    "start_time": "2023-10-24T14:07:46.497Z"
   },
   {
    "duration": 11,
    "start_time": "2023-10-24T14:07:46.548Z"
   },
   {
    "duration": 23,
    "start_time": "2023-10-24T14:07:46.561Z"
   },
   {
    "duration": 13,
    "start_time": "2023-10-24T14:07:46.589Z"
   },
   {
    "duration": 271,
    "start_time": "2023-10-24T14:07:46.605Z"
   },
   {
    "duration": 241,
    "start_time": "2023-10-24T14:07:46.878Z"
   },
   {
    "duration": 928,
    "start_time": "2023-10-24T14:07:47.121Z"
   },
   {
    "duration": 13,
    "start_time": "2023-10-24T14:07:48.051Z"
   },
   {
    "duration": 16,
    "start_time": "2023-10-24T14:07:48.066Z"
   },
   {
    "duration": 5,
    "start_time": "2023-10-24T14:07:48.084Z"
   },
   {
    "duration": 11,
    "start_time": "2023-10-24T14:07:48.091Z"
   },
   {
    "duration": 16,
    "start_time": "2023-10-24T14:07:48.104Z"
   },
   {
    "duration": 27,
    "start_time": "2023-10-24T14:07:48.122Z"
   },
   {
    "duration": 24,
    "start_time": "2023-10-24T14:07:48.151Z"
   },
   {
    "duration": 6,
    "start_time": "2023-10-24T14:07:48.176Z"
   },
   {
    "duration": 25,
    "start_time": "2023-10-24T14:07:48.184Z"
   },
   {
    "duration": 26,
    "start_time": "2023-10-24T14:07:48.211Z"
   },
   {
    "duration": 561,
    "start_time": "2023-10-24T14:07:48.239Z"
   },
   {
    "duration": 1012,
    "start_time": "2023-10-24T14:09:14.354Z"
   },
   {
    "duration": 25,
    "start_time": "2023-10-24T15:16:04.268Z"
   },
   {
    "duration": 4,
    "start_time": "2023-10-24T15:17:01.153Z"
   },
   {
    "duration": 6753,
    "start_time": "2023-10-24T15:17:03.937Z"
   },
   {
    "duration": 57,
    "start_time": "2023-10-24T20:03:42.063Z"
   },
   {
    "duration": 1377,
    "start_time": "2023-10-24T20:03:47.210Z"
   },
   {
    "duration": 231,
    "start_time": "2023-10-24T20:03:48.590Z"
   },
   {
    "duration": 2,
    "start_time": "2023-10-24T20:03:48.823Z"
   },
   {
    "duration": 126,
    "start_time": "2023-10-24T20:03:48.827Z"
   },
   {
    "duration": 347,
    "start_time": "2023-10-24T20:03:48.954Z"
   },
   {
    "duration": 476,
    "start_time": "2023-10-24T20:03:49.302Z"
   },
   {
    "duration": 12,
    "start_time": "2023-10-24T20:03:49.780Z"
   },
   {
    "duration": 22,
    "start_time": "2023-10-24T20:03:49.793Z"
   },
   {
    "duration": 8,
    "start_time": "2023-10-24T20:03:49.817Z"
   },
   {
    "duration": 13,
    "start_time": "2023-10-24T20:03:49.828Z"
   },
   {
    "duration": 12,
    "start_time": "2023-10-24T20:03:49.843Z"
   },
   {
    "duration": 24,
    "start_time": "2023-10-24T20:03:49.857Z"
   },
   {
    "duration": 31,
    "start_time": "2023-10-24T20:03:49.882Z"
   },
   {
    "duration": 46,
    "start_time": "2023-10-24T20:03:49.915Z"
   },
   {
    "duration": 23,
    "start_time": "2023-10-24T20:03:49.964Z"
   },
   {
    "duration": 12,
    "start_time": "2023-10-24T20:03:49.989Z"
   },
   {
    "duration": 192,
    "start_time": "2023-10-24T20:03:50.003Z"
   },
   {
    "duration": 115,
    "start_time": "2023-10-24T20:03:50.197Z"
   },
   {
    "duration": 211,
    "start_time": "2023-10-24T20:03:50.313Z"
   },
   {
    "duration": 273,
    "start_time": "2023-10-24T20:03:50.526Z"
   },
   {
    "duration": 292,
    "start_time": "2023-10-24T20:03:50.800Z"
   },
   {
    "duration": 25,
    "start_time": "2023-10-24T20:03:51.095Z"
   },
   {
    "duration": 31,
    "start_time": "2023-10-24T20:03:51.123Z"
   },
   {
    "duration": 17,
    "start_time": "2023-10-24T20:03:51.160Z"
   },
   {
    "duration": 30,
    "start_time": "2023-10-24T20:03:51.179Z"
   },
   {
    "duration": 9,
    "start_time": "2023-10-24T20:03:51.211Z"
   },
   {
    "duration": 30,
    "start_time": "2023-10-24T20:03:51.221Z"
   },
   {
    "duration": 23,
    "start_time": "2023-10-24T20:03:51.255Z"
   },
   {
    "duration": 235,
    "start_time": "2023-10-24T20:03:51.280Z"
   },
   {
    "duration": 253,
    "start_time": "2023-10-24T20:03:51.517Z"
   },
   {
    "duration": 942,
    "start_time": "2023-10-24T20:03:51.773Z"
   },
   {
    "duration": 12,
    "start_time": "2023-10-24T20:03:52.717Z"
   },
   {
    "duration": 35,
    "start_time": "2023-10-24T20:03:52.731Z"
   },
   {
    "duration": 7,
    "start_time": "2023-10-24T20:03:52.767Z"
   },
   {
    "duration": 10,
    "start_time": "2023-10-24T20:03:52.775Z"
   },
   {
    "duration": 12,
    "start_time": "2023-10-24T20:03:52.786Z"
   },
   {
    "duration": 8,
    "start_time": "2023-10-24T20:03:52.800Z"
   },
   {
    "duration": 6,
    "start_time": "2023-10-24T20:03:52.809Z"
   },
   {
    "duration": 20,
    "start_time": "2023-10-24T20:03:52.816Z"
   },
   {
    "duration": 10,
    "start_time": "2023-10-24T20:03:52.838Z"
   },
   {
    "duration": 13,
    "start_time": "2023-10-24T20:03:52.855Z"
   },
   {
    "duration": 1227,
    "start_time": "2023-10-24T20:03:52.869Z"
   },
   {
    "duration": 1201,
    "start_time": "2023-10-24T20:04:00.367Z"
   },
   {
    "duration": 24,
    "start_time": "2023-10-24T20:04:51.067Z"
   },
   {
    "duration": 12,
    "start_time": "2023-10-24T20:06:35.074Z"
   },
   {
    "duration": 10,
    "start_time": "2023-10-24T20:06:39.166Z"
   },
   {
    "duration": 8,
    "start_time": "2023-10-24T20:08:55.461Z"
   },
   {
    "duration": 4,
    "start_time": "2023-10-24T20:08:59.296Z"
   },
   {
    "duration": 4,
    "start_time": "2023-10-24T20:09:13.908Z"
   },
   {
    "duration": 18,
    "start_time": "2023-10-24T20:11:18.031Z"
   },
   {
    "duration": 4,
    "start_time": "2023-10-24T20:26:38.370Z"
   },
   {
    "duration": 16,
    "start_time": "2023-10-24T20:26:39.041Z"
   },
   {
    "duration": 10,
    "start_time": "2023-10-24T20:26:40.690Z"
   },
   {
    "duration": 3,
    "start_time": "2023-10-24T20:26:43.060Z"
   },
   {
    "duration": 5,
    "start_time": "2023-10-24T20:26:43.454Z"
   },
   {
    "duration": 3,
    "start_time": "2023-10-24T20:26:43.855Z"
   },
   {
    "duration": 20,
    "start_time": "2023-10-24T20:26:44.237Z"
   },
   {
    "duration": 17,
    "start_time": "2023-10-24T20:26:47.526Z"
   },
   {
    "duration": 13,
    "start_time": "2023-10-24T20:26:59.020Z"
   },
   {
    "duration": 13,
    "start_time": "2023-10-24T20:27:04.095Z"
   },
   {
    "duration": 11,
    "start_time": "2023-10-24T20:27:06.613Z"
   },
   {
    "duration": 12,
    "start_time": "2023-10-24T20:27:07.018Z"
   },
   {
    "duration": 17,
    "start_time": "2023-10-24T20:27:08.088Z"
   },
   {
    "duration": 16,
    "start_time": "2023-10-24T20:29:52.633Z"
   },
   {
    "duration": 30,
    "start_time": "2023-10-24T20:29:55.695Z"
   },
   {
    "duration": 20,
    "start_time": "2023-10-24T20:30:07.528Z"
   },
   {
    "duration": 11,
    "start_time": "2023-10-24T20:30:09.194Z"
   },
   {
    "duration": 81,
    "start_time": "2023-10-24T20:30:09.728Z"
   },
   {
    "duration": 16,
    "start_time": "2023-10-24T20:30:12.622Z"
   },
   {
    "duration": 11,
    "start_time": "2023-10-24T20:31:06.095Z"
   },
   {
    "duration": 59,
    "start_time": "2023-10-25T10:22:08.823Z"
   },
   {
    "duration": 1439,
    "start_time": "2023-10-25T10:22:13.466Z"
   },
   {
    "duration": 214,
    "start_time": "2023-10-25T10:22:14.907Z"
   },
   {
    "duration": 4,
    "start_time": "2023-10-25T10:22:15.122Z"
   },
   {
    "duration": 149,
    "start_time": "2023-10-25T10:22:15.128Z"
   },
   {
    "duration": 428,
    "start_time": "2023-10-25T10:22:15.280Z"
   },
   {
    "duration": 550,
    "start_time": "2023-10-25T10:22:15.710Z"
   },
   {
    "duration": 9,
    "start_time": "2023-10-25T10:22:16.261Z"
   },
   {
    "duration": 10,
    "start_time": "2023-10-25T10:22:16.272Z"
   },
   {
    "duration": 13,
    "start_time": "2023-10-25T10:22:16.284Z"
   },
   {
    "duration": 10,
    "start_time": "2023-10-25T10:22:16.299Z"
   },
   {
    "duration": 14,
    "start_time": "2023-10-25T10:22:16.310Z"
   },
   {
    "duration": 37,
    "start_time": "2023-10-25T10:22:16.326Z"
   },
   {
    "duration": 29,
    "start_time": "2023-10-25T10:22:16.365Z"
   },
   {
    "duration": 17,
    "start_time": "2023-10-25T10:22:16.397Z"
   },
   {
    "duration": 38,
    "start_time": "2023-10-25T10:22:16.415Z"
   },
   {
    "duration": 15,
    "start_time": "2023-10-25T10:22:16.455Z"
   },
   {
    "duration": 188,
    "start_time": "2023-10-25T10:22:16.472Z"
   },
   {
    "duration": 117,
    "start_time": "2023-10-25T10:22:16.662Z"
   },
   {
    "duration": 205,
    "start_time": "2023-10-25T10:22:16.781Z"
   },
   {
    "duration": 276,
    "start_time": "2023-10-25T10:22:16.988Z"
   },
   {
    "duration": 312,
    "start_time": "2023-10-25T10:22:17.266Z"
   },
   {
    "duration": 24,
    "start_time": "2023-10-25T10:22:17.580Z"
   },
   {
    "duration": 14,
    "start_time": "2023-10-25T10:22:17.606Z"
   },
   {
    "duration": 41,
    "start_time": "2023-10-25T10:22:17.622Z"
   },
   {
    "duration": 27,
    "start_time": "2023-10-25T10:22:17.665Z"
   },
   {
    "duration": 9,
    "start_time": "2023-10-25T10:22:17.694Z"
   },
   {
    "duration": 26,
    "start_time": "2023-10-25T10:22:17.705Z"
   },
   {
    "duration": 39,
    "start_time": "2023-10-25T10:22:17.733Z"
   },
   {
    "duration": 294,
    "start_time": "2023-10-25T10:22:17.773Z"
   },
   {
    "duration": 250,
    "start_time": "2023-10-25T10:22:18.069Z"
   },
   {
    "duration": 1090,
    "start_time": "2023-10-25T10:22:18.321Z"
   },
   {
    "duration": 13,
    "start_time": "2023-10-25T10:22:19.413Z"
   },
   {
    "duration": 30,
    "start_time": "2023-10-25T10:22:19.428Z"
   },
   {
    "duration": 6,
    "start_time": "2023-10-25T10:22:19.461Z"
   },
   {
    "duration": 10,
    "start_time": "2023-10-25T10:22:19.470Z"
   },
   {
    "duration": 33,
    "start_time": "2023-10-25T10:22:19.481Z"
   },
   {
    "duration": 182,
    "start_time": "2023-10-25T10:22:19.515Z"
   },
   {
    "duration": 10,
    "start_time": "2023-10-25T10:22:19.699Z"
   },
   {
    "duration": 10,
    "start_time": "2023-10-25T10:22:19.711Z"
   },
   {
    "duration": 11,
    "start_time": "2023-10-25T10:22:19.723Z"
   },
   {
    "duration": 2,
    "start_time": "2023-10-25T10:22:19.738Z"
   },
   {
    "duration": 84,
    "start_time": "2023-10-25T10:22:19.742Z"
   },
   {
    "duration": 4,
    "start_time": "2023-10-25T10:39:01.610Z"
   },
   {
    "duration": 4,
    "start_time": "2023-10-25T10:39:01.971Z"
   },
   {
    "duration": 129,
    "start_time": "2023-10-25T10:39:44.677Z"
   },
   {
    "duration": 101,
    "start_time": "2023-10-25T10:41:41.692Z"
   },
   {
    "duration": 5,
    "start_time": "2023-10-25T10:41:56.181Z"
   },
   {
    "duration": 85,
    "start_time": "2023-10-25T11:20:22.747Z"
   },
   {
    "duration": 12,
    "start_time": "2023-10-25T11:37:59.266Z"
   },
   {
    "duration": 3,
    "start_time": "2023-10-25T11:39:19.527Z"
   },
   {
    "duration": 3,
    "start_time": "2023-10-25T11:39:24.521Z"
   },
   {
    "duration": 86,
    "start_time": "2023-10-25T11:39:24.526Z"
   },
   {
    "duration": 3,
    "start_time": "2023-10-25T11:39:24.613Z"
   },
   {
    "duration": 97,
    "start_time": "2023-10-25T11:39:24.619Z"
   },
   {
    "duration": 369,
    "start_time": "2023-10-25T11:39:24.717Z"
   },
   {
    "duration": 587,
    "start_time": "2023-10-25T11:39:25.087Z"
   },
   {
    "duration": 10,
    "start_time": "2023-10-25T11:39:25.676Z"
   },
   {
    "duration": 62,
    "start_time": "2023-10-25T11:39:25.688Z"
   },
   {
    "duration": 25,
    "start_time": "2023-10-25T11:39:25.753Z"
   },
   {
    "duration": 11,
    "start_time": "2023-10-25T11:39:25.780Z"
   },
   {
    "duration": 11,
    "start_time": "2023-10-25T11:39:25.793Z"
   },
   {
    "duration": 16,
    "start_time": "2023-10-25T11:39:25.806Z"
   },
   {
    "duration": 44,
    "start_time": "2023-10-25T11:39:25.824Z"
   },
   {
    "duration": 13,
    "start_time": "2023-10-25T11:39:25.872Z"
   },
   {
    "duration": 15,
    "start_time": "2023-10-25T11:39:25.887Z"
   },
   {
    "duration": 14,
    "start_time": "2023-10-25T11:39:25.904Z"
   },
   {
    "duration": 195,
    "start_time": "2023-10-25T11:39:25.920Z"
   },
   {
    "duration": 114,
    "start_time": "2023-10-25T11:39:26.117Z"
   },
   {
    "duration": 304,
    "start_time": "2023-10-25T11:39:26.233Z"
   },
   {
    "duration": 275,
    "start_time": "2023-10-25T11:39:26.539Z"
   },
   {
    "duration": 247,
    "start_time": "2023-10-25T11:39:26.816Z"
   },
   {
    "duration": 24,
    "start_time": "2023-10-25T11:39:27.076Z"
   },
   {
    "duration": 14,
    "start_time": "2023-10-25T11:39:27.102Z"
   },
   {
    "duration": 13,
    "start_time": "2023-10-25T11:39:27.119Z"
   },
   {
    "duration": 46,
    "start_time": "2023-10-25T11:39:27.134Z"
   },
   {
    "duration": 9,
    "start_time": "2023-10-25T11:39:27.182Z"
   },
   {
    "duration": 15,
    "start_time": "2023-10-25T11:39:27.192Z"
   },
   {
    "duration": 31,
    "start_time": "2023-10-25T11:39:27.209Z"
   },
   {
    "duration": 267,
    "start_time": "2023-10-25T11:39:27.241Z"
   },
   {
    "duration": 265,
    "start_time": "2023-10-25T11:39:27.510Z"
   },
   {
    "duration": 1095,
    "start_time": "2023-10-25T11:39:27.777Z"
   },
   {
    "duration": 12,
    "start_time": "2023-10-25T11:39:28.873Z"
   },
   {
    "duration": 17,
    "start_time": "2023-10-25T11:39:28.887Z"
   },
   {
    "duration": 28,
    "start_time": "2023-10-25T11:39:28.906Z"
   },
   {
    "duration": 34,
    "start_time": "2023-10-25T11:39:28.936Z"
   },
   {
    "duration": 17,
    "start_time": "2023-10-25T11:39:28.973Z"
   },
   {
    "duration": 19,
    "start_time": "2023-10-25T11:39:28.992Z"
   },
   {
    "duration": 23,
    "start_time": "2023-10-25T11:39:29.012Z"
   },
   {
    "duration": 32,
    "start_time": "2023-10-25T11:39:29.037Z"
   },
   {
    "duration": 23,
    "start_time": "2023-10-25T11:39:29.072Z"
   },
   {
    "duration": 16,
    "start_time": "2023-10-25T11:39:29.097Z"
   },
   {
    "duration": 22,
    "start_time": "2023-10-25T11:39:29.115Z"
   },
   {
    "duration": 27,
    "start_time": "2023-10-25T11:39:29.139Z"
   },
   {
    "duration": 143,
    "start_time": "2023-10-25T11:42:21.439Z"
   },
   {
    "duration": 12,
    "start_time": "2023-10-25T11:42:38.441Z"
   },
   {
    "duration": 104,
    "start_time": "2023-10-25T11:50:20.538Z"
   },
   {
    "duration": 200,
    "start_time": "2023-10-25T12:02:03.233Z"
   },
   {
    "duration": 28,
    "start_time": "2023-10-25T12:03:22.569Z"
   },
   {
    "duration": 98,
    "start_time": "2023-10-25T12:03:45.623Z"
   },
   {
    "duration": 306,
    "start_time": "2023-10-25T12:05:47.468Z"
   },
   {
    "duration": 413,
    "start_time": "2023-10-25T12:06:12.165Z"
   },
   {
    "duration": 92,
    "start_time": "2023-10-25T12:06:46.584Z"
   },
   {
    "duration": 334,
    "start_time": "2023-10-25T12:07:20.834Z"
   },
   {
    "duration": 119,
    "start_time": "2023-10-25T12:08:06.365Z"
   },
   {
    "duration": 95,
    "start_time": "2023-10-25T12:08:14.926Z"
   },
   {
    "duration": 300,
    "start_time": "2023-10-25T12:08:57.690Z"
   },
   {
    "duration": 168,
    "start_time": "2023-10-25T12:13:39.723Z"
   },
   {
    "duration": 95,
    "start_time": "2023-10-25T12:13:57.011Z"
   },
   {
    "duration": 122,
    "start_time": "2023-10-25T12:14:04.317Z"
   },
   {
    "duration": 874,
    "start_time": "2023-10-25T12:15:21.201Z"
   },
   {
    "duration": 24,
    "start_time": "2023-10-25T12:16:52.653Z"
   },
   {
    "duration": 23,
    "start_time": "2023-10-25T12:17:25.380Z"
   },
   {
    "duration": 21,
    "start_time": "2023-10-25T12:17:55.514Z"
   },
   {
    "duration": 1003,
    "start_time": "2023-10-25T12:19:05.931Z"
   },
   {
    "duration": 1130,
    "start_time": "2023-10-25T12:19:49.299Z"
   },
   {
    "duration": 1034,
    "start_time": "2023-10-25T12:23:16.203Z"
   },
   {
    "duration": 1043,
    "start_time": "2023-10-25T12:23:49.374Z"
   },
   {
    "duration": 1136,
    "start_time": "2023-10-25T12:24:04.763Z"
   },
   {
    "duration": 1063,
    "start_time": "2023-10-25T12:24:10.470Z"
   },
   {
    "duration": 1082,
    "start_time": "2023-10-25T12:24:15.845Z"
   },
   {
    "duration": 1112,
    "start_time": "2023-10-25T12:24:44.319Z"
   },
   {
    "duration": 1051,
    "start_time": "2023-10-25T12:24:49.377Z"
   },
   {
    "duration": 102,
    "start_time": "2023-10-25T12:25:29.306Z"
   },
   {
    "duration": 1063,
    "start_time": "2023-10-25T12:25:33.326Z"
   },
   {
    "duration": 121,
    "start_time": "2023-10-25T12:25:52.344Z"
   },
   {
    "duration": 1064,
    "start_time": "2023-10-25T12:25:57.937Z"
   },
   {
    "duration": 124,
    "start_time": "2023-10-25T12:28:00.543Z"
   },
   {
    "duration": 125,
    "start_time": "2023-10-25T12:28:23.073Z"
   },
   {
    "duration": 131,
    "start_time": "2023-10-25T12:28:43.994Z"
   },
   {
    "duration": 164,
    "start_time": "2023-10-25T12:28:56.329Z"
   },
   {
    "duration": 145,
    "start_time": "2023-10-25T12:29:00.477Z"
   },
   {
    "duration": 85,
    "start_time": "2023-10-25T12:29:09.738Z"
   },
   {
    "duration": 1109,
    "start_time": "2023-10-25T12:29:15.521Z"
   },
   {
    "duration": 1062,
    "start_time": "2023-10-25T12:40:39.705Z"
   },
   {
    "duration": 20,
    "start_time": "2023-10-25T12:45:54.224Z"
   },
   {
    "duration": 143,
    "start_time": "2023-10-25T13:06:32.680Z"
   },
   {
    "duration": 126,
    "start_time": "2023-10-25T13:06:45.173Z"
   },
   {
    "duration": 84,
    "start_time": "2023-10-25T13:07:17.974Z"
   },
   {
    "duration": 101,
    "start_time": "2023-10-25T13:07:42.986Z"
   },
   {
    "duration": 96,
    "start_time": "2023-10-25T13:08:05.380Z"
   },
   {
    "duration": 99,
    "start_time": "2023-10-25T13:08:38.812Z"
   },
   {
    "duration": 286,
    "start_time": "2023-10-25T13:11:42.047Z"
   },
   {
    "duration": 223,
    "start_time": "2023-10-25T13:11:49.089Z"
   },
   {
    "duration": 8,
    "start_time": "2023-10-25T13:12:49.373Z"
   },
   {
    "duration": 6,
    "start_time": "2023-10-25T13:15:49.682Z"
   },
   {
    "duration": 7,
    "start_time": "2023-10-25T14:27:58.992Z"
   },
   {
    "duration": 7,
    "start_time": "2023-10-25T14:28:39.173Z"
   },
   {
    "duration": 6,
    "start_time": "2023-10-25T14:28:44.911Z"
   },
   {
    "duration": 76,
    "start_time": "2023-10-25T14:33:27.764Z"
   },
   {
    "duration": 6,
    "start_time": "2023-10-25T14:33:37.278Z"
   },
   {
    "duration": 13,
    "start_time": "2023-10-25T14:36:13.448Z"
   },
   {
    "duration": 17,
    "start_time": "2023-10-25T14:52:41.286Z"
   },
   {
    "duration": 537,
    "start_time": "2023-10-25T14:53:04.876Z"
   },
   {
    "duration": 572,
    "start_time": "2023-10-25T14:54:16.001Z"
   },
   {
    "duration": 516,
    "start_time": "2023-10-25T14:54:23.441Z"
   },
   {
    "duration": 514,
    "start_time": "2023-10-25T14:57:16.708Z"
   },
   {
    "duration": 544,
    "start_time": "2023-10-25T14:57:45.620Z"
   },
   {
    "duration": 539,
    "start_time": "2023-10-25T14:58:08.611Z"
   },
   {
    "duration": 479,
    "start_time": "2023-10-25T14:58:14.205Z"
   },
   {
    "duration": 1084,
    "start_time": "2023-10-25T14:58:38.915Z"
   },
   {
    "duration": 9,
    "start_time": "2023-10-25T15:10:19.956Z"
   },
   {
    "duration": 7,
    "start_time": "2023-10-25T15:10:29.355Z"
   },
   {
    "duration": 10,
    "start_time": "2023-10-25T15:10:51.849Z"
   },
   {
    "duration": 5,
    "start_time": "2023-10-25T15:13:03.516Z"
   },
   {
    "duration": 1414,
    "start_time": "2023-10-25T17:43:21.723Z"
   },
   {
    "duration": 203,
    "start_time": "2023-10-25T17:43:23.141Z"
   },
   {
    "duration": 3,
    "start_time": "2023-10-25T17:43:23.345Z"
   },
   {
    "duration": 107,
    "start_time": "2023-10-25T17:43:23.349Z"
   },
   {
    "duration": 347,
    "start_time": "2023-10-25T17:43:23.458Z"
   },
   {
    "duration": 460,
    "start_time": "2023-10-25T17:43:23.811Z"
   },
   {
    "duration": 8,
    "start_time": "2023-10-25T17:43:24.273Z"
   },
   {
    "duration": 29,
    "start_time": "2023-10-25T17:43:24.283Z"
   },
   {
    "duration": 6,
    "start_time": "2023-10-25T17:43:24.314Z"
   },
   {
    "duration": 37,
    "start_time": "2023-10-25T17:43:24.325Z"
   },
   {
    "duration": 24,
    "start_time": "2023-10-25T17:43:24.364Z"
   },
   {
    "duration": 51,
    "start_time": "2023-10-25T17:43:24.390Z"
   },
   {
    "duration": 81,
    "start_time": "2023-10-25T17:43:24.442Z"
   },
   {
    "duration": 15,
    "start_time": "2023-10-25T17:43:24.526Z"
   },
   {
    "duration": 12,
    "start_time": "2023-10-25T17:43:24.543Z"
   },
   {
    "duration": 19,
    "start_time": "2023-10-25T17:43:24.557Z"
   },
   {
    "duration": 188,
    "start_time": "2023-10-25T17:43:24.577Z"
   },
   {
    "duration": 105,
    "start_time": "2023-10-25T17:43:24.767Z"
   },
   {
    "duration": 219,
    "start_time": "2023-10-25T17:43:24.874Z"
   },
   {
    "duration": 363,
    "start_time": "2023-10-25T17:43:25.095Z"
   },
   {
    "duration": 228,
    "start_time": "2023-10-25T17:43:25.460Z"
   },
   {
    "duration": 39,
    "start_time": "2023-10-25T17:43:25.690Z"
   },
   {
    "duration": 14,
    "start_time": "2023-10-25T17:43:25.733Z"
   },
   {
    "duration": 11,
    "start_time": "2023-10-25T17:43:25.748Z"
   },
   {
    "duration": 36,
    "start_time": "2023-10-25T17:43:25.761Z"
   },
   {
    "duration": 32,
    "start_time": "2023-10-25T17:43:25.799Z"
   },
   {
    "duration": 12,
    "start_time": "2023-10-25T17:43:25.835Z"
   },
   {
    "duration": 25,
    "start_time": "2023-10-25T17:43:25.848Z"
   },
   {
    "duration": 295,
    "start_time": "2023-10-25T17:43:25.874Z"
   },
   {
    "duration": 282,
    "start_time": "2023-10-25T17:43:26.172Z"
   },
   {
    "duration": 949,
    "start_time": "2023-10-25T17:43:26.456Z"
   },
   {
    "duration": 25,
    "start_time": "2023-10-25T17:43:27.409Z"
   },
   {
    "duration": 22,
    "start_time": "2023-10-25T17:43:27.436Z"
   },
   {
    "duration": 13,
    "start_time": "2023-10-25T17:43:27.460Z"
   },
   {
    "duration": 14,
    "start_time": "2023-10-25T17:43:27.475Z"
   },
   {
    "duration": 9,
    "start_time": "2023-10-25T17:43:27.491Z"
   },
   {
    "duration": 33,
    "start_time": "2023-10-25T17:43:27.507Z"
   },
   {
    "duration": 21,
    "start_time": "2023-10-25T17:43:27.542Z"
   },
   {
    "duration": 17,
    "start_time": "2023-10-25T17:43:27.566Z"
   },
   {
    "duration": 16,
    "start_time": "2023-10-25T17:43:27.585Z"
   },
   {
    "duration": 16,
    "start_time": "2023-10-25T17:43:27.604Z"
   },
   {
    "duration": 2,
    "start_time": "2023-10-25T17:43:27.622Z"
   },
   {
    "duration": 7,
    "start_time": "2023-10-25T17:43:27.633Z"
   },
   {
    "duration": 23,
    "start_time": "2023-10-25T17:43:27.642Z"
   },
   {
    "duration": 870,
    "start_time": "2023-10-25T17:43:27.667Z"
   },
   {
    "duration": 17,
    "start_time": "2023-10-25T17:43:28.541Z"
   },
   {
    "duration": 84,
    "start_time": "2023-10-25T17:43:28.559Z"
   },
   {
    "duration": 0,
    "start_time": "2023-10-25T17:43:28.645Z"
   },
   {
    "duration": 0,
    "start_time": "2023-10-25T17:43:28.646Z"
   },
   {
    "duration": 0,
    "start_time": "2023-10-25T17:43:28.647Z"
   },
   {
    "duration": 5,
    "start_time": "2023-10-25T17:43:55.152Z"
   },
   {
    "duration": 120,
    "start_time": "2023-10-25T17:43:55.743Z"
   },
   {
    "duration": 435,
    "start_time": "2023-10-25T17:43:56.239Z"
   },
   {
    "duration": 454,
    "start_time": "2023-10-25T17:44:07.514Z"
   },
   {
    "duration": 13,
    "start_time": "2023-10-25T18:08:32.507Z"
   },
   {
    "duration": 5,
    "start_time": "2023-10-25T18:08:38.190Z"
   },
   {
    "duration": 5,
    "start_time": "2023-10-25T18:08:43.493Z"
   },
   {
    "duration": 5,
    "start_time": "2023-10-25T18:08:50.589Z"
   },
   {
    "duration": 12,
    "start_time": "2023-10-25T18:09:00.002Z"
   },
   {
    "duration": 8,
    "start_time": "2023-10-25T18:09:08.230Z"
   },
   {
    "duration": 7,
    "start_time": "2023-10-25T18:09:23.201Z"
   },
   {
    "duration": 459,
    "start_time": "2023-10-25T18:36:05.435Z"
   },
   {
    "duration": 528,
    "start_time": "2023-10-25T19:30:20.733Z"
   },
   {
    "duration": 7,
    "start_time": "2023-10-25T19:30:41.498Z"
   },
   {
    "duration": 410,
    "start_time": "2023-10-25T19:30:43.602Z"
   },
   {
    "duration": 116,
    "start_time": "2023-10-25T19:32:32.711Z"
   },
   {
    "duration": 12,
    "start_time": "2023-10-25T19:48:31.121Z"
   },
   {
    "duration": 14,
    "start_time": "2023-10-25T20:31:46.059Z"
   },
   {
    "duration": 87,
    "start_time": "2023-10-25T20:32:48.630Z"
   },
   {
    "duration": 13,
    "start_time": "2023-10-25T20:37:34.117Z"
   },
   {
    "duration": 14,
    "start_time": "2023-10-25T20:37:38.309Z"
   },
   {
    "duration": 11,
    "start_time": "2023-10-25T20:38:10.294Z"
   },
   {
    "duration": 16,
    "start_time": "2023-10-25T20:39:41.803Z"
   },
   {
    "duration": 12,
    "start_time": "2023-10-25T20:39:59.423Z"
   },
   {
    "duration": 12,
    "start_time": "2023-10-25T20:40:01.082Z"
   },
   {
    "duration": 5,
    "start_time": "2023-10-25T20:40:51.613Z"
   },
   {
    "duration": 21,
    "start_time": "2023-10-25T20:40:55.608Z"
   },
   {
    "duration": 14,
    "start_time": "2023-10-25T20:49:36.048Z"
   },
   {
    "duration": 9,
    "start_time": "2023-10-25T20:50:03.985Z"
   },
   {
    "duration": 117,
    "start_time": "2023-10-25T20:59:17.697Z"
   },
   {
    "duration": 13,
    "start_time": "2023-10-25T20:59:49.433Z"
   },
   {
    "duration": 16,
    "start_time": "2023-10-25T21:00:25.587Z"
   },
   {
    "duration": 11,
    "start_time": "2023-10-25T21:12:17.636Z"
   },
   {
    "duration": 11,
    "start_time": "2023-10-25T21:14:33.298Z"
   },
   {
    "duration": 15,
    "start_time": "2023-10-25T21:14:45.390Z"
   },
   {
    "duration": 12,
    "start_time": "2023-10-25T22:05:14.711Z"
   },
   {
    "duration": 17,
    "start_time": "2023-10-25T22:05:25.524Z"
   },
   {
    "duration": 9,
    "start_time": "2023-10-25T22:06:14.533Z"
   },
   {
    "duration": 201,
    "start_time": "2023-10-25T22:07:09.645Z"
   },
   {
    "duration": 219,
    "start_time": "2023-10-25T22:08:18.982Z"
   },
   {
    "duration": 10,
    "start_time": "2023-10-25T22:12:17.526Z"
   },
   {
    "duration": 77,
    "start_time": "2023-10-25T22:23:55.351Z"
   },
   {
    "duration": 10,
    "start_time": "2023-10-25T22:24:20.354Z"
   },
   {
    "duration": 10,
    "start_time": "2023-10-25T22:24:23.069Z"
   },
   {
    "duration": 201,
    "start_time": "2023-10-25T22:24:23.764Z"
   },
   {
    "duration": 10,
    "start_time": "2023-10-25T22:27:02.597Z"
   },
   {
    "duration": 9,
    "start_time": "2023-10-25T22:27:44.696Z"
   },
   {
    "duration": 240,
    "start_time": "2023-10-26T11:19:23.699Z"
   },
   {
    "duration": 453,
    "start_time": "2023-10-26T11:47:24.669Z"
   },
   {
    "duration": 48,
    "start_time": "2023-10-26T12:19:13.272Z"
   },
   {
    "duration": 1583,
    "start_time": "2023-10-26T12:19:22.706Z"
   },
   {
    "duration": 292,
    "start_time": "2023-10-26T12:19:24.292Z"
   },
   {
    "duration": 3,
    "start_time": "2023-10-26T12:19:24.586Z"
   },
   {
    "duration": 94,
    "start_time": "2023-10-26T12:19:24.591Z"
   },
   {
    "duration": 344,
    "start_time": "2023-10-26T12:19:24.687Z"
   },
   {
    "duration": 480,
    "start_time": "2023-10-26T12:19:25.033Z"
   },
   {
    "duration": 8,
    "start_time": "2023-10-26T12:19:25.514Z"
   },
   {
    "duration": 27,
    "start_time": "2023-10-26T12:19:25.524Z"
   },
   {
    "duration": 29,
    "start_time": "2023-10-26T12:19:25.553Z"
   },
   {
    "duration": 12,
    "start_time": "2023-10-26T12:19:25.585Z"
   },
   {
    "duration": 15,
    "start_time": "2023-10-26T12:19:25.599Z"
   },
   {
    "duration": 19,
    "start_time": "2023-10-26T12:19:25.615Z"
   },
   {
    "duration": 30,
    "start_time": "2023-10-26T12:19:25.636Z"
   },
   {
    "duration": 14,
    "start_time": "2023-10-26T12:19:25.668Z"
   },
   {
    "duration": 35,
    "start_time": "2023-10-26T12:19:25.685Z"
   },
   {
    "duration": 31,
    "start_time": "2023-10-26T12:19:25.722Z"
   },
   {
    "duration": 172,
    "start_time": "2023-10-26T12:19:25.756Z"
   },
   {
    "duration": 121,
    "start_time": "2023-10-26T12:19:25.930Z"
   },
   {
    "duration": 202,
    "start_time": "2023-10-26T12:19:26.052Z"
   },
   {
    "duration": 260,
    "start_time": "2023-10-26T12:19:26.256Z"
   },
   {
    "duration": 291,
    "start_time": "2023-10-26T12:19:26.517Z"
   },
   {
    "duration": 23,
    "start_time": "2023-10-26T12:19:26.810Z"
   },
   {
    "duration": 22,
    "start_time": "2023-10-26T12:19:26.835Z"
   },
   {
    "duration": 28,
    "start_time": "2023-10-26T12:19:26.859Z"
   },
   {
    "duration": 55,
    "start_time": "2023-10-26T12:19:26.889Z"
   },
   {
    "duration": 12,
    "start_time": "2023-10-26T12:19:26.946Z"
   },
   {
    "duration": 33,
    "start_time": "2023-10-26T12:19:26.960Z"
   },
   {
    "duration": 30,
    "start_time": "2023-10-26T12:19:26.997Z"
   },
   {
    "duration": 250,
    "start_time": "2023-10-26T12:19:27.029Z"
   },
   {
    "duration": 250,
    "start_time": "2023-10-26T12:19:27.282Z"
   },
   {
    "duration": 949,
    "start_time": "2023-10-26T12:19:27.534Z"
   },
   {
    "duration": 16,
    "start_time": "2023-10-26T12:19:28.485Z"
   },
   {
    "duration": 14,
    "start_time": "2023-10-26T12:19:28.503Z"
   },
   {
    "duration": 26,
    "start_time": "2023-10-26T12:19:28.519Z"
   },
   {
    "duration": 9,
    "start_time": "2023-10-26T12:19:28.547Z"
   },
   {
    "duration": 11,
    "start_time": "2023-10-26T12:19:28.558Z"
   },
   {
    "duration": 27,
    "start_time": "2023-10-26T12:19:28.571Z"
   },
   {
    "duration": 12,
    "start_time": "2023-10-26T12:19:28.599Z"
   },
   {
    "duration": 12,
    "start_time": "2023-10-26T12:19:28.612Z"
   },
   {
    "duration": 23,
    "start_time": "2023-10-26T12:19:28.625Z"
   },
   {
    "duration": 10,
    "start_time": "2023-10-26T12:19:28.650Z"
   },
   {
    "duration": 18,
    "start_time": "2023-10-26T12:19:28.662Z"
   },
   {
    "duration": 39,
    "start_time": "2023-10-26T12:19:28.682Z"
   },
   {
    "duration": 30,
    "start_time": "2023-10-26T12:19:28.723Z"
   },
   {
    "duration": 1060,
    "start_time": "2023-10-26T12:19:28.755Z"
   },
   {
    "duration": 12,
    "start_time": "2023-10-26T12:19:29.816Z"
   },
   {
    "duration": 5,
    "start_time": "2023-10-26T12:19:29.845Z"
   },
   {
    "duration": 473,
    "start_time": "2023-10-26T12:19:29.852Z"
   },
   {
    "duration": 22,
    "start_time": "2023-10-26T12:19:30.326Z"
   },
   {
    "duration": 25,
    "start_time": "2023-10-26T12:19:30.349Z"
   },
   {
    "duration": 42,
    "start_time": "2023-10-26T12:19:30.377Z"
   },
   {
    "duration": 255,
    "start_time": "2023-10-26T12:19:30.421Z"
   },
   {
    "duration": 12,
    "start_time": "2023-10-26T12:19:43.149Z"
   },
   {
    "duration": 12,
    "start_time": "2023-10-26T12:23:02.867Z"
   },
   {
    "duration": 1135,
    "start_time": "2023-10-26T12:23:28.212Z"
   },
   {
    "duration": 326,
    "start_time": "2023-10-26T13:02:17.946Z"
   },
   {
    "duration": 343,
    "start_time": "2023-10-26T13:31:07.543Z"
   },
   {
    "duration": 326,
    "start_time": "2023-10-26T13:32:11.277Z"
   },
   {
    "duration": 405,
    "start_time": "2023-10-26T13:32:51.579Z"
   },
   {
    "duration": 329,
    "start_time": "2023-10-26T13:33:25.815Z"
   },
   {
    "duration": 359,
    "start_time": "2023-10-26T13:33:48.850Z"
   },
   {
    "duration": 282,
    "start_time": "2023-10-26T13:34:08.052Z"
   },
   {
    "duration": 334,
    "start_time": "2023-10-26T13:34:32.651Z"
   },
   {
    "duration": 312,
    "start_time": "2023-10-26T13:34:44.279Z"
   },
   {
    "duration": 243,
    "start_time": "2023-10-26T13:35:28.035Z"
   },
   {
    "duration": 284,
    "start_time": "2023-10-26T13:35:35.440Z"
   },
   {
    "duration": 294,
    "start_time": "2023-10-26T13:35:51.011Z"
   },
   {
    "duration": 287,
    "start_time": "2023-10-26T13:36:10.922Z"
   },
   {
    "duration": 315,
    "start_time": "2023-10-26T13:37:27.610Z"
   },
   {
    "duration": 3,
    "start_time": "2023-10-26T13:38:53.185Z"
   },
   {
    "duration": 3,
    "start_time": "2023-10-26T13:39:10.587Z"
   },
   {
    "duration": 6,
    "start_time": "2023-10-26T13:39:11.854Z"
   },
   {
    "duration": 3,
    "start_time": "2023-10-26T13:39:56.787Z"
   },
   {
    "duration": 345,
    "start_time": "2023-10-26T13:41:13.795Z"
   },
   {
    "duration": 250,
    "start_time": "2023-10-26T13:42:52.582Z"
   },
   {
    "duration": 883,
    "start_time": "2023-10-26T13:43:46.114Z"
   },
   {
    "duration": 171,
    "start_time": "2023-10-26T13:49:34.316Z"
   },
   {
    "duration": 8,
    "start_time": "2023-10-26T15:51:15.980Z"
   },
   {
    "duration": 13,
    "start_time": "2023-10-26T16:05:37.759Z"
   },
   {
    "duration": 5,
    "start_time": "2023-10-26T16:05:44.926Z"
   },
   {
    "duration": 10,
    "start_time": "2023-10-26T16:05:49.442Z"
   },
   {
    "duration": 6,
    "start_time": "2023-10-26T16:06:06.131Z"
   },
   {
    "duration": 18,
    "start_time": "2023-10-26T16:06:09.461Z"
   },
   {
    "duration": 5,
    "start_time": "2023-10-26T16:07:46.081Z"
   },
   {
    "duration": 5,
    "start_time": "2023-10-26T16:07:52.791Z"
   },
   {
    "duration": 5,
    "start_time": "2023-10-26T16:07:59.122Z"
   },
   {
    "duration": 4,
    "start_time": "2023-10-26T16:09:26.024Z"
   },
   {
    "duration": 5,
    "start_time": "2023-10-26T16:09:30.337Z"
   },
   {
    "duration": 7,
    "start_time": "2023-10-26T16:09:33.939Z"
   },
   {
    "duration": 9,
    "start_time": "2023-10-26T16:09:36.381Z"
   },
   {
    "duration": 6,
    "start_time": "2023-10-26T16:09:38.910Z"
   },
   {
    "duration": 5,
    "start_time": "2023-10-26T16:09:45.286Z"
   },
   {
    "duration": 7,
    "start_time": "2023-10-26T16:09:53.769Z"
   },
   {
    "duration": 5,
    "start_time": "2023-10-26T16:09:57.617Z"
   },
   {
    "duration": 4,
    "start_time": "2023-10-26T16:10:04.824Z"
   },
   {
    "duration": 46,
    "start_time": "2023-10-27T10:28:04.624Z"
   },
   {
    "duration": 1331,
    "start_time": "2023-10-27T10:28:10.216Z"
   },
   {
    "duration": 191,
    "start_time": "2023-10-27T10:28:11.549Z"
   },
   {
    "duration": 3,
    "start_time": "2023-10-27T10:28:11.741Z"
   },
   {
    "duration": 99,
    "start_time": "2023-10-27T10:28:11.746Z"
   },
   {
    "duration": 292,
    "start_time": "2023-10-27T10:28:11.846Z"
   },
   {
    "duration": 439,
    "start_time": "2023-10-27T10:28:12.139Z"
   },
   {
    "duration": 9,
    "start_time": "2023-10-27T10:28:12.580Z"
   },
   {
    "duration": 32,
    "start_time": "2023-10-27T10:28:12.590Z"
   },
   {
    "duration": 31,
    "start_time": "2023-10-27T10:28:12.624Z"
   },
   {
    "duration": 24,
    "start_time": "2023-10-27T10:28:12.658Z"
   },
   {
    "duration": 25,
    "start_time": "2023-10-27T10:28:12.684Z"
   },
   {
    "duration": 22,
    "start_time": "2023-10-27T10:28:12.711Z"
   },
   {
    "duration": 38,
    "start_time": "2023-10-27T10:28:12.735Z"
   },
   {
    "duration": 9,
    "start_time": "2023-10-27T10:28:12.775Z"
   },
   {
    "duration": 13,
    "start_time": "2023-10-27T10:28:12.785Z"
   },
   {
    "duration": 10,
    "start_time": "2023-10-27T10:28:12.800Z"
   },
   {
    "duration": 168,
    "start_time": "2023-10-27T10:28:12.811Z"
   },
   {
    "duration": 100,
    "start_time": "2023-10-27T10:28:12.981Z"
   },
   {
    "duration": 186,
    "start_time": "2023-10-27T10:28:13.082Z"
   },
   {
    "duration": 433,
    "start_time": "2023-10-27T10:28:13.269Z"
   },
   {
    "duration": 0,
    "start_time": "2023-10-27T10:28:13.704Z"
   },
   {
    "duration": 0,
    "start_time": "2023-10-27T10:28:13.705Z"
   },
   {
    "duration": 0,
    "start_time": "2023-10-27T10:28:13.706Z"
   },
   {
    "duration": 0,
    "start_time": "2023-10-27T10:28:13.708Z"
   },
   {
    "duration": 0,
    "start_time": "2023-10-27T10:28:13.711Z"
   },
   {
    "duration": 0,
    "start_time": "2023-10-27T10:28:13.713Z"
   },
   {
    "duration": 0,
    "start_time": "2023-10-27T10:28:13.715Z"
   },
   {
    "duration": 0,
    "start_time": "2023-10-27T10:28:13.716Z"
   },
   {
    "duration": 0,
    "start_time": "2023-10-27T10:28:13.717Z"
   },
   {
    "duration": 0,
    "start_time": "2023-10-27T10:28:13.719Z"
   },
   {
    "duration": 0,
    "start_time": "2023-10-27T10:28:13.720Z"
   },
   {
    "duration": 0,
    "start_time": "2023-10-27T10:28:13.744Z"
   },
   {
    "duration": 0,
    "start_time": "2023-10-27T10:28:13.745Z"
   },
   {
    "duration": 0,
    "start_time": "2023-10-27T10:28:13.746Z"
   },
   {
    "duration": 0,
    "start_time": "2023-10-27T10:28:13.747Z"
   },
   {
    "duration": 0,
    "start_time": "2023-10-27T10:28:13.749Z"
   },
   {
    "duration": 0,
    "start_time": "2023-10-27T10:28:13.750Z"
   },
   {
    "duration": 0,
    "start_time": "2023-10-27T10:28:13.750Z"
   },
   {
    "duration": 0,
    "start_time": "2023-10-27T10:28:13.751Z"
   },
   {
    "duration": 0,
    "start_time": "2023-10-27T10:28:13.752Z"
   },
   {
    "duration": 0,
    "start_time": "2023-10-27T10:28:13.753Z"
   },
   {
    "duration": 0,
    "start_time": "2023-10-27T10:28:13.755Z"
   },
   {
    "duration": 0,
    "start_time": "2023-10-27T10:28:13.757Z"
   },
   {
    "duration": 0,
    "start_time": "2023-10-27T10:28:13.758Z"
   },
   {
    "duration": 0,
    "start_time": "2023-10-27T10:28:13.759Z"
   },
   {
    "duration": 0,
    "start_time": "2023-10-27T10:28:13.760Z"
   },
   {
    "duration": 0,
    "start_time": "2023-10-27T10:28:13.761Z"
   },
   {
    "duration": 0,
    "start_time": "2023-10-27T10:28:13.763Z"
   },
   {
    "duration": 0,
    "start_time": "2023-10-27T10:28:13.765Z"
   },
   {
    "duration": 0,
    "start_time": "2023-10-27T10:28:13.767Z"
   },
   {
    "duration": 0,
    "start_time": "2023-10-27T10:28:13.768Z"
   },
   {
    "duration": 285,
    "start_time": "2023-10-27T10:28:25.028Z"
   },
   {
    "duration": 217,
    "start_time": "2023-10-27T10:28:42.795Z"
   },
   {
    "duration": 177,
    "start_time": "2023-10-27T10:38:38.936Z"
   },
   {
    "duration": 226,
    "start_time": "2023-10-27T10:40:47.097Z"
   },
   {
    "duration": 10,
    "start_time": "2023-10-27T10:59:16.978Z"
   },
   {
    "duration": 10,
    "start_time": "2023-10-27T10:59:20.340Z"
   },
   {
    "duration": 3,
    "start_time": "2023-10-27T10:59:26.014Z"
   },
   {
    "duration": 89,
    "start_time": "2023-10-27T10:59:26.019Z"
   },
   {
    "duration": 2,
    "start_time": "2023-10-27T10:59:26.110Z"
   },
   {
    "duration": 93,
    "start_time": "2023-10-27T10:59:26.114Z"
   },
   {
    "duration": 307,
    "start_time": "2023-10-27T10:59:26.208Z"
   },
   {
    "duration": 424,
    "start_time": "2023-10-27T10:59:26.516Z"
   },
   {
    "duration": 7,
    "start_time": "2023-10-27T10:59:26.943Z"
   },
   {
    "duration": 9,
    "start_time": "2023-10-27T10:59:26.951Z"
   },
   {
    "duration": 5,
    "start_time": "2023-10-27T10:59:26.962Z"
   },
   {
    "duration": 7,
    "start_time": "2023-10-27T10:59:26.969Z"
   },
   {
    "duration": 9,
    "start_time": "2023-10-27T10:59:26.978Z"
   },
   {
    "duration": 23,
    "start_time": "2023-10-27T10:59:26.988Z"
   },
   {
    "duration": 70,
    "start_time": "2023-10-27T10:59:27.013Z"
   },
   {
    "duration": 73,
    "start_time": "2023-10-27T10:59:27.084Z"
   },
   {
    "duration": 12,
    "start_time": "2023-10-27T10:59:27.159Z"
   },
   {
    "duration": 9,
    "start_time": "2023-10-27T10:59:27.172Z"
   },
   {
    "duration": 144,
    "start_time": "2023-10-27T10:59:27.182Z"
   },
   {
    "duration": 188,
    "start_time": "2023-10-27T10:59:27.328Z"
   },
   {
    "duration": 174,
    "start_time": "2023-10-27T10:59:27.518Z"
   },
   {
    "duration": 231,
    "start_time": "2023-10-27T10:59:27.694Z"
   },
   {
    "duration": 193,
    "start_time": "2023-10-27T10:59:27.928Z"
   },
   {
    "duration": 32,
    "start_time": "2023-10-27T10:59:28.123Z"
   },
   {
    "duration": 13,
    "start_time": "2023-10-27T10:59:28.158Z"
   },
   {
    "duration": 24,
    "start_time": "2023-10-27T10:59:28.175Z"
   },
   {
    "duration": 17,
    "start_time": "2023-10-27T10:59:28.201Z"
   },
   {
    "duration": 26,
    "start_time": "2023-10-27T10:59:28.220Z"
   },
   {
    "duration": 15,
    "start_time": "2023-10-27T10:59:28.248Z"
   },
   {
    "duration": 232,
    "start_time": "2023-10-27T10:59:28.265Z"
   },
   {
    "duration": 216,
    "start_time": "2023-10-27T10:59:28.499Z"
   },
   {
    "duration": 822,
    "start_time": "2023-10-27T10:59:28.717Z"
   },
   {
    "duration": 12,
    "start_time": "2023-10-27T10:59:29.541Z"
   },
   {
    "duration": 10,
    "start_time": "2023-10-27T10:59:29.554Z"
   },
   {
    "duration": 23,
    "start_time": "2023-10-27T10:59:29.566Z"
   },
   {
    "duration": 10,
    "start_time": "2023-10-27T10:59:29.591Z"
   },
   {
    "duration": 8,
    "start_time": "2023-10-27T10:59:29.602Z"
   },
   {
    "duration": 11,
    "start_time": "2023-10-27T10:59:29.611Z"
   },
   {
    "duration": 26,
    "start_time": "2023-10-27T10:59:29.623Z"
   },
   {
    "duration": 9,
    "start_time": "2023-10-27T10:59:29.650Z"
   },
   {
    "duration": 11,
    "start_time": "2023-10-27T10:59:29.661Z"
   },
   {
    "duration": 11,
    "start_time": "2023-10-27T10:59:29.673Z"
   },
   {
    "duration": 6,
    "start_time": "2023-10-27T10:59:29.686Z"
   },
   {
    "duration": 18,
    "start_time": "2023-10-27T10:59:29.693Z"
   },
   {
    "duration": 771,
    "start_time": "2023-10-27T10:59:29.712Z"
   },
   {
    "duration": 11,
    "start_time": "2023-10-27T10:59:30.485Z"
   },
   {
    "duration": 41,
    "start_time": "2023-10-27T10:59:30.498Z"
   },
   {
    "duration": 438,
    "start_time": "2023-10-27T10:59:30.541Z"
   },
   {
    "duration": 7,
    "start_time": "2023-10-27T10:59:30.981Z"
   },
   {
    "duration": 80,
    "start_time": "2023-10-27T10:59:30.990Z"
   },
   {
    "duration": 155,
    "start_time": "2023-10-27T10:59:31.072Z"
   },
   {
    "duration": 428,
    "start_time": "2023-10-27T10:59:31.228Z"
   },
   {
    "duration": 4,
    "start_time": "2023-10-27T10:59:31.657Z"
   },
   {
    "duration": 6,
    "start_time": "2023-10-27T10:59:40.957Z"
   },
   {
    "duration": 113,
    "start_time": "2023-10-27T11:00:39.425Z"
   },
   {
    "duration": 81,
    "start_time": "2023-10-27T11:01:31.451Z"
   },
   {
    "duration": 104,
    "start_time": "2023-10-27T11:01:44.122Z"
   },
   {
    "duration": 110,
    "start_time": "2023-10-27T11:03:41.730Z"
   },
   {
    "duration": 400,
    "start_time": "2023-10-27T11:04:00.599Z"
   },
   {
    "duration": 305,
    "start_time": "2023-10-27T11:04:27.521Z"
   },
   {
    "duration": 168,
    "start_time": "2023-10-27T11:05:20.082Z"
   },
   {
    "duration": 176,
    "start_time": "2023-10-27T11:05:57.036Z"
   },
   {
    "duration": 178,
    "start_time": "2023-10-27T11:06:20.481Z"
   },
   {
    "duration": 278,
    "start_time": "2023-10-27T11:06:33.666Z"
   },
   {
    "duration": 329,
    "start_time": "2023-10-27T11:06:47.992Z"
   },
   {
    "duration": 175,
    "start_time": "2023-10-27T11:06:55.296Z"
   },
   {
    "duration": 164,
    "start_time": "2023-10-27T11:07:28.611Z"
   },
   {
    "duration": 159,
    "start_time": "2023-10-27T11:07:43.120Z"
   },
   {
    "duration": 101,
    "start_time": "2023-10-27T11:08:15.590Z"
   },
   {
    "duration": 13,
    "start_time": "2023-10-27T11:08:49.701Z"
   },
   {
    "duration": 24,
    "start_time": "2023-10-27T11:08:50.057Z"
   },
   {
    "duration": 8,
    "start_time": "2023-10-27T11:08:50.603Z"
   },
   {
    "duration": 11,
    "start_time": "2023-10-27T11:08:51.785Z"
   },
   {
    "duration": 11,
    "start_time": "2023-10-27T11:08:52.428Z"
   },
   {
    "duration": 92,
    "start_time": "2023-10-27T11:11:07.860Z"
   },
   {
    "duration": 97,
    "start_time": "2023-10-27T11:11:19.831Z"
   },
   {
    "duration": 94,
    "start_time": "2023-10-27T11:11:25.326Z"
   },
   {
    "duration": 109,
    "start_time": "2023-10-27T11:11:55.134Z"
   },
   {
    "duration": 91,
    "start_time": "2023-10-27T11:12:02.292Z"
   },
   {
    "duration": 196,
    "start_time": "2023-10-27T11:17:29.351Z"
   },
   {
    "duration": 15,
    "start_time": "2023-10-27T11:21:58.097Z"
   },
   {
    "duration": 11,
    "start_time": "2023-10-27T11:23:22.445Z"
   },
   {
    "duration": 231,
    "start_time": "2023-10-27T11:23:33.404Z"
   },
   {
    "duration": 319,
    "start_time": "2023-10-27T11:24:27.544Z"
   },
   {
    "duration": 230,
    "start_time": "2023-10-27T11:24:45.522Z"
   },
   {
    "duration": 93,
    "start_time": "2023-10-27T11:26:03.895Z"
   },
   {
    "duration": 221,
    "start_time": "2023-10-27T11:28:50.528Z"
   },
   {
    "duration": 223,
    "start_time": "2023-10-27T11:31:38.274Z"
   },
   {
    "duration": 250,
    "start_time": "2023-10-27T11:31:44.356Z"
   },
   {
    "duration": 23,
    "start_time": "2023-10-27T11:35:34.790Z"
   },
   {
    "duration": 12,
    "start_time": "2023-10-27T11:39:32.403Z"
   },
   {
    "duration": 17,
    "start_time": "2023-10-27T11:40:00.348Z"
   },
   {
    "duration": 8,
    "start_time": "2023-10-27T11:40:11.112Z"
   },
   {
    "duration": 7,
    "start_time": "2023-10-27T11:40:38.379Z"
   },
   {
    "duration": 11,
    "start_time": "2023-10-27T11:41:14.416Z"
   },
   {
    "duration": 9,
    "start_time": "2023-10-27T11:41:30.369Z"
   },
   {
    "duration": 9,
    "start_time": "2023-10-27T11:41:56.987Z"
   },
   {
    "duration": 6,
    "start_time": "2023-10-27T11:43:32.410Z"
   },
   {
    "duration": 8,
    "start_time": "2023-10-27T11:43:46.575Z"
   },
   {
    "duration": 11,
    "start_time": "2023-10-27T11:43:52.944Z"
   },
   {
    "duration": 3,
    "start_time": "2023-10-27T11:45:17.534Z"
   },
   {
    "duration": 88,
    "start_time": "2023-10-27T11:45:17.540Z"
   },
   {
    "duration": 4,
    "start_time": "2023-10-27T11:45:17.629Z"
   },
   {
    "duration": 81,
    "start_time": "2023-10-27T11:45:17.635Z"
   },
   {
    "duration": 289,
    "start_time": "2023-10-27T11:45:17.743Z"
   },
   {
    "duration": 426,
    "start_time": "2023-10-27T11:45:18.034Z"
   },
   {
    "duration": 8,
    "start_time": "2023-10-27T11:45:18.462Z"
   },
   {
    "duration": 15,
    "start_time": "2023-10-27T11:45:18.472Z"
   },
   {
    "duration": 16,
    "start_time": "2023-10-27T11:45:18.490Z"
   },
   {
    "duration": 11,
    "start_time": "2023-10-27T11:45:18.507Z"
   },
   {
    "duration": 19,
    "start_time": "2023-10-27T11:45:18.520Z"
   },
   {
    "duration": 37,
    "start_time": "2023-10-27T11:45:18.541Z"
   },
   {
    "duration": 36,
    "start_time": "2023-10-27T11:45:18.579Z"
   },
   {
    "duration": 9,
    "start_time": "2023-10-27T11:45:18.617Z"
   },
   {
    "duration": 12,
    "start_time": "2023-10-27T11:45:18.628Z"
   },
   {
    "duration": 20,
    "start_time": "2023-10-27T11:45:18.641Z"
   },
   {
    "duration": 149,
    "start_time": "2023-10-27T11:45:18.662Z"
   },
   {
    "duration": 98,
    "start_time": "2023-10-27T11:45:18.813Z"
   },
   {
    "duration": 289,
    "start_time": "2023-10-27T11:45:18.913Z"
   },
   {
    "duration": 242,
    "start_time": "2023-10-27T11:45:19.204Z"
   },
   {
    "duration": 201,
    "start_time": "2023-10-27T11:45:19.447Z"
   },
   {
    "duration": 21,
    "start_time": "2023-10-27T11:45:19.650Z"
   },
   {
    "duration": 18,
    "start_time": "2023-10-27T11:45:19.673Z"
   },
   {
    "duration": 40,
    "start_time": "2023-10-27T11:45:19.694Z"
   },
   {
    "duration": 22,
    "start_time": "2023-10-27T11:45:19.736Z"
   },
   {
    "duration": 70,
    "start_time": "2023-10-27T11:45:19.760Z"
   },
   {
    "duration": 58,
    "start_time": "2023-10-27T11:45:19.831Z"
   },
   {
    "duration": 32,
    "start_time": "2023-10-27T11:45:19.891Z"
   },
   {
    "duration": 233,
    "start_time": "2023-10-27T11:45:19.924Z"
   },
   {
    "duration": 230,
    "start_time": "2023-10-27T11:45:20.159Z"
   },
   {
    "duration": 867,
    "start_time": "2023-10-27T11:45:20.390Z"
   },
   {
    "duration": 11,
    "start_time": "2023-10-27T11:45:21.258Z"
   },
   {
    "duration": 41,
    "start_time": "2023-10-27T11:45:21.271Z"
   },
   {
    "duration": 41,
    "start_time": "2023-10-27T11:45:21.314Z"
   },
   {
    "duration": 31,
    "start_time": "2023-10-27T11:45:21.356Z"
   },
   {
    "duration": 29,
    "start_time": "2023-10-27T11:45:21.389Z"
   },
   {
    "duration": 25,
    "start_time": "2023-10-27T11:45:21.420Z"
   },
   {
    "duration": 19,
    "start_time": "2023-10-27T11:45:21.446Z"
   },
   {
    "duration": 34,
    "start_time": "2023-10-27T11:45:21.466Z"
   },
   {
    "duration": 17,
    "start_time": "2023-10-27T11:45:21.501Z"
   },
   {
    "duration": 25,
    "start_time": "2023-10-27T11:45:21.519Z"
   },
   {
    "duration": 23,
    "start_time": "2023-10-27T11:45:21.546Z"
   },
   {
    "duration": 22,
    "start_time": "2023-10-27T11:45:21.570Z"
   },
   {
    "duration": 831,
    "start_time": "2023-10-27T11:45:21.594Z"
   },
   {
    "duration": 18,
    "start_time": "2023-10-27T11:45:22.427Z"
   },
   {
    "duration": 6,
    "start_time": "2023-10-27T11:45:22.447Z"
   },
   {
    "duration": 468,
    "start_time": "2023-10-27T11:45:22.455Z"
   },
   {
    "duration": 8,
    "start_time": "2023-10-27T11:45:22.925Z"
   },
   {
    "duration": 18,
    "start_time": "2023-10-27T11:45:22.934Z"
   },
   {
    "duration": 16,
    "start_time": "2023-10-27T11:45:22.954Z"
   },
   {
    "duration": 257,
    "start_time": "2023-10-27T11:45:22.972Z"
   },
   {
    "duration": 5,
    "start_time": "2023-10-27T11:45:23.231Z"
   },
   {
    "duration": 314,
    "start_time": "2023-10-27T11:45:34.423Z"
   },
   {
    "duration": 228,
    "start_time": "2023-10-27T11:45:36.427Z"
   },
   {
    "duration": 219,
    "start_time": "2023-10-27T11:45:43.194Z"
   },
   {
    "duration": 111,
    "start_time": "2023-10-27T12:13:52.910Z"
   },
   {
    "duration": 194,
    "start_time": "2023-10-27T12:48:25.371Z"
   },
   {
    "duration": 187,
    "start_time": "2023-10-27T12:48:33.054Z"
   },
   {
    "duration": 5,
    "start_time": "2023-10-27T13:23:44.706Z"
   },
   {
    "duration": 5,
    "start_time": "2023-10-27T13:23:53.381Z"
   },
   {
    "duration": 5,
    "start_time": "2023-10-27T13:24:00.989Z"
   },
   {
    "duration": 4,
    "start_time": "2023-10-27T13:24:05.776Z"
   },
   {
    "duration": 5,
    "start_time": "2023-10-27T13:24:09.491Z"
   },
   {
    "duration": 1256,
    "start_time": "2023-10-27T13:47:29.568Z"
   },
   {
    "duration": 69,
    "start_time": "2023-10-27T13:47:30.826Z"
   },
   {
    "duration": 75,
    "start_time": "2023-10-27T13:47:30.896Z"
   },
   {
    "duration": 184,
    "start_time": "2023-10-27T13:47:30.973Z"
   },
   {
    "duration": 336,
    "start_time": "2023-10-27T13:47:31.159Z"
   },
   {
    "duration": 481,
    "start_time": "2023-10-27T13:47:31.497Z"
   },
   {
    "duration": 8,
    "start_time": "2023-10-27T13:47:31.980Z"
   },
   {
    "duration": 31,
    "start_time": "2023-10-27T13:47:31.990Z"
   },
   {
    "duration": 52,
    "start_time": "2023-10-27T13:47:32.023Z"
   },
   {
    "duration": 39,
    "start_time": "2023-10-27T13:47:32.079Z"
   },
   {
    "duration": 22,
    "start_time": "2023-10-27T13:47:32.120Z"
   },
   {
    "duration": 49,
    "start_time": "2023-10-27T13:47:32.144Z"
   },
   {
    "duration": 67,
    "start_time": "2023-10-27T13:47:32.195Z"
   },
   {
    "duration": 11,
    "start_time": "2023-10-27T13:47:32.264Z"
   },
   {
    "duration": 53,
    "start_time": "2023-10-27T13:47:32.277Z"
   },
   {
    "duration": 118,
    "start_time": "2023-10-27T13:47:32.332Z"
   },
   {
    "duration": 169,
    "start_time": "2023-10-27T13:47:32.452Z"
   },
   {
    "duration": 107,
    "start_time": "2023-10-27T13:47:32.622Z"
   },
   {
    "duration": 205,
    "start_time": "2023-10-27T13:47:32.731Z"
   },
   {
    "duration": 279,
    "start_time": "2023-10-27T13:47:32.938Z"
   },
   {
    "duration": 294,
    "start_time": "2023-10-27T13:47:33.219Z"
   },
   {
    "duration": 26,
    "start_time": "2023-10-27T13:47:33.515Z"
   },
   {
    "duration": 16,
    "start_time": "2023-10-27T13:47:33.542Z"
   },
   {
    "duration": 52,
    "start_time": "2023-10-27T13:47:33.560Z"
   },
   {
    "duration": 9,
    "start_time": "2023-10-27T13:47:33.613Z"
   },
   {
    "duration": 17,
    "start_time": "2023-10-27T13:47:33.624Z"
   },
   {
    "duration": 23,
    "start_time": "2023-10-27T13:47:33.643Z"
   },
   {
    "duration": 31,
    "start_time": "2023-10-27T13:47:33.670Z"
   },
   {
    "duration": 242,
    "start_time": "2023-10-27T13:47:33.702Z"
   },
   {
    "duration": 245,
    "start_time": "2023-10-27T13:47:33.946Z"
   },
   {
    "duration": 951,
    "start_time": "2023-10-27T13:47:34.192Z"
   },
   {
    "duration": 12,
    "start_time": "2023-10-27T13:47:35.145Z"
   },
   {
    "duration": 52,
    "start_time": "2023-10-27T13:47:35.159Z"
   },
   {
    "duration": 21,
    "start_time": "2023-10-27T13:47:35.213Z"
   },
   {
    "duration": 45,
    "start_time": "2023-10-27T13:47:35.236Z"
   },
   {
    "duration": 23,
    "start_time": "2023-10-27T13:47:35.283Z"
   },
   {
    "duration": 32,
    "start_time": "2023-10-27T13:47:35.308Z"
   },
   {
    "duration": 15,
    "start_time": "2023-10-27T13:47:35.342Z"
   },
   {
    "duration": 52,
    "start_time": "2023-10-27T13:47:35.359Z"
   },
   {
    "duration": 33,
    "start_time": "2023-10-27T13:47:35.413Z"
   },
   {
    "duration": 17,
    "start_time": "2023-10-27T13:47:35.448Z"
   },
   {
    "duration": 26,
    "start_time": "2023-10-27T13:47:35.467Z"
   },
   {
    "duration": 44,
    "start_time": "2023-10-27T13:47:35.494Z"
   },
   {
    "duration": 847,
    "start_time": "2023-10-27T13:47:35.539Z"
   },
   {
    "duration": 15,
    "start_time": "2023-10-27T13:47:36.387Z"
   },
   {
    "duration": 18,
    "start_time": "2023-10-27T13:47:36.404Z"
   },
   {
    "duration": 420,
    "start_time": "2023-10-27T13:47:36.424Z"
   },
   {
    "duration": 10,
    "start_time": "2023-10-27T13:47:36.846Z"
   },
   {
    "duration": 44,
    "start_time": "2023-10-27T13:47:36.857Z"
   },
   {
    "duration": 28,
    "start_time": "2023-10-27T13:47:36.903Z"
   },
   {
    "duration": 216,
    "start_time": "2023-10-27T13:47:36.933Z"
   },
   {
    "duration": 4,
    "start_time": "2023-10-27T13:47:37.151Z"
   },
   {
    "duration": 34,
    "start_time": "2023-10-27T13:49:47.674Z"
   },
   {
    "duration": 7,
    "start_time": "2023-10-27T13:58:13.566Z"
   },
   {
    "duration": 138,
    "start_time": "2023-10-27T13:58:31.556Z"
   },
   {
    "duration": 8,
    "start_time": "2023-10-27T13:58:48.399Z"
   },
   {
    "duration": 3,
    "start_time": "2023-10-27T13:59:05.799Z"
   },
   {
    "duration": 8,
    "start_time": "2023-10-27T13:59:48.657Z"
   },
   {
    "duration": 1276,
    "start_time": "2023-10-27T14:05:31.382Z"
   },
   {
    "duration": 74,
    "start_time": "2023-10-27T14:05:32.660Z"
   },
   {
    "duration": 55,
    "start_time": "2023-10-27T14:05:32.736Z"
   },
   {
    "duration": 326,
    "start_time": "2023-10-27T14:05:32.793Z"
   },
   {
    "duration": 511,
    "start_time": "2023-10-27T14:05:33.121Z"
   },
   {
    "duration": 461,
    "start_time": "2023-10-27T14:05:33.634Z"
   },
   {
    "duration": 9,
    "start_time": "2023-10-27T14:05:34.100Z"
   },
   {
    "duration": 39,
    "start_time": "2023-10-27T14:05:34.111Z"
   },
   {
    "duration": 9,
    "start_time": "2023-10-27T14:05:34.152Z"
   },
   {
    "duration": 20,
    "start_time": "2023-10-27T14:05:34.164Z"
   },
   {
    "duration": 31,
    "start_time": "2023-10-27T14:05:34.185Z"
   },
   {
    "duration": 43,
    "start_time": "2023-10-27T14:05:34.218Z"
   },
   {
    "duration": 47,
    "start_time": "2023-10-27T14:05:34.262Z"
   },
   {
    "duration": 15,
    "start_time": "2023-10-27T14:05:34.311Z"
   },
   {
    "duration": 17,
    "start_time": "2023-10-27T14:05:34.328Z"
   },
   {
    "duration": 11,
    "start_time": "2023-10-27T14:05:34.347Z"
   },
   {
    "duration": 182,
    "start_time": "2023-10-27T14:05:34.360Z"
   },
   {
    "duration": 145,
    "start_time": "2023-10-27T14:05:34.544Z"
   },
   {
    "duration": 221,
    "start_time": "2023-10-27T14:05:34.691Z"
   },
   {
    "duration": 283,
    "start_time": "2023-10-27T14:05:34.914Z"
   },
   {
    "duration": 306,
    "start_time": "2023-10-27T14:05:35.202Z"
   },
   {
    "duration": 36,
    "start_time": "2023-10-27T14:05:35.511Z"
   },
   {
    "duration": 14,
    "start_time": "2023-10-27T14:05:35.548Z"
   },
   {
    "duration": 53,
    "start_time": "2023-10-27T14:05:35.563Z"
   },
   {
    "duration": 10,
    "start_time": "2023-10-27T14:05:35.618Z"
   },
   {
    "duration": 20,
    "start_time": "2023-10-27T14:05:35.630Z"
   },
   {
    "duration": 21,
    "start_time": "2023-10-27T14:05:35.651Z"
   },
   {
    "duration": 52,
    "start_time": "2023-10-27T14:05:35.676Z"
   },
   {
    "duration": 280,
    "start_time": "2023-10-27T14:05:35.730Z"
   },
   {
    "duration": 261,
    "start_time": "2023-10-27T14:05:36.012Z"
   },
   {
    "duration": 1012,
    "start_time": "2023-10-27T14:05:36.275Z"
   },
   {
    "duration": 24,
    "start_time": "2023-10-27T14:05:37.289Z"
   },
   {
    "duration": 14,
    "start_time": "2023-10-27T14:05:37.315Z"
   },
   {
    "duration": 28,
    "start_time": "2023-10-27T14:05:37.331Z"
   },
   {
    "duration": 19,
    "start_time": "2023-10-27T14:05:37.361Z"
   },
   {
    "duration": 19,
    "start_time": "2023-10-27T14:05:37.382Z"
   },
   {
    "duration": 19,
    "start_time": "2023-10-27T14:05:37.403Z"
   },
   {
    "duration": 24,
    "start_time": "2023-10-27T14:05:37.424Z"
   },
   {
    "duration": 31,
    "start_time": "2023-10-27T14:05:37.450Z"
   },
   {
    "duration": 11,
    "start_time": "2023-10-27T14:05:37.483Z"
   },
   {
    "duration": 10,
    "start_time": "2023-10-27T14:05:37.496Z"
   },
   {
    "duration": 29,
    "start_time": "2023-10-27T14:05:37.508Z"
   },
   {
    "duration": 23,
    "start_time": "2023-10-27T14:05:37.539Z"
   },
   {
    "duration": 922,
    "start_time": "2023-10-27T14:05:37.564Z"
   },
   {
    "duration": 17,
    "start_time": "2023-10-27T14:05:38.489Z"
   },
   {
    "duration": 13,
    "start_time": "2023-10-27T14:05:38.508Z"
   },
   {
    "duration": 499,
    "start_time": "2023-10-27T14:05:38.523Z"
   },
   {
    "duration": 10,
    "start_time": "2023-10-27T14:05:39.023Z"
   },
   {
    "duration": 13,
    "start_time": "2023-10-27T14:05:39.034Z"
   },
   {
    "duration": 13,
    "start_time": "2023-10-27T14:05:39.049Z"
   },
   {
    "duration": 250,
    "start_time": "2023-10-27T14:05:39.064Z"
   },
   {
    "duration": 7,
    "start_time": "2023-10-27T14:05:39.315Z"
   },
   {
    "duration": 83,
    "start_time": "2023-10-29T11:33:13.472Z"
   },
   {
    "duration": 1350,
    "start_time": "2023-10-29T11:33:23.579Z"
   },
   {
    "duration": 203,
    "start_time": "2023-10-29T11:33:24.930Z"
   },
   {
    "duration": 4,
    "start_time": "2023-10-29T11:33:25.135Z"
   },
   {
    "duration": 106,
    "start_time": "2023-10-29T11:33:25.140Z"
   },
   {
    "duration": 321,
    "start_time": "2023-10-29T11:33:25.248Z"
   },
   {
    "duration": 424,
    "start_time": "2023-10-29T11:33:25.570Z"
   },
   {
    "duration": 10,
    "start_time": "2023-10-29T11:33:25.996Z"
   },
   {
    "duration": 17,
    "start_time": "2023-10-29T11:33:26.008Z"
   },
   {
    "duration": 17,
    "start_time": "2023-10-29T11:33:26.026Z"
   },
   {
    "duration": 12,
    "start_time": "2023-10-29T11:33:26.045Z"
   },
   {
    "duration": 12,
    "start_time": "2023-10-29T11:33:26.059Z"
   },
   {
    "duration": 83,
    "start_time": "2023-10-29T11:33:26.072Z"
   },
   {
    "duration": 0,
    "start_time": "2023-10-29T11:33:26.157Z"
   },
   {
    "duration": 0,
    "start_time": "2023-10-29T11:33:26.158Z"
   },
   {
    "duration": 0,
    "start_time": "2023-10-29T11:33:26.159Z"
   },
   {
    "duration": 0,
    "start_time": "2023-10-29T11:33:26.160Z"
   },
   {
    "duration": 0,
    "start_time": "2023-10-29T11:33:26.161Z"
   },
   {
    "duration": 0,
    "start_time": "2023-10-29T11:33:26.162Z"
   },
   {
    "duration": 0,
    "start_time": "2023-10-29T11:33:26.164Z"
   },
   {
    "duration": 0,
    "start_time": "2023-10-29T11:33:26.165Z"
   },
   {
    "duration": 0,
    "start_time": "2023-10-29T11:33:26.166Z"
   },
   {
    "duration": 0,
    "start_time": "2023-10-29T11:33:26.167Z"
   },
   {
    "duration": 0,
    "start_time": "2023-10-29T11:33:26.169Z"
   },
   {
    "duration": 0,
    "start_time": "2023-10-29T11:33:26.170Z"
   },
   {
    "duration": 0,
    "start_time": "2023-10-29T11:33:26.171Z"
   },
   {
    "duration": 0,
    "start_time": "2023-10-29T11:33:26.172Z"
   },
   {
    "duration": 0,
    "start_time": "2023-10-29T11:33:26.173Z"
   },
   {
    "duration": 0,
    "start_time": "2023-10-29T11:33:26.174Z"
   },
   {
    "duration": 0,
    "start_time": "2023-10-29T11:33:26.175Z"
   },
   {
    "duration": 0,
    "start_time": "2023-10-29T11:33:26.176Z"
   },
   {
    "duration": 0,
    "start_time": "2023-10-29T11:33:26.177Z"
   },
   {
    "duration": 0,
    "start_time": "2023-10-29T11:33:26.178Z"
   },
   {
    "duration": 0,
    "start_time": "2023-10-29T11:33:26.179Z"
   },
   {
    "duration": 0,
    "start_time": "2023-10-29T11:33:26.180Z"
   },
   {
    "duration": 0,
    "start_time": "2023-10-29T11:33:26.181Z"
   },
   {
    "duration": 0,
    "start_time": "2023-10-29T11:33:26.182Z"
   },
   {
    "duration": 0,
    "start_time": "2023-10-29T11:33:26.183Z"
   },
   {
    "duration": 0,
    "start_time": "2023-10-29T11:33:26.184Z"
   },
   {
    "duration": 0,
    "start_time": "2023-10-29T11:33:26.185Z"
   },
   {
    "duration": 0,
    "start_time": "2023-10-29T11:33:26.186Z"
   },
   {
    "duration": 0,
    "start_time": "2023-10-29T11:33:26.187Z"
   },
   {
    "duration": 0,
    "start_time": "2023-10-29T11:33:26.189Z"
   },
   {
    "duration": 0,
    "start_time": "2023-10-29T11:33:26.190Z"
   },
   {
    "duration": 0,
    "start_time": "2023-10-29T11:33:26.191Z"
   },
   {
    "duration": 0,
    "start_time": "2023-10-29T11:33:26.192Z"
   },
   {
    "duration": 0,
    "start_time": "2023-10-29T11:33:26.193Z"
   },
   {
    "duration": 0,
    "start_time": "2023-10-29T11:33:26.243Z"
   },
   {
    "duration": 0,
    "start_time": "2023-10-29T11:33:26.244Z"
   },
   {
    "duration": 0,
    "start_time": "2023-10-29T11:33:26.246Z"
   },
   {
    "duration": 0,
    "start_time": "2023-10-29T11:33:26.247Z"
   },
   {
    "duration": 0,
    "start_time": "2023-10-29T11:33:26.248Z"
   },
   {
    "duration": 0,
    "start_time": "2023-10-29T11:33:26.249Z"
   },
   {
    "duration": 0,
    "start_time": "2023-10-29T11:33:26.250Z"
   },
   {
    "duration": 127,
    "start_time": "2023-10-29T11:34:40.177Z"
   },
   {
    "duration": 81,
    "start_time": "2023-10-29T11:34:55.313Z"
   },
   {
    "duration": 153,
    "start_time": "2023-10-29T11:43:59.411Z"
   },
   {
    "duration": 173,
    "start_time": "2023-10-29T11:48:09.580Z"
   },
   {
    "duration": 168,
    "start_time": "2023-10-29T11:48:57.801Z"
   },
   {
    "duration": 169,
    "start_time": "2023-10-29T11:49:18.573Z"
   },
   {
    "duration": 98,
    "start_time": "2023-10-29T11:52:14.393Z"
   },
   {
    "duration": 77,
    "start_time": "2023-10-29T11:53:13.525Z"
   },
   {
    "duration": 237,
    "start_time": "2023-10-29T11:53:19.670Z"
   },
   {
    "duration": 173,
    "start_time": "2023-10-29T11:54:08.854Z"
   },
   {
    "duration": 168,
    "start_time": "2023-10-29T11:54:15.028Z"
   },
   {
    "duration": 136,
    "start_time": "2023-10-29T11:54:23.533Z"
   },
   {
    "duration": 147,
    "start_time": "2023-10-29T11:58:04.181Z"
   },
   {
    "duration": 96,
    "start_time": "2023-10-29T12:04:01.961Z"
   },
   {
    "duration": 245,
    "start_time": "2023-10-29T12:05:14.748Z"
   },
   {
    "duration": 86,
    "start_time": "2023-10-29T12:09:33.899Z"
   },
   {
    "duration": 97,
    "start_time": "2023-10-29T12:09:51.940Z"
   },
   {
    "duration": 93,
    "start_time": "2023-10-29T12:10:02.505Z"
   },
   {
    "duration": 88,
    "start_time": "2023-10-29T12:10:13.476Z"
   },
   {
    "duration": 93,
    "start_time": "2023-10-29T12:10:26.673Z"
   },
   {
    "duration": 92,
    "start_time": "2023-10-29T12:10:31.840Z"
   },
   {
    "duration": 164,
    "start_time": "2023-10-29T12:10:38.607Z"
   },
   {
    "duration": 87,
    "start_time": "2023-10-29T12:10:43.438Z"
   },
   {
    "duration": 118,
    "start_time": "2023-10-29T12:11:56.496Z"
   },
   {
    "duration": 96,
    "start_time": "2023-10-29T12:14:34.219Z"
   },
   {
    "duration": 85,
    "start_time": "2023-10-29T12:14:57.658Z"
   },
   {
    "duration": 185,
    "start_time": "2023-10-29T12:18:35.402Z"
   },
   {
    "duration": 417,
    "start_time": "2023-10-29T12:19:05.956Z"
   },
   {
    "duration": 343,
    "start_time": "2023-10-29T12:25:55.859Z"
   },
   {
    "duration": 11,
    "start_time": "2023-10-29T12:30:07.369Z"
   },
   {
    "duration": 8,
    "start_time": "2023-10-29T12:30:17.946Z"
   },
   {
    "duration": 7,
    "start_time": "2023-10-29T12:32:27.452Z"
   },
   {
    "duration": 11,
    "start_time": "2023-10-29T12:33:29.591Z"
   },
   {
    "duration": 13,
    "start_time": "2023-10-29T12:33:33.644Z"
   },
   {
    "duration": 5,
    "start_time": "2023-10-29T12:43:45.985Z"
   },
   {
    "duration": 7,
    "start_time": "2023-10-29T12:43:48.605Z"
   },
   {
    "duration": 5,
    "start_time": "2023-10-29T12:43:53.314Z"
   },
   {
    "duration": 9,
    "start_time": "2023-10-29T12:43:55.718Z"
   },
   {
    "duration": 10,
    "start_time": "2023-10-29T12:43:57.780Z"
   },
   {
    "duration": 79,
    "start_time": "2023-10-29T12:47:04.173Z"
   },
   {
    "duration": 249,
    "start_time": "2023-10-29T14:12:57.395Z"
   },
   {
    "duration": 3,
    "start_time": "2023-10-29T14:13:04.297Z"
   },
   {
    "duration": 86,
    "start_time": "2023-10-29T14:13:04.302Z"
   },
   {
    "duration": 4,
    "start_time": "2023-10-29T14:13:04.390Z"
   },
   {
    "duration": 151,
    "start_time": "2023-10-29T14:13:04.395Z"
   },
   {
    "duration": 389,
    "start_time": "2023-10-29T14:13:04.549Z"
   },
   {
    "duration": 435,
    "start_time": "2023-10-29T14:13:04.940Z"
   },
   {
    "duration": 11,
    "start_time": "2023-10-29T14:13:05.376Z"
   },
   {
    "duration": 117,
    "start_time": "2023-10-29T14:13:05.388Z"
   },
   {
    "duration": 35,
    "start_time": "2023-10-29T14:13:05.506Z"
   },
   {
    "duration": 38,
    "start_time": "2023-10-29T14:13:05.544Z"
   },
   {
    "duration": 92,
    "start_time": "2023-10-29T14:13:05.585Z"
   },
   {
    "duration": 111,
    "start_time": "2023-10-29T14:13:05.679Z"
   },
   {
    "duration": 66,
    "start_time": "2023-10-29T14:13:05.791Z"
   },
   {
    "duration": 10,
    "start_time": "2023-10-29T14:13:05.859Z"
   },
   {
    "duration": 81,
    "start_time": "2023-10-29T14:13:05.870Z"
   },
   {
    "duration": 23,
    "start_time": "2023-10-29T14:13:05.952Z"
   },
   {
    "duration": 33,
    "start_time": "2023-10-29T14:13:05.977Z"
   },
   {
    "duration": 31,
    "start_time": "2023-10-29T14:13:06.012Z"
   },
   {
    "duration": 165,
    "start_time": "2023-10-29T14:13:06.045Z"
   },
   {
    "duration": 87,
    "start_time": "2023-10-29T14:13:06.212Z"
   },
   {
    "duration": 192,
    "start_time": "2023-10-29T14:13:06.300Z"
   },
   {
    "duration": 251,
    "start_time": "2023-10-29T14:13:06.494Z"
   },
   {
    "duration": 374,
    "start_time": "2023-10-29T14:13:06.747Z"
   },
   {
    "duration": 29,
    "start_time": "2023-10-29T14:13:07.123Z"
   },
   {
    "duration": 11,
    "start_time": "2023-10-29T14:13:07.154Z"
   },
   {
    "duration": 40,
    "start_time": "2023-10-29T14:13:07.167Z"
   },
   {
    "duration": 9,
    "start_time": "2023-10-29T14:13:07.208Z"
   },
   {
    "duration": 24,
    "start_time": "2023-10-29T14:13:07.219Z"
   },
   {
    "duration": 14,
    "start_time": "2023-10-29T14:13:07.247Z"
   },
   {
    "duration": 24,
    "start_time": "2023-10-29T14:13:07.262Z"
   },
   {
    "duration": 245,
    "start_time": "2023-10-29T14:13:07.288Z"
   },
   {
    "duration": 323,
    "start_time": "2023-10-29T14:13:07.543Z"
   },
   {
    "duration": 890,
    "start_time": "2023-10-29T14:13:07.868Z"
   },
   {
    "duration": 11,
    "start_time": "2023-10-29T14:13:08.760Z"
   },
   {
    "duration": 9,
    "start_time": "2023-10-29T14:13:08.772Z"
   },
   {
    "duration": 4,
    "start_time": "2023-10-29T14:13:08.782Z"
   },
   {
    "duration": 11,
    "start_time": "2023-10-29T14:13:08.788Z"
   },
   {
    "duration": 9,
    "start_time": "2023-10-29T14:13:08.800Z"
   },
   {
    "duration": 40,
    "start_time": "2023-10-29T14:13:08.810Z"
   },
   {
    "duration": 12,
    "start_time": "2023-10-29T14:13:08.852Z"
   },
   {
    "duration": 13,
    "start_time": "2023-10-29T14:13:08.866Z"
   },
   {
    "duration": 12,
    "start_time": "2023-10-29T14:13:08.880Z"
   },
   {
    "duration": 26,
    "start_time": "2023-10-29T14:13:08.894Z"
   },
   {
    "duration": 19,
    "start_time": "2023-10-29T14:13:08.921Z"
   },
   {
    "duration": 30,
    "start_time": "2023-10-29T14:13:08.941Z"
   },
   {
    "duration": 784,
    "start_time": "2023-10-29T14:13:08.973Z"
   },
   {
    "duration": 11,
    "start_time": "2023-10-29T14:13:09.759Z"
   },
   {
    "duration": 6,
    "start_time": "2023-10-29T14:13:09.772Z"
   },
   {
    "duration": 406,
    "start_time": "2023-10-29T14:13:09.779Z"
   },
   {
    "duration": 8,
    "start_time": "2023-10-29T14:13:10.187Z"
   },
   {
    "duration": 13,
    "start_time": "2023-10-29T14:13:10.196Z"
   },
   {
    "duration": 34,
    "start_time": "2023-10-29T14:13:10.211Z"
   },
   {
    "duration": 218,
    "start_time": "2023-10-29T14:13:10.247Z"
   },
   {
    "duration": 5,
    "start_time": "2023-10-29T14:13:10.467Z"
   },
   {
    "duration": 392,
    "start_time": "2023-10-29T14:15:46.301Z"
   },
   {
    "duration": 178,
    "start_time": "2023-10-29T14:15:51.454Z"
   },
   {
    "duration": 1680,
    "start_time": "2023-10-29T14:17:37.417Z"
   },
   {
    "duration": 141,
    "start_time": "2023-10-29T14:17:44.530Z"
   },
   {
    "duration": 13,
    "start_time": "2023-10-29T14:22:03.788Z"
   },
   {
    "duration": 8,
    "start_time": "2023-10-29T14:22:10.038Z"
   },
   {
    "duration": 14,
    "start_time": "2023-10-29T14:22:19.375Z"
   },
   {
    "duration": 12,
    "start_time": "2023-10-29T14:22:42.919Z"
   },
   {
    "duration": 12,
    "start_time": "2023-10-29T14:22:52.386Z"
   },
   {
    "duration": 16,
    "start_time": "2023-10-29T14:23:01.698Z"
   },
   {
    "duration": 7,
    "start_time": "2023-10-29T14:29:36.799Z"
   },
   {
    "duration": 16,
    "start_time": "2023-10-29T14:29:56.157Z"
   },
   {
    "duration": 9,
    "start_time": "2023-10-29T14:30:09.396Z"
   },
   {
    "duration": 7,
    "start_time": "2023-10-29T14:36:52.736Z"
   },
   {
    "duration": 17,
    "start_time": "2023-10-29T14:41:50.900Z"
   },
   {
    "duration": 10,
    "start_time": "2023-10-29T14:42:28.462Z"
   },
   {
    "duration": 17,
    "start_time": "2023-10-29T14:42:32.663Z"
   },
   {
    "duration": 9,
    "start_time": "2023-10-29T14:42:39.399Z"
   },
   {
    "duration": 8,
    "start_time": "2023-10-29T14:42:40.093Z"
   },
   {
    "duration": 9,
    "start_time": "2023-10-29T14:42:50.424Z"
   },
   {
    "duration": 5,
    "start_time": "2023-10-29T14:43:32.124Z"
   },
   {
    "duration": 9,
    "start_time": "2023-10-29T14:43:34.971Z"
   },
   {
    "duration": 18,
    "start_time": "2023-10-29T14:43:36.041Z"
   },
   {
    "duration": 5,
    "start_time": "2023-10-29T14:43:37.465Z"
   },
   {
    "duration": 9,
    "start_time": "2023-10-29T14:43:38.193Z"
   },
   {
    "duration": 8,
    "start_time": "2023-10-29T14:43:38.666Z"
   },
   {
    "duration": 4,
    "start_time": "2023-10-29T14:45:37.999Z"
   },
   {
    "duration": 7,
    "start_time": "2023-10-29T14:45:42.413Z"
   },
   {
    "duration": 8,
    "start_time": "2023-10-29T14:46:43.016Z"
   },
   {
    "duration": 8,
    "start_time": "2023-10-29T14:46:45.829Z"
   },
   {
    "duration": 2,
    "start_time": "2023-10-29T14:46:48.515Z"
   },
   {
    "duration": 8,
    "start_time": "2023-10-29T14:46:49.173Z"
   },
   {
    "duration": 13,
    "start_time": "2023-10-29T14:46:49.659Z"
   },
   {
    "duration": 3,
    "start_time": "2023-10-29T14:47:58.888Z"
   },
   {
    "duration": 80,
    "start_time": "2023-10-29T14:47:58.893Z"
   },
   {
    "duration": 3,
    "start_time": "2023-10-29T14:47:58.975Z"
   },
   {
    "duration": 112,
    "start_time": "2023-10-29T14:47:58.980Z"
   },
   {
    "duration": 297,
    "start_time": "2023-10-29T14:47:59.095Z"
   },
   {
    "duration": 437,
    "start_time": "2023-10-29T14:47:59.394Z"
   },
   {
    "duration": 24,
    "start_time": "2023-10-29T14:47:59.833Z"
   },
   {
    "duration": 20,
    "start_time": "2023-10-29T14:47:59.859Z"
   },
   {
    "duration": 21,
    "start_time": "2023-10-29T14:47:59.881Z"
   },
   {
    "duration": 13,
    "start_time": "2023-10-29T14:47:59.904Z"
   },
   {
    "duration": 16,
    "start_time": "2023-10-29T14:47:59.919Z"
   },
   {
    "duration": 23,
    "start_time": "2023-10-29T14:47:59.937Z"
   },
   {
    "duration": 34,
    "start_time": "2023-10-29T14:47:59.962Z"
   },
   {
    "duration": 35,
    "start_time": "2023-10-29T14:47:59.997Z"
   },
   {
    "duration": 60,
    "start_time": "2023-10-29T14:48:00.034Z"
   },
   {
    "duration": 79,
    "start_time": "2023-10-29T14:48:00.096Z"
   },
   {
    "duration": 42,
    "start_time": "2023-10-29T14:48:00.177Z"
   },
   {
    "duration": 40,
    "start_time": "2023-10-29T14:48:00.221Z"
   },
   {
    "duration": 180,
    "start_time": "2023-10-29T14:48:00.262Z"
   },
   {
    "duration": 110,
    "start_time": "2023-10-29T14:48:00.443Z"
   },
   {
    "duration": 214,
    "start_time": "2023-10-29T14:48:00.555Z"
   },
   {
    "duration": 257,
    "start_time": "2023-10-29T14:48:00.771Z"
   },
   {
    "duration": 449,
    "start_time": "2023-10-29T14:48:01.029Z"
   },
   {
    "duration": 22,
    "start_time": "2023-10-29T14:48:01.479Z"
   },
   {
    "duration": 157,
    "start_time": "2023-10-29T14:48:01.503Z"
   },
   {
    "duration": 68,
    "start_time": "2023-10-29T14:48:01.662Z"
   },
   {
    "duration": 108,
    "start_time": "2023-10-29T14:48:01.732Z"
   },
   {
    "duration": 192,
    "start_time": "2023-10-29T14:48:01.842Z"
   },
   {
    "duration": 104,
    "start_time": "2023-10-29T14:48:02.039Z"
   },
   {
    "duration": 62,
    "start_time": "2023-10-29T14:48:02.155Z"
   },
   {
    "duration": 339,
    "start_time": "2023-10-29T14:48:02.219Z"
   },
   {
    "duration": 235,
    "start_time": "2023-10-29T14:48:02.560Z"
   },
   {
    "duration": 973,
    "start_time": "2023-10-29T14:48:02.797Z"
   },
   {
    "duration": 16,
    "start_time": "2023-10-29T14:48:03.772Z"
   },
   {
    "duration": 40,
    "start_time": "2023-10-29T14:48:03.790Z"
   },
   {
    "duration": 37,
    "start_time": "2023-10-29T14:48:03.832Z"
   },
   {
    "duration": 27,
    "start_time": "2023-10-29T14:48:03.870Z"
   },
   {
    "duration": 12,
    "start_time": "2023-10-29T14:48:03.899Z"
   },
   {
    "duration": 10,
    "start_time": "2023-10-29T14:48:03.912Z"
   },
   {
    "duration": 10,
    "start_time": "2023-10-29T14:48:03.923Z"
   },
   {
    "duration": 39,
    "start_time": "2023-10-29T14:48:03.934Z"
   },
   {
    "duration": 14,
    "start_time": "2023-10-29T14:48:03.975Z"
   },
   {
    "duration": 5,
    "start_time": "2023-10-29T14:48:03.991Z"
   },
   {
    "duration": 7,
    "start_time": "2023-10-29T14:48:03.998Z"
   },
   {
    "duration": 38,
    "start_time": "2023-10-29T14:48:04.006Z"
   },
   {
    "duration": 911,
    "start_time": "2023-10-29T14:48:04.046Z"
   },
   {
    "duration": 11,
    "start_time": "2023-10-29T14:48:04.958Z"
   },
   {
    "duration": 19,
    "start_time": "2023-10-29T14:48:04.971Z"
   },
   {
    "duration": 446,
    "start_time": "2023-10-29T14:48:04.992Z"
   },
   {
    "duration": 17,
    "start_time": "2023-10-29T14:48:05.440Z"
   },
   {
    "duration": 130,
    "start_time": "2023-10-29T14:48:05.459Z"
   },
   {
    "duration": 228,
    "start_time": "2023-10-29T14:48:05.591Z"
   },
   {
    "duration": 247,
    "start_time": "2023-10-29T14:48:05.821Z"
   },
   {
    "duration": 5,
    "start_time": "2023-10-29T14:48:06.070Z"
   },
   {
    "duration": 5,
    "start_time": "2023-10-29T14:53:06.747Z"
   },
   {
    "duration": 9,
    "start_time": "2023-10-29T14:53:11.846Z"
   },
   {
    "duration": 9,
    "start_time": "2023-10-29T14:53:50.374Z"
   },
   {
    "duration": 8,
    "start_time": "2023-10-29T14:53:56.343Z"
   },
   {
    "duration": 8,
    "start_time": "2023-10-29T14:54:30.756Z"
   },
   {
    "duration": 7,
    "start_time": "2023-10-29T15:00:23.513Z"
   },
   {
    "duration": 95,
    "start_time": "2023-10-29T15:32:14.174Z"
   },
   {
    "duration": 1302,
    "start_time": "2023-10-29T19:34:53.644Z"
   },
   {
    "duration": 199,
    "start_time": "2023-10-29T19:34:54.948Z"
   },
   {
    "duration": 3,
    "start_time": "2023-10-29T19:34:55.149Z"
   },
   {
    "duration": 109,
    "start_time": "2023-10-29T19:34:55.155Z"
   },
   {
    "duration": 345,
    "start_time": "2023-10-29T19:34:55.266Z"
   },
   {
    "duration": 507,
    "start_time": "2023-10-29T19:34:55.613Z"
   },
   {
    "duration": 8,
    "start_time": "2023-10-29T19:34:56.124Z"
   },
   {
    "duration": 65,
    "start_time": "2023-10-29T19:34:56.134Z"
   },
   {
    "duration": 50,
    "start_time": "2023-10-29T19:34:56.201Z"
   },
   {
    "duration": 21,
    "start_time": "2023-10-29T19:34:56.254Z"
   },
   {
    "duration": 18,
    "start_time": "2023-10-29T19:34:56.276Z"
   },
   {
    "duration": 13,
    "start_time": "2023-10-29T19:34:56.295Z"
   },
   {
    "duration": 31,
    "start_time": "2023-10-29T19:34:56.309Z"
   },
   {
    "duration": 14,
    "start_time": "2023-10-29T19:34:56.342Z"
   },
   {
    "duration": 17,
    "start_time": "2023-10-29T19:34:56.357Z"
   },
   {
    "duration": 9,
    "start_time": "2023-10-29T19:34:56.375Z"
   },
   {
    "duration": 37,
    "start_time": "2023-10-29T19:34:56.385Z"
   },
   {
    "duration": 18,
    "start_time": "2023-10-29T19:34:56.424Z"
   },
   {
    "duration": 154,
    "start_time": "2023-10-29T19:34:56.444Z"
   },
   {
    "duration": 99,
    "start_time": "2023-10-29T19:34:56.599Z"
   },
   {
    "duration": 465,
    "start_time": "2023-10-29T19:34:56.700Z"
   },
   {
    "duration": 253,
    "start_time": "2023-10-29T19:34:57.167Z"
   },
   {
    "duration": 414,
    "start_time": "2023-10-29T19:34:57.423Z"
   },
   {
    "duration": 23,
    "start_time": "2023-10-29T19:34:57.838Z"
   },
   {
    "duration": 27,
    "start_time": "2023-10-29T19:34:57.862Z"
   },
   {
    "duration": 92,
    "start_time": "2023-10-29T19:34:57.890Z"
   },
   {
    "duration": 46,
    "start_time": "2023-10-29T19:34:57.984Z"
   },
   {
    "duration": 53,
    "start_time": "2023-10-29T19:34:58.034Z"
   },
   {
    "duration": 17,
    "start_time": "2023-10-29T19:34:58.089Z"
   },
   {
    "duration": 134,
    "start_time": "2023-10-29T19:34:58.107Z"
   },
   {
    "duration": 361,
    "start_time": "2023-10-29T19:34:58.243Z"
   },
   {
    "duration": 230,
    "start_time": "2023-10-29T19:34:58.606Z"
   },
   {
    "duration": 895,
    "start_time": "2023-10-29T19:34:58.837Z"
   },
   {
    "duration": 12,
    "start_time": "2023-10-29T19:34:59.734Z"
   },
   {
    "duration": 110,
    "start_time": "2023-10-29T19:34:59.747Z"
   },
   {
    "duration": 219,
    "start_time": "2023-10-29T19:34:59.858Z"
   },
   {
    "duration": 118,
    "start_time": "2023-10-29T19:35:00.078Z"
   },
   {
    "duration": 210,
    "start_time": "2023-10-29T19:35:00.198Z"
   },
   {
    "duration": 238,
    "start_time": "2023-10-29T19:35:00.410Z"
   },
   {
    "duration": 57,
    "start_time": "2023-10-29T19:35:00.650Z"
   },
   {
    "duration": 152,
    "start_time": "2023-10-29T19:35:00.709Z"
   },
   {
    "duration": 65,
    "start_time": "2023-10-29T19:35:00.863Z"
   },
   {
    "duration": 60,
    "start_time": "2023-10-29T19:35:00.930Z"
   },
   {
    "duration": 127,
    "start_time": "2023-10-29T19:35:00.992Z"
   },
   {
    "duration": 102,
    "start_time": "2023-10-29T19:35:01.121Z"
   },
   {
    "duration": 920,
    "start_time": "2023-10-29T19:35:01.225Z"
   },
   {
    "duration": 11,
    "start_time": "2023-10-29T19:35:02.147Z"
   },
   {
    "duration": 66,
    "start_time": "2023-10-29T19:35:02.160Z"
   },
   {
    "duration": 442,
    "start_time": "2023-10-29T19:35:02.228Z"
   },
   {
    "duration": 8,
    "start_time": "2023-10-29T19:35:02.672Z"
   },
   {
    "duration": 35,
    "start_time": "2023-10-29T19:35:02.681Z"
   },
   {
    "duration": 139,
    "start_time": "2023-10-29T19:35:02.717Z"
   },
   {
    "duration": 315,
    "start_time": "2023-10-29T19:35:02.858Z"
   },
   {
    "duration": 4,
    "start_time": "2023-10-29T19:35:03.175Z"
   },
   {
    "duration": 148,
    "start_time": "2023-10-29T19:35:43.024Z"
   },
   {
    "duration": 230,
    "start_time": "2023-10-29T19:35:58.199Z"
   },
   {
    "duration": 243,
    "start_time": "2023-10-29T19:36:26.837Z"
   },
   {
    "duration": 172,
    "start_time": "2023-10-29T19:36:50.214Z"
   },
   {
    "duration": 149,
    "start_time": "2023-10-29T19:36:56.181Z"
   },
   {
    "duration": 149,
    "start_time": "2023-10-29T19:42:22.705Z"
   },
   {
    "duration": 156,
    "start_time": "2023-10-29T19:42:53.271Z"
   },
   {
    "duration": 144,
    "start_time": "2023-10-29T19:43:09.209Z"
   },
   {
    "duration": 143,
    "start_time": "2023-10-29T19:43:16.306Z"
   },
   {
    "duration": 146,
    "start_time": "2023-10-29T19:45:24.940Z"
   },
   {
    "duration": 166,
    "start_time": "2023-10-29T19:45:40.327Z"
   },
   {
    "duration": 164,
    "start_time": "2023-10-29T19:46:03.344Z"
   },
   {
    "duration": 69,
    "start_time": "2023-10-29T19:52:24.961Z"
   },
   {
    "duration": 13,
    "start_time": "2023-10-29T19:55:20.162Z"
   },
   {
    "duration": 14,
    "start_time": "2023-10-29T19:55:39.926Z"
   },
   {
    "duration": 13,
    "start_time": "2023-10-29T19:55:42.455Z"
   },
   {
    "duration": 3,
    "start_time": "2023-10-29T19:56:09.805Z"
   },
   {
    "duration": 80,
    "start_time": "2023-10-29T19:56:09.809Z"
   },
   {
    "duration": 3,
    "start_time": "2023-10-29T19:56:09.890Z"
   },
   {
    "duration": 87,
    "start_time": "2023-10-29T19:56:09.894Z"
   },
   {
    "duration": 412,
    "start_time": "2023-10-29T19:56:09.982Z"
   },
   {
    "duration": 430,
    "start_time": "2023-10-29T19:56:10.397Z"
   },
   {
    "duration": 8,
    "start_time": "2023-10-29T19:56:10.828Z"
   },
   {
    "duration": 49,
    "start_time": "2023-10-29T19:56:10.837Z"
   },
   {
    "duration": 12,
    "start_time": "2023-10-29T19:56:10.889Z"
   },
   {
    "duration": 25,
    "start_time": "2023-10-29T19:56:10.902Z"
   },
   {
    "duration": 12,
    "start_time": "2023-10-29T19:56:10.928Z"
   },
   {
    "duration": 23,
    "start_time": "2023-10-29T19:56:10.942Z"
   },
   {
    "duration": 93,
    "start_time": "2023-10-29T19:56:10.967Z"
   },
   {
    "duration": 64,
    "start_time": "2023-10-29T19:56:11.062Z"
   },
   {
    "duration": 32,
    "start_time": "2023-10-29T19:56:11.127Z"
   },
   {
    "duration": 15,
    "start_time": "2023-10-29T19:56:11.161Z"
   },
   {
    "duration": 26,
    "start_time": "2023-10-29T19:56:11.178Z"
   },
   {
    "duration": 59,
    "start_time": "2023-10-29T19:56:11.206Z"
   },
   {
    "duration": 170,
    "start_time": "2023-10-29T19:56:11.267Z"
   },
   {
    "duration": 97,
    "start_time": "2023-10-29T19:56:11.439Z"
   },
   {
    "duration": 261,
    "start_time": "2023-10-29T19:56:11.537Z"
   },
   {
    "duration": 245,
    "start_time": "2023-10-29T19:56:11.800Z"
   },
   {
    "duration": 336,
    "start_time": "2023-10-29T19:56:12.047Z"
   },
   {
    "duration": 23,
    "start_time": "2023-10-29T19:56:12.387Z"
   },
   {
    "duration": 68,
    "start_time": "2023-10-29T19:57:52.926Z"
   },
   {
    "duration": 11,
    "start_time": "2023-10-29T20:00:05.998Z"
   },
   {
    "duration": 140,
    "start_time": "2023-10-29T20:00:11.937Z"
   },
   {
    "duration": 85,
    "start_time": "2023-10-29T20:04:45.313Z"
   },
   {
    "duration": 230,
    "start_time": "2023-10-29T20:04:50.449Z"
   },
   {
    "duration": 0,
    "start_time": "2023-10-29T20:05:43.170Z"
   },
   {
    "duration": 162,
    "start_time": "2023-10-29T20:05:47.799Z"
   },
   {
    "duration": 206,
    "start_time": "2023-10-29T20:06:09.411Z"
   },
   {
    "duration": 239,
    "start_time": "2023-10-29T20:06:15.899Z"
   },
   {
    "duration": 166,
    "start_time": "2023-10-29T20:06:25.294Z"
   },
   {
    "duration": 176,
    "start_time": "2023-10-29T20:06:53.365Z"
   },
   {
    "duration": 175,
    "start_time": "2023-10-29T20:07:28.753Z"
   },
   {
    "duration": 156,
    "start_time": "2023-10-29T20:07:45.991Z"
   },
   {
    "duration": 163,
    "start_time": "2023-10-29T20:07:54.245Z"
   },
   {
    "duration": 150,
    "start_time": "2023-10-29T20:07:58.050Z"
   },
   {
    "duration": 195,
    "start_time": "2023-10-29T20:08:55.004Z"
   },
   {
    "duration": 202,
    "start_time": "2023-10-29T20:09:05.880Z"
   },
   {
    "duration": 183,
    "start_time": "2023-10-29T20:09:15.999Z"
   },
   {
    "duration": 12,
    "start_time": "2023-10-29T20:14:38.290Z"
   },
   {
    "duration": 8,
    "start_time": "2023-10-29T20:17:11.404Z"
   },
   {
    "duration": 3,
    "start_time": "2023-10-29T20:17:48.183Z"
   },
   {
    "duration": 3,
    "start_time": "2023-10-29T20:17:52.859Z"
   },
   {
    "duration": 6,
    "start_time": "2023-10-29T20:17:52.864Z"
   },
   {
    "duration": 93,
    "start_time": "2023-10-29T20:17:52.871Z"
   },
   {
    "duration": 3,
    "start_time": "2023-10-29T20:17:52.966Z"
   },
   {
    "duration": 105,
    "start_time": "2023-10-29T20:17:52.971Z"
   },
   {
    "duration": 319,
    "start_time": "2023-10-29T20:17:53.079Z"
   },
   {
    "duration": 426,
    "start_time": "2023-10-29T20:17:53.400Z"
   },
   {
    "duration": 7,
    "start_time": "2023-10-29T20:17:53.828Z"
   },
   {
    "duration": 14,
    "start_time": "2023-10-29T20:17:53.837Z"
   },
   {
    "duration": 5,
    "start_time": "2023-10-29T20:17:53.853Z"
   },
   {
    "duration": 12,
    "start_time": "2023-10-29T20:17:53.860Z"
   },
   {
    "duration": 22,
    "start_time": "2023-10-29T20:17:53.873Z"
   },
   {
    "duration": 35,
    "start_time": "2023-10-29T20:17:53.897Z"
   },
   {
    "duration": 50,
    "start_time": "2023-10-29T20:17:53.934Z"
   },
   {
    "duration": 38,
    "start_time": "2023-10-29T20:17:53.985Z"
   },
   {
    "duration": 14,
    "start_time": "2023-10-29T20:17:54.025Z"
   },
   {
    "duration": 22,
    "start_time": "2023-10-29T20:17:54.040Z"
   },
   {
    "duration": 25,
    "start_time": "2023-10-29T20:17:54.064Z"
   },
   {
    "duration": 16,
    "start_time": "2023-10-29T20:17:54.091Z"
   },
   {
    "duration": 167,
    "start_time": "2023-10-29T20:17:54.109Z"
   },
   {
    "duration": 108,
    "start_time": "2023-10-29T20:17:54.278Z"
   },
   {
    "duration": 199,
    "start_time": "2023-10-29T20:17:54.388Z"
   },
   {
    "duration": 238,
    "start_time": "2023-10-29T20:17:54.590Z"
   },
   {
    "duration": 333,
    "start_time": "2023-10-29T20:17:54.829Z"
   },
   {
    "duration": 25,
    "start_time": "2023-10-29T20:17:55.164Z"
   },
   {
    "duration": 34,
    "start_time": "2023-10-29T20:17:55.191Z"
   },
   {
    "duration": 10,
    "start_time": "2023-10-29T20:17:55.227Z"
   },
   {
    "duration": 34,
    "start_time": "2023-10-29T20:17:55.238Z"
   },
   {
    "duration": 12,
    "start_time": "2023-10-29T20:17:55.276Z"
   },
   {
    "duration": 20,
    "start_time": "2023-10-29T20:17:55.290Z"
   },
   {
    "duration": 228,
    "start_time": "2023-10-29T20:17:55.312Z"
   },
   {
    "duration": 233,
    "start_time": "2023-10-29T20:17:55.542Z"
   },
   {
    "duration": 919,
    "start_time": "2023-10-29T20:17:55.777Z"
   },
   {
    "duration": 11,
    "start_time": "2023-10-29T20:17:56.698Z"
   },
   {
    "duration": 20,
    "start_time": "2023-10-29T20:17:56.710Z"
   },
   {
    "duration": 20,
    "start_time": "2023-10-29T20:17:56.732Z"
   },
   {
    "duration": 18,
    "start_time": "2023-10-29T20:17:56.753Z"
   },
   {
    "duration": 15,
    "start_time": "2023-10-29T20:17:56.772Z"
   },
   {
    "duration": 18,
    "start_time": "2023-10-29T20:17:56.789Z"
   },
   {
    "duration": 23,
    "start_time": "2023-10-29T20:17:56.809Z"
   },
   {
    "duration": 24,
    "start_time": "2023-10-29T20:17:56.833Z"
   },
   {
    "duration": 15,
    "start_time": "2023-10-29T20:17:56.859Z"
   },
   {
    "duration": 33,
    "start_time": "2023-10-29T20:17:56.876Z"
   },
   {
    "duration": 15,
    "start_time": "2023-10-29T20:17:56.910Z"
   },
   {
    "duration": 43,
    "start_time": "2023-10-29T20:17:56.926Z"
   },
   {
    "duration": 819,
    "start_time": "2023-10-29T20:17:56.971Z"
   },
   {
    "duration": 10,
    "start_time": "2023-10-29T20:17:57.792Z"
   },
   {
    "duration": 11,
    "start_time": "2023-10-29T20:17:57.804Z"
   },
   {
    "duration": 387,
    "start_time": "2023-10-29T20:17:57.824Z"
   },
   {
    "duration": 16,
    "start_time": "2023-10-29T20:17:58.212Z"
   },
   {
    "duration": 9,
    "start_time": "2023-10-29T20:17:58.229Z"
   },
   {
    "duration": 14,
    "start_time": "2023-10-29T20:17:58.240Z"
   },
   {
    "duration": 205,
    "start_time": "2023-10-29T20:17:58.256Z"
   },
   {
    "duration": 4,
    "start_time": "2023-10-29T20:17:58.463Z"
   },
   {
    "duration": 3,
    "start_time": "2023-10-29T20:18:21.490Z"
   },
   {
    "duration": 4,
    "start_time": "2023-10-29T20:18:24.879Z"
   },
   {
    "duration": 15,
    "start_time": "2023-10-29T20:18:24.885Z"
   },
   {
    "duration": 72,
    "start_time": "2023-10-29T20:18:24.902Z"
   },
   {
    "duration": 3,
    "start_time": "2023-10-29T20:18:24.976Z"
   },
   {
    "duration": 81,
    "start_time": "2023-10-29T20:18:24.980Z"
   },
   {
    "duration": 315,
    "start_time": "2023-10-29T20:18:25.063Z"
   },
   {
    "duration": 472,
    "start_time": "2023-10-29T20:18:25.379Z"
   },
   {
    "duration": 8,
    "start_time": "2023-10-29T20:18:25.853Z"
   },
   {
    "duration": 39,
    "start_time": "2023-10-29T20:18:25.864Z"
   },
   {
    "duration": 14,
    "start_time": "2023-10-29T20:18:25.905Z"
   },
   {
    "duration": 20,
    "start_time": "2023-10-29T20:18:25.921Z"
   },
   {
    "duration": 27,
    "start_time": "2023-10-29T20:18:25.943Z"
   },
   {
    "duration": 32,
    "start_time": "2023-10-29T20:18:25.972Z"
   },
   {
    "duration": 30,
    "start_time": "2023-10-29T20:18:26.006Z"
   },
   {
    "duration": 9,
    "start_time": "2023-10-29T20:18:26.038Z"
   },
   {
    "duration": 6,
    "start_time": "2023-10-29T20:18:26.048Z"
   },
   {
    "duration": 5,
    "start_time": "2023-10-29T20:18:26.055Z"
   },
   {
    "duration": 13,
    "start_time": "2023-10-29T20:18:26.061Z"
   },
   {
    "duration": 17,
    "start_time": "2023-10-29T20:18:26.075Z"
   },
   {
    "duration": 162,
    "start_time": "2023-10-29T20:18:26.093Z"
   },
   {
    "duration": 103,
    "start_time": "2023-10-29T20:18:26.257Z"
   },
   {
    "duration": 186,
    "start_time": "2023-10-29T20:18:26.362Z"
   },
   {
    "duration": 254,
    "start_time": "2023-10-29T20:18:26.550Z"
   },
   {
    "duration": 345,
    "start_time": "2023-10-29T20:18:26.809Z"
   },
   {
    "duration": 23,
    "start_time": "2023-10-29T20:18:27.156Z"
   },
   {
    "duration": 12,
    "start_time": "2023-10-29T20:18:27.181Z"
   },
   {
    "duration": 29,
    "start_time": "2023-10-29T20:18:27.195Z"
   },
   {
    "duration": 13,
    "start_time": "2023-10-29T20:18:27.226Z"
   },
   {
    "duration": 26,
    "start_time": "2023-10-29T20:18:27.241Z"
   },
   {
    "duration": 11,
    "start_time": "2023-10-29T20:18:27.269Z"
   },
   {
    "duration": 203,
    "start_time": "2023-10-29T20:18:27.282Z"
   },
   {
    "duration": 199,
    "start_time": "2023-10-29T20:18:27.487Z"
   },
   {
    "duration": 852,
    "start_time": "2023-10-29T20:18:27.688Z"
   },
   {
    "duration": 12,
    "start_time": "2023-10-29T20:18:28.542Z"
   },
   {
    "duration": 8,
    "start_time": "2023-10-29T20:18:28.555Z"
   },
   {
    "duration": 5,
    "start_time": "2023-10-29T20:18:28.565Z"
   },
   {
    "duration": 10,
    "start_time": "2023-10-29T20:18:28.571Z"
   },
   {
    "duration": 8,
    "start_time": "2023-10-29T20:18:28.582Z"
   },
   {
    "duration": 44,
    "start_time": "2023-10-29T20:18:28.591Z"
   },
   {
    "duration": 10,
    "start_time": "2023-10-29T20:18:28.637Z"
   },
   {
    "duration": 11,
    "start_time": "2023-10-29T20:18:28.648Z"
   },
   {
    "duration": 13,
    "start_time": "2023-10-29T20:18:28.660Z"
   },
   {
    "duration": 5,
    "start_time": "2023-10-29T20:18:28.675Z"
   },
   {
    "duration": 11,
    "start_time": "2023-10-29T20:18:28.682Z"
   },
   {
    "duration": 30,
    "start_time": "2023-10-29T20:18:28.695Z"
   },
   {
    "duration": 773,
    "start_time": "2023-10-29T20:18:28.726Z"
   },
   {
    "duration": 10,
    "start_time": "2023-10-29T20:18:29.501Z"
   },
   {
    "duration": 13,
    "start_time": "2023-10-29T20:18:29.512Z"
   },
   {
    "duration": 391,
    "start_time": "2023-10-29T20:18:29.526Z"
   },
   {
    "duration": 11,
    "start_time": "2023-10-29T20:18:29.918Z"
   },
   {
    "duration": 8,
    "start_time": "2023-10-29T20:18:29.930Z"
   },
   {
    "duration": 10,
    "start_time": "2023-10-29T20:18:29.939Z"
   },
   {
    "duration": 222,
    "start_time": "2023-10-29T20:18:29.950Z"
   },
   {
    "duration": 6,
    "start_time": "2023-10-29T20:18:30.173Z"
   },
   {
    "duration": 3,
    "start_time": "2023-10-29T20:19:40.982Z"
   },
   {
    "duration": 119,
    "start_time": "2023-10-29T20:19:40.986Z"
   },
   {
    "duration": 237,
    "start_time": "2023-10-29T20:19:41.107Z"
   },
   {
    "duration": 57,
    "start_time": "2023-10-29T20:19:41.346Z"
   },
   {
    "duration": 137,
    "start_time": "2023-10-29T20:19:41.405Z"
   },
   {
    "duration": 298,
    "start_time": "2023-10-29T20:19:41.544Z"
   },
   {
    "duration": 432,
    "start_time": "2023-10-29T20:19:41.844Z"
   },
   {
    "duration": 8,
    "start_time": "2023-10-29T20:19:42.277Z"
   },
   {
    "duration": 230,
    "start_time": "2023-10-29T20:19:42.286Z"
   },
   {
    "duration": 89,
    "start_time": "2023-10-29T20:19:42.518Z"
   },
   {
    "duration": 7,
    "start_time": "2023-10-29T20:19:42.610Z"
   },
   {
    "duration": 11,
    "start_time": "2023-10-29T20:19:42.618Z"
   },
   {
    "duration": 13,
    "start_time": "2023-10-29T20:19:42.631Z"
   },
   {
    "duration": 24,
    "start_time": "2023-10-29T20:19:42.645Z"
   },
   {
    "duration": 9,
    "start_time": "2023-10-29T20:19:42.670Z"
   },
   {
    "duration": 7,
    "start_time": "2023-10-29T20:19:42.680Z"
   },
   {
    "duration": 39,
    "start_time": "2023-10-29T20:19:42.688Z"
   },
   {
    "duration": 9,
    "start_time": "2023-10-29T20:19:42.729Z"
   },
   {
    "duration": 6,
    "start_time": "2023-10-29T20:19:42.740Z"
   },
   {
    "duration": 162,
    "start_time": "2023-10-29T20:19:42.748Z"
   },
   {
    "duration": 99,
    "start_time": "2023-10-29T20:19:42.911Z"
   },
   {
    "duration": 198,
    "start_time": "2023-10-29T20:19:43.011Z"
   },
   {
    "duration": 244,
    "start_time": "2023-10-29T20:19:43.210Z"
   },
   {
    "duration": 324,
    "start_time": "2023-10-29T20:19:43.455Z"
   },
   {
    "duration": 22,
    "start_time": "2023-10-29T20:19:43.781Z"
   },
   {
    "duration": 27,
    "start_time": "2023-10-29T20:19:43.805Z"
   },
   {
    "duration": 9,
    "start_time": "2023-10-29T20:19:43.834Z"
   },
   {
    "duration": 18,
    "start_time": "2023-10-29T20:19:43.844Z"
   },
   {
    "duration": 23,
    "start_time": "2023-10-29T20:19:43.866Z"
   },
   {
    "duration": 13,
    "start_time": "2023-10-29T20:19:43.892Z"
   },
   {
    "duration": 187,
    "start_time": "2023-10-29T20:19:43.907Z"
   },
   {
    "duration": 185,
    "start_time": "2023-10-29T20:19:44.095Z"
   },
   {
    "duration": 817,
    "start_time": "2023-10-29T20:19:44.282Z"
   },
   {
    "duration": 11,
    "start_time": "2023-10-29T20:19:45.101Z"
   },
   {
    "duration": 37,
    "start_time": "2023-10-29T20:19:45.113Z"
   },
   {
    "duration": 30,
    "start_time": "2023-10-29T20:19:45.152Z"
   },
   {
    "duration": 46,
    "start_time": "2023-10-29T20:19:45.183Z"
   },
   {
    "duration": 35,
    "start_time": "2023-10-29T20:19:45.231Z"
   },
   {
    "duration": 27,
    "start_time": "2023-10-29T20:19:45.268Z"
   },
   {
    "duration": 26,
    "start_time": "2023-10-29T20:19:45.297Z"
   },
   {
    "duration": 41,
    "start_time": "2023-10-29T20:19:45.325Z"
   },
   {
    "duration": 30,
    "start_time": "2023-10-29T20:19:45.368Z"
   },
   {
    "duration": 15,
    "start_time": "2023-10-29T20:19:45.399Z"
   },
   {
    "duration": 21,
    "start_time": "2023-10-29T20:19:45.416Z"
   },
   {
    "duration": 46,
    "start_time": "2023-10-29T20:19:45.438Z"
   },
   {
    "duration": 869,
    "start_time": "2023-10-29T20:19:45.485Z"
   },
   {
    "duration": 9,
    "start_time": "2023-10-29T20:19:46.356Z"
   },
   {
    "duration": 21,
    "start_time": "2023-10-29T20:19:46.367Z"
   },
   {
    "duration": 405,
    "start_time": "2023-10-29T20:19:46.390Z"
   },
   {
    "duration": 9,
    "start_time": "2023-10-29T20:19:46.796Z"
   },
   {
    "duration": 20,
    "start_time": "2023-10-29T20:19:46.806Z"
   },
   {
    "duration": 25,
    "start_time": "2023-10-29T20:19:46.828Z"
   },
   {
    "duration": 219,
    "start_time": "2023-10-29T20:19:46.855Z"
   },
   {
    "duration": 4,
    "start_time": "2023-10-29T20:19:47.076Z"
   },
   {
    "duration": 10,
    "start_time": "2023-10-29T20:29:58.433Z"
   },
   {
    "duration": 10,
    "start_time": "2023-10-29T20:30:21.164Z"
   },
   {
    "duration": 10,
    "start_time": "2023-10-29T20:30:44.038Z"
   },
   {
    "duration": 4,
    "start_time": "2023-10-29T20:30:50.660Z"
   },
   {
    "duration": 3,
    "start_time": "2023-10-29T20:30:56.395Z"
   },
   {
    "duration": 826,
    "start_time": "2023-10-29T20:30:57.151Z"
   },
   {
    "duration": 4,
    "start_time": "2023-10-29T20:31:54.169Z"
   },
   {
    "duration": 80,
    "start_time": "2023-10-29T20:33:23.816Z"
   },
   {
    "duration": 5,
    "start_time": "2023-10-29T20:36:07.836Z"
   },
   {
    "duration": 13,
    "start_time": "2023-10-29T20:36:18.245Z"
   },
   {
    "duration": 9,
    "start_time": "2023-10-29T20:36:19.119Z"
   },
   {
    "duration": 13,
    "start_time": "2023-10-29T20:36:21.024Z"
   },
   {
    "duration": 4,
    "start_time": "2023-10-29T20:37:55.836Z"
   },
   {
    "duration": 16,
    "start_time": "2023-10-29T20:37:55.842Z"
   },
   {
    "duration": 89,
    "start_time": "2023-10-29T20:37:55.861Z"
   },
   {
    "duration": 3,
    "start_time": "2023-10-29T20:37:55.952Z"
   },
   {
    "duration": 104,
    "start_time": "2023-10-29T20:37:55.957Z"
   },
   {
    "duration": 345,
    "start_time": "2023-10-29T20:37:56.063Z"
   },
   {
    "duration": 441,
    "start_time": "2023-10-29T20:37:56.410Z"
   },
   {
    "duration": 8,
    "start_time": "2023-10-29T20:37:56.853Z"
   },
   {
    "duration": 23,
    "start_time": "2023-10-29T20:37:56.863Z"
   },
   {
    "duration": 10,
    "start_time": "2023-10-29T20:37:56.888Z"
   },
   {
    "duration": 7,
    "start_time": "2023-10-29T20:37:56.901Z"
   },
   {
    "duration": 24,
    "start_time": "2023-10-29T20:37:56.910Z"
   },
   {
    "duration": 17,
    "start_time": "2023-10-29T20:37:56.936Z"
   },
   {
    "duration": 36,
    "start_time": "2023-10-29T20:37:56.955Z"
   },
   {
    "duration": 41,
    "start_time": "2023-10-29T20:37:56.993Z"
   },
   {
    "duration": 15,
    "start_time": "2023-10-29T20:37:57.036Z"
   },
   {
    "duration": 16,
    "start_time": "2023-10-29T20:37:57.053Z"
   },
   {
    "duration": 22,
    "start_time": "2023-10-29T20:37:57.071Z"
   },
   {
    "duration": 13,
    "start_time": "2023-10-29T20:37:57.095Z"
   },
   {
    "duration": 149,
    "start_time": "2023-10-29T20:37:57.110Z"
   },
   {
    "duration": 105,
    "start_time": "2023-10-29T20:37:57.262Z"
   },
   {
    "duration": 191,
    "start_time": "2023-10-29T20:37:57.369Z"
   },
   {
    "duration": 266,
    "start_time": "2023-10-29T20:37:57.562Z"
   },
   {
    "duration": 338,
    "start_time": "2023-10-29T20:37:57.830Z"
   },
   {
    "duration": 22,
    "start_time": "2023-10-29T20:37:58.170Z"
   },
   {
    "duration": 12,
    "start_time": "2023-10-29T20:37:58.194Z"
   },
   {
    "duration": 9,
    "start_time": "2023-10-29T20:37:58.224Z"
   },
   {
    "duration": 10,
    "start_time": "2023-10-29T20:37:58.235Z"
   },
   {
    "duration": 10,
    "start_time": "2023-10-29T20:37:58.249Z"
   },
   {
    "duration": 11,
    "start_time": "2023-10-29T20:37:58.260Z"
   },
   {
    "duration": 222,
    "start_time": "2023-10-29T20:37:58.272Z"
   },
   {
    "duration": 192,
    "start_time": "2023-10-29T20:37:58.496Z"
   },
   {
    "duration": 10,
    "start_time": "2023-10-29T20:37:58.690Z"
   },
   {
    "duration": 8,
    "start_time": "2023-10-29T20:37:58.702Z"
   },
   {
    "duration": 860,
    "start_time": "2023-10-29T20:37:58.712Z"
   },
   {
    "duration": 13,
    "start_time": "2023-10-29T20:37:59.574Z"
   },
   {
    "duration": 9,
    "start_time": "2023-10-29T20:37:59.589Z"
   },
   {
    "duration": 24,
    "start_time": "2023-10-29T20:37:59.600Z"
   },
   {
    "duration": 21,
    "start_time": "2023-10-29T20:37:59.626Z"
   },
   {
    "duration": 10,
    "start_time": "2023-10-29T20:37:59.649Z"
   },
   {
    "duration": 11,
    "start_time": "2023-10-29T20:37:59.661Z"
   },
   {
    "duration": 19,
    "start_time": "2023-10-29T20:37:59.673Z"
   },
   {
    "duration": 19,
    "start_time": "2023-10-29T20:37:59.693Z"
   },
   {
    "duration": 10,
    "start_time": "2023-10-29T20:37:59.723Z"
   },
   {
    "duration": 9,
    "start_time": "2023-10-29T20:37:59.735Z"
   },
   {
    "duration": 15,
    "start_time": "2023-10-29T20:37:59.745Z"
   },
   {
    "duration": 21,
    "start_time": "2023-10-29T20:37:59.762Z"
   },
   {
    "duration": 876,
    "start_time": "2023-10-29T20:37:59.784Z"
   },
   {
    "duration": 10,
    "start_time": "2023-10-29T20:38:00.662Z"
   },
   {
    "duration": 37,
    "start_time": "2023-10-29T20:38:00.674Z"
   },
   {
    "duration": 476,
    "start_time": "2023-10-29T20:38:00.713Z"
   },
   {
    "duration": 9,
    "start_time": "2023-10-29T20:38:01.191Z"
   },
   {
    "duration": 41,
    "start_time": "2023-10-29T20:38:01.202Z"
   },
   {
    "duration": 38,
    "start_time": "2023-10-29T20:38:01.245Z"
   },
   {
    "duration": 2149,
    "start_time": "2023-10-29T20:38:01.284Z"
   },
   {
    "duration": 5,
    "start_time": "2023-10-29T20:38:03.435Z"
   },
   {
    "duration": 5,
    "start_time": "2023-10-29T20:44:37.098Z"
   },
   {
    "duration": 5,
    "start_time": "2023-10-29T20:44:58.168Z"
   },
   {
    "duration": 6,
    "start_time": "2023-10-29T20:45:29.070Z"
   },
   {
    "duration": 106,
    "start_time": "2023-10-29T20:52:17.657Z"
   },
   {
    "duration": 5,
    "start_time": "2023-10-29T21:15:04.924Z"
   },
   {
    "duration": 5,
    "start_time": "2023-10-29T21:15:27.605Z"
   },
   {
    "duration": 5,
    "start_time": "2023-10-29T21:15:40.690Z"
   },
   {
    "duration": 5,
    "start_time": "2023-10-29T21:15:50.057Z"
   },
   {
    "duration": 8,
    "start_time": "2023-10-29T21:18:17.042Z"
   },
   {
    "duration": 77,
    "start_time": "2023-10-29T21:53:10.348Z"
   },
   {
    "duration": 1297,
    "start_time": "2023-10-31T09:33:08.363Z"
   },
   {
    "duration": 3,
    "start_time": "2023-10-31T09:33:09.662Z"
   },
   {
    "duration": 523,
    "start_time": "2023-10-31T09:33:09.666Z"
   },
   {
    "duration": 2,
    "start_time": "2023-10-31T09:33:10.192Z"
   },
   {
    "duration": 87,
    "start_time": "2023-10-31T09:33:10.196Z"
   },
   {
    "duration": 302,
    "start_time": "2023-10-31T09:33:10.285Z"
   },
   {
    "duration": 419,
    "start_time": "2023-10-31T09:33:10.589Z"
   },
   {
    "duration": 11,
    "start_time": "2023-10-31T09:33:11.010Z"
   },
   {
    "duration": 22,
    "start_time": "2023-10-31T09:33:11.023Z"
   },
   {
    "duration": 6,
    "start_time": "2023-10-31T09:33:11.048Z"
   },
   {
    "duration": 19,
    "start_time": "2023-10-31T09:33:11.055Z"
   },
   {
    "duration": 12,
    "start_time": "2023-10-31T09:33:11.076Z"
   },
   {
    "duration": 33,
    "start_time": "2023-10-31T09:33:11.090Z"
   },
   {
    "duration": 31,
    "start_time": "2023-10-31T09:33:11.124Z"
   },
   {
    "duration": 50,
    "start_time": "2023-10-31T09:33:11.156Z"
   },
   {
    "duration": 28,
    "start_time": "2023-10-31T09:33:11.207Z"
   },
   {
    "duration": 9,
    "start_time": "2023-10-31T09:33:11.237Z"
   },
   {
    "duration": 9,
    "start_time": "2023-10-31T09:33:11.247Z"
   },
   {
    "duration": 9,
    "start_time": "2023-10-31T09:33:11.257Z"
   },
   {
    "duration": 10,
    "start_time": "2023-10-31T09:33:11.267Z"
   },
   {
    "duration": 13,
    "start_time": "2023-10-31T09:33:11.278Z"
   },
   {
    "duration": 164,
    "start_time": "2023-10-31T09:33:11.292Z"
   },
   {
    "duration": 109,
    "start_time": "2023-10-31T09:33:11.457Z"
   },
   {
    "duration": 198,
    "start_time": "2023-10-31T09:33:11.567Z"
   },
   {
    "duration": 257,
    "start_time": "2023-10-31T09:33:11.766Z"
   },
   {
    "duration": 389,
    "start_time": "2023-10-31T09:33:12.025Z"
   },
   {
    "duration": 29,
    "start_time": "2023-10-31T09:33:12.416Z"
   },
   {
    "duration": 13,
    "start_time": "2023-10-31T09:33:12.448Z"
   },
   {
    "duration": 9,
    "start_time": "2023-10-31T09:33:12.463Z"
   },
   {
    "duration": 15,
    "start_time": "2023-10-31T09:33:12.473Z"
   },
   {
    "duration": 50,
    "start_time": "2023-10-31T09:33:12.489Z"
   },
   {
    "duration": 28,
    "start_time": "2023-10-31T09:33:12.541Z"
   },
   {
    "duration": 216,
    "start_time": "2023-10-31T09:33:12.571Z"
   },
   {
    "duration": 186,
    "start_time": "2023-10-31T09:33:12.789Z"
   },
   {
    "duration": 11,
    "start_time": "2023-10-31T09:33:12.977Z"
   },
   {
    "duration": 10,
    "start_time": "2023-10-31T09:33:12.990Z"
   },
   {
    "duration": 843,
    "start_time": "2023-10-31T09:33:13.002Z"
   },
   {
    "duration": 11,
    "start_time": "2023-10-31T09:33:13.847Z"
   },
   {
    "duration": 9,
    "start_time": "2023-10-31T09:33:13.859Z"
   },
   {
    "duration": 17,
    "start_time": "2023-10-31T09:33:13.870Z"
   },
   {
    "duration": 25,
    "start_time": "2023-10-31T09:33:13.889Z"
   },
   {
    "duration": 25,
    "start_time": "2023-10-31T09:33:13.916Z"
   },
   {
    "duration": 26,
    "start_time": "2023-10-31T09:33:13.942Z"
   },
   {
    "duration": 12,
    "start_time": "2023-10-31T09:33:13.969Z"
   },
   {
    "duration": 18,
    "start_time": "2023-10-31T09:33:13.983Z"
   },
   {
    "duration": 16,
    "start_time": "2023-10-31T09:33:14.003Z"
   },
   {
    "duration": 43,
    "start_time": "2023-10-31T09:33:14.021Z"
   },
   {
    "duration": 18,
    "start_time": "2023-10-31T09:33:14.067Z"
   },
   {
    "duration": 42,
    "start_time": "2023-10-31T09:33:14.088Z"
   },
   {
    "duration": 941,
    "start_time": "2023-10-31T09:33:14.132Z"
   },
   {
    "duration": 11,
    "start_time": "2023-10-31T09:33:15.075Z"
   },
   {
    "duration": 60,
    "start_time": "2023-10-31T09:33:15.088Z"
   },
   {
    "duration": 447,
    "start_time": "2023-10-31T09:33:15.150Z"
   },
   {
    "duration": 8,
    "start_time": "2023-10-31T09:33:15.599Z"
   },
   {
    "duration": 57,
    "start_time": "2023-10-31T09:33:15.608Z"
   },
   {
    "duration": 57,
    "start_time": "2023-10-31T09:33:15.667Z"
   },
   {
    "duration": 206,
    "start_time": "2023-10-31T09:33:15.725Z"
   },
   {
    "duration": 11,
    "start_time": "2023-10-31T09:33:15.933Z"
   },
   {
    "duration": 5,
    "start_time": "2023-10-31T10:04:37.188Z"
   },
   {
    "duration": 5,
    "start_time": "2023-10-31T10:04:45.469Z"
   },
   {
    "duration": 1291,
    "start_time": "2023-10-31T10:07:26.333Z"
   },
   {
    "duration": 1531,
    "start_time": "2023-10-31T10:12:13.730Z"
   },
   {
    "duration": 100,
    "start_time": "2023-10-31T10:12:43.330Z"
   },
   {
    "duration": 3122,
    "start_time": "2023-10-31T10:13:34.277Z"
   },
   {
    "duration": 1374,
    "start_time": "2023-10-31T10:13:54.258Z"
   },
   {
    "duration": 1314,
    "start_time": "2023-10-31T10:14:20.889Z"
   },
   {
    "duration": 131,
    "start_time": "2023-10-31T10:47:31.019Z"
   },
   {
    "duration": 2,
    "start_time": "2023-10-31T10:50:58.325Z"
   },
   {
    "duration": 1302,
    "start_time": "2023-10-31T10:51:53.274Z"
   },
   {
    "duration": 117,
    "start_time": "2023-10-31T10:53:21.174Z"
   },
   {
    "duration": 197,
    "start_time": "2023-10-31T10:53:30.347Z"
   },
   {
    "duration": 10,
    "start_time": "2023-10-31T11:43:51.040Z"
   },
   {
    "duration": 334,
    "start_time": "2023-10-31T11:55:11.024Z"
   },
   {
    "duration": 311,
    "start_time": "2023-10-31T12:07:49.217Z"
   },
   {
    "duration": 308,
    "start_time": "2023-10-31T12:08:17.788Z"
   },
   {
    "duration": 443,
    "start_time": "2023-10-31T12:09:20.130Z"
   },
   {
    "duration": 239,
    "start_time": "2023-10-31T12:09:37.675Z"
   },
   {
    "duration": 349,
    "start_time": "2023-10-31T12:10:27.055Z"
   },
   {
    "duration": 362,
    "start_time": "2023-10-31T12:10:37.177Z"
   },
   {
    "duration": 312,
    "start_time": "2023-10-31T12:10:45.487Z"
   },
   {
    "duration": 299,
    "start_time": "2023-10-31T12:17:33.142Z"
   },
   {
    "duration": 850,
    "start_time": "2023-10-31T12:20:17.339Z"
   },
   {
    "duration": 304,
    "start_time": "2023-10-31T12:21:33.010Z"
   },
   {
    "duration": 14,
    "start_time": "2023-10-31T12:30:07.158Z"
   },
   {
    "duration": 3,
    "start_time": "2023-10-31T12:30:23.695Z"
   },
   {
    "duration": 10,
    "start_time": "2023-10-31T12:30:23.699Z"
   },
   {
    "duration": 70,
    "start_time": "2023-10-31T12:30:23.710Z"
   },
   {
    "duration": 3,
    "start_time": "2023-10-31T12:30:23.782Z"
   },
   {
    "duration": 98,
    "start_time": "2023-10-31T12:30:23.786Z"
   },
   {
    "duration": 365,
    "start_time": "2023-10-31T12:30:23.886Z"
   },
   {
    "duration": 474,
    "start_time": "2023-10-31T12:30:24.253Z"
   },
   {
    "duration": 8,
    "start_time": "2023-10-31T12:30:24.728Z"
   },
   {
    "duration": 9,
    "start_time": "2023-10-31T12:30:24.738Z"
   },
   {
    "duration": 5,
    "start_time": "2023-10-31T12:30:24.749Z"
   },
   {
    "duration": 12,
    "start_time": "2023-10-31T12:30:24.757Z"
   },
   {
    "duration": 6,
    "start_time": "2023-10-31T12:30:24.771Z"
   },
   {
    "duration": 24,
    "start_time": "2023-10-31T12:30:24.778Z"
   },
   {
    "duration": 18,
    "start_time": "2023-10-31T12:30:24.804Z"
   },
   {
    "duration": 20,
    "start_time": "2023-10-31T12:30:24.824Z"
   },
   {
    "duration": 153,
    "start_time": "2023-10-31T12:30:24.846Z"
   },
   {
    "duration": 12,
    "start_time": "2023-10-31T12:30:25.000Z"
   },
   {
    "duration": 8,
    "start_time": "2023-10-31T12:30:25.014Z"
   },
   {
    "duration": 15,
    "start_time": "2023-10-31T12:30:25.043Z"
   },
   {
    "duration": 10,
    "start_time": "2023-10-31T12:30:25.062Z"
   },
   {
    "duration": 12,
    "start_time": "2023-10-31T12:30:25.074Z"
   },
   {
    "duration": 152,
    "start_time": "2023-10-31T12:30:25.088Z"
   },
   {
    "duration": 92,
    "start_time": "2023-10-31T12:30:25.242Z"
   },
   {
    "duration": 191,
    "start_time": "2023-10-31T12:30:25.344Z"
   },
   {
    "duration": 251,
    "start_time": "2023-10-31T12:30:25.537Z"
   },
   {
    "duration": 9,
    "start_time": "2023-10-31T12:30:25.789Z"
   },
   {
    "duration": 346,
    "start_time": "2023-10-31T12:30:25.799Z"
   },
   {
    "duration": 350,
    "start_time": "2023-10-31T12:30:26.146Z"
   },
   {
    "duration": 13,
    "start_time": "2023-10-31T12:30:26.498Z"
   },
   {
    "duration": 47,
    "start_time": "2023-10-31T12:30:26.512Z"
   },
   {
    "duration": 19,
    "start_time": "2023-10-31T12:30:26.560Z"
   },
   {
    "duration": 9,
    "start_time": "2023-10-31T12:30:26.581Z"
   },
   {
    "duration": 17,
    "start_time": "2023-10-31T12:30:26.591Z"
   },
   {
    "duration": 29,
    "start_time": "2023-10-31T12:30:26.609Z"
   },
   {
    "duration": 18,
    "start_time": "2023-10-31T12:30:26.639Z"
   },
   {
    "duration": 199,
    "start_time": "2023-10-31T12:30:26.661Z"
   },
   {
    "duration": 186,
    "start_time": "2023-10-31T12:30:26.863Z"
   },
   {
    "duration": 18,
    "start_time": "2023-10-31T12:30:27.053Z"
   },
   {
    "duration": 4,
    "start_time": "2023-10-31T12:30:27.073Z"
   },
   {
    "duration": 921,
    "start_time": "2023-10-31T12:30:27.079Z"
   },
   {
    "duration": 11,
    "start_time": "2023-10-31T12:30:28.001Z"
   },
   {
    "duration": 12,
    "start_time": "2023-10-31T12:30:28.014Z"
   },
   {
    "duration": 28,
    "start_time": "2023-10-31T12:30:28.028Z"
   },
   {
    "duration": 10,
    "start_time": "2023-10-31T12:30:28.058Z"
   },
   {
    "duration": 11,
    "start_time": "2023-10-31T12:30:28.070Z"
   },
   {
    "duration": 16,
    "start_time": "2023-10-31T12:30:28.083Z"
   },
   {
    "duration": 119,
    "start_time": "2023-10-31T12:30:28.101Z"
   },
   {
    "duration": 11,
    "start_time": "2023-10-31T12:30:28.222Z"
   },
   {
    "duration": 29,
    "start_time": "2023-10-31T12:30:28.234Z"
   },
   {
    "duration": 22,
    "start_time": "2023-10-31T12:30:28.265Z"
   },
   {
    "duration": 35,
    "start_time": "2023-10-31T12:30:28.289Z"
   },
   {
    "duration": 17,
    "start_time": "2023-10-31T12:30:28.326Z"
   },
   {
    "duration": 1395,
    "start_time": "2023-10-31T12:30:28.345Z"
   },
   {
    "duration": 15,
    "start_time": "2023-10-31T12:30:29.744Z"
   },
   {
    "duration": 25,
    "start_time": "2023-10-31T12:30:29.761Z"
   },
   {
    "duration": 436,
    "start_time": "2023-10-31T12:30:29.787Z"
   },
   {
    "duration": 9,
    "start_time": "2023-10-31T12:30:30.225Z"
   },
   {
    "duration": 27,
    "start_time": "2023-10-31T12:30:30.244Z"
   },
   {
    "duration": 44,
    "start_time": "2023-10-31T12:30:30.272Z"
   },
   {
    "duration": 269,
    "start_time": "2023-10-31T12:30:30.318Z"
   },
   {
    "duration": 4,
    "start_time": "2023-10-31T12:30:30.589Z"
   },
   {
    "duration": 13,
    "start_time": "2023-10-31T12:31:19.318Z"
   },
   {
    "duration": 14,
    "start_time": "2023-10-31T12:31:25.445Z"
   },
   {
    "duration": 1571,
    "start_time": "2023-10-31T12:33:17.136Z"
   },
   {
    "duration": 4,
    "start_time": "2023-10-31T12:33:59.528Z"
   },
   {
    "duration": 11,
    "start_time": "2023-10-31T12:34:24.252Z"
   },
   {
    "duration": 6,
    "start_time": "2023-10-31T12:34:27.918Z"
   },
   {
    "duration": 14,
    "start_time": "2023-10-31T12:34:47.290Z"
   },
   {
    "duration": 5,
    "start_time": "2023-10-31T12:35:15.401Z"
   },
   {
    "duration": 7,
    "start_time": "2023-10-31T12:35:34.179Z"
   },
   {
    "duration": 5,
    "start_time": "2023-10-31T12:35:38.740Z"
   },
   {
    "duration": 5,
    "start_time": "2023-10-31T12:35:42.374Z"
   },
   {
    "duration": 5,
    "start_time": "2023-10-31T12:35:55.505Z"
   },
   {
    "duration": 6,
    "start_time": "2023-10-31T12:35:58.013Z"
   },
   {
    "duration": 8,
    "start_time": "2023-10-31T12:45:16.763Z"
   },
   {
    "duration": 3,
    "start_time": "2023-10-31T12:45:18.989Z"
   },
   {
    "duration": 424,
    "start_time": "2023-10-31T12:45:19.592Z"
   },
   {
    "duration": 16,
    "start_time": "2023-10-31T12:45:46.590Z"
   },
   {
    "duration": 379,
    "start_time": "2023-10-31T12:48:59.528Z"
   },
   {
    "duration": 432,
    "start_time": "2023-10-31T12:49:24.187Z"
   },
   {
    "duration": 19,
    "start_time": "2023-10-31T12:49:34.788Z"
   },
   {
    "duration": 15,
    "start_time": "2023-10-31T12:51:10.424Z"
   },
   {
    "duration": 8,
    "start_time": "2023-10-31T12:55:22.429Z"
   },
   {
    "duration": 20,
    "start_time": "2023-10-31T12:55:29.026Z"
   },
   {
    "duration": 17,
    "start_time": "2023-10-31T12:55:36.175Z"
   },
   {
    "duration": 16,
    "start_time": "2023-10-31T12:55:52.841Z"
   },
   {
    "duration": 3,
    "start_time": "2023-10-31T12:55:59.130Z"
   },
   {
    "duration": 26,
    "start_time": "2023-10-31T12:55:59.135Z"
   },
   {
    "duration": 73,
    "start_time": "2023-10-31T12:55:59.162Z"
   },
   {
    "duration": 3,
    "start_time": "2023-10-31T12:55:59.237Z"
   },
   {
    "duration": 90,
    "start_time": "2023-10-31T12:55:59.241Z"
   },
   {
    "duration": 297,
    "start_time": "2023-10-31T12:55:59.333Z"
   },
   {
    "duration": 523,
    "start_time": "2023-10-31T12:55:59.632Z"
   },
   {
    "duration": 8,
    "start_time": "2023-10-31T12:56:00.156Z"
   },
   {
    "duration": 35,
    "start_time": "2023-10-31T12:56:00.166Z"
   },
   {
    "duration": 26,
    "start_time": "2023-10-31T12:56:00.203Z"
   },
   {
    "duration": 31,
    "start_time": "2023-10-31T12:56:00.230Z"
   },
   {
    "duration": 29,
    "start_time": "2023-10-31T12:56:00.263Z"
   },
   {
    "duration": 32,
    "start_time": "2023-10-31T12:56:00.293Z"
   },
   {
    "duration": 29,
    "start_time": "2023-10-31T12:56:00.326Z"
   },
   {
    "duration": 45,
    "start_time": "2023-10-31T12:56:00.356Z"
   },
   {
    "duration": 86,
    "start_time": "2023-10-31T12:56:00.402Z"
   },
   {
    "duration": 33,
    "start_time": "2023-10-31T12:56:00.489Z"
   },
   {
    "duration": 36,
    "start_time": "2023-10-31T12:56:00.524Z"
   },
   {
    "duration": 29,
    "start_time": "2023-10-31T12:56:00.562Z"
   },
   {
    "duration": 52,
    "start_time": "2023-10-31T12:56:00.593Z"
   },
   {
    "duration": 56,
    "start_time": "2023-10-31T12:56:00.647Z"
   },
   {
    "duration": 207,
    "start_time": "2023-10-31T12:56:00.705Z"
   },
   {
    "duration": 112,
    "start_time": "2023-10-31T12:56:00.913Z"
   },
   {
    "duration": 254,
    "start_time": "2023-10-31T12:56:01.029Z"
   },
   {
    "duration": 269,
    "start_time": "2023-10-31T12:56:01.285Z"
   },
   {
    "duration": 9,
    "start_time": "2023-10-31T12:56:01.556Z"
   },
   {
    "duration": 410,
    "start_time": "2023-10-31T12:56:01.566Z"
   },
   {
    "duration": 310,
    "start_time": "2023-10-31T12:56:01.978Z"
   },
   {
    "duration": 89,
    "start_time": "2023-10-31T12:56:02.290Z"
   },
   {
    "duration": 10,
    "start_time": "2023-10-31T12:56:33.175Z"
   },
   {
    "duration": 14,
    "start_time": "2023-10-31T12:56:38.043Z"
   },
   {
    "duration": 278,
    "start_time": "2023-10-31T13:15:42.925Z"
   },
   {
    "duration": 404,
    "start_time": "2023-10-31T13:15:54.929Z"
   },
   {
    "duration": 180,
    "start_time": "2023-10-31T13:16:06.431Z"
   },
   {
    "duration": 14,
    "start_time": "2023-10-31T13:17:19.198Z"
   },
   {
    "duration": 7,
    "start_time": "2023-10-31T13:19:41.880Z"
   },
   {
    "duration": 7,
    "start_time": "2023-10-31T13:19:51.553Z"
   },
   {
    "duration": 13,
    "start_time": "2023-10-31T13:20:13.364Z"
   },
   {
    "duration": 9,
    "start_time": "2023-10-31T13:20:37.172Z"
   },
   {
    "duration": 12,
    "start_time": "2023-10-31T13:20:49.690Z"
   },
   {
    "duration": 8,
    "start_time": "2023-10-31T13:20:54.983Z"
   },
   {
    "duration": 16,
    "start_time": "2023-10-31T13:21:43.065Z"
   },
   {
    "duration": 14,
    "start_time": "2023-10-31T13:25:51.398Z"
   },
   {
    "duration": 44,
    "start_time": "2023-10-31T13:31:34.783Z"
   },
   {
    "duration": 26,
    "start_time": "2023-10-31T13:32:22.006Z"
   },
   {
    "duration": 12,
    "start_time": "2023-10-31T13:32:43.081Z"
   },
   {
    "duration": 9,
    "start_time": "2023-10-31T13:33:10.649Z"
   },
   {
    "duration": 11,
    "start_time": "2023-10-31T13:33:17.719Z"
   },
   {
    "duration": 9,
    "start_time": "2023-10-31T13:33:46.904Z"
   },
   {
    "duration": 10,
    "start_time": "2023-10-31T13:35:07.088Z"
   },
   {
    "duration": 11,
    "start_time": "2023-10-31T13:35:10.205Z"
   },
   {
    "duration": 4,
    "start_time": "2023-10-31T13:35:18.220Z"
   },
   {
    "duration": 5,
    "start_time": "2023-10-31T13:35:20.072Z"
   },
   {
    "duration": 6,
    "start_time": "2023-10-31T13:35:30.304Z"
   },
   {
    "duration": 4,
    "start_time": "2023-10-31T13:35:34.419Z"
   },
   {
    "duration": 15,
    "start_time": "2023-10-31T13:35:43.930Z"
   },
   {
    "duration": 8,
    "start_time": "2023-10-31T13:36:46.617Z"
   },
   {
    "duration": 16,
    "start_time": "2023-10-31T13:39:46.281Z"
   },
   {
    "duration": 9,
    "start_time": "2023-10-31T13:39:55.290Z"
   },
   {
    "duration": 6,
    "start_time": "2023-10-31T13:47:22.597Z"
   },
   {
    "duration": 9,
    "start_time": "2023-10-31T13:47:39.070Z"
   },
   {
    "duration": 7,
    "start_time": "2023-10-31T13:48:13.908Z"
   },
   {
    "duration": 298,
    "start_time": "2023-10-31T13:48:24.923Z"
   },
   {
    "duration": 3,
    "start_time": "2023-10-31T13:49:34.707Z"
   },
   {
    "duration": 6,
    "start_time": "2023-10-31T13:49:34.711Z"
   },
   {
    "duration": 69,
    "start_time": "2023-10-31T13:49:34.719Z"
   },
   {
    "duration": 3,
    "start_time": "2023-10-31T13:49:34.790Z"
   },
   {
    "duration": 84,
    "start_time": "2023-10-31T13:49:34.795Z"
   },
   {
    "duration": 314,
    "start_time": "2023-10-31T13:49:34.881Z"
   },
   {
    "duration": 418,
    "start_time": "2023-10-31T13:49:35.197Z"
   },
   {
    "duration": 8,
    "start_time": "2023-10-31T13:49:35.616Z"
   },
   {
    "duration": 19,
    "start_time": "2023-10-31T13:49:35.625Z"
   },
   {
    "duration": 15,
    "start_time": "2023-10-31T13:49:35.645Z"
   },
   {
    "duration": 7,
    "start_time": "2023-10-31T13:49:35.663Z"
   },
   {
    "duration": 6,
    "start_time": "2023-10-31T13:49:35.671Z"
   },
   {
    "duration": 19,
    "start_time": "2023-10-31T13:49:35.678Z"
   },
   {
    "duration": 27,
    "start_time": "2023-10-31T13:49:35.698Z"
   },
   {
    "duration": 45,
    "start_time": "2023-10-31T13:49:35.727Z"
   },
   {
    "duration": 25,
    "start_time": "2023-10-31T13:49:35.774Z"
   },
   {
    "duration": 9,
    "start_time": "2023-10-31T13:49:35.801Z"
   },
   {
    "duration": 8,
    "start_time": "2023-10-31T13:49:35.812Z"
   },
   {
    "duration": 13,
    "start_time": "2023-10-31T13:49:35.821Z"
   },
   {
    "duration": 20,
    "start_time": "2023-10-31T13:49:35.836Z"
   },
   {
    "duration": 6,
    "start_time": "2023-10-31T13:49:35.857Z"
   },
   {
    "duration": 144,
    "start_time": "2023-10-31T13:49:35.864Z"
   },
   {
    "duration": 185,
    "start_time": "2023-10-31T13:49:36.010Z"
   },
   {
    "duration": 186,
    "start_time": "2023-10-31T13:49:36.197Z"
   },
   {
    "duration": 234,
    "start_time": "2023-10-31T13:49:36.385Z"
   },
   {
    "duration": 8,
    "start_time": "2023-10-31T13:49:36.620Z"
   },
   {
    "duration": 314,
    "start_time": "2023-10-31T13:49:36.629Z"
   },
   {
    "duration": 344,
    "start_time": "2023-10-31T13:49:36.944Z"
   },
   {
    "duration": 267,
    "start_time": "2023-10-31T13:49:37.291Z"
   },
   {
    "duration": 0,
    "start_time": "2023-10-31T13:49:37.559Z"
   },
   {
    "duration": 0,
    "start_time": "2023-10-31T13:49:37.560Z"
   },
   {
    "duration": 15,
    "start_time": "2023-10-31T13:49:52.375Z"
   },
   {
    "duration": 9,
    "start_time": "2023-10-31T13:49:52.927Z"
   },
   {
    "duration": 10,
    "start_time": "2023-10-31T13:49:57.535Z"
   },
   {
    "duration": 15,
    "start_time": "2023-10-31T13:50:24.215Z"
   },
   {
    "duration": 310,
    "start_time": "2023-10-31T13:50:32.981Z"
   },
   {
    "duration": 19,
    "start_time": "2023-10-31T13:52:06.017Z"
   },
   {
    "duration": 136,
    "start_time": "2023-10-31T13:52:45.519Z"
   },
   {
    "duration": 305,
    "start_time": "2023-10-31T13:52:50.283Z"
   },
   {
    "duration": 448,
    "start_time": "2023-10-31T13:54:05.350Z"
   },
   {
    "duration": 187,
    "start_time": "2023-10-31T14:07:07.277Z"
   },
   {
    "duration": 412,
    "start_time": "2023-10-31T14:11:03.765Z"
   },
   {
    "duration": 357,
    "start_time": "2023-10-31T14:11:48.928Z"
   },
   {
    "duration": 363,
    "start_time": "2023-10-31T14:12:03.631Z"
   },
   {
    "duration": 332,
    "start_time": "2023-10-31T14:12:14.325Z"
   },
   {
    "duration": 5,
    "start_time": "2023-10-31T14:13:22.415Z"
   },
   {
    "duration": 19,
    "start_time": "2023-10-31T14:40:37.725Z"
   },
   {
    "duration": 15,
    "start_time": "2023-10-31T14:45:30.347Z"
   },
   {
    "duration": 3,
    "start_time": "2023-10-31T14:45:50.917Z"
   },
   {
    "duration": 13,
    "start_time": "2023-10-31T14:45:50.921Z"
   },
   {
    "duration": 91,
    "start_time": "2023-10-31T14:45:50.935Z"
   },
   {
    "duration": 3,
    "start_time": "2023-10-31T14:45:51.028Z"
   },
   {
    "duration": 86,
    "start_time": "2023-10-31T14:45:51.033Z"
   },
   {
    "duration": 413,
    "start_time": "2023-10-31T14:45:51.121Z"
   },
   {
    "duration": 437,
    "start_time": "2023-10-31T14:45:51.536Z"
   },
   {
    "duration": 8,
    "start_time": "2023-10-31T14:45:51.974Z"
   },
   {
    "duration": 84,
    "start_time": "2023-10-31T14:45:51.983Z"
   },
   {
    "duration": 73,
    "start_time": "2023-10-31T14:45:52.069Z"
   },
   {
    "duration": 6,
    "start_time": "2023-10-31T14:45:52.144Z"
   },
   {
    "duration": 11,
    "start_time": "2023-10-31T14:45:52.152Z"
   },
   {
    "duration": 16,
    "start_time": "2023-10-31T14:45:52.164Z"
   },
   {
    "duration": 16,
    "start_time": "2023-10-31T14:45:52.181Z"
   },
   {
    "duration": 24,
    "start_time": "2023-10-31T14:45:52.198Z"
   },
   {
    "duration": 44,
    "start_time": "2023-10-31T14:45:52.223Z"
   },
   {
    "duration": 15,
    "start_time": "2023-10-31T14:45:52.269Z"
   },
   {
    "duration": 11,
    "start_time": "2023-10-31T14:45:52.285Z"
   },
   {
    "duration": 7,
    "start_time": "2023-10-31T14:45:52.298Z"
   },
   {
    "duration": 15,
    "start_time": "2023-10-31T14:45:52.306Z"
   },
   {
    "duration": 46,
    "start_time": "2023-10-31T14:45:52.322Z"
   },
   {
    "duration": 161,
    "start_time": "2023-10-31T14:45:52.370Z"
   },
   {
    "duration": 95,
    "start_time": "2023-10-31T14:45:52.533Z"
   },
   {
    "duration": 196,
    "start_time": "2023-10-31T14:45:52.630Z"
   },
   {
    "duration": 261,
    "start_time": "2023-10-31T14:45:52.828Z"
   },
   {
    "duration": 8,
    "start_time": "2023-10-31T14:45:53.091Z"
   },
   {
    "duration": 340,
    "start_time": "2023-10-31T14:45:53.101Z"
   },
   {
    "duration": 442,
    "start_time": "2023-10-31T14:45:53.445Z"
   },
   {
    "duration": 15,
    "start_time": "2023-10-31T14:45:53.890Z"
   },
   {
    "duration": 8,
    "start_time": "2023-10-31T14:45:53.906Z"
   },
   {
    "duration": 33,
    "start_time": "2023-10-31T14:45:53.916Z"
   },
   {
    "duration": 399,
    "start_time": "2023-10-31T14:45:53.951Z"
   },
   {
    "duration": 23,
    "start_time": "2023-10-31T14:45:54.352Z"
   },
   {
    "duration": 12,
    "start_time": "2023-10-31T14:45:54.377Z"
   },
   {
    "duration": 21,
    "start_time": "2023-10-31T14:45:54.390Z"
   },
   {
    "duration": 26,
    "start_time": "2023-10-31T14:45:54.413Z"
   },
   {
    "duration": 33,
    "start_time": "2023-10-31T14:45:54.440Z"
   },
   {
    "duration": 15,
    "start_time": "2023-10-31T14:45:54.474Z"
   },
   {
    "duration": 189,
    "start_time": "2023-10-31T14:45:54.491Z"
   },
   {
    "duration": 183,
    "start_time": "2023-10-31T14:45:54.682Z"
   },
   {
    "duration": 5,
    "start_time": "2023-10-31T14:45:54.867Z"
   },
   {
    "duration": 0,
    "start_time": "2023-10-31T14:45:54.874Z"
   },
   {
    "duration": 216,
    "start_time": "2023-10-31T14:46:24.203Z"
   },
   {
    "duration": 185,
    "start_time": "2023-10-31T14:49:02.247Z"
   },
   {
    "duration": 194,
    "start_time": "2023-10-31T14:50:08.785Z"
   },
   {
    "duration": 183,
    "start_time": "2023-10-31T14:50:24.551Z"
   },
   {
    "duration": 196,
    "start_time": "2023-10-31T14:55:28.305Z"
   },
   {
    "duration": 109,
    "start_time": "2023-10-31T14:56:02.999Z"
   },
   {
    "duration": 5,
    "start_time": "2023-10-31T14:56:07.719Z"
   },
   {
    "duration": 202,
    "start_time": "2023-10-31T14:56:33.128Z"
   },
   {
    "duration": 308,
    "start_time": "2023-10-31T14:56:53.507Z"
   },
   {
    "duration": 194,
    "start_time": "2023-10-31T14:57:30.566Z"
   },
   {
    "duration": 190,
    "start_time": "2023-10-31T14:57:37.535Z"
   },
   {
    "duration": 201,
    "start_time": "2023-10-31T14:57:47.579Z"
   },
   {
    "duration": 195,
    "start_time": "2023-10-31T14:58:03.308Z"
   },
   {
    "duration": 202,
    "start_time": "2023-10-31T15:01:16.219Z"
   },
   {
    "duration": 183,
    "start_time": "2023-10-31T15:01:17.221Z"
   },
   {
    "duration": 120,
    "start_time": "2023-10-31T15:06:17.803Z"
   },
   {
    "duration": 338,
    "start_time": "2023-10-31T15:06:35.236Z"
   },
   {
    "duration": 5,
    "start_time": "2023-10-31T15:15:01.520Z"
   },
   {
    "duration": 14,
    "start_time": "2023-10-31T15:15:08.942Z"
   },
   {
    "duration": 536,
    "start_time": "2023-10-31T15:15:40.930Z"
   },
   {
    "duration": 103,
    "start_time": "2023-10-31T15:16:02.201Z"
   },
   {
    "duration": 124,
    "start_time": "2023-10-31T15:16:27.678Z"
   },
   {
    "duration": 105,
    "start_time": "2023-10-31T15:17:12.458Z"
   },
   {
    "duration": 423,
    "start_time": "2023-10-31T15:17:39.828Z"
   },
   {
    "duration": 337,
    "start_time": "2023-10-31T15:18:36.590Z"
   },
   {
    "duration": 229,
    "start_time": "2023-10-31T15:18:45.719Z"
   },
   {
    "duration": 255,
    "start_time": "2023-10-31T15:19:35.659Z"
   },
   {
    "duration": 377,
    "start_time": "2023-10-31T15:19:42.324Z"
   },
   {
    "duration": 239,
    "start_time": "2023-10-31T15:20:54.873Z"
   },
   {
    "duration": 105,
    "start_time": "2023-10-31T15:21:02.258Z"
   },
   {
    "duration": 237,
    "start_time": "2023-10-31T15:21:08.138Z"
   },
   {
    "duration": 271,
    "start_time": "2023-10-31T15:21:26.734Z"
   },
   {
    "duration": 263,
    "start_time": "2023-10-31T15:21:34.464Z"
   },
   {
    "duration": 259,
    "start_time": "2023-10-31T15:21:43.530Z"
   },
   {
    "duration": 271,
    "start_time": "2023-10-31T15:24:48.105Z"
   },
   {
    "duration": 484,
    "start_time": "2023-10-31T15:25:13.754Z"
   },
   {
    "duration": 265,
    "start_time": "2023-10-31T15:25:38.402Z"
   },
   {
    "duration": 299,
    "start_time": "2023-10-31T15:27:55.021Z"
   },
   {
    "duration": 270,
    "start_time": "2023-10-31T15:27:57.503Z"
   },
   {
    "duration": 3,
    "start_time": "2023-10-31T15:28:02.790Z"
   },
   {
    "duration": 24,
    "start_time": "2023-10-31T15:28:02.795Z"
   },
   {
    "duration": 82,
    "start_time": "2023-10-31T15:28:02.821Z"
   },
   {
    "duration": 3,
    "start_time": "2023-10-31T15:28:02.904Z"
   },
   {
    "duration": 99,
    "start_time": "2023-10-31T15:28:02.908Z"
   },
   {
    "duration": 310,
    "start_time": "2023-10-31T15:28:03.009Z"
   },
   {
    "duration": 426,
    "start_time": "2023-10-31T15:28:03.321Z"
   },
   {
    "duration": 9,
    "start_time": "2023-10-31T15:28:03.748Z"
   },
   {
    "duration": 25,
    "start_time": "2023-10-31T15:28:03.758Z"
   },
   {
    "duration": 21,
    "start_time": "2023-10-31T15:28:03.785Z"
   },
   {
    "duration": 31,
    "start_time": "2023-10-31T15:28:03.809Z"
   },
   {
    "duration": 11,
    "start_time": "2023-10-31T15:28:03.842Z"
   },
   {
    "duration": 5,
    "start_time": "2023-10-31T15:28:03.855Z"
   },
   {
    "duration": 27,
    "start_time": "2023-10-31T15:28:03.861Z"
   },
   {
    "duration": 24,
    "start_time": "2023-10-31T15:28:03.889Z"
   },
   {
    "duration": 169,
    "start_time": "2023-10-31T15:28:03.914Z"
   },
   {
    "duration": 16,
    "start_time": "2023-10-31T15:28:04.085Z"
   },
   {
    "duration": 18,
    "start_time": "2023-10-31T15:28:04.103Z"
   },
   {
    "duration": 40,
    "start_time": "2023-10-31T15:28:04.123Z"
   },
   {
    "duration": 43,
    "start_time": "2023-10-31T15:28:04.165Z"
   },
   {
    "duration": 23,
    "start_time": "2023-10-31T15:28:04.210Z"
   },
   {
    "duration": 172,
    "start_time": "2023-10-31T15:28:04.235Z"
   },
   {
    "duration": 94,
    "start_time": "2023-10-31T15:28:04.408Z"
   },
   {
    "duration": 181,
    "start_time": "2023-10-31T15:28:04.503Z"
   },
   {
    "duration": 240,
    "start_time": "2023-10-31T15:28:04.686Z"
   },
   {
    "duration": 8,
    "start_time": "2023-10-31T15:28:04.927Z"
   },
   {
    "duration": 322,
    "start_time": "2023-10-31T15:28:04.944Z"
   },
   {
    "duration": 332,
    "start_time": "2023-10-31T15:28:05.268Z"
   },
   {
    "duration": 14,
    "start_time": "2023-10-31T15:28:05.605Z"
   },
   {
    "duration": 8,
    "start_time": "2023-10-31T15:28:05.620Z"
   },
   {
    "duration": 19,
    "start_time": "2023-10-31T15:28:05.629Z"
   },
   {
    "duration": 314,
    "start_time": "2023-10-31T15:28:05.649Z"
   },
   {
    "duration": 20,
    "start_time": "2023-10-31T15:28:05.964Z"
   },
   {
    "duration": 11,
    "start_time": "2023-10-31T15:28:05.986Z"
   },
   {
    "duration": 15,
    "start_time": "2023-10-31T15:28:05.998Z"
   },
   {
    "duration": 31,
    "start_time": "2023-10-31T15:28:06.014Z"
   },
   {
    "duration": 33,
    "start_time": "2023-10-31T15:28:06.046Z"
   },
   {
    "duration": 16,
    "start_time": "2023-10-31T15:28:06.080Z"
   },
   {
    "duration": 418,
    "start_time": "2023-10-31T15:28:06.097Z"
   },
   {
    "duration": 10,
    "start_time": "2023-10-31T15:28:06.517Z"
   },
   {
    "duration": 21,
    "start_time": "2023-10-31T15:28:06.528Z"
   },
   {
    "duration": 873,
    "start_time": "2023-10-31T15:28:06.551Z"
   },
   {
    "duration": 19,
    "start_time": "2023-10-31T15:28:07.425Z"
   },
   {
    "duration": 10,
    "start_time": "2023-10-31T15:28:07.446Z"
   },
   {
    "duration": 21,
    "start_time": "2023-10-31T15:28:07.457Z"
   },
   {
    "duration": 20,
    "start_time": "2023-10-31T15:28:07.480Z"
   },
   {
    "duration": 24,
    "start_time": "2023-10-31T15:28:07.502Z"
   },
   {
    "duration": 13,
    "start_time": "2023-10-31T15:28:07.528Z"
   },
   {
    "duration": 28,
    "start_time": "2023-10-31T15:28:07.543Z"
   },
   {
    "duration": 18,
    "start_time": "2023-10-31T15:28:07.572Z"
   },
   {
    "duration": 32,
    "start_time": "2023-10-31T15:28:07.592Z"
   },
   {
    "duration": 24,
    "start_time": "2023-10-31T15:28:07.626Z"
   },
   {
    "duration": 19,
    "start_time": "2023-10-31T15:28:07.652Z"
   },
   {
    "duration": 37,
    "start_time": "2023-10-31T15:28:07.673Z"
   },
   {
    "duration": 1262,
    "start_time": "2023-10-31T15:28:07.711Z"
   },
   {
    "duration": 10,
    "start_time": "2023-10-31T15:28:08.975Z"
   },
   {
    "duration": 6,
    "start_time": "2023-10-31T15:28:08.986Z"
   },
   {
    "duration": 400,
    "start_time": "2023-10-31T15:28:08.994Z"
   },
   {
    "duration": 10,
    "start_time": "2023-10-31T15:28:09.396Z"
   },
   {
    "duration": 8,
    "start_time": "2023-10-31T15:28:09.407Z"
   },
   {
    "duration": 30,
    "start_time": "2023-10-31T15:28:09.417Z"
   },
   {
    "duration": 207,
    "start_time": "2023-10-31T15:28:09.449Z"
   },
   {
    "duration": 4,
    "start_time": "2023-10-31T15:28:09.658Z"
   },
   {
    "duration": 272,
    "start_time": "2023-10-31T15:33:50.392Z"
   },
   {
    "duration": 267,
    "start_time": "2023-10-31T15:34:56.596Z"
   },
   {
    "duration": 269,
    "start_time": "2023-10-31T15:35:05.067Z"
   },
   {
    "duration": 188,
    "start_time": "2023-10-31T15:35:20.077Z"
   },
   {
    "duration": 447,
    "start_time": "2023-10-31T15:35:27.816Z"
   },
   {
    "duration": 287,
    "start_time": "2023-10-31T15:35:54.437Z"
   },
   {
    "duration": 273,
    "start_time": "2023-10-31T15:36:04.620Z"
   },
   {
    "duration": 275,
    "start_time": "2023-10-31T15:36:11.333Z"
   },
   {
    "duration": 160,
    "start_time": "2023-10-31T15:44:01.933Z"
   },
   {
    "duration": 303,
    "start_time": "2023-10-31T15:44:12.168Z"
   },
   {
    "duration": 301,
    "start_time": "2023-10-31T15:44:17.425Z"
   },
   {
    "duration": 420,
    "start_time": "2023-10-31T15:45:11.116Z"
   },
   {
    "duration": 306,
    "start_time": "2023-10-31T15:46:07.580Z"
   },
   {
    "duration": 270,
    "start_time": "2023-10-31T15:46:25.185Z"
   },
   {
    "duration": 266,
    "start_time": "2023-10-31T15:47:22.169Z"
   },
   {
    "duration": 20,
    "start_time": "2023-10-31T15:52:02.182Z"
   },
   {
    "duration": 10,
    "start_time": "2023-10-31T15:52:20.732Z"
   },
   {
    "duration": 308,
    "start_time": "2023-10-31T15:52:51.054Z"
   },
   {
    "duration": 303,
    "start_time": "2023-10-31T15:53:03.353Z"
   },
   {
    "duration": 420,
    "start_time": "2023-10-31T15:53:33.470Z"
   },
   {
    "duration": 291,
    "start_time": "2023-10-31T15:53:40.541Z"
   },
   {
    "duration": 278,
    "start_time": "2023-10-31T15:53:45.303Z"
   },
   {
    "duration": 288,
    "start_time": "2023-10-31T15:53:47.000Z"
   },
   {
    "duration": 38,
    "start_time": "2023-10-31T15:54:01.013Z"
   },
   {
    "duration": 21,
    "start_time": "2023-10-31T15:54:20.718Z"
   },
   {
    "duration": 21,
    "start_time": "2023-10-31T15:54:54.287Z"
   },
   {
    "duration": 20,
    "start_time": "2023-10-31T15:54:55.648Z"
   },
   {
    "duration": 8,
    "start_time": "2023-10-31T16:16:49.681Z"
   },
   {
    "duration": 48,
    "start_time": "2023-10-31T19:45:52.715Z"
   },
   {
    "duration": 8,
    "start_time": "2023-10-31T19:45:55.576Z"
   },
   {
    "duration": 1330,
    "start_time": "2023-10-31T19:46:01.844Z"
   },
   {
    "duration": 3,
    "start_time": "2023-10-31T19:46:03.176Z"
   },
   {
    "duration": 358,
    "start_time": "2023-10-31T19:46:03.181Z"
   },
   {
    "duration": 2,
    "start_time": "2023-10-31T19:46:03.541Z"
   },
   {
    "duration": 101,
    "start_time": "2023-10-31T19:46:03.545Z"
   },
   {
    "duration": 303,
    "start_time": "2023-10-31T19:46:03.648Z"
   },
   {
    "duration": 531,
    "start_time": "2023-10-31T19:46:03.952Z"
   },
   {
    "duration": 9,
    "start_time": "2023-10-31T19:46:04.484Z"
   },
   {
    "duration": 25,
    "start_time": "2023-10-31T19:46:04.495Z"
   },
   {
    "duration": 27,
    "start_time": "2023-10-31T19:46:04.523Z"
   },
   {
    "duration": 53,
    "start_time": "2023-10-31T19:46:04.552Z"
   },
   {
    "duration": 22,
    "start_time": "2023-10-31T19:46:04.607Z"
   },
   {
    "duration": 28,
    "start_time": "2023-10-31T19:46:04.631Z"
   },
   {
    "duration": 46,
    "start_time": "2023-10-31T19:46:04.662Z"
   },
   {
    "duration": 24,
    "start_time": "2023-10-31T19:46:04.709Z"
   },
   {
    "duration": 42,
    "start_time": "2023-10-31T19:46:04.735Z"
   },
   {
    "duration": 10,
    "start_time": "2023-10-31T19:46:04.778Z"
   },
   {
    "duration": 29,
    "start_time": "2023-10-31T19:46:04.789Z"
   },
   {
    "duration": 13,
    "start_time": "2023-10-31T19:46:04.819Z"
   },
   {
    "duration": 24,
    "start_time": "2023-10-31T19:46:04.834Z"
   },
   {
    "duration": 20,
    "start_time": "2023-10-31T19:46:04.859Z"
   },
   {
    "duration": 177,
    "start_time": "2023-10-31T19:46:04.881Z"
   },
   {
    "duration": 98,
    "start_time": "2023-10-31T19:46:05.061Z"
   },
   {
    "duration": 195,
    "start_time": "2023-10-31T19:46:05.161Z"
   },
   {
    "duration": 246,
    "start_time": "2023-10-31T19:46:05.358Z"
   },
   {
    "duration": 8,
    "start_time": "2023-10-31T19:46:05.606Z"
   },
   {
    "duration": 423,
    "start_time": "2023-10-31T19:46:05.615Z"
   },
   {
    "duration": 342,
    "start_time": "2023-10-31T19:46:06.045Z"
   },
   {
    "duration": 15,
    "start_time": "2023-10-31T19:46:06.389Z"
   },
   {
    "duration": 30,
    "start_time": "2023-10-31T19:46:06.405Z"
   },
   {
    "duration": 32,
    "start_time": "2023-10-31T19:46:06.436Z"
   },
   {
    "duration": 346,
    "start_time": "2023-10-31T19:46:06.470Z"
   },
   {
    "duration": 32,
    "start_time": "2023-10-31T19:46:06.818Z"
   },
   {
    "duration": 12,
    "start_time": "2023-10-31T19:46:06.852Z"
   },
   {
    "duration": 12,
    "start_time": "2023-10-31T19:46:06.865Z"
   },
   {
    "duration": 10,
    "start_time": "2023-10-31T19:46:06.879Z"
   },
   {
    "duration": 11,
    "start_time": "2023-10-31T19:46:06.890Z"
   },
   {
    "duration": 45,
    "start_time": "2023-10-31T19:46:06.902Z"
   },
   {
    "duration": 290,
    "start_time": "2023-10-31T19:46:06.950Z"
   },
   {
    "duration": 297,
    "start_time": "2023-10-31T19:46:35.805Z"
   },
   {
    "duration": 72,
    "start_time": "2023-10-31T20:03:23.614Z"
   },
   {
    "duration": 3,
    "start_time": "2023-10-31T20:03:27.664Z"
   },
   {
    "duration": 20,
    "start_time": "2023-10-31T20:03:27.669Z"
   },
   {
    "duration": 107,
    "start_time": "2023-10-31T20:03:27.691Z"
   },
   {
    "duration": 3,
    "start_time": "2023-10-31T20:03:27.800Z"
   },
   {
    "duration": 166,
    "start_time": "2023-10-31T20:03:27.806Z"
   },
   {
    "duration": 347,
    "start_time": "2023-10-31T20:03:27.973Z"
   },
   {
    "duration": 597,
    "start_time": "2023-10-31T20:03:28.322Z"
   },
   {
    "duration": 8,
    "start_time": "2023-10-31T20:03:28.922Z"
   },
   {
    "duration": 31,
    "start_time": "2023-10-31T20:03:28.932Z"
   },
   {
    "duration": 7,
    "start_time": "2023-10-31T20:03:28.965Z"
   },
   {
    "duration": 32,
    "start_time": "2023-10-31T20:03:28.975Z"
   },
   {
    "duration": 8,
    "start_time": "2023-10-31T20:03:29.008Z"
   },
   {
    "duration": 45,
    "start_time": "2023-10-31T20:03:29.017Z"
   },
   {
    "duration": 17,
    "start_time": "2023-10-31T20:03:29.064Z"
   },
   {
    "duration": 31,
    "start_time": "2023-10-31T20:03:29.084Z"
   },
   {
    "duration": 46,
    "start_time": "2023-10-31T20:03:29.116Z"
   },
   {
    "duration": 17,
    "start_time": "2023-10-31T20:03:29.164Z"
   },
   {
    "duration": 8,
    "start_time": "2023-10-31T20:03:29.183Z"
   },
   {
    "duration": 9,
    "start_time": "2023-10-31T20:03:29.193Z"
   },
   {
    "duration": 12,
    "start_time": "2023-10-31T20:03:29.203Z"
   },
   {
    "duration": 7,
    "start_time": "2023-10-31T20:03:29.216Z"
   },
   {
    "duration": 193,
    "start_time": "2023-10-31T20:03:29.225Z"
   },
   {
    "duration": 109,
    "start_time": "2023-10-31T20:03:29.420Z"
   },
   {
    "duration": 232,
    "start_time": "2023-10-31T20:03:29.530Z"
   },
   {
    "duration": 303,
    "start_time": "2023-10-31T20:03:29.764Z"
   },
   {
    "duration": 10,
    "start_time": "2023-10-31T20:03:30.082Z"
   },
   {
    "duration": 437,
    "start_time": "2023-10-31T20:03:30.093Z"
   },
   {
    "duration": 370,
    "start_time": "2023-10-31T20:03:30.533Z"
   },
   {
    "duration": 16,
    "start_time": "2023-10-31T20:03:30.909Z"
   },
   {
    "duration": 44,
    "start_time": "2023-10-31T20:03:30.927Z"
   },
   {
    "duration": 52,
    "start_time": "2023-10-31T20:03:30.973Z"
   },
   {
    "duration": 585,
    "start_time": "2023-10-31T20:03:31.027Z"
   },
   {
    "duration": 41,
    "start_time": "2023-10-31T20:03:31.614Z"
   },
   {
    "duration": 15,
    "start_time": "2023-10-31T20:03:31.657Z"
   },
   {
    "duration": 90,
    "start_time": "2023-10-31T20:03:31.674Z"
   },
   {
    "duration": 49,
    "start_time": "2023-10-31T20:03:31.766Z"
   },
   {
    "duration": 92,
    "start_time": "2023-10-31T20:03:31.816Z"
   },
   {
    "duration": 32,
    "start_time": "2023-10-31T20:03:31.910Z"
   },
   {
    "duration": 359,
    "start_time": "2023-10-31T20:03:31.949Z"
   },
   {
    "duration": 352,
    "start_time": "2023-10-31T20:03:32.310Z"
   },
   {
    "duration": 22,
    "start_time": "2023-10-31T20:03:32.664Z"
   },
   {
    "duration": 72,
    "start_time": "2023-10-31T20:03:32.688Z"
   },
   {
    "duration": 11,
    "start_time": "2023-10-31T20:03:32.762Z"
   },
   {
    "duration": 9,
    "start_time": "2023-10-31T20:03:32.774Z"
   },
   {
    "duration": 987,
    "start_time": "2023-10-31T20:03:32.785Z"
   },
   {
    "duration": 13,
    "start_time": "2023-10-31T20:03:33.774Z"
   },
   {
    "duration": 9,
    "start_time": "2023-10-31T20:03:33.789Z"
   },
   {
    "duration": 14,
    "start_time": "2023-10-31T20:03:33.799Z"
   },
   {
    "duration": 13,
    "start_time": "2023-10-31T20:03:33.814Z"
   },
   {
    "duration": 15,
    "start_time": "2023-10-31T20:03:33.849Z"
   },
   {
    "duration": 11,
    "start_time": "2023-10-31T20:03:33.865Z"
   },
   {
    "duration": 23,
    "start_time": "2023-10-31T20:03:33.878Z"
   },
   {
    "duration": 16,
    "start_time": "2023-10-31T20:03:33.903Z"
   },
   {
    "duration": 10,
    "start_time": "2023-10-31T20:03:33.921Z"
   },
   {
    "duration": 36,
    "start_time": "2023-10-31T20:03:33.932Z"
   },
   {
    "duration": 16,
    "start_time": "2023-10-31T20:03:33.969Z"
   },
   {
    "duration": 1520,
    "start_time": "2023-10-31T20:03:33.986Z"
   },
   {
    "duration": 14,
    "start_time": "2023-10-31T20:03:35.508Z"
   },
   {
    "duration": 24,
    "start_time": "2023-10-31T20:03:35.524Z"
   },
   {
    "duration": 445,
    "start_time": "2023-10-31T20:03:35.550Z"
   },
   {
    "duration": 8,
    "start_time": "2023-10-31T20:03:35.997Z"
   },
   {
    "duration": 36,
    "start_time": "2023-10-31T20:03:36.007Z"
   },
   {
    "duration": 14,
    "start_time": "2023-10-31T20:03:36.054Z"
   },
   {
    "duration": 329,
    "start_time": "2023-10-31T20:03:36.070Z"
   },
   {
    "duration": 5,
    "start_time": "2023-10-31T20:03:36.401Z"
   },
   {
    "duration": 102,
    "start_time": "2023-10-31T20:39:17.894Z"
   },
   {
    "duration": 1177,
    "start_time": "2023-11-01T07:15:28.677Z"
   },
   {
    "duration": 2,
    "start_time": "2023-11-01T07:15:29.856Z"
   },
   {
    "duration": 169,
    "start_time": "2023-11-01T07:15:29.859Z"
   },
   {
    "duration": 154,
    "start_time": "2023-11-01T07:15:30.030Z"
   },
   {
    "duration": 280,
    "start_time": "2023-11-01T07:15:30.186Z"
   },
   {
    "duration": 305,
    "start_time": "2023-11-01T07:15:30.468Z"
   },
   {
    "duration": 444,
    "start_time": "2023-11-01T07:15:30.774Z"
   },
   {
    "duration": 8,
    "start_time": "2023-11-01T07:15:31.220Z"
   },
   {
    "duration": 61,
    "start_time": "2023-11-01T07:15:31.229Z"
   },
   {
    "duration": 61,
    "start_time": "2023-11-01T07:15:31.293Z"
   },
   {
    "duration": 58,
    "start_time": "2023-11-01T07:15:31.356Z"
   },
   {
    "duration": 57,
    "start_time": "2023-11-01T07:15:31.416Z"
   },
   {
    "duration": 54,
    "start_time": "2023-11-01T07:15:31.475Z"
   },
   {
    "duration": 140,
    "start_time": "2023-11-01T07:15:31.531Z"
   },
   {
    "duration": 182,
    "start_time": "2023-11-01T07:15:31.673Z"
   },
   {
    "duration": 187,
    "start_time": "2023-11-01T07:15:31.857Z"
   },
   {
    "duration": 63,
    "start_time": "2023-11-01T07:15:32.046Z"
   },
   {
    "duration": 61,
    "start_time": "2023-11-01T07:15:32.111Z"
   },
   {
    "duration": 23,
    "start_time": "2023-11-01T07:15:32.173Z"
   },
   {
    "duration": 42,
    "start_time": "2023-11-01T07:15:32.198Z"
   },
   {
    "duration": 62,
    "start_time": "2023-11-01T07:15:32.242Z"
   },
   {
    "duration": 182,
    "start_time": "2023-11-01T07:15:32.306Z"
   },
   {
    "duration": 93,
    "start_time": "2023-11-01T07:15:32.490Z"
   },
   {
    "duration": 173,
    "start_time": "2023-11-01T07:15:32.584Z"
   },
   {
    "duration": 243,
    "start_time": "2023-11-01T07:15:32.758Z"
   },
   {
    "duration": 8,
    "start_time": "2023-11-01T07:15:33.003Z"
   },
   {
    "duration": 416,
    "start_time": "2023-11-01T07:15:33.013Z"
   },
   {
    "duration": 342,
    "start_time": "2023-11-01T07:15:33.433Z"
   },
   {
    "duration": 20,
    "start_time": "2023-11-01T07:15:33.778Z"
   },
   {
    "duration": 57,
    "start_time": "2023-11-01T07:15:33.800Z"
   },
   {
    "duration": 50,
    "start_time": "2023-11-01T07:15:33.859Z"
   },
   {
    "duration": 329,
    "start_time": "2023-11-01T07:15:33.911Z"
   },
   {
    "duration": 22,
    "start_time": "2023-11-01T07:15:34.244Z"
   },
   {
    "duration": 52,
    "start_time": "2023-11-01T07:15:34.267Z"
   },
   {
    "duration": 17,
    "start_time": "2023-11-01T07:15:34.321Z"
   },
   {
    "duration": 33,
    "start_time": "2023-11-01T07:15:34.340Z"
   },
   {
    "duration": 66,
    "start_time": "2023-11-01T07:15:34.375Z"
   },
   {
    "duration": 29,
    "start_time": "2023-11-01T07:15:34.443Z"
   },
   {
    "duration": 372,
    "start_time": "2023-11-01T07:15:34.474Z"
   },
   {
    "duration": 328,
    "start_time": "2023-11-01T07:15:34.848Z"
   },
   {
    "duration": 20,
    "start_time": "2023-11-01T07:15:35.178Z"
   },
   {
    "duration": 21,
    "start_time": "2023-11-01T07:15:35.199Z"
   },
   {
    "duration": 31,
    "start_time": "2023-11-01T07:15:35.221Z"
   },
   {
    "duration": 221,
    "start_time": "2023-11-01T07:15:35.254Z"
   },
   {
    "duration": 877,
    "start_time": "2023-11-01T07:15:35.477Z"
   },
   {
    "duration": 13,
    "start_time": "2023-11-01T07:15:36.357Z"
   },
   {
    "duration": 19,
    "start_time": "2023-11-01T07:15:36.372Z"
   },
   {
    "duration": 36,
    "start_time": "2023-11-01T07:15:36.392Z"
   },
   {
    "duration": 18,
    "start_time": "2023-11-01T07:15:36.430Z"
   },
   {
    "duration": 12,
    "start_time": "2023-11-01T07:15:36.450Z"
   },
   {
    "duration": 21,
    "start_time": "2023-11-01T07:15:36.464Z"
   },
   {
    "duration": 111,
    "start_time": "2023-11-01T07:15:36.487Z"
   },
   {
    "duration": 11,
    "start_time": "2023-11-01T07:15:36.600Z"
   },
   {
    "duration": 29,
    "start_time": "2023-11-01T07:15:36.613Z"
   },
   {
    "duration": 22,
    "start_time": "2023-11-01T07:15:36.644Z"
   },
   {
    "duration": 23,
    "start_time": "2023-11-01T07:15:36.668Z"
   },
   {
    "duration": 1303,
    "start_time": "2023-11-01T07:15:36.692Z"
   },
   {
    "duration": 11,
    "start_time": "2023-11-01T07:15:37.997Z"
   },
   {
    "duration": 24,
    "start_time": "2023-11-01T07:15:38.009Z"
   },
   {
    "duration": 405,
    "start_time": "2023-11-01T07:15:38.035Z"
   },
   {
    "duration": 7,
    "start_time": "2023-11-01T07:15:38.443Z"
   },
   {
    "duration": 8,
    "start_time": "2023-11-01T07:15:38.452Z"
   },
   {
    "duration": 16,
    "start_time": "2023-11-01T07:15:38.462Z"
   },
   {
    "duration": 213,
    "start_time": "2023-11-01T07:15:38.480Z"
   },
   {
    "duration": 5,
    "start_time": "2023-11-01T07:15:38.694Z"
   },
   {
    "duration": 1199,
    "start_time": "2023-11-01T07:22:25.433Z"
   },
   {
    "duration": 3,
    "start_time": "2023-11-01T07:22:26.633Z"
   },
   {
    "duration": 74,
    "start_time": "2023-11-01T07:22:26.643Z"
   },
   {
    "duration": 3,
    "start_time": "2023-11-01T07:22:26.719Z"
   },
   {
    "duration": 94,
    "start_time": "2023-11-01T07:22:26.723Z"
   },
   {
    "duration": 331,
    "start_time": "2023-11-01T07:22:26.819Z"
   },
   {
    "duration": 435,
    "start_time": "2023-11-01T07:22:27.152Z"
   },
   {
    "duration": 10,
    "start_time": "2023-11-01T07:22:27.588Z"
   },
   {
    "duration": 8,
    "start_time": "2023-11-01T07:22:27.599Z"
   },
   {
    "duration": 21,
    "start_time": "2023-11-01T07:22:27.610Z"
   },
   {
    "duration": 12,
    "start_time": "2023-11-01T07:22:27.632Z"
   },
   {
    "duration": 9,
    "start_time": "2023-11-01T07:22:27.645Z"
   },
   {
    "duration": 5,
    "start_time": "2023-11-01T07:22:27.656Z"
   },
   {
    "duration": 11,
    "start_time": "2023-11-01T07:22:27.662Z"
   },
   {
    "duration": 16,
    "start_time": "2023-11-01T07:22:27.675Z"
   },
   {
    "duration": 60,
    "start_time": "2023-11-01T07:22:27.692Z"
   },
   {
    "duration": 9,
    "start_time": "2023-11-01T07:22:27.754Z"
   },
   {
    "duration": 18,
    "start_time": "2023-11-01T07:22:27.764Z"
   },
   {
    "duration": 22,
    "start_time": "2023-11-01T07:22:27.783Z"
   },
   {
    "duration": 11,
    "start_time": "2023-11-01T07:22:27.807Z"
   },
   {
    "duration": 10,
    "start_time": "2023-11-01T07:22:27.820Z"
   },
   {
    "duration": 149,
    "start_time": "2023-11-01T07:22:27.831Z"
   },
   {
    "duration": 107,
    "start_time": "2023-11-01T07:22:27.981Z"
   },
   {
    "duration": 185,
    "start_time": "2023-11-01T07:22:28.089Z"
   },
   {
    "duration": 241,
    "start_time": "2023-11-01T07:22:28.275Z"
   },
   {
    "duration": 8,
    "start_time": "2023-11-01T07:22:28.518Z"
   },
   {
    "duration": 393,
    "start_time": "2023-11-01T07:22:28.528Z"
   },
   {
    "duration": 332,
    "start_time": "2023-11-01T07:22:28.925Z"
   },
   {
    "duration": 18,
    "start_time": "2023-11-01T07:22:29.258Z"
   },
   {
    "duration": 8,
    "start_time": "2023-11-01T07:22:29.278Z"
   },
   {
    "duration": 18,
    "start_time": "2023-11-01T07:22:29.288Z"
   },
   {
    "duration": 349,
    "start_time": "2023-11-01T07:22:29.308Z"
   },
   {
    "duration": 21,
    "start_time": "2023-11-01T07:22:29.658Z"
   },
   {
    "duration": 14,
    "start_time": "2023-11-01T07:22:29.681Z"
   },
   {
    "duration": 21,
    "start_time": "2023-11-01T07:22:29.697Z"
   },
   {
    "duration": 29,
    "start_time": "2023-11-01T07:22:29.719Z"
   },
   {
    "duration": 50,
    "start_time": "2023-11-01T07:22:29.749Z"
   },
   {
    "duration": 40,
    "start_time": "2023-11-01T07:22:29.800Z"
   },
   {
    "duration": 311,
    "start_time": "2023-11-01T07:22:29.841Z"
   },
   {
    "duration": 311,
    "start_time": "2023-11-01T07:22:30.154Z"
   },
   {
    "duration": 20,
    "start_time": "2023-11-01T07:22:30.467Z"
   },
   {
    "duration": 42,
    "start_time": "2023-11-01T07:22:30.488Z"
   },
   {
    "duration": 38,
    "start_time": "2023-11-01T07:22:30.532Z"
   },
   {
    "duration": 139,
    "start_time": "2023-11-01T07:22:30.571Z"
   },
   {
    "duration": 925,
    "start_time": "2023-11-01T07:22:30.711Z"
   },
   {
    "duration": 15,
    "start_time": "2023-11-01T07:22:31.638Z"
   },
   {
    "duration": 112,
    "start_time": "2023-11-01T07:22:31.654Z"
   },
   {
    "duration": 90,
    "start_time": "2023-11-01T07:22:31.768Z"
   },
   {
    "duration": 127,
    "start_time": "2023-11-01T07:22:31.859Z"
   },
   {
    "duration": 49,
    "start_time": "2023-11-01T07:22:31.987Z"
   },
   {
    "duration": 35,
    "start_time": "2023-11-01T07:22:32.038Z"
   },
   {
    "duration": 118,
    "start_time": "2023-11-01T07:22:32.075Z"
   },
   {
    "duration": 12,
    "start_time": "2023-11-01T07:22:32.194Z"
   },
   {
    "duration": 45,
    "start_time": "2023-11-01T07:22:32.207Z"
   },
   {
    "duration": 33,
    "start_time": "2023-11-01T07:22:32.253Z"
   },
   {
    "duration": 23,
    "start_time": "2023-11-01T07:22:32.288Z"
   },
   {
    "duration": 1357,
    "start_time": "2023-11-01T07:22:32.313Z"
   },
   {
    "duration": 12,
    "start_time": "2023-11-01T07:22:33.672Z"
   },
   {
    "duration": 30,
    "start_time": "2023-11-01T07:22:33.686Z"
   },
   {
    "duration": 431,
    "start_time": "2023-11-01T07:22:33.718Z"
   },
   {
    "duration": 8,
    "start_time": "2023-11-01T07:22:34.150Z"
   },
   {
    "duration": 19,
    "start_time": "2023-11-01T07:22:34.160Z"
   },
   {
    "duration": 21,
    "start_time": "2023-11-01T07:22:34.181Z"
   },
   {
    "duration": 230,
    "start_time": "2023-11-01T07:22:34.204Z"
   },
   {
    "duration": 9,
    "start_time": "2023-11-01T07:22:34.436Z"
   },
   {
    "duration": 128,
    "start_time": "2023-11-01T09:47:21.879Z"
   },
   {
    "duration": 42,
    "start_time": "2023-11-01T09:48:38.745Z"
   },
   {
    "duration": 1296,
    "start_time": "2023-11-01T09:48:46.093Z"
   },
   {
    "duration": 2,
    "start_time": "2023-11-01T09:48:47.391Z"
   },
   {
    "duration": 531,
    "start_time": "2023-11-01T09:48:47.395Z"
   },
   {
    "duration": 2,
    "start_time": "2023-11-01T09:48:47.929Z"
   },
   {
    "duration": 97,
    "start_time": "2023-11-01T09:48:47.932Z"
   },
   {
    "duration": 302,
    "start_time": "2023-11-01T09:48:48.031Z"
   },
   {
    "duration": 438,
    "start_time": "2023-11-01T09:48:48.335Z"
   },
   {
    "duration": 8,
    "start_time": "2023-11-01T09:48:48.775Z"
   },
   {
    "duration": 8,
    "start_time": "2023-11-01T09:48:48.786Z"
   },
   {
    "duration": 6,
    "start_time": "2023-11-01T09:48:48.798Z"
   },
   {
    "duration": 6,
    "start_time": "2023-11-01T09:48:48.806Z"
   },
   {
    "duration": 32,
    "start_time": "2023-11-01T09:48:48.814Z"
   },
   {
    "duration": 4,
    "start_time": "2023-11-01T09:48:48.848Z"
   },
   {
    "duration": 9,
    "start_time": "2023-11-01T09:48:48.854Z"
   },
   {
    "duration": 15,
    "start_time": "2023-11-01T09:48:48.866Z"
   },
   {
    "duration": 69,
    "start_time": "2023-11-01T09:48:48.882Z"
   },
   {
    "duration": 9,
    "start_time": "2023-11-01T09:48:48.953Z"
   },
   {
    "duration": 10,
    "start_time": "2023-11-01T09:48:48.964Z"
   },
   {
    "duration": 5,
    "start_time": "2023-11-01T09:48:48.975Z"
   },
   {
    "duration": 8,
    "start_time": "2023-11-01T09:48:48.982Z"
   },
   {
    "duration": 10,
    "start_time": "2023-11-01T09:48:48.992Z"
   },
   {
    "duration": 174,
    "start_time": "2023-11-01T09:48:49.003Z"
   },
   {
    "duration": 101,
    "start_time": "2023-11-01T09:48:49.178Z"
   },
   {
    "duration": 181,
    "start_time": "2023-11-01T09:48:49.281Z"
   },
   {
    "duration": 238,
    "start_time": "2023-11-01T09:48:49.463Z"
   },
   {
    "duration": 8,
    "start_time": "2023-11-01T09:48:49.703Z"
   },
   {
    "duration": 399,
    "start_time": "2023-11-01T09:48:49.713Z"
   },
   {
    "duration": 313,
    "start_time": "2023-11-01T09:48:50.116Z"
   },
   {
    "duration": 19,
    "start_time": "2023-11-01T09:48:50.431Z"
   },
   {
    "duration": 8,
    "start_time": "2023-11-01T09:48:50.452Z"
   },
   {
    "duration": 24,
    "start_time": "2023-11-01T09:48:50.461Z"
   },
   {
    "duration": 333,
    "start_time": "2023-11-01T09:48:50.487Z"
   },
   {
    "duration": 31,
    "start_time": "2023-11-01T09:48:50.821Z"
   },
   {
    "duration": 9,
    "start_time": "2023-11-01T09:49:24.626Z"
   },
   {
    "duration": 8,
    "start_time": "2023-11-01T09:49:45.972Z"
   },
   {
    "duration": 16,
    "start_time": "2023-11-01T09:49:57.995Z"
   },
   {
    "duration": 10,
    "start_time": "2023-11-01T09:51:10.285Z"
   },
   {
    "duration": 21,
    "start_time": "2023-11-01T09:51:22.912Z"
   },
   {
    "duration": 7,
    "start_time": "2023-11-01T09:52:00.829Z"
   },
   {
    "duration": 20,
    "start_time": "2023-11-01T09:53:49.380Z"
   },
   {
    "duration": 28,
    "start_time": "2023-11-01T09:57:35.094Z"
   },
   {
    "duration": 33,
    "start_time": "2023-11-01T09:57:55.325Z"
   },
   {
    "duration": 30,
    "start_time": "2023-11-01T09:58:08.993Z"
   },
   {
    "duration": 33,
    "start_time": "2023-11-01T09:58:15.141Z"
   },
   {
    "duration": 2,
    "start_time": "2023-11-01T09:58:24.965Z"
   },
   {
    "duration": 6,
    "start_time": "2023-11-01T09:58:24.969Z"
   },
   {
    "duration": 71,
    "start_time": "2023-11-01T09:58:24.977Z"
   },
   {
    "duration": 2,
    "start_time": "2023-11-01T09:58:25.050Z"
   },
   {
    "duration": 139,
    "start_time": "2023-11-01T09:58:25.055Z"
   },
   {
    "duration": 317,
    "start_time": "2023-11-01T09:58:25.195Z"
   },
   {
    "duration": 421,
    "start_time": "2023-11-01T09:58:25.514Z"
   },
   {
    "duration": 11,
    "start_time": "2023-11-01T09:58:25.937Z"
   },
   {
    "duration": 8,
    "start_time": "2023-11-01T09:58:25.950Z"
   },
   {
    "duration": 6,
    "start_time": "2023-11-01T09:58:25.960Z"
   },
   {
    "duration": 6,
    "start_time": "2023-11-01T09:58:25.968Z"
   },
   {
    "duration": 6,
    "start_time": "2023-11-01T09:58:25.975Z"
   },
   {
    "duration": 7,
    "start_time": "2023-11-01T09:58:25.983Z"
   },
   {
    "duration": 13,
    "start_time": "2023-11-01T09:58:25.991Z"
   },
   {
    "duration": 42,
    "start_time": "2023-11-01T09:58:26.006Z"
   },
   {
    "duration": 26,
    "start_time": "2023-11-01T09:58:26.050Z"
   },
   {
    "duration": 13,
    "start_time": "2023-11-01T09:58:26.078Z"
   },
   {
    "duration": 18,
    "start_time": "2023-11-01T09:58:26.093Z"
   },
   {
    "duration": 34,
    "start_time": "2023-11-01T09:58:26.113Z"
   },
   {
    "duration": 9,
    "start_time": "2023-11-01T09:58:26.150Z"
   },
   {
    "duration": 19,
    "start_time": "2023-11-01T09:58:26.161Z"
   },
   {
    "duration": 204,
    "start_time": "2023-11-01T09:58:26.182Z"
   },
   {
    "duration": 186,
    "start_time": "2023-11-01T09:58:26.387Z"
   },
   {
    "duration": 201,
    "start_time": "2023-11-01T09:58:26.575Z"
   },
   {
    "duration": 253,
    "start_time": "2023-11-01T09:58:26.777Z"
   },
   {
    "duration": 19,
    "start_time": "2023-11-01T09:58:27.031Z"
   },
   {
    "duration": 337,
    "start_time": "2023-11-01T09:58:27.051Z"
   },
   {
    "duration": 313,
    "start_time": "2023-11-01T09:58:27.390Z"
   },
   {
    "duration": 20,
    "start_time": "2023-11-01T09:58:27.708Z"
   },
   {
    "duration": 20,
    "start_time": "2023-11-01T09:58:27.729Z"
   },
   {
    "duration": 13,
    "start_time": "2023-11-01T09:58:27.751Z"
   },
   {
    "duration": 333,
    "start_time": "2023-11-01T09:58:27.765Z"
   },
   {
    "duration": 22,
    "start_time": "2023-11-01T09:58:28.100Z"
   },
   {
    "duration": 21,
    "start_time": "2023-11-01T09:58:28.123Z"
   },
   {
    "duration": 21,
    "start_time": "2023-11-01T09:58:28.146Z"
   },
   {
    "duration": 15,
    "start_time": "2023-11-01T09:58:28.169Z"
   },
   {
    "duration": 10,
    "start_time": "2023-11-01T09:58:28.186Z"
   },
   {
    "duration": 21,
    "start_time": "2023-11-01T09:58:28.197Z"
   },
   {
    "duration": 28,
    "start_time": "2023-11-01T09:58:28.220Z"
   },
   {
    "duration": 17,
    "start_time": "2023-11-01T09:58:28.250Z"
   },
   {
    "duration": 306,
    "start_time": "2023-11-01T09:58:28.269Z"
   },
   {
    "duration": 389,
    "start_time": "2023-11-01T09:58:28.577Z"
   },
   {
    "duration": 31,
    "start_time": "2023-11-01T09:58:28.968Z"
   },
   {
    "duration": 52,
    "start_time": "2023-11-01T09:58:29.000Z"
   },
   {
    "duration": 13,
    "start_time": "2023-11-01T09:58:29.053Z"
   },
   {
    "duration": 9,
    "start_time": "2023-11-01T09:58:29.068Z"
   },
   {
    "duration": 835,
    "start_time": "2023-11-01T09:58:29.079Z"
   },
   {
    "duration": 12,
    "start_time": "2023-11-01T09:58:29.915Z"
   },
   {
    "duration": 24,
    "start_time": "2023-11-01T09:58:29.928Z"
   },
   {
    "duration": 16,
    "start_time": "2023-11-01T09:58:29.953Z"
   },
   {
    "duration": 14,
    "start_time": "2023-11-01T09:58:29.970Z"
   },
   {
    "duration": 14,
    "start_time": "2023-11-01T09:58:29.985Z"
   },
   {
    "duration": 114,
    "start_time": "2023-11-01T09:58:30.001Z"
   },
   {
    "duration": 93,
    "start_time": "2023-11-01T09:58:30.117Z"
   },
   {
    "duration": 49,
    "start_time": "2023-11-01T09:58:30.212Z"
   },
   {
    "duration": 74,
    "start_time": "2023-11-01T09:58:30.263Z"
   },
   {
    "duration": 42,
    "start_time": "2023-11-01T09:58:30.338Z"
   },
   {
    "duration": 63,
    "start_time": "2023-11-01T09:58:30.382Z"
   },
   {
    "duration": 1282,
    "start_time": "2023-11-01T09:58:30.447Z"
   },
   {
    "duration": 16,
    "start_time": "2023-11-01T09:58:31.730Z"
   },
   {
    "duration": 43,
    "start_time": "2023-11-01T09:58:31.748Z"
   },
   {
    "duration": 441,
    "start_time": "2023-11-01T09:58:31.793Z"
   },
   {
    "duration": 14,
    "start_time": "2023-11-01T09:58:32.236Z"
   },
   {
    "duration": 11,
    "start_time": "2023-11-01T09:58:32.252Z"
   },
   {
    "duration": 32,
    "start_time": "2023-11-01T09:58:32.264Z"
   },
   {
    "duration": 202,
    "start_time": "2023-11-01T09:58:32.298Z"
   },
   {
    "duration": 5,
    "start_time": "2023-11-01T09:58:32.502Z"
   },
   {
    "duration": 20,
    "start_time": "2023-11-01T10:00:39.137Z"
   },
   {
    "duration": 29,
    "start_time": "2023-11-01T10:00:49.937Z"
   },
   {
    "duration": 38,
    "start_time": "2023-11-01T10:00:58.510Z"
   },
   {
    "duration": 32,
    "start_time": "2023-11-01T10:02:08.497Z"
   },
   {
    "duration": 2,
    "start_time": "2023-11-01T10:02:17.246Z"
   },
   {
    "duration": 31,
    "start_time": "2023-11-01T10:02:17.250Z"
   },
   {
    "duration": 72,
    "start_time": "2023-11-01T10:02:17.283Z"
   },
   {
    "duration": 3,
    "start_time": "2023-11-01T10:02:17.357Z"
   },
   {
    "duration": 96,
    "start_time": "2023-11-01T10:02:17.362Z"
   },
   {
    "duration": 295,
    "start_time": "2023-11-01T10:02:17.460Z"
   },
   {
    "duration": 507,
    "start_time": "2023-11-01T10:02:17.757Z"
   },
   {
    "duration": 8,
    "start_time": "2023-11-01T10:02:18.266Z"
   },
   {
    "duration": 15,
    "start_time": "2023-11-01T10:02:18.276Z"
   },
   {
    "duration": 17,
    "start_time": "2023-11-01T10:02:18.293Z"
   },
   {
    "duration": 15,
    "start_time": "2023-11-01T10:02:18.313Z"
   },
   {
    "duration": 8,
    "start_time": "2023-11-01T10:02:18.330Z"
   },
   {
    "duration": 11,
    "start_time": "2023-11-01T10:02:18.340Z"
   },
   {
    "duration": 40,
    "start_time": "2023-11-01T10:02:18.352Z"
   },
   {
    "duration": 68,
    "start_time": "2023-11-01T10:02:18.394Z"
   },
   {
    "duration": 27,
    "start_time": "2023-11-01T10:02:18.463Z"
   },
   {
    "duration": 14,
    "start_time": "2023-11-01T10:02:18.492Z"
   },
   {
    "duration": 16,
    "start_time": "2023-11-01T10:02:18.508Z"
   },
   {
    "duration": 18,
    "start_time": "2023-11-01T10:02:18.526Z"
   },
   {
    "duration": 24,
    "start_time": "2023-11-01T10:02:18.546Z"
   },
   {
    "duration": 23,
    "start_time": "2023-11-01T10:02:18.572Z"
   },
   {
    "duration": 139,
    "start_time": "2023-11-01T10:02:18.597Z"
   },
   {
    "duration": 85,
    "start_time": "2023-11-01T10:02:18.738Z"
   },
   {
    "duration": 187,
    "start_time": "2023-11-01T10:02:18.824Z"
   },
   {
    "duration": 246,
    "start_time": "2023-11-01T10:02:19.013Z"
   },
   {
    "duration": 8,
    "start_time": "2023-11-01T10:02:19.260Z"
   },
   {
    "duration": 341,
    "start_time": "2023-11-01T10:02:19.270Z"
   },
   {
    "duration": 318,
    "start_time": "2023-11-01T10:02:19.613Z"
   },
   {
    "duration": 22,
    "start_time": "2023-11-01T10:02:19.935Z"
   },
   {
    "duration": 8,
    "start_time": "2023-11-01T10:02:19.959Z"
   },
   {
    "duration": 11,
    "start_time": "2023-11-01T10:02:19.969Z"
   },
   {
    "duration": 486,
    "start_time": "2023-11-01T10:02:19.982Z"
   },
   {
    "duration": 24,
    "start_time": "2023-11-01T10:02:20.469Z"
   },
   {
    "duration": 7,
    "start_time": "2023-11-01T10:02:20.494Z"
   },
   {
    "duration": 17,
    "start_time": "2023-11-01T10:02:42.626Z"
   },
   {
    "duration": 18,
    "start_time": "2023-11-01T10:04:03.811Z"
   },
   {
    "duration": 20,
    "start_time": "2023-11-01T10:04:12.868Z"
   },
   {
    "duration": 24,
    "start_time": "2023-11-01T10:05:04.734Z"
   },
   {
    "duration": 20,
    "start_time": "2023-11-01T10:05:53.573Z"
   },
   {
    "duration": 25,
    "start_time": "2023-11-01T10:06:28.465Z"
   },
   {
    "duration": 18,
    "start_time": "2023-11-01T10:06:47.139Z"
   },
   {
    "duration": 17,
    "start_time": "2023-11-01T10:06:57.309Z"
   },
   {
    "duration": 15,
    "start_time": "2023-11-01T10:07:00.610Z"
   },
   {
    "duration": 3,
    "start_time": "2023-11-01T10:07:10.768Z"
   },
   {
    "duration": 6,
    "start_time": "2023-11-01T10:07:10.773Z"
   },
   {
    "duration": 68,
    "start_time": "2023-11-01T10:07:10.781Z"
   },
   {
    "duration": 3,
    "start_time": "2023-11-01T10:07:10.851Z"
   },
   {
    "duration": 106,
    "start_time": "2023-11-01T10:07:10.856Z"
   },
   {
    "duration": 298,
    "start_time": "2023-11-01T10:07:10.964Z"
   },
   {
    "duration": 419,
    "start_time": "2023-11-01T10:07:11.263Z"
   },
   {
    "duration": 7,
    "start_time": "2023-11-01T10:07:11.684Z"
   },
   {
    "duration": 10,
    "start_time": "2023-11-01T10:07:11.692Z"
   },
   {
    "duration": 15,
    "start_time": "2023-11-01T10:07:11.704Z"
   },
   {
    "duration": 11,
    "start_time": "2023-11-01T10:07:11.722Z"
   },
   {
    "duration": 12,
    "start_time": "2023-11-01T10:07:11.735Z"
   },
   {
    "duration": 17,
    "start_time": "2023-11-01T10:07:11.749Z"
   },
   {
    "duration": 14,
    "start_time": "2023-11-01T10:07:11.767Z"
   },
   {
    "duration": 27,
    "start_time": "2023-11-01T10:07:11.782Z"
   },
   {
    "duration": 35,
    "start_time": "2023-11-01T10:07:11.810Z"
   },
   {
    "duration": 10,
    "start_time": "2023-11-01T10:07:11.846Z"
   },
   {
    "duration": 16,
    "start_time": "2023-11-01T10:07:11.858Z"
   },
   {
    "duration": 22,
    "start_time": "2023-11-01T10:07:11.876Z"
   },
   {
    "duration": 29,
    "start_time": "2023-11-01T10:07:11.899Z"
   },
   {
    "duration": 24,
    "start_time": "2023-11-01T10:07:11.930Z"
   },
   {
    "duration": 147,
    "start_time": "2023-11-01T10:07:11.955Z"
   },
   {
    "duration": 98,
    "start_time": "2023-11-01T10:07:12.104Z"
   },
   {
    "duration": 185,
    "start_time": "2023-11-01T10:07:12.203Z"
   },
   {
    "duration": 240,
    "start_time": "2023-11-01T10:07:12.390Z"
   },
   {
    "duration": 14,
    "start_time": "2023-11-01T10:07:12.631Z"
   },
   {
    "duration": 302,
    "start_time": "2023-11-01T10:07:12.646Z"
   },
   {
    "duration": 414,
    "start_time": "2023-11-01T10:07:12.950Z"
   },
   {
    "duration": 14,
    "start_time": "2023-11-01T10:07:13.367Z"
   },
   {
    "duration": 7,
    "start_time": "2023-11-01T10:07:13.383Z"
   },
   {
    "duration": 19,
    "start_time": "2023-11-01T10:07:13.392Z"
   },
   {
    "duration": 340,
    "start_time": "2023-11-01T10:07:13.413Z"
   },
   {
    "duration": 21,
    "start_time": "2023-11-01T10:07:13.754Z"
   },
   {
    "duration": 43,
    "start_time": "2023-11-01T10:07:13.776Z"
   },
   {
    "duration": 26,
    "start_time": "2023-11-01T10:07:25.582Z"
   },
   {
    "duration": 8,
    "start_time": "2023-11-01T10:07:45.477Z"
   },
   {
    "duration": 24,
    "start_time": "2023-11-01T10:08:39.098Z"
   },
   {
    "duration": 15,
    "start_time": "2023-11-01T10:09:18.158Z"
   },
   {
    "duration": 17,
    "start_time": "2023-11-01T10:09:38.119Z"
   },
   {
    "duration": 21,
    "start_time": "2023-11-01T10:09:43.717Z"
   },
   {
    "duration": 16,
    "start_time": "2023-11-01T10:09:44.210Z"
   },
   {
    "duration": 25,
    "start_time": "2023-11-01T10:12:09.063Z"
   },
   {
    "duration": 20,
    "start_time": "2023-11-01T10:13:07.222Z"
   },
   {
    "duration": 3,
    "start_time": "2023-11-01T10:13:12.995Z"
   },
   {
    "duration": 23,
    "start_time": "2023-11-01T10:13:13.005Z"
   },
   {
    "duration": 91,
    "start_time": "2023-11-01T10:13:13.029Z"
   },
   {
    "duration": 2,
    "start_time": "2023-11-01T10:13:13.122Z"
   },
   {
    "duration": 174,
    "start_time": "2023-11-01T10:13:13.126Z"
   },
   {
    "duration": 302,
    "start_time": "2023-11-01T10:13:13.302Z"
   },
   {
    "duration": 415,
    "start_time": "2023-11-01T10:13:13.605Z"
   },
   {
    "duration": 9,
    "start_time": "2023-11-01T10:13:14.022Z"
   },
   {
    "duration": 26,
    "start_time": "2023-11-01T10:13:14.043Z"
   },
   {
    "duration": 17,
    "start_time": "2023-11-01T10:13:14.070Z"
   },
   {
    "duration": 20,
    "start_time": "2023-11-01T10:13:14.089Z"
   },
   {
    "duration": 12,
    "start_time": "2023-11-01T10:13:14.112Z"
   },
   {
    "duration": 23,
    "start_time": "2023-11-01T10:13:14.126Z"
   },
   {
    "duration": 20,
    "start_time": "2023-11-01T10:13:14.151Z"
   },
   {
    "duration": 21,
    "start_time": "2023-11-01T10:13:14.175Z"
   },
   {
    "duration": 50,
    "start_time": "2023-11-01T10:13:14.199Z"
   },
   {
    "duration": 12,
    "start_time": "2023-11-01T10:13:14.251Z"
   },
   {
    "duration": 28,
    "start_time": "2023-11-01T10:13:14.265Z"
   },
   {
    "duration": 19,
    "start_time": "2023-11-01T10:13:14.295Z"
   },
   {
    "duration": 32,
    "start_time": "2023-11-01T10:13:14.317Z"
   },
   {
    "duration": 9,
    "start_time": "2023-11-01T10:13:14.350Z"
   },
   {
    "duration": 152,
    "start_time": "2023-11-01T10:13:14.361Z"
   },
   {
    "duration": 92,
    "start_time": "2023-11-01T10:13:14.515Z"
   },
   {
    "duration": 231,
    "start_time": "2023-11-01T10:13:14.608Z"
   },
   {
    "duration": 359,
    "start_time": "2023-11-01T10:13:14.844Z"
   },
   {
    "duration": 9,
    "start_time": "2023-11-01T10:13:15.204Z"
   },
   {
    "duration": 323,
    "start_time": "2023-11-01T10:13:15.214Z"
   },
   {
    "duration": 311,
    "start_time": "2023-11-01T10:13:15.538Z"
   },
   {
    "duration": 13,
    "start_time": "2023-11-01T10:13:15.850Z"
   },
   {
    "duration": 9,
    "start_time": "2023-11-01T10:13:15.865Z"
   },
   {
    "duration": 14,
    "start_time": "2023-11-01T10:13:15.875Z"
   },
   {
    "duration": 332,
    "start_time": "2023-11-01T10:13:15.891Z"
   },
   {
    "duration": 27,
    "start_time": "2023-11-01T10:13:16.224Z"
   },
   {
    "duration": 8,
    "start_time": "2023-11-01T10:13:16.253Z"
   },
   {
    "duration": 24,
    "start_time": "2023-11-01T10:13:16.263Z"
   },
   {
    "duration": 19,
    "start_time": "2023-11-01T10:13:16.289Z"
   },
   {
    "duration": 19,
    "start_time": "2023-11-01T10:13:16.310Z"
   },
   {
    "duration": 21,
    "start_time": "2023-11-01T10:13:16.330Z"
   },
   {
    "duration": 32,
    "start_time": "2023-11-01T10:13:16.353Z"
   },
   {
    "duration": 14,
    "start_time": "2023-11-01T10:13:16.387Z"
   },
   {
    "duration": 47,
    "start_time": "2023-11-01T10:13:16.403Z"
   },
   {
    "duration": 308,
    "start_time": "2023-11-01T10:13:16.456Z"
   },
   {
    "duration": 322,
    "start_time": "2023-11-01T10:13:16.766Z"
   },
   {
    "duration": 19,
    "start_time": "2023-11-01T10:13:17.090Z"
   },
   {
    "duration": 88,
    "start_time": "2023-11-01T10:13:17.111Z"
   },
   {
    "duration": 11,
    "start_time": "2023-11-01T10:13:17.201Z"
   },
   {
    "duration": 12,
    "start_time": "2023-11-01T10:13:17.214Z"
   },
   {
    "duration": 884,
    "start_time": "2023-11-01T10:13:17.228Z"
   },
   {
    "duration": 10,
    "start_time": "2023-11-01T10:13:18.113Z"
   },
   {
    "duration": 45,
    "start_time": "2023-11-01T10:13:18.125Z"
   },
   {
    "duration": 23,
    "start_time": "2023-11-01T10:13:18.172Z"
   },
   {
    "duration": 39,
    "start_time": "2023-11-01T10:13:18.196Z"
   },
   {
    "duration": 29,
    "start_time": "2023-11-01T10:13:18.237Z"
   },
   {
    "duration": 24,
    "start_time": "2023-11-01T10:13:18.267Z"
   },
   {
    "duration": 108,
    "start_time": "2023-11-01T10:13:18.293Z"
   },
   {
    "duration": 11,
    "start_time": "2023-11-01T10:13:18.403Z"
   },
   {
    "duration": 33,
    "start_time": "2023-11-01T10:13:18.416Z"
   },
   {
    "duration": 55,
    "start_time": "2023-11-01T10:13:18.451Z"
   },
   {
    "duration": 30,
    "start_time": "2023-11-01T10:13:18.508Z"
   },
   {
    "duration": 1251,
    "start_time": "2023-11-01T10:13:18.540Z"
   },
   {
    "duration": 10,
    "start_time": "2023-11-01T10:13:19.793Z"
   },
   {
    "duration": 17,
    "start_time": "2023-11-01T10:13:19.805Z"
   },
   {
    "duration": 428,
    "start_time": "2023-11-01T10:13:19.825Z"
   },
   {
    "duration": 8,
    "start_time": "2023-11-01T10:13:20.255Z"
   },
   {
    "duration": 64,
    "start_time": "2023-11-01T10:13:20.264Z"
   },
   {
    "duration": 44,
    "start_time": "2023-11-01T10:13:20.330Z"
   },
   {
    "duration": 282,
    "start_time": "2023-11-01T10:13:20.377Z"
   },
   {
    "duration": 5,
    "start_time": "2023-11-01T10:13:20.661Z"
   },
   {
    "duration": 16,
    "start_time": "2023-11-01T10:14:12.597Z"
   },
   {
    "duration": 18,
    "start_time": "2023-11-01T10:14:58.057Z"
   },
   {
    "duration": 18,
    "start_time": "2023-11-01T10:15:08.538Z"
   },
   {
    "duration": 11,
    "start_time": "2023-11-01T10:15:15.234Z"
   },
   {
    "duration": 20,
    "start_time": "2023-11-01T10:15:27.197Z"
   },
   {
    "duration": 29,
    "start_time": "2023-11-01T10:17:55.012Z"
   },
   {
    "duration": 4,
    "start_time": "2023-11-01T10:18:19.057Z"
   },
   {
    "duration": 11,
    "start_time": "2023-11-01T10:18:19.063Z"
   },
   {
    "duration": 82,
    "start_time": "2023-11-01T10:18:19.076Z"
   },
   {
    "duration": 3,
    "start_time": "2023-11-01T10:18:19.160Z"
   },
   {
    "duration": 96,
    "start_time": "2023-11-01T10:18:19.165Z"
   },
   {
    "duration": 295,
    "start_time": "2023-11-01T10:18:19.262Z"
   },
   {
    "duration": 435,
    "start_time": "2023-11-01T10:18:19.559Z"
   },
   {
    "duration": 8,
    "start_time": "2023-11-01T10:18:19.996Z"
   },
   {
    "duration": 42,
    "start_time": "2023-11-01T10:18:20.006Z"
   },
   {
    "duration": 38,
    "start_time": "2023-11-01T10:18:20.050Z"
   },
   {
    "duration": 20,
    "start_time": "2023-11-01T10:18:20.090Z"
   },
   {
    "duration": 13,
    "start_time": "2023-11-01T10:18:20.111Z"
   },
   {
    "duration": 18,
    "start_time": "2023-11-01T10:18:20.126Z"
   },
   {
    "duration": 52,
    "start_time": "2023-11-01T10:18:20.147Z"
   },
   {
    "duration": 38,
    "start_time": "2023-11-01T10:18:20.201Z"
   },
   {
    "duration": 140,
    "start_time": "2023-11-01T10:18:20.241Z"
   },
   {
    "duration": 11,
    "start_time": "2023-11-01T10:18:20.382Z"
   },
   {
    "duration": 33,
    "start_time": "2023-11-01T10:18:20.395Z"
   },
   {
    "duration": 23,
    "start_time": "2023-11-01T10:18:20.430Z"
   },
   {
    "duration": 33,
    "start_time": "2023-11-01T10:18:20.455Z"
   },
   {
    "duration": 17,
    "start_time": "2023-11-01T10:18:20.489Z"
   },
   {
    "duration": 188,
    "start_time": "2023-11-01T10:18:20.508Z"
   },
   {
    "duration": 104,
    "start_time": "2023-11-01T10:18:20.697Z"
   },
   {
    "duration": 194,
    "start_time": "2023-11-01T10:18:20.803Z"
   },
   {
    "duration": 264,
    "start_time": "2023-11-01T10:18:20.999Z"
   },
   {
    "duration": 9,
    "start_time": "2023-11-01T10:18:21.265Z"
   },
   {
    "duration": 362,
    "start_time": "2023-11-01T10:18:21.276Z"
   },
   {
    "duration": 341,
    "start_time": "2023-11-01T10:18:21.643Z"
   },
   {
    "duration": 15,
    "start_time": "2023-11-01T10:18:21.986Z"
   },
   {
    "duration": 19,
    "start_time": "2023-11-01T10:18:22.003Z"
   },
   {
    "duration": 29,
    "start_time": "2023-11-01T10:18:22.024Z"
   },
   {
    "duration": 332,
    "start_time": "2023-11-01T10:18:22.055Z"
   },
   {
    "duration": 22,
    "start_time": "2023-11-01T10:18:22.389Z"
   },
   {
    "duration": 7,
    "start_time": "2023-11-01T10:18:22.413Z"
   },
   {
    "duration": 16,
    "start_time": "2023-11-01T10:18:22.444Z"
   },
   {
    "duration": 18,
    "start_time": "2023-11-01T10:18:52.340Z"
   },
   {
    "duration": 21,
    "start_time": "2023-11-01T10:19:15.763Z"
   },
   {
    "duration": 22,
    "start_time": "2023-11-01T10:19:25.829Z"
   },
   {
    "duration": 7,
    "start_time": "2023-11-01T10:19:27.370Z"
   },
   {
    "duration": 17,
    "start_time": "2023-11-01T10:19:27.626Z"
   },
   {
    "duration": 17,
    "start_time": "2023-11-01T10:19:36.518Z"
   },
   {
    "duration": 20,
    "start_time": "2023-11-01T10:19:56.378Z"
   },
   {
    "duration": 42,
    "start_time": "2023-11-01T10:23:58.589Z"
   },
   {
    "duration": 33,
    "start_time": "2023-11-01T10:28:47.849Z"
   },
   {
    "duration": 55,
    "start_time": "2023-11-01T10:29:04.003Z"
   },
   {
    "duration": 2,
    "start_time": "2023-11-01T10:29:14.427Z"
   },
   {
    "duration": 5,
    "start_time": "2023-11-01T10:29:14.431Z"
   },
   {
    "duration": 71,
    "start_time": "2023-11-01T10:29:14.438Z"
   },
   {
    "duration": 3,
    "start_time": "2023-11-01T10:29:14.511Z"
   },
   {
    "duration": 83,
    "start_time": "2023-11-01T10:29:14.515Z"
   },
   {
    "duration": 417,
    "start_time": "2023-11-01T10:29:14.600Z"
   },
   {
    "duration": 436,
    "start_time": "2023-11-01T10:29:15.020Z"
   },
   {
    "duration": 8,
    "start_time": "2023-11-01T10:29:15.458Z"
   },
   {
    "duration": 21,
    "start_time": "2023-11-01T10:29:15.468Z"
   },
   {
    "duration": 15,
    "start_time": "2023-11-01T10:29:15.492Z"
   },
   {
    "duration": 21,
    "start_time": "2023-11-01T10:29:15.508Z"
   },
   {
    "duration": 13,
    "start_time": "2023-11-01T10:29:15.531Z"
   },
   {
    "duration": 16,
    "start_time": "2023-11-01T10:29:15.546Z"
   },
   {
    "duration": 16,
    "start_time": "2023-11-01T10:29:15.563Z"
   },
   {
    "duration": 16,
    "start_time": "2023-11-01T10:29:15.580Z"
   },
   {
    "duration": 57,
    "start_time": "2023-11-01T10:29:15.598Z"
   },
   {
    "duration": 10,
    "start_time": "2023-11-01T10:29:15.657Z"
   },
   {
    "duration": 7,
    "start_time": "2023-11-01T10:29:15.669Z"
   },
   {
    "duration": 4,
    "start_time": "2023-11-01T10:29:15.677Z"
   },
   {
    "duration": 13,
    "start_time": "2023-11-01T10:29:15.683Z"
   },
   {
    "duration": 7,
    "start_time": "2023-11-01T10:29:15.698Z"
   },
   {
    "duration": 176,
    "start_time": "2023-11-01T10:29:15.706Z"
   },
   {
    "duration": 100,
    "start_time": "2023-11-01T10:29:15.884Z"
   },
   {
    "duration": 201,
    "start_time": "2023-11-01T10:29:15.985Z"
   },
   {
    "duration": 258,
    "start_time": "2023-11-01T10:29:16.189Z"
   },
   {
    "duration": 7,
    "start_time": "2023-11-01T10:29:16.449Z"
   },
   {
    "duration": 315,
    "start_time": "2023-11-01T10:29:16.458Z"
   },
   {
    "duration": 327,
    "start_time": "2023-11-01T10:29:16.774Z"
   },
   {
    "duration": 14,
    "start_time": "2023-11-01T10:29:17.102Z"
   },
   {
    "duration": 20,
    "start_time": "2023-11-01T10:29:17.117Z"
   },
   {
    "duration": 31,
    "start_time": "2023-11-01T10:29:17.138Z"
   },
   {
    "duration": 438,
    "start_time": "2023-11-01T10:29:17.171Z"
   },
   {
    "duration": 35,
    "start_time": "2023-11-01T10:29:17.610Z"
   },
   {
    "duration": 7,
    "start_time": "2023-11-01T10:29:17.647Z"
   },
   {
    "duration": 29,
    "start_time": "2023-11-01T10:29:17.655Z"
   },
   {
    "duration": 13,
    "start_time": "2023-11-01T10:29:17.686Z"
   },
   {
    "duration": 9,
    "start_time": "2023-11-01T10:29:17.701Z"
   },
   {
    "duration": 34,
    "start_time": "2023-11-01T10:29:17.711Z"
   },
   {
    "duration": 11,
    "start_time": "2023-11-01T10:29:17.747Z"
   },
   {
    "duration": 11,
    "start_time": "2023-11-01T10:29:17.760Z"
   },
   {
    "duration": 281,
    "start_time": "2023-11-01T10:29:17.773Z"
   },
   {
    "duration": 321,
    "start_time": "2023-11-01T10:29:18.056Z"
   },
   {
    "duration": 23,
    "start_time": "2023-11-01T10:29:18.378Z"
   },
   {
    "duration": 41,
    "start_time": "2023-11-01T10:29:18.403Z"
   },
   {
    "duration": 13,
    "start_time": "2023-11-01T10:29:18.446Z"
   },
   {
    "duration": 18,
    "start_time": "2023-11-01T10:29:18.461Z"
   },
   {
    "duration": 881,
    "start_time": "2023-11-01T10:29:18.480Z"
   },
   {
    "duration": 10,
    "start_time": "2023-11-01T10:29:19.363Z"
   },
   {
    "duration": 26,
    "start_time": "2023-11-01T10:29:19.375Z"
   },
   {
    "duration": 28,
    "start_time": "2023-11-01T10:29:19.403Z"
   },
   {
    "duration": 37,
    "start_time": "2023-11-01T10:29:19.433Z"
   },
   {
    "duration": 25,
    "start_time": "2023-11-01T10:29:19.472Z"
   },
   {
    "duration": 30,
    "start_time": "2023-11-01T10:29:19.499Z"
   },
   {
    "duration": 23,
    "start_time": "2023-11-01T10:29:19.530Z"
   },
   {
    "duration": 21,
    "start_time": "2023-11-01T10:29:19.555Z"
   },
   {
    "duration": 29,
    "start_time": "2023-11-01T10:29:19.578Z"
   },
   {
    "duration": 70,
    "start_time": "2023-11-01T10:29:19.609Z"
   },
   {
    "duration": 61,
    "start_time": "2023-11-01T10:29:19.682Z"
   },
   {
    "duration": 1354,
    "start_time": "2023-11-01T10:29:19.745Z"
   },
   {
    "duration": 10,
    "start_time": "2023-11-01T10:29:21.101Z"
   },
   {
    "duration": 15,
    "start_time": "2023-11-01T10:29:21.113Z"
   },
   {
    "duration": 493,
    "start_time": "2023-11-01T10:29:21.130Z"
   },
   {
    "duration": 8,
    "start_time": "2023-11-01T10:29:21.625Z"
   },
   {
    "duration": 19,
    "start_time": "2023-11-01T10:29:21.634Z"
   },
   {
    "duration": 10,
    "start_time": "2023-11-01T10:29:21.654Z"
   },
   {
    "duration": 203,
    "start_time": "2023-11-01T10:29:21.666Z"
   },
   {
    "duration": 5,
    "start_time": "2023-11-01T10:29:21.870Z"
   },
   {
    "duration": 24,
    "start_time": "2023-11-01T10:30:48.062Z"
   },
   {
    "duration": 3,
    "start_time": "2023-11-01T10:30:59.883Z"
   },
   {
    "duration": 6,
    "start_time": "2023-11-01T10:30:59.888Z"
   },
   {
    "duration": 71,
    "start_time": "2023-11-01T10:30:59.896Z"
   },
   {
    "duration": 3,
    "start_time": "2023-11-01T10:30:59.969Z"
   },
   {
    "duration": 104,
    "start_time": "2023-11-01T10:30:59.974Z"
   },
   {
    "duration": 319,
    "start_time": "2023-11-01T10:31:00.080Z"
   },
   {
    "duration": 443,
    "start_time": "2023-11-01T10:31:00.401Z"
   },
   {
    "duration": 9,
    "start_time": "2023-11-01T10:31:00.846Z"
   },
   {
    "duration": 65,
    "start_time": "2023-11-01T10:31:00.857Z"
   },
   {
    "duration": 45,
    "start_time": "2023-11-01T10:31:00.923Z"
   },
   {
    "duration": 67,
    "start_time": "2023-11-01T10:31:00.970Z"
   },
   {
    "duration": 80,
    "start_time": "2023-11-01T10:31:01.038Z"
   },
   {
    "duration": 91,
    "start_time": "2023-11-01T10:31:01.120Z"
   },
   {
    "duration": 209,
    "start_time": "2023-11-01T10:31:01.213Z"
   },
   {
    "duration": 189,
    "start_time": "2023-11-01T10:31:01.424Z"
   },
   {
    "duration": 218,
    "start_time": "2023-11-01T10:31:01.615Z"
   },
   {
    "duration": 56,
    "start_time": "2023-11-01T10:31:01.835Z"
   },
   {
    "duration": 101,
    "start_time": "2023-11-01T10:31:01.893Z"
   },
   {
    "duration": 211,
    "start_time": "2023-11-01T10:31:01.996Z"
   },
   {
    "duration": 181,
    "start_time": "2023-11-01T10:31:02.208Z"
   },
   {
    "duration": 19,
    "start_time": "2023-11-01T10:31:02.390Z"
   },
   {
    "duration": 223,
    "start_time": "2023-11-01T10:31:02.411Z"
   },
   {
    "duration": 108,
    "start_time": "2023-11-01T10:31:02.636Z"
   },
   {
    "duration": 185,
    "start_time": "2023-11-01T10:31:02.746Z"
   },
   {
    "duration": 239,
    "start_time": "2023-11-01T10:31:02.932Z"
   },
   {
    "duration": 11,
    "start_time": "2023-11-01T10:31:03.172Z"
   },
   {
    "duration": 437,
    "start_time": "2023-11-01T10:31:03.184Z"
   },
   {
    "duration": 311,
    "start_time": "2023-11-01T10:31:03.623Z"
   },
   {
    "duration": 16,
    "start_time": "2023-11-01T10:31:03.943Z"
   },
   {
    "duration": 8,
    "start_time": "2023-11-01T10:31:03.961Z"
   },
   {
    "duration": 15,
    "start_time": "2023-11-01T10:31:03.971Z"
   },
   {
    "duration": 503,
    "start_time": "2023-11-01T10:31:03.988Z"
   },
   {
    "duration": 25,
    "start_time": "2023-11-01T10:31:04.493Z"
   },
   {
    "duration": 25,
    "start_time": "2023-11-01T10:31:04.519Z"
   },
   {
    "duration": 26,
    "start_time": "2023-11-01T10:31:04.546Z"
   },
   {
    "duration": 25,
    "start_time": "2023-11-01T10:31:24.494Z"
   },
   {
    "duration": 4,
    "start_time": "2023-11-01T10:31:38.619Z"
   },
   {
    "duration": 16,
    "start_time": "2023-11-01T10:31:38.625Z"
   },
   {
    "duration": 63,
    "start_time": "2023-11-01T10:31:38.643Z"
   },
   {
    "duration": 3,
    "start_time": "2023-11-01T10:31:38.707Z"
   },
   {
    "duration": 87,
    "start_time": "2023-11-01T10:31:38.712Z"
   },
   {
    "duration": 333,
    "start_time": "2023-11-01T10:31:38.801Z"
   },
   {
    "duration": 425,
    "start_time": "2023-11-01T10:31:39.136Z"
   },
   {
    "duration": 8,
    "start_time": "2023-11-01T10:31:39.562Z"
   },
   {
    "duration": 42,
    "start_time": "2023-11-01T10:31:39.572Z"
   },
   {
    "duration": 38,
    "start_time": "2023-11-01T10:31:39.616Z"
   },
   {
    "duration": 22,
    "start_time": "2023-11-01T10:31:39.656Z"
   },
   {
    "duration": 9,
    "start_time": "2023-11-01T10:31:39.680Z"
   },
   {
    "duration": 11,
    "start_time": "2023-11-01T10:31:39.691Z"
   },
   {
    "duration": 24,
    "start_time": "2023-11-01T10:31:39.703Z"
   },
   {
    "duration": 23,
    "start_time": "2023-11-01T10:31:39.728Z"
   },
   {
    "duration": 38,
    "start_time": "2023-11-01T10:31:39.753Z"
   },
   {
    "duration": 9,
    "start_time": "2023-11-01T10:31:39.793Z"
   },
   {
    "duration": 18,
    "start_time": "2023-11-01T10:31:39.803Z"
   },
   {
    "duration": 15,
    "start_time": "2023-11-01T10:31:39.823Z"
   },
   {
    "duration": 14,
    "start_time": "2023-11-01T10:31:39.839Z"
   },
   {
    "duration": 30,
    "start_time": "2023-11-01T10:31:39.855Z"
   },
   {
    "duration": 142,
    "start_time": "2023-11-01T10:31:39.886Z"
   },
   {
    "duration": 91,
    "start_time": "2023-11-01T10:31:40.030Z"
   },
   {
    "duration": 302,
    "start_time": "2023-11-01T10:31:40.122Z"
   },
   {
    "duration": 267,
    "start_time": "2023-11-01T10:31:40.425Z"
   },
   {
    "duration": 8,
    "start_time": "2023-11-01T10:31:40.694Z"
   },
   {
    "duration": 342,
    "start_time": "2023-11-01T10:31:40.704Z"
   },
   {
    "duration": 325,
    "start_time": "2023-11-01T10:31:41.047Z"
   },
   {
    "duration": 15,
    "start_time": "2023-11-01T10:31:41.375Z"
   },
   {
    "duration": 7,
    "start_time": "2023-11-01T10:31:41.392Z"
   },
   {
    "duration": 24,
    "start_time": "2023-11-01T10:31:41.401Z"
   },
   {
    "duration": 332,
    "start_time": "2023-11-01T10:31:41.427Z"
   },
   {
    "duration": 19,
    "start_time": "2023-11-01T10:31:41.761Z"
   },
   {
    "duration": 6,
    "start_time": "2023-11-01T10:31:41.782Z"
   },
   {
    "duration": 28,
    "start_time": "2023-11-01T10:31:41.789Z"
   },
   {
    "duration": 33,
    "start_time": "2023-11-01T10:31:41.818Z"
   },
   {
    "duration": 8,
    "start_time": "2023-11-01T10:31:41.853Z"
   },
   {
    "duration": 15,
    "start_time": "2023-11-01T10:31:41.862Z"
   },
   {
    "duration": 21,
    "start_time": "2023-11-01T10:31:41.879Z"
   },
   {
    "duration": 16,
    "start_time": "2023-11-01T10:31:41.902Z"
   },
   {
    "duration": 296,
    "start_time": "2023-11-01T10:31:41.919Z"
   },
   {
    "duration": 412,
    "start_time": "2023-11-01T10:31:42.217Z"
   },
   {
    "duration": 42,
    "start_time": "2023-11-01T10:31:42.631Z"
   },
   {
    "duration": 36,
    "start_time": "2023-11-01T10:31:42.675Z"
   },
   {
    "duration": 11,
    "start_time": "2023-11-01T10:31:42.713Z"
   },
   {
    "duration": 6,
    "start_time": "2023-11-01T10:31:42.744Z"
   },
   {
    "duration": 855,
    "start_time": "2023-11-01T10:31:42.752Z"
   },
   {
    "duration": 10,
    "start_time": "2023-11-01T10:31:43.609Z"
   },
   {
    "duration": 24,
    "start_time": "2023-11-01T10:31:43.621Z"
   },
   {
    "duration": 7,
    "start_time": "2023-11-01T10:31:43.647Z"
   },
   {
    "duration": 11,
    "start_time": "2023-11-01T10:31:43.656Z"
   },
   {
    "duration": 9,
    "start_time": "2023-11-01T10:31:43.669Z"
   },
   {
    "duration": 25,
    "start_time": "2023-11-01T10:31:43.679Z"
   },
   {
    "duration": 24,
    "start_time": "2023-11-01T10:31:43.706Z"
   },
   {
    "duration": 18,
    "start_time": "2023-11-01T10:31:43.731Z"
   },
   {
    "duration": 35,
    "start_time": "2023-11-01T10:31:43.750Z"
   },
   {
    "duration": 9,
    "start_time": "2023-11-01T10:31:43.787Z"
   },
   {
    "duration": 33,
    "start_time": "2023-11-01T10:31:43.798Z"
   },
   {
    "duration": 1479,
    "start_time": "2023-11-01T10:31:43.833Z"
   },
   {
    "duration": 12,
    "start_time": "2023-11-01T10:31:45.314Z"
   },
   {
    "duration": 6,
    "start_time": "2023-11-01T10:31:45.344Z"
   },
   {
    "duration": 466,
    "start_time": "2023-11-01T10:31:45.352Z"
   },
   {
    "duration": 10,
    "start_time": "2023-11-01T10:31:45.820Z"
   },
   {
    "duration": 22,
    "start_time": "2023-11-01T10:31:45.844Z"
   },
   {
    "duration": 15,
    "start_time": "2023-11-01T10:31:45.868Z"
   },
   {
    "duration": 259,
    "start_time": "2023-11-01T10:31:45.885Z"
   },
   {
    "duration": 5,
    "start_time": "2023-11-01T10:31:46.146Z"
   },
   {
    "duration": 19,
    "start_time": "2023-11-01T10:32:17.471Z"
   },
   {
    "duration": 3,
    "start_time": "2023-11-01T10:32:28.785Z"
   },
   {
    "duration": 7,
    "start_time": "2023-11-01T10:32:28.789Z"
   },
   {
    "duration": 68,
    "start_time": "2023-11-01T10:32:28.798Z"
   },
   {
    "duration": 3,
    "start_time": "2023-11-01T10:32:28.868Z"
   },
   {
    "duration": 110,
    "start_time": "2023-11-01T10:32:28.873Z"
   },
   {
    "duration": 328,
    "start_time": "2023-11-01T10:32:28.985Z"
   },
   {
    "duration": 512,
    "start_time": "2023-11-01T10:32:29.315Z"
   },
   {
    "duration": 16,
    "start_time": "2023-11-01T10:32:29.829Z"
   },
   {
    "duration": 24,
    "start_time": "2023-11-01T10:32:29.847Z"
   },
   {
    "duration": 19,
    "start_time": "2023-11-01T10:32:29.872Z"
   },
   {
    "duration": 13,
    "start_time": "2023-11-01T10:32:29.893Z"
   },
   {
    "duration": 20,
    "start_time": "2023-11-01T10:32:29.907Z"
   },
   {
    "duration": 19,
    "start_time": "2023-11-01T10:32:29.929Z"
   },
   {
    "duration": 29,
    "start_time": "2023-11-01T10:32:29.950Z"
   },
   {
    "duration": 22,
    "start_time": "2023-11-01T10:32:29.981Z"
   },
   {
    "duration": 92,
    "start_time": "2023-11-01T10:32:30.005Z"
   },
   {
    "duration": 51,
    "start_time": "2023-11-01T10:32:30.099Z"
   },
   {
    "duration": 36,
    "start_time": "2023-11-01T10:32:30.151Z"
   },
   {
    "duration": 33,
    "start_time": "2023-11-01T10:32:30.189Z"
   },
   {
    "duration": 31,
    "start_time": "2023-11-01T10:32:30.224Z"
   },
   {
    "duration": 57,
    "start_time": "2023-11-01T10:32:30.257Z"
   },
   {
    "duration": 186,
    "start_time": "2023-11-01T10:32:30.316Z"
   },
   {
    "duration": 92,
    "start_time": "2023-11-01T10:32:30.504Z"
   },
   {
    "duration": 208,
    "start_time": "2023-11-01T10:32:30.598Z"
   },
   {
    "duration": 244,
    "start_time": "2023-11-01T10:32:30.808Z"
   },
   {
    "duration": 8,
    "start_time": "2023-11-01T10:32:31.053Z"
   },
   {
    "duration": 386,
    "start_time": "2023-11-01T10:32:31.063Z"
   },
   {
    "duration": 304,
    "start_time": "2023-11-01T10:32:31.451Z"
   },
   {
    "duration": 14,
    "start_time": "2023-11-01T10:32:31.759Z"
   },
   {
    "duration": 93,
    "start_time": "2023-11-01T10:32:31.774Z"
   },
   {
    "duration": 37,
    "start_time": "2023-11-01T10:32:31.869Z"
   },
   {
    "duration": 323,
    "start_time": "2023-11-01T10:32:31.908Z"
   },
   {
    "duration": 35,
    "start_time": "2023-11-01T10:32:32.233Z"
   },
   {
    "duration": 10,
    "start_time": "2023-11-01T10:32:32.270Z"
   },
   {
    "duration": 21,
    "start_time": "2023-11-01T10:32:32.282Z"
   },
   {
    "duration": 20,
    "start_time": "2023-11-01T10:32:32.304Z"
   },
   {
    "duration": 21,
    "start_time": "2023-11-01T10:32:32.326Z"
   },
   {
    "duration": 10,
    "start_time": "2023-11-01T10:32:32.348Z"
   },
   {
    "duration": 17,
    "start_time": "2023-11-01T10:32:32.359Z"
   },
   {
    "duration": 135,
    "start_time": "2023-11-01T10:32:32.377Z"
   },
   {
    "duration": 274,
    "start_time": "2023-11-01T10:32:32.513Z"
   },
   {
    "duration": 303,
    "start_time": "2023-11-01T10:32:32.789Z"
   },
   {
    "duration": 27,
    "start_time": "2023-11-01T10:32:33.094Z"
   },
   {
    "duration": 43,
    "start_time": "2023-11-01T10:32:33.123Z"
   },
   {
    "duration": 10,
    "start_time": "2023-11-01T10:32:33.168Z"
   },
   {
    "duration": 7,
    "start_time": "2023-11-01T10:32:33.180Z"
   },
   {
    "duration": 855,
    "start_time": "2023-11-01T10:32:33.189Z"
   },
   {
    "duration": 16,
    "start_time": "2023-11-01T10:32:34.046Z"
   },
   {
    "duration": 10,
    "start_time": "2023-11-01T10:32:34.063Z"
   },
   {
    "duration": 6,
    "start_time": "2023-11-01T10:32:34.075Z"
   },
   {
    "duration": 13,
    "start_time": "2023-11-01T10:32:34.083Z"
   },
   {
    "duration": 11,
    "start_time": "2023-11-01T10:32:34.099Z"
   },
   {
    "duration": 44,
    "start_time": "2023-11-01T10:32:34.112Z"
   },
   {
    "duration": 24,
    "start_time": "2023-11-01T10:32:34.158Z"
   },
   {
    "duration": 22,
    "start_time": "2023-11-01T10:32:34.185Z"
   },
   {
    "duration": 10,
    "start_time": "2023-11-01T10:32:34.210Z"
   },
   {
    "duration": 14,
    "start_time": "2023-11-01T10:32:34.222Z"
   },
   {
    "duration": 22,
    "start_time": "2023-11-01T10:32:34.245Z"
   },
   {
    "duration": 1313,
    "start_time": "2023-11-01T10:32:34.270Z"
   },
   {
    "duration": 11,
    "start_time": "2023-11-01T10:32:35.584Z"
   },
   {
    "duration": 8,
    "start_time": "2023-11-01T10:32:35.596Z"
   },
   {
    "duration": 408,
    "start_time": "2023-11-01T10:32:35.606Z"
   },
   {
    "duration": 9,
    "start_time": "2023-11-01T10:32:36.016Z"
   },
   {
    "duration": 23,
    "start_time": "2023-11-01T10:32:36.026Z"
   },
   {
    "duration": 15,
    "start_time": "2023-11-01T10:32:36.051Z"
   },
   {
    "duration": 223,
    "start_time": "2023-11-01T10:32:36.067Z"
   },
   {
    "duration": 5,
    "start_time": "2023-11-01T10:32:36.292Z"
   },
   {
    "duration": 8,
    "start_time": "2023-11-01T10:34:28.019Z"
   },
   {
    "duration": 19,
    "start_time": "2023-11-01T10:34:28.424Z"
   },
   {
    "duration": 3,
    "start_time": "2023-11-01T10:34:49.379Z"
   },
   {
    "duration": 24,
    "start_time": "2023-11-01T10:34:49.384Z"
   },
   {
    "duration": 72,
    "start_time": "2023-11-01T10:34:49.410Z"
   },
   {
    "duration": 3,
    "start_time": "2023-11-01T10:34:49.484Z"
   },
   {
    "duration": 201,
    "start_time": "2023-11-01T10:34:49.489Z"
   },
   {
    "duration": 296,
    "start_time": "2023-11-01T10:34:49.692Z"
   },
   {
    "duration": 432,
    "start_time": "2023-11-01T10:34:49.990Z"
   },
   {
    "duration": 8,
    "start_time": "2023-11-01T10:34:50.423Z"
   },
   {
    "duration": 25,
    "start_time": "2023-11-01T10:34:50.433Z"
   },
   {
    "duration": 36,
    "start_time": "2023-11-01T10:34:50.459Z"
   },
   {
    "duration": 8,
    "start_time": "2023-11-01T10:34:50.497Z"
   },
   {
    "duration": 28,
    "start_time": "2023-11-01T10:34:50.506Z"
   },
   {
    "duration": 25,
    "start_time": "2023-11-01T10:34:50.536Z"
   },
   {
    "duration": 18,
    "start_time": "2023-11-01T10:34:50.563Z"
   },
   {
    "duration": 25,
    "start_time": "2023-11-01T10:34:50.582Z"
   },
   {
    "duration": 37,
    "start_time": "2023-11-01T10:34:50.608Z"
   },
   {
    "duration": 9,
    "start_time": "2023-11-01T10:34:50.646Z"
   },
   {
    "duration": 17,
    "start_time": "2023-11-01T10:34:50.657Z"
   },
   {
    "duration": 85,
    "start_time": "2023-11-01T10:34:50.676Z"
   },
   {
    "duration": 68,
    "start_time": "2023-11-01T10:34:50.763Z"
   },
   {
    "duration": 20,
    "start_time": "2023-11-01T10:34:50.834Z"
   },
   {
    "duration": 144,
    "start_time": "2023-11-01T10:34:50.856Z"
   },
   {
    "duration": 110,
    "start_time": "2023-11-01T10:34:51.002Z"
   },
   {
    "duration": 180,
    "start_time": "2023-11-01T10:34:51.115Z"
   },
   {
    "duration": 250,
    "start_time": "2023-11-01T10:34:51.297Z"
   },
   {
    "duration": 8,
    "start_time": "2023-11-01T10:34:51.548Z"
   },
   {
    "duration": 323,
    "start_time": "2023-11-01T10:34:51.558Z"
   },
   {
    "duration": 440,
    "start_time": "2023-11-01T10:34:51.883Z"
   },
   {
    "duration": 22,
    "start_time": "2023-11-01T10:34:52.325Z"
   },
   {
    "duration": 15,
    "start_time": "2023-11-01T10:34:52.348Z"
   },
   {
    "duration": 32,
    "start_time": "2023-11-01T10:34:52.365Z"
   },
   {
    "duration": 352,
    "start_time": "2023-11-01T10:34:52.399Z"
   },
   {
    "duration": 21,
    "start_time": "2023-11-01T10:34:52.752Z"
   },
   {
    "duration": 12,
    "start_time": "2023-11-01T10:34:52.775Z"
   },
   {
    "duration": 20,
    "start_time": "2023-11-01T10:36:35.535Z"
   },
   {
    "duration": 16,
    "start_time": "2023-11-01T10:36:39.275Z"
   },
   {
    "duration": 17,
    "start_time": "2023-11-01T10:36:42.895Z"
   },
   {
    "duration": 16,
    "start_time": "2023-11-01T10:36:47.643Z"
   },
   {
    "duration": 17,
    "start_time": "2023-11-01T10:36:49.058Z"
   },
   {
    "duration": 14,
    "start_time": "2023-11-01T10:37:12.289Z"
   },
   {
    "duration": 101,
    "start_time": "2023-11-01T10:37:57.713Z"
   },
   {
    "duration": 3,
    "start_time": "2023-11-01T10:38:18.399Z"
   },
   {
    "duration": 5,
    "start_time": "2023-11-01T10:38:18.404Z"
   },
   {
    "duration": 67,
    "start_time": "2023-11-01T10:38:18.411Z"
   },
   {
    "duration": 3,
    "start_time": "2023-11-01T10:38:18.479Z"
   },
   {
    "duration": 84,
    "start_time": "2023-11-01T10:38:18.484Z"
   },
   {
    "duration": 326,
    "start_time": "2023-11-01T10:38:18.569Z"
   },
   {
    "duration": 430,
    "start_time": "2023-11-01T10:38:18.897Z"
   },
   {
    "duration": 8,
    "start_time": "2023-11-01T10:38:19.329Z"
   },
   {
    "duration": 17,
    "start_time": "2023-11-01T10:38:19.345Z"
   },
   {
    "duration": 15,
    "start_time": "2023-11-01T10:38:19.364Z"
   },
   {
    "duration": 22,
    "start_time": "2023-11-01T10:38:19.382Z"
   },
   {
    "duration": 5,
    "start_time": "2023-11-01T10:38:19.406Z"
   },
   {
    "duration": 11,
    "start_time": "2023-11-01T10:38:19.413Z"
   },
   {
    "duration": 17,
    "start_time": "2023-11-01T10:38:19.426Z"
   },
   {
    "duration": 17,
    "start_time": "2023-11-01T10:38:19.444Z"
   },
   {
    "duration": 31,
    "start_time": "2023-11-01T10:38:19.463Z"
   },
   {
    "duration": 9,
    "start_time": "2023-11-01T10:38:19.496Z"
   },
   {
    "duration": 14,
    "start_time": "2023-11-01T10:38:19.506Z"
   },
   {
    "duration": 24,
    "start_time": "2023-11-01T10:38:19.521Z"
   },
   {
    "duration": 8,
    "start_time": "2023-11-01T10:38:19.547Z"
   },
   {
    "duration": 8,
    "start_time": "2023-11-01T10:38:19.557Z"
   },
   {
    "duration": 153,
    "start_time": "2023-11-01T10:38:19.566Z"
   },
   {
    "duration": 97,
    "start_time": "2023-11-01T10:38:19.720Z"
   },
   {
    "duration": 189,
    "start_time": "2023-11-01T10:38:19.818Z"
   },
   {
    "duration": 253,
    "start_time": "2023-11-01T10:38:20.009Z"
   },
   {
    "duration": 8,
    "start_time": "2023-11-01T10:38:20.264Z"
   },
   {
    "duration": 481,
    "start_time": "2023-11-01T10:38:20.274Z"
   },
   {
    "duration": 347,
    "start_time": "2023-11-01T10:38:20.757Z"
   },
   {
    "duration": 16,
    "start_time": "2023-11-01T10:38:21.107Z"
   },
   {
    "duration": 28,
    "start_time": "2023-11-01T10:38:21.125Z"
   },
   {
    "duration": 17,
    "start_time": "2023-11-01T10:38:21.155Z"
   },
   {
    "duration": 372,
    "start_time": "2023-11-01T10:38:21.173Z"
   },
   {
    "duration": 21,
    "start_time": "2023-11-01T10:38:21.547Z"
   },
   {
    "duration": 6,
    "start_time": "2023-11-01T10:38:21.569Z"
   },
   {
    "duration": 27,
    "start_time": "2023-11-01T10:38:21.577Z"
   },
   {
    "duration": 16,
    "start_time": "2023-11-01T10:38:21.606Z"
   },
   {
    "duration": 24,
    "start_time": "2023-11-01T10:38:21.623Z"
   },
   {
    "duration": 9,
    "start_time": "2023-11-01T10:38:21.649Z"
   },
   {
    "duration": 19,
    "start_time": "2023-11-01T10:38:21.659Z"
   },
   {
    "duration": 21,
    "start_time": "2023-11-01T10:38:21.680Z"
   },
   {
    "duration": 277,
    "start_time": "2023-11-01T10:38:21.702Z"
   },
   {
    "duration": 287,
    "start_time": "2023-11-01T10:38:21.981Z"
   },
   {
    "duration": 27,
    "start_time": "2023-11-01T10:38:22.269Z"
   },
   {
    "duration": 25,
    "start_time": "2023-11-01T10:38:22.298Z"
   },
   {
    "duration": 28,
    "start_time": "2023-11-01T10:38:22.325Z"
   },
   {
    "duration": 9,
    "start_time": "2023-11-01T10:38:22.354Z"
   },
   {
    "duration": 821,
    "start_time": "2023-11-01T10:38:22.364Z"
   },
   {
    "duration": 11,
    "start_time": "2023-11-01T10:38:23.186Z"
   },
   {
    "duration": 35,
    "start_time": "2023-11-01T10:38:23.199Z"
   },
   {
    "duration": 14,
    "start_time": "2023-11-01T10:38:23.236Z"
   },
   {
    "duration": 26,
    "start_time": "2023-11-01T10:38:23.251Z"
   },
   {
    "duration": 24,
    "start_time": "2023-11-01T10:38:23.278Z"
   },
   {
    "duration": 16,
    "start_time": "2023-11-01T10:38:23.304Z"
   },
   {
    "duration": 116,
    "start_time": "2023-11-01T10:38:23.322Z"
   },
   {
    "duration": 13,
    "start_time": "2023-11-01T10:38:23.440Z"
   },
   {
    "duration": 9,
    "start_time": "2023-11-01T10:38:23.455Z"
   },
   {
    "duration": 28,
    "start_time": "2023-11-01T10:38:23.466Z"
   },
   {
    "duration": 30,
    "start_time": "2023-11-01T10:38:23.495Z"
   },
   {
    "duration": 1380,
    "start_time": "2023-11-01T10:38:23.527Z"
   },
   {
    "duration": 11,
    "start_time": "2023-11-01T10:38:24.909Z"
   },
   {
    "duration": 8,
    "start_time": "2023-11-01T10:38:24.922Z"
   },
   {
    "duration": 437,
    "start_time": "2023-11-01T10:38:24.931Z"
   },
   {
    "duration": 7,
    "start_time": "2023-11-01T10:38:25.370Z"
   },
   {
    "duration": 8,
    "start_time": "2023-11-01T10:38:25.379Z"
   },
   {
    "duration": 17,
    "start_time": "2023-11-01T10:38:25.388Z"
   },
   {
    "duration": 211,
    "start_time": "2023-11-01T10:38:25.407Z"
   },
   {
    "duration": 4,
    "start_time": "2023-11-01T10:38:25.619Z"
   },
   {
    "duration": 17,
    "start_time": "2023-11-01T10:42:05.158Z"
   },
   {
    "duration": 3,
    "start_time": "2023-11-01T10:42:14.995Z"
   },
   {
    "duration": 51,
    "start_time": "2023-11-01T10:42:15.000Z"
   },
   {
    "duration": 66,
    "start_time": "2023-11-01T10:42:15.055Z"
   },
   {
    "duration": 3,
    "start_time": "2023-11-01T10:42:15.123Z"
   },
   {
    "duration": 126,
    "start_time": "2023-11-01T10:42:15.128Z"
   },
   {
    "duration": 331,
    "start_time": "2023-11-01T10:42:15.256Z"
   },
   {
    "duration": 481,
    "start_time": "2023-11-01T10:42:15.590Z"
   },
   {
    "duration": 8,
    "start_time": "2023-11-01T10:42:16.073Z"
   },
   {
    "duration": 12,
    "start_time": "2023-11-01T10:42:16.082Z"
   },
   {
    "duration": 13,
    "start_time": "2023-11-01T10:42:16.096Z"
   },
   {
    "duration": 22,
    "start_time": "2023-11-01T10:42:16.112Z"
   },
   {
    "duration": 20,
    "start_time": "2023-11-01T10:42:16.136Z"
   },
   {
    "duration": 8,
    "start_time": "2023-11-01T10:42:16.158Z"
   },
   {
    "duration": 15,
    "start_time": "2023-11-01T10:42:16.168Z"
   },
   {
    "duration": 52,
    "start_time": "2023-11-01T10:42:16.185Z"
   },
   {
    "duration": 43,
    "start_time": "2023-11-01T10:42:16.239Z"
   },
   {
    "duration": 10,
    "start_time": "2023-11-01T10:42:16.284Z"
   },
   {
    "duration": 8,
    "start_time": "2023-11-01T10:42:16.295Z"
   },
   {
    "duration": 5,
    "start_time": "2023-11-01T10:42:16.305Z"
   },
   {
    "duration": 16,
    "start_time": "2023-11-01T10:42:16.311Z"
   },
   {
    "duration": 13,
    "start_time": "2023-11-01T10:42:16.343Z"
   },
   {
    "duration": 143,
    "start_time": "2023-11-01T10:42:16.362Z"
   },
   {
    "duration": 225,
    "start_time": "2023-11-01T10:42:16.506Z"
   },
   {
    "duration": 231,
    "start_time": "2023-11-01T10:42:16.732Z"
   },
   {
    "duration": 257,
    "start_time": "2023-11-01T10:42:16.965Z"
   },
   {
    "duration": 9,
    "start_time": "2023-11-01T10:42:17.225Z"
   },
   {
    "duration": 343,
    "start_time": "2023-11-01T10:42:17.235Z"
   },
   {
    "duration": 324,
    "start_time": "2023-11-01T10:42:17.580Z"
   },
   {
    "duration": 15,
    "start_time": "2023-11-01T10:42:17.908Z"
   },
   {
    "duration": 28,
    "start_time": "2023-11-01T10:42:17.925Z"
   },
   {
    "duration": 10,
    "start_time": "2023-11-01T10:42:17.958Z"
   },
   {
    "duration": 329,
    "start_time": "2023-11-01T10:42:17.970Z"
   },
   {
    "duration": 20,
    "start_time": "2023-11-01T10:42:18.301Z"
   },
   {
    "duration": 6,
    "start_time": "2023-11-01T10:42:18.323Z"
   },
   {
    "duration": 23,
    "start_time": "2023-11-01T10:42:18.347Z"
   },
   {
    "duration": 14,
    "start_time": "2023-11-01T10:42:18.371Z"
   },
   {
    "duration": 10,
    "start_time": "2023-11-01T10:42:18.386Z"
   },
   {
    "duration": 22,
    "start_time": "2023-11-01T10:42:18.398Z"
   },
   {
    "duration": 32,
    "start_time": "2023-11-01T10:42:18.422Z"
   },
   {
    "duration": 28,
    "start_time": "2023-11-01T10:42:18.456Z"
   },
   {
    "duration": 292,
    "start_time": "2023-11-01T10:42:18.486Z"
   },
   {
    "duration": 445,
    "start_time": "2023-11-01T10:42:18.779Z"
   },
   {
    "duration": 41,
    "start_time": "2023-11-01T10:42:19.226Z"
   },
   {
    "duration": 29,
    "start_time": "2023-11-01T10:42:19.269Z"
   },
   {
    "duration": 11,
    "start_time": "2023-11-01T10:42:19.300Z"
   },
   {
    "duration": 41,
    "start_time": "2023-11-01T10:42:19.313Z"
   },
   {
    "duration": 918,
    "start_time": "2023-11-01T10:42:19.357Z"
   },
   {
    "duration": 13,
    "start_time": "2023-11-01T10:42:20.276Z"
   },
   {
    "duration": 24,
    "start_time": "2023-11-01T10:42:20.290Z"
   },
   {
    "duration": 20,
    "start_time": "2023-11-01T10:42:20.316Z"
   },
   {
    "duration": 28,
    "start_time": "2023-11-01T10:42:20.338Z"
   },
   {
    "duration": 14,
    "start_time": "2023-11-01T10:42:20.367Z"
   },
   {
    "duration": 10,
    "start_time": "2023-11-01T10:42:20.383Z"
   },
   {
    "duration": 20,
    "start_time": "2023-11-01T10:42:20.394Z"
   },
   {
    "duration": 20,
    "start_time": "2023-11-01T10:42:20.416Z"
   },
   {
    "duration": 30,
    "start_time": "2023-11-01T10:42:20.437Z"
   },
   {
    "duration": 14,
    "start_time": "2023-11-01T10:42:20.469Z"
   },
   {
    "duration": 19,
    "start_time": "2023-11-01T10:42:20.484Z"
   },
   {
    "duration": 34,
    "start_time": "2023-11-01T10:42:20.504Z"
   },
   {
    "duration": 18,
    "start_time": "2023-11-01T10:42:20.540Z"
   },
   {
    "duration": 43,
    "start_time": "2023-11-01T10:42:20.560Z"
   },
   {
    "duration": 1384,
    "start_time": "2023-11-01T10:42:20.605Z"
   },
   {
    "duration": 12,
    "start_time": "2023-11-01T10:42:21.991Z"
   },
   {
    "duration": 31,
    "start_time": "2023-11-01T10:42:22.005Z"
   },
   {
    "duration": 422,
    "start_time": "2023-11-01T10:42:22.038Z"
   },
   {
    "duration": 7,
    "start_time": "2023-11-01T10:42:22.462Z"
   },
   {
    "duration": 32,
    "start_time": "2023-11-01T10:42:22.471Z"
   },
   {
    "duration": 19,
    "start_time": "2023-11-01T10:42:22.504Z"
   },
   {
    "duration": 207,
    "start_time": "2023-11-01T10:42:22.524Z"
   },
   {
    "duration": 5,
    "start_time": "2023-11-01T10:42:22.732Z"
   },
   {
    "duration": 12,
    "start_time": "2023-11-01T10:43:47.996Z"
   },
   {
    "duration": 15,
    "start_time": "2023-11-01T10:45:08.701Z"
   },
   {
    "duration": 12,
    "start_time": "2023-11-01T10:48:23.253Z"
   },
   {
    "duration": 868,
    "start_time": "2023-11-01T10:53:25.551Z"
   },
   {
    "duration": 797,
    "start_time": "2023-11-01T10:53:47.922Z"
   },
   {
    "duration": 817,
    "start_time": "2023-11-01T10:53:57.776Z"
   },
   {
    "duration": 16,
    "start_time": "2023-11-01T10:54:53.439Z"
   },
   {
    "duration": 1635,
    "start_time": "2023-11-01T11:18:36.197Z"
   },
   {
    "duration": 19,
    "start_time": "2023-11-01T11:19:01.418Z"
   },
   {
    "duration": 20,
    "start_time": "2023-11-01T11:19:14.861Z"
   },
   {
    "duration": 132,
    "start_time": "2023-11-01T11:20:37.143Z"
   },
   {
    "duration": 106,
    "start_time": "2023-11-01T11:21:12.290Z"
   },
   {
    "duration": 116,
    "start_time": "2023-11-01T11:21:31.015Z"
   },
   {
    "duration": 166,
    "start_time": "2023-11-01T11:21:57.888Z"
   },
   {
    "duration": 142,
    "start_time": "2023-11-01T11:23:07.735Z"
   },
   {
    "duration": 112,
    "start_time": "2023-11-01T11:24:29.311Z"
   },
   {
    "duration": 18,
    "start_time": "2023-11-01T11:24:29.458Z"
   },
   {
    "duration": 14,
    "start_time": "2023-11-01T11:24:32.611Z"
   },
   {
    "duration": 15,
    "start_time": "2023-11-01T11:24:38.175Z"
   },
   {
    "duration": 25,
    "start_time": "2023-11-01T11:24:38.835Z"
   },
   {
    "duration": 3,
    "start_time": "2023-11-01T11:25:13.759Z"
   },
   {
    "duration": 14,
    "start_time": "2023-11-01T11:25:13.764Z"
   },
   {
    "duration": 67,
    "start_time": "2023-11-01T11:25:13.780Z"
   },
   {
    "duration": 10,
    "start_time": "2023-11-01T11:25:13.849Z"
   },
   {
    "duration": 113,
    "start_time": "2023-11-01T11:25:13.862Z"
   },
   {
    "duration": 377,
    "start_time": "2023-11-01T11:25:13.977Z"
   },
   {
    "duration": 508,
    "start_time": "2023-11-01T11:25:14.356Z"
   },
   {
    "duration": 8,
    "start_time": "2023-11-01T11:25:14.866Z"
   },
   {
    "duration": 16,
    "start_time": "2023-11-01T11:25:14.876Z"
   },
   {
    "duration": 9,
    "start_time": "2023-11-01T11:25:14.894Z"
   },
   {
    "duration": 11,
    "start_time": "2023-11-01T11:25:14.905Z"
   },
   {
    "duration": 25,
    "start_time": "2023-11-01T11:25:14.918Z"
   },
   {
    "duration": 14,
    "start_time": "2023-11-01T11:25:14.948Z"
   },
   {
    "duration": 8,
    "start_time": "2023-11-01T11:25:14.964Z"
   },
   {
    "duration": 13,
    "start_time": "2023-11-01T11:25:14.973Z"
   },
   {
    "duration": 28,
    "start_time": "2023-11-01T11:25:14.987Z"
   },
   {
    "duration": 46,
    "start_time": "2023-11-01T11:25:15.017Z"
   },
   {
    "duration": 23,
    "start_time": "2023-11-01T11:25:15.065Z"
   },
   {
    "duration": 17,
    "start_time": "2023-11-01T11:25:15.090Z"
   },
   {
    "duration": 13,
    "start_time": "2023-11-01T11:25:15.109Z"
   },
   {
    "duration": 17,
    "start_time": "2023-11-01T11:25:15.124Z"
   },
   {
    "duration": 149,
    "start_time": "2023-11-01T11:25:15.143Z"
   },
   {
    "duration": 103,
    "start_time": "2023-11-01T11:25:15.294Z"
   },
   {
    "duration": 199,
    "start_time": "2023-11-01T11:25:15.398Z"
   },
   {
    "duration": 289,
    "start_time": "2023-11-01T11:25:15.598Z"
   },
   {
    "duration": 8,
    "start_time": "2023-11-01T11:25:15.888Z"
   },
   {
    "duration": 453,
    "start_time": "2023-11-01T11:25:15.897Z"
   },
   {
    "duration": 320,
    "start_time": "2023-11-01T11:25:16.354Z"
   },
   {
    "duration": 14,
    "start_time": "2023-11-01T11:25:16.676Z"
   },
   {
    "duration": 14,
    "start_time": "2023-11-01T11:25:16.691Z"
   },
   {
    "duration": 13,
    "start_time": "2023-11-01T11:25:16.707Z"
   },
   {
    "duration": 378,
    "start_time": "2023-11-01T11:25:16.721Z"
   },
   {
    "duration": 21,
    "start_time": "2023-11-01T11:25:17.101Z"
   },
   {
    "duration": 41,
    "start_time": "2023-11-01T11:25:17.124Z"
   },
   {
    "duration": 35,
    "start_time": "2023-11-01T11:25:17.167Z"
   },
   {
    "duration": 48,
    "start_time": "2023-11-01T11:25:17.203Z"
   },
   {
    "duration": 11,
    "start_time": "2023-11-01T11:25:17.255Z"
   },
   {
    "duration": 11,
    "start_time": "2023-11-01T11:25:17.267Z"
   },
   {
    "duration": 12,
    "start_time": "2023-11-01T11:25:17.280Z"
   },
   {
    "duration": 20,
    "start_time": "2023-11-01T11:25:17.293Z"
   },
   {
    "duration": 299,
    "start_time": "2023-11-01T11:25:17.314Z"
   },
   {
    "duration": 340,
    "start_time": "2023-11-01T11:25:17.615Z"
   },
   {
    "duration": 37,
    "start_time": "2023-11-01T11:25:17.960Z"
   },
   {
    "duration": 34,
    "start_time": "2023-11-01T11:25:17.999Z"
   },
   {
    "duration": 20,
    "start_time": "2023-11-01T11:25:18.046Z"
   },
   {
    "duration": 5,
    "start_time": "2023-11-01T11:25:18.068Z"
   },
   {
    "duration": 21,
    "start_time": "2023-11-01T11:25:18.074Z"
   },
   {
    "duration": 912,
    "start_time": "2023-11-01T11:25:18.097Z"
   },
   {
    "duration": 21,
    "start_time": "2023-11-01T11:25:19.011Z"
   },
   {
    "duration": 39,
    "start_time": "2023-11-01T11:25:19.034Z"
   },
   {
    "duration": 8,
    "start_time": "2023-11-01T11:25:19.075Z"
   },
   {
    "duration": 26,
    "start_time": "2023-11-01T11:25:19.085Z"
   },
   {
    "duration": 14,
    "start_time": "2023-11-01T11:25:19.113Z"
   },
   {
    "duration": 32,
    "start_time": "2023-11-01T11:25:19.128Z"
   },
   {
    "duration": 19,
    "start_time": "2023-11-01T11:25:19.162Z"
   },
   {
    "duration": 131,
    "start_time": "2023-11-01T11:25:19.182Z"
   },
   {
    "duration": 16,
    "start_time": "2023-11-01T11:25:19.315Z"
   },
   {
    "duration": 35,
    "start_time": "2023-11-01T11:25:19.333Z"
   },
   {
    "duration": 4,
    "start_time": "2023-11-01T11:25:19.370Z"
   },
   {
    "duration": 11,
    "start_time": "2023-11-01T11:25:19.375Z"
   },
   {
    "duration": 26,
    "start_time": "2023-11-01T11:25:19.388Z"
   },
   {
    "duration": 18,
    "start_time": "2023-11-01T11:25:19.416Z"
   },
   {
    "duration": 31,
    "start_time": "2023-11-01T11:25:19.436Z"
   },
   {
    "duration": 1355,
    "start_time": "2023-11-01T11:25:19.469Z"
   },
   {
    "duration": 22,
    "start_time": "2023-11-01T11:25:20.826Z"
   },
   {
    "duration": 20,
    "start_time": "2023-11-01T11:25:20.850Z"
   },
   {
    "duration": 438,
    "start_time": "2023-11-01T11:25:20.871Z"
   },
   {
    "duration": 8,
    "start_time": "2023-11-01T11:25:21.310Z"
   },
   {
    "duration": 31,
    "start_time": "2023-11-01T11:25:21.320Z"
   },
   {
    "duration": 17,
    "start_time": "2023-11-01T11:25:21.352Z"
   },
   {
    "duration": 232,
    "start_time": "2023-11-01T11:25:21.371Z"
   },
   {
    "duration": 5,
    "start_time": "2023-11-01T11:25:21.604Z"
   },
   {
    "duration": 123,
    "start_time": "2023-11-01T11:28:37.733Z"
   },
   {
    "duration": 1206,
    "start_time": "2023-11-01T14:12:16.835Z"
   },
   {
    "duration": 3,
    "start_time": "2023-11-01T14:12:18.043Z"
   },
   {
    "duration": 87,
    "start_time": "2023-11-01T14:12:18.047Z"
   },
   {
    "duration": 3,
    "start_time": "2023-11-01T14:12:18.136Z"
   },
   {
    "duration": 94,
    "start_time": "2023-11-01T14:12:18.140Z"
   },
   {
    "duration": 331,
    "start_time": "2023-11-01T14:12:18.236Z"
   },
   {
    "duration": 471,
    "start_time": "2023-11-01T14:12:18.569Z"
   },
   {
    "duration": 8,
    "start_time": "2023-11-01T14:12:19.042Z"
   },
   {
    "duration": 34,
    "start_time": "2023-11-01T14:12:19.051Z"
   },
   {
    "duration": 14,
    "start_time": "2023-11-01T14:12:19.088Z"
   },
   {
    "duration": 17,
    "start_time": "2023-11-01T14:12:19.104Z"
   },
   {
    "duration": 9,
    "start_time": "2023-11-01T14:12:19.123Z"
   },
   {
    "duration": 28,
    "start_time": "2023-11-01T14:12:19.134Z"
   },
   {
    "duration": 20,
    "start_time": "2023-11-01T14:12:19.163Z"
   },
   {
    "duration": 29,
    "start_time": "2023-11-01T14:12:19.184Z"
   },
   {
    "duration": 38,
    "start_time": "2023-11-01T14:12:19.214Z"
   },
   {
    "duration": 11,
    "start_time": "2023-11-01T14:12:19.253Z"
   },
   {
    "duration": 8,
    "start_time": "2023-11-01T14:12:19.265Z"
   },
   {
    "duration": 31,
    "start_time": "2023-11-01T14:12:19.274Z"
   },
   {
    "duration": 12,
    "start_time": "2023-11-01T14:12:19.307Z"
   },
   {
    "duration": 14,
    "start_time": "2023-11-01T14:12:19.320Z"
   },
   {
    "duration": 166,
    "start_time": "2023-11-01T14:12:19.336Z"
   },
   {
    "duration": 104,
    "start_time": "2023-11-01T14:12:19.504Z"
   },
   {
    "duration": 193,
    "start_time": "2023-11-01T14:12:19.610Z"
   },
   {
    "duration": 253,
    "start_time": "2023-11-01T14:12:19.804Z"
   },
   {
    "duration": 8,
    "start_time": "2023-11-01T14:12:20.059Z"
   },
   {
    "duration": 451,
    "start_time": "2023-11-01T14:12:20.069Z"
   },
   {
    "duration": 340,
    "start_time": "2023-11-01T14:12:20.524Z"
   },
   {
    "duration": 14,
    "start_time": "2023-11-01T14:12:20.866Z"
   },
   {
    "duration": 82,
    "start_time": "2023-11-01T14:12:20.882Z"
   },
   {
    "duration": 111,
    "start_time": "2023-11-01T14:12:20.966Z"
   },
   {
    "duration": 431,
    "start_time": "2023-11-01T14:12:21.079Z"
   },
   {
    "duration": 22,
    "start_time": "2023-11-01T14:12:21.512Z"
   },
   {
    "duration": 36,
    "start_time": "2023-11-01T14:12:21.535Z"
   },
   {
    "duration": 53,
    "start_time": "2023-11-01T14:12:21.572Z"
   },
   {
    "duration": 35,
    "start_time": "2023-11-01T14:12:21.626Z"
   },
   {
    "duration": 36,
    "start_time": "2023-11-01T14:12:21.663Z"
   },
   {
    "duration": 38,
    "start_time": "2023-11-01T14:12:21.701Z"
   },
   {
    "duration": 37,
    "start_time": "2023-11-01T14:12:21.741Z"
   },
   {
    "duration": 67,
    "start_time": "2023-11-01T14:12:21.780Z"
   },
   {
    "duration": 317,
    "start_time": "2023-11-01T14:12:21.849Z"
   },
   {
    "duration": 340,
    "start_time": "2023-11-01T14:12:22.167Z"
   },
   {
    "duration": 29,
    "start_time": "2023-11-01T14:12:22.509Z"
   },
   {
    "duration": 32,
    "start_time": "2023-11-01T14:12:22.540Z"
   },
   {
    "duration": 37,
    "start_time": "2023-11-01T14:12:22.574Z"
   },
   {
    "duration": 13,
    "start_time": "2023-11-01T14:12:22.613Z"
   },
   {
    "duration": 20,
    "start_time": "2023-11-01T14:12:22.628Z"
   },
   {
    "duration": 900,
    "start_time": "2023-11-01T14:12:22.650Z"
   },
   {
    "duration": 12,
    "start_time": "2023-11-01T14:12:23.552Z"
   },
   {
    "duration": 84,
    "start_time": "2023-11-01T14:12:23.566Z"
   },
   {
    "duration": 22,
    "start_time": "2023-11-01T14:12:23.652Z"
   },
   {
    "duration": 19,
    "start_time": "2023-11-01T14:12:23.676Z"
   },
   {
    "duration": 18,
    "start_time": "2023-11-01T14:12:23.697Z"
   },
   {
    "duration": 18,
    "start_time": "2023-11-01T14:12:23.716Z"
   },
   {
    "duration": 34,
    "start_time": "2023-11-01T14:12:23.736Z"
   },
   {
    "duration": 107,
    "start_time": "2023-11-01T14:12:23.772Z"
   },
   {
    "duration": 22,
    "start_time": "2023-11-01T14:12:23.881Z"
   },
   {
    "duration": 19,
    "start_time": "2023-11-01T14:12:23.905Z"
   },
   {
    "duration": 6,
    "start_time": "2023-11-01T14:12:23.925Z"
   },
   {
    "duration": 18,
    "start_time": "2023-11-01T14:12:23.932Z"
   },
   {
    "duration": 29,
    "start_time": "2023-11-01T14:12:23.952Z"
   },
   {
    "duration": 39,
    "start_time": "2023-11-01T14:12:23.983Z"
   },
   {
    "duration": 40,
    "start_time": "2023-11-01T14:12:24.024Z"
   },
   {
    "duration": 1441,
    "start_time": "2023-11-01T14:12:24.065Z"
   },
   {
    "duration": 12,
    "start_time": "2023-11-01T14:12:25.508Z"
   },
   {
    "duration": 9,
    "start_time": "2023-11-01T14:12:25.521Z"
   },
   {
    "duration": 435,
    "start_time": "2023-11-01T14:12:25.531Z"
   },
   {
    "duration": 8,
    "start_time": "2023-11-01T14:12:25.968Z"
   },
   {
    "duration": 25,
    "start_time": "2023-11-01T14:12:25.977Z"
   },
   {
    "duration": 17,
    "start_time": "2023-11-01T14:12:26.004Z"
   },
   {
    "duration": 254,
    "start_time": "2023-11-01T14:12:26.023Z"
   },
   {
    "duration": 4,
    "start_time": "2023-11-01T14:12:26.279Z"
   }
  ],
  "kernelspec": {
   "display_name": "Python 3 (ipykernel)",
   "language": "python",
   "name": "python3"
  },
  "language_info": {
   "codemirror_mode": {
    "name": "ipython",
    "version": 3
   },
   "file_extension": ".py",
   "mimetype": "text/x-python",
   "name": "python",
   "nbconvert_exporter": "python",
   "pygments_lexer": "ipython3",
   "version": "3.11.3"
  },
  "toc": {
   "base_numbering": 1,
   "nav_menu": {},
   "number_sections": true,
   "sideBar": true,
   "skip_h1_title": true,
   "title_cell": "Table of Contents",
   "title_sidebar": "Contents",
   "toc_cell": false,
   "toc_position": {},
   "toc_section_display": true,
   "toc_window_display": false
  }
 },
 "nbformat": 4,
 "nbformat_minor": 5
}
