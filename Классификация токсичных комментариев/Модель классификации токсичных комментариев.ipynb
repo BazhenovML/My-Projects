{
 "cells": [
  {
   "cell_type": "markdown",
   "metadata": {
    "toc": true
   },
   "source": [
    "<h1>Содержание<span class=\"tocSkip\"></span></h1>\n",
    "<div class=\"toc\"><ul class=\"toc-item\"><li><span><a href=\"#Обзор-данных\" data-toc-modified-id=\"Обзор-данных-1\"><span class=\"toc-item-num\">1&nbsp;&nbsp;</span>Обзор данных</a></span><ul class=\"toc-item\"><li><span><a href=\"#Вывод:\" data-toc-modified-id=\"Вывод:-1.1\"><span class=\"toc-item-num\">1.1&nbsp;&nbsp;</span>Вывод:</a></span></li></ul></li><li><span><a href=\"#Подготовка-данных\" data-toc-modified-id=\"Подготовка-данных-2\"><span class=\"toc-item-num\">2&nbsp;&nbsp;</span>Подготовка данных</a></span><ul class=\"toc-item\"><li><span><a href=\"#Создадим-корпус-текстов\" data-toc-modified-id=\"Создадим-корпус-текстов-2.1\"><span class=\"toc-item-num\">2.1&nbsp;&nbsp;</span>Создадим корпус текстов</a></span></li><li><span><a href=\"#Произведем-лемматизацию-корпуса-и-очистим-от-лишних-символов\" data-toc-modified-id=\"Произведем-лемматизацию-корпуса-и-очистим-от-лишних-символов-2.2\"><span class=\"toc-item-num\">2.2&nbsp;&nbsp;</span>Произведем лемматизацию корпуса и очистим от лишних символов</a></span></li><li><span><a href=\"#Объединим-обработанный-корпус-с-исходными-данными\" data-toc-modified-id=\"Объединим-обработанный-корпус-с-исходными-данными-2.3\"><span class=\"toc-item-num\">2.3&nbsp;&nbsp;</span>Объединим обработанный корпус с исходными данными</a></span></li><li><span><a href=\"#Датасет-разобьем-на-обучающую,-валидационную-и-тестовую-выборки.\" data-toc-modified-id=\"Датасет-разобьем-на-обучающую,-валидационную-и-тестовую-выборки.-2.4\"><span class=\"toc-item-num\">2.4&nbsp;&nbsp;</span>Датасет разобьем на обучающую, валидационную и тестовую выборки.</a></span></li><li><span><a href=\"#Векторизируем-данные.\" data-toc-modified-id=\"Векторизируем-данные.-2.5\"><span class=\"toc-item-num\">2.5&nbsp;&nbsp;</span>Векторизируем данные.</a></span></li><li><span><a href=\"#Вывод:\" data-toc-modified-id=\"Вывод:-2.6\"><span class=\"toc-item-num\">2.6&nbsp;&nbsp;</span>Вывод:</a></span></li></ul></li><li><span><a href=\"#Обучение\" data-toc-modified-id=\"Обучение-3\"><span class=\"toc-item-num\">3&nbsp;&nbsp;</span>Обучение</a></span><ul class=\"toc-item\"><li><span><a href=\"#LogisticRegression\" data-toc-modified-id=\"LogisticRegression-3.1\"><span class=\"toc-item-num\">3.1&nbsp;&nbsp;</span>LogisticRegression</a></span></li><li><span><a href=\"#LGBMClassifier\" data-toc-modified-id=\"LGBMClassifier-3.2\"><span class=\"toc-item-num\">3.2&nbsp;&nbsp;</span>LGBMClassifier</a></span></li><li><span><a href=\"#CatBoostClassifier\" data-toc-modified-id=\"CatBoostClassifier-3.3\"><span class=\"toc-item-num\">3.3&nbsp;&nbsp;</span>CatBoostClassifier</a></span></li><li><span><a href=\"#DecisionTreeClassifier\" data-toc-modified-id=\"DecisionTreeClassifier-3.4\"><span class=\"toc-item-num\">3.4&nbsp;&nbsp;</span>DecisionTreeClassifier</a></span></li><li><span><a href=\"#Вывод:\" data-toc-modified-id=\"Вывод:-3.5\"><span class=\"toc-item-num\">3.5&nbsp;&nbsp;</span>Вывод:</a></span></li></ul></li><li><span><a href=\"#Тестирование-лучшей-выборки\" data-toc-modified-id=\"Тестирование-лучшей-выборки-4\"><span class=\"toc-item-num\">4&nbsp;&nbsp;</span>Тестирование лучшей выборки</a></span></li><li><span><a href=\"#Общий-вывод\" data-toc-modified-id=\"Общий-вывод-5\"><span class=\"toc-item-num\">5&nbsp;&nbsp;</span>Общий вывод</a></span></li><li><span><a href=\"#Чек-лист-проверки\" data-toc-modified-id=\"Чек-лист-проверки-6\"><span class=\"toc-item-num\">6&nbsp;&nbsp;</span>Чек-лист проверки</a></span></li></ul></div>"
   ]
  },
  {
   "cell_type": "markdown",
   "metadata": {},
   "source": [
    "# Проект для «Викишоп»"
   ]
  },
  {
   "cell_type": "markdown",
   "metadata": {},
   "source": [
    "Интернет-магазин «Викишоп» запускает новый сервис. Теперь пользователи могут редактировать и дополнять описания товаров, как в вики-сообществах. То есть клиенты предлагают свои правки и комментируют изменения других. Магазину нужен инструмент, который будет искать токсичные комментарии и отправлять их на модерацию. \n",
    "\n",
    "**Задача проекта:** Обучить модель классифицировать комментарии на позитивные и негативные. \n",
    "\n",
    "**Целевая метрика:** Постройте модель со значением метрики качества *F1* не меньше 0.75. \n",
    "\n",
    "**Инструкция по выполнению проекта**\n",
    "\n",
    "1. Загрузите и подготовьте данные.\n",
    "2. Обучите разные модели. \n",
    "3. Сделайте выводы.\n",
    "\n",
    "Для выполнения проекта применять *BERT* необязательно, но вы можете попробовать.\n",
    "\n",
    "**Описание данных**\n",
    "\n",
    "Данные находятся в файле `toxic_comments.csv`. Столбец *text* в нём содержит текст комментария, а *toxic* — целевой признак."
   ]
  },
  {
   "cell_type": "markdown",
   "metadata": {},
   "source": [
    "## Обзор данных"
   ]
  },
  {
   "cell_type": "code",
   "execution_count": 1,
   "metadata": {},
   "outputs": [
    {
     "name": "stdout",
     "output_type": "stream",
     "text": [
      "Requirement already satisfied: spacy in /opt/conda/lib/python3.9/site-packages (3.2.0)\n",
      "Requirement already satisfied: tqdm<5.0.0,>=4.38.0 in /opt/conda/lib/python3.9/site-packages (from spacy) (4.61.2)\n",
      "Requirement already satisfied: jinja2 in /opt/conda/lib/python3.9/site-packages (from spacy) (3.0.1)\n",
      "Requirement already satisfied: packaging>=20.0 in /opt/conda/lib/python3.9/site-packages (from spacy) (21.3)\n",
      "Requirement already satisfied: murmurhash<1.1.0,>=0.28.0 in /opt/conda/lib/python3.9/site-packages (from spacy) (1.0.8)\n",
      "Requirement already satisfied: wasabi<1.1.0,>=0.8.1 in /opt/conda/lib/python3.9/site-packages (from spacy) (0.10.1)\n",
      "Requirement already satisfied: spacy-legacy<3.1.0,>=3.0.8 in /opt/conda/lib/python3.9/site-packages (from spacy) (3.0.10)\n",
      "Requirement already satisfied: requests<3.0.0,>=2.13.0 in /opt/conda/lib/python3.9/site-packages (from spacy) (2.25.1)\n",
      "Requirement already satisfied: blis<0.8.0,>=0.4.0 in /opt/conda/lib/python3.9/site-packages (from spacy) (0.7.8)\n",
      "Requirement already satisfied: catalogue<2.1.0,>=2.0.6 in /opt/conda/lib/python3.9/site-packages (from spacy) (2.0.8)\n",
      "Requirement already satisfied: spacy-loggers<2.0.0,>=1.0.0 in /opt/conda/lib/python3.9/site-packages (from spacy) (1.0.3)\n",
      "Requirement already satisfied: srsly<3.0.0,>=2.4.1 in /opt/conda/lib/python3.9/site-packages (from spacy) (2.4.4)\n",
      "Requirement already satisfied: typer<0.5.0,>=0.3.0 in /opt/conda/lib/python3.9/site-packages (from spacy) (0.4.2)\n",
      "Requirement already satisfied: preshed<3.1.0,>=3.0.2 in /opt/conda/lib/python3.9/site-packages (from spacy) (3.0.7)\n",
      "Requirement already satisfied: pydantic!=1.8,!=1.8.1,<1.9.0,>=1.7.4 in /opt/conda/lib/python3.9/site-packages (from spacy) (1.8.2)\n",
      "Requirement already satisfied: setuptools in /opt/conda/lib/python3.9/site-packages (from spacy) (49.6.0.post20210108)\n",
      "Requirement already satisfied: cymem<2.1.0,>=2.0.2 in /opt/conda/lib/python3.9/site-packages (from spacy) (2.0.6)\n",
      "Requirement already satisfied: pathy>=0.3.5 in /opt/conda/lib/python3.9/site-packages (from spacy) (0.6.2)\n",
      "Requirement already satisfied: numpy>=1.15.0 in /opt/conda/lib/python3.9/site-packages (from spacy) (1.21.1)\n",
      "Requirement already satisfied: thinc<8.1.0,>=8.0.12 in /opt/conda/lib/python3.9/site-packages (from spacy) (8.0.17)\n",
      "Requirement already satisfied: langcodes<4.0.0,>=3.2.0 in /opt/conda/lib/python3.9/site-packages (from spacy) (3.3.0)\n",
      "Requirement already satisfied: pyparsing!=3.0.5,>=2.0.2 in /opt/conda/lib/python3.9/site-packages (from packaging>=20.0->spacy) (2.4.7)\n",
      "Requirement already satisfied: smart-open<6.0.0,>=5.2.1 in /opt/conda/lib/python3.9/site-packages (from pathy>=0.3.5->spacy) (5.2.1)\n",
      "Requirement already satisfied: typing-extensions>=3.7.4.3 in /opt/conda/lib/python3.9/site-packages (from pydantic!=1.8,!=1.8.1,<1.9.0,>=1.7.4->spacy) (4.3.0)\n",
      "Requirement already satisfied: idna<3,>=2.5 in /opt/conda/lib/python3.9/site-packages (from requests<3.0.0,>=2.13.0->spacy) (2.10)\n",
      "Requirement already satisfied: urllib3<1.27,>=1.21.1 in /opt/conda/lib/python3.9/site-packages (from requests<3.0.0,>=2.13.0->spacy) (1.26.6)\n",
      "Requirement already satisfied: chardet<5,>=3.0.2 in /opt/conda/lib/python3.9/site-packages (from requests<3.0.0,>=2.13.0->spacy) (4.0.0)\n",
      "Requirement already satisfied: certifi>=2017.4.17 in /opt/conda/lib/python3.9/site-packages (from requests<3.0.0,>=2.13.0->spacy) (2022.6.15)\n",
      "Requirement already satisfied: click<9.0.0,>=7.1.1 in /opt/conda/lib/python3.9/site-packages (from typer<0.5.0,>=0.3.0->spacy) (8.1.3)\n",
      "Requirement already satisfied: MarkupSafe>=2.0 in /opt/conda/lib/python3.9/site-packages (from jinja2->spacy) (2.1.1)\n",
      "Note: you may need to restart the kernel to use updated packages.\n"
     ]
    }
   ],
   "source": [
    "pip install spacy"
   ]
  },
  {
   "cell_type": "code",
   "execution_count": 2,
   "metadata": {},
   "outputs": [
    {
     "name": "stdout",
     "output_type": "stream",
     "text": [
      "Requirement already satisfied: spacy in /opt/conda/lib/python3.9/site-packages (3.2.0)\n",
      "Requirement already satisfied: catalogue<2.1.0,>=2.0.6 in /opt/conda/lib/python3.9/site-packages (from spacy) (2.0.8)\n",
      "Requirement already satisfied: thinc<8.1.0,>=8.0.12 in /opt/conda/lib/python3.9/site-packages (from spacy) (8.0.17)\n",
      "Requirement already satisfied: numpy>=1.15.0 in /opt/conda/lib/python3.9/site-packages (from spacy) (1.21.1)\n",
      "Requirement already satisfied: pathy>=0.3.5 in /opt/conda/lib/python3.9/site-packages (from spacy) (0.6.2)\n",
      "Requirement already satisfied: pydantic!=1.8,!=1.8.1,<1.9.0,>=1.7.4 in /opt/conda/lib/python3.9/site-packages (from spacy) (1.8.2)\n",
      "Requirement already satisfied: srsly<3.0.0,>=2.4.1 in /opt/conda/lib/python3.9/site-packages (from spacy) (2.4.4)\n",
      "Requirement already satisfied: langcodes<4.0.0,>=3.2.0 in /opt/conda/lib/python3.9/site-packages (from spacy) (3.3.0)\n",
      "Requirement already satisfied: preshed<3.1.0,>=3.0.2 in /opt/conda/lib/python3.9/site-packages (from spacy) (3.0.7)\n",
      "Requirement already satisfied: blis<0.8.0,>=0.4.0 in /opt/conda/lib/python3.9/site-packages (from spacy) (0.7.8)\n",
      "Requirement already satisfied: spacy-loggers<2.0.0,>=1.0.0 in /opt/conda/lib/python3.9/site-packages (from spacy) (1.0.3)\n",
      "Requirement already satisfied: spacy-legacy<3.1.0,>=3.0.8 in /opt/conda/lib/python3.9/site-packages (from spacy) (3.0.10)\n",
      "Requirement already satisfied: setuptools in /opt/conda/lib/python3.9/site-packages (from spacy) (49.6.0.post20210108)\n",
      "Requirement already satisfied: wasabi<1.1.0,>=0.8.1 in /opt/conda/lib/python3.9/site-packages (from spacy) (0.10.1)\n",
      "Requirement already satisfied: typer<0.5.0,>=0.3.0 in /opt/conda/lib/python3.9/site-packages (from spacy) (0.4.2)\n",
      "Requirement already satisfied: requests<3.0.0,>=2.13.0 in /opt/conda/lib/python3.9/site-packages (from spacy) (2.25.1)\n",
      "Requirement already satisfied: murmurhash<1.1.0,>=0.28.0 in /opt/conda/lib/python3.9/site-packages (from spacy) (1.0.8)\n",
      "Requirement already satisfied: tqdm<5.0.0,>=4.38.0 in /opt/conda/lib/python3.9/site-packages (from spacy) (4.61.2)\n",
      "Requirement already satisfied: cymem<2.1.0,>=2.0.2 in /opt/conda/lib/python3.9/site-packages (from spacy) (2.0.6)\n",
      "Requirement already satisfied: jinja2 in /opt/conda/lib/python3.9/site-packages (from spacy) (3.0.1)\n",
      "Requirement already satisfied: packaging>=20.0 in /opt/conda/lib/python3.9/site-packages (from spacy) (21.3)\n",
      "Requirement already satisfied: pyparsing!=3.0.5,>=2.0.2 in /opt/conda/lib/python3.9/site-packages (from packaging>=20.0->spacy) (2.4.7)\n",
      "Requirement already satisfied: smart-open<6.0.0,>=5.2.1 in /opt/conda/lib/python3.9/site-packages (from pathy>=0.3.5->spacy) (5.2.1)\n",
      "Requirement already satisfied: typing-extensions>=3.7.4.3 in /opt/conda/lib/python3.9/site-packages (from pydantic!=1.8,!=1.8.1,<1.9.0,>=1.7.4->spacy) (4.3.0)\n",
      "Requirement already satisfied: certifi>=2017.4.17 in /opt/conda/lib/python3.9/site-packages (from requests<3.0.0,>=2.13.0->spacy) (2022.6.15)\n",
      "Requirement already satisfied: urllib3<1.27,>=1.21.1 in /opt/conda/lib/python3.9/site-packages (from requests<3.0.0,>=2.13.0->spacy) (1.26.6)\n",
      "Requirement already satisfied: idna<3,>=2.5 in /opt/conda/lib/python3.9/site-packages (from requests<3.0.0,>=2.13.0->spacy) (2.10)\n",
      "Requirement already satisfied: chardet<5,>=3.0.2 in /opt/conda/lib/python3.9/site-packages (from requests<3.0.0,>=2.13.0->spacy) (4.0.0)\n",
      "Requirement already satisfied: click<9.0.0,>=7.1.1 in /opt/conda/lib/python3.9/site-packages (from typer<0.5.0,>=0.3.0->spacy) (8.1.3)\n",
      "Requirement already satisfied: MarkupSafe>=2.0 in /opt/conda/lib/python3.9/site-packages (from jinja2->spacy) (2.1.1)\n",
      "\u001b[38;5;3m⚠ As of spaCy v3.0, shortcuts like 'en' are deprecated. Please use the\n",
      "full pipeline package name 'en_core_web_sm' instead.\u001b[0m\n",
      "Collecting en-core-web-sm==3.2.0\n",
      "  Downloading https://github.com/explosion/spacy-models/releases/download/en_core_web_sm-3.2.0/en_core_web_sm-3.2.0-py3-none-any.whl (13.9 MB)\n",
      "\u001b[K     |████████████████████████████████| 13.9 MB 2.6 MB/s eta 0:00:01\n",
      "\u001b[?25hRequirement already satisfied: spacy<3.3.0,>=3.2.0 in /opt/conda/lib/python3.9/site-packages (from en-core-web-sm==3.2.0) (3.2.0)\n",
      "Requirement already satisfied: cymem<2.1.0,>=2.0.2 in /opt/conda/lib/python3.9/site-packages (from spacy<3.3.0,>=3.2.0->en-core-web-sm==3.2.0) (2.0.6)\n",
      "Requirement already satisfied: tqdm<5.0.0,>=4.38.0 in /opt/conda/lib/python3.9/site-packages (from spacy<3.3.0,>=3.2.0->en-core-web-sm==3.2.0) (4.61.2)\n",
      "Requirement already satisfied: blis<0.8.0,>=0.4.0 in /opt/conda/lib/python3.9/site-packages (from spacy<3.3.0,>=3.2.0->en-core-web-sm==3.2.0) (0.7.8)\n",
      "Requirement already satisfied: pydantic!=1.8,!=1.8.1,<1.9.0,>=1.7.4 in /opt/conda/lib/python3.9/site-packages (from spacy<3.3.0,>=3.2.0->en-core-web-sm==3.2.0) (1.8.2)\n",
      "Requirement already satisfied: wasabi<1.1.0,>=0.8.1 in /opt/conda/lib/python3.9/site-packages (from spacy<3.3.0,>=3.2.0->en-core-web-sm==3.2.0) (0.10.1)\n",
      "Requirement already satisfied: typer<0.5.0,>=0.3.0 in /opt/conda/lib/python3.9/site-packages (from spacy<3.3.0,>=3.2.0->en-core-web-sm==3.2.0) (0.4.2)\n",
      "Requirement already satisfied: preshed<3.1.0,>=3.0.2 in /opt/conda/lib/python3.9/site-packages (from spacy<3.3.0,>=3.2.0->en-core-web-sm==3.2.0) (3.0.7)\n",
      "Requirement already satisfied: thinc<8.1.0,>=8.0.12 in /opt/conda/lib/python3.9/site-packages (from spacy<3.3.0,>=3.2.0->en-core-web-sm==3.2.0) (8.0.17)\n",
      "Requirement already satisfied: numpy>=1.15.0 in /opt/conda/lib/python3.9/site-packages (from spacy<3.3.0,>=3.2.0->en-core-web-sm==3.2.0) (1.21.1)\n",
      "Requirement already satisfied: setuptools in /opt/conda/lib/python3.9/site-packages (from spacy<3.3.0,>=3.2.0->en-core-web-sm==3.2.0) (49.6.0.post20210108)\n",
      "Requirement already satisfied: requests<3.0.0,>=2.13.0 in /opt/conda/lib/python3.9/site-packages (from spacy<3.3.0,>=3.2.0->en-core-web-sm==3.2.0) (2.25.1)\n",
      "Requirement already satisfied: catalogue<2.1.0,>=2.0.6 in /opt/conda/lib/python3.9/site-packages (from spacy<3.3.0,>=3.2.0->en-core-web-sm==3.2.0) (2.0.8)\n",
      "Requirement already satisfied: srsly<3.0.0,>=2.4.1 in /opt/conda/lib/python3.9/site-packages (from spacy<3.3.0,>=3.2.0->en-core-web-sm==3.2.0) (2.4.4)\n",
      "Requirement already satisfied: langcodes<4.0.0,>=3.2.0 in /opt/conda/lib/python3.9/site-packages (from spacy<3.3.0,>=3.2.0->en-core-web-sm==3.2.0) (3.3.0)\n",
      "Requirement already satisfied: spacy-legacy<3.1.0,>=3.0.8 in /opt/conda/lib/python3.9/site-packages (from spacy<3.3.0,>=3.2.0->en-core-web-sm==3.2.0) (3.0.10)\n",
      "Requirement already satisfied: murmurhash<1.1.0,>=0.28.0 in /opt/conda/lib/python3.9/site-packages (from spacy<3.3.0,>=3.2.0->en-core-web-sm==3.2.0) (1.0.8)\n",
      "Requirement already satisfied: spacy-loggers<2.0.0,>=1.0.0 in /opt/conda/lib/python3.9/site-packages (from spacy<3.3.0,>=3.2.0->en-core-web-sm==3.2.0) (1.0.3)\n",
      "Requirement already satisfied: pathy>=0.3.5 in /opt/conda/lib/python3.9/site-packages (from spacy<3.3.0,>=3.2.0->en-core-web-sm==3.2.0) (0.6.2)\n",
      "Requirement already satisfied: jinja2 in /opt/conda/lib/python3.9/site-packages (from spacy<3.3.0,>=3.2.0->en-core-web-sm==3.2.0) (3.0.1)\n",
      "Requirement already satisfied: packaging>=20.0 in /opt/conda/lib/python3.9/site-packages (from spacy<3.3.0,>=3.2.0->en-core-web-sm==3.2.0) (21.3)\n",
      "Requirement already satisfied: pyparsing!=3.0.5,>=2.0.2 in /opt/conda/lib/python3.9/site-packages (from packaging>=20.0->spacy<3.3.0,>=3.2.0->en-core-web-sm==3.2.0) (2.4.7)\n",
      "Requirement already satisfied: smart-open<6.0.0,>=5.2.1 in /opt/conda/lib/python3.9/site-packages (from pathy>=0.3.5->spacy<3.3.0,>=3.2.0->en-core-web-sm==3.2.0) (5.2.1)\n",
      "Requirement already satisfied: typing-extensions>=3.7.4.3 in /opt/conda/lib/python3.9/site-packages (from pydantic!=1.8,!=1.8.1,<1.9.0,>=1.7.4->spacy<3.3.0,>=3.2.0->en-core-web-sm==3.2.0) (4.3.0)\n",
      "Requirement already satisfied: urllib3<1.27,>=1.21.1 in /opt/conda/lib/python3.9/site-packages (from requests<3.0.0,>=2.13.0->spacy<3.3.0,>=3.2.0->en-core-web-sm==3.2.0) (1.26.6)\n",
      "Requirement already satisfied: idna<3,>=2.5 in /opt/conda/lib/python3.9/site-packages (from requests<3.0.0,>=2.13.0->spacy<3.3.0,>=3.2.0->en-core-web-sm==3.2.0) (2.10)\n",
      "Requirement already satisfied: certifi>=2017.4.17 in /opt/conda/lib/python3.9/site-packages (from requests<3.0.0,>=2.13.0->spacy<3.3.0,>=3.2.0->en-core-web-sm==3.2.0) (2022.6.15)\n",
      "Requirement already satisfied: chardet<5,>=3.0.2 in /opt/conda/lib/python3.9/site-packages (from requests<3.0.0,>=2.13.0->spacy<3.3.0,>=3.2.0->en-core-web-sm==3.2.0) (4.0.0)\n",
      "Requirement already satisfied: click<9.0.0,>=7.1.1 in /opt/conda/lib/python3.9/site-packages (from typer<0.5.0,>=0.3.0->spacy<3.3.0,>=3.2.0->en-core-web-sm==3.2.0) (8.1.3)\n",
      "Requirement already satisfied: MarkupSafe>=2.0 in /opt/conda/lib/python3.9/site-packages (from jinja2->spacy<3.3.0,>=3.2.0->en-core-web-sm==3.2.0) (2.1.1)\n",
      "\u001b[38;5;2m✔ Download and installation successful\u001b[0m\n",
      "You can now load the package via spacy.load('en_core_web_sm')\n"
     ]
    }
   ],
   "source": [
    "# Install spaCy (run in terminal/prompt)\n",
    "import sys\n",
    "!{sys.executable} -m pip install spacy\n",
    "# Download spaCy's  'en' Model\n",
    "!{sys.executable} -m spacy download en"
   ]
  },
  {
   "cell_type": "markdown",
   "metadata": {},
   "source": [
    "Импортируем необходимые библиотеки"
   ]
  },
  {
   "cell_type": "code",
   "execution_count": 3,
   "metadata": {},
   "outputs": [],
   "source": [
    "# Импорт стандартных библиотек\n",
    "import pandas as pd\n",
    "import numpy as np\n",
    "from sklearn.metrics import f1_score\n",
    "from sklearn.linear_model import LogisticRegression\n",
    "from sklearn.tree import DecisionTreeClassifier\n",
    "from sklearn.model_selection import train_test_split\n",
    "from sklearn.feature_extraction.text import CountVectorizer, TfidfVectorizer\n",
    "import matplotlib.pyplot as plt\n",
    "\n",
    "# Импорт дополнительных библиотек\n",
    "import spacy \n",
    "import en_core_web_sm\n",
    "import re\n",
    "import nltk\n",
    "import seaborn as sns \n",
    "from tqdm import notebook\n",
    "from nltk.corpus import stopwords\n",
    "from lightgbm import LGBMClassifier\n",
    "from pymystem3 import Mystem\n",
    "from nltk.stem import WordNetLemmatizer\n",
    "from catboost import CatBoostClassifier"
   ]
  },
  {
   "cell_type": "code",
   "execution_count": 4,
   "metadata": {},
   "outputs": [],
   "source": [
    "df = pd.read_csv('/datasets/toxic_comments.csv')"
   ]
  },
  {
   "cell_type": "markdown",
   "metadata": {},
   "source": [
    "Напишем функцию для обзора данных:"
   ]
  },
  {
   "cell_type": "code",
   "execution_count": 5,
   "metadata": {},
   "outputs": [],
   "source": [
    "def data_overview(data):\n",
    "    \n",
    "    # Проверка на наличие явных дубликатов\n",
    "    duplicated_values = data.duplicated().sum()\n",
    "    if duplicated_values > 0:\n",
    "        print('\\n\\033[91mОбнаружены дубликаты данных\\n\\033[0m')\n",
    "        display(duplicated_values)\n",
    "    else:\n",
    "        print('\\n\\033[91mЯвных дубликатов нет\\n\\033[0m')\n",
    "                \n",
    "        \n",
    "    # Проверка наличия пропущенных значений     \n",
    "    missing_values = data.isna().sum()\n",
    "    if missing_values.sum() > 0:\n",
    "        print('\\n\\033[91mОбнаружены пропущенные значения\\n\\033[0m')\n",
    "        display(missing_values)    \n",
    "    else:\n",
    "        print('\\n\\033[91mПропущенных значений нет\\n\\033[0m')\n",
    "    \n",
    "    \n",
    "    # Выведем первые 5 строк данных\n",
    "    display(data.head())\n",
    "    \n",
    "    # Вывод общей информации о Датасете\n",
    "    data.info()"
   ]
  },
  {
   "cell_type": "code",
   "execution_count": 6,
   "metadata": {
    "scrolled": true
   },
   "outputs": [
    {
     "name": "stdout",
     "output_type": "stream",
     "text": [
      "\n",
      "\u001b[91mЯвных дубликатов нет\n",
      "\u001b[0m\n",
      "\n",
      "\u001b[91mПропущенных значений нет\n",
      "\u001b[0m\n"
     ]
    },
    {
     "data": {
      "text/html": [
       "<div>\n",
       "<style scoped>\n",
       "    .dataframe tbody tr th:only-of-type {\n",
       "        vertical-align: middle;\n",
       "    }\n",
       "\n",
       "    .dataframe tbody tr th {\n",
       "        vertical-align: top;\n",
       "    }\n",
       "\n",
       "    .dataframe thead th {\n",
       "        text-align: right;\n",
       "    }\n",
       "</style>\n",
       "<table border=\"1\" class=\"dataframe\">\n",
       "  <thead>\n",
       "    <tr style=\"text-align: right;\">\n",
       "      <th></th>\n",
       "      <th>Unnamed: 0</th>\n",
       "      <th>text</th>\n",
       "      <th>toxic</th>\n",
       "    </tr>\n",
       "  </thead>\n",
       "  <tbody>\n",
       "    <tr>\n",
       "      <th>0</th>\n",
       "      <td>0</td>\n",
       "      <td>Explanation\\nWhy the edits made under my usern...</td>\n",
       "      <td>0</td>\n",
       "    </tr>\n",
       "    <tr>\n",
       "      <th>1</th>\n",
       "      <td>1</td>\n",
       "      <td>D'aww! He matches this background colour I'm s...</td>\n",
       "      <td>0</td>\n",
       "    </tr>\n",
       "    <tr>\n",
       "      <th>2</th>\n",
       "      <td>2</td>\n",
       "      <td>Hey man, I'm really not trying to edit war. It...</td>\n",
       "      <td>0</td>\n",
       "    </tr>\n",
       "    <tr>\n",
       "      <th>3</th>\n",
       "      <td>3</td>\n",
       "      <td>\"\\nMore\\nI can't make any real suggestions on ...</td>\n",
       "      <td>0</td>\n",
       "    </tr>\n",
       "    <tr>\n",
       "      <th>4</th>\n",
       "      <td>4</td>\n",
       "      <td>You, sir, are my hero. Any chance you remember...</td>\n",
       "      <td>0</td>\n",
       "    </tr>\n",
       "  </tbody>\n",
       "</table>\n",
       "</div>"
      ],
      "text/plain": [
       "   Unnamed: 0                                               text  toxic\n",
       "0           0  Explanation\\nWhy the edits made under my usern...      0\n",
       "1           1  D'aww! He matches this background colour I'm s...      0\n",
       "2           2  Hey man, I'm really not trying to edit war. It...      0\n",
       "3           3  \"\\nMore\\nI can't make any real suggestions on ...      0\n",
       "4           4  You, sir, are my hero. Any chance you remember...      0"
      ]
     },
     "metadata": {},
     "output_type": "display_data"
    },
    {
     "name": "stdout",
     "output_type": "stream",
     "text": [
      "<class 'pandas.core.frame.DataFrame'>\n",
      "RangeIndex: 159292 entries, 0 to 159291\n",
      "Data columns (total 3 columns):\n",
      " #   Column      Non-Null Count   Dtype \n",
      "---  ------      --------------   ----- \n",
      " 0   Unnamed: 0  159292 non-null  int64 \n",
      " 1   text        159292 non-null  object\n",
      " 2   toxic       159292 non-null  int64 \n",
      "dtypes: int64(2), object(1)\n",
      "memory usage: 3.6+ MB\n"
     ]
    }
   ],
   "source": [
    "data_overview(df)"
   ]
  },
  {
   "cell_type": "markdown",
   "metadata": {},
   "source": [
    "Визуализаруем сбалансированность классов:"
   ]
  },
  {
   "cell_type": "code",
   "execution_count": 7,
   "metadata": {},
   "outputs": [
    {
     "data": {
      "image/png": "[encoded data removed]",
      "text/plain": [
       "<Figure size 1080x432 with 1 Axes>"
      ]
     },
     "metadata": {
      "needs_background": "light"
     },
     "output_type": "display_data"
    }
   ],
   "source": [
    "plt.figure(figsize=(15, 6))\n",
    "ax = sns.countplot(x='toxic', data=df)\n",
    "\n",
    "# Добавляем подписи к осям:\n",
    "ax.set_title('Распределение классов')\n",
    "ax.set_xlabel('Класс')\n",
    "ax.set_ylabel('Количество');"
   ]
  },
  {
   "cell_type": "markdown",
   "metadata": {},
   "source": [
    "### Вывод:\n",
    "Входе обзора данных выяснилось:\n",
    "\n",
    "* Датасет содержит **`159292 строк`**.\n",
    "* Имеется лишняя колонка **`Unnamed: 0`**.\n",
    "* Тип данных соответсвует значениям в колонках.\n",
    "* Явных дубликатов нет.\n",
    "* Пропущенных значений нет."
   ]
  },
  {
   "cell_type": "markdown",
   "metadata": {},
   "source": [
    "## Подготовка данных"
   ]
  },
  {
   "cell_type": "markdown",
   "metadata": {},
   "source": [
    "В связи с неактальностью колонки Unnamed: 0 - произведем её удаление."
   ]
  },
  {
   "cell_type": "code",
   "execution_count": 8,
   "metadata": {},
   "outputs": [
    {
     "data": {
      "text/html": [
       "<div>\n",
       "<style scoped>\n",
       "    .dataframe tbody tr th:only-of-type {\n",
       "        vertical-align: middle;\n",
       "    }\n",
       "\n",
       "    .dataframe tbody tr th {\n",
       "        vertical-align: top;\n",
       "    }\n",
       "\n",
       "    .dataframe thead th {\n",
       "        text-align: right;\n",
       "    }\n",
       "</style>\n",
       "<table border=\"1\" class=\"dataframe\">\n",
       "  <thead>\n",
       "    <tr style=\"text-align: right;\">\n",
       "      <th></th>\n",
       "      <th>text</th>\n",
       "      <th>toxic</th>\n",
       "    </tr>\n",
       "  </thead>\n",
       "  <tbody>\n",
       "    <tr>\n",
       "      <th>0</th>\n",
       "      <td>Explanation\\nWhy the edits made under my usern...</td>\n",
       "      <td>0</td>\n",
       "    </tr>\n",
       "  </tbody>\n",
       "</table>\n",
       "</div>"
      ],
      "text/plain": [
       "                                                text  toxic\n",
       "0  Explanation\\nWhy the edits made under my usern...      0"
      ]
     },
     "execution_count": 8,
     "metadata": {},
     "output_type": "execute_result"
    }
   ],
   "source": [
    "df = df.drop(columns=['Unnamed: 0'])\n",
    "df.head(1)"
   ]
  },
  {
   "cell_type": "markdown",
   "metadata": {},
   "source": [
    "### Создадим корпус текстов"
   ]
  },
  {
   "cell_type": "code",
   "execution_count": 9,
   "metadata": {
    "scrolled": false
   },
   "outputs": [
    {
     "data": {
      "text/plain": [
       "array([\"Explanation\\nWhy the edits made under my username Hardcore Metallica Fan were reverted? They weren't vandalisms, just closure on some GAs after I voted at New York Dolls FAC. And please don't remove the template from the talk page since I'm retired now.89.205.38.27\",\n",
       "       \"D'aww! He matches this background colour I'm seemingly stuck with. Thanks.  (talk) 21:51, January 11, 2016 (UTC)\",\n",
       "       \"Hey man, I'm really not trying to edit war. It's just that this guy is constantly removing relevant information and talking to me through edits instead of my talk page. He seems to care more about the formatting than the actual info.\",\n",
       "       ...,\n",
       "       'Spitzer \\n\\nUmm, theres no actual article for prostitution ring.  - Crunch Captain.',\n",
       "       'And it looks like it was actually you who put on the speedy to have the first version deleted now that I look at it.',\n",
       "       '\"\\nAnd ... I really don\\'t think you understand.  I came here and my idea was bad right away.  What kind of community goes \"\"you have bad ideas\"\" go away, instead of helping rewrite them.   \"'],\n",
       "      dtype=object)"
      ]
     },
     "metadata": {},
     "output_type": "display_data"
    }
   ],
   "source": [
    "corpus = df['text'].values\n",
    "display(corpus)"
   ]
  },
  {
   "cell_type": "markdown",
   "metadata": {},
   "source": [
    "### Произведем лемматизацию корпуса и очистим от лишних символов"
   ]
  },
  {
   "cell_type": "markdown",
   "metadata": {},
   "source": [
    "Воспользуемся решением spyCy"
   ]
  },
  {
   "cell_type": "code",
   "execution_count": 10,
   "metadata": {},
   "outputs": [],
   "source": [
    "nlp = spacy.load(\"en_core_web_sm\")\n",
    "\n",
    "def spacy(data):\n",
    "    sentence = data\n",
    "    doc = nlp(sentence)\n",
    "    lemm_text = \" \".join([token.lemma_ for token in doc]) \n",
    "    return lemm_text"
   ]
  },
  {
   "cell_type": "code",
   "execution_count": 11,
   "metadata": {},
   "outputs": [],
   "source": [
    "def clear_text (lemm_text):\n",
    "    pattern = re.sub(r'[^a-zA-Z]', ' ', lemm_text)\n",
    "    pattern.split()\n",
    "    pattern = \" \".join(pattern.split())\n",
    "    return pattern"
   ]
  },
  {
   "cell_type": "code",
   "execution_count": 12,
   "metadata": {
    "scrolled": true
   },
   "outputs": [
    {
     "data": {
      "application/vnd.jupyter.widget-view+json": {
       "model_id": "70399eb43b2a41719efe36edaaabe544",
       "version_major": 2,
       "version_minor": 0
      },
      "text/plain": [
       "  0%|          | 0/159292 [00:00<?, ?it/s]"
      ]
     },
     "metadata": {},
     "output_type": "display_data"
    },
    {
     "data": {
      "text/plain": [
       "array(['explanation why the edit make under my username Hardcore Metallica Fan be revert they weren t vandalism just closure on some gas after I vote at New York Dolls FAC and please don t remove the template from the talk page since I m retire now',\n",
       "       'd aww he match this background colour I m seemingly stuck with thank talk January UTC',\n",
       "       'hey man I m really not try to edit war it s just that this guy be constantly remove relevant information and talk to I through edit instead of my talk page he seem to care more about the formatting than the actual info',\n",
       "       ...,\n",
       "       'Spitzer Umm there s no actual article for prostitution ring Crunch Captain',\n",
       "       'and it look like it be actually you who put on the speedy to have the first version delete now that I look at it',\n",
       "       'and I really don t think you understand I come here and my idea be bad right away what kind of community go you have bad idea go away instead of help rewrite they'],\n",
       "      dtype=object)"
      ]
     },
     "metadata": {},
     "output_type": "display_data"
    }
   ],
   "source": [
    "# Применение функции spacy к данным\n",
    "for i in notebook.tqdm(range(len(corpus))):\n",
    "    corpus[i] = spacy(clear_text(corpus[i]))\n",
    "display(corpus)"
   ]
  },
  {
   "cell_type": "markdown",
   "metadata": {},
   "source": [
    "### Объединим обработанный корпус с исходными данными"
   ]
  },
  {
   "cell_type": "code",
   "execution_count": 13,
   "metadata": {},
   "outputs": [
    {
     "data": {
      "text/html": [
       "<div>\n",
       "<style scoped>\n",
       "    .dataframe tbody tr th:only-of-type {\n",
       "        vertical-align: middle;\n",
       "    }\n",
       "\n",
       "    .dataframe tbody tr th {\n",
       "        vertical-align: top;\n",
       "    }\n",
       "\n",
       "    .dataframe thead th {\n",
       "        text-align: right;\n",
       "    }\n",
       "</style>\n",
       "<table border=\"1\" class=\"dataframe\">\n",
       "  <thead>\n",
       "    <tr style=\"text-align: right;\">\n",
       "      <th></th>\n",
       "      <th>text</th>\n",
       "      <th>toxic</th>\n",
       "      <th>lemm_text</th>\n",
       "    </tr>\n",
       "  </thead>\n",
       "  <tbody>\n",
       "    <tr>\n",
       "      <th>0</th>\n",
       "      <td>explanation why the edit make under my usernam...</td>\n",
       "      <td>0</td>\n",
       "      <td>explanation why the edit make under my usernam...</td>\n",
       "    </tr>\n",
       "    <tr>\n",
       "      <th>1</th>\n",
       "      <td>d aww he match this background colour I m seem...</td>\n",
       "      <td>0</td>\n",
       "      <td>d aww he match this background colour I m seem...</td>\n",
       "    </tr>\n",
       "    <tr>\n",
       "      <th>2</th>\n",
       "      <td>hey man I m really not try to edit war it s ju...</td>\n",
       "      <td>0</td>\n",
       "      <td>hey man I m really not try to edit war it s ju...</td>\n",
       "    </tr>\n",
       "    <tr>\n",
       "      <th>3</th>\n",
       "      <td>More I can t make any real suggestion on impro...</td>\n",
       "      <td>0</td>\n",
       "      <td>More I can t make any real suggestion on impro...</td>\n",
       "    </tr>\n",
       "    <tr>\n",
       "      <th>4</th>\n",
       "      <td>you sir be my hero any chance you remember wha...</td>\n",
       "      <td>0</td>\n",
       "      <td>you sir be my hero any chance you remember wha...</td>\n",
       "    </tr>\n",
       "  </tbody>\n",
       "</table>\n",
       "</div>"
      ],
      "text/plain": [
       "                                                text  toxic  \\\n",
       "0  explanation why the edit make under my usernam...      0   \n",
       "1  d aww he match this background colour I m seem...      0   \n",
       "2  hey man I m really not try to edit war it s ju...      0   \n",
       "3  More I can t make any real suggestion on impro...      0   \n",
       "4  you sir be my hero any chance you remember wha...      0   \n",
       "\n",
       "                                           lemm_text  \n",
       "0  explanation why the edit make under my usernam...  \n",
       "1  d aww he match this background colour I m seem...  \n",
       "2  hey man I m really not try to edit war it s ju...  \n",
       "3  More I can t make any real suggestion on impro...  \n",
       "4  you sir be my hero any chance you remember wha...  "
      ]
     },
     "metadata": {},
     "output_type": "display_data"
    }
   ],
   "source": [
    "# Объединение корпуса и исходного датасета\n",
    "data_corpus = pd.DataFrame(corpus)\n",
    "df['lemm_text'] = data_corpus\n",
    "display(df.head())"
   ]
  },
  {
   "cell_type": "markdown",
   "metadata": {},
   "source": [
    "### Датасет разобьем на обучающую, валидационную и тестовую выборки."
   ]
  },
  {
   "cell_type": "code",
   "execution_count": 14,
   "metadata": {},
   "outputs": [
    {
     "data": {
      "text/plain": [
       "(95575,)"
      ]
     },
     "metadata": {},
     "output_type": "display_data"
    },
    {
     "data": {
      "text/plain": [
       "(95575,)"
      ]
     },
     "metadata": {},
     "output_type": "display_data"
    },
    {
     "data": {
      "text/plain": [
       "(63717,)"
      ]
     },
     "metadata": {},
     "output_type": "display_data"
    },
    {
     "data": {
      "text/plain": [
       "(63717,)"
      ]
     },
     "metadata": {},
     "output_type": "display_data"
    }
   ],
   "source": [
    "# Разбивка данных на train и valid\n",
    "features = df['lemm_text']\n",
    "target = df['toxic']\n",
    "\n",
    "features_train, features_valid, target_train, target_valid = train_test_split(\n",
    "    features, target, test_size=0.4, random_state=2024, stratify=target)\n",
    "\n",
    "display(features_train.shape)\n",
    "display(target_train.shape)\n",
    "display(features_valid.shape)\n",
    "display(target_valid.shape)"
   ]
  },
  {
   "cell_type": "code",
   "execution_count": 15,
   "metadata": {},
   "outputs": [
    {
     "data": {
      "text/plain": [
       "(31858,)"
      ]
     },
     "metadata": {},
     "output_type": "display_data"
    },
    {
     "data": {
      "text/plain": [
       "(31858,)"
      ]
     },
     "metadata": {},
     "output_type": "display_data"
    },
    {
     "data": {
      "text/plain": [
       "(31859,)"
      ]
     },
     "metadata": {},
     "output_type": "display_data"
    },
    {
     "data": {
      "text/plain": [
       "(31859,)"
      ]
     },
     "metadata": {},
     "output_type": "display_data"
    }
   ],
   "source": [
    "# Разбивка данных на valid и test\n",
    "features_valid, features_test, target_valid, target_test = train_test_split(\n",
    "    features_valid, target_valid, test_size=0.5, random_state=2024)\n",
    "\n",
    "display(features_valid.shape)\n",
    "display(target_valid.shape)\n",
    "display(features_test.shape)\n",
    "display(target_test.shape)\n",
    "display()"
   ]
  },
  {
   "cell_type": "markdown",
   "metadata": {},
   "source": [
    "### Векторизируем данные."
   ]
  },
  {
   "cell_type": "code",
   "execution_count": 16,
   "metadata": {},
   "outputs": [
    {
     "name": "stderr",
     "output_type": "stream",
     "text": [
      "[nltk_data] Downloading package stopwords to /home/jovyan/nltk_data...\n",
      "[nltk_data]   Package stopwords is already up-to-date!\n"
     ]
    },
    {
     "data": {
      "text/plain": [
       "(95575, 115454)"
      ]
     },
     "metadata": {},
     "output_type": "display_data"
    },
    {
     "data": {
      "text/plain": [
       "(95575,)"
      ]
     },
     "metadata": {},
     "output_type": "display_data"
    },
    {
     "data": {
      "text/plain": [
       "(31858, 115454)"
      ]
     },
     "metadata": {},
     "output_type": "display_data"
    },
    {
     "data": {
      "text/plain": [
       "(31858,)"
      ]
     },
     "metadata": {},
     "output_type": "display_data"
    },
    {
     "data": {
      "text/plain": [
       "(31859, 115454)"
      ]
     },
     "metadata": {},
     "output_type": "display_data"
    },
    {
     "data": {
      "text/plain": [
       "(31859,)"
      ]
     },
     "metadata": {},
     "output_type": "display_data"
    }
   ],
   "source": [
    "nltk.download('stopwords')\n",
    "stopwords = set(stopwords.words('english'))\n",
    "count_tf_idf = TfidfVectorizer(stop_words=stopwords)\n",
    "features_train = count_tf_idf.fit_transform(features_train)\n",
    "features_valid = count_tf_idf.transform(features_valid)\n",
    "features_test = count_tf_idf.transform(features_test)\n",
    "\n",
    "display(features_train.shape)\n",
    "display(target_train.shape)\n",
    "display(features_valid.shape)\n",
    "display(target_valid.shape)\n",
    "display(features_test.shape)\n",
    "display(target_test.shape)"
   ]
  },
  {
   "cell_type": "markdown",
   "metadata": {},
   "source": [
    "### Вывод: \n",
    "Все данные преобразованы: произведена их лемматизация, удалены стоп слова, а лемматизированные выражения преобразованы в векторы."
   ]
  },
  {
   "cell_type": "markdown",
   "metadata": {},
   "source": [
    "## Обучение"
   ]
  },
  {
   "cell_type": "markdown",
   "metadata": {},
   "source": [
    "Обучим модели: **`LogisticRegression`**, **`LGBMClassifier`**, **`DecisionTreeClassifier`** и выберем из них лучшую."
   ]
  },
  {
   "cell_type": "markdown",
   "metadata": {},
   "source": [
    "### LogisticRegression"
   ]
  },
  {
   "cell_type": "code",
   "execution_count": 17,
   "metadata": {},
   "outputs": [
    {
     "name": "stderr",
     "output_type": "stream",
     "text": [
      "/opt/conda/lib/python3.9/site-packages/sklearn/linear_model/_logistic.py:763: ConvergenceWarning: lbfgs failed to converge (status=1):\n",
      "STOP: TOTAL NO. of ITERATIONS REACHED LIMIT.\n",
      "\n",
      "Increase the number of iterations (max_iter) or scale the data as shown in:\n",
      "    https://scikit-learn.org/stable/modules/preprocessing.html\n",
      "Please also refer to the documentation for alternative solver options:\n",
      "    https://scikit-learn.org/stable/modules/linear_model.html#logistic-regression\n",
      "  n_iter_i = _check_optimize_result(\n"
     ]
    },
    {
     "data": {
      "text/plain": [
       "0.7700378898280384"
      ]
     },
     "metadata": {},
     "output_type": "display_data"
    }
   ],
   "source": [
    "model_LR = LogisticRegression(random_state=2024,\n",
    "                              class_weight='balanced',\n",
    "                              C=10)\n",
    "model_LR.fit(features_train, target_train)\n",
    "prediction_valid = model_LR.predict(features_valid)\n",
    "f1_valid = f1_score(target_valid, prediction_valid)\n",
    "\n",
    "display(f1_valid)"
   ]
  },
  {
   "cell_type": "markdown",
   "metadata": {},
   "source": [
    "### LGBMClassifier"
   ]
  },
  {
   "cell_type": "code",
   "execution_count": 18,
   "metadata": {},
   "outputs": [
    {
     "data": {
      "text/plain": [
       "0.7481303795682235"
      ]
     },
     "metadata": {},
     "output_type": "display_data"
    }
   ],
   "source": [
    "model_LGBMC = LGBMClassifier(random_state=2024,\n",
    "                             class_weight='balanced')\n",
    "model_LGBMC.fit(features_train, target_train)\n",
    "prediction_valid = model_LGBMC.predict(features_valid)\n",
    "f1_valid = f1_score(target_valid, prediction_valid)\n",
    "\n",
    "display(f1_valid)"
   ]
  },
  {
   "cell_type": "markdown",
   "metadata": {},
   "source": [
    "### DecisionTreeClassifier "
   ]
  },
  {
   "cell_type": "code",
   "execution_count": 20,
   "metadata": {},
   "outputs": [
    {
     "data": {
      "text/plain": [
       "0.7209375"
      ]
     },
     "metadata": {},
     "output_type": "display_data"
    }
   ],
   "source": [
    "model_tree = DecisionTreeClassifier(max_depth=None,\n",
    "                              min_samples_split=2,\n",
    "                              min_samples_leaf=1,\n",
    "                              random_state=2024,\n",
    "                              max_leaf_nodes=None\n",
    ")\n",
    "model_tree.fit(features_train, target_train)\n",
    "prediction_valid = model_tree.predict(features_valid)\n",
    "f1_valid = f1_score(target_valid, prediction_valid)\n",
    "\n",
    "display(f1_valid)"
   ]
  },
  {
   "cell_type": "markdown",
   "metadata": {},
   "source": [
    "### Вывод:\n",
    "Мы обучили три модели:**`LogisticRegression`** **`LGBMClassifier`** **`DecisionTreeClassifier`**\n",
    "\n",
    "Лучшую метрику `F1` на валидационной выборке, равную `0.76`, показала модель `LogisticRegression`."
   ]
  },
  {
   "cell_type": "markdown",
   "metadata": {},
   "source": [
    "## Тестирование лучшей выборки "
   ]
  },
  {
   "cell_type": "markdown",
   "metadata": {},
   "source": [
    "Проверим лучшую модель **`LogisticRegression`**"
   ]
  },
  {
   "cell_type": "code",
   "execution_count": 21,
   "metadata": {},
   "outputs": [
    {
     "data": {
      "text/plain": [
       "0.7717088885634792"
      ]
     },
     "metadata": {},
     "output_type": "display_data"
    }
   ],
   "source": [
    "prediction_test = model_LR.predict(features_test)\n",
    "f1_test = f1_score(target_test, prediction_test)\n",
    "\n",
    "display(f1_test)"
   ]
  },
  {
   "cell_type": "markdown",
   "metadata": {},
   "source": [
    "Результат на тестовой выборке составляет **0.77** что является проходным значением для нашей целевой метрики `(F1 не меньше 0.75)`"
   ]
  },
  {
   "cell_type": "markdown",
   "metadata": {},
   "source": [
    "## Общий вывод"
   ]
  },
  {
   "cell_type": "markdown",
   "metadata": {},
   "source": [
    "Мы провели обзор и предварительную подготовку данных. \n",
    "\n",
    "В ходе исследования мы обучали и тестировали три разных типа моделей: **`LogisticRegression`**, **`LGBMClassifier`** и **`DecisionTreeClassifier`**, и оценивали их эффективность с использованием метрики **`F1`**  для валидационной выборки.\n",
    "\n",
    "Поскольку исходные данные были в достаточно \"чистыми\", поэтому мы выполнили только лемматизацию имеющихся комментариев, удалили стоп-слова и произвели их векторизацию для последующего обучения моделей.\n",
    "\n",
    "Мы обучали три типа моделей:\n",
    "**`LogisticRegression`**\n",
    "**`LGBMClassifier`**\n",
    "**`DecisionTreeClassifier`**\n",
    "\n",
    "Лучший результат на валидационной выборке показала модель **`LogisticRegression`** - **`F1 = 0.77`**. Она была выбрана как лучшая модель и проверена на соответствие уровню ключевой метрики **`F1`** на тестовой выборке. Итоговая оценка на тестовой выборке составляет **`0.77`**.\n",
    " \n",
    "Модель можно использовать для прогноза.\n"
   ]
  }
 ],
 "metadata": {
  "ExecuteTimeLog": [
   {
    "duration": 1806,
    "start_time": "2024-03-14T17:15:00.169Z"
   },
   {
    "duration": 14792,
    "start_time": "2024-03-14T17:15:26.078Z"
   },
   {
    "duration": 205,
    "start_time": "2024-03-14T17:15:54.970Z"
   },
   {
    "duration": 59,
    "start_time": "2024-03-15T10:04:40.861Z"
   },
   {
    "duration": 368,
    "start_time": "2024-03-15T10:04:47.034Z"
   },
   {
    "duration": 3334,
    "start_time": "2024-03-15T10:04:47.404Z"
   },
   {
    "duration": 31,
    "start_time": "2024-03-15T10:04:50.740Z"
   },
   {
    "duration": 30,
    "start_time": "2024-03-15T10:04:52.606Z"
   },
   {
    "duration": 13,
    "start_time": "2024-03-15T10:04:54.553Z"
   },
   {
    "duration": 919,
    "start_time": "2024-03-15T10:05:39.994Z"
   },
   {
    "duration": 3,
    "start_time": "2024-03-15T10:28:44.410Z"
   },
   {
    "duration": 993,
    "start_time": "2024-03-15T10:31:10.302Z"
   },
   {
    "duration": 4,
    "start_time": "2024-03-15T10:31:26.167Z"
   },
   {
    "duration": 25,
    "start_time": "2024-03-15T10:36:30.677Z"
   },
   {
    "duration": 29,
    "start_time": "2024-03-15T10:38:22.730Z"
   },
   {
    "duration": 96,
    "start_time": "2024-03-15T10:39:44.454Z"
   },
   {
    "duration": 230,
    "start_time": "2024-03-15T10:39:52.818Z"
   },
   {
    "duration": 660,
    "start_time": "2024-03-15T10:46:20.921Z"
   },
   {
    "duration": 235,
    "start_time": "2024-03-15T10:46:55.030Z"
   },
   {
    "duration": 241,
    "start_time": "2024-03-15T10:48:11.595Z"
   },
   {
    "duration": 228,
    "start_time": "2024-03-15T10:48:26.028Z"
   },
   {
    "duration": 3,
    "start_time": "2024-03-15T10:51:38.642Z"
   },
   {
    "duration": 229,
    "start_time": "2024-03-15T10:51:59.996Z"
   },
   {
    "duration": 211,
    "start_time": "2024-03-15T10:52:18.361Z"
   },
   {
    "duration": 221,
    "start_time": "2024-03-15T10:52:30.052Z"
   },
   {
    "duration": 4,
    "start_time": "2024-03-15T10:53:26.610Z"
   },
   {
    "duration": 220,
    "start_time": "2024-03-15T10:53:26.972Z"
   },
   {
    "duration": 96,
    "start_time": "2024-03-15T11:31:54.292Z"
   },
   {
    "duration": 165,
    "start_time": "2024-03-15T11:32:01.039Z"
   },
   {
    "duration": 4,
    "start_time": "2024-03-15T11:32:09.464Z"
   },
   {
    "duration": 422,
    "start_time": "2024-03-15T11:32:10.820Z"
   },
   {
    "duration": 4,
    "start_time": "2024-03-15T12:37:21.984Z"
   },
   {
    "duration": 442,
    "start_time": "2024-03-15T12:37:24.245Z"
   },
   {
    "duration": 4,
    "start_time": "2024-03-15T12:42:53.342Z"
   },
   {
    "duration": 245,
    "start_time": "2024-03-15T12:42:54.711Z"
   },
   {
    "duration": 4,
    "start_time": "2024-03-15T12:44:45.180Z"
   },
   {
    "duration": 230,
    "start_time": "2024-03-15T12:44:46.024Z"
   },
   {
    "duration": 6,
    "start_time": "2024-03-15T12:45:14.293Z"
   },
   {
    "duration": 227,
    "start_time": "2024-03-15T12:45:15.146Z"
   },
   {
    "duration": 4,
    "start_time": "2024-03-15T12:48:47.980Z"
   },
   {
    "duration": 243,
    "start_time": "2024-03-15T12:48:48.338Z"
   },
   {
    "duration": 4,
    "start_time": "2024-03-15T12:49:51.323Z"
   },
   {
    "duration": 250,
    "start_time": "2024-03-15T12:49:53.031Z"
   },
   {
    "duration": 5,
    "start_time": "2024-03-15T12:51:36.059Z"
   },
   {
    "duration": 231,
    "start_time": "2024-03-15T12:51:36.343Z"
   },
   {
    "duration": 4,
    "start_time": "2024-03-15T12:52:25.287Z"
   },
   {
    "duration": 241,
    "start_time": "2024-03-15T12:52:26.237Z"
   },
   {
    "duration": 4,
    "start_time": "2024-03-15T12:52:42.962Z"
   },
   {
    "duration": 240,
    "start_time": "2024-03-15T12:52:43.353Z"
   },
   {
    "duration": 4,
    "start_time": "2024-03-15T12:54:27.440Z"
   },
   {
    "duration": 241,
    "start_time": "2024-03-15T12:54:28.279Z"
   },
   {
    "duration": 4,
    "start_time": "2024-03-15T12:54:58.389Z"
   },
   {
    "duration": 246,
    "start_time": "2024-03-15T12:54:58.670Z"
   },
   {
    "duration": 4,
    "start_time": "2024-03-15T12:55:59.815Z"
   },
   {
    "duration": 255,
    "start_time": "2024-03-15T12:56:00.176Z"
   },
   {
    "duration": 4,
    "start_time": "2024-03-15T12:56:28.014Z"
   },
   {
    "duration": 232,
    "start_time": "2024-03-15T12:56:28.355Z"
   },
   {
    "duration": 5,
    "start_time": "2024-03-15T13:00:53.603Z"
   },
   {
    "duration": 256,
    "start_time": "2024-03-15T13:00:54.930Z"
   },
   {
    "duration": 4,
    "start_time": "2024-03-15T13:01:29.143Z"
   },
   {
    "duration": 253,
    "start_time": "2024-03-15T13:01:29.553Z"
   },
   {
    "duration": 4,
    "start_time": "2024-03-15T13:02:41.820Z"
   },
   {
    "duration": 242,
    "start_time": "2024-03-15T13:02:42.215Z"
   },
   {
    "duration": 5,
    "start_time": "2024-03-15T13:02:49.860Z"
   },
   {
    "duration": 240,
    "start_time": "2024-03-15T13:02:50.270Z"
   },
   {
    "duration": 4,
    "start_time": "2024-03-15T13:04:09.904Z"
   },
   {
    "duration": 247,
    "start_time": "2024-03-15T13:04:10.471Z"
   },
   {
    "duration": 5,
    "start_time": "2024-03-15T13:04:43.358Z"
   },
   {
    "duration": 261,
    "start_time": "2024-03-15T13:04:43.815Z"
   },
   {
    "duration": 2316,
    "start_time": "2024-03-15T13:27:02.740Z"
   },
   {
    "duration": 131,
    "start_time": "2024-03-15T13:27:24.492Z"
   },
   {
    "duration": 2086,
    "start_time": "2024-03-15T13:27:35.922Z"
   },
   {
    "duration": 3,
    "start_time": "2024-03-15T13:41:31.641Z"
   },
   {
    "duration": 4,
    "start_time": "2024-03-15T13:45:37.730Z"
   },
   {
    "duration": 4,
    "start_time": "2024-03-15T13:46:38.401Z"
   },
   {
    "duration": 853,
    "start_time": "2024-03-15T13:46:38.406Z"
   },
   {
    "duration": 4,
    "start_time": "2024-03-15T13:46:39.261Z"
   },
   {
    "duration": 290,
    "start_time": "2024-03-15T13:46:39.267Z"
   },
   {
    "duration": 1571,
    "start_time": "2024-03-15T13:47:04.953Z"
   },
   {
    "duration": 3357,
    "start_time": "2024-03-15T13:47:06.526Z"
   },
   {
    "duration": 5,
    "start_time": "2024-03-15T13:47:09.884Z"
   },
   {
    "duration": 290,
    "start_time": "2024-03-15T13:47:09.890Z"
   },
   {
    "duration": 2171,
    "start_time": "2024-03-15T13:47:10.181Z"
   },
   {
    "duration": 4,
    "start_time": "2024-03-15T13:47:12.353Z"
   },
   {
    "duration": 5,
    "start_time": "2024-03-15T13:49:59.742Z"
   },
   {
    "duration": 127,
    "start_time": "2024-03-15T14:02:29.517Z"
   },
   {
    "duration": 3,
    "start_time": "2024-03-15T14:02:56.369Z"
   },
   {
    "duration": 3,
    "start_time": "2024-03-15T14:02:56.976Z"
   },
   {
    "duration": 15,
    "start_time": "2024-03-15T14:02:57.670Z"
   },
   {
    "duration": 5,
    "start_time": "2024-03-15T14:03:17.362Z"
   },
   {
    "duration": 891,
    "start_time": "2024-03-15T14:03:17.369Z"
   },
   {
    "duration": 4,
    "start_time": "2024-03-15T14:03:18.262Z"
   },
   {
    "duration": 286,
    "start_time": "2024-03-15T14:03:18.267Z"
   },
   {
    "duration": 1441,
    "start_time": "2024-03-15T14:03:31.640Z"
   },
   {
    "duration": 3357,
    "start_time": "2024-03-15T14:03:33.083Z"
   },
   {
    "duration": 4,
    "start_time": "2024-03-15T14:03:36.442Z"
   },
   {
    "duration": 296,
    "start_time": "2024-03-15T14:03:36.448Z"
   },
   {
    "duration": 2114,
    "start_time": "2024-03-15T14:03:36.746Z"
   },
   {
    "duration": 7,
    "start_time": "2024-03-15T14:03:38.862Z"
   },
   {
    "duration": 5,
    "start_time": "2024-03-15T14:03:38.871Z"
   },
   {
    "duration": 128,
    "start_time": "2024-03-15T14:03:38.888Z"
   },
   {
    "duration": 3,
    "start_time": "2024-03-15T14:04:35.236Z"
   },
   {
    "duration": 3,
    "start_time": "2024-03-15T14:04:35.604Z"
   },
   {
    "duration": 14,
    "start_time": "2024-03-15T14:04:35.939Z"
   },
   {
    "duration": 126,
    "start_time": "2024-03-15T14:26:02.010Z"
   },
   {
    "duration": 3,
    "start_time": "2024-03-15T14:26:02.330Z"
   },
   {
    "duration": 15,
    "start_time": "2024-03-15T14:26:02.707Z"
   },
   {
    "duration": 1495,
    "start_time": "2024-03-15T14:26:25.658Z"
   },
   {
    "duration": 918,
    "start_time": "2024-03-15T14:26:27.155Z"
   },
   {
    "duration": 4,
    "start_time": "2024-03-15T14:26:28.074Z"
   },
   {
    "duration": 296,
    "start_time": "2024-03-15T14:26:28.080Z"
   },
   {
    "duration": 2167,
    "start_time": "2024-03-15T14:26:28.377Z"
   },
   {
    "duration": 101,
    "start_time": "2024-03-15T14:26:30.546Z"
   },
   {
    "duration": 0,
    "start_time": "2024-03-15T14:26:30.649Z"
   },
   {
    "duration": 0,
    "start_time": "2024-03-15T14:26:30.650Z"
   },
   {
    "duration": 1467,
    "start_time": "2024-03-15T14:26:43.782Z"
   },
   {
    "duration": 935,
    "start_time": "2024-03-15T14:26:45.250Z"
   },
   {
    "duration": 4,
    "start_time": "2024-03-15T14:26:46.187Z"
   },
   {
    "duration": 302,
    "start_time": "2024-03-15T14:26:46.193Z"
   },
   {
    "duration": 2123,
    "start_time": "2024-03-15T14:26:46.497Z"
   },
   {
    "duration": 19,
    "start_time": "2024-03-15T14:26:48.622Z"
   },
   {
    "duration": 14,
    "start_time": "2024-03-15T14:26:48.642Z"
   },
   {
    "duration": 132,
    "start_time": "2024-03-15T14:26:48.657Z"
   },
   {
    "duration": 45,
    "start_time": "2024-03-16T11:23:36.816Z"
   },
   {
    "duration": 6,
    "start_time": "2024-03-16T11:23:37.195Z"
   },
   {
    "duration": 1337,
    "start_time": "2024-03-16T11:23:57.224Z"
   },
   {
    "duration": 2300,
    "start_time": "2024-03-16T11:23:58.563Z"
   },
   {
    "duration": 4,
    "start_time": "2024-03-16T11:24:00.865Z"
   },
   {
    "duration": 322,
    "start_time": "2024-03-16T11:24:00.871Z"
   },
   {
    "duration": 2063,
    "start_time": "2024-03-16T11:24:01.194Z"
   },
   {
    "duration": 4,
    "start_time": "2024-03-16T11:24:03.265Z"
   },
   {
    "duration": 137,
    "start_time": "2024-03-16T11:24:03.270Z"
   },
   {
    "duration": 0,
    "start_time": "2024-03-16T11:24:03.409Z"
   },
   {
    "duration": 757,
    "start_time": "2024-03-16T11:24:35.103Z"
   },
   {
    "duration": 5,
    "start_time": "2024-03-16T11:35:17.461Z"
   },
   {
    "duration": 703,
    "start_time": "2024-03-16T11:35:17.831Z"
   },
   {
    "duration": 12,
    "start_time": "2024-03-16T11:35:29.643Z"
   },
   {
    "duration": 740,
    "start_time": "2024-03-16T11:35:29.920Z"
   },
   {
    "duration": 13,
    "start_time": "2024-03-16T11:35:49.873Z"
   },
   {
    "duration": 709,
    "start_time": "2024-03-16T11:35:50.616Z"
   },
   {
    "duration": 4,
    "start_time": "2024-03-16T11:56:55.206Z"
   },
   {
    "duration": 3,
    "start_time": "2024-03-16T11:57:14.442Z"
   },
   {
    "duration": 4,
    "start_time": "2024-03-16T11:57:41.187Z"
   },
   {
    "duration": 13,
    "start_time": "2024-03-16T12:11:14.174Z"
   },
   {
    "duration": 747,
    "start_time": "2024-03-16T12:11:15.613Z"
   },
   {
    "duration": 16,
    "start_time": "2024-03-16T12:24:48.649Z"
   },
   {
    "duration": 698,
    "start_time": "2024-03-16T12:25:24.032Z"
   },
   {
    "duration": 3,
    "start_time": "2024-03-16T12:25:38.494Z"
   },
   {
    "duration": 3,
    "start_time": "2024-03-16T12:25:50.043Z"
   },
   {
    "duration": 3,
    "start_time": "2024-03-16T12:26:24.862Z"
   },
   {
    "duration": 3,
    "start_time": "2024-03-16T12:26:35.502Z"
   },
   {
    "duration": 3,
    "start_time": "2024-03-16T12:26:43.401Z"
   },
   {
    "duration": 14,
    "start_time": "2024-03-16T12:28:22.661Z"
   },
   {
    "duration": 804,
    "start_time": "2024-03-16T12:28:23.249Z"
   },
   {
    "duration": 4,
    "start_time": "2024-03-16T12:28:37.871Z"
   },
   {
    "duration": 16,
    "start_time": "2024-03-16T12:31:34.184Z"
   },
   {
    "duration": 18,
    "start_time": "2024-03-16T12:31:34.599Z"
   },
   {
    "duration": 3,
    "start_time": "2024-03-16T12:32:37.641Z"
   },
   {
    "duration": 722,
    "start_time": "2024-03-16T12:32:38.035Z"
   },
   {
    "duration": 5,
    "start_time": "2024-03-16T12:32:58.265Z"
   },
   {
    "duration": 72,
    "start_time": "2024-03-16T12:34:17.397Z"
   },
   {
    "duration": 24,
    "start_time": "2024-03-16T12:34:25.798Z"
   },
   {
    "duration": 724,
    "start_time": "2024-03-16T12:34:26.446Z"
   },
   {
    "duration": 4,
    "start_time": "2024-03-16T12:37:00.741Z"
   },
   {
    "duration": 81,
    "start_time": "2024-03-16T12:37:01.837Z"
   },
   {
    "duration": 47,
    "start_time": "2024-03-16T12:37:38.985Z"
   },
   {
    "duration": 0,
    "start_time": "2024-03-16T12:37:39.033Z"
   },
   {
    "duration": 0,
    "start_time": "2024-03-16T12:37:39.034Z"
   },
   {
    "duration": 1381,
    "start_time": "2024-03-16T12:37:52.698Z"
   },
   {
    "duration": 2271,
    "start_time": "2024-03-16T12:37:54.081Z"
   },
   {
    "duration": 4,
    "start_time": "2024-03-16T12:37:56.353Z"
   },
   {
    "duration": 306,
    "start_time": "2024-03-16T12:37:56.359Z"
   },
   {
    "duration": 2108,
    "start_time": "2024-03-16T12:37:56.666Z"
   },
   {
    "duration": 8,
    "start_time": "2024-03-16T12:37:58.775Z"
   },
   {
    "duration": 804,
    "start_time": "2024-03-16T12:37:58.784Z"
   },
   {
    "duration": 93,
    "start_time": "2024-03-16T12:37:59.590Z"
   },
   {
    "duration": 75,
    "start_time": "2024-03-16T12:38:23.609Z"
   },
   {
    "duration": 70,
    "start_time": "2024-03-16T12:38:59.576Z"
   },
   {
    "duration": 75783,
    "start_time": "2024-03-16T12:39:19.189Z"
   },
   {
    "duration": 5,
    "start_time": "2024-03-16T12:41:04.592Z"
   },
   {
    "duration": 74198,
    "start_time": "2024-03-16T12:41:56.827Z"
   },
   {
    "duration": 770,
    "start_time": "2024-03-16T12:52:02.482Z"
   },
   {
    "duration": 665,
    "start_time": "2024-03-16T12:52:38.509Z"
   },
   {
    "duration": 45,
    "start_time": "2024-03-16T13:02:45.085Z"
   },
   {
    "duration": 1478,
    "start_time": "2024-03-16T13:03:05.005Z"
   },
   {
    "duration": 2334,
    "start_time": "2024-03-16T13:03:06.485Z"
   },
   {
    "duration": 4,
    "start_time": "2024-03-16T13:03:08.821Z"
   },
   {
    "duration": 322,
    "start_time": "2024-03-16T13:03:08.828Z"
   },
   {
    "duration": 2306,
    "start_time": "2024-03-16T13:03:09.152Z"
   },
   {
    "duration": 10,
    "start_time": "2024-03-16T13:03:11.460Z"
   },
   {
    "duration": 79082,
    "start_time": "2024-03-16T13:03:11.472Z"
   },
   {
    "duration": 47,
    "start_time": "2024-03-16T13:06:03.370Z"
   },
   {
    "duration": 6,
    "start_time": "2024-03-16T13:06:27.165Z"
   },
   {
    "duration": 1531,
    "start_time": "2024-03-16T13:06:37.532Z"
   },
   {
    "duration": 2296,
    "start_time": "2024-03-16T13:06:39.064Z"
   },
   {
    "duration": 5,
    "start_time": "2024-03-16T13:06:41.361Z"
   },
   {
    "duration": 274,
    "start_time": "2024-03-16T13:06:41.367Z"
   },
   {
    "duration": 2141,
    "start_time": "2024-03-16T13:06:41.643Z"
   },
   {
    "duration": 5,
    "start_time": "2024-03-16T13:06:43.786Z"
   },
   {
    "duration": 77136,
    "start_time": "2024-03-16T13:06:43.792Z"
   },
   {
    "duration": 45,
    "start_time": "2024-03-16T13:09:36.744Z"
   },
   {
    "duration": 1480,
    "start_time": "2024-03-16T13:09:46.084Z"
   },
   {
    "duration": 2306,
    "start_time": "2024-03-16T13:09:47.566Z"
   },
   {
    "duration": 5,
    "start_time": "2024-03-16T13:09:49.873Z"
   },
   {
    "duration": 292,
    "start_time": "2024-03-16T13:09:49.880Z"
   },
   {
    "duration": 2131,
    "start_time": "2024-03-16T13:09:50.174Z"
   },
   {
    "duration": 12,
    "start_time": "2024-03-16T13:09:52.306Z"
   },
   {
    "duration": 78707,
    "start_time": "2024-03-16T13:09:52.320Z"
   },
   {
    "duration": 697,
    "start_time": "2024-03-16T13:11:11.029Z"
   },
   {
    "duration": 117,
    "start_time": "2024-03-16T13:12:58.146Z"
   },
   {
    "duration": 8,
    "start_time": "2024-03-16T13:12:58.456Z"
   },
   {
    "duration": 66,
    "start_time": "2024-03-16T13:13:26.749Z"
   },
   {
    "duration": 20,
    "start_time": "2024-03-16T13:13:27.066Z"
   },
   {
    "duration": 6771,
    "start_time": "2024-03-16T13:21:04.331Z"
   },
   {
    "duration": 44914,
    "start_time": "2024-03-16T13:24:25.556Z"
   },
   {
    "duration": 1487,
    "start_time": "2024-03-16T13:32:21.453Z"
   },
   {
    "duration": 2360,
    "start_time": "2024-03-16T13:32:22.942Z"
   },
   {
    "duration": 6,
    "start_time": "2024-03-16T13:32:25.303Z"
   },
   {
    "duration": 355,
    "start_time": "2024-03-16T13:32:25.311Z"
   },
   {
    "duration": 2288,
    "start_time": "2024-03-16T13:32:25.668Z"
   },
   {
    "duration": 10,
    "start_time": "2024-03-16T13:32:27.958Z"
   },
   {
    "duration": 89423,
    "start_time": "2024-03-16T13:32:27.970Z"
   },
   {
    "duration": 709,
    "start_time": "2024-03-16T13:33:57.395Z"
   },
   {
    "duration": 78,
    "start_time": "2024-03-16T13:33:58.105Z"
   },
   {
    "duration": 23,
    "start_time": "2024-03-16T13:33:58.185Z"
   },
   {
    "duration": 7059,
    "start_time": "2024-03-16T13:33:58.210Z"
   },
   {
    "duration": 43814,
    "start_time": "2024-03-16T13:34:05.271Z"
   },
   {
    "duration": 1441,
    "start_time": "2024-03-16T14:29:40.910Z"
   },
   {
    "duration": 2275,
    "start_time": "2024-03-16T14:29:42.353Z"
   },
   {
    "duration": 4,
    "start_time": "2024-03-16T14:29:44.629Z"
   },
   {
    "duration": 289,
    "start_time": "2024-03-16T14:29:44.635Z"
   },
   {
    "duration": 2409,
    "start_time": "2024-03-16T14:29:44.925Z"
   },
   {
    "duration": 6,
    "start_time": "2024-03-16T14:29:47.336Z"
   },
   {
    "duration": 80498,
    "start_time": "2024-03-16T14:29:47.344Z"
   },
   {
    "duration": 669,
    "start_time": "2024-03-16T14:31:07.844Z"
   },
   {
    "duration": 78,
    "start_time": "2024-03-16T14:31:08.514Z"
   },
   {
    "duration": 19,
    "start_time": "2024-03-16T14:31:08.595Z"
   },
   {
    "duration": 6936,
    "start_time": "2024-03-16T14:31:08.616Z"
   },
   {
    "duration": 43616,
    "start_time": "2024-03-16T14:31:15.565Z"
   },
   {
    "duration": 1488,
    "start_time": "2024-03-16T19:36:01.428Z"
   },
   {
    "duration": 2536,
    "start_time": "2024-03-16T19:36:02.917Z"
   },
   {
    "duration": 5,
    "start_time": "2024-03-16T19:36:05.455Z"
   },
   {
    "duration": 306,
    "start_time": "2024-03-16T19:36:05.462Z"
   },
   {
    "duration": 2241,
    "start_time": "2024-03-16T19:36:05.770Z"
   },
   {
    "duration": 20,
    "start_time": "2024-03-16T19:36:08.013Z"
   },
   {
    "duration": 87327,
    "start_time": "2024-03-16T19:36:08.036Z"
   },
   {
    "duration": 684,
    "start_time": "2024-03-16T19:37:35.365Z"
   },
   {
    "duration": 80,
    "start_time": "2024-03-16T19:37:36.050Z"
   },
   {
    "duration": 18,
    "start_time": "2024-03-16T19:37:36.132Z"
   },
   {
    "duration": 7431,
    "start_time": "2024-03-16T19:37:36.153Z"
   },
   {
    "duration": 43122,
    "start_time": "2024-03-16T19:37:43.586Z"
   },
   {
    "duration": 1493,
    "start_time": "2024-03-16T19:39:43.127Z"
   },
   {
    "duration": 2517,
    "start_time": "2024-03-16T19:39:44.622Z"
   },
   {
    "duration": 5,
    "start_time": "2024-03-16T19:39:47.140Z"
   },
   {
    "duration": 300,
    "start_time": "2024-03-16T19:39:47.146Z"
   },
   {
    "duration": 2234,
    "start_time": "2024-03-16T19:39:47.448Z"
   },
   {
    "duration": 4,
    "start_time": "2024-03-16T19:39:49.684Z"
   },
   {
    "duration": 86276,
    "start_time": "2024-03-16T19:39:49.689Z"
   },
   {
    "duration": 697,
    "start_time": "2024-03-16T19:41:15.968Z"
   },
   {
    "duration": 76,
    "start_time": "2024-03-16T19:41:16.667Z"
   },
   {
    "duration": 19,
    "start_time": "2024-03-16T19:41:16.745Z"
   },
   {
    "duration": 7664,
    "start_time": "2024-03-16T19:41:16.765Z"
   },
   {
    "duration": 43556,
    "start_time": "2024-03-16T19:41:24.430Z"
   },
   {
    "duration": 2,
    "start_time": "2024-03-16T19:42:07.988Z"
   },
   {
    "duration": 1504,
    "start_time": "2024-03-16T19:43:01.721Z"
   },
   {
    "duration": 2510,
    "start_time": "2024-03-16T19:43:03.227Z"
   },
   {
    "duration": 5,
    "start_time": "2024-03-16T19:43:05.739Z"
   },
   {
    "duration": 306,
    "start_time": "2024-03-16T19:43:05.746Z"
   },
   {
    "duration": 2186,
    "start_time": "2024-03-16T19:43:06.054Z"
   },
   {
    "duration": 24,
    "start_time": "2024-03-16T19:43:08.242Z"
   },
   {
    "duration": 86057,
    "start_time": "2024-03-16T19:43:08.267Z"
   },
   {
    "duration": 697,
    "start_time": "2024-03-16T19:44:34.326Z"
   },
   {
    "duration": 75,
    "start_time": "2024-03-16T19:44:35.024Z"
   },
   {
    "duration": 23,
    "start_time": "2024-03-16T19:44:35.101Z"
   },
   {
    "duration": 7575,
    "start_time": "2024-03-16T19:44:35.125Z"
   },
   {
    "duration": 2,
    "start_time": "2024-03-16T19:44:42.702Z"
   },
   {
    "duration": 6,
    "start_time": "2024-03-16T19:44:42.705Z"
   },
   {
    "duration": 1324,
    "start_time": "2024-03-16T23:25:42.977Z"
   },
   {
    "duration": 2232,
    "start_time": "2024-03-16T23:25:44.303Z"
   },
   {
    "duration": 3,
    "start_time": "2024-03-16T23:25:46.537Z"
   },
   {
    "duration": 247,
    "start_time": "2024-03-16T23:25:46.542Z"
   },
   {
    "duration": 1935,
    "start_time": "2024-03-16T23:25:46.790Z"
   },
   {
    "duration": 3,
    "start_time": "2024-03-16T23:25:48.726Z"
   },
   {
    "duration": 66180,
    "start_time": "2024-03-16T23:25:48.731Z"
   },
   {
    "duration": 737,
    "start_time": "2024-03-16T23:26:54.912Z"
   },
   {
    "duration": 65,
    "start_time": "2024-03-16T23:26:55.650Z"
   },
   {
    "duration": 14,
    "start_time": "2024-03-16T23:26:55.718Z"
   },
   {
    "duration": 5826,
    "start_time": "2024-03-16T23:26:55.734Z"
   },
   {
    "duration": 1452,
    "start_time": "2024-03-17T10:24:28.287Z"
   },
   {
    "duration": 2267,
    "start_time": "2024-03-17T10:24:29.741Z"
   },
   {
    "duration": 6,
    "start_time": "2024-03-17T10:24:32.009Z"
   },
   {
    "duration": 293,
    "start_time": "2024-03-17T10:24:32.017Z"
   },
   {
    "duration": 2055,
    "start_time": "2024-03-17T10:24:32.311Z"
   },
   {
    "duration": 4,
    "start_time": "2024-03-17T10:24:34.367Z"
   },
   {
    "duration": 10040,
    "start_time": "2024-03-17T10:24:34.372Z"
   },
   {
    "duration": 632,
    "start_time": "2024-03-17T10:24:44.414Z"
   },
   {
    "duration": 83,
    "start_time": "2024-03-17T10:24:45.048Z"
   },
   {
    "duration": 31,
    "start_time": "2024-03-17T10:24:45.134Z"
   },
   {
    "duration": 6722,
    "start_time": "2024-03-17T10:24:45.166Z"
   },
   {
    "duration": 43482,
    "start_time": "2024-03-17T10:24:51.890Z"
   },
   {
    "duration": 176018,
    "start_time": "2024-03-17T10:25:35.373Z"
   },
   {
    "duration": 46,
    "start_time": "2024-03-17T10:48:55.889Z"
   },
   {
    "duration": 1365,
    "start_time": "2024-03-17T10:51:53.614Z"
   },
   {
    "duration": 2241,
    "start_time": "2024-03-17T10:51:54.981Z"
   },
   {
    "duration": 4,
    "start_time": "2024-03-17T10:51:57.223Z"
   },
   {
    "duration": 271,
    "start_time": "2024-03-17T10:51:57.229Z"
   },
   {
    "duration": 2056,
    "start_time": "2024-03-17T10:51:57.501Z"
   },
   {
    "duration": 3,
    "start_time": "2024-03-17T10:51:59.565Z"
   },
   {
    "duration": 9948,
    "start_time": "2024-03-17T10:51:59.569Z"
   },
   {
    "duration": 633,
    "start_time": "2024-03-17T10:52:09.518Z"
   },
   {
    "duration": 75,
    "start_time": "2024-03-17T10:52:10.153Z"
   },
   {
    "duration": 40,
    "start_time": "2024-03-17T10:52:10.231Z"
   },
   {
    "duration": 6600,
    "start_time": "2024-03-17T10:52:10.273Z"
   },
   {
    "duration": 43394,
    "start_time": "2024-03-17T10:52:16.875Z"
   },
   {
    "duration": 50,
    "start_time": "2024-03-17T10:55:01.741Z"
   },
   {
    "duration": 7,
    "start_time": "2024-03-17T10:55:16.237Z"
   },
   {
    "duration": 1381,
    "start_time": "2024-03-17T10:55:34.880Z"
   },
   {
    "duration": 2217,
    "start_time": "2024-03-17T10:55:36.263Z"
   },
   {
    "duration": 4,
    "start_time": "2024-03-17T10:55:38.482Z"
   },
   {
    "duration": 262,
    "start_time": "2024-03-17T10:55:38.488Z"
   },
   {
    "duration": 2040,
    "start_time": "2024-03-17T10:55:38.752Z"
   },
   {
    "duration": 4,
    "start_time": "2024-03-17T10:55:40.794Z"
   },
   {
    "duration": 9869,
    "start_time": "2024-03-17T10:55:40.799Z"
   },
   {
    "duration": 649,
    "start_time": "2024-03-17T10:55:50.669Z"
   },
   {
    "duration": 75,
    "start_time": "2024-03-17T10:55:51.320Z"
   },
   {
    "duration": 19,
    "start_time": "2024-03-17T10:55:51.397Z"
   },
   {
    "duration": 6626,
    "start_time": "2024-03-17T10:55:51.417Z"
   },
   {
    "duration": 42633,
    "start_time": "2024-03-17T10:55:58.044Z"
   },
   {
    "duration": 189608,
    "start_time": "2024-03-17T10:56:40.679Z"
   },
   {
    "duration": 3,
    "start_time": "2024-03-17T11:00:12.367Z"
   },
   {
    "duration": 12,
    "start_time": "2024-03-17T11:00:14.378Z"
   },
   {
    "duration": 85,
    "start_time": "2024-03-17T11:33:45.864Z"
   },
   {
    "duration": 26,
    "start_time": "2024-03-17T11:33:57.794Z"
   },
   {
    "duration": 843,
    "start_time": "2024-03-17T11:33:57.823Z"
   },
   {
    "duration": 4,
    "start_time": "2024-03-17T11:33:58.669Z"
   },
   {
    "duration": 287,
    "start_time": "2024-03-17T11:33:58.675Z"
   },
   {
    "duration": 1433,
    "start_time": "2024-03-17T11:34:47.266Z"
   },
   {
    "duration": 2277,
    "start_time": "2024-03-17T11:34:48.701Z"
   },
   {
    "duration": 4,
    "start_time": "2024-03-17T11:34:50.980Z"
   },
   {
    "duration": 301,
    "start_time": "2024-03-17T11:34:50.987Z"
   },
   {
    "duration": 2357,
    "start_time": "2024-03-17T11:34:51.290Z"
   },
   {
    "duration": 15,
    "start_time": "2024-03-17T11:34:53.649Z"
   },
   {
    "duration": 10350,
    "start_time": "2024-03-17T11:34:53.666Z"
   },
   {
    "duration": 649,
    "start_time": "2024-03-17T11:35:04.017Z"
   },
   {
    "duration": 103,
    "start_time": "2024-03-17T11:35:04.667Z"
   },
   {
    "duration": 19,
    "start_time": "2024-03-17T11:35:04.773Z"
   },
   {
    "duration": 6774,
    "start_time": "2024-03-17T11:35:04.793Z"
   },
   {
    "duration": 44802,
    "start_time": "2024-03-17T11:35:11.568Z"
   },
   {
    "duration": 177729,
    "start_time": "2024-03-17T11:35:56.372Z"
   },
   {
    "duration": 2,
    "start_time": "2024-03-17T11:38:54.103Z"
   },
   {
    "duration": 255569,
    "start_time": "2024-03-17T11:38:54.107Z"
   },
   {
    "duration": 15,
    "start_time": "2024-03-17T11:43:09.677Z"
   },
   {
    "duration": 1467,
    "start_time": "2024-03-17T12:06:41.483Z"
   },
   {
    "duration": 936,
    "start_time": "2024-03-17T12:06:42.952Z"
   },
   {
    "duration": 4,
    "start_time": "2024-03-17T12:06:43.890Z"
   },
   {
    "duration": 305,
    "start_time": "2024-03-17T12:06:43.896Z"
   },
   {
    "duration": 2340,
    "start_time": "2024-03-17T12:06:44.203Z"
   },
   {
    "duration": 4,
    "start_time": "2024-03-17T12:06:46.544Z"
   },
   {
    "duration": 10421,
    "start_time": "2024-03-17T12:06:46.550Z"
   },
   {
    "duration": 696,
    "start_time": "2024-03-17T12:06:56.972Z"
   },
   {
    "duration": 73,
    "start_time": "2024-03-17T12:06:57.670Z"
   },
   {
    "duration": 35,
    "start_time": "2024-03-17T12:06:57.745Z"
   },
   {
    "duration": 6935,
    "start_time": "2024-03-17T12:06:57.781Z"
   },
   {
    "duration": 45555,
    "start_time": "2024-03-17T12:07:04.718Z"
   },
   {
    "duration": 196001,
    "start_time": "2024-03-17T12:07:50.275Z"
   },
   {
    "duration": 2,
    "start_time": "2024-03-17T12:11:06.277Z"
   },
   {
    "duration": 253559,
    "start_time": "2024-03-17T12:11:06.281Z"
   },
   {
    "duration": 20,
    "start_time": "2024-03-17T12:15:19.847Z"
   },
   {
    "duration": 1455,
    "start_time": "2024-03-17T12:31:21.068Z"
   },
   {
    "duration": 1525,
    "start_time": "2024-03-17T12:31:22.524Z"
   },
   {
    "duration": 5,
    "start_time": "2024-03-17T12:31:24.051Z"
   },
   {
    "duration": 289,
    "start_time": "2024-03-17T12:31:24.057Z"
   },
   {
    "duration": 2198,
    "start_time": "2024-03-17T12:31:24.348Z"
   },
   {
    "duration": 21,
    "start_time": "2024-03-17T12:31:26.548Z"
   },
   {
    "duration": 10001,
    "start_time": "2024-03-17T12:31:26.570Z"
   },
   {
    "duration": 670,
    "start_time": "2024-03-17T12:31:36.572Z"
   },
   {
    "duration": 73,
    "start_time": "2024-03-17T12:31:37.243Z"
   },
   {
    "duration": 18,
    "start_time": "2024-03-17T12:31:37.318Z"
   },
   {
    "duration": 6814,
    "start_time": "2024-03-17T12:31:37.338Z"
   },
   {
    "duration": 42935,
    "start_time": "2024-03-17T12:31:44.153Z"
   },
   {
    "duration": 176900,
    "start_time": "2024-03-17T12:32:27.090Z"
   },
   {
    "duration": 2,
    "start_time": "2024-03-17T12:35:23.992Z"
   },
   {
    "duration": 255193,
    "start_time": "2024-03-17T12:35:23.996Z"
   },
   {
    "duration": 13,
    "start_time": "2024-03-17T12:39:39.191Z"
   },
   {
    "duration": 4,
    "start_time": "2024-03-17T14:53:43.563Z"
   },
   {
    "duration": 1848,
    "start_time": "2024-03-17T14:53:43.569Z"
   },
   {
    "duration": 4,
    "start_time": "2024-03-17T14:53:45.421Z"
   },
   {
    "duration": 322,
    "start_time": "2024-03-17T14:53:45.427Z"
   },
   {
    "duration": 164,
    "start_time": "2024-03-17T14:53:45.751Z"
   },
   {
    "duration": 5,
    "start_time": "2024-03-17T14:53:45.917Z"
   },
   {
    "duration": 3,
    "start_time": "2024-03-17T14:54:00.958Z"
   },
   {
    "duration": 73223,
    "start_time": "2024-03-17T14:54:02.820Z"
   },
   {
    "duration": 20,
    "start_time": "2024-03-17T15:06:00.484Z"
   },
   {
    "duration": 6,
    "start_time": "2024-03-17T15:06:06.877Z"
   },
   {
    "duration": 4,
    "start_time": "2024-03-17T15:06:17.044Z"
   },
   {
    "duration": 2233,
    "start_time": "2024-03-17T15:06:17.049Z"
   },
   {
    "duration": 4,
    "start_time": "2024-03-17T15:06:19.284Z"
   },
   {
    "duration": 268,
    "start_time": "2024-03-17T15:06:19.289Z"
   },
   {
    "duration": 6,
    "start_time": "2024-03-17T15:06:24.319Z"
   },
   {
    "duration": 7,
    "start_time": "2024-03-17T15:06:37.040Z"
   },
   {
    "duration": 17,
    "start_time": "2024-03-17T15:07:41.497Z"
   },
   {
    "duration": 72,
    "start_time": "2024-03-17T15:08:11.936Z"
   },
   {
    "duration": 129,
    "start_time": "2024-03-17T15:09:07.003Z"
   },
   {
    "duration": 708,
    "start_time": "2024-03-17T15:09:14.185Z"
   },
   {
    "duration": 67,
    "start_time": "2024-03-17T15:09:22.381Z"
   },
   {
    "duration": 13,
    "start_time": "2024-03-17T15:09:37.876Z"
   },
   {
    "duration": 11,
    "start_time": "2024-03-17T15:11:51.833Z"
   },
   {
    "duration": 4,
    "start_time": "2024-03-17T15:12:36.979Z"
   },
   {
    "duration": 854,
    "start_time": "2024-03-17T15:12:36.984Z"
   },
   {
    "duration": 4,
    "start_time": "2024-03-17T15:12:37.840Z"
   },
   {
    "duration": 253,
    "start_time": "2024-03-17T15:12:37.845Z"
   },
   {
    "duration": 4,
    "start_time": "2024-03-17T15:12:49.955Z"
   },
   {
    "duration": 848,
    "start_time": "2024-03-17T15:12:50.947Z"
   },
   {
    "duration": 5,
    "start_time": "2024-03-17T15:12:51.796Z"
   },
   {
    "duration": 278,
    "start_time": "2024-03-17T15:12:52.328Z"
   },
   {
    "duration": 337,
    "start_time": "2024-03-17T15:12:52.725Z"
   },
   {
    "duration": 293,
    "start_time": "2024-03-17T15:14:39.518Z"
   },
   {
    "duration": 28,
    "start_time": "2024-03-17T15:24:20.955Z"
   },
   {
    "duration": 3289,
    "start_time": "2024-03-17T15:33:09.547Z"
   },
   {
    "duration": 825,
    "start_time": "2024-03-17T15:33:12.837Z"
   },
   {
    "duration": 4,
    "start_time": "2024-03-17T15:33:13.664Z"
   },
   {
    "duration": 294,
    "start_time": "2024-03-17T15:33:13.671Z"
   },
   {
    "duration": 16,
    "start_time": "2024-03-17T15:33:13.966Z"
   },
   {
    "duration": 28,
    "start_time": "2024-03-17T15:33:13.983Z"
   },
   {
    "duration": 26,
    "start_time": "2024-03-17T15:33:14.013Z"
   },
   {
    "duration": 22,
    "start_time": "2024-03-17T15:33:14.040Z"
   },
   {
    "duration": 2,
    "start_time": "2024-03-17T15:33:20.841Z"
   },
   {
    "duration": 826,
    "start_time": "2024-03-17T15:33:21.527Z"
   },
   {
    "duration": 16,
    "start_time": "2024-03-17T15:33:38.488Z"
   },
   {
    "duration": 4,
    "start_time": "2024-03-17T15:34:49.558Z"
   },
   {
    "duration": 828,
    "start_time": "2024-03-17T15:34:49.564Z"
   },
   {
    "duration": 4,
    "start_time": "2024-03-17T15:34:50.394Z"
   },
   {
    "duration": 282,
    "start_time": "2024-03-17T15:34:50.399Z"
   },
   {
    "duration": 17,
    "start_time": "2024-03-17T15:34:50.683Z"
   },
   {
    "duration": 13,
    "start_time": "2024-03-17T15:34:50.702Z"
   },
   {
    "duration": 5,
    "start_time": "2024-03-17T15:34:50.717Z"
   },
   {
    "duration": 3,
    "start_time": "2024-03-17T15:34:50.723Z"
   },
   {
    "duration": 2,
    "start_time": "2024-03-17T15:34:52.615Z"
   },
   {
    "duration": 452,
    "start_time": "2024-03-17T15:34:53.610Z"
   },
   {
    "duration": 3974,
    "start_time": "2024-03-17T19:42:04.219Z"
   },
   {
    "duration": 2214,
    "start_time": "2024-03-17T19:42:08.194Z"
   },
   {
    "duration": 4,
    "start_time": "2024-03-17T19:42:10.410Z"
   },
   {
    "duration": 248,
    "start_time": "2024-03-17T19:42:10.415Z"
   },
   {
    "duration": 12,
    "start_time": "2024-03-17T19:42:10.665Z"
   },
   {
    "duration": 4,
    "start_time": "2024-03-17T19:42:10.679Z"
   },
   {
    "duration": 12,
    "start_time": "2024-03-17T19:42:10.685Z"
   },
   {
    "duration": 7,
    "start_time": "2024-03-17T19:42:10.699Z"
   },
   {
    "duration": 289,
    "start_time": "2024-03-17T19:42:22.927Z"
   },
   {
    "duration": 3,
    "start_time": "2024-03-17T19:42:32.580Z"
   },
   {
    "duration": 477,
    "start_time": "2024-03-17T19:49:35.588Z"
   },
   {
    "duration": 77,
    "start_time": "2024-03-17T19:55:19.972Z"
   },
   {
    "duration": 846,
    "start_time": "2024-03-17T19:55:29.879Z"
   },
   {
    "duration": 982,
    "start_time": "2024-03-17T19:56:08.822Z"
   },
   {
    "duration": 53,
    "start_time": "2024-03-18T08:01:52.444Z"
   },
   {
    "duration": 6817,
    "start_time": "2024-03-18T08:02:05.512Z"
   },
   {
    "duration": 3490,
    "start_time": "2024-03-18T08:02:12.331Z"
   },
   {
    "duration": 4,
    "start_time": "2024-03-18T08:02:15.823Z"
   },
   {
    "duration": 394,
    "start_time": "2024-03-18T08:02:15.830Z"
   },
   {
    "duration": 143,
    "start_time": "2024-03-18T08:02:16.226Z"
   },
   {
    "duration": 141,
    "start_time": "2024-03-18T08:07:36.257Z"
   },
   {
    "duration": 123,
    "start_time": "2024-03-18T08:08:11.281Z"
   },
   {
    "duration": 122,
    "start_time": "2024-03-18T08:08:17.102Z"
   },
   {
    "duration": 121,
    "start_time": "2024-03-18T08:11:36.644Z"
   },
   {
    "duration": 107,
    "start_time": "2024-03-18T08:12:04.521Z"
   },
   {
    "duration": 117,
    "start_time": "2024-03-18T08:13:27.657Z"
   },
   {
    "duration": 112,
    "start_time": "2024-03-18T08:13:31.086Z"
   },
   {
    "duration": 118,
    "start_time": "2024-03-18T08:13:34.993Z"
   },
   {
    "duration": 5,
    "start_time": "2024-03-18T08:31:51.096Z"
   },
   {
    "duration": 312,
    "start_time": "2024-03-18T08:31:52.447Z"
   },
   {
    "duration": 6,
    "start_time": "2024-03-18T08:32:02.111Z"
   },
   {
    "duration": 1089,
    "start_time": "2024-03-18T08:32:02.119Z"
   },
   {
    "duration": 6,
    "start_time": "2024-03-18T08:32:03.210Z"
   },
   {
    "duration": 478,
    "start_time": "2024-03-18T08:32:03.218Z"
   },
   {
    "duration": 130,
    "start_time": "2024-03-18T08:32:03.698Z"
   },
   {
    "duration": 17,
    "start_time": "2024-03-18T08:32:03.830Z"
   },
   {
    "duration": 14,
    "start_time": "2024-03-18T08:32:03.849Z"
   },
   {
    "duration": 26,
    "start_time": "2024-03-18T08:32:03.865Z"
   },
   {
    "duration": 9055,
    "start_time": "2024-03-18T08:32:03.893Z"
   },
   {
    "duration": 7467,
    "start_time": "2024-03-18T08:35:09.288Z"
   },
   {
    "duration": 7259,
    "start_time": "2024-03-18T08:35:57.681Z"
   },
   {
    "duration": 7107,
    "start_time": "2024-03-18T08:36:49.922Z"
   },
   {
    "duration": 6775,
    "start_time": "2024-03-18T08:41:35.076Z"
   },
   {
    "duration": 5,
    "start_time": "2024-03-18T08:41:55.446Z"
   },
   {
    "duration": 1001,
    "start_time": "2024-03-18T08:41:55.453Z"
   },
   {
    "duration": 5,
    "start_time": "2024-03-18T08:41:56.456Z"
   },
   {
    "duration": 301,
    "start_time": "2024-03-18T08:41:56.463Z"
   },
   {
    "duration": 127,
    "start_time": "2024-03-18T08:41:56.767Z"
   },
   {
    "duration": 17,
    "start_time": "2024-03-18T08:41:56.896Z"
   },
   {
    "duration": 5,
    "start_time": "2024-03-18T08:41:56.915Z"
   },
   {
    "duration": 7,
    "start_time": "2024-03-18T08:41:56.922Z"
   },
   {
    "duration": 8315,
    "start_time": "2024-03-18T08:41:56.931Z"
   },
   {
    "duration": 7293,
    "start_time": "2024-03-18T08:44:01.048Z"
   },
   {
    "duration": 4,
    "start_time": "2024-03-18T08:56:05.882Z"
   },
   {
    "duration": 107400,
    "start_time": "2024-03-18T08:56:09.210Z"
   },
   {
    "duration": 207,
    "start_time": "2024-03-18T08:59:00.868Z"
   },
   {
    "duration": 4,
    "start_time": "2024-03-18T08:59:02.450Z"
   },
   {
    "duration": 475867,
    "start_time": "2024-03-18T08:59:05.714Z"
   },
   {
    "duration": 146,
    "start_time": "2024-03-18T09:17:45.804Z"
   },
   {
    "duration": 129,
    "start_time": "2024-03-18T09:17:55.313Z"
   },
   {
    "duration": 36,
    "start_time": "2024-03-18T09:19:04.143Z"
   },
   {
    "duration": 1022,
    "start_time": "2024-03-18T09:19:04.181Z"
   },
   {
    "duration": 5,
    "start_time": "2024-03-18T09:19:05.207Z"
   },
   {
    "duration": 314,
    "start_time": "2024-03-18T09:19:05.214Z"
   },
   {
    "duration": 197,
    "start_time": "2024-03-18T09:19:05.530Z"
   },
   {
    "duration": 135,
    "start_time": "2024-03-18T09:19:18.020Z"
   },
   {
    "duration": 132,
    "start_time": "2024-03-18T09:19:24.402Z"
   },
   {
    "duration": 43,
    "start_time": "2024-03-18T09:19:38.068Z"
   },
   {
    "duration": 149,
    "start_time": "2024-03-18T09:19:47.540Z"
   },
   {
    "duration": 32,
    "start_time": "2024-03-18T09:22:00.340Z"
   },
   {
    "duration": 27,
    "start_time": "2024-03-18T09:23:40.905Z"
   },
   {
    "duration": 5,
    "start_time": "2024-03-18T09:23:51.884Z"
   },
   {
    "duration": 1085,
    "start_time": "2024-03-18T09:23:51.891Z"
   },
   {
    "duration": 5,
    "start_time": "2024-03-18T09:23:52.979Z"
   },
   {
    "duration": 336,
    "start_time": "2024-03-18T09:23:52.986Z"
   },
   {
    "duration": 30,
    "start_time": "2024-03-18T09:23:53.324Z"
   },
   {
    "duration": 0,
    "start_time": "2024-03-18T09:26:37.414Z"
   },
   {
    "duration": 146,
    "start_time": "2024-03-18T09:35:58.275Z"
   },
   {
    "duration": 141,
    "start_time": "2024-03-18T09:36:34.143Z"
   },
   {
    "duration": 30,
    "start_time": "2024-03-18T09:42:53.960Z"
   },
   {
    "duration": 142,
    "start_time": "2024-03-18T09:43:04.103Z"
   },
   {
    "duration": 159,
    "start_time": "2024-03-18T09:50:59.474Z"
   },
   {
    "duration": 136,
    "start_time": "2024-03-18T09:51:20.452Z"
   },
   {
    "duration": 24,
    "start_time": "2024-03-18T09:51:45.254Z"
   },
   {
    "duration": 23,
    "start_time": "2024-03-18T09:51:51.819Z"
   },
   {
    "duration": 137,
    "start_time": "2024-03-18T09:51:56.544Z"
   },
   {
    "duration": 160,
    "start_time": "2024-03-18T09:52:02.043Z"
   },
   {
    "duration": 141,
    "start_time": "2024-03-18T09:52:12.883Z"
   },
   {
    "duration": 124,
    "start_time": "2024-03-18T09:52:24.512Z"
   },
   {
    "duration": 153,
    "start_time": "2024-03-18T09:54:01.128Z"
   },
   {
    "duration": 234,
    "start_time": "2024-03-18T09:55:48.773Z"
   },
   {
    "duration": 149,
    "start_time": "2024-03-18T10:01:00.620Z"
   },
   {
    "duration": 279,
    "start_time": "2024-03-18T10:08:53.623Z"
   },
   {
    "duration": 215,
    "start_time": "2024-03-18T10:09:05.909Z"
   },
   {
    "duration": 131,
    "start_time": "2024-03-18T10:09:16.485Z"
   },
   {
    "duration": 460,
    "start_time": "2024-03-18T10:11:23.913Z"
   },
   {
    "duration": 121,
    "start_time": "2024-03-18T10:11:30.401Z"
   },
   {
    "duration": 436,
    "start_time": "2024-03-18T10:13:47.073Z"
   },
   {
    "duration": 460,
    "start_time": "2024-03-18T10:14:55.261Z"
   },
   {
    "duration": 242,
    "start_time": "2024-03-18T10:15:00.549Z"
   },
   {
    "duration": 168,
    "start_time": "2024-03-18T10:21:35.214Z"
   },
   {
    "duration": 150,
    "start_time": "2024-03-18T10:21:53.628Z"
   },
   {
    "duration": 158,
    "start_time": "2024-03-18T10:22:28.772Z"
   },
   {
    "duration": 147,
    "start_time": "2024-03-18T10:23:20.178Z"
   },
   {
    "duration": 31,
    "start_time": "2024-03-18T10:24:26.789Z"
   },
   {
    "duration": 143,
    "start_time": "2024-03-18T10:24:33.332Z"
   },
   {
    "duration": 36,
    "start_time": "2024-03-18T10:24:53.601Z"
   },
   {
    "duration": 136,
    "start_time": "2024-03-18T10:25:06.340Z"
   },
   {
    "duration": 159,
    "start_time": "2024-03-18T10:25:14.459Z"
   },
   {
    "duration": 182,
    "start_time": "2024-03-18T10:25:46.595Z"
   },
   {
    "duration": 145,
    "start_time": "2024-03-18T10:26:24.617Z"
   },
   {
    "duration": 150,
    "start_time": "2024-03-18T10:34:47.993Z"
   },
   {
    "duration": 5,
    "start_time": "2024-03-18T10:35:47.142Z"
   },
   {
    "duration": 947,
    "start_time": "2024-03-18T10:35:47.148Z"
   },
   {
    "duration": 4,
    "start_time": "2024-03-18T10:35:48.097Z"
   },
   {
    "duration": 340,
    "start_time": "2024-03-18T10:35:48.104Z"
   },
   {
    "duration": 156,
    "start_time": "2024-03-18T10:35:48.446Z"
   },
   {
    "duration": 17,
    "start_time": "2024-03-18T10:35:48.603Z"
   },
   {
    "duration": 19,
    "start_time": "2024-03-18T10:35:48.621Z"
   },
   {
    "duration": 313,
    "start_time": "2024-03-18T10:35:48.641Z"
   },
   {
    "duration": 4,
    "start_time": "2024-03-18T10:35:48.956Z"
   },
   {
    "duration": 5,
    "start_time": "2024-03-18T10:36:22.352Z"
   },
   {
    "duration": 107184,
    "start_time": "2024-03-18T10:36:24.688Z"
   },
   {
    "duration": 151,
    "start_time": "2024-03-18T10:38:56.405Z"
   },
   {
    "duration": 5,
    "start_time": "2024-03-18T10:39:14.478Z"
   },
   {
    "duration": 23,
    "start_time": "2024-03-18T10:48:31.930Z"
   },
   {
    "duration": 679,
    "start_time": "2024-03-18T11:07:22.243Z"
   },
   {
    "duration": 3,
    "start_time": "2024-03-18T11:09:28.216Z"
   },
   {
    "duration": 799,
    "start_time": "2024-03-18T11:09:29.141Z"
   },
   {
    "duration": 510,
    "start_time": "2024-03-18T11:09:38.510Z"
   },
   {
    "duration": 5,
    "start_time": "2024-03-18T11:10:46.044Z"
   },
   {
    "duration": 449867,
    "start_time": "2024-03-18T11:10:46.850Z"
   },
   {
    "duration": 3,
    "start_time": "2024-03-18T11:43:24.435Z"
   },
   {
    "duration": 3,
    "start_time": "2024-03-18T11:43:24.912Z"
   },
   {
    "duration": 3,
    "start_time": "2024-03-18T11:43:27.606Z"
   },
   {
    "duration": 170,
    "start_time": "2024-03-18T11:46:02.172Z"
   },
   {
    "duration": 12184,
    "start_time": "2024-03-18T11:46:21.957Z"
   },
   {
    "duration": 125,
    "start_time": "2024-03-18T11:46:34.143Z"
   },
   {
    "duration": 95,
    "start_time": "2024-03-18T11:47:00.921Z"
   },
   {
    "duration": 556,
    "start_time": "2024-03-18T11:48:07.563Z"
   },
   {
    "duration": 526,
    "start_time": "2024-03-18T11:48:51.853Z"
   },
   {
    "duration": 547,
    "start_time": "2024-03-18T11:51:07.661Z"
   },
   {
    "duration": 5,
    "start_time": "2024-03-18T11:53:23.692Z"
   },
   {
    "duration": 4710,
    "start_time": "2024-03-18T11:53:57.193Z"
   },
   {
    "duration": 1015,
    "start_time": "2024-03-18T11:54:01.905Z"
   },
   {
    "duration": 5,
    "start_time": "2024-03-18T11:54:02.922Z"
   },
   {
    "duration": 374,
    "start_time": "2024-03-18T11:54:02.929Z"
   },
   {
    "duration": 180,
    "start_time": "2024-03-18T11:54:03.304Z"
   },
   {
    "duration": 21,
    "start_time": "2024-03-18T11:54:03.486Z"
   },
   {
    "duration": 16,
    "start_time": "2024-03-18T11:54:03.509Z"
   },
   {
    "duration": 334,
    "start_time": "2024-03-18T11:54:03.527Z"
   },
   {
    "duration": 3,
    "start_time": "2024-03-18T11:54:03.863Z"
   },
   {
    "duration": 7,
    "start_time": "2024-03-18T11:54:03.868Z"
   },
   {
    "duration": 18,
    "start_time": "2024-03-18T11:54:03.877Z"
   },
   {
    "duration": 16,
    "start_time": "2024-03-18T11:54:03.896Z"
   },
   {
    "duration": 11992,
    "start_time": "2024-03-18T11:54:03.913Z"
   },
   {
    "duration": 928,
    "start_time": "2024-03-18T11:54:15.907Z"
   },
   {
    "duration": 0,
    "start_time": "2024-03-18T11:54:16.837Z"
   },
   {
    "duration": 0,
    "start_time": "2024-03-18T11:54:16.838Z"
   },
   {
    "duration": 0,
    "start_time": "2024-03-18T11:54:16.840Z"
   },
   {
    "duration": 0,
    "start_time": "2024-03-18T11:54:16.841Z"
   },
   {
    "duration": 0,
    "start_time": "2024-03-18T11:54:16.842Z"
   },
   {
    "duration": 0,
    "start_time": "2024-03-18T11:54:16.844Z"
   },
   {
    "duration": 0,
    "start_time": "2024-03-18T11:54:16.844Z"
   },
   {
    "duration": 0,
    "start_time": "2024-03-18T11:54:16.845Z"
   },
   {
    "duration": 0,
    "start_time": "2024-03-18T11:54:16.847Z"
   },
   {
    "duration": 3,
    "start_time": "2024-03-18T11:58:09.252Z"
   },
   {
    "duration": 3,
    "start_time": "2024-03-18T11:58:15.274Z"
   },
   {
    "duration": 2366,
    "start_time": "2024-03-18T12:02:55.535Z"
   },
   {
    "duration": 89484,
    "start_time": "2024-03-18T12:03:29.928Z"
   },
   {
    "duration": 11,
    "start_time": "2024-03-18T12:05:35.214Z"
   },
   {
    "duration": 5519,
    "start_time": "2024-03-18T12:18:32.252Z"
   },
   {
    "duration": 5616,
    "start_time": "2024-03-18T12:18:51.108Z"
   },
   {
    "duration": 7,
    "start_time": "2024-03-18T12:19:20.733Z"
   },
   {
    "duration": 3877,
    "start_time": "2024-03-18T12:21:53.530Z"
   },
   {
    "duration": 6,
    "start_time": "2024-03-18T12:21:57.409Z"
   },
   {
    "duration": 12128,
    "start_time": "2024-03-18T12:24:20.285Z"
   },
   {
    "duration": 600,
    "start_time": "2024-03-18T12:25:00.609Z"
   },
   {
    "duration": 574,
    "start_time": "2024-03-18T12:30:47.227Z"
   },
   {
    "duration": 5,
    "start_time": "2024-03-18T12:40:08.740Z"
   },
   {
    "duration": 72,
    "start_time": "2024-03-18T12:40:09.104Z"
   },
   {
    "duration": 4,
    "start_time": "2024-03-18T12:41:20.319Z"
   },
   {
    "duration": 67,
    "start_time": "2024-03-18T12:41:21.374Z"
   },
   {
    "duration": 9,
    "start_time": "2024-03-18T12:43:41.492Z"
   },
   {
    "duration": 7131,
    "start_time": "2024-03-18T12:43:42.076Z"
   },
   {
    "duration": 4,
    "start_time": "2024-03-18T12:44:02.321Z"
   },
   {
    "duration": 20200,
    "start_time": "2024-03-18T12:44:02.915Z"
   },
   {
    "duration": 5,
    "start_time": "2024-03-18T12:44:49.848Z"
   },
   {
    "duration": 1004,
    "start_time": "2024-03-18T12:44:49.857Z"
   },
   {
    "duration": 5,
    "start_time": "2024-03-18T12:44:50.863Z"
   },
   {
    "duration": 330,
    "start_time": "2024-03-18T12:44:50.871Z"
   },
   {
    "duration": 200,
    "start_time": "2024-03-18T12:44:51.207Z"
   },
   {
    "duration": 18,
    "start_time": "2024-03-18T12:44:51.410Z"
   },
   {
    "duration": 13,
    "start_time": "2024-03-18T12:44:51.429Z"
   },
   {
    "duration": 20,
    "start_time": "2024-03-18T12:44:51.443Z"
   },
   {
    "duration": 25,
    "start_time": "2024-03-18T12:44:51.464Z"
   },
   {
    "duration": 7903,
    "start_time": "2024-03-18T12:44:51.493Z"
   },
   {
    "duration": 4,
    "start_time": "2024-03-18T12:52:39.005Z"
   },
   {
    "duration": 80,
    "start_time": "2024-03-18T12:52:40.085Z"
   },
   {
    "duration": 4,
    "start_time": "2024-03-18T12:53:41.842Z"
   },
   {
    "duration": 1800,
    "start_time": "2024-03-18T13:01:08.143Z"
   },
   {
    "duration": 4,
    "start_time": "2024-03-18T13:01:49.022Z"
   },
   {
    "duration": 106,
    "start_time": "2024-03-18T13:01:50.800Z"
   },
   {
    "duration": 4,
    "start_time": "2024-03-18T13:02:07.712Z"
   },
   {
    "duration": 59,
    "start_time": "2024-03-18T13:02:08.083Z"
   },
   {
    "duration": 4,
    "start_time": "2024-03-18T13:02:17.404Z"
   },
   {
    "duration": 7209,
    "start_time": "2024-03-18T13:02:17.828Z"
   },
   {
    "duration": 13,
    "start_time": "2024-03-18T13:03:29.589Z"
   },
   {
    "duration": 47,
    "start_time": "2024-03-18T13:44:14.855Z"
   },
   {
    "duration": 28,
    "start_time": "2024-03-18T13:44:45.006Z"
   },
   {
    "duration": 4,
    "start_time": "2024-03-18T13:47:45.873Z"
   },
   {
    "duration": 27,
    "start_time": "2024-03-18T13:48:22.705Z"
   },
   {
    "duration": 5,
    "start_time": "2024-03-18T13:48:37.778Z"
   },
   {
    "duration": 5,
    "start_time": "2024-03-18T13:48:47.277Z"
   },
   {
    "duration": 203,
    "start_time": "2024-03-18T13:49:35.118Z"
   },
   {
    "duration": 4,
    "start_time": "2024-03-18T13:56:36.834Z"
   },
   {
    "duration": 97,
    "start_time": "2024-03-18T13:56:39.062Z"
   },
   {
    "duration": 5,
    "start_time": "2024-03-18T13:58:08.342Z"
   },
   {
    "duration": 109,
    "start_time": "2024-03-18T13:58:09.149Z"
   },
   {
    "duration": 46085,
    "start_time": "2024-03-18T13:58:41.763Z"
   },
   {
    "duration": 221,
    "start_time": "2024-03-18T14:03:51.214Z"
   },
   {
    "duration": 5,
    "start_time": "2024-03-18T14:03:52.308Z"
   },
   {
    "duration": 45172,
    "start_time": "2024-03-18T14:03:53.880Z"
   },
   {
    "duration": 4,
    "start_time": "2024-03-18T14:06:24.999Z"
   },
   {
    "duration": 66,
    "start_time": "2024-03-18T14:06:25.545Z"
   },
   {
    "duration": 4,
    "start_time": "2024-03-18T14:06:35.725Z"
   },
   {
    "duration": 60,
    "start_time": "2024-03-18T14:06:36.213Z"
   },
   {
    "duration": 5,
    "start_time": "2024-03-18T14:06:45.628Z"
   },
   {
    "duration": 61,
    "start_time": "2024-03-18T14:06:46.008Z"
   },
   {
    "duration": 5,
    "start_time": "2024-03-18T14:07:44.992Z"
   },
   {
    "duration": 40681,
    "start_time": "2024-03-18T14:07:45.526Z"
   },
   {
    "duration": 5,
    "start_time": "2024-03-18T14:10:17.231Z"
   },
   {
    "duration": 98,
    "start_time": "2024-03-18T14:10:18.095Z"
   },
   {
    "duration": 24,
    "start_time": "2024-03-18T14:14:23.217Z"
   },
   {
    "duration": 5739,
    "start_time": "2024-03-18T14:14:52.425Z"
   },
   {
    "duration": 8,
    "start_time": "2024-03-18T14:15:08.875Z"
   },
   {
    "duration": 4,
    "start_time": "2024-03-18T14:20:09.700Z"
   },
   {
    "duration": 1757,
    "start_time": "2024-03-18T14:23:38.112Z"
   },
   {
    "duration": 1811,
    "start_time": "2024-03-18T14:23:53.075Z"
   },
   {
    "duration": 3,
    "start_time": "2024-03-18T14:26:27.778Z"
   },
   {
    "duration": 11989,
    "start_time": "2024-03-18T14:27:28.847Z"
   },
   {
    "duration": 111,
    "start_time": "2024-03-18T14:27:40.839Z"
   },
   {
    "duration": 624,
    "start_time": "2024-03-18T14:28:19.930Z"
   },
   {
    "duration": 528,
    "start_time": "2024-03-18T14:28:50.988Z"
   },
   {
    "duration": 518,
    "start_time": "2024-03-18T14:28:57.284Z"
   },
   {
    "duration": 508,
    "start_time": "2024-03-18T14:29:15.719Z"
   },
   {
    "duration": 534,
    "start_time": "2024-03-18T14:36:34.846Z"
   },
   {
    "duration": 543,
    "start_time": "2024-03-18T14:47:46.730Z"
   },
   {
    "duration": 3,
    "start_time": "2024-03-18T14:52:47.857Z"
   },
   {
    "duration": 8134,
    "start_time": "2024-03-18T14:53:33.553Z"
   },
   {
    "duration": 23,
    "start_time": "2024-03-18T14:54:00.309Z"
   },
   {
    "duration": 5,
    "start_time": "2024-03-18T14:54:05.758Z"
   },
   {
    "duration": 5,
    "start_time": "2024-03-18T14:54:22.364Z"
   },
   {
    "duration": 8367,
    "start_time": "2024-03-18T14:54:59.949Z"
   },
   {
    "duration": 3441,
    "start_time": "2024-03-18T14:55:08.318Z"
   },
   {
    "duration": 6,
    "start_time": "2024-03-18T14:55:11.761Z"
   },
   {
    "duration": 342,
    "start_time": "2024-03-18T14:55:11.769Z"
   },
   {
    "duration": 174,
    "start_time": "2024-03-18T14:55:12.112Z"
   },
   {
    "duration": 19,
    "start_time": "2024-03-18T14:55:12.288Z"
   },
   {
    "duration": 7,
    "start_time": "2024-03-18T14:55:12.309Z"
   },
   {
    "duration": 6,
    "start_time": "2024-03-18T14:55:12.317Z"
   },
   {
    "duration": 4,
    "start_time": "2024-03-18T14:55:12.324Z"
   },
   {
    "duration": 3,
    "start_time": "2024-03-18T14:55:12.332Z"
   },
   {
    "duration": 5,
    "start_time": "2024-03-18T14:55:12.337Z"
   },
   {
    "duration": 10,
    "start_time": "2024-03-18T14:55:12.343Z"
   },
   {
    "duration": 9285,
    "start_time": "2024-03-18T14:55:12.355Z"
   },
   {
    "duration": 4,
    "start_time": "2024-03-18T14:55:21.642Z"
   },
   {
    "duration": 55,
    "start_time": "2024-03-18T14:56:21.123Z"
   },
   {
    "duration": 7283,
    "start_time": "2024-03-18T14:56:30.141Z"
   },
   {
    "duration": 3453,
    "start_time": "2024-03-18T14:56:37.426Z"
   },
   {
    "duration": 5,
    "start_time": "2024-03-18T14:56:40.881Z"
   },
   {
    "duration": 346,
    "start_time": "2024-03-18T14:56:40.888Z"
   },
   {
    "duration": 172,
    "start_time": "2024-03-18T14:56:41.236Z"
   },
   {
    "duration": 18,
    "start_time": "2024-03-18T14:56:41.409Z"
   },
   {
    "duration": 36,
    "start_time": "2024-03-18T14:56:41.429Z"
   },
   {
    "duration": 39,
    "start_time": "2024-03-18T14:56:41.467Z"
   },
   {
    "duration": 48,
    "start_time": "2024-03-18T14:56:41.508Z"
   },
   {
    "duration": 44,
    "start_time": "2024-03-18T14:56:41.559Z"
   },
   {
    "duration": 52,
    "start_time": "2024-03-18T14:56:41.605Z"
   },
   {
    "duration": 57,
    "start_time": "2024-03-18T14:56:41.659Z"
   },
   {
    "duration": 9012,
    "start_time": "2024-03-18T14:56:41.717Z"
   },
   {
    "duration": 4,
    "start_time": "2024-03-18T14:56:50.731Z"
   },
   {
    "duration": 263,
    "start_time": "2024-03-18T14:56:50.737Z"
   },
   {
    "duration": 12466,
    "start_time": "2024-03-18T14:56:51.002Z"
   },
   {
    "duration": 1020,
    "start_time": "2024-03-18T14:57:03.471Z"
   },
   {
    "duration": 0,
    "start_time": "2024-03-18T14:57:04.493Z"
   },
   {
    "duration": 0,
    "start_time": "2024-03-18T14:57:04.494Z"
   },
   {
    "duration": 0,
    "start_time": "2024-03-18T14:57:04.495Z"
   },
   {
    "duration": 0,
    "start_time": "2024-03-18T14:57:04.497Z"
   },
   {
    "duration": 0,
    "start_time": "2024-03-18T14:57:04.498Z"
   },
   {
    "duration": 0,
    "start_time": "2024-03-18T14:57:04.500Z"
   },
   {
    "duration": 0,
    "start_time": "2024-03-18T14:57:04.502Z"
   },
   {
    "duration": 0,
    "start_time": "2024-03-18T14:57:04.504Z"
   },
   {
    "duration": 0,
    "start_time": "2024-03-18T14:57:04.505Z"
   },
   {
    "duration": 0,
    "start_time": "2024-03-18T14:57:04.507Z"
   },
   {
    "duration": 0,
    "start_time": "2024-03-18T14:57:04.508Z"
   },
   {
    "duration": 617,
    "start_time": "2024-03-18T15:27:19.373Z"
   },
   {
    "duration": 546,
    "start_time": "2024-03-18T15:27:31.697Z"
   },
   {
    "duration": 770,
    "start_time": "2024-03-18T15:31:46.946Z"
   },
   {
    "duration": 41,
    "start_time": "2024-03-18T15:31:49.204Z"
   },
   {
    "duration": 3003620,
    "start_time": "2024-03-18T15:32:03.472Z"
   },
   {
    "duration": 4,
    "start_time": "2024-03-18T16:22:36.857Z"
   },
   {
    "duration": 21,
    "start_time": "2024-03-18T16:22:47.307Z"
   },
   {
    "duration": 26,
    "start_time": "2024-03-18T16:58:27.708Z"
   },
   {
    "duration": 6,
    "start_time": "2024-03-18T16:58:34.136Z"
   },
   {
    "duration": 961,
    "start_time": "2024-03-18T16:58:34.144Z"
   },
   {
    "duration": 4,
    "start_time": "2024-03-18T16:58:35.107Z"
   },
   {
    "duration": 313,
    "start_time": "2024-03-18T16:58:35.113Z"
   },
   {
    "duration": 157,
    "start_time": "2024-03-18T16:58:35.428Z"
   },
   {
    "duration": 18,
    "start_time": "2024-03-18T16:58:35.591Z"
   },
   {
    "duration": 35,
    "start_time": "2024-03-18T16:58:35.611Z"
   },
   {
    "duration": 43,
    "start_time": "2024-03-18T16:58:35.648Z"
   },
   {
    "duration": 29,
    "start_time": "2024-03-18T16:58:35.693Z"
   },
   {
    "duration": 43,
    "start_time": "2024-03-18T16:58:35.725Z"
   },
   {
    "duration": 36,
    "start_time": "2024-03-18T16:58:35.769Z"
   },
   {
    "duration": 12070,
    "start_time": "2024-03-18T16:58:35.807Z"
   },
   {
    "duration": 673,
    "start_time": "2024-03-18T16:58:47.879Z"
   },
   {
    "duration": 533,
    "start_time": "2024-03-18T16:58:51.689Z"
   },
   {
    "duration": 940,
    "start_time": "2024-03-18T16:58:53.696Z"
   },
   {
    "duration": 25,
    "start_time": "2024-03-18T16:58:56.047Z"
   },
   {
    "duration": 23,
    "start_time": "2024-03-18T16:59:45.992Z"
   },
   {
    "duration": 21,
    "start_time": "2024-03-18T16:59:52.552Z"
   },
   {
    "duration": 23,
    "start_time": "2024-03-18T17:00:00.666Z"
   },
   {
    "duration": 5,
    "start_time": "2024-03-18T17:09:16.523Z"
   },
   {
    "duration": 944,
    "start_time": "2024-03-18T17:09:16.530Z"
   },
   {
    "duration": 4,
    "start_time": "2024-03-18T17:09:17.476Z"
   },
   {
    "duration": 322,
    "start_time": "2024-03-18T17:09:17.483Z"
   },
   {
    "duration": 168,
    "start_time": "2024-03-18T17:09:17.807Z"
   },
   {
    "duration": 25,
    "start_time": "2024-03-18T17:09:17.977Z"
   },
   {
    "duration": 34,
    "start_time": "2024-03-18T17:09:18.004Z"
   },
   {
    "duration": 21,
    "start_time": "2024-03-18T17:09:18.040Z"
   },
   {
    "duration": 62,
    "start_time": "2024-03-18T17:09:18.064Z"
   },
   {
    "duration": 18,
    "start_time": "2024-03-18T17:09:18.129Z"
   },
   {
    "duration": 7,
    "start_time": "2024-03-18T17:09:18.149Z"
   },
   {
    "duration": 11926,
    "start_time": "2024-03-18T17:09:18.157Z"
   },
   {
    "duration": 547,
    "start_time": "2024-03-18T17:09:30.086Z"
   },
   {
    "duration": 498,
    "start_time": "2024-03-18T17:09:30.635Z"
   },
   {
    "duration": 38,
    "start_time": "2024-03-18T17:09:34.876Z"
   },
   {
    "duration": 22,
    "start_time": "2024-03-18T17:10:14.196Z"
   },
   {
    "duration": 21,
    "start_time": "2024-03-18T17:10:15.314Z"
   },
   {
    "duration": 621,
    "start_time": "2024-03-18T18:36:39.526Z"
   },
   {
    "duration": 484,
    "start_time": "2024-03-18T18:36:58.918Z"
   },
   {
    "duration": 550,
    "start_time": "2024-03-18T18:38:25.566Z"
   },
   {
    "duration": 22,
    "start_time": "2024-03-18T18:38:29.269Z"
   },
   {
    "duration": 21,
    "start_time": "2024-03-18T18:39:13.515Z"
   },
   {
    "duration": 5,
    "start_time": "2024-03-18T18:40:54.403Z"
   },
   {
    "duration": 4,
    "start_time": "2024-03-18T18:41:12.163Z"
   },
   {
    "duration": 4,
    "start_time": "2024-03-18T18:41:19.201Z"
   },
   {
    "duration": 183,
    "start_time": "2024-03-18T18:41:51.344Z"
   },
   {
    "duration": 57,
    "start_time": "2024-03-18T18:43:08.363Z"
   },
   {
    "duration": 41,
    "start_time": "2024-03-18T18:43:37.529Z"
   },
   {
    "duration": 42,
    "start_time": "2024-03-18T18:43:50.152Z"
   },
   {
    "duration": 40,
    "start_time": "2024-03-18T18:44:12.583Z"
   },
   {
    "duration": 5,
    "start_time": "2024-03-18T18:44:39.822Z"
   },
   {
    "duration": 1099,
    "start_time": "2024-03-18T18:44:39.829Z"
   },
   {
    "duration": 5,
    "start_time": "2024-03-18T18:44:40.929Z"
   },
   {
    "duration": 336,
    "start_time": "2024-03-18T18:44:40.935Z"
   },
   {
    "duration": 156,
    "start_time": "2024-03-18T18:44:41.274Z"
   },
   {
    "duration": 18,
    "start_time": "2024-03-18T18:44:41.432Z"
   },
   {
    "duration": 9,
    "start_time": "2024-03-18T18:44:41.452Z"
   },
   {
    "duration": 9,
    "start_time": "2024-03-18T18:44:41.463Z"
   },
   {
    "duration": 21,
    "start_time": "2024-03-18T18:44:41.474Z"
   },
   {
    "duration": 11,
    "start_time": "2024-03-18T18:44:41.497Z"
   },
   {
    "duration": 9,
    "start_time": "2024-03-18T18:44:41.510Z"
   },
   {
    "duration": 11897,
    "start_time": "2024-03-18T18:44:41.521Z"
   },
   {
    "duration": 533,
    "start_time": "2024-03-18T18:44:53.422Z"
   },
   {
    "duration": 506,
    "start_time": "2024-03-18T18:44:53.957Z"
   },
   {
    "duration": 51,
    "start_time": "2024-03-18T18:44:54.465Z"
   },
   {
    "duration": 5,
    "start_time": "2024-03-18T18:46:59.690Z"
   },
   {
    "duration": 37,
    "start_time": "2024-03-18T18:51:03.623Z"
   },
   {
    "duration": 595,
    "start_time": "2024-03-18T18:51:12.260Z"
   },
   {
    "duration": 160,
    "start_time": "2024-03-18T18:51:22.013Z"
   },
   {
    "duration": 151,
    "start_time": "2024-03-18T18:51:27.752Z"
   },
   {
    "duration": 21,
    "start_time": "2024-03-18T18:51:43.859Z"
   },
   {
    "duration": 545,
    "start_time": "2024-03-18T18:51:54.135Z"
   },
   {
    "duration": 488,
    "start_time": "2024-03-18T18:52:02.082Z"
   },
   {
    "duration": 162,
    "start_time": "2024-03-18T18:52:05.252Z"
   },
   {
    "duration": 5,
    "start_time": "2024-03-18T18:52:23.867Z"
   },
   {
    "duration": 5,
    "start_time": "2024-03-18T18:52:42.684Z"
   },
   {
    "duration": 956,
    "start_time": "2024-03-18T18:52:42.692Z"
   },
   {
    "duration": 5,
    "start_time": "2024-03-18T18:52:43.650Z"
   },
   {
    "duration": 306,
    "start_time": "2024-03-18T18:52:43.657Z"
   },
   {
    "duration": 167,
    "start_time": "2024-03-18T18:52:43.965Z"
   },
   {
    "duration": 19,
    "start_time": "2024-03-18T18:52:44.135Z"
   },
   {
    "duration": 14,
    "start_time": "2024-03-18T18:52:44.156Z"
   },
   {
    "duration": 22,
    "start_time": "2024-03-18T18:52:44.172Z"
   },
   {
    "duration": 6,
    "start_time": "2024-03-18T18:52:44.196Z"
   },
   {
    "duration": 12,
    "start_time": "2024-03-18T18:52:44.203Z"
   },
   {
    "duration": 6,
    "start_time": "2024-03-18T18:52:44.218Z"
   },
   {
    "duration": 11898,
    "start_time": "2024-03-18T18:52:44.226Z"
   },
   {
    "duration": 546,
    "start_time": "2024-03-18T18:52:56.127Z"
   },
   {
    "duration": 503,
    "start_time": "2024-03-18T18:52:56.675Z"
   },
   {
    "duration": 228,
    "start_time": "2024-03-18T18:52:57.180Z"
   },
   {
    "duration": 5,
    "start_time": "2024-03-18T18:52:57.410Z"
   },
   {
    "duration": 54,
    "start_time": "2024-03-18T19:40:37.896Z"
   },
   {
    "duration": 4,
    "start_time": "2024-03-18T19:40:49.119Z"
   },
   {
    "duration": 1172,
    "start_time": "2024-03-18T19:40:49.125Z"
   },
   {
    "duration": 12,
    "start_time": "2024-03-18T19:40:50.299Z"
   },
   {
    "duration": 349,
    "start_time": "2024-03-18T19:40:50.313Z"
   },
   {
    "duration": 192,
    "start_time": "2024-03-18T19:40:50.665Z"
   },
   {
    "duration": 18,
    "start_time": "2024-03-18T19:40:50.860Z"
   },
   {
    "duration": 11,
    "start_time": "2024-03-18T19:40:50.896Z"
   },
   {
    "duration": 22,
    "start_time": "2024-03-18T19:40:50.912Z"
   },
   {
    "duration": 37,
    "start_time": "2024-03-18T19:40:50.936Z"
   },
   {
    "duration": 33,
    "start_time": "2024-03-18T19:40:50.975Z"
   },
   {
    "duration": 5,
    "start_time": "2024-03-18T19:40:51.011Z"
   },
   {
    "duration": 12851,
    "start_time": "2024-03-18T19:40:51.018Z"
   },
   {
    "duration": 617,
    "start_time": "2024-03-18T19:41:03.872Z"
   },
   {
    "duration": 541,
    "start_time": "2024-03-18T19:41:04.491Z"
   },
   {
    "duration": 221,
    "start_time": "2024-03-18T19:41:05.034Z"
   },
   {
    "duration": 3,
    "start_time": "2024-03-18T19:41:05.257Z"
   },
   {
    "duration": 106,
    "start_time": "2024-03-18T19:41:33.804Z"
   },
   {
    "duration": 20,
    "start_time": "2024-03-18T19:51:42.258Z"
   },
   {
    "duration": 10,
    "start_time": "2024-03-18T19:51:52.200Z"
   },
   {
    "duration": 1055,
    "start_time": "2024-03-18T19:51:52.213Z"
   },
   {
    "duration": 6,
    "start_time": "2024-03-18T19:51:53.270Z"
   },
   {
    "duration": 323,
    "start_time": "2024-03-18T19:51:53.294Z"
   },
   {
    "duration": 186,
    "start_time": "2024-03-18T19:51:53.619Z"
   },
   {
    "duration": 20,
    "start_time": "2024-03-18T19:51:53.807Z"
   },
   {
    "duration": 13,
    "start_time": "2024-03-18T19:51:53.829Z"
   },
   {
    "duration": 7,
    "start_time": "2024-03-18T19:51:53.844Z"
   },
   {
    "duration": 4,
    "start_time": "2024-03-18T19:51:53.854Z"
   },
   {
    "duration": 22,
    "start_time": "2024-03-18T19:51:53.860Z"
   },
   {
    "duration": 23,
    "start_time": "2024-03-18T19:51:53.884Z"
   },
   {
    "duration": 12422,
    "start_time": "2024-03-18T19:51:53.913Z"
   },
   {
    "duration": 1040,
    "start_time": "2024-03-18T19:52:06.337Z"
   },
   {
    "duration": 562,
    "start_time": "2024-03-18T19:52:07.379Z"
   },
   {
    "duration": 24,
    "start_time": "2024-03-18T19:52:11.623Z"
   },
   {
    "duration": 3,
    "start_time": "2024-03-18T19:52:53.378Z"
   },
   {
    "duration": 23,
    "start_time": "2024-03-18T19:52:54.146Z"
   },
   {
    "duration": 22,
    "start_time": "2024-03-18T19:53:15.918Z"
   },
   {
    "duration": 26,
    "start_time": "2024-03-18T19:53:26.410Z"
   },
   {
    "duration": 12789,
    "start_time": "2024-03-18T19:53:40.555Z"
   },
   {
    "duration": 3,
    "start_time": "2024-03-18T19:53:53.347Z"
   },
   {
    "duration": 3,
    "start_time": "2024-03-18T19:53:56.337Z"
   },
   {
    "duration": 43,
    "start_time": "2024-03-18T19:53:57.987Z"
   },
   {
    "duration": 615,
    "start_time": "2024-03-18T19:54:19.546Z"
   },
   {
    "duration": 81,
    "start_time": "2024-03-18T19:54:25.139Z"
   },
   {
    "duration": 278,
    "start_time": "2024-03-18T19:54:49.984Z"
   },
   {
    "duration": 3,
    "start_time": "2024-03-18T19:55:41.055Z"
   },
   {
    "duration": 2,
    "start_time": "2024-03-18T19:55:46.479Z"
   },
   {
    "duration": 5,
    "start_time": "2024-03-18T19:55:54.627Z"
   },
   {
    "duration": 586,
    "start_time": "2024-03-18T19:56:05.940Z"
   },
   {
    "duration": 82,
    "start_time": "2024-03-18T19:56:07.838Z"
   },
   {
    "duration": 67,
    "start_time": "2024-03-18T19:56:35.275Z"
   },
   {
    "duration": 76,
    "start_time": "2024-03-18T19:58:16.263Z"
   },
   {
    "duration": 63,
    "start_time": "2024-03-18T19:58:28.324Z"
   },
   {
    "duration": 22,
    "start_time": "2024-03-18T19:59:25.552Z"
   },
   {
    "duration": 21,
    "start_time": "2024-03-18T19:59:42.212Z"
   },
   {
    "duration": 21,
    "start_time": "2024-03-18T20:00:17.666Z"
   },
   {
    "duration": 5,
    "start_time": "2024-03-18T20:01:10.133Z"
   },
   {
    "duration": 30,
    "start_time": "2024-03-18T20:02:37.312Z"
   },
   {
    "duration": 12799,
    "start_time": "2024-03-18T20:02:54.705Z"
   },
   {
    "duration": 5,
    "start_time": "2024-03-18T20:03:07.507Z"
   },
   {
    "duration": 1034,
    "start_time": "2024-03-18T20:03:07.514Z"
   },
   {
    "duration": 5,
    "start_time": "2024-03-18T20:03:08.550Z"
   },
   {
    "duration": 340,
    "start_time": "2024-03-18T20:03:08.557Z"
   },
   {
    "duration": 174,
    "start_time": "2024-03-18T20:03:08.899Z"
   },
   {
    "duration": 35,
    "start_time": "2024-03-18T20:03:09.075Z"
   },
   {
    "duration": 14,
    "start_time": "2024-03-18T20:03:09.112Z"
   },
   {
    "duration": 15,
    "start_time": "2024-03-18T20:03:09.127Z"
   },
   {
    "duration": 5,
    "start_time": "2024-03-18T20:03:09.144Z"
   },
   {
    "duration": 7,
    "start_time": "2024-03-18T20:03:09.151Z"
   },
   {
    "duration": 10,
    "start_time": "2024-03-18T20:03:09.160Z"
   },
   {
    "duration": 557,
    "start_time": "2024-03-18T20:03:09.172Z"
   },
   {
    "duration": 40,
    "start_time": "2024-03-18T20:03:09.731Z"
   },
   {
    "duration": 3,
    "start_time": "2024-03-18T20:03:09.936Z"
   },
   {
    "duration": 29,
    "start_time": "2024-03-18T20:06:01.978Z"
   },
   {
    "duration": 11998,
    "start_time": "2024-03-18T20:06:25.548Z"
   },
   {
    "duration": 6,
    "start_time": "2024-03-18T20:06:37.549Z"
   },
   {
    "duration": 1018,
    "start_time": "2024-03-18T20:06:37.557Z"
   },
   {
    "duration": 4,
    "start_time": "2024-03-18T20:06:38.578Z"
   },
   {
    "duration": 323,
    "start_time": "2024-03-18T20:06:38.584Z"
   },
   {
    "duration": 164,
    "start_time": "2024-03-18T20:06:38.909Z"
   },
   {
    "duration": 34,
    "start_time": "2024-03-18T20:06:39.075Z"
   },
   {
    "duration": 28,
    "start_time": "2024-03-18T20:06:39.110Z"
   },
   {
    "duration": 24,
    "start_time": "2024-03-18T20:06:39.139Z"
   },
   {
    "duration": 9,
    "start_time": "2024-03-18T20:06:39.165Z"
   },
   {
    "duration": 8,
    "start_time": "2024-03-18T20:06:39.176Z"
   },
   {
    "duration": 12,
    "start_time": "2024-03-18T20:06:39.187Z"
   },
   {
    "duration": 559,
    "start_time": "2024-03-18T20:06:39.203Z"
   },
   {
    "duration": 40,
    "start_time": "2024-03-18T20:06:50.468Z"
   },
   {
    "duration": 21,
    "start_time": "2024-03-18T20:06:54.807Z"
   },
   {
    "duration": 590,
    "start_time": "2024-03-18T20:08:09.841Z"
   },
   {
    "duration": 585,
    "start_time": "2024-03-18T20:08:17.130Z"
   },
   {
    "duration": 3,
    "start_time": "2024-03-18T20:15:38.228Z"
   },
   {
    "duration": 3,
    "start_time": "2024-03-18T20:15:40.336Z"
   },
   {
    "duration": 987,
    "start_time": "2024-03-18T20:15:41.956Z"
   },
   {
    "duration": 26,
    "start_time": "2024-03-18T20:18:38.989Z"
   },
   {
    "duration": 23,
    "start_time": "2024-03-18T20:18:46.271Z"
   },
   {
    "duration": 4,
    "start_time": "2024-03-18T20:20:25.859Z"
   },
   {
    "duration": 4,
    "start_time": "2024-03-18T20:21:20.067Z"
   },
   {
    "duration": 30,
    "start_time": "2024-03-18T20:21:21.151Z"
   },
   {
    "duration": 547,
    "start_time": "2024-03-18T20:21:33.757Z"
   },
   {
    "duration": 99,
    "start_time": "2024-03-18T20:21:35.451Z"
   },
   {
    "duration": 120,
    "start_time": "2024-03-18T20:21:46.156Z"
   },
   {
    "duration": 28,
    "start_time": "2024-03-18T20:21:52.832Z"
   },
   {
    "duration": 556,
    "start_time": "2024-03-18T20:23:56.458Z"
   },
   {
    "duration": 31,
    "start_time": "2024-03-18T20:23:57.988Z"
   },
   {
    "duration": 24,
    "start_time": "2024-03-18T20:26:52.199Z"
   },
   {
    "duration": 23,
    "start_time": "2024-03-18T20:27:00.511Z"
   },
   {
    "duration": 29,
    "start_time": "2024-03-18T20:28:53.434Z"
   },
   {
    "duration": 109,
    "start_time": "2024-03-18T20:29:03.052Z"
   },
   {
    "duration": 28,
    "start_time": "2024-03-18T20:29:06.297Z"
   },
   {
    "duration": 72,
    "start_time": "2024-03-18T20:29:32.248Z"
   },
   {
    "duration": 5537,
    "start_time": "2024-03-18T20:29:52.078Z"
   },
   {
    "duration": 30,
    "start_time": "2024-03-18T20:30:17.377Z"
   },
   {
    "duration": 104,
    "start_time": "2024-03-18T20:30:51.255Z"
   },
   {
    "duration": 95,
    "start_time": "2024-03-18T20:30:55.118Z"
   },
   {
    "duration": 38,
    "start_time": "2024-03-18T20:31:00.182Z"
   },
   {
    "duration": 30,
    "start_time": "2024-03-18T20:31:27.397Z"
   },
   {
    "duration": 23,
    "start_time": "2024-03-18T20:31:42.811Z"
   },
   {
    "duration": 27,
    "start_time": "2024-03-18T20:33:29.242Z"
   },
   {
    "duration": 562,
    "start_time": "2024-03-18T20:38:17.514Z"
   },
   {
    "duration": 27,
    "start_time": "2024-03-18T20:38:38.377Z"
   },
   {
    "duration": 566,
    "start_time": "2024-03-18T20:38:41.916Z"
   },
   {
    "duration": 47,
    "start_time": "2024-03-18T20:39:20.075Z"
   },
   {
    "duration": 10358,
    "start_time": "2024-03-19T07:32:14.057Z"
   },
   {
    "duration": 3899,
    "start_time": "2024-03-19T07:32:24.417Z"
   },
   {
    "duration": 2227,
    "start_time": "2024-03-19T07:32:28.317Z"
   },
   {
    "duration": 4,
    "start_time": "2024-03-19T07:32:30.546Z"
   },
   {
    "duration": 302,
    "start_time": "2024-03-19T07:32:30.552Z"
   },
   {
    "duration": 128,
    "start_time": "2024-03-19T07:32:30.855Z"
   },
   {
    "duration": 14,
    "start_time": "2024-03-19T07:32:30.985Z"
   },
   {
    "duration": 54,
    "start_time": "2024-03-19T07:32:31.000Z"
   },
   {
    "duration": 41,
    "start_time": "2024-03-19T07:32:31.055Z"
   },
   {
    "duration": 50,
    "start_time": "2024-03-19T07:32:31.099Z"
   },
   {
    "duration": 97,
    "start_time": "2024-03-19T07:32:31.151Z"
   },
   {
    "duration": 67,
    "start_time": "2024-03-19T07:32:31.249Z"
   },
   {
    "duration": 53,
    "start_time": "2024-03-19T07:32:31.317Z"
   },
   {
    "duration": 493,
    "start_time": "2024-03-19T07:32:31.372Z"
   },
   {
    "duration": 19,
    "start_time": "2024-03-19T07:32:31.866Z"
   },
   {
    "duration": 300,
    "start_time": "2024-03-19T07:32:31.886Z"
   },
   {
    "duration": 0,
    "start_time": "2024-03-19T07:32:32.187Z"
   },
   {
    "duration": 0,
    "start_time": "2024-03-19T07:32:32.188Z"
   },
   {
    "duration": 0,
    "start_time": "2024-03-19T07:32:32.190Z"
   },
   {
    "duration": 0,
    "start_time": "2024-03-19T07:32:32.191Z"
   },
   {
    "duration": 0,
    "start_time": "2024-03-19T07:32:32.191Z"
   },
   {
    "duration": 0,
    "start_time": "2024-03-19T07:32:32.193Z"
   },
   {
    "duration": 0,
    "start_time": "2024-03-19T07:32:32.194Z"
   },
   {
    "duration": 0,
    "start_time": "2024-03-19T07:32:32.195Z"
   },
   {
    "duration": 0,
    "start_time": "2024-03-19T07:32:32.196Z"
   },
   {
    "duration": 0,
    "start_time": "2024-03-19T07:32:32.197Z"
   },
   {
    "duration": 0,
    "start_time": "2024-03-19T07:32:32.198Z"
   },
   {
    "duration": 74,
    "start_time": "2024-03-19T07:33:36.729Z"
   },
   {
    "duration": 16,
    "start_time": "2024-03-19T07:37:39.682Z"
   },
   {
    "duration": 424,
    "start_time": "2024-03-19T07:39:33.625Z"
   },
   {
    "duration": 590,
    "start_time": "2024-03-19T07:44:02.913Z"
   },
   {
    "duration": 402,
    "start_time": "2024-03-19T07:45:26.472Z"
   },
   {
    "duration": 18,
    "start_time": "2024-03-19T07:45:34.239Z"
   },
   {
    "duration": 18,
    "start_time": "2024-03-19T07:45:44.894Z"
   },
   {
    "duration": 17,
    "start_time": "2024-03-19T07:53:16.726Z"
   },
   {
    "duration": 425,
    "start_time": "2024-03-19T07:53:24.806Z"
   },
   {
    "duration": 4,
    "start_time": "2024-03-19T07:59:12.971Z"
   },
   {
    "duration": 22,
    "start_time": "2024-03-19T08:01:28.458Z"
   },
   {
    "duration": 17,
    "start_time": "2024-03-19T08:01:49.653Z"
   },
   {
    "duration": 34,
    "start_time": "2024-03-19T08:03:59.589Z"
   },
   {
    "duration": 36,
    "start_time": "2024-03-19T08:05:40.311Z"
   },
   {
    "duration": 31,
    "start_time": "2024-03-19T08:08:11.372Z"
   },
   {
    "duration": 69,
    "start_time": "2024-03-19T08:11:48.728Z"
   },
   {
    "duration": 40,
    "start_time": "2024-03-19T08:11:54.929Z"
   },
   {
    "duration": 19,
    "start_time": "2024-03-19T08:12:10.356Z"
   },
   {
    "duration": 17,
    "start_time": "2024-03-19T08:14:05.669Z"
   },
   {
    "duration": 412,
    "start_time": "2024-03-19T08:14:08.399Z"
   },
   {
    "duration": 19,
    "start_time": "2024-03-19T08:14:08.875Z"
   },
   {
    "duration": 46,
    "start_time": "2024-03-19T08:19:01.698Z"
   },
   {
    "duration": 434,
    "start_time": "2024-03-19T08:28:00.229Z"
   },
   {
    "duration": 41,
    "start_time": "2024-03-19T08:28:03.379Z"
   },
   {
    "duration": 40,
    "start_time": "2024-03-19T08:28:24.413Z"
   },
   {
    "duration": 133,
    "start_time": "2024-03-19T08:28:30.827Z"
   },
   {
    "duration": 40,
    "start_time": "2024-03-19T08:29:54.050Z"
   },
   {
    "duration": 426,
    "start_time": "2024-03-19T08:30:01.839Z"
   },
   {
    "duration": 41,
    "start_time": "2024-03-19T08:30:02.315Z"
   },
   {
    "duration": 51,
    "start_time": "2024-03-19T08:30:09.148Z"
   },
   {
    "duration": 9973,
    "start_time": "2024-03-19T08:30:26.432Z"
   },
   {
    "duration": 3978,
    "start_time": "2024-03-19T08:30:36.407Z"
   },
   {
    "duration": 795,
    "start_time": "2024-03-19T08:30:40.387Z"
   },
   {
    "duration": 4,
    "start_time": "2024-03-19T08:30:41.184Z"
   },
   {
    "duration": 303,
    "start_time": "2024-03-19T08:30:41.189Z"
   },
   {
    "duration": 136,
    "start_time": "2024-03-19T08:30:41.493Z"
   },
   {
    "duration": 22,
    "start_time": "2024-03-19T08:30:41.631Z"
   },
   {
    "duration": 26,
    "start_time": "2024-03-19T08:30:41.654Z"
   },
   {
    "duration": 19,
    "start_time": "2024-03-19T08:30:41.681Z"
   },
   {
    "duration": 27,
    "start_time": "2024-03-19T08:30:41.702Z"
   },
   {
    "duration": 15,
    "start_time": "2024-03-19T08:30:41.731Z"
   },
   {
    "duration": 507,
    "start_time": "2024-03-19T08:30:41.747Z"
   },
   {
    "duration": 2,
    "start_time": "2024-03-19T08:30:42.256Z"
   },
   {
    "duration": 424,
    "start_time": "2024-03-19T08:30:42.260Z"
   },
   {
    "duration": 389,
    "start_time": "2024-03-19T08:30:42.686Z"
   },
   {
    "duration": 0,
    "start_time": "2024-03-19T08:30:43.077Z"
   },
   {
    "duration": 0,
    "start_time": "2024-03-19T08:30:43.078Z"
   },
   {
    "duration": 0,
    "start_time": "2024-03-19T08:30:43.079Z"
   },
   {
    "duration": 0,
    "start_time": "2024-03-19T08:30:43.080Z"
   },
   {
    "duration": 0,
    "start_time": "2024-03-19T08:30:43.081Z"
   },
   {
    "duration": 0,
    "start_time": "2024-03-19T08:30:43.082Z"
   },
   {
    "duration": 0,
    "start_time": "2024-03-19T08:30:43.083Z"
   },
   {
    "duration": 0,
    "start_time": "2024-03-19T08:30:43.084Z"
   },
   {
    "duration": 0,
    "start_time": "2024-03-19T08:30:43.085Z"
   },
   {
    "duration": 0,
    "start_time": "2024-03-19T08:30:43.086Z"
   },
   {
    "duration": 0,
    "start_time": "2024-03-19T08:30:43.087Z"
   },
   {
    "duration": 17,
    "start_time": "2024-03-19T08:31:22.604Z"
   },
   {
    "duration": 17,
    "start_time": "2024-03-19T08:31:56.017Z"
   },
   {
    "duration": 17,
    "start_time": "2024-03-19T08:32:07.417Z"
   },
   {
    "duration": 16,
    "start_time": "2024-03-19T08:33:32.590Z"
   },
   {
    "duration": 548,
    "start_time": "2024-03-19T08:33:36.140Z"
   },
   {
    "duration": 17,
    "start_time": "2024-03-19T08:33:38.575Z"
   },
   {
    "duration": 42,
    "start_time": "2024-03-19T08:38:27.561Z"
   },
   {
    "duration": 399,
    "start_time": "2024-03-19T08:38:36.298Z"
   },
   {
    "duration": 65,
    "start_time": "2024-03-19T08:38:37.576Z"
   },
   {
    "duration": 462,
    "start_time": "2024-03-19T08:45:21.341Z"
   },
   {
    "duration": 11008,
    "start_time": "2024-03-19T08:45:46.074Z"
   },
   {
    "duration": 6,
    "start_time": "2024-03-19T08:45:57.085Z"
   },
   {
    "duration": 779,
    "start_time": "2024-03-19T08:45:57.093Z"
   },
   {
    "duration": 7,
    "start_time": "2024-03-19T08:45:57.874Z"
   },
   {
    "duration": 289,
    "start_time": "2024-03-19T08:45:57.882Z"
   },
   {
    "duration": 144,
    "start_time": "2024-03-19T08:45:58.173Z"
   },
   {
    "duration": 15,
    "start_time": "2024-03-19T08:45:58.318Z"
   },
   {
    "duration": 12,
    "start_time": "2024-03-19T08:45:58.334Z"
   },
   {
    "duration": 3,
    "start_time": "2024-03-19T08:45:58.348Z"
   },
   {
    "duration": 5,
    "start_time": "2024-03-19T08:45:58.353Z"
   },
   {
    "duration": 8,
    "start_time": "2024-03-19T08:45:58.359Z"
   },
   {
    "duration": 5,
    "start_time": "2024-03-19T08:45:58.368Z"
   },
   {
    "duration": 27,
    "start_time": "2024-03-19T08:45:58.374Z"
   },
   {
    "duration": 393,
    "start_time": "2024-03-19T08:45:58.402Z"
   },
   {
    "duration": 10223,
    "start_time": "2024-03-19T08:45:58.796Z"
   },
   {
    "duration": 16,
    "start_time": "2024-03-19T08:46:32.887Z"
   },
   {
    "duration": 9339,
    "start_time": "2024-03-19T08:46:43.486Z"
   },
   {
    "duration": 5,
    "start_time": "2024-03-19T08:46:52.827Z"
   },
   {
    "duration": 811,
    "start_time": "2024-03-19T08:46:52.834Z"
   },
   {
    "duration": 4,
    "start_time": "2024-03-19T08:46:53.647Z"
   },
   {
    "duration": 253,
    "start_time": "2024-03-19T08:46:53.653Z"
   },
   {
    "duration": 141,
    "start_time": "2024-03-19T08:46:53.908Z"
   },
   {
    "duration": 15,
    "start_time": "2024-03-19T08:46:54.050Z"
   },
   {
    "duration": 9,
    "start_time": "2024-03-19T08:46:54.067Z"
   },
   {
    "duration": 24,
    "start_time": "2024-03-19T08:46:54.077Z"
   },
   {
    "duration": 7,
    "start_time": "2024-03-19T08:46:54.103Z"
   },
   {
    "duration": 20,
    "start_time": "2024-03-19T08:46:54.111Z"
   },
   {
    "duration": 19,
    "start_time": "2024-03-19T08:46:54.132Z"
   },
   {
    "duration": 12,
    "start_time": "2024-03-19T08:46:54.152Z"
   },
   {
    "duration": 406,
    "start_time": "2024-03-19T08:46:54.166Z"
   },
   {
    "duration": 24,
    "start_time": "2024-03-19T08:46:54.574Z"
   },
   {
    "duration": 9180,
    "start_time": "2024-03-19T08:47:22.093Z"
   },
   {
    "duration": 3744,
    "start_time": "2024-03-19T08:47:31.275Z"
   },
   {
    "duration": 784,
    "start_time": "2024-03-19T08:47:35.021Z"
   },
   {
    "duration": 4,
    "start_time": "2024-03-19T08:47:35.807Z"
   },
   {
    "duration": 257,
    "start_time": "2024-03-19T08:47:35.812Z"
   },
   {
    "duration": 134,
    "start_time": "2024-03-19T08:47:36.071Z"
   },
   {
    "duration": 14,
    "start_time": "2024-03-19T08:47:36.207Z"
   },
   {
    "duration": 8,
    "start_time": "2024-03-19T08:47:36.222Z"
   },
   {
    "duration": 17,
    "start_time": "2024-03-19T08:47:36.231Z"
   },
   {
    "duration": 8,
    "start_time": "2024-03-19T08:47:36.251Z"
   },
   {
    "duration": 14,
    "start_time": "2024-03-19T08:47:36.261Z"
   },
   {
    "duration": 13,
    "start_time": "2024-03-19T08:47:36.276Z"
   },
   {
    "duration": 20,
    "start_time": "2024-03-19T08:47:36.290Z"
   },
   {
    "duration": 493,
    "start_time": "2024-03-19T08:47:36.311Z"
   },
   {
    "duration": 350,
    "start_time": "2024-03-19T08:47:36.806Z"
   },
   {
    "duration": 0,
    "start_time": "2024-03-19T08:47:37.158Z"
   },
   {
    "duration": 0,
    "start_time": "2024-03-19T08:47:37.160Z"
   },
   {
    "duration": 0,
    "start_time": "2024-03-19T08:47:37.161Z"
   },
   {
    "duration": 0,
    "start_time": "2024-03-19T08:47:37.162Z"
   },
   {
    "duration": 0,
    "start_time": "2024-03-19T08:47:37.164Z"
   },
   {
    "duration": 0,
    "start_time": "2024-03-19T08:47:37.166Z"
   },
   {
    "duration": 0,
    "start_time": "2024-03-19T08:47:37.167Z"
   },
   {
    "duration": 0,
    "start_time": "2024-03-19T08:47:37.169Z"
   },
   {
    "duration": 0,
    "start_time": "2024-03-19T08:47:37.170Z"
   },
   {
    "duration": 0,
    "start_time": "2024-03-19T08:47:37.171Z"
   },
   {
    "duration": 0,
    "start_time": "2024-03-19T08:47:37.173Z"
   },
   {
    "duration": 19,
    "start_time": "2024-03-19T08:56:28.269Z"
   },
   {
    "duration": 415,
    "start_time": "2024-03-19T08:56:31.616Z"
   },
   {
    "duration": 16,
    "start_time": "2024-03-19T08:56:32.950Z"
   },
   {
    "duration": 9713,
    "start_time": "2024-03-19T08:56:43.519Z"
   },
   {
    "duration": 3964,
    "start_time": "2024-03-19T08:56:53.235Z"
   },
   {
    "duration": 909,
    "start_time": "2024-03-19T08:56:57.200Z"
   },
   {
    "duration": 4,
    "start_time": "2024-03-19T08:56:58.111Z"
   },
   {
    "duration": 356,
    "start_time": "2024-03-19T08:56:58.116Z"
   },
   {
    "duration": 140,
    "start_time": "2024-03-19T08:56:58.474Z"
   },
   {
    "duration": 15,
    "start_time": "2024-03-19T08:56:58.615Z"
   },
   {
    "duration": 40,
    "start_time": "2024-03-19T08:56:58.632Z"
   },
   {
    "duration": 21,
    "start_time": "2024-03-19T08:56:58.674Z"
   },
   {
    "duration": 21,
    "start_time": "2024-03-19T08:56:58.698Z"
   },
   {
    "duration": 54,
    "start_time": "2024-03-19T08:56:58.721Z"
   },
   {
    "duration": 67,
    "start_time": "2024-03-19T08:56:58.777Z"
   },
   {
    "duration": 15,
    "start_time": "2024-03-19T08:56:58.846Z"
   },
   {
    "duration": 570,
    "start_time": "2024-03-19T08:56:58.862Z"
   },
   {
    "duration": 321,
    "start_time": "2024-03-19T08:56:59.433Z"
   },
   {
    "duration": 0,
    "start_time": "2024-03-19T08:56:59.755Z"
   },
   {
    "duration": 0,
    "start_time": "2024-03-19T08:56:59.756Z"
   },
   {
    "duration": 0,
    "start_time": "2024-03-19T08:56:59.758Z"
   },
   {
    "duration": 0,
    "start_time": "2024-03-19T08:56:59.759Z"
   },
   {
    "duration": 0,
    "start_time": "2024-03-19T08:56:59.760Z"
   },
   {
    "duration": 0,
    "start_time": "2024-03-19T08:56:59.762Z"
   },
   {
    "duration": 0,
    "start_time": "2024-03-19T08:56:59.763Z"
   },
   {
    "duration": 0,
    "start_time": "2024-03-19T08:56:59.764Z"
   },
   {
    "duration": 0,
    "start_time": "2024-03-19T08:56:59.765Z"
   },
   {
    "duration": 0,
    "start_time": "2024-03-19T08:56:59.766Z"
   },
   {
    "duration": 0,
    "start_time": "2024-03-19T08:56:59.768Z"
   },
   {
    "duration": 32,
    "start_time": "2024-03-19T09:02:26.777Z"
   },
   {
    "duration": 17,
    "start_time": "2024-03-19T09:03:03.062Z"
   },
   {
    "duration": 111,
    "start_time": "2024-03-19T09:15:01.146Z"
   },
   {
    "duration": 49,
    "start_time": "2024-03-19T09:15:46.264Z"
   },
   {
    "duration": 9889,
    "start_time": "2024-03-19T09:16:06.875Z"
   },
   {
    "duration": 3843,
    "start_time": "2024-03-19T09:16:16.766Z"
   },
   {
    "duration": 824,
    "start_time": "2024-03-19T09:16:20.610Z"
   },
   {
    "duration": 5,
    "start_time": "2024-03-19T09:16:21.436Z"
   },
   {
    "duration": 277,
    "start_time": "2024-03-19T09:16:21.445Z"
   },
   {
    "duration": 141,
    "start_time": "2024-03-19T09:16:21.724Z"
   },
   {
    "duration": 16,
    "start_time": "2024-03-19T09:16:21.867Z"
   },
   {
    "duration": 5,
    "start_time": "2024-03-19T09:16:21.884Z"
   },
   {
    "duration": 7,
    "start_time": "2024-03-19T09:16:21.890Z"
   },
   {
    "duration": 22,
    "start_time": "2024-03-19T09:16:21.900Z"
   },
   {
    "duration": 13,
    "start_time": "2024-03-19T09:16:21.923Z"
   },
   {
    "duration": 23,
    "start_time": "2024-03-19T09:16:21.937Z"
   },
   {
    "duration": 6,
    "start_time": "2024-03-19T09:16:21.961Z"
   },
   {
    "duration": 504,
    "start_time": "2024-03-19T09:16:21.969Z"
   },
   {
    "duration": 123,
    "start_time": "2024-03-19T09:16:22.474Z"
   },
   {
    "duration": 2,
    "start_time": "2024-03-19T09:16:22.599Z"
   },
   {
    "duration": 19,
    "start_time": "2024-03-19T09:16:22.602Z"
   },
   {
    "duration": 12,
    "start_time": "2024-03-19T09:16:22.622Z"
   },
   {
    "duration": 69,
    "start_time": "2024-03-19T09:16:22.636Z"
   },
   {
    "duration": 40,
    "start_time": "2024-03-19T09:16:22.706Z"
   },
   {
    "duration": 703,
    "start_time": "2024-03-19T09:16:22.747Z"
   },
   {
    "duration": 0,
    "start_time": "2024-03-19T09:16:23.452Z"
   },
   {
    "duration": 0,
    "start_time": "2024-03-19T09:16:23.453Z"
   },
   {
    "duration": 0,
    "start_time": "2024-03-19T09:16:23.454Z"
   },
   {
    "duration": 1,
    "start_time": "2024-03-19T09:16:23.455Z"
   },
   {
    "duration": 0,
    "start_time": "2024-03-19T09:16:23.457Z"
   },
   {
    "duration": 45,
    "start_time": "2024-03-19T09:16:41.575Z"
   },
   {
    "duration": 9760,
    "start_time": "2024-03-19T09:16:56.578Z"
   },
   {
    "duration": 3907,
    "start_time": "2024-03-19T09:17:06.340Z"
   },
   {
    "duration": 806,
    "start_time": "2024-03-19T09:17:10.249Z"
   },
   {
    "duration": 4,
    "start_time": "2024-03-19T09:17:11.057Z"
   },
   {
    "duration": 284,
    "start_time": "2024-03-19T09:17:11.062Z"
   },
   {
    "duration": 142,
    "start_time": "2024-03-19T09:17:11.348Z"
   },
   {
    "duration": 15,
    "start_time": "2024-03-19T09:17:11.492Z"
   },
   {
    "duration": 12,
    "start_time": "2024-03-19T09:17:11.509Z"
   },
   {
    "duration": 5,
    "start_time": "2024-03-19T09:17:11.523Z"
   },
   {
    "duration": 6,
    "start_time": "2024-03-19T09:17:11.530Z"
   },
   {
    "duration": 2,
    "start_time": "2024-03-19T09:17:11.545Z"
   },
   {
    "duration": 15,
    "start_time": "2024-03-19T09:17:11.548Z"
   },
   {
    "duration": 9,
    "start_time": "2024-03-19T09:17:11.564Z"
   },
   {
    "duration": 469,
    "start_time": "2024-03-19T09:17:11.574Z"
   },
   {
    "duration": 52,
    "start_time": "2024-03-19T09:17:12.045Z"
   },
   {
    "duration": 2,
    "start_time": "2024-03-19T09:17:12.099Z"
   },
   {
    "duration": 5,
    "start_time": "2024-03-19T09:17:12.102Z"
   },
   {
    "duration": 44,
    "start_time": "2024-03-19T09:17:12.109Z"
   },
   {
    "duration": 65,
    "start_time": "2024-03-19T09:17:12.155Z"
   },
   {
    "duration": 34,
    "start_time": "2024-03-19T09:17:12.221Z"
   },
   {
    "duration": 1357,
    "start_time": "2024-03-19T09:17:12.256Z"
   },
   {
    "duration": 0,
    "start_time": "2024-03-19T09:17:13.614Z"
   },
   {
    "duration": 0,
    "start_time": "2024-03-19T09:17:13.616Z"
   },
   {
    "duration": 0,
    "start_time": "2024-03-19T09:17:13.617Z"
   },
   {
    "duration": 0,
    "start_time": "2024-03-19T09:17:13.619Z"
   },
   {
    "duration": 0,
    "start_time": "2024-03-19T09:17:13.620Z"
   },
   {
    "duration": 16,
    "start_time": "2024-03-19T09:26:33.347Z"
   },
   {
    "duration": 14,
    "start_time": "2024-03-19T09:26:38.459Z"
   },
   {
    "duration": 9465,
    "start_time": "2024-03-19T09:26:50.676Z"
   },
   {
    "duration": 3812,
    "start_time": "2024-03-19T09:27:00.143Z"
   },
   {
    "duration": 792,
    "start_time": "2024-03-19T09:27:03.956Z"
   },
   {
    "duration": 4,
    "start_time": "2024-03-19T09:27:04.750Z"
   },
   {
    "duration": 279,
    "start_time": "2024-03-19T09:27:04.756Z"
   },
   {
    "duration": 147,
    "start_time": "2024-03-19T09:27:05.036Z"
   },
   {
    "duration": 15,
    "start_time": "2024-03-19T09:27:05.184Z"
   },
   {
    "duration": 123,
    "start_time": "2024-03-19T09:27:05.201Z"
   },
   {
    "duration": 59,
    "start_time": "2024-03-19T09:27:05.326Z"
   },
   {
    "duration": 54,
    "start_time": "2024-03-19T09:27:05.387Z"
   },
   {
    "duration": 29,
    "start_time": "2024-03-19T09:27:05.442Z"
   },
   {
    "duration": 86,
    "start_time": "2024-03-19T09:27:05.473Z"
   },
   {
    "duration": 39,
    "start_time": "2024-03-19T09:27:05.561Z"
   },
   {
    "duration": 496,
    "start_time": "2024-03-19T09:27:05.602Z"
   },
   {
    "duration": 308,
    "start_time": "2024-03-19T09:27:06.100Z"
   },
   {
    "duration": 0,
    "start_time": "2024-03-19T09:27:06.409Z"
   },
   {
    "duration": 0,
    "start_time": "2024-03-19T09:27:06.410Z"
   },
   {
    "duration": 0,
    "start_time": "2024-03-19T09:27:06.411Z"
   },
   {
    "duration": 0,
    "start_time": "2024-03-19T09:27:06.412Z"
   },
   {
    "duration": 0,
    "start_time": "2024-03-19T09:27:06.413Z"
   },
   {
    "duration": 0,
    "start_time": "2024-03-19T09:27:06.414Z"
   },
   {
    "duration": 0,
    "start_time": "2024-03-19T09:27:06.415Z"
   },
   {
    "duration": 0,
    "start_time": "2024-03-19T09:27:06.416Z"
   },
   {
    "duration": 0,
    "start_time": "2024-03-19T09:27:06.418Z"
   },
   {
    "duration": 0,
    "start_time": "2024-03-19T09:27:06.419Z"
   },
   {
    "duration": 0,
    "start_time": "2024-03-19T09:27:06.420Z"
   },
   {
    "duration": 9932,
    "start_time": "2024-03-19T09:28:29.091Z"
   },
   {
    "duration": 40,
    "start_time": "2024-03-19T09:29:11.028Z"
   },
   {
    "duration": 43,
    "start_time": "2024-03-19T09:29:44.044Z"
   },
   {
    "duration": 43,
    "start_time": "2024-03-19T09:30:23.407Z"
   },
   {
    "duration": 43,
    "start_time": "2024-03-19T09:31:05.011Z"
   },
   {
    "duration": 9771,
    "start_time": "2024-03-19T09:32:54.815Z"
   },
   {
    "duration": 3805,
    "start_time": "2024-03-19T09:33:04.588Z"
   },
   {
    "duration": 776,
    "start_time": "2024-03-19T09:33:08.394Z"
   },
   {
    "duration": 4,
    "start_time": "2024-03-19T09:33:09.172Z"
   },
   {
    "duration": 278,
    "start_time": "2024-03-19T09:33:09.177Z"
   },
   {
    "duration": 163,
    "start_time": "2024-03-19T09:33:09.456Z"
   },
   {
    "duration": 19,
    "start_time": "2024-03-19T09:33:09.620Z"
   },
   {
    "duration": 10,
    "start_time": "2024-03-19T09:33:09.640Z"
   },
   {
    "duration": 4,
    "start_time": "2024-03-19T09:33:09.651Z"
   },
   {
    "duration": 4,
    "start_time": "2024-03-19T09:33:09.658Z"
   },
   {
    "duration": 4,
    "start_time": "2024-03-19T09:33:09.664Z"
   },
   {
    "duration": 8,
    "start_time": "2024-03-19T09:33:09.669Z"
   },
   {
    "duration": 4,
    "start_time": "2024-03-19T09:33:09.678Z"
   },
   {
    "duration": 458,
    "start_time": "2024-03-19T09:33:09.683Z"
   },
   {
    "duration": 10549,
    "start_time": "2024-03-19T09:33:10.144Z"
   },
   {
    "duration": 0,
    "start_time": "2024-03-19T09:33:20.695Z"
   },
   {
    "duration": 0,
    "start_time": "2024-03-19T09:33:20.696Z"
   },
   {
    "duration": 0,
    "start_time": "2024-03-19T09:33:20.697Z"
   },
   {
    "duration": 0,
    "start_time": "2024-03-19T09:33:20.698Z"
   },
   {
    "duration": 0,
    "start_time": "2024-03-19T09:33:20.699Z"
   },
   {
    "duration": 0,
    "start_time": "2024-03-19T09:33:20.700Z"
   },
   {
    "duration": 0,
    "start_time": "2024-03-19T09:33:20.701Z"
   },
   {
    "duration": 0,
    "start_time": "2024-03-19T09:33:20.702Z"
   },
   {
    "duration": 0,
    "start_time": "2024-03-19T09:33:20.703Z"
   },
   {
    "duration": 0,
    "start_time": "2024-03-19T09:33:20.705Z"
   },
   {
    "duration": 0,
    "start_time": "2024-03-19T09:33:20.706Z"
   },
   {
    "duration": 15,
    "start_time": "2024-03-19T09:36:37.813Z"
   },
   {
    "duration": 9227,
    "start_time": "2024-03-19T09:36:59.743Z"
   },
   {
    "duration": 3662,
    "start_time": "2024-03-19T09:37:08.971Z"
   },
   {
    "duration": 753,
    "start_time": "2024-03-19T09:37:12.634Z"
   },
   {
    "duration": 4,
    "start_time": "2024-03-19T09:37:13.389Z"
   },
   {
    "duration": 253,
    "start_time": "2024-03-19T09:37:13.394Z"
   },
   {
    "duration": 125,
    "start_time": "2024-03-19T09:37:13.649Z"
   },
   {
    "duration": 14,
    "start_time": "2024-03-19T09:37:13.775Z"
   },
   {
    "duration": 9,
    "start_time": "2024-03-19T09:37:13.790Z"
   },
   {
    "duration": 6,
    "start_time": "2024-03-19T09:37:13.800Z"
   },
   {
    "duration": 6,
    "start_time": "2024-03-19T09:37:13.808Z"
   },
   {
    "duration": 4,
    "start_time": "2024-03-19T09:37:13.815Z"
   },
   {
    "duration": 4,
    "start_time": "2024-03-19T09:37:13.820Z"
   },
   {
    "duration": 3,
    "start_time": "2024-03-19T09:37:13.825Z"
   },
   {
    "duration": 438,
    "start_time": "2024-03-19T09:37:13.844Z"
   },
   {
    "duration": 3938,
    "start_time": "2024-03-19T09:37:14.283Z"
   },
   {
    "duration": 2,
    "start_time": "2024-03-19T09:37:18.223Z"
   },
   {
    "duration": 18,
    "start_time": "2024-03-19T09:37:18.227Z"
   },
   {
    "duration": 10,
    "start_time": "2024-03-19T09:37:18.247Z"
   },
   {
    "duration": 63,
    "start_time": "2024-03-19T09:37:18.258Z"
   },
   {
    "duration": 36,
    "start_time": "2024-03-19T09:37:18.323Z"
   },
   {
    "duration": 511,
    "start_time": "2024-03-19T09:37:18.361Z"
   },
   {
    "duration": 0,
    "start_time": "2024-03-19T09:37:18.873Z"
   },
   {
    "duration": 0,
    "start_time": "2024-03-19T09:37:18.875Z"
   },
   {
    "duration": 0,
    "start_time": "2024-03-19T09:37:18.876Z"
   },
   {
    "duration": 0,
    "start_time": "2024-03-19T09:37:18.877Z"
   },
   {
    "duration": 0,
    "start_time": "2024-03-19T09:37:18.879Z"
   },
   {
    "duration": 15,
    "start_time": "2024-03-19T09:37:45.939Z"
   },
   {
    "duration": 9065,
    "start_time": "2024-03-19T09:37:56.963Z"
   },
   {
    "duration": 3712,
    "start_time": "2024-03-19T09:38:06.030Z"
   },
   {
    "duration": 772,
    "start_time": "2024-03-19T09:38:09.744Z"
   },
   {
    "duration": 4,
    "start_time": "2024-03-19T09:38:10.518Z"
   },
   {
    "duration": 263,
    "start_time": "2024-03-19T09:38:10.523Z"
   },
   {
    "duration": 133,
    "start_time": "2024-03-19T09:38:10.787Z"
   },
   {
    "duration": 15,
    "start_time": "2024-03-19T09:38:10.921Z"
   },
   {
    "duration": 27,
    "start_time": "2024-03-19T09:38:10.944Z"
   },
   {
    "duration": 24,
    "start_time": "2024-03-19T09:38:10.972Z"
   },
   {
    "duration": 36,
    "start_time": "2024-03-19T09:38:10.998Z"
   },
   {
    "duration": 26,
    "start_time": "2024-03-19T09:38:11.035Z"
   },
   {
    "duration": 37,
    "start_time": "2024-03-19T09:38:11.062Z"
   },
   {
    "duration": 36,
    "start_time": "2024-03-19T09:38:11.100Z"
   },
   {
    "duration": 476,
    "start_time": "2024-03-19T09:38:11.137Z"
   },
   {
    "duration": 4400,
    "start_time": "2024-03-19T09:38:11.615Z"
   },
   {
    "duration": 2,
    "start_time": "2024-03-19T09:38:16.016Z"
   },
   {
    "duration": 15,
    "start_time": "2024-03-19T09:38:16.019Z"
   },
   {
    "duration": 18,
    "start_time": "2024-03-19T09:38:16.035Z"
   },
   {
    "duration": 57,
    "start_time": "2024-03-19T09:38:16.054Z"
   },
   {
    "duration": 15,
    "start_time": "2024-03-19T09:38:16.112Z"
   },
   {
    "duration": 510,
    "start_time": "2024-03-19T09:38:16.145Z"
   },
   {
    "duration": 0,
    "start_time": "2024-03-19T09:38:16.656Z"
   },
   {
    "duration": 0,
    "start_time": "2024-03-19T09:38:16.657Z"
   },
   {
    "duration": 0,
    "start_time": "2024-03-19T09:38:16.658Z"
   },
   {
    "duration": 0,
    "start_time": "2024-03-19T09:38:16.659Z"
   },
   {
    "duration": 0,
    "start_time": "2024-03-19T09:38:16.660Z"
   },
   {
    "duration": 46,
    "start_time": "2024-03-19T09:41:06.838Z"
   },
   {
    "duration": 9397,
    "start_time": "2024-03-19T09:41:19.643Z"
   },
   {
    "duration": 3758,
    "start_time": "2024-03-19T09:41:29.042Z"
   },
   {
    "duration": 760,
    "start_time": "2024-03-19T09:41:32.802Z"
   },
   {
    "duration": 4,
    "start_time": "2024-03-19T09:41:33.564Z"
   },
   {
    "duration": 276,
    "start_time": "2024-03-19T09:41:33.569Z"
   },
   {
    "duration": 128,
    "start_time": "2024-03-19T09:41:33.846Z"
   },
   {
    "duration": 14,
    "start_time": "2024-03-19T09:41:33.975Z"
   },
   {
    "duration": 5,
    "start_time": "2024-03-19T09:41:33.991Z"
   },
   {
    "duration": 7,
    "start_time": "2024-03-19T09:41:33.997Z"
   },
   {
    "duration": 7,
    "start_time": "2024-03-19T09:41:34.006Z"
   },
   {
    "duration": 16,
    "start_time": "2024-03-19T09:41:34.014Z"
   },
   {
    "duration": 28,
    "start_time": "2024-03-19T09:41:34.031Z"
   },
   {
    "duration": 6,
    "start_time": "2024-03-19T09:41:34.061Z"
   },
   {
    "duration": 464,
    "start_time": "2024-03-19T09:41:34.069Z"
   },
   {
    "duration": 162,
    "start_time": "2024-03-19T09:41:34.534Z"
   },
   {
    "duration": 2,
    "start_time": "2024-03-19T09:41:34.698Z"
   },
   {
    "duration": 15,
    "start_time": "2024-03-19T09:41:34.701Z"
   },
   {
    "duration": 14,
    "start_time": "2024-03-19T09:41:34.717Z"
   },
   {
    "duration": 68,
    "start_time": "2024-03-19T09:41:34.732Z"
   },
   {
    "duration": 15,
    "start_time": "2024-03-19T09:41:34.802Z"
   },
   {
    "duration": 559,
    "start_time": "2024-03-19T09:41:34.818Z"
   },
   {
    "duration": 0,
    "start_time": "2024-03-19T09:41:35.379Z"
   },
   {
    "duration": 0,
    "start_time": "2024-03-19T09:41:35.380Z"
   },
   {
    "duration": 0,
    "start_time": "2024-03-19T09:41:35.380Z"
   },
   {
    "duration": 0,
    "start_time": "2024-03-19T09:41:35.381Z"
   },
   {
    "duration": 0,
    "start_time": "2024-03-19T09:41:35.382Z"
   },
   {
    "duration": 8961,
    "start_time": "2024-03-19T09:42:05.006Z"
   },
   {
    "duration": 3728,
    "start_time": "2024-03-19T09:42:13.969Z"
   },
   {
    "duration": 765,
    "start_time": "2024-03-19T09:42:17.698Z"
   },
   {
    "duration": 4,
    "start_time": "2024-03-19T09:42:18.465Z"
   },
   {
    "duration": 253,
    "start_time": "2024-03-19T09:42:18.471Z"
   },
   {
    "duration": 140,
    "start_time": "2024-03-19T09:42:18.725Z"
   },
   {
    "duration": 14,
    "start_time": "2024-03-19T09:42:18.866Z"
   },
   {
    "duration": 12,
    "start_time": "2024-03-19T09:42:18.881Z"
   },
   {
    "duration": 19,
    "start_time": "2024-03-19T09:42:18.894Z"
   },
   {
    "duration": 3,
    "start_time": "2024-03-19T09:42:18.915Z"
   },
   {
    "duration": 6,
    "start_time": "2024-03-19T09:42:18.919Z"
   },
   {
    "duration": 4,
    "start_time": "2024-03-19T09:42:18.926Z"
   },
   {
    "duration": 11,
    "start_time": "2024-03-19T09:42:18.931Z"
   },
   {
    "duration": 452,
    "start_time": "2024-03-19T09:42:18.943Z"
   },
   {
    "duration": 180,
    "start_time": "2024-03-19T09:42:19.396Z"
   },
   {
    "duration": 2,
    "start_time": "2024-03-19T09:42:19.577Z"
   },
   {
    "duration": 9,
    "start_time": "2024-03-19T09:42:19.580Z"
   },
   {
    "duration": 10,
    "start_time": "2024-03-19T09:42:19.590Z"
   },
   {
    "duration": 72,
    "start_time": "2024-03-19T09:42:19.601Z"
   },
   {
    "duration": 14,
    "start_time": "2024-03-19T09:42:19.674Z"
   },
   {
    "duration": 549,
    "start_time": "2024-03-19T09:42:19.690Z"
   },
   {
    "duration": 0,
    "start_time": "2024-03-19T09:42:20.240Z"
   },
   {
    "duration": 0,
    "start_time": "2024-03-19T09:42:20.241Z"
   },
   {
    "duration": 0,
    "start_time": "2024-03-19T09:42:20.244Z"
   },
   {
    "duration": 0,
    "start_time": "2024-03-19T09:42:20.245Z"
   },
   {
    "duration": 0,
    "start_time": "2024-03-19T09:42:20.246Z"
   },
   {
    "duration": 4,
    "start_time": "2024-03-19T09:45:44.080Z"
   },
   {
    "duration": 9116,
    "start_time": "2024-03-19T09:46:03.899Z"
   },
   {
    "duration": 5,
    "start_time": "2024-03-19T09:46:13.017Z"
   },
   {
    "duration": 765,
    "start_time": "2024-03-19T09:46:13.024Z"
   },
   {
    "duration": 4,
    "start_time": "2024-03-19T09:46:13.792Z"
   },
   {
    "duration": 258,
    "start_time": "2024-03-19T09:46:13.798Z"
   },
   {
    "duration": 126,
    "start_time": "2024-03-19T09:46:14.058Z"
   },
   {
    "duration": 14,
    "start_time": "2024-03-19T09:46:14.185Z"
   },
   {
    "duration": 6,
    "start_time": "2024-03-19T09:46:14.201Z"
   },
   {
    "duration": 5,
    "start_time": "2024-03-19T09:46:14.209Z"
   },
   {
    "duration": 4,
    "start_time": "2024-03-19T09:46:14.216Z"
   },
   {
    "duration": 4,
    "start_time": "2024-03-19T09:46:14.221Z"
   },
   {
    "duration": 2,
    "start_time": "2024-03-19T09:46:14.245Z"
   },
   {
    "duration": 6,
    "start_time": "2024-03-19T09:46:14.249Z"
   },
   {
    "duration": 561,
    "start_time": "2024-03-19T09:46:14.256Z"
   },
   {
    "duration": 398,
    "start_time": "2024-03-19T09:46:17.063Z"
   },
   {
    "duration": 4,
    "start_time": "2024-03-19T09:46:19.228Z"
   },
   {
    "duration": 74,
    "start_time": "2024-03-19T09:46:57.940Z"
   },
   {
    "duration": 390,
    "start_time": "2024-03-19T09:47:04.781Z"
   },
   {
    "duration": 424,
    "start_time": "2024-03-19T09:48:24.417Z"
   },
   {
    "duration": 4,
    "start_time": "2024-03-19T09:48:26.609Z"
   },
   {
    "duration": 76,
    "start_time": "2024-03-19T09:48:28.016Z"
   },
   {
    "duration": 9222,
    "start_time": "2024-03-19T09:50:59.033Z"
   },
   {
    "duration": 4,
    "start_time": "2024-03-19T09:51:08.258Z"
   },
   {
    "duration": 759,
    "start_time": "2024-03-19T09:51:08.264Z"
   },
   {
    "duration": 4,
    "start_time": "2024-03-19T09:51:09.025Z"
   },
   {
    "duration": 283,
    "start_time": "2024-03-19T09:51:09.030Z"
   },
   {
    "duration": 145,
    "start_time": "2024-03-19T09:51:09.315Z"
   },
   {
    "duration": 15,
    "start_time": "2024-03-19T09:51:09.462Z"
   },
   {
    "duration": 14,
    "start_time": "2024-03-19T09:51:09.479Z"
   },
   {
    "duration": 5,
    "start_time": "2024-03-19T09:51:09.494Z"
   },
   {
    "duration": 3,
    "start_time": "2024-03-19T09:51:09.501Z"
   },
   {
    "duration": 15,
    "start_time": "2024-03-19T09:51:09.506Z"
   },
   {
    "duration": 6,
    "start_time": "2024-03-19T09:51:09.522Z"
   },
   {
    "duration": 3,
    "start_time": "2024-03-19T09:51:09.530Z"
   },
   {
    "duration": 405,
    "start_time": "2024-03-19T09:51:09.534Z"
   },
   {
    "duration": 402,
    "start_time": "2024-03-19T09:51:12.878Z"
   },
   {
    "duration": 4,
    "start_time": "2024-03-19T09:51:14.790Z"
   },
   {
    "duration": 85,
    "start_time": "2024-03-19T09:51:16.473Z"
   },
   {
    "duration": 56,
    "start_time": "2024-03-19T09:53:56.532Z"
   },
   {
    "duration": 9382,
    "start_time": "2024-03-19T09:54:04.759Z"
   },
   {
    "duration": 4,
    "start_time": "2024-03-19T09:54:14.144Z"
   },
   {
    "duration": 786,
    "start_time": "2024-03-19T09:54:14.149Z"
   },
   {
    "duration": 8,
    "start_time": "2024-03-19T09:54:14.937Z"
   },
   {
    "duration": 261,
    "start_time": "2024-03-19T09:54:14.946Z"
   },
   {
    "duration": 132,
    "start_time": "2024-03-19T09:54:15.209Z"
   },
   {
    "duration": 15,
    "start_time": "2024-03-19T09:54:15.342Z"
   },
   {
    "duration": 30,
    "start_time": "2024-03-19T09:54:15.358Z"
   },
   {
    "duration": 21,
    "start_time": "2024-03-19T09:54:15.389Z"
   },
   {
    "duration": 40,
    "start_time": "2024-03-19T09:54:15.412Z"
   },
   {
    "duration": 49,
    "start_time": "2024-03-19T09:54:15.454Z"
   },
   {
    "duration": 30,
    "start_time": "2024-03-19T09:54:15.504Z"
   },
   {
    "duration": 20,
    "start_time": "2024-03-19T09:54:15.535Z"
   },
   {
    "duration": 406,
    "start_time": "2024-03-19T09:54:15.556Z"
   },
   {
    "duration": 3,
    "start_time": "2024-03-19T09:54:15.964Z"
   },
   {
    "duration": 4,
    "start_time": "2024-03-19T09:54:20.932Z"
   },
   {
    "duration": 79,
    "start_time": "2024-03-19T09:54:23.523Z"
   },
   {
    "duration": 8994,
    "start_time": "2024-03-19T09:55:30.438Z"
   },
   {
    "duration": 4,
    "start_time": "2024-03-19T09:55:39.434Z"
   },
   {
    "duration": 768,
    "start_time": "2024-03-19T09:55:39.439Z"
   },
   {
    "duration": 4,
    "start_time": "2024-03-19T09:55:40.209Z"
   },
   {
    "duration": 263,
    "start_time": "2024-03-19T09:55:40.214Z"
   },
   {
    "duration": 132,
    "start_time": "2024-03-19T09:55:40.479Z"
   },
   {
    "duration": 15,
    "start_time": "2024-03-19T09:55:40.613Z"
   },
   {
    "duration": 25,
    "start_time": "2024-03-19T09:55:40.629Z"
   },
   {
    "duration": 30,
    "start_time": "2024-03-19T09:55:40.656Z"
   },
   {
    "duration": 27,
    "start_time": "2024-03-19T09:55:40.688Z"
   },
   {
    "duration": 19,
    "start_time": "2024-03-19T09:55:40.717Z"
   },
   {
    "duration": 53,
    "start_time": "2024-03-19T09:55:40.737Z"
   },
   {
    "duration": 32,
    "start_time": "2024-03-19T09:55:40.792Z"
   },
   {
    "duration": 710,
    "start_time": "2024-03-19T09:55:40.826Z"
   },
   {
    "duration": 9,
    "start_time": "2024-03-19T09:55:41.537Z"
   },
   {
    "duration": 4,
    "start_time": "2024-03-19T09:55:44.618Z"
   },
   {
    "duration": 72,
    "start_time": "2024-03-19T09:55:46.601Z"
   },
   {
    "duration": 9498,
    "start_time": "2024-03-19T09:58:13.556Z"
   },
   {
    "duration": 5,
    "start_time": "2024-03-19T09:58:23.057Z"
   },
   {
    "duration": 758,
    "start_time": "2024-03-19T09:58:23.063Z"
   },
   {
    "duration": 5,
    "start_time": "2024-03-19T09:58:23.822Z"
   },
   {
    "duration": 259,
    "start_time": "2024-03-19T09:58:23.828Z"
   },
   {
    "duration": 144,
    "start_time": "2024-03-19T09:58:24.089Z"
   },
   {
    "duration": 18,
    "start_time": "2024-03-19T09:58:24.234Z"
   },
   {
    "duration": 3,
    "start_time": "2024-03-19T09:58:24.253Z"
   },
   {
    "duration": 12,
    "start_time": "2024-03-19T09:58:24.258Z"
   },
   {
    "duration": 6,
    "start_time": "2024-03-19T09:58:24.272Z"
   },
   {
    "duration": 5,
    "start_time": "2024-03-19T09:58:24.279Z"
   },
   {
    "duration": 4,
    "start_time": "2024-03-19T09:58:24.285Z"
   },
   {
    "duration": 5,
    "start_time": "2024-03-19T09:58:24.290Z"
   },
   {
    "duration": 429,
    "start_time": "2024-03-19T09:58:24.297Z"
   },
   {
    "duration": 4,
    "start_time": "2024-03-19T09:58:24.728Z"
   },
   {
    "duration": 5,
    "start_time": "2024-03-19T09:58:30.443Z"
   },
   {
    "duration": 69,
    "start_time": "2024-03-19T09:58:32.524Z"
   },
   {
    "duration": 9225,
    "start_time": "2024-03-19T09:59:48.249Z"
   },
   {
    "duration": 5,
    "start_time": "2024-03-19T09:59:57.476Z"
   },
   {
    "duration": 775,
    "start_time": "2024-03-19T09:59:57.482Z"
   },
   {
    "duration": 4,
    "start_time": "2024-03-19T09:59:58.258Z"
   },
   {
    "duration": 292,
    "start_time": "2024-03-19T09:59:58.264Z"
   },
   {
    "duration": 134,
    "start_time": "2024-03-19T09:59:58.557Z"
   },
   {
    "duration": 15,
    "start_time": "2024-03-19T09:59:58.693Z"
   },
   {
    "duration": 4,
    "start_time": "2024-03-19T09:59:58.709Z"
   },
   {
    "duration": 11,
    "start_time": "2024-03-19T09:59:58.714Z"
   },
   {
    "duration": 5,
    "start_time": "2024-03-19T09:59:58.727Z"
   },
   {
    "duration": 14,
    "start_time": "2024-03-19T09:59:58.733Z"
   },
   {
    "duration": 8,
    "start_time": "2024-03-19T09:59:58.748Z"
   },
   {
    "duration": 7,
    "start_time": "2024-03-19T09:59:58.758Z"
   },
   {
    "duration": 402,
    "start_time": "2024-03-19T09:59:58.767Z"
   },
   {
    "duration": 593,
    "start_time": "2024-03-19T10:00:03.382Z"
   },
   {
    "duration": 3,
    "start_time": "2024-03-19T10:00:06.662Z"
   },
   {
    "duration": 72,
    "start_time": "2024-03-19T10:00:08.707Z"
   },
   {
    "duration": 9831,
    "start_time": "2024-03-19T10:01:45.742Z"
   },
   {
    "duration": 5,
    "start_time": "2024-03-19T10:01:55.575Z"
   },
   {
    "duration": 841,
    "start_time": "2024-03-19T10:01:55.581Z"
   },
   {
    "duration": 5,
    "start_time": "2024-03-19T10:01:56.424Z"
   },
   {
    "duration": 274,
    "start_time": "2024-03-19T10:01:56.431Z"
   },
   {
    "duration": 140,
    "start_time": "2024-03-19T10:01:56.706Z"
   },
   {
    "duration": 15,
    "start_time": "2024-03-19T10:01:56.847Z"
   },
   {
    "duration": 23,
    "start_time": "2024-03-19T10:01:56.864Z"
   },
   {
    "duration": 6,
    "start_time": "2024-03-19T10:01:56.889Z"
   },
   {
    "duration": 5,
    "start_time": "2024-03-19T10:01:56.897Z"
   },
   {
    "duration": 13,
    "start_time": "2024-03-19T10:01:56.903Z"
   },
   {
    "duration": 20,
    "start_time": "2024-03-19T10:01:56.917Z"
   },
   {
    "duration": 18,
    "start_time": "2024-03-19T10:01:56.938Z"
   },
   {
    "duration": 452,
    "start_time": "2024-03-19T10:01:56.957Z"
   },
   {
    "duration": 425,
    "start_time": "2024-03-19T10:01:58.806Z"
   },
   {
    "duration": 4,
    "start_time": "2024-03-19T10:01:59.322Z"
   },
   {
    "duration": 29,
    "start_time": "2024-03-19T10:02:00.411Z"
   },
   {
    "duration": 2348,
    "start_time": "2024-03-19T10:08:36.395Z"
   },
   {
    "duration": 2280,
    "start_time": "2024-03-19T10:09:03.415Z"
   },
   {
    "duration": 9455,
    "start_time": "2024-03-19T10:09:05.697Z"
   },
   {
    "duration": 5,
    "start_time": "2024-03-19T10:09:15.153Z"
   },
   {
    "duration": 777,
    "start_time": "2024-03-19T10:09:15.161Z"
   },
   {
    "duration": 7,
    "start_time": "2024-03-19T10:09:15.940Z"
   },
   {
    "duration": 253,
    "start_time": "2024-03-19T10:09:15.949Z"
   },
   {
    "duration": 130,
    "start_time": "2024-03-19T10:09:16.204Z"
   },
   {
    "duration": 18,
    "start_time": "2024-03-19T10:09:16.336Z"
   },
   {
    "duration": 22,
    "start_time": "2024-03-19T10:09:16.355Z"
   },
   {
    "duration": 13,
    "start_time": "2024-03-19T10:09:16.379Z"
   },
   {
    "duration": 4,
    "start_time": "2024-03-19T10:09:16.393Z"
   },
   {
    "duration": 11,
    "start_time": "2024-03-19T10:09:16.398Z"
   },
   {
    "duration": 8,
    "start_time": "2024-03-19T10:09:16.410Z"
   },
   {
    "duration": 12,
    "start_time": "2024-03-19T10:09:16.419Z"
   },
   {
    "duration": 413,
    "start_time": "2024-03-19T10:09:16.432Z"
   },
   {
    "duration": 72,
    "start_time": "2024-03-19T10:09:16.846Z"
   },
   {
    "duration": 2341,
    "start_time": "2024-03-19T10:20:34.543Z"
   },
   {
    "duration": 9408,
    "start_time": "2024-03-19T10:20:36.886Z"
   },
   {
    "duration": 3728,
    "start_time": "2024-03-19T10:20:46.296Z"
   },
   {
    "duration": 773,
    "start_time": "2024-03-19T10:20:50.025Z"
   },
   {
    "duration": 4,
    "start_time": "2024-03-19T10:20:50.800Z"
   },
   {
    "duration": 274,
    "start_time": "2024-03-19T10:20:50.806Z"
   },
   {
    "duration": 145,
    "start_time": "2024-03-19T10:20:51.081Z"
   },
   {
    "duration": 20,
    "start_time": "2024-03-19T10:20:51.228Z"
   },
   {
    "duration": 10,
    "start_time": "2024-03-19T10:20:51.250Z"
   },
   {
    "duration": 5,
    "start_time": "2024-03-19T10:20:51.262Z"
   },
   {
    "duration": 10,
    "start_time": "2024-03-19T10:20:51.268Z"
   },
   {
    "duration": 8,
    "start_time": "2024-03-19T10:20:51.279Z"
   },
   {
    "duration": 31,
    "start_time": "2024-03-19T10:20:51.289Z"
   },
   {
    "duration": 8,
    "start_time": "2024-03-19T10:20:51.321Z"
   },
   {
    "duration": 469,
    "start_time": "2024-03-19T10:20:51.330Z"
   },
   {
    "duration": 98,
    "start_time": "2024-03-19T10:20:51.800Z"
   },
   {
    "duration": 2,
    "start_time": "2024-03-19T10:20:51.899Z"
   },
   {
    "duration": 13,
    "start_time": "2024-03-19T10:20:51.902Z"
   },
   {
    "duration": 30,
    "start_time": "2024-03-19T10:20:51.916Z"
   },
   {
    "duration": 77,
    "start_time": "2024-03-19T10:20:51.947Z"
   },
   {
    "duration": 20,
    "start_time": "2024-03-19T10:20:52.025Z"
   },
   {
    "duration": 6928,
    "start_time": "2024-03-19T10:20:52.046Z"
   },
   {
    "duration": 43485,
    "start_time": "2024-03-19T10:20:58.975Z"
   },
   {
    "duration": 90993,
    "start_time": "2024-03-19T10:21:42.462Z"
   },
   {
    "duration": 2,
    "start_time": "2024-03-19T10:23:13.457Z"
   },
   {
    "duration": 2229,
    "start_time": "2024-03-19T10:24:49.246Z"
   },
   {
    "duration": 9413,
    "start_time": "2024-03-19T10:24:51.477Z"
   },
   {
    "duration": 3753,
    "start_time": "2024-03-19T10:25:00.892Z"
   },
   {
    "duration": 773,
    "start_time": "2024-03-19T10:25:04.647Z"
   },
   {
    "duration": 4,
    "start_time": "2024-03-19T10:25:05.422Z"
   },
   {
    "duration": 265,
    "start_time": "2024-03-19T10:25:05.427Z"
   },
   {
    "duration": 130,
    "start_time": "2024-03-19T10:25:05.693Z"
   },
   {
    "duration": 23,
    "start_time": "2024-03-19T10:25:05.824Z"
   },
   {
    "duration": 24,
    "start_time": "2024-03-19T10:25:05.848Z"
   },
   {
    "duration": 10,
    "start_time": "2024-03-19T10:25:05.875Z"
   },
   {
    "duration": 6,
    "start_time": "2024-03-19T10:25:05.886Z"
   },
   {
    "duration": 23,
    "start_time": "2024-03-19T10:25:05.893Z"
   },
   {
    "duration": 24,
    "start_time": "2024-03-19T10:25:05.917Z"
   },
   {
    "duration": 15,
    "start_time": "2024-03-19T10:25:05.943Z"
   },
   {
    "duration": 463,
    "start_time": "2024-03-19T10:25:05.959Z"
   },
   {
    "duration": 83,
    "start_time": "2024-03-19T10:25:06.423Z"
   },
   {
    "duration": 2,
    "start_time": "2024-03-19T10:25:06.508Z"
   },
   {
    "duration": 4,
    "start_time": "2024-03-19T10:25:06.511Z"
   },
   {
    "duration": 35,
    "start_time": "2024-03-19T10:25:06.516Z"
   },
   {
    "duration": 70,
    "start_time": "2024-03-19T10:25:06.552Z"
   },
   {
    "duration": 23,
    "start_time": "2024-03-19T10:25:06.624Z"
   },
   {
    "duration": 6777,
    "start_time": "2024-03-19T10:25:06.648Z"
   },
   {
    "duration": 2273,
    "start_time": "2024-03-19T10:25:55.246Z"
   },
   {
    "duration": 9111,
    "start_time": "2024-03-19T10:25:57.521Z"
   },
   {
    "duration": 3753,
    "start_time": "2024-03-19T10:26:06.634Z"
   },
   {
    "duration": 777,
    "start_time": "2024-03-19T10:26:10.389Z"
   },
   {
    "duration": 4,
    "start_time": "2024-03-19T10:26:11.168Z"
   },
   {
    "duration": 289,
    "start_time": "2024-03-19T10:26:11.174Z"
   },
   {
    "duration": 144,
    "start_time": "2024-03-19T10:26:11.464Z"
   },
   {
    "duration": 15,
    "start_time": "2024-03-19T10:26:11.610Z"
   },
   {
    "duration": 5,
    "start_time": "2024-03-19T10:26:11.626Z"
   },
   {
    "duration": 2,
    "start_time": "2024-03-19T10:26:11.645Z"
   },
   {
    "duration": 4,
    "start_time": "2024-03-19T10:26:11.648Z"
   },
   {
    "duration": 10,
    "start_time": "2024-03-19T10:26:11.653Z"
   },
   {
    "duration": 8,
    "start_time": "2024-03-19T10:26:11.664Z"
   },
   {
    "duration": 5,
    "start_time": "2024-03-19T10:26:11.673Z"
   },
   {
    "duration": 446,
    "start_time": "2024-03-19T10:26:11.679Z"
   },
   {
    "duration": 60,
    "start_time": "2024-03-19T10:26:12.126Z"
   },
   {
    "duration": 2,
    "start_time": "2024-03-19T10:26:12.187Z"
   },
   {
    "duration": 10,
    "start_time": "2024-03-19T10:26:12.191Z"
   },
   {
    "duration": 19,
    "start_time": "2024-03-19T10:26:12.202Z"
   },
   {
    "duration": 80,
    "start_time": "2024-03-19T10:26:12.222Z"
   },
   {
    "duration": 17,
    "start_time": "2024-03-19T10:26:12.304Z"
   },
   {
    "duration": 6780,
    "start_time": "2024-03-19T10:26:12.345Z"
   },
   {
    "duration": 45236,
    "start_time": "2024-03-19T10:26:19.126Z"
   },
   {
    "duration": 2305,
    "start_time": "2024-03-19T10:27:42.436Z"
   },
   {
    "duration": 9708,
    "start_time": "2024-03-19T10:27:44.743Z"
   },
   {
    "duration": 3733,
    "start_time": "2024-03-19T10:27:54.453Z"
   },
   {
    "duration": 787,
    "start_time": "2024-03-19T10:27:58.188Z"
   },
   {
    "duration": 4,
    "start_time": "2024-03-19T10:27:58.976Z"
   },
   {
    "duration": 264,
    "start_time": "2024-03-19T10:27:58.981Z"
   },
   {
    "duration": 123,
    "start_time": "2024-03-19T10:27:59.246Z"
   },
   {
    "duration": 14,
    "start_time": "2024-03-19T10:27:59.371Z"
   },
   {
    "duration": 16,
    "start_time": "2024-03-19T10:27:59.387Z"
   },
   {
    "duration": 35,
    "start_time": "2024-03-19T10:27:59.405Z"
   },
   {
    "duration": 12,
    "start_time": "2024-03-19T10:27:59.441Z"
   },
   {
    "duration": 5,
    "start_time": "2024-03-19T10:27:59.454Z"
   },
   {
    "duration": 5,
    "start_time": "2024-03-19T10:27:59.460Z"
   },
   {
    "duration": 4,
    "start_time": "2024-03-19T10:27:59.466Z"
   },
   {
    "duration": 458,
    "start_time": "2024-03-19T10:27:59.472Z"
   },
   {
    "duration": 61,
    "start_time": "2024-03-19T10:27:59.931Z"
   },
   {
    "duration": 2,
    "start_time": "2024-03-19T10:27:59.993Z"
   },
   {
    "duration": 27,
    "start_time": "2024-03-19T10:27:59.996Z"
   },
   {
    "duration": 36,
    "start_time": "2024-03-19T10:28:00.024Z"
   },
   {
    "duration": 88,
    "start_time": "2024-03-19T10:28:00.062Z"
   },
   {
    "duration": 16,
    "start_time": "2024-03-19T10:28:00.152Z"
   },
   {
    "duration": 6601,
    "start_time": "2024-03-19T10:28:00.170Z"
   },
   {
    "duration": 43681,
    "start_time": "2024-03-19T10:28:06.772Z"
   },
   {
    "duration": 88705,
    "start_time": "2024-03-19T10:28:50.454Z"
   },
   {
    "duration": 2,
    "start_time": "2024-03-19T10:30:19.161Z"
   },
   {
    "duration": 2249,
    "start_time": "2024-03-19T10:30:42.557Z"
   },
   {
    "duration": 9711,
    "start_time": "2024-03-19T10:30:44.808Z"
   },
   {
    "duration": 3805,
    "start_time": "2024-03-19T10:30:54.520Z"
   },
   {
    "duration": 776,
    "start_time": "2024-03-19T10:30:58.327Z"
   },
   {
    "duration": 4,
    "start_time": "2024-03-19T10:30:59.104Z"
   },
   {
    "duration": 269,
    "start_time": "2024-03-19T10:30:59.109Z"
   },
   {
    "duration": 147,
    "start_time": "2024-03-19T10:30:59.379Z"
   },
   {
    "duration": 24,
    "start_time": "2024-03-19T10:30:59.528Z"
   },
   {
    "duration": 4,
    "start_time": "2024-03-19T10:30:59.553Z"
   },
   {
    "duration": 3,
    "start_time": "2024-03-19T10:30:59.560Z"
   },
   {
    "duration": 5,
    "start_time": "2024-03-19T10:30:59.564Z"
   },
   {
    "duration": 13,
    "start_time": "2024-03-19T10:30:59.570Z"
   },
   {
    "duration": 6,
    "start_time": "2024-03-19T10:30:59.584Z"
   },
   {
    "duration": 4,
    "start_time": "2024-03-19T10:30:59.591Z"
   },
   {
    "duration": 462,
    "start_time": "2024-03-19T10:30:59.596Z"
   },
   {
    "duration": 40,
    "start_time": "2024-03-19T10:31:00.060Z"
   },
   {
    "duration": 62,
    "start_time": "2024-03-19T10:31:00.101Z"
   },
   {
    "duration": 90,
    "start_time": "2024-03-19T10:31:00.164Z"
   },
   {
    "duration": 63,
    "start_time": "2024-03-19T10:31:00.256Z"
   },
   {
    "duration": 119,
    "start_time": "2024-03-19T10:31:00.320Z"
   },
   {
    "duration": 37,
    "start_time": "2024-03-19T10:31:00.440Z"
   },
   {
    "duration": 6827,
    "start_time": "2024-03-19T10:31:00.478Z"
   },
   {
    "duration": 43845,
    "start_time": "2024-03-19T10:31:07.306Z"
   },
   {
    "duration": 90426,
    "start_time": "2024-03-19T10:31:51.152Z"
   },
   {
    "duration": 2,
    "start_time": "2024-03-19T10:33:21.579Z"
   },
   {
    "duration": 2267,
    "start_time": "2024-03-19T10:34:16.061Z"
   },
   {
    "duration": 9184,
    "start_time": "2024-03-19T10:34:18.330Z"
   },
   {
    "duration": 3731,
    "start_time": "2024-03-19T10:34:27.516Z"
   },
   {
    "duration": 783,
    "start_time": "2024-03-19T10:34:31.249Z"
   },
   {
    "duration": 3,
    "start_time": "2024-03-19T10:34:32.034Z"
   },
   {
    "duration": 288,
    "start_time": "2024-03-19T10:34:32.039Z"
   },
   {
    "duration": 125,
    "start_time": "2024-03-19T10:34:32.329Z"
   },
   {
    "duration": 15,
    "start_time": "2024-03-19T10:34:32.456Z"
   },
   {
    "duration": 32,
    "start_time": "2024-03-19T10:34:32.473Z"
   },
   {
    "duration": 75,
    "start_time": "2024-03-19T10:34:32.507Z"
   },
   {
    "duration": 16,
    "start_time": "2024-03-19T10:34:32.583Z"
   },
   {
    "duration": 24,
    "start_time": "2024-03-19T10:34:32.601Z"
   },
   {
    "duration": 34,
    "start_time": "2024-03-19T10:34:32.626Z"
   },
   {
    "duration": 15,
    "start_time": "2024-03-19T10:34:32.661Z"
   },
   {
    "duration": 484,
    "start_time": "2024-03-19T10:34:32.677Z"
   },
   {
    "duration": 37,
    "start_time": "2024-03-19T10:34:33.162Z"
   },
   {
    "duration": 46,
    "start_time": "2024-03-19T10:34:33.201Z"
   },
   {
    "duration": 25,
    "start_time": "2024-03-19T10:34:33.248Z"
   },
   {
    "duration": 33,
    "start_time": "2024-03-19T10:34:33.274Z"
   },
   {
    "duration": 84,
    "start_time": "2024-03-19T10:34:33.309Z"
   },
   {
    "duration": 16,
    "start_time": "2024-03-19T10:34:33.394Z"
   },
   {
    "duration": 3645,
    "start_time": "2024-03-19T10:34:33.411Z"
   },
   {
    "duration": 0,
    "start_time": "2024-03-19T10:34:37.058Z"
   },
   {
    "duration": 0,
    "start_time": "2024-03-19T10:34:37.059Z"
   },
   {
    "duration": 0,
    "start_time": "2024-03-19T10:34:37.060Z"
   },
   {
    "duration": 0,
    "start_time": "2024-03-19T10:34:37.061Z"
   },
   {
    "duration": 0,
    "start_time": "2024-03-19T10:34:37.062Z"
   },
   {
    "duration": 2269,
    "start_time": "2024-03-19T10:35:05.223Z"
   },
   {
    "duration": 8947,
    "start_time": "2024-03-19T10:35:07.495Z"
   },
   {
    "duration": 3766,
    "start_time": "2024-03-19T10:35:16.444Z"
   },
   {
    "duration": 769,
    "start_time": "2024-03-19T10:35:20.212Z"
   },
   {
    "duration": 3,
    "start_time": "2024-03-19T10:35:20.983Z"
   },
   {
    "duration": 287,
    "start_time": "2024-03-19T10:35:20.988Z"
   },
   {
    "duration": 129,
    "start_time": "2024-03-19T10:35:21.276Z"
   },
   {
    "duration": 14,
    "start_time": "2024-03-19T10:35:21.407Z"
   },
   {
    "duration": 15,
    "start_time": "2024-03-19T10:35:21.422Z"
   },
   {
    "duration": 6,
    "start_time": "2024-03-19T10:35:21.439Z"
   },
   {
    "duration": 11,
    "start_time": "2024-03-19T10:35:21.446Z"
   },
   {
    "duration": 20,
    "start_time": "2024-03-19T10:35:21.459Z"
   },
   {
    "duration": 16,
    "start_time": "2024-03-19T10:35:21.481Z"
   },
   {
    "duration": 10,
    "start_time": "2024-03-19T10:35:21.498Z"
   },
   {
    "duration": 457,
    "start_time": "2024-03-19T10:35:21.509Z"
   },
   {
    "duration": 37,
    "start_time": "2024-03-19T10:35:21.968Z"
   },
   {
    "duration": 15,
    "start_time": "2024-03-19T10:35:22.007Z"
   },
   {
    "duration": 47,
    "start_time": "2024-03-19T10:35:22.024Z"
   },
   {
    "duration": 11,
    "start_time": "2024-03-19T10:35:22.072Z"
   },
   {
    "duration": 61,
    "start_time": "2024-03-19T10:35:22.085Z"
   },
   {
    "duration": 15,
    "start_time": "2024-03-19T10:35:22.147Z"
   },
   {
    "duration": 6730,
    "start_time": "2024-03-19T10:35:22.163Z"
   },
   {
    "duration": 43451,
    "start_time": "2024-03-19T10:35:28.894Z"
   },
   {
    "duration": 41140,
    "start_time": "2024-03-19T10:36:12.346Z"
   },
   {
    "duration": 0,
    "start_time": "2024-03-19T10:36:53.488Z"
   },
   {
    "duration": 0,
    "start_time": "2024-03-19T10:36:53.489Z"
   },
   {
    "duration": 0,
    "start_time": "2024-03-19T10:36:53.490Z"
   },
   {
    "duration": 0,
    "start_time": "2024-03-19T10:36:53.491Z"
   },
   {
    "duration": 0,
    "start_time": "2024-03-19T10:36:53.492Z"
   },
   {
    "duration": 2218,
    "start_time": "2024-03-19T10:37:05.400Z"
   },
   {
    "duration": 9419,
    "start_time": "2024-03-19T10:37:07.620Z"
   },
   {
    "duration": 3708,
    "start_time": "2024-03-19T10:37:17.041Z"
   },
   {
    "duration": 781,
    "start_time": "2024-03-19T10:37:20.751Z"
   },
   {
    "duration": 5,
    "start_time": "2024-03-19T10:37:21.534Z"
   },
   {
    "duration": 287,
    "start_time": "2024-03-19T10:37:21.544Z"
   },
   {
    "duration": 135,
    "start_time": "2024-03-19T10:37:21.832Z"
   },
   {
    "duration": 15,
    "start_time": "2024-03-19T10:37:21.968Z"
   },
   {
    "duration": 24,
    "start_time": "2024-03-19T10:37:21.985Z"
   },
   {
    "duration": 14,
    "start_time": "2024-03-19T10:37:22.011Z"
   },
   {
    "duration": 35,
    "start_time": "2024-03-19T10:37:22.027Z"
   },
   {
    "duration": 16,
    "start_time": "2024-03-19T10:37:22.063Z"
   },
   {
    "duration": 30,
    "start_time": "2024-03-19T10:37:22.080Z"
   },
   {
    "duration": 51,
    "start_time": "2024-03-19T10:37:22.111Z"
   },
   {
    "duration": 501,
    "start_time": "2024-03-19T10:37:22.164Z"
   },
   {
    "duration": 48,
    "start_time": "2024-03-19T10:37:22.667Z"
   },
   {
    "duration": 28,
    "start_time": "2024-03-19T10:37:22.717Z"
   },
   {
    "duration": 14,
    "start_time": "2024-03-19T10:37:22.746Z"
   },
   {
    "duration": 25,
    "start_time": "2024-03-19T10:37:22.762Z"
   },
   {
    "duration": 87,
    "start_time": "2024-03-19T10:37:22.789Z"
   },
   {
    "duration": 15,
    "start_time": "2024-03-19T10:37:22.878Z"
   },
   {
    "duration": 6758,
    "start_time": "2024-03-19T10:37:22.895Z"
   },
   {
    "duration": 39894,
    "start_time": "2024-03-19T10:37:29.654Z"
   },
   {
    "duration": 0,
    "start_time": "2024-03-19T10:38:09.550Z"
   },
   {
    "duration": 0,
    "start_time": "2024-03-19T10:38:09.551Z"
   },
   {
    "duration": 0,
    "start_time": "2024-03-19T10:38:09.552Z"
   },
   {
    "duration": 0,
    "start_time": "2024-03-19T10:38:09.553Z"
   },
   {
    "duration": 0,
    "start_time": "2024-03-19T10:38:09.554Z"
   },
   {
    "duration": 2218,
    "start_time": "2024-03-19T10:38:34.941Z"
   },
   {
    "duration": 8976,
    "start_time": "2024-03-19T10:38:37.162Z"
   },
   {
    "duration": 3829,
    "start_time": "2024-03-19T10:38:46.139Z"
   },
   {
    "duration": 797,
    "start_time": "2024-03-19T10:38:49.969Z"
   },
   {
    "duration": 3,
    "start_time": "2024-03-19T10:38:50.768Z"
   },
   {
    "duration": 263,
    "start_time": "2024-03-19T10:38:50.772Z"
   },
   {
    "duration": 131,
    "start_time": "2024-03-19T10:38:51.036Z"
   },
   {
    "duration": 15,
    "start_time": "2024-03-19T10:38:51.168Z"
   },
   {
    "duration": 18,
    "start_time": "2024-03-19T10:38:51.185Z"
   },
   {
    "duration": 8,
    "start_time": "2024-03-19T10:38:51.205Z"
   },
   {
    "duration": 9,
    "start_time": "2024-03-19T10:38:51.214Z"
   },
   {
    "duration": 9,
    "start_time": "2024-03-19T10:38:51.224Z"
   },
   {
    "duration": 22,
    "start_time": "2024-03-19T10:38:51.234Z"
   },
   {
    "duration": 7,
    "start_time": "2024-03-19T10:38:51.258Z"
   },
   {
    "duration": 451,
    "start_time": "2024-03-19T10:38:51.266Z"
   },
   {
    "duration": 45,
    "start_time": "2024-03-19T10:38:51.719Z"
   },
   {
    "duration": 2,
    "start_time": "2024-03-19T10:38:51.766Z"
   },
   {
    "duration": 8,
    "start_time": "2024-03-19T10:38:51.769Z"
   },
   {
    "duration": 28,
    "start_time": "2024-03-19T10:38:51.778Z"
   },
   {
    "duration": 81,
    "start_time": "2024-03-19T10:38:51.808Z"
   },
   {
    "duration": 16,
    "start_time": "2024-03-19T10:38:51.890Z"
   },
   {
    "duration": 6838,
    "start_time": "2024-03-19T10:38:51.907Z"
   },
   {
    "duration": 43725,
    "start_time": "2024-03-19T10:38:58.746Z"
   },
   {
    "duration": 2245,
    "start_time": "2024-03-19T10:39:53.278Z"
   },
   {
    "duration": 9414,
    "start_time": "2024-03-19T10:39:55.525Z"
   },
   {
    "duration": 3752,
    "start_time": "2024-03-19T10:40:04.941Z"
   },
   {
    "duration": 781,
    "start_time": "2024-03-19T10:40:08.695Z"
   },
   {
    "duration": 5,
    "start_time": "2024-03-19T10:40:09.477Z"
   },
   {
    "duration": 291,
    "start_time": "2024-03-19T10:40:09.484Z"
   },
   {
    "duration": 130,
    "start_time": "2024-03-19T10:40:09.777Z"
   },
   {
    "duration": 16,
    "start_time": "2024-03-19T10:40:09.908Z"
   },
   {
    "duration": 24,
    "start_time": "2024-03-19T10:40:09.926Z"
   },
   {
    "duration": 13,
    "start_time": "2024-03-19T10:40:09.952Z"
   },
   {
    "duration": 6,
    "start_time": "2024-03-19T10:40:09.966Z"
   },
   {
    "duration": 22,
    "start_time": "2024-03-19T10:40:09.973Z"
   },
   {
    "duration": 40,
    "start_time": "2024-03-19T10:40:09.997Z"
   },
   {
    "duration": 15,
    "start_time": "2024-03-19T10:40:10.039Z"
   },
   {
    "duration": 474,
    "start_time": "2024-03-19T10:40:10.055Z"
   },
   {
    "duration": 51,
    "start_time": "2024-03-19T10:40:10.530Z"
   },
   {
    "duration": 2,
    "start_time": "2024-03-19T10:40:10.582Z"
   },
   {
    "duration": 23,
    "start_time": "2024-03-19T10:40:10.585Z"
   },
   {
    "duration": 22,
    "start_time": "2024-03-19T10:40:10.609Z"
   },
   {
    "duration": 84,
    "start_time": "2024-03-19T10:40:10.633Z"
   },
   {
    "duration": 26,
    "start_time": "2024-03-19T10:40:10.719Z"
   },
   {
    "duration": 6876,
    "start_time": "2024-03-19T10:40:10.747Z"
   },
   {
    "duration": 43824,
    "start_time": "2024-03-19T10:40:17.625Z"
   },
   {
    "duration": 2256,
    "start_time": "2024-03-19T10:41:17.635Z"
   },
   {
    "duration": 9070,
    "start_time": "2024-03-19T10:41:19.893Z"
   },
   {
    "duration": 3844,
    "start_time": "2024-03-19T10:41:28.965Z"
   },
   {
    "duration": 781,
    "start_time": "2024-03-19T10:41:32.810Z"
   },
   {
    "duration": 4,
    "start_time": "2024-03-19T10:41:33.593Z"
   },
   {
    "duration": 274,
    "start_time": "2024-03-19T10:41:33.598Z"
   },
   {
    "duration": 131,
    "start_time": "2024-03-19T10:41:33.874Z"
   },
   {
    "duration": 15,
    "start_time": "2024-03-19T10:41:34.007Z"
   },
   {
    "duration": 7,
    "start_time": "2024-03-19T10:41:34.023Z"
   },
   {
    "duration": 10,
    "start_time": "2024-03-19T10:41:34.044Z"
   },
   {
    "duration": 22,
    "start_time": "2024-03-19T10:41:34.055Z"
   },
   {
    "duration": 4,
    "start_time": "2024-03-19T10:41:34.079Z"
   },
   {
    "duration": 4,
    "start_time": "2024-03-19T10:41:34.084Z"
   },
   {
    "duration": 5,
    "start_time": "2024-03-19T10:41:34.089Z"
   },
   {
    "duration": 472,
    "start_time": "2024-03-19T10:41:34.095Z"
   },
   {
    "duration": 159,
    "start_time": "2024-03-19T10:41:34.569Z"
   },
   {
    "duration": 2,
    "start_time": "2024-03-19T10:41:34.730Z"
   },
   {
    "duration": 2,
    "start_time": "2024-03-19T10:41:34.744Z"
   },
   {
    "duration": 25,
    "start_time": "2024-03-19T10:41:34.748Z"
   },
   {
    "duration": 63,
    "start_time": "2024-03-19T10:41:34.774Z"
   },
   {
    "duration": 18,
    "start_time": "2024-03-19T10:41:34.845Z"
   },
   {
    "duration": 6942,
    "start_time": "2024-03-19T10:41:34.864Z"
   },
   {
    "duration": 42542,
    "start_time": "2024-03-19T10:41:41.808Z"
   },
   {
    "duration": 114538,
    "start_time": "2024-03-19T10:42:24.352Z"
   },
   {
    "duration": 2,
    "start_time": "2024-03-19T10:44:18.891Z"
   },
   {
    "duration": 228335,
    "start_time": "2024-03-19T10:44:18.895Z"
   },
   {
    "duration": 26,
    "start_time": "2024-03-19T10:48:07.232Z"
   },
   {
    "duration": 2330,
    "start_time": "2024-03-19T10:49:00.830Z"
   },
   {
    "duration": 9765,
    "start_time": "2024-03-19T10:49:03.162Z"
   },
   {
    "duration": 3847,
    "start_time": "2024-03-19T10:49:12.929Z"
   },
   {
    "duration": 834,
    "start_time": "2024-03-19T10:49:16.778Z"
   },
   {
    "duration": 5,
    "start_time": "2024-03-19T10:49:17.613Z"
   },
   {
    "duration": 311,
    "start_time": "2024-03-19T10:49:17.619Z"
   },
   {
    "duration": 136,
    "start_time": "2024-03-19T10:49:17.932Z"
   },
   {
    "duration": 15,
    "start_time": "2024-03-19T10:49:18.069Z"
   },
   {
    "duration": 17,
    "start_time": "2024-03-19T10:49:18.086Z"
   },
   {
    "duration": 25,
    "start_time": "2024-03-19T10:49:18.105Z"
   },
   {
    "duration": 26,
    "start_time": "2024-03-19T10:49:18.132Z"
   },
   {
    "duration": 23,
    "start_time": "2024-03-19T10:49:18.159Z"
   },
   {
    "duration": 30,
    "start_time": "2024-03-19T10:49:18.184Z"
   },
   {
    "duration": 37,
    "start_time": "2024-03-19T10:49:18.216Z"
   },
   {
    "duration": 487,
    "start_time": "2024-03-19T10:49:18.254Z"
   },
   {
    "duration": 166,
    "start_time": "2024-03-19T10:49:18.744Z"
   },
   {
    "duration": 3,
    "start_time": "2024-03-19T10:49:18.911Z"
   },
   {
    "duration": 18,
    "start_time": "2024-03-19T10:49:18.916Z"
   },
   {
    "duration": 29,
    "start_time": "2024-03-19T10:49:18.936Z"
   },
   {
    "duration": 108,
    "start_time": "2024-03-19T10:49:18.966Z"
   },
   {
    "duration": 16,
    "start_time": "2024-03-19T10:49:19.077Z"
   },
   {
    "duration": 7131,
    "start_time": "2024-03-19T10:49:19.094Z"
   },
   {
    "duration": 42536,
    "start_time": "2024-03-19T10:49:26.227Z"
   },
   {
    "duration": 121515,
    "start_time": "2024-03-19T10:50:08.764Z"
   },
   {
    "duration": 2,
    "start_time": "2024-03-19T10:52:10.281Z"
   },
   {
    "duration": 226746,
    "start_time": "2024-03-19T10:52:10.284Z"
   },
   {
    "duration": 28,
    "start_time": "2024-03-19T10:55:57.031Z"
   },
   {
    "duration": 2252,
    "start_time": "2024-03-19T11:08:31.050Z"
   },
   {
    "duration": 9835,
    "start_time": "2024-03-19T11:08:33.304Z"
   },
   {
    "duration": 3759,
    "start_time": "2024-03-19T11:08:43.140Z"
   },
   {
    "duration": 822,
    "start_time": "2024-03-19T11:08:46.901Z"
   },
   {
    "duration": 5,
    "start_time": "2024-03-19T11:08:47.725Z"
   },
   {
    "duration": 286,
    "start_time": "2024-03-19T11:08:47.731Z"
   },
   {
    "duration": 139,
    "start_time": "2024-03-19T11:08:48.019Z"
   },
   {
    "duration": 15,
    "start_time": "2024-03-19T11:08:48.159Z"
   },
   {
    "duration": 24,
    "start_time": "2024-03-19T11:08:48.175Z"
   },
   {
    "duration": 38,
    "start_time": "2024-03-19T11:08:48.201Z"
   },
   {
    "duration": 32,
    "start_time": "2024-03-19T11:08:48.240Z"
   },
   {
    "duration": 48,
    "start_time": "2024-03-19T11:08:48.273Z"
   },
   {
    "duration": 27,
    "start_time": "2024-03-19T11:08:48.323Z"
   },
   {
    "duration": 35,
    "start_time": "2024-03-19T11:08:48.351Z"
   },
   {
    "duration": 375,
    "start_time": "2024-03-19T11:08:48.388Z"
   },
   {
    "duration": 0,
    "start_time": "2024-03-19T11:08:48.765Z"
   },
   {
    "duration": 0,
    "start_time": "2024-03-19T11:08:48.766Z"
   },
   {
    "duration": 0,
    "start_time": "2024-03-19T11:08:48.767Z"
   },
   {
    "duration": 0,
    "start_time": "2024-03-19T11:08:48.768Z"
   },
   {
    "duration": 0,
    "start_time": "2024-03-19T11:08:48.769Z"
   },
   {
    "duration": 0,
    "start_time": "2024-03-19T11:08:48.770Z"
   },
   {
    "duration": 0,
    "start_time": "2024-03-19T11:08:48.771Z"
   },
   {
    "duration": 0,
    "start_time": "2024-03-19T11:08:48.772Z"
   },
   {
    "duration": 0,
    "start_time": "2024-03-19T11:08:48.773Z"
   },
   {
    "duration": 0,
    "start_time": "2024-03-19T11:08:48.774Z"
   },
   {
    "duration": 0,
    "start_time": "2024-03-19T11:08:48.775Z"
   },
   {
    "duration": 0,
    "start_time": "2024-03-19T11:08:48.776Z"
   },
   {
    "duration": 2206,
    "start_time": "2024-03-19T11:14:52.982Z"
   },
   {
    "duration": 9600,
    "start_time": "2024-03-19T11:14:55.190Z"
   },
   {
    "duration": 3749,
    "start_time": "2024-03-19T11:15:04.792Z"
   },
   {
    "duration": 782,
    "start_time": "2024-03-19T11:15:08.544Z"
   },
   {
    "duration": 3,
    "start_time": "2024-03-19T11:15:09.328Z"
   },
   {
    "duration": 280,
    "start_time": "2024-03-19T11:15:09.333Z"
   },
   {
    "duration": 130,
    "start_time": "2024-03-19T11:15:09.615Z"
   },
   {
    "duration": 15,
    "start_time": "2024-03-19T11:15:09.746Z"
   },
   {
    "duration": 16,
    "start_time": "2024-03-19T11:15:09.762Z"
   },
   {
    "duration": 27,
    "start_time": "2024-03-19T11:15:09.780Z"
   },
   {
    "duration": 11,
    "start_time": "2024-03-19T11:15:09.809Z"
   },
   {
    "duration": 4,
    "start_time": "2024-03-19T11:15:09.821Z"
   },
   {
    "duration": 14,
    "start_time": "2024-03-19T11:15:09.826Z"
   },
   {
    "duration": 17,
    "start_time": "2024-03-19T11:15:09.841Z"
   },
   {
    "duration": 449,
    "start_time": "2024-03-19T11:15:09.860Z"
   },
   {
    "duration": 163,
    "start_time": "2024-03-19T11:15:10.310Z"
   },
   {
    "duration": 2,
    "start_time": "2024-03-19T11:15:10.475Z"
   },
   {
    "duration": 6,
    "start_time": "2024-03-19T11:15:10.479Z"
   },
   {
    "duration": 19,
    "start_time": "2024-03-19T11:15:10.486Z"
   },
   {
    "duration": 79,
    "start_time": "2024-03-19T11:15:10.506Z"
   },
   {
    "duration": 18,
    "start_time": "2024-03-19T11:15:10.586Z"
   },
   {
    "duration": 6759,
    "start_time": "2024-03-19T11:15:10.605Z"
   },
   {
    "duration": 43395,
    "start_time": "2024-03-19T11:15:17.366Z"
   },
   {
    "duration": 2281,
    "start_time": "2024-03-19T11:16:25.999Z"
   },
   {
    "duration": 9169,
    "start_time": "2024-03-19T11:16:28.282Z"
   },
   {
    "duration": 3693,
    "start_time": "2024-03-19T11:16:37.453Z"
   },
   {
    "duration": 784,
    "start_time": "2024-03-19T11:16:41.148Z"
   },
   {
    "duration": 4,
    "start_time": "2024-03-19T11:16:41.933Z"
   },
   {
    "duration": 279,
    "start_time": "2024-03-19T11:16:41.945Z"
   },
   {
    "duration": 128,
    "start_time": "2024-03-19T11:16:42.225Z"
   },
   {
    "duration": 26,
    "start_time": "2024-03-19T11:16:42.354Z"
   },
   {
    "duration": 12,
    "start_time": "2024-03-19T11:16:42.381Z"
   },
   {
    "duration": 8,
    "start_time": "2024-03-19T11:16:42.395Z"
   },
   {
    "duration": 5,
    "start_time": "2024-03-19T11:16:42.404Z"
   },
   {
    "duration": 4,
    "start_time": "2024-03-19T11:16:42.410Z"
   },
   {
    "duration": 7,
    "start_time": "2024-03-19T11:16:42.415Z"
   },
   {
    "duration": 6,
    "start_time": "2024-03-19T11:16:42.423Z"
   },
   {
    "duration": 472,
    "start_time": "2024-03-19T11:16:42.430Z"
   },
   {
    "duration": 161,
    "start_time": "2024-03-19T11:16:42.903Z"
   },
   {
    "duration": 4,
    "start_time": "2024-03-19T11:16:43.065Z"
   },
   {
    "duration": 6,
    "start_time": "2024-03-19T11:16:43.070Z"
   },
   {
    "duration": 4,
    "start_time": "2024-03-19T11:16:43.077Z"
   },
   {
    "duration": 11,
    "start_time": "2024-03-19T11:16:43.083Z"
   },
   {
    "duration": 79,
    "start_time": "2024-03-19T11:16:43.095Z"
   },
   {
    "duration": 16,
    "start_time": "2024-03-19T11:16:43.175Z"
   },
   {
    "duration": 6758,
    "start_time": "2024-03-19T11:16:43.193Z"
   },
   {
    "duration": 42914,
    "start_time": "2024-03-19T11:16:49.952Z"
   },
   {
    "duration": 90429,
    "start_time": "2024-03-19T11:17:32.867Z"
   },
   {
    "duration": 2,
    "start_time": "2024-03-19T11:19:03.297Z"
   },
   {
    "duration": 225841,
    "start_time": "2024-03-19T11:19:03.301Z"
   },
   {
    "duration": 13,
    "start_time": "2024-03-19T11:22:49.145Z"
   },
   {
    "duration": 66,
    "start_time": "2024-03-19T11:24:45.848Z"
   },
   {
    "duration": 324,
    "start_time": "2024-03-19T11:24:52.201Z"
   },
   {
    "duration": 32,
    "start_time": "2024-03-19T11:25:19.714Z"
   },
   {
    "duration": 40,
    "start_time": "2024-03-19T11:25:55.620Z"
   },
   {
    "duration": 20,
    "start_time": "2024-03-19T11:26:13.055Z"
   },
   {
    "duration": 42,
    "start_time": "2024-03-19T11:26:19.649Z"
   },
   {
    "duration": 426,
    "start_time": "2024-03-19T11:26:35.793Z"
   },
   {
    "duration": 37,
    "start_time": "2024-03-19T11:26:36.240Z"
   },
   {
    "duration": 387,
    "start_time": "2024-03-19T11:26:57.297Z"
   },
   {
    "duration": 29,
    "start_time": "2024-03-19T11:26:57.867Z"
   },
   {
    "duration": 383,
    "start_time": "2024-03-19T11:27:02.406Z"
   },
   {
    "duration": 33,
    "start_time": "2024-03-19T11:27:02.790Z"
   },
   {
    "duration": 3,
    "start_time": "2024-03-19T11:27:08.402Z"
   },
   {
    "duration": 2345,
    "start_time": "2024-03-19T11:27:28.500Z"
   },
   {
    "duration": 9604,
    "start_time": "2024-03-19T11:27:30.847Z"
   },
   {
    "duration": 3730,
    "start_time": "2024-03-19T11:27:40.453Z"
   },
   {
    "duration": 807,
    "start_time": "2024-03-19T11:27:44.184Z"
   },
   {
    "duration": 4,
    "start_time": "2024-03-19T11:27:44.992Z"
   },
   {
    "duration": 287,
    "start_time": "2024-03-19T11:27:44.997Z"
   },
   {
    "duration": 141,
    "start_time": "2024-03-19T11:27:45.286Z"
   },
   {
    "duration": 20,
    "start_time": "2024-03-19T11:27:45.428Z"
   },
   {
    "duration": 96,
    "start_time": "2024-03-19T11:27:45.449Z"
   },
   {
    "duration": 36,
    "start_time": "2024-03-19T11:27:45.549Z"
   },
   {
    "duration": 58,
    "start_time": "2024-03-19T11:27:45.587Z"
   },
   {
    "duration": 47,
    "start_time": "2024-03-19T11:27:45.647Z"
   },
   {
    "duration": 45,
    "start_time": "2024-03-19T11:27:45.695Z"
   },
   {
    "duration": 41,
    "start_time": "2024-03-19T11:27:45.742Z"
   },
   {
    "duration": 474,
    "start_time": "2024-03-19T11:27:45.784Z"
   },
   {
    "duration": 37,
    "start_time": "2024-03-19T11:27:46.260Z"
   },
   {
    "duration": 4,
    "start_time": "2024-03-19T11:27:46.299Z"
   },
   {
    "duration": 35,
    "start_time": "2024-03-19T11:27:46.304Z"
   },
   {
    "duration": 50,
    "start_time": "2024-03-19T11:27:46.341Z"
   },
   {
    "duration": 23,
    "start_time": "2024-03-19T11:27:46.393Z"
   },
   {
    "duration": 76,
    "start_time": "2024-03-19T11:27:46.418Z"
   },
   {
    "duration": 16,
    "start_time": "2024-03-19T11:27:46.496Z"
   },
   {
    "duration": 7047,
    "start_time": "2024-03-19T11:27:46.514Z"
   },
   {
    "duration": 43898,
    "start_time": "2024-03-19T11:27:53.562Z"
   },
   {
    "duration": 92051,
    "start_time": "2024-03-19T11:28:37.462Z"
   },
   {
    "duration": 30,
    "start_time": "2024-03-19T11:30:09.515Z"
   },
   {
    "duration": 230288,
    "start_time": "2024-03-19T11:30:09.547Z"
   },
   {
    "duration": 0,
    "start_time": "2024-03-19T11:33:59.836Z"
   },
   {
    "duration": 0,
    "start_time": "2024-03-19T11:33:59.837Z"
   },
   {
    "duration": 67,
    "start_time": "2024-03-19T11:34:10.908Z"
   },
   {
    "duration": 3,
    "start_time": "2024-03-19T11:34:55.075Z"
   },
   {
    "duration": 2289,
    "start_time": "2024-03-19T11:39:56.889Z"
   },
   {
    "duration": 9716,
    "start_time": "2024-03-19T11:39:59.180Z"
   },
   {
    "duration": 3837,
    "start_time": "2024-03-19T11:40:08.897Z"
   },
   {
    "duration": 804,
    "start_time": "2024-03-19T11:40:12.736Z"
   },
   {
    "duration": 4,
    "start_time": "2024-03-19T11:40:13.541Z"
   },
   {
    "duration": 312,
    "start_time": "2024-03-19T11:40:13.546Z"
   },
   {
    "duration": 151,
    "start_time": "2024-03-19T11:40:13.860Z"
   },
   {
    "duration": 20,
    "start_time": "2024-03-19T11:40:14.013Z"
   },
   {
    "duration": 24,
    "start_time": "2024-03-19T11:40:14.045Z"
   },
   {
    "duration": 14,
    "start_time": "2024-03-19T11:40:14.072Z"
   },
   {
    "duration": 10,
    "start_time": "2024-03-19T11:40:14.087Z"
   },
   {
    "duration": 7,
    "start_time": "2024-03-19T11:40:14.099Z"
   },
   {
    "duration": 5,
    "start_time": "2024-03-19T11:40:14.107Z"
   },
   {
    "duration": 4,
    "start_time": "2024-03-19T11:40:14.113Z"
   },
   {
    "duration": 465,
    "start_time": "2024-03-19T11:40:14.118Z"
   },
   {
    "duration": 43480,
    "start_time": "2024-03-19T11:40:14.585Z"
   },
   {
    "duration": 12,
    "start_time": "2024-03-19T11:40:58.066Z"
   },
   {
    "duration": 94,
    "start_time": "2024-03-19T11:40:58.079Z"
   },
   {
    "duration": 15,
    "start_time": "2024-03-19T11:40:58.175Z"
   },
   {
    "duration": 6872,
    "start_time": "2024-03-19T11:40:58.191Z"
   },
   {
    "duration": 43496,
    "start_time": "2024-03-19T11:41:05.064Z"
   },
   {
    "duration": 88415,
    "start_time": "2024-03-19T11:41:48.561Z"
   },
   {
    "duration": 2,
    "start_time": "2024-03-19T11:43:16.978Z"
   },
   {
    "duration": 231421,
    "start_time": "2024-03-19T11:43:16.981Z"
   },
   {
    "duration": 12,
    "start_time": "2024-03-19T11:47:08.404Z"
   },
   {
    "duration": 2239,
    "start_time": "2024-03-19T11:55:57.946Z"
   },
   {
    "duration": 9474,
    "start_time": "2024-03-19T11:56:00.187Z"
   },
   {
    "duration": 3729,
    "start_time": "2024-03-19T11:56:09.663Z"
   },
   {
    "duration": 793,
    "start_time": "2024-03-19T11:56:13.394Z"
   },
   {
    "duration": 4,
    "start_time": "2024-03-19T11:56:14.189Z"
   },
   {
    "duration": 267,
    "start_time": "2024-03-19T11:56:14.195Z"
   },
   {
    "duration": 134,
    "start_time": "2024-03-19T11:56:14.464Z"
   },
   {
    "duration": 16,
    "start_time": "2024-03-19T11:56:14.599Z"
   },
   {
    "duration": 7,
    "start_time": "2024-03-19T11:56:14.616Z"
   },
   {
    "duration": 472,
    "start_time": "2024-03-19T11:56:14.626Z"
   },
   {
    "duration": 2,
    "start_time": "2024-03-19T11:56:15.099Z"
   },
   {
    "duration": 36181,
    "start_time": "2024-03-19T11:56:15.103Z"
   },
   {
    "duration": 10,
    "start_time": "2024-03-19T11:56:51.285Z"
   },
   {
    "duration": 76,
    "start_time": "2024-03-19T11:56:51.296Z"
   },
   {
    "duration": 16,
    "start_time": "2024-03-19T11:56:51.373Z"
   },
   {
    "duration": 6876,
    "start_time": "2024-03-19T11:56:51.390Z"
   },
   {
    "duration": 43991,
    "start_time": "2024-03-19T11:56:58.268Z"
   },
   {
    "duration": 47895,
    "start_time": "2024-03-19T11:57:42.345Z"
   },
   {
    "duration": 0,
    "start_time": "2024-03-19T11:58:30.242Z"
   },
   {
    "duration": 0,
    "start_time": "2024-03-19T11:58:30.243Z"
   },
   {
    "duration": 0,
    "start_time": "2024-03-19T11:58:30.244Z"
   },
   {
    "duration": 2243,
    "start_time": "2024-03-19T11:59:02.390Z"
   },
   {
    "duration": 9474,
    "start_time": "2024-03-19T11:59:04.635Z"
   },
   {
    "duration": 3700,
    "start_time": "2024-03-19T11:59:14.110Z"
   },
   {
    "duration": 782,
    "start_time": "2024-03-19T11:59:17.812Z"
   },
   {
    "duration": 5,
    "start_time": "2024-03-19T11:59:18.596Z"
   },
   {
    "duration": 278,
    "start_time": "2024-03-19T11:59:18.602Z"
   },
   {
    "duration": 147,
    "start_time": "2024-03-19T11:59:18.882Z"
   },
   {
    "duration": 18,
    "start_time": "2024-03-19T11:59:19.030Z"
   },
   {
    "duration": 9,
    "start_time": "2024-03-19T11:59:19.050Z"
   },
   {
    "duration": 468,
    "start_time": "2024-03-19T11:59:19.061Z"
   },
   {
    "duration": 3,
    "start_time": "2024-03-19T11:59:19.530Z"
   },
   {
    "duration": 2070056,
    "start_time": "2024-03-19T11:59:19.534Z"
   },
   {
    "duration": 12,
    "start_time": "2024-03-19T12:33:49.591Z"
   },
   {
    "duration": 74,
    "start_time": "2024-03-19T12:33:49.604Z"
   },
   {
    "duration": 16,
    "start_time": "2024-03-19T12:33:49.679Z"
   },
   {
    "duration": 6185,
    "start_time": "2024-03-19T12:33:49.696Z"
   },
   {
    "duration": 40680,
    "start_time": "2024-03-19T12:33:55.882Z"
   },
   {
    "duration": 92113,
    "start_time": "2024-03-19T12:34:36.564Z"
   },
   {
    "duration": 6,
    "start_time": "2024-03-19T12:36:08.678Z"
   },
   {
    "duration": 192151,
    "start_time": "2024-03-19T12:36:08.686Z"
   },
   {
    "duration": 21,
    "start_time": "2024-03-19T12:39:20.838Z"
   },
   {
    "duration": 69,
    "start_time": "2024-03-19T12:41:39.539Z"
   },
   {
    "duration": 2604,
    "start_time": "2024-03-19T12:54:02.322Z"
   },
   {
    "duration": 10049,
    "start_time": "2024-03-19T12:54:04.929Z"
   },
   {
    "duration": 5,
    "start_time": "2024-03-19T12:54:14.980Z"
   },
   {
    "duration": 781,
    "start_time": "2024-03-19T12:54:14.987Z"
   },
   {
    "duration": 4,
    "start_time": "2024-03-19T12:54:15.770Z"
   },
   {
    "duration": 258,
    "start_time": "2024-03-19T12:54:15.776Z"
   },
   {
    "duration": 127,
    "start_time": "2024-03-19T12:54:16.036Z"
   },
   {
    "duration": 16,
    "start_time": "2024-03-19T12:54:16.164Z"
   },
   {
    "duration": 23,
    "start_time": "2024-03-19T12:54:16.181Z"
   },
   {
    "duration": 463,
    "start_time": "2024-03-19T12:54:16.206Z"
   },
   {
    "duration": 3,
    "start_time": "2024-03-19T12:54:16.670Z"
   },
   {
    "duration": 3787,
    "start_time": "2024-03-19T12:54:16.674Z"
   },
   {
    "duration": 69,
    "start_time": "2024-03-19T13:08:11.756Z"
   },
   {
    "duration": 83,
    "start_time": "2024-03-19T13:18:28.911Z"
   },
   {
    "duration": 2306,
    "start_time": "2024-03-19T13:21:29.082Z"
   },
   {
    "duration": 9755,
    "start_time": "2024-03-19T13:21:31.390Z"
   },
   {
    "duration": 3824,
    "start_time": "2024-03-19T13:21:41.147Z"
   },
   {
    "duration": 792,
    "start_time": "2024-03-19T13:21:44.973Z"
   },
   {
    "duration": 4,
    "start_time": "2024-03-19T13:21:45.766Z"
   },
   {
    "duration": 274,
    "start_time": "2024-03-19T13:21:45.771Z"
   },
   {
    "duration": 133,
    "start_time": "2024-03-19T13:21:46.046Z"
   },
   {
    "duration": 21,
    "start_time": "2024-03-19T13:21:46.181Z"
   },
   {
    "duration": 6,
    "start_time": "2024-03-19T13:21:46.203Z"
   },
   {
    "duration": 470,
    "start_time": "2024-03-19T13:21:46.211Z"
   },
   {
    "duration": 3,
    "start_time": "2024-03-19T13:21:46.682Z"
   },
   {
    "duration": 3956,
    "start_time": "2024-03-19T13:21:46.687Z"
   },
   {
    "duration": 12,
    "start_time": "2024-03-19T13:21:50.645Z"
   },
   {
    "duration": 86,
    "start_time": "2024-03-19T13:21:50.659Z"
   },
   {
    "duration": 19,
    "start_time": "2024-03-19T13:21:50.746Z"
   },
   {
    "duration": 6839,
    "start_time": "2024-03-19T13:21:50.766Z"
   },
   {
    "duration": 11348,
    "start_time": "2024-03-19T13:21:57.606Z"
   },
   {
    "duration": 0,
    "start_time": "2024-03-19T13:22:08.955Z"
   },
   {
    "duration": 1,
    "start_time": "2024-03-19T13:22:08.956Z"
   },
   {
    "duration": 0,
    "start_time": "2024-03-19T13:22:08.958Z"
   },
   {
    "duration": 0,
    "start_time": "2024-03-19T13:22:08.959Z"
   },
   {
    "duration": 2315,
    "start_time": "2024-03-19T13:28:14.256Z"
   },
   {
    "duration": 9600,
    "start_time": "2024-03-19T13:28:16.574Z"
   },
   {
    "duration": 3772,
    "start_time": "2024-03-19T13:28:26.175Z"
   },
   {
    "duration": 807,
    "start_time": "2024-03-19T13:28:29.948Z"
   },
   {
    "duration": 3,
    "start_time": "2024-03-19T13:28:30.757Z"
   },
   {
    "duration": 584,
    "start_time": "2024-03-19T13:28:30.761Z"
   },
   {
    "duration": 136,
    "start_time": "2024-03-19T13:28:31.347Z"
   },
   {
    "duration": 15,
    "start_time": "2024-03-19T13:28:31.484Z"
   },
   {
    "duration": 59,
    "start_time": "2024-03-19T13:28:31.501Z"
   },
   {
    "duration": 528,
    "start_time": "2024-03-19T13:28:31.562Z"
   },
   {
    "duration": 3,
    "start_time": "2024-03-19T13:28:32.091Z"
   },
   {
    "duration": 2104666,
    "start_time": "2024-03-19T13:28:32.095Z"
   },
   {
    "duration": 12,
    "start_time": "2024-03-19T14:03:36.763Z"
   },
   {
    "duration": 66,
    "start_time": "2024-03-19T14:03:36.776Z"
   },
   {
    "duration": 23,
    "start_time": "2024-03-19T14:03:36.847Z"
   },
   {
    "duration": 6943,
    "start_time": "2024-03-19T14:03:36.871Z"
   },
   {
    "duration": 42438,
    "start_time": "2024-03-19T14:03:43.815Z"
   },
   {
    "duration": 75909,
    "start_time": "2024-03-19T14:04:26.255Z"
   },
   {
    "duration": 2,
    "start_time": "2024-03-19T14:05:42.165Z"
   },
   {
    "duration": 210473,
    "start_time": "2024-03-19T14:05:42.169Z"
   },
   {
    "duration": 22,
    "start_time": "2024-03-19T14:09:12.649Z"
   }
  ],
  "kernelspec": {
   "display_name": "Python 3 (ipykernel)",
   "language": "python",
   "name": "python3"
  },
  "language_info": {
   "codemirror_mode": {
    "name": "ipython",
    "version": 3
   },
   "file_extension": ".py",
   "mimetype": "text/x-python",
   "name": "python",
   "nbconvert_exporter": "python",
   "pygments_lexer": "ipython3",
   "version": "3.11.3"
  },
  "toc": {
   "base_numbering": 1,
   "nav_menu": {},
   "number_sections": true,
   "sideBar": true,
   "skip_h1_title": true,
   "title_cell": "Содержание",
   "title_sidebar": "Contents",
   "toc_cell": true,
   "toc_position": {
    "height": "calc(100% - 180px)",
    "left": "10px",
    "top": "150px",
    "width": "302.391px"
   },
   "toc_section_display": true,
   "toc_window_display": false
  }
 },
 "nbformat": 4,
 "nbformat_minor": 2
}
