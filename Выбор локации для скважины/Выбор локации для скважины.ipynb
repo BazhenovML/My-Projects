{
 "cells": [
  {
   "cell_type": "markdown",
   "metadata": {},
   "source": [
    "# Самостоятельный проект - Выбор локации для скважины"
   ]
  },
  {
   "cell_type": "markdown",
   "metadata": {},
   "source": [
    "В данном исследовании мы определеим наиболее выгодный регион нефтедобычи исходя из данных предоставленных добывающей компанией «ГлавРосГосНефть». \n",
    "\n",
    "**Цели:** \n",
    "\n",
    " - На основе предоставленных данных построить модель машинного обучения, которая поможет определить регион, где добыча принесёт наибольшую прибыль с наименьшими рисками.\n",
    "\n",
    "**Ход исследования:**\n",
    "\n",
    "- Загрузим и подготовим данные.\n",
    "- Обучим предсказательную модель на подготовленных данных.\n",
    "- Произведем подготовку к расчету прибыли и рисков.\n",
    "- Рассчитаем среднюю прибыль, 95% доверительный интервал прибыли и риски по каждому из регионов."
   ]
  },
  {
   "cell_type": "markdown",
   "metadata": {},
   "source": [
    "# Описание данных"
   ]
  },
  {
   "cell_type": "markdown",
   "metadata": {},
   "source": [
    "Данные геологоразведки трёх регионов находятся в файлах: \n",
    "    \n",
    "`/datasets/geo_data_0.csv `\n",
    "\n",
    "`/datasets/geo_data_1.csv `\n",
    "\n",
    "`/datasets/geo_data_2.csv `\n",
    "\n",
    "id — уникальный идентификатор скважины;\n",
    "\n",
    "f0, f1, f2 — три признака точек (неважно, что они означают, но сами признаки значимы);\n",
    "\n",
    "product — объём запасов в скважине (тыс. баррелей).\n",
    "    "
   ]
  },
  {
   "cell_type": "markdown",
   "metadata": {},
   "source": [
    "# Условия задачи\n",
    "Для обучения модели подходит только линейная регрессия (остальные — недостаточно предсказуемые).\n",
    "    \n",
    "При разведке региона исследуют 500 точек, из которых с помощью машинного обучения выбирают 200 лучших для разработки.\n",
    "    \n",
    "Бюджет на разработку скважин в регионе — 10 млрд рублей.\n",
    "    \n",
    "При нынешних ценах один баррель сырья приносит 450 рублей дохода. Доход с каждой единицы продукта составляет 450 тыс. рублей, поскольку объём указан в тысячах баррелей.\n",
    "    \n",
    "После оценки рисков нужно оставить лишь те регионы, в которых вероятность убытков меньше 2.5%. Среди них выбирают регион с наибольшей средней прибылью."
   ]
  },
  {
   "cell_type": "markdown",
   "metadata": {},
   "source": [
    "# Импортируем библиотеки"
   ]
  },
  {
   "cell_type": "code",
   "execution_count": 1,
   "metadata": {},
   "outputs": [],
   "source": [
    "import pandas as pd\n",
    "import numpy as np\n",
    "import matplotlib.pyplot as plt\n",
    "from sklearn.metrics import mean_squared_error\n",
    "from sklearn.preprocessing import StandardScaler\n",
    "from sklearn.linear_model import LinearRegression\n",
    "from sklearn.model_selection import train_test_split"
   ]
  },
  {
   "cell_type": "markdown",
   "metadata": {},
   "source": [
    "# Загрузка и обзор данных"
   ]
  },
  {
   "cell_type": "code",
   "execution_count": 2,
   "metadata": {},
   "outputs": [],
   "source": [
    "geo_data_0 = pd.read_csv('/datasets/geo_data_0.csv')\n",
    "geo_data_1 = pd.read_csv('/datasets/geo_data_1.csv')\n",
    "geo_data_2 = pd.read_csv('/datasets/geo_data_2.csv')"
   ]
  },
  {
   "cell_type": "code",
   "execution_count": 3,
   "metadata": {
    "scrolled": false
   },
   "outputs": [
    {
     "name": "stdout",
     "output_type": "stream",
     "text": [
      "<class 'pandas.core.frame.DataFrame'>\n",
      "RangeIndex: 100000 entries, 0 to 99999\n",
      "Data columns (total 5 columns):\n",
      " #   Column   Non-Null Count   Dtype  \n",
      "---  ------   --------------   -----  \n",
      " 0   id       100000 non-null  object \n",
      " 1   f0       100000 non-null  float64\n",
      " 2   f1       100000 non-null  float64\n",
      " 3   f2       100000 non-null  float64\n",
      " 4   product  100000 non-null  float64\n",
      "dtypes: float64(4), object(1)\n",
      "memory usage: 3.8+ MB\n"
     ]
    },
    {
     "data": {
      "text/html": [
       "<div>\n",
       "<style scoped>\n",
       "    .dataframe tbody tr th:only-of-type {\n",
       "        vertical-align: middle;\n",
       "    }\n",
       "\n",
       "    .dataframe tbody tr th {\n",
       "        vertical-align: top;\n",
       "    }\n",
       "\n",
       "    .dataframe thead th {\n",
       "        text-align: right;\n",
       "    }\n",
       "</style>\n",
       "<table border=\"1\" class=\"dataframe\">\n",
       "  <thead>\n",
       "    <tr style=\"text-align: right;\">\n",
       "      <th></th>\n",
       "      <th>id</th>\n",
       "      <th>f0</th>\n",
       "      <th>f1</th>\n",
       "      <th>f2</th>\n",
       "      <th>product</th>\n",
       "    </tr>\n",
       "  </thead>\n",
       "  <tbody>\n",
       "    <tr>\n",
       "      <th>0</th>\n",
       "      <td>txEyH</td>\n",
       "      <td>0.705745</td>\n",
       "      <td>-0.497823</td>\n",
       "      <td>1.221170</td>\n",
       "      <td>105.280062</td>\n",
       "    </tr>\n",
       "    <tr>\n",
       "      <th>1</th>\n",
       "      <td>2acmU</td>\n",
       "      <td>1.334711</td>\n",
       "      <td>-0.340164</td>\n",
       "      <td>4.365080</td>\n",
       "      <td>73.037750</td>\n",
       "    </tr>\n",
       "    <tr>\n",
       "      <th>2</th>\n",
       "      <td>409Wp</td>\n",
       "      <td>1.022732</td>\n",
       "      <td>0.151990</td>\n",
       "      <td>1.419926</td>\n",
       "      <td>85.265647</td>\n",
       "    </tr>\n",
       "    <tr>\n",
       "      <th>3</th>\n",
       "      <td>iJLyR</td>\n",
       "      <td>-0.032172</td>\n",
       "      <td>0.139033</td>\n",
       "      <td>2.978566</td>\n",
       "      <td>168.620776</td>\n",
       "    </tr>\n",
       "    <tr>\n",
       "      <th>4</th>\n",
       "      <td>Xdl7t</td>\n",
       "      <td>1.988431</td>\n",
       "      <td>0.155413</td>\n",
       "      <td>4.751769</td>\n",
       "      <td>154.036647</td>\n",
       "    </tr>\n",
       "  </tbody>\n",
       "</table>\n",
       "</div>"
      ],
      "text/plain": [
       "      id        f0        f1        f2     product\n",
       "0  txEyH  0.705745 -0.497823  1.221170  105.280062\n",
       "1  2acmU  1.334711 -0.340164  4.365080   73.037750\n",
       "2  409Wp  1.022732  0.151990  1.419926   85.265647\n",
       "3  iJLyR -0.032172  0.139033  2.978566  168.620776\n",
       "4  Xdl7t  1.988431  0.155413  4.751769  154.036647"
      ]
     },
     "execution_count": 3,
     "metadata": {},
     "output_type": "execute_result"
    }
   ],
   "source": [
    "# вывод первых строк и общей информации о датасете\n",
    "geo_data_0.info()\n",
    "geo_data_0.head()"
   ]
  },
  {
   "cell_type": "code",
   "execution_count": 4,
   "metadata": {
    "scrolled": true
   },
   "outputs": [
    {
     "data": {
      "text/html": [
       "<div>\n",
       "<style scoped>\n",
       "    .dataframe tbody tr th:only-of-type {\n",
       "        vertical-align: middle;\n",
       "    }\n",
       "\n",
       "    .dataframe tbody tr th {\n",
       "        vertical-align: top;\n",
       "    }\n",
       "\n",
       "    .dataframe thead th {\n",
       "        text-align: right;\n",
       "    }\n",
       "</style>\n",
       "<table border=\"1\" class=\"dataframe\">\n",
       "  <thead>\n",
       "    <tr style=\"text-align: right;\">\n",
       "      <th></th>\n",
       "      <th>f0</th>\n",
       "      <th>f1</th>\n",
       "      <th>f2</th>\n",
       "      <th>product</th>\n",
       "    </tr>\n",
       "  </thead>\n",
       "  <tbody>\n",
       "    <tr>\n",
       "      <th>count</th>\n",
       "      <td>100000.000000</td>\n",
       "      <td>100000.000000</td>\n",
       "      <td>100000.000000</td>\n",
       "      <td>100000.000000</td>\n",
       "    </tr>\n",
       "    <tr>\n",
       "      <th>mean</th>\n",
       "      <td>0.500419</td>\n",
       "      <td>0.250143</td>\n",
       "      <td>2.502647</td>\n",
       "      <td>92.500000</td>\n",
       "    </tr>\n",
       "    <tr>\n",
       "      <th>std</th>\n",
       "      <td>0.871832</td>\n",
       "      <td>0.504433</td>\n",
       "      <td>3.248248</td>\n",
       "      <td>44.288691</td>\n",
       "    </tr>\n",
       "    <tr>\n",
       "      <th>min</th>\n",
       "      <td>-1.408605</td>\n",
       "      <td>-0.848218</td>\n",
       "      <td>-12.088328</td>\n",
       "      <td>0.000000</td>\n",
       "    </tr>\n",
       "    <tr>\n",
       "      <th>25%</th>\n",
       "      <td>-0.072580</td>\n",
       "      <td>-0.200881</td>\n",
       "      <td>0.287748</td>\n",
       "      <td>56.497507</td>\n",
       "    </tr>\n",
       "    <tr>\n",
       "      <th>50%</th>\n",
       "      <td>0.502360</td>\n",
       "      <td>0.250252</td>\n",
       "      <td>2.515969</td>\n",
       "      <td>91.849972</td>\n",
       "    </tr>\n",
       "    <tr>\n",
       "      <th>75%</th>\n",
       "      <td>1.073581</td>\n",
       "      <td>0.700646</td>\n",
       "      <td>4.715088</td>\n",
       "      <td>128.564089</td>\n",
       "    </tr>\n",
       "    <tr>\n",
       "      <th>max</th>\n",
       "      <td>2.362331</td>\n",
       "      <td>1.343769</td>\n",
       "      <td>16.003790</td>\n",
       "      <td>185.364347</td>\n",
       "    </tr>\n",
       "  </tbody>\n",
       "</table>\n",
       "</div>"
      ],
      "text/plain": [
       "                  f0             f1             f2        product\n",
       "count  100000.000000  100000.000000  100000.000000  100000.000000\n",
       "mean        0.500419       0.250143       2.502647      92.500000\n",
       "std         0.871832       0.504433       3.248248      44.288691\n",
       "min        -1.408605      -0.848218     -12.088328       0.000000\n",
       "25%        -0.072580      -0.200881       0.287748      56.497507\n",
       "50%         0.502360       0.250252       2.515969      91.849972\n",
       "75%         1.073581       0.700646       4.715088     128.564089\n",
       "max         2.362331       1.343769      16.003790     185.364347"
      ]
     },
     "execution_count": 4,
     "metadata": {},
     "output_type": "execute_result"
    }
   ],
   "source": [
    "#Вывод описательной статистики \n",
    "geo_data_0.describe()"
   ]
  },
  {
   "cell_type": "code",
   "execution_count": 5,
   "metadata": {
    "scrolled": true
   },
   "outputs": [
    {
     "data": {
      "image/png": "[encoded data removed]",
      "text/plain": [
       "<Figure size 504x576 with 4 Axes>"
      ]
     },
     "metadata": {
      "needs_background": "light"
     },
     "output_type": "display_data"
    }
   ],
   "source": [
    "#Построение гистограммы для числовых значений\n",
    "geo_data_0.hist(figsize=(7,8))\n",
    "plt.show()"
   ]
  },
  {
   "cell_type": "markdown",
   "metadata": {},
   "source": [
    "**Датасет `geo_data_0`**  медианный объем запасов составляет около 92 тыс. барраллей"
   ]
  },
  {
   "cell_type": "code",
   "execution_count": 6,
   "metadata": {
    "scrolled": true
   },
   "outputs": [
    {
     "name": "stdout",
     "output_type": "stream",
     "text": [
      "<class 'pandas.core.frame.DataFrame'>\n",
      "RangeIndex: 100000 entries, 0 to 99999\n",
      "Data columns (total 5 columns):\n",
      " #   Column   Non-Null Count   Dtype  \n",
      "---  ------   --------------   -----  \n",
      " 0   id       100000 non-null  object \n",
      " 1   f0       100000 non-null  float64\n",
      " 2   f1       100000 non-null  float64\n",
      " 3   f2       100000 non-null  float64\n",
      " 4   product  100000 non-null  float64\n",
      "dtypes: float64(4), object(1)\n",
      "memory usage: 3.8+ MB\n"
     ]
    },
    {
     "data": {
      "text/html": [
       "<div>\n",
       "<style scoped>\n",
       "    .dataframe tbody tr th:only-of-type {\n",
       "        vertical-align: middle;\n",
       "    }\n",
       "\n",
       "    .dataframe tbody tr th {\n",
       "        vertical-align: top;\n",
       "    }\n",
       "\n",
       "    .dataframe thead th {\n",
       "        text-align: right;\n",
       "    }\n",
       "</style>\n",
       "<table border=\"1\" class=\"dataframe\">\n",
       "  <thead>\n",
       "    <tr style=\"text-align: right;\">\n",
       "      <th></th>\n",
       "      <th>id</th>\n",
       "      <th>f0</th>\n",
       "      <th>f1</th>\n",
       "      <th>f2</th>\n",
       "      <th>product</th>\n",
       "    </tr>\n",
       "  </thead>\n",
       "  <tbody>\n",
       "    <tr>\n",
       "      <th>0</th>\n",
       "      <td>kBEdx</td>\n",
       "      <td>-15.001348</td>\n",
       "      <td>-8.276000</td>\n",
       "      <td>-0.005876</td>\n",
       "      <td>3.179103</td>\n",
       "    </tr>\n",
       "    <tr>\n",
       "      <th>1</th>\n",
       "      <td>62mP7</td>\n",
       "      <td>14.272088</td>\n",
       "      <td>-3.475083</td>\n",
       "      <td>0.999183</td>\n",
       "      <td>26.953261</td>\n",
       "    </tr>\n",
       "    <tr>\n",
       "      <th>2</th>\n",
       "      <td>vyE1P</td>\n",
       "      <td>6.263187</td>\n",
       "      <td>-5.948386</td>\n",
       "      <td>5.001160</td>\n",
       "      <td>134.766305</td>\n",
       "    </tr>\n",
       "    <tr>\n",
       "      <th>3</th>\n",
       "      <td>KcrkZ</td>\n",
       "      <td>-13.081196</td>\n",
       "      <td>-11.506057</td>\n",
       "      <td>4.999415</td>\n",
       "      <td>137.945408</td>\n",
       "    </tr>\n",
       "    <tr>\n",
       "      <th>4</th>\n",
       "      <td>AHL4O</td>\n",
       "      <td>12.702195</td>\n",
       "      <td>-8.147433</td>\n",
       "      <td>5.004363</td>\n",
       "      <td>134.766305</td>\n",
       "    </tr>\n",
       "  </tbody>\n",
       "</table>\n",
       "</div>"
      ],
      "text/plain": [
       "      id         f0         f1        f2     product\n",
       "0  kBEdx -15.001348  -8.276000 -0.005876    3.179103\n",
       "1  62mP7  14.272088  -3.475083  0.999183   26.953261\n",
       "2  vyE1P   6.263187  -5.948386  5.001160  134.766305\n",
       "3  KcrkZ -13.081196 -11.506057  4.999415  137.945408\n",
       "4  AHL4O  12.702195  -8.147433  5.004363  134.766305"
      ]
     },
     "execution_count": 6,
     "metadata": {},
     "output_type": "execute_result"
    }
   ],
   "source": [
    "# вывод первых строк и общей информации о датасете\n",
    "geo_data_1.info()\n",
    "geo_data_1.head()"
   ]
  },
  {
   "cell_type": "code",
   "execution_count": 7,
   "metadata": {
    "scrolled": true
   },
   "outputs": [
    {
     "data": {
      "text/html": [
       "<div>\n",
       "<style scoped>\n",
       "    .dataframe tbody tr th:only-of-type {\n",
       "        vertical-align: middle;\n",
       "    }\n",
       "\n",
       "    .dataframe tbody tr th {\n",
       "        vertical-align: top;\n",
       "    }\n",
       "\n",
       "    .dataframe thead th {\n",
       "        text-align: right;\n",
       "    }\n",
       "</style>\n",
       "<table border=\"1\" class=\"dataframe\">\n",
       "  <thead>\n",
       "    <tr style=\"text-align: right;\">\n",
       "      <th></th>\n",
       "      <th>f0</th>\n",
       "      <th>f1</th>\n",
       "      <th>f2</th>\n",
       "      <th>product</th>\n",
       "    </tr>\n",
       "  </thead>\n",
       "  <tbody>\n",
       "    <tr>\n",
       "      <th>count</th>\n",
       "      <td>100000.000000</td>\n",
       "      <td>100000.000000</td>\n",
       "      <td>100000.000000</td>\n",
       "      <td>100000.000000</td>\n",
       "    </tr>\n",
       "    <tr>\n",
       "      <th>mean</th>\n",
       "      <td>1.141296</td>\n",
       "      <td>-4.796579</td>\n",
       "      <td>2.494541</td>\n",
       "      <td>68.825000</td>\n",
       "    </tr>\n",
       "    <tr>\n",
       "      <th>std</th>\n",
       "      <td>8.965932</td>\n",
       "      <td>5.119872</td>\n",
       "      <td>1.703572</td>\n",
       "      <td>45.944423</td>\n",
       "    </tr>\n",
       "    <tr>\n",
       "      <th>min</th>\n",
       "      <td>-31.609576</td>\n",
       "      <td>-26.358598</td>\n",
       "      <td>-0.018144</td>\n",
       "      <td>0.000000</td>\n",
       "    </tr>\n",
       "    <tr>\n",
       "      <th>25%</th>\n",
       "      <td>-6.298551</td>\n",
       "      <td>-8.267985</td>\n",
       "      <td>1.000021</td>\n",
       "      <td>26.953261</td>\n",
       "    </tr>\n",
       "    <tr>\n",
       "      <th>50%</th>\n",
       "      <td>1.153055</td>\n",
       "      <td>-4.813172</td>\n",
       "      <td>2.011479</td>\n",
       "      <td>57.085625</td>\n",
       "    </tr>\n",
       "    <tr>\n",
       "      <th>75%</th>\n",
       "      <td>8.621015</td>\n",
       "      <td>-1.332816</td>\n",
       "      <td>3.999904</td>\n",
       "      <td>107.813044</td>\n",
       "    </tr>\n",
       "    <tr>\n",
       "      <th>max</th>\n",
       "      <td>29.421755</td>\n",
       "      <td>18.734063</td>\n",
       "      <td>5.019721</td>\n",
       "      <td>137.945408</td>\n",
       "    </tr>\n",
       "  </tbody>\n",
       "</table>\n",
       "</div>"
      ],
      "text/plain": [
       "                  f0             f1             f2        product\n",
       "count  100000.000000  100000.000000  100000.000000  100000.000000\n",
       "mean        1.141296      -4.796579       2.494541      68.825000\n",
       "std         8.965932       5.119872       1.703572      45.944423\n",
       "min       -31.609576     -26.358598      -0.018144       0.000000\n",
       "25%        -6.298551      -8.267985       1.000021      26.953261\n",
       "50%         1.153055      -4.813172       2.011479      57.085625\n",
       "75%         8.621015      -1.332816       3.999904     107.813044\n",
       "max        29.421755      18.734063       5.019721     137.945408"
      ]
     },
     "execution_count": 7,
     "metadata": {},
     "output_type": "execute_result"
    }
   ],
   "source": [
    "#Вывод описательной статистики \n",
    "geo_data_1.describe()"
   ]
  },
  {
   "cell_type": "code",
   "execution_count": 8,
   "metadata": {
    "scrolled": true
   },
   "outputs": [
    {
     "data": {
      "image/png": "[encoded data removed]",
      "text/plain": [
       "<Figure size 504x576 with 4 Axes>"
      ]
     },
     "metadata": {
      "needs_background": "light"
     },
     "output_type": "display_data"
    }
   ],
   "source": [
    "#Построение гистограммы для числовых значений\n",
    "geo_data_1.hist(figsize=(7,8))\n",
    "plt.show()"
   ]
  },
  {
   "cell_type": "markdown",
   "metadata": {},
   "source": [
    "**Датасет `geo_data_1`**  медианный объем запасов составляет около 57 тыс. барраллей"
   ]
  },
  {
   "cell_type": "code",
   "execution_count": 9,
   "metadata": {},
   "outputs": [
    {
     "name": "stdout",
     "output_type": "stream",
     "text": [
      "<class 'pandas.core.frame.DataFrame'>\n",
      "RangeIndex: 100000 entries, 0 to 99999\n",
      "Data columns (total 5 columns):\n",
      " #   Column   Non-Null Count   Dtype  \n",
      "---  ------   --------------   -----  \n",
      " 0   id       100000 non-null  object \n",
      " 1   f0       100000 non-null  float64\n",
      " 2   f1       100000 non-null  float64\n",
      " 3   f2       100000 non-null  float64\n",
      " 4   product  100000 non-null  float64\n",
      "dtypes: float64(4), object(1)\n",
      "memory usage: 3.8+ MB\n"
     ]
    },
    {
     "data": {
      "text/html": [
       "<div>\n",
       "<style scoped>\n",
       "    .dataframe tbody tr th:only-of-type {\n",
       "        vertical-align: middle;\n",
       "    }\n",
       "\n",
       "    .dataframe tbody tr th {\n",
       "        vertical-align: top;\n",
       "    }\n",
       "\n",
       "    .dataframe thead th {\n",
       "        text-align: right;\n",
       "    }\n",
       "</style>\n",
       "<table border=\"1\" class=\"dataframe\">\n",
       "  <thead>\n",
       "    <tr style=\"text-align: right;\">\n",
       "      <th></th>\n",
       "      <th>id</th>\n",
       "      <th>f0</th>\n",
       "      <th>f1</th>\n",
       "      <th>f2</th>\n",
       "      <th>product</th>\n",
       "    </tr>\n",
       "  </thead>\n",
       "  <tbody>\n",
       "    <tr>\n",
       "      <th>0</th>\n",
       "      <td>fwXo0</td>\n",
       "      <td>-1.146987</td>\n",
       "      <td>0.963328</td>\n",
       "      <td>-0.828965</td>\n",
       "      <td>27.758673</td>\n",
       "    </tr>\n",
       "    <tr>\n",
       "      <th>1</th>\n",
       "      <td>WJtFt</td>\n",
       "      <td>0.262778</td>\n",
       "      <td>0.269839</td>\n",
       "      <td>-2.530187</td>\n",
       "      <td>56.069697</td>\n",
       "    </tr>\n",
       "    <tr>\n",
       "      <th>2</th>\n",
       "      <td>ovLUW</td>\n",
       "      <td>0.194587</td>\n",
       "      <td>0.289035</td>\n",
       "      <td>-5.586433</td>\n",
       "      <td>62.871910</td>\n",
       "    </tr>\n",
       "    <tr>\n",
       "      <th>3</th>\n",
       "      <td>q6cA6</td>\n",
       "      <td>2.236060</td>\n",
       "      <td>-0.553760</td>\n",
       "      <td>0.930038</td>\n",
       "      <td>114.572842</td>\n",
       "    </tr>\n",
       "    <tr>\n",
       "      <th>4</th>\n",
       "      <td>WPMUX</td>\n",
       "      <td>-0.515993</td>\n",
       "      <td>1.716266</td>\n",
       "      <td>5.899011</td>\n",
       "      <td>149.600746</td>\n",
       "    </tr>\n",
       "  </tbody>\n",
       "</table>\n",
       "</div>"
      ],
      "text/plain": [
       "      id        f0        f1        f2     product\n",
       "0  fwXo0 -1.146987  0.963328 -0.828965   27.758673\n",
       "1  WJtFt  0.262778  0.269839 -2.530187   56.069697\n",
       "2  ovLUW  0.194587  0.289035 -5.586433   62.871910\n",
       "3  q6cA6  2.236060 -0.553760  0.930038  114.572842\n",
       "4  WPMUX -0.515993  1.716266  5.899011  149.600746"
      ]
     },
     "execution_count": 9,
     "metadata": {},
     "output_type": "execute_result"
    }
   ],
   "source": [
    "# вывод первых строк и общей информации о датасете\n",
    "geo_data_2.info()\n",
    "geo_data_2.head()"
   ]
  },
  {
   "cell_type": "code",
   "execution_count": 10,
   "metadata": {
    "scrolled": true
   },
   "outputs": [
    {
     "data": {
      "text/html": [
       "<div>\n",
       "<style scoped>\n",
       "    .dataframe tbody tr th:only-of-type {\n",
       "        vertical-align: middle;\n",
       "    }\n",
       "\n",
       "    .dataframe tbody tr th {\n",
       "        vertical-align: top;\n",
       "    }\n",
       "\n",
       "    .dataframe thead th {\n",
       "        text-align: right;\n",
       "    }\n",
       "</style>\n",
       "<table border=\"1\" class=\"dataframe\">\n",
       "  <thead>\n",
       "    <tr style=\"text-align: right;\">\n",
       "      <th></th>\n",
       "      <th>f0</th>\n",
       "      <th>f1</th>\n",
       "      <th>f2</th>\n",
       "      <th>product</th>\n",
       "    </tr>\n",
       "  </thead>\n",
       "  <tbody>\n",
       "    <tr>\n",
       "      <th>count</th>\n",
       "      <td>100000.000000</td>\n",
       "      <td>100000.000000</td>\n",
       "      <td>100000.000000</td>\n",
       "      <td>100000.000000</td>\n",
       "    </tr>\n",
       "    <tr>\n",
       "      <th>mean</th>\n",
       "      <td>0.002023</td>\n",
       "      <td>-0.002081</td>\n",
       "      <td>2.495128</td>\n",
       "      <td>95.000000</td>\n",
       "    </tr>\n",
       "    <tr>\n",
       "      <th>std</th>\n",
       "      <td>1.732045</td>\n",
       "      <td>1.730417</td>\n",
       "      <td>3.473445</td>\n",
       "      <td>44.749921</td>\n",
       "    </tr>\n",
       "    <tr>\n",
       "      <th>min</th>\n",
       "      <td>-8.760004</td>\n",
       "      <td>-7.084020</td>\n",
       "      <td>-11.970335</td>\n",
       "      <td>0.000000</td>\n",
       "    </tr>\n",
       "    <tr>\n",
       "      <th>25%</th>\n",
       "      <td>-1.162288</td>\n",
       "      <td>-1.174820</td>\n",
       "      <td>0.130359</td>\n",
       "      <td>59.450441</td>\n",
       "    </tr>\n",
       "    <tr>\n",
       "      <th>50%</th>\n",
       "      <td>0.009424</td>\n",
       "      <td>-0.009482</td>\n",
       "      <td>2.484236</td>\n",
       "      <td>94.925613</td>\n",
       "    </tr>\n",
       "    <tr>\n",
       "      <th>75%</th>\n",
       "      <td>1.158535</td>\n",
       "      <td>1.163678</td>\n",
       "      <td>4.858794</td>\n",
       "      <td>130.595027</td>\n",
       "    </tr>\n",
       "    <tr>\n",
       "      <th>max</th>\n",
       "      <td>7.238262</td>\n",
       "      <td>7.844801</td>\n",
       "      <td>16.739402</td>\n",
       "      <td>190.029838</td>\n",
       "    </tr>\n",
       "  </tbody>\n",
       "</table>\n",
       "</div>"
      ],
      "text/plain": [
       "                  f0             f1             f2        product\n",
       "count  100000.000000  100000.000000  100000.000000  100000.000000\n",
       "mean        0.002023      -0.002081       2.495128      95.000000\n",
       "std         1.732045       1.730417       3.473445      44.749921\n",
       "min        -8.760004      -7.084020     -11.970335       0.000000\n",
       "25%        -1.162288      -1.174820       0.130359      59.450441\n",
       "50%         0.009424      -0.009482       2.484236      94.925613\n",
       "75%         1.158535       1.163678       4.858794     130.595027\n",
       "max         7.238262       7.844801      16.739402     190.029838"
      ]
     },
     "execution_count": 10,
     "metadata": {},
     "output_type": "execute_result"
    }
   ],
   "source": [
    "#Вывод описательной статистики \n",
    "geo_data_2.describe()"
   ]
  },
  {
   "cell_type": "code",
   "execution_count": 11,
   "metadata": {},
   "outputs": [
    {
     "data": {
      "image/png": "[encoded data removed]",
      "text/plain": [
       "<Figure size 504x576 with 4 Axes>"
      ]
     },
     "metadata": {
      "needs_background": "light"
     },
     "output_type": "display_data"
    }
   ],
   "source": [
    "#Построение гистограммы для числовых значений\n",
    "geo_data_2.hist(figsize=(7,8))\n",
    "plt.show()"
   ]
  },
  {
   "cell_type": "markdown",
   "metadata": {},
   "source": [
    "**Датасет `geo_data_2`**  медианный объем запасов составляет около 95 тыс. барраллей"
   ]
  },
  {
   "cell_type": "markdown",
   "metadata": {},
   "source": [
    "# Вывод: \n",
    "\n",
    "Из представленных данных видно, что мы имеем 100 тысяч различных данных геологической разведки по трем областям. Эти данные включают характеристики, описывающие отдельные скважины в уже исследованных областях, и ключевые показатели объема запасов нефти в каждой из них.\n",
    "\n",
    "**Регион 1 - `geo_data_0`**  медианный объем запасов составляет около 92 тыс. барраллей\n",
    "\n",
    "**Регион 2 - `geo_data_1`**  медианный объем запасов составляет около 57 тыс. барраллей\n",
    "\n",
    "**Регион 3 - `geo_data_2`**  медианный объем запасов составляет около 95 тыс. барраллей\n",
    "\n",
    "\n"
   ]
  },
  {
   "cell_type": "markdown",
   "metadata": {},
   "source": [
    "# Предобработка данных"
   ]
  },
  {
   "cell_type": "markdown",
   "metadata": {},
   "source": [
    "**Проверим данные на наличие явных дубликатов:**"
   ]
  },
  {
   "cell_type": "code",
   "execution_count": 12,
   "metadata": {},
   "outputs": [
    {
     "data": {
      "text/plain": [
       "0"
      ]
     },
     "metadata": {},
     "output_type": "display_data"
    },
    {
     "data": {
      "text/plain": [
       "0"
      ]
     },
     "metadata": {},
     "output_type": "display_data"
    },
    {
     "data": {
      "text/plain": [
       "0"
      ]
     },
     "metadata": {},
     "output_type": "display_data"
    }
   ],
   "source": [
    "# Проверка на наличие явных дубликатов\n",
    "display(geo_data_0.duplicated().sum(), geo_data_1.duplicated().sum(), geo_data_2.duplicated().sum())"
   ]
  },
  {
   "cell_type": "markdown",
   "metadata": {},
   "source": [
    "**Вывод:** Явные дуликаты отсутствуют."
   ]
  },
  {
   "cell_type": "code",
   "execution_count": 13,
   "metadata": {},
   "outputs": [
    {
     "data": {
      "text/plain": [
       "10"
      ]
     },
     "metadata": {},
     "output_type": "display_data"
    },
    {
     "data": {
      "text/plain": [
       "4"
      ]
     },
     "metadata": {},
     "output_type": "display_data"
    },
    {
     "data": {
      "text/plain": [
       "4"
      ]
     },
     "metadata": {},
     "output_type": "display_data"
    }
   ],
   "source": [
    "# Проверка на наличие дубликатов в столбце id \n",
    "display(geo_data_0.duplicated('id').sum(), geo_data_1.duplicated('id').sum(), geo_data_2.duplicated('id').sum())"
   ]
  },
  {
   "cell_type": "markdown",
   "metadata": {},
   "source": [
    "Проверка дубликатов в столбце `id` показала, что присутствуют дубликаты скважин, однако:\n",
    "\n",
    "* их количество крайне мало;\n",
    "* все остальные характеристики скважин отличаются.\n",
    "\n",
    "В связи с этим мы оставим дубликаты скважин без изменений."
   ]
  },
  {
   "cell_type": "markdown",
   "metadata": {},
   "source": [
    "**Проверка наличия пропущенных значений:**"
   ]
  },
  {
   "cell_type": "code",
   "execution_count": 14,
   "metadata": {},
   "outputs": [
    {
     "data": {
      "text/plain": [
       "id         0\n",
       "f0         0\n",
       "f1         0\n",
       "f2         0\n",
       "product    0\n",
       "dtype: int64"
      ]
     },
     "metadata": {},
     "output_type": "display_data"
    },
    {
     "data": {
      "text/plain": [
       "id         0\n",
       "f0         0\n",
       "f1         0\n",
       "f2         0\n",
       "product    0\n",
       "dtype: int64"
      ]
     },
     "metadata": {},
     "output_type": "display_data"
    },
    {
     "data": {
      "text/plain": [
       "id         0\n",
       "f0         0\n",
       "f1         0\n",
       "f2         0\n",
       "product    0\n",
       "dtype: int64"
      ]
     },
     "metadata": {},
     "output_type": "display_data"
    }
   ],
   "source": [
    "#Вывод пропущенных значений\n",
    "display(geo_data_0.isna().sum(),geo_data_1.isna().sum(),geo_data_2.isna().sum())"
   ]
  },
  {
   "cell_type": "markdown",
   "metadata": {},
   "source": [
    "**Вывод:** Пропущенные значения отсутствуют."
   ]
  },
  {
   "cell_type": "markdown",
   "metadata": {},
   "source": [
    "# Вывод:\n",
    "Данные имеют незначительное число дубликатов в колонке `id`, пропущенные значения отсутствуют.\n",
    "В целом данные достаточно чистые, можно приступить к обучению моделей."
   ]
  },
  {
   "cell_type": "markdown",
   "metadata": {},
   "source": [
    "# Обучение и проверка моделей"
   ]
  },
  {
   "cell_type": "markdown",
   "metadata": {},
   "source": [
    "Разделим данные на предсказательные и целевой признак по каждому региону"
   ]
  },
  {
   "cell_type": "code",
   "execution_count": 15,
   "metadata": {},
   "outputs": [
    {
     "data": {
      "text/plain": [
       "(100000, 3)"
      ]
     },
     "metadata": {},
     "output_type": "display_data"
    },
    {
     "data": {
      "text/plain": [
       "(100000,)"
      ]
     },
     "metadata": {},
     "output_type": "display_data"
    },
    {
     "data": {
      "text/plain": [
       "(100000, 3)"
      ]
     },
     "metadata": {},
     "output_type": "display_data"
    },
    {
     "data": {
      "text/plain": [
       "(100000,)"
      ]
     },
     "metadata": {},
     "output_type": "display_data"
    },
    {
     "data": {
      "text/plain": [
       "(100000, 3)"
      ]
     },
     "metadata": {},
     "output_type": "display_data"
    },
    {
     "data": {
      "text/plain": [
       "(100000,)"
      ]
     },
     "metadata": {},
     "output_type": "display_data"
    }
   ],
   "source": [
    "features_0 = geo_data_0.drop(['id', 'product'], axis=1)\n",
    "target_0 = geo_data_0['product']\n",
    "\n",
    "features_1 = geo_data_1.drop(['id', 'product'], axis=1)\n",
    "target_1 = geo_data_1['product']\n",
    "\n",
    "features_2 = geo_data_2.drop(['id', 'product'], axis=1)\n",
    "target_2 = geo_data_2['product']\n",
    "\n",
    "display(features_0.shape, target_0.shape,\n",
    "        features_1.shape, target_1.shape,\n",
    "        features_2.shape, target_2.shape)"
   ]
  },
  {
   "cell_type": "code",
   "execution_count": 16,
   "metadata": {},
   "outputs": [
    {
     "data": {
      "text/plain": [
       "(75000, 3)"
      ]
     },
     "metadata": {},
     "output_type": "display_data"
    },
    {
     "data": {
      "text/plain": [
       "(75000,)"
      ]
     },
     "metadata": {},
     "output_type": "display_data"
    },
    {
     "data": {
      "text/plain": [
       "(25000, 3)"
      ]
     },
     "metadata": {},
     "output_type": "display_data"
    },
    {
     "data": {
      "text/plain": [
       "(25000,)"
      ]
     },
     "metadata": {},
     "output_type": "display_data"
    },
    {
     "data": {
      "text/plain": [
       "(75000, 3)"
      ]
     },
     "metadata": {},
     "output_type": "display_data"
    },
    {
     "data": {
      "text/plain": [
       "(75000,)"
      ]
     },
     "metadata": {},
     "output_type": "display_data"
    },
    {
     "data": {
      "text/plain": [
       "(25000, 3)"
      ]
     },
     "metadata": {},
     "output_type": "display_data"
    },
    {
     "data": {
      "text/plain": [
       "(25000,)"
      ]
     },
     "metadata": {},
     "output_type": "display_data"
    },
    {
     "data": {
      "text/plain": [
       "(75000, 3)"
      ]
     },
     "metadata": {},
     "output_type": "display_data"
    },
    {
     "data": {
      "text/plain": [
       "(75000,)"
      ]
     },
     "metadata": {},
     "output_type": "display_data"
    },
    {
     "data": {
      "text/plain": [
       "(25000, 3)"
      ]
     },
     "metadata": {},
     "output_type": "display_data"
    },
    {
     "data": {
      "text/plain": [
       "(25000,)"
      ]
     },
     "metadata": {},
     "output_type": "display_data"
    }
   ],
   "source": [
    "state = np.random.RandomState(12345)\n",
    "\n",
    "# Разбивка данных на обучающую и валидационную выборки, аргумент test_size не указываем, т.к. он по умолчанию = 0.25.\n",
    "\n",
    "features_train_0, features_valid_0, target_train_0, target_valid_0 = train_test_split(\n",
    "                                                                        features_0, \n",
    "                                                                        target_0, \n",
    "                                                                        random_state=state)\n",
    "\n",
    "features_train_1, features_valid_1, target_train_1, target_valid_1 = train_test_split(\n",
    "                                                                        features_1, \n",
    "                                                                        target_1,\n",
    "                                                                        random_state=state)\n",
    "\n",
    "features_train_2, features_valid_2, target_train_2, target_valid_2 = train_test_split(\n",
    "                                                                        features_2, \n",
    "                                                                        target_2,\n",
    "                                                                        random_state=state)\n",
    "\n",
    "display(features_train_0.shape, target_train_0.shape,\n",
    "        features_valid_0.shape, target_valid_0.shape)\n",
    "display(features_train_1.shape, target_train_1.shape,\n",
    "        features_valid_1.shape, target_valid_1.shape)\n",
    "display(features_train_2.shape, target_train_2.shape,\n",
    "        features_valid_2.shape, target_valid_2.shape)"
   ]
  },
  {
   "cell_type": "markdown",
   "metadata": {},
   "source": [
    "Для обучения выбрана модель логистической регрессии, т.к. она самая подходящая в самом случае."
   ]
  },
  {
   "cell_type": "code",
   "execution_count": 17,
   "metadata": {},
   "outputs": [
    {
     "data": {
      "text/plain": [
       "'RMSE: 37.58'"
      ]
     },
     "metadata": {},
     "output_type": "display_data"
    },
    {
     "data": {
      "text/plain": [
       "'Средний запас сырья по региону: 92.59'"
      ]
     },
     "metadata": {},
     "output_type": "display_data"
    }
   ],
   "source": [
    "# Модель для Региона № 1\n",
    "model_0 = LinearRegression()\n",
    "model_0.fit(features_train_0, target_train_0)\n",
    "predictions_valid_0 = model_0.predict(features_valid_0)\n",
    "\n",
    "result_0 = mean_squared_error(target_valid_0, predictions_valid_0) ** .5\n",
    "# Расчет среднего запаса сырья по региону\n",
    "average_stock_materials_0 = predictions_valid_0.mean()\n",
    "\n",
    "display(f'RMSE: {result_0:.2f}')\n",
    "display(f'Средний запас сырья по региону: {average_stock_materials_0:.2f}')"
   ]
  },
  {
   "cell_type": "code",
   "execution_count": 18,
   "metadata": {},
   "outputs": [
    {
     "data": {
      "text/plain": [
       "'RMSE: 0.89'"
      ]
     },
     "metadata": {},
     "output_type": "display_data"
    },
    {
     "data": {
      "text/plain": [
       "'Средний запас сырья по региону: 68.77'"
      ]
     },
     "metadata": {},
     "output_type": "display_data"
    }
   ],
   "source": [
    "# Модель для Региона № 2\n",
    "model_1 = LinearRegression()\n",
    "model_1.fit(features_train_1, target_train_1)\n",
    "predictions_valid_1 = model_1.predict(features_valid_1)\n",
    "\n",
    "result_1 = mean_squared_error(target_valid_1, predictions_valid_1) ** .5\n",
    "# Расчет среднего запаса сырья по региону\n",
    "average_stock_materials_1 = predictions_valid_1.mean()\n",
    "\n",
    "display(f'RMSE: {result_1:.2f}')\n",
    "display(f'Средний запас сырья по региону: {average_stock_materials_1:.2f}')"
   ]
  },
  {
   "cell_type": "code",
   "execution_count": 19,
   "metadata": {},
   "outputs": [
    {
     "data": {
      "text/plain": [
       "'RMSE: 39.96'"
      ]
     },
     "metadata": {},
     "output_type": "display_data"
    },
    {
     "data": {
      "text/plain": [
       "'Средний запас сырья по региону: 95.09'"
      ]
     },
     "metadata": {},
     "output_type": "display_data"
    }
   ],
   "source": [
    "# Модель для Региона № 3\n",
    "model_2 = LinearRegression()\n",
    "model_2.fit(features_train_2, target_train_2)\n",
    "predictions_valid_2 = model_2.predict(features_valid_2)\n",
    "\n",
    "result_2 = mean_squared_error(target_valid_2, predictions_valid_2) ** .5\n",
    "# Расчет среднего запаса сырья по региону\n",
    "average_stock_materials_2 = predictions_valid_2.mean()\n",
    "\n",
    "display(f'RMSE: {result_2:.2f}')\n",
    "display(f'Средний запас сырья по региону: {average_stock_materials_2:.2f}')"
   ]
  },
  {
   "cell_type": "markdown",
   "metadata": {},
   "source": [
    "# Вывод:\n",
    "Модели были обучены.\n",
    "\n",
    "Самый высокий показатель запасов сырья был обнаружен в `Регионе №3` - 95,09 тыс. тонн нефти. `Регион №1` следует за ним по показателю запасов нефти.\n",
    "\n",
    "`Регион №2` имеет самые низкие запасы, но корень среднеквадратичного отклонения в предсказаниях для этого региона стремится к нулю, что является хорошим показателем качества предсказаний для второй модели."
   ]
  },
  {
   "cell_type": "markdown",
   "metadata": {},
   "source": [
    "# Подготовка к расчёту прибыли"
   ]
  },
  {
   "cell_type": "markdown",
   "metadata": {},
   "source": [
    "Запишем ключевые значения для расчета прибыли и рисков в константы для удобства."
   ]
  },
  {
   "cell_type": "code",
   "execution_count": 20,
   "metadata": {},
   "outputs": [],
   "source": [
    "RESEARCH_POINTS = 500  # Количество скважин для анализа, шт.\n",
    "BEST_POINTS = 200  # Количество выбираемых скважин, шт.\n",
    "INVESTMENT = 10_000_000_000  # Инвестиции на разработку региона, млрд. руб.\n",
    "BARREL_PRICE = 450 * 1000  # Доход с каждой единицы продукта, руб.\n",
    "PROBABILITY_OF_LOSS = 2.5  # Вероятность убытка, %"
   ]
  },
  {
   "cell_type": "markdown",
   "metadata": {},
   "source": [
    "Рассчитаем минимальный средний объем сырья для безубыточной разработки регионов."
   ]
  },
  {
   "cell_type": "code",
   "execution_count": 21,
   "metadata": {},
   "outputs": [
    {
     "data": {
      "text/plain": [
       "'Общий объем сырья выбранных скважин для их безубыточной разработки:'"
      ]
     },
     "metadata": {},
     "output_type": "display_data"
    },
    {
     "data": {
      "text/plain": [
       "'22222.22 тыс. тонн баррелей'"
      ]
     },
     "metadata": {},
     "output_type": "display_data"
    },
    {
     "data": {
      "text/plain": [
       "'Средний объем сырья в каждой скважине для их безубыточной разработки:'"
      ]
     },
     "metadata": {},
     "output_type": "display_data"
    },
    {
     "data": {
      "text/plain": [
       "'111.11 тыс. тонн баррелей'"
      ]
     },
     "metadata": {},
     "output_type": "display_data"
    }
   ],
   "source": [
    "# Расчет общегоо объема сырья для безубыточной разработки\n",
    "min_total_materials_by_region = INVESTMENT / (BARREL_PRICE)\n",
    "# Расчет среднего минимального объема сырья для безубыточной разработки\n",
    "required_material_stocks = INVESTMENT / (BARREL_PRICE) / BEST_POINTS\n",
    "\n",
    "display(f'Общий объем сырья выбранных скважин для их безубыточной разработки:',\n",
    "        f'{min_total_materials_by_region:.2f} тыс. тонн баррелей')\n",
    "display('Средний объем сырья в каждой скважине для их безубыточной разработки:',\n",
    "        f'{required_material_stocks:.2f} тыс. тонн баррелей')"
   ]
  },
  {
   "cell_type": "markdown",
   "metadata": {},
   "source": [
    "**Вывод:** Из расчетов видно, что общий объем сырья выбранных скважин для их безубыточной разработки должен составлять не менее 22 222.22 тыс. тонн баррелей, а средний объем сырья в каждой скважине для их безубыточной разработки должен составлять не менее 111.11 тыс. тонн баррелей."
   ]
  },
  {
   "cell_type": "markdown",
   "metadata": {},
   "source": [
    "# Расчёт прибыли и рисков"
   ]
  },
  {
   "cell_type": "markdown",
   "metadata": {},
   "source": [
    "Для начала переведем предсказанные значения к формату Series, а индексы ключевых признаков сбросим для избежания ошибок в коде."
   ]
  },
  {
   "cell_type": "code",
   "execution_count": 22,
   "metadata": {},
   "outputs": [],
   "source": [
    "# Преобразование numpy.ndarray в pd.Series\n",
    "predictions_valid_0 = pd.Series(predictions_valid_0)\n",
    "predictions_valid_1 = pd.Series(predictions_valid_1)\n",
    "predictions_valid_2 = pd.Series(predictions_valid_2)\n",
    "\n",
    "# Дроп индексов ключевых показателей валидационной выборки (для иcключения KeyError)\n",
    "target_valid_0 = target_valid_0.reset_index(drop=True)\n",
    "target_valid_1 = target_valid_1.reset_index(drop=True)\n",
    "target_valid_2 = target_valid_2.reset_index(drop=True)"
   ]
  },
  {
   "cell_type": "markdown",
   "metadata": {},
   "source": [
    "Напишем функции для расчета прибыли и рисков."
   ]
  },
  {
   "cell_type": "code",
   "execution_count": 23,
   "metadata": {},
   "outputs": [
    {
     "data": {
      "text/plain": [
       "'Регион 0:'"
      ]
     },
     "metadata": {},
     "output_type": "display_data"
    },
    {
     "data": {
      "text/plain": [
       "'\\t Средняя прибыль: 0.42 млрд. руб.'"
      ]
     },
     "metadata": {},
     "output_type": "display_data"
    },
    {
     "data": {
      "text/plain": [
       "'\\t Доверительный интервал: -0.08'"
      ]
     },
     "metadata": {},
     "output_type": "display_data"
    },
    {
     "data": {
      "text/plain": [
       "'- 0.96 млрд. руб.'"
      ]
     },
     "metadata": {},
     "output_type": "display_data"
    },
    {
     "data": {
      "text/plain": [
       "'\\t Риск убытков: 4.80% \\n'"
      ]
     },
     "metadata": {},
     "output_type": "display_data"
    },
    {
     "data": {
      "text/plain": [
       "'Регион 1:'"
      ]
     },
     "metadata": {},
     "output_type": "display_data"
    },
    {
     "data": {
      "text/plain": [
       "'\\t Средняя прибыль: 0.51 млрд. руб.'"
      ]
     },
     "metadata": {},
     "output_type": "display_data"
    },
    {
     "data": {
      "text/plain": [
       "'\\t Доверительный интервал: 0.11'"
      ]
     },
     "metadata": {},
     "output_type": "display_data"
    },
    {
     "data": {
      "text/plain": [
       "'- 0.93 млрд. руб.'"
      ]
     },
     "metadata": {},
     "output_type": "display_data"
    },
    {
     "data": {
      "text/plain": [
       "'\\t Риск убытков: 0.60% \\n'"
      ]
     },
     "metadata": {},
     "output_type": "display_data"
    },
    {
     "data": {
      "text/plain": [
       "'Регион 2:'"
      ]
     },
     "metadata": {},
     "output_type": "display_data"
    },
    {
     "data": {
      "text/plain": [
       "'\\t Средняя прибыль: 0.38 млрд. руб.'"
      ]
     },
     "metadata": {},
     "output_type": "display_data"
    },
    {
     "data": {
      "text/plain": [
       "'\\t Доверительный интервал: -0.14'"
      ]
     },
     "metadata": {},
     "output_type": "display_data"
    },
    {
     "data": {
      "text/plain": [
       "'- 0.89 млрд. руб.'"
      ]
     },
     "metadata": {},
     "output_type": "display_data"
    },
    {
     "data": {
      "text/plain": [
       "'\\t Риск убытков: 7.40% \\n'"
      ]
     },
     "metadata": {},
     "output_type": "display_data"
    }
   ],
   "source": [
    "# Функция расчета прибыли\n",
    "def revenue(predict_subsample, target_subsample, count=BEST_POINTS):\n",
    "    predict_sorted = predict_subsample.sort_values(ascending=False)\n",
    "    selected = target_subsample[predict_sorted.index][:count]\n",
    "    value = (selected.sum() * BARREL_PRICE - INVESTMENT) / 1000000000\n",
    "    return value\n",
    "\n",
    "\n",
    "# Boostrap функция, расчет ключевых показателей\n",
    "def bootstrap(predictions_valid, target):\n",
    "    values = []\n",
    "    for i in range(1000):\n",
    "        target_subsample = target.sample(\n",
    "            n=RESEARCH_POINTS, replace=True, random_state=state)\n",
    "        predict_subsample = predictions_valid[target_subsample.index]\n",
    "        # Передача значений ф-ции revenue\n",
    "        values.append(revenue(predict_subsample, target_subsample))\n",
    "    values = pd.Series(values)\n",
    "    lower = values.quantile(0.025)\n",
    "    upper = values.quantile(0.975)\n",
    "    values_mean = values.mean()\n",
    "    values_loss = [num for num in values if num < 0]  # Список убытков\n",
    "    # Доля убытков в общем объеме значений прибыли\n",
    "    risk = len(values_loss) / len(values)\n",
    "    return lower, upper, values_mean, risk\n",
    "\n",
    "\n",
    "calculation_0 = bootstrap(predictions_valid_0, target_valid_0)\n",
    "calculation_1 = bootstrap(predictions_valid_1, target_valid_1)\n",
    "calculation_2 = bootstrap(predictions_valid_2, target_valid_2)\n",
    "\n",
    "calculation_list = [calculation_0, calculation_1, calculation_2]\n",
    "for i in range(len(calculation_list)):\n",
    "    display(f'Регион {i}:')\n",
    "    display(f'\\t Средняя прибыль: {calculation_list[i][2]:.2f} млрд. руб.')\n",
    "    display(f'\\t Доверительный интервал: {calculation_list[i][0]:.2f}',\n",
    "            f'- {calculation_list[i][1]:.2f} млрд. руб.')\n",
    "    display(f'\\t Риск убытков: {calculation_list[i][3]:.2%} \\n')"
   ]
  },
  {
   "cell_type": "markdown",
   "metadata": {},
   "source": [
    "# Вывод:\n",
    "Из расчитанной прибыли и рисков можно сделать следующие выводы:\n",
    "\n",
    "`Регион № 1:`\n",
    "     \n",
    "    Средняя прибыль по региону составляет 420 млн. руб., диапазон вириации прибыли составляет от убытка в 80 млн. руб. до прибыли в 960 млн. руб. Риск получить убыток составляет 4.80%.\n",
    "     \n",
    "`Регион № 2:`\n",
    "     \n",
    "    Средняя прибыль по региону составляет 510 млн. руб., диапазон вириации прибыли составляет от прибыли в 110 млн. руб. до прибыли в 930 млн. руб. Риск получить убыток составляет 0.60%.\n",
    "     \n",
    "`Регион № 3:`\n",
    "     \n",
    "    Средняя прибыль по региону составляет 380 млн. руб., диапазон вириации прибыли составляет от убытка в 140 млн. руб. до прибыли в 890 млн. руб. Риск получить убыток составляет 7.40%."
   ]
  },
  {
   "cell_type": "markdown",
   "metadata": {},
   "source": [
    "# Общий вывод:\n",
    "\n",
    "Входе исследовательского проекта для Нефтедобывающей компании «ГлавРосГосНефть» были получены три датасета с данными геологоразведки трёх регионов:\n",
    "\n",
    "- Из представленных данных определили, что мы имеем 100 тысяч различных данных геологической разведки по трем областям. Эти данные включают характеристики, описывающие отдельные скважины в уже исследованных областях, и ключевые показатели объема запасов нефти в каждой из них.\n",
    "\n",
    "- Проводя этап предобработки данных мы убедились, что данные не имеют пропусков и в целом достаточно чисты для обучения моделей машинного обучения.\n",
    "\n",
    "- Нами был проведен анализ нескольких нефтедобывающих регионов и изучены возможности разработки нефтяных месторождений в каждом из них. \n",
    "\n",
    "В результате анализа выяснилось, что:самым перспективным является `Регион №2`, который демонстрирует среднюю прибыль на уровне `510 миллионов рублей`, а безубыточный доверительный интервал составляет от `110 до 930 миллионов рублей`. Вероятность получения убытка в этом регионе сравнительно невелика – всего `0,60%`, что намного меньше, чем инвестиционная оценка риска в `2,5%`.\n",
    "\n",
    "Другие регионы имеют более высокую вероятность получения убытков. Учитывая результаты анализа, для разработки нефтяных месторождений рекомендуется выбрать `Регион №2.`    \n"
   ]
  }
 ],
 "metadata": {
  "ExecuteTimeLog": [
   {
    "duration": 134,
    "start_time": "2024-01-21T17:55:34.321Z"
   },
   {
    "duration": 57,
    "start_time": "2024-01-21T17:55:41.118Z"
   },
   {
    "duration": 383,
    "start_time": "2024-01-21T17:57:35.678Z"
   },
   {
    "duration": 30,
    "start_time": "2024-01-21T17:57:36.378Z"
   },
   {
    "duration": 96,
    "start_time": "2024-01-21T17:58:53.637Z"
   },
   {
    "duration": 75,
    "start_time": "2024-01-21T17:59:25.810Z"
   },
   {
    "duration": 798,
    "start_time": "2024-01-21T18:00:12.417Z"
   },
   {
    "duration": 16,
    "start_time": "2024-01-21T18:00:28.532Z"
   },
   {
    "duration": 11,
    "start_time": "2024-01-21T18:00:40.740Z"
   },
   {
    "duration": 8,
    "start_time": "2024-01-21T18:00:50.487Z"
   },
   {
    "duration": 10,
    "start_time": "2024-01-21T18:00:57.916Z"
   },
   {
    "duration": 16,
    "start_time": "2024-01-21T18:12:48.714Z"
   },
   {
    "duration": 16,
    "start_time": "2024-01-21T18:13:06.151Z"
   },
   {
    "duration": 22,
    "start_time": "2024-01-21T18:13:23.181Z"
   },
   {
    "duration": 24,
    "start_time": "2024-01-21T18:13:56.087Z"
   },
   {
    "duration": 36,
    "start_time": "2024-01-21T18:13:56.431Z"
   },
   {
    "duration": 23,
    "start_time": "2024-01-21T18:14:39.877Z"
   },
   {
    "duration": 22,
    "start_time": "2024-01-21T18:14:45.345Z"
   },
   {
    "duration": 24,
    "start_time": "2024-01-21T18:14:48.906Z"
   },
   {
    "duration": 54,
    "start_time": "2024-01-21T18:15:11.222Z"
   },
   {
    "duration": 23,
    "start_time": "2024-01-21T18:15:21.246Z"
   },
   {
    "duration": 2256,
    "start_time": "2024-01-21T18:16:02.565Z"
   },
   {
    "duration": 44,
    "start_time": "2024-01-21T18:23:13.375Z"
   },
   {
    "duration": 44,
    "start_time": "2024-01-21T18:24:09.409Z"
   },
   {
    "duration": 592,
    "start_time": "2024-01-21T18:48:11.823Z"
   },
   {
    "duration": 433,
    "start_time": "2024-01-21T18:48:12.417Z"
   },
   {
    "duration": 25,
    "start_time": "2024-01-21T18:48:12.852Z"
   },
   {
    "duration": 71,
    "start_time": "2024-01-21T18:48:12.880Z"
   },
   {
    "duration": 33,
    "start_time": "2024-01-21T18:48:12.954Z"
   },
   {
    "duration": 45,
    "start_time": "2024-01-21T18:48:13.102Z"
   },
   {
    "duration": 23,
    "start_time": "2024-01-21T18:48:13.312Z"
   },
   {
    "duration": 36,
    "start_time": "2024-01-21T18:48:13.518Z"
   },
   {
    "duration": 1770,
    "start_time": "2024-01-21T18:48:13.724Z"
   },
   {
    "duration": 3,
    "start_time": "2024-01-21T18:52:57.468Z"
   },
   {
    "duration": 599,
    "start_time": "2024-01-21T19:16:09.253Z"
   },
   {
    "duration": 455,
    "start_time": "2024-01-21T19:16:58.175Z"
   },
   {
    "duration": 542,
    "start_time": "2024-01-21T19:17:04.004Z"
   },
   {
    "duration": 487,
    "start_time": "2024-01-21T19:17:15.373Z"
   },
   {
    "duration": 462,
    "start_time": "2024-01-21T19:17:23.035Z"
   },
   {
    "duration": 427,
    "start_time": "2024-01-21T19:17:44.348Z"
   },
   {
    "duration": 427,
    "start_time": "2024-01-21T19:17:59.159Z"
   },
   {
    "duration": 72,
    "start_time": "2024-01-21T20:05:06.116Z"
   },
   {
    "duration": 111,
    "start_time": "2024-01-21T20:05:23.722Z"
   },
   {
    "duration": 103,
    "start_time": "2024-01-21T20:15:01.794Z"
   },
   {
    "duration": 9,
    "start_time": "2024-01-21T20:22:44.762Z"
   },
   {
    "duration": 491,
    "start_time": "2024-01-21T20:22:59.991Z"
   },
   {
    "duration": 267,
    "start_time": "2024-01-21T20:23:10.541Z"
   },
   {
    "duration": 4,
    "start_time": "2024-01-21T20:30:39.726Z"
   },
   {
    "duration": 6,
    "start_time": "2024-01-21T20:31:17.492Z"
   },
   {
    "duration": 86,
    "start_time": "2024-01-21T20:31:33.425Z"
   },
   {
    "duration": 6,
    "start_time": "2024-01-21T20:31:38.878Z"
   },
   {
    "duration": 12,
    "start_time": "2024-01-21T20:31:48.960Z"
   },
   {
    "duration": 7,
    "start_time": "2024-01-21T20:31:53.223Z"
   },
   {
    "duration": 7,
    "start_time": "2024-01-21T20:32:04.569Z"
   },
   {
    "duration": 5,
    "start_time": "2024-01-21T20:32:13.221Z"
   },
   {
    "duration": 159,
    "start_time": "2024-01-21T20:37:51.490Z"
   },
   {
    "duration": 227,
    "start_time": "2024-01-21T20:37:56.766Z"
   },
   {
    "duration": 267,
    "start_time": "2024-01-21T20:38:08.642Z"
   },
   {
    "duration": 249,
    "start_time": "2024-01-21T20:38:45.533Z"
   },
   {
    "duration": 156,
    "start_time": "2024-01-21T20:39:01.380Z"
   },
   {
    "duration": 8,
    "start_time": "2024-01-21T20:41:46.721Z"
   },
   {
    "duration": 4,
    "start_time": "2024-01-22T08:56:48.200Z"
   },
   {
    "duration": 93,
    "start_time": "2024-01-22T09:37:39.535Z"
   },
   {
    "duration": 45,
    "start_time": "2024-01-22T09:38:10.064Z"
   },
   {
    "duration": 1423,
    "start_time": "2024-01-22T09:38:17.555Z"
   },
   {
    "duration": 841,
    "start_time": "2024-01-22T09:38:18.980Z"
   },
   {
    "duration": 27,
    "start_time": "2024-01-22T09:38:19.822Z"
   },
   {
    "duration": 40,
    "start_time": "2024-01-22T09:38:19.851Z"
   },
   {
    "duration": 485,
    "start_time": "2024-01-22T09:38:19.893Z"
   },
   {
    "duration": 23,
    "start_time": "2024-01-22T09:38:20.380Z"
   },
   {
    "duration": 53,
    "start_time": "2024-01-22T09:38:20.404Z"
   },
   {
    "duration": 496,
    "start_time": "2024-01-22T09:38:20.459Z"
   },
   {
    "duration": 23,
    "start_time": "2024-01-22T09:38:20.957Z"
   },
   {
    "duration": 53,
    "start_time": "2024-01-22T09:38:20.982Z"
   },
   {
    "duration": 460,
    "start_time": "2024-01-22T09:38:21.037Z"
   },
   {
    "duration": 51,
    "start_time": "2024-01-22T09:38:29.322Z"
   },
   {
    "duration": 155,
    "start_time": "2024-01-22T09:38:47.489Z"
   },
   {
    "duration": 75,
    "start_time": "2024-01-22T09:38:55.795Z"
   },
   {
    "duration": 153,
    "start_time": "2024-01-22T09:39:26.264Z"
   },
   {
    "duration": 156,
    "start_time": "2024-01-22T09:41:56.840Z"
   },
   {
    "duration": 99,
    "start_time": "2024-01-22T09:42:21.247Z"
   },
   {
    "duration": 12,
    "start_time": "2024-01-22T09:44:47.669Z"
   },
   {
    "duration": 28,
    "start_time": "2024-01-22T09:45:14.959Z"
   },
   {
    "duration": 70,
    "start_time": "2024-01-22T09:47:55.094Z"
   },
   {
    "duration": 73,
    "start_time": "2024-01-22T09:48:10.512Z"
   },
   {
    "duration": 63,
    "start_time": "2024-01-22T09:49:03.261Z"
   },
   {
    "duration": 77,
    "start_time": "2024-01-22T09:51:03.095Z"
   },
   {
    "duration": 3,
    "start_time": "2024-01-22T09:57:24.281Z"
   },
   {
    "duration": 5,
    "start_time": "2024-01-22T09:57:42.800Z"
   },
   {
    "duration": 32,
    "start_time": "2024-01-22T09:59:50.369Z"
   },
   {
    "duration": 30,
    "start_time": "2024-01-22T10:01:04.397Z"
   },
   {
    "duration": 30,
    "start_time": "2024-01-22T10:01:22.165Z"
   },
   {
    "duration": 56,
    "start_time": "2024-01-22T10:19:08.960Z"
   },
   {
    "duration": 50,
    "start_time": "2024-01-22T10:19:31.567Z"
   },
   {
    "duration": 54,
    "start_time": "2024-01-22T10:19:36.633Z"
   },
   {
    "duration": 71,
    "start_time": "2024-01-22T10:30:31.027Z"
   },
   {
    "duration": 12,
    "start_time": "2024-01-22T10:30:51.688Z"
   },
   {
    "duration": 69,
    "start_time": "2024-01-22T10:30:58.708Z"
   },
   {
    "duration": 94,
    "start_time": "2024-01-22T10:31:04.529Z"
   },
   {
    "duration": 61,
    "start_time": "2024-01-22T10:31:32.633Z"
   },
   {
    "duration": 65,
    "start_time": "2024-01-22T10:51:13.571Z"
   },
   {
    "duration": 63,
    "start_time": "2024-01-22T11:01:21.833Z"
   },
   {
    "duration": 11,
    "start_time": "2024-01-22T11:01:35.554Z"
   },
   {
    "duration": 60,
    "start_time": "2024-01-22T11:01:52.005Z"
   },
   {
    "duration": 54,
    "start_time": "2024-01-22T11:02:09.515Z"
   },
   {
    "duration": 37,
    "start_time": "2024-01-22T11:02:17.950Z"
   },
   {
    "duration": 25,
    "start_time": "2024-01-22T11:02:28.767Z"
   },
   {
    "duration": 21,
    "start_time": "2024-01-22T11:27:24.175Z"
   },
   {
    "duration": 14,
    "start_time": "2024-01-22T11:27:58.039Z"
   },
   {
    "duration": 11,
    "start_time": "2024-01-22T11:28:11.454Z"
   },
   {
    "duration": 38,
    "start_time": "2024-01-22T11:29:44.621Z"
   },
   {
    "duration": 14,
    "start_time": "2024-01-22T11:36:58.132Z"
   },
   {
    "duration": 176,
    "start_time": "2024-01-22T11:37:11.154Z"
   },
   {
    "duration": 6,
    "start_time": "2024-01-22T11:37:49.865Z"
   },
   {
    "duration": 10,
    "start_time": "2024-01-22T11:39:46.920Z"
   },
   {
    "duration": 8,
    "start_time": "2024-01-22T11:39:53.356Z"
   },
   {
    "duration": 21,
    "start_time": "2024-01-22T11:40:01.774Z"
   },
   {
    "duration": 127,
    "start_time": "2024-01-22T11:41:15.547Z"
   },
   {
    "duration": 31,
    "start_time": "2024-01-22T11:41:58.482Z"
   },
   {
    "duration": 19,
    "start_time": "2024-01-22T11:42:10.803Z"
   },
   {
    "duration": 126,
    "start_time": "2024-01-22T11:50:34.341Z"
   },
   {
    "duration": 81,
    "start_time": "2024-01-22T11:50:46.073Z"
   },
   {
    "duration": 171,
    "start_time": "2024-01-22T12:07:43.675Z"
   },
   {
    "duration": 65,
    "start_time": "2024-01-22T12:07:44.954Z"
   },
   {
    "duration": 31,
    "start_time": "2024-01-22T12:08:40.766Z"
   },
   {
    "duration": 39,
    "start_time": "2024-01-22T12:08:55.976Z"
   },
   {
    "duration": 38,
    "start_time": "2024-01-22T12:09:01.999Z"
   },
   {
    "duration": 172,
    "start_time": "2024-01-22T12:58:44.080Z"
   },
   {
    "duration": 74,
    "start_time": "2024-01-22T12:58:44.522Z"
   },
   {
    "duration": 33,
    "start_time": "2024-01-22T12:58:45.234Z"
   },
   {
    "duration": 23,
    "start_time": "2024-01-22T13:37:51.213Z"
   },
   {
    "duration": 19,
    "start_time": "2024-01-22T13:39:29.104Z"
   },
   {
    "duration": 387,
    "start_time": "2024-01-22T13:40:01.080Z"
   },
   {
    "duration": 462,
    "start_time": "2024-01-22T13:40:01.470Z"
   },
   {
    "duration": 26,
    "start_time": "2024-01-22T13:40:01.933Z"
   },
   {
    "duration": 62,
    "start_time": "2024-01-22T13:40:01.962Z"
   },
   {
    "duration": 482,
    "start_time": "2024-01-22T13:40:02.026Z"
   },
   {
    "duration": 29,
    "start_time": "2024-01-22T13:40:02.510Z"
   },
   {
    "duration": 99,
    "start_time": "2024-01-22T13:40:02.541Z"
   },
   {
    "duration": 491,
    "start_time": "2024-01-22T13:40:02.642Z"
   },
   {
    "duration": 23,
    "start_time": "2024-01-22T13:40:03.134Z"
   },
   {
    "duration": 64,
    "start_time": "2024-01-22T13:40:03.160Z"
   },
   {
    "duration": 475,
    "start_time": "2024-01-22T13:40:03.225Z"
   },
   {
    "duration": 160,
    "start_time": "2024-01-22T13:40:03.702Z"
   },
   {
    "duration": 80,
    "start_time": "2024-01-22T13:40:03.864Z"
   },
   {
    "duration": 29,
    "start_time": "2024-01-22T13:40:03.946Z"
   },
   {
    "duration": 47,
    "start_time": "2024-01-22T13:40:03.977Z"
   },
   {
    "duration": 49,
    "start_time": "2024-01-22T13:40:04.026Z"
   },
   {
    "duration": 46,
    "start_time": "2024-01-22T13:42:05.895Z"
   },
   {
    "duration": 45,
    "start_time": "2024-01-22T13:42:14.255Z"
   },
   {
    "duration": 45,
    "start_time": "2024-01-22T14:34:22.365Z"
   },
   {
    "duration": 38,
    "start_time": "2024-01-22T14:35:33.618Z"
   },
   {
    "duration": 32,
    "start_time": "2024-01-22T14:38:35.574Z"
   },
   {
    "duration": 19,
    "start_time": "2024-01-22T14:39:09.943Z"
   },
   {
    "duration": 21,
    "start_time": "2024-01-22T14:39:34.646Z"
   },
   {
    "duration": 95,
    "start_time": "2024-01-22T14:39:47.274Z"
   },
   {
    "duration": 18,
    "start_time": "2024-01-22T14:39:56.146Z"
   },
   {
    "duration": 19,
    "start_time": "2024-01-22T14:41:18.277Z"
   },
   {
    "duration": 16,
    "start_time": "2024-01-22T14:41:21.158Z"
   },
   {
    "duration": 21,
    "start_time": "2024-01-22T14:41:21.480Z"
   },
   {
    "duration": 27,
    "start_time": "2024-01-22T14:44:19.694Z"
   },
   {
    "duration": 38,
    "start_time": "2024-01-22T14:44:29.989Z"
   },
   {
    "duration": 76,
    "start_time": "2024-01-22T14:44:50.987Z"
   },
   {
    "duration": 37,
    "start_time": "2024-01-22T14:45:09.974Z"
   },
   {
    "duration": 38,
    "start_time": "2024-01-22T14:46:24.105Z"
   },
   {
    "duration": 43,
    "start_time": "2024-01-22T14:46:36.556Z"
   },
   {
    "duration": 41,
    "start_time": "2024-01-22T14:48:03.127Z"
   },
   {
    "duration": 79,
    "start_time": "2024-01-22T14:51:42.800Z"
   },
   {
    "duration": 29,
    "start_time": "2024-01-22T14:52:47.113Z"
   },
   {
    "duration": 18,
    "start_time": "2024-01-22T14:53:32.365Z"
   },
   {
    "duration": 18,
    "start_time": "2024-01-22T14:53:52.894Z"
   },
   {
    "duration": 18,
    "start_time": "2024-01-22T14:55:13.635Z"
   },
   {
    "duration": 17,
    "start_time": "2024-01-22T14:55:14.499Z"
   },
   {
    "duration": 17,
    "start_time": "2024-01-22T14:55:16.616Z"
   },
   {
    "duration": 475,
    "start_time": "2024-01-22T18:01:36.899Z"
   },
   {
    "duration": 4,
    "start_time": "2024-01-22T18:05:01.706Z"
   },
   {
    "duration": 328,
    "start_time": "2024-01-22T18:05:19.616Z"
   },
   {
    "duration": 8,
    "start_time": "2024-01-22T18:05:41.175Z"
   },
   {
    "duration": 184,
    "start_time": "2024-01-22T18:07:39.931Z"
   },
   {
    "duration": 5,
    "start_time": "2024-01-22T18:07:59.374Z"
   },
   {
    "duration": 69,
    "start_time": "2024-01-22T18:08:09.012Z"
   },
   {
    "duration": 4281,
    "start_time": "2024-01-22T18:08:28.855Z"
   },
   {
    "duration": 51,
    "start_time": "2024-01-23T10:39:19.379Z"
   },
   {
    "duration": 6,
    "start_time": "2024-01-23T10:39:25.183Z"
   },
   {
    "duration": 10,
    "start_time": "2024-01-23T10:39:26.149Z"
   },
   {
    "duration": 1900,
    "start_time": "2024-01-23T10:39:36.310Z"
   },
   {
    "duration": 836,
    "start_time": "2024-01-23T10:39:38.211Z"
   },
   {
    "duration": 32,
    "start_time": "2024-01-23T10:39:39.049Z"
   },
   {
    "duration": 37,
    "start_time": "2024-01-23T10:39:39.084Z"
   },
   {
    "duration": 460,
    "start_time": "2024-01-23T10:39:39.122Z"
   },
   {
    "duration": 21,
    "start_time": "2024-01-23T10:39:39.584Z"
   },
   {
    "duration": 35,
    "start_time": "2024-01-23T10:39:39.606Z"
   },
   {
    "duration": 519,
    "start_time": "2024-01-23T10:39:39.642Z"
   },
   {
    "duration": 29,
    "start_time": "2024-01-23T10:39:40.167Z"
   },
   {
    "duration": 34,
    "start_time": "2024-01-23T10:39:40.199Z"
   },
   {
    "duration": 435,
    "start_time": "2024-01-23T10:39:40.235Z"
   },
   {
    "duration": 130,
    "start_time": "2024-01-23T10:39:40.680Z"
   },
   {
    "duration": 72,
    "start_time": "2024-01-23T10:39:40.811Z"
   },
   {
    "duration": 24,
    "start_time": "2024-01-23T10:39:40.884Z"
   },
   {
    "duration": 16,
    "start_time": "2024-01-23T10:39:40.910Z"
   },
   {
    "duration": 91,
    "start_time": "2024-01-23T10:39:40.928Z"
   },
   {
    "duration": 68,
    "start_time": "2024-01-23T10:39:41.020Z"
   },
   {
    "duration": 103,
    "start_time": "2024-01-23T10:39:41.166Z"
   },
   {
    "duration": 110,
    "start_time": "2024-01-23T10:39:41.272Z"
   },
   {
    "duration": 80,
    "start_time": "2024-01-23T10:39:41.385Z"
   },
   {
    "duration": 98,
    "start_time": "2024-01-23T10:39:41.470Z"
   },
   {
    "duration": 5,
    "start_time": "2024-01-23T10:39:41.579Z"
   },
   {
    "duration": 92,
    "start_time": "2024-01-23T10:39:41.585Z"
   },
   {
    "duration": 26,
    "start_time": "2024-01-23T10:40:31.362Z"
   },
   {
    "duration": 4,
    "start_time": "2024-01-23T10:40:40.793Z"
   },
   {
    "duration": 433,
    "start_time": "2024-01-23T10:40:40.798Z"
   },
   {
    "duration": 21,
    "start_time": "2024-01-23T10:40:41.233Z"
   },
   {
    "duration": 46,
    "start_time": "2024-01-23T10:40:41.255Z"
   },
   {
    "duration": 443,
    "start_time": "2024-01-23T10:40:41.303Z"
   },
   {
    "duration": 36,
    "start_time": "2024-01-23T10:40:41.748Z"
   },
   {
    "duration": 37,
    "start_time": "2024-01-23T10:40:41.786Z"
   },
   {
    "duration": 423,
    "start_time": "2024-01-23T10:40:41.825Z"
   },
   {
    "duration": 33,
    "start_time": "2024-01-23T10:40:42.250Z"
   },
   {
    "duration": 34,
    "start_time": "2024-01-23T10:40:42.285Z"
   },
   {
    "duration": 431,
    "start_time": "2024-01-23T10:40:42.320Z"
   },
   {
    "duration": 129,
    "start_time": "2024-01-23T10:40:42.753Z"
   },
   {
    "duration": 48,
    "start_time": "2024-01-23T10:40:42.884Z"
   },
   {
    "duration": 51,
    "start_time": "2024-01-23T10:40:42.933Z"
   },
   {
    "duration": 14,
    "start_time": "2024-01-23T10:40:42.985Z"
   },
   {
    "duration": 68,
    "start_time": "2024-01-23T10:40:43.001Z"
   },
   {
    "duration": 19,
    "start_time": "2024-01-23T10:40:43.071Z"
   },
   {
    "duration": 97,
    "start_time": "2024-01-23T10:40:43.176Z"
   },
   {
    "duration": 107,
    "start_time": "2024-01-23T10:40:43.275Z"
   },
   {
    "duration": 14,
    "start_time": "2024-01-23T10:40:43.468Z"
   },
   {
    "duration": 94,
    "start_time": "2024-01-23T10:40:43.484Z"
   },
   {
    "duration": 10,
    "start_time": "2024-01-23T10:40:43.580Z"
   },
   {
    "duration": 17,
    "start_time": "2024-01-23T10:40:43.592Z"
   },
   {
    "duration": 16,
    "start_time": "2024-01-23T10:41:03.797Z"
   },
   {
    "duration": 16,
    "start_time": "2024-01-23T10:41:44.206Z"
   },
   {
    "duration": 5,
    "start_time": "2024-01-23T10:42:11.984Z"
   },
   {
    "duration": 16,
    "start_time": "2024-01-23T10:42:12.703Z"
   },
   {
    "duration": 3,
    "start_time": "2024-01-23T10:42:16.807Z"
   },
   {
    "duration": 410,
    "start_time": "2024-01-23T10:42:16.812Z"
   },
   {
    "duration": 21,
    "start_time": "2024-01-23T10:42:17.223Z"
   },
   {
    "duration": 66,
    "start_time": "2024-01-23T10:42:17.246Z"
   },
   {
    "duration": 524,
    "start_time": "2024-01-23T10:42:17.314Z"
   },
   {
    "duration": 30,
    "start_time": "2024-01-23T10:42:17.839Z"
   },
   {
    "duration": 34,
    "start_time": "2024-01-23T10:42:17.871Z"
   },
   {
    "duration": 401,
    "start_time": "2024-01-23T10:42:17.907Z"
   },
   {
    "duration": 21,
    "start_time": "2024-01-23T10:42:18.310Z"
   },
   {
    "duration": 52,
    "start_time": "2024-01-23T10:42:18.332Z"
   },
   {
    "duration": 399,
    "start_time": "2024-01-23T10:42:18.386Z"
   },
   {
    "duration": 122,
    "start_time": "2024-01-23T10:42:18.787Z"
   },
   {
    "duration": 79,
    "start_time": "2024-01-23T10:42:18.911Z"
   },
   {
    "duration": 25,
    "start_time": "2024-01-23T10:42:18.992Z"
   },
   {
    "duration": 12,
    "start_time": "2024-01-23T10:42:19.019Z"
   },
   {
    "duration": 63,
    "start_time": "2024-01-23T10:42:19.033Z"
   },
   {
    "duration": 73,
    "start_time": "2024-01-23T10:42:19.097Z"
   },
   {
    "duration": 106,
    "start_time": "2024-01-23T10:42:19.172Z"
   },
   {
    "duration": 115,
    "start_time": "2024-01-23T10:42:19.364Z"
   },
   {
    "duration": 88,
    "start_time": "2024-01-23T10:42:19.482Z"
   },
   {
    "duration": 97,
    "start_time": "2024-01-23T10:42:19.573Z"
   },
   {
    "duration": 24,
    "start_time": "2024-01-23T10:42:19.671Z"
   },
   {
    "duration": 16,
    "start_time": "2024-01-23T10:42:19.696Z"
   },
   {
    "duration": 4595,
    "start_time": "2024-01-23T10:43:21.000Z"
   },
   {
    "duration": 3,
    "start_time": "2024-01-23T10:47:48.994Z"
   },
   {
    "duration": 418,
    "start_time": "2024-01-23T10:47:48.999Z"
   },
   {
    "duration": 19,
    "start_time": "2024-01-23T10:47:49.419Z"
   },
   {
    "duration": 43,
    "start_time": "2024-01-23T10:47:49.440Z"
   },
   {
    "duration": 430,
    "start_time": "2024-01-23T10:47:49.484Z"
   },
   {
    "duration": 20,
    "start_time": "2024-01-23T10:47:49.915Z"
   },
   {
    "duration": 50,
    "start_time": "2024-01-23T10:47:49.936Z"
   },
   {
    "duration": 399,
    "start_time": "2024-01-23T10:47:49.988Z"
   },
   {
    "duration": 19,
    "start_time": "2024-01-23T10:47:50.390Z"
   },
   {
    "duration": 33,
    "start_time": "2024-01-23T10:47:50.410Z"
   },
   {
    "duration": 507,
    "start_time": "2024-01-23T10:47:50.444Z"
   },
   {
    "duration": 121,
    "start_time": "2024-01-23T10:47:50.953Z"
   },
   {
    "duration": 53,
    "start_time": "2024-01-23T10:47:51.076Z"
   },
   {
    "duration": 43,
    "start_time": "2024-01-23T10:47:51.130Z"
   },
   {
    "duration": 13,
    "start_time": "2024-01-23T10:47:51.174Z"
   },
   {
    "duration": 45,
    "start_time": "2024-01-23T10:47:51.189Z"
   },
   {
    "duration": 45,
    "start_time": "2024-01-23T10:47:51.236Z"
   },
   {
    "duration": 187,
    "start_time": "2024-01-23T10:47:51.283Z"
   },
   {
    "duration": 201,
    "start_time": "2024-01-23T10:47:51.472Z"
   },
   {
    "duration": 99,
    "start_time": "2024-01-23T10:47:51.675Z"
   },
   {
    "duration": 8,
    "start_time": "2024-01-23T10:47:51.776Z"
   },
   {
    "duration": 5,
    "start_time": "2024-01-23T10:47:51.786Z"
   },
   {
    "duration": 4382,
    "start_time": "2024-01-23T10:47:51.793Z"
   },
   {
    "duration": 1414,
    "start_time": "2024-01-23T10:48:12.406Z"
   },
   {
    "duration": 403,
    "start_time": "2024-01-23T10:48:13.823Z"
   },
   {
    "duration": 24,
    "start_time": "2024-01-23T10:48:14.228Z"
   },
   {
    "duration": 38,
    "start_time": "2024-01-23T10:48:14.254Z"
   },
   {
    "duration": 512,
    "start_time": "2024-01-23T10:48:14.294Z"
   },
   {
    "duration": 19,
    "start_time": "2024-01-23T10:48:14.808Z"
   },
   {
    "duration": 48,
    "start_time": "2024-01-23T10:48:14.829Z"
   },
   {
    "duration": 403,
    "start_time": "2024-01-23T10:48:14.879Z"
   },
   {
    "duration": 22,
    "start_time": "2024-01-23T10:48:15.284Z"
   },
   {
    "duration": 42,
    "start_time": "2024-01-23T10:48:15.309Z"
   },
   {
    "duration": 474,
    "start_time": "2024-01-23T10:48:15.364Z"
   },
   {
    "duration": 130,
    "start_time": "2024-01-23T10:48:15.840Z"
   },
   {
    "duration": 50,
    "start_time": "2024-01-23T10:48:15.971Z"
   },
   {
    "duration": 43,
    "start_time": "2024-01-23T10:48:16.022Z"
   },
   {
    "duration": 25,
    "start_time": "2024-01-23T10:48:16.066Z"
   },
   {
    "duration": 43,
    "start_time": "2024-01-23T10:48:16.093Z"
   },
   {
    "duration": 48,
    "start_time": "2024-01-23T10:48:16.137Z"
   },
   {
    "duration": 185,
    "start_time": "2024-01-23T10:48:16.186Z"
   },
   {
    "duration": 109,
    "start_time": "2024-01-23T10:48:16.464Z"
   },
   {
    "duration": 91,
    "start_time": "2024-01-23T10:48:16.575Z"
   },
   {
    "duration": 100,
    "start_time": "2024-01-23T10:48:16.670Z"
   },
   {
    "duration": 5,
    "start_time": "2024-01-23T10:48:16.772Z"
   },
   {
    "duration": 4519,
    "start_time": "2024-01-23T10:48:16.779Z"
   },
   {
    "duration": 1342,
    "start_time": "2024-01-23T10:50:51.557Z"
   },
   {
    "duration": 398,
    "start_time": "2024-01-23T10:50:52.901Z"
   },
   {
    "duration": 26,
    "start_time": "2024-01-23T10:50:53.301Z"
   },
   {
    "duration": 51,
    "start_time": "2024-01-23T10:50:53.329Z"
   },
   {
    "duration": 464,
    "start_time": "2024-01-23T10:50:53.382Z"
   },
   {
    "duration": 31,
    "start_time": "2024-01-23T10:50:53.847Z"
   },
   {
    "duration": 34,
    "start_time": "2024-01-23T10:50:53.879Z"
   },
   {
    "duration": 424,
    "start_time": "2024-01-23T10:50:53.914Z"
   },
   {
    "duration": 27,
    "start_time": "2024-01-23T10:50:54.339Z"
   },
   {
    "duration": 36,
    "start_time": "2024-01-23T10:50:54.369Z"
   },
   {
    "duration": 473,
    "start_time": "2024-01-23T10:50:54.406Z"
   },
   {
    "duration": 135,
    "start_time": "2024-01-23T10:50:54.880Z"
   },
   {
    "duration": 71,
    "start_time": "2024-01-23T10:50:55.017Z"
   },
   {
    "duration": 25,
    "start_time": "2024-01-23T10:50:55.090Z"
   },
   {
    "duration": 16,
    "start_time": "2024-01-23T10:50:55.116Z"
   },
   {
    "duration": 72,
    "start_time": "2024-01-23T10:50:55.134Z"
   },
   {
    "duration": 65,
    "start_time": "2024-01-23T10:50:55.208Z"
   },
   {
    "duration": 106,
    "start_time": "2024-01-23T10:50:55.275Z"
   },
   {
    "duration": 201,
    "start_time": "2024-01-23T10:50:55.466Z"
   },
   {
    "duration": 4,
    "start_time": "2024-01-23T10:50:55.669Z"
   },
   {
    "duration": 115,
    "start_time": "2024-01-23T10:50:55.675Z"
   },
   {
    "duration": 14,
    "start_time": "2024-01-23T10:50:55.792Z"
   },
   {
    "duration": 4064,
    "start_time": "2024-01-23T10:50:55.808Z"
   },
   {
    "duration": 83,
    "start_time": "2024-01-23T10:59:13.694Z"
   },
   {
    "duration": 3,
    "start_time": "2024-01-23T11:04:59.283Z"
   },
   {
    "duration": 416,
    "start_time": "2024-01-23T11:04:59.288Z"
   },
   {
    "duration": 21,
    "start_time": "2024-01-23T11:04:59.706Z"
   },
   {
    "duration": 51,
    "start_time": "2024-01-23T11:04:59.728Z"
   },
   {
    "duration": 435,
    "start_time": "2024-01-23T11:04:59.780Z"
   },
   {
    "duration": 19,
    "start_time": "2024-01-23T11:05:00.217Z"
   },
   {
    "duration": 69,
    "start_time": "2024-01-23T11:05:00.238Z"
   },
   {
    "duration": 437,
    "start_time": "2024-01-23T11:05:00.309Z"
   },
   {
    "duration": 27,
    "start_time": "2024-01-23T11:05:00.749Z"
   },
   {
    "duration": 69,
    "start_time": "2024-01-23T11:05:00.777Z"
   },
   {
    "duration": 417,
    "start_time": "2024-01-23T11:05:00.848Z"
   },
   {
    "duration": 137,
    "start_time": "2024-01-23T11:05:01.266Z"
   },
   {
    "duration": 64,
    "start_time": "2024-01-23T11:05:01.405Z"
   },
   {
    "duration": 39,
    "start_time": "2024-01-23T11:05:01.470Z"
   },
   {
    "duration": 148,
    "start_time": "2024-01-23T11:05:01.511Z"
   },
   {
    "duration": 219,
    "start_time": "2024-01-23T11:05:01.661Z"
   },
   {
    "duration": 131,
    "start_time": "2024-01-23T11:05:01.881Z"
   },
   {
    "duration": 167,
    "start_time": "2024-01-23T11:05:02.014Z"
   },
   {
    "duration": 197,
    "start_time": "2024-01-23T11:05:02.183Z"
   },
   {
    "duration": 91,
    "start_time": "2024-01-23T11:05:02.474Z"
   },
   {
    "duration": 9,
    "start_time": "2024-01-23T11:05:02.567Z"
   },
   {
    "duration": 5,
    "start_time": "2024-01-23T11:05:02.578Z"
   },
   {
    "duration": 3882,
    "start_time": "2024-01-23T11:05:02.585Z"
   },
   {
    "duration": 120,
    "start_time": "2024-01-23T11:07:33.690Z"
   },
   {
    "duration": 120,
    "start_time": "2024-01-23T11:09:23.819Z"
   },
   {
    "duration": 4,
    "start_time": "2024-01-23T11:51:30.509Z"
   },
   {
    "duration": 457,
    "start_time": "2024-01-23T11:51:30.515Z"
   },
   {
    "duration": 22,
    "start_time": "2024-01-23T11:51:30.974Z"
   },
   {
    "duration": 55,
    "start_time": "2024-01-23T11:51:30.998Z"
   },
   {
    "duration": 422,
    "start_time": "2024-01-23T11:51:31.055Z"
   },
   {
    "duration": 20,
    "start_time": "2024-01-23T11:51:31.479Z"
   },
   {
    "duration": 45,
    "start_time": "2024-01-23T11:51:31.500Z"
   },
   {
    "duration": 521,
    "start_time": "2024-01-23T11:51:31.547Z"
   },
   {
    "duration": 20,
    "start_time": "2024-01-23T11:51:32.071Z"
   },
   {
    "duration": 34,
    "start_time": "2024-01-23T11:51:32.092Z"
   },
   {
    "duration": 431,
    "start_time": "2024-01-23T11:51:32.127Z"
   },
   {
    "duration": 123,
    "start_time": "2024-01-23T11:51:32.564Z"
   },
   {
    "duration": 55,
    "start_time": "2024-01-23T11:51:32.689Z"
   },
   {
    "duration": 42,
    "start_time": "2024-01-23T11:51:32.746Z"
   },
   {
    "duration": 15,
    "start_time": "2024-01-23T11:51:32.789Z"
   },
   {
    "duration": 67,
    "start_time": "2024-01-23T11:51:32.805Z"
   },
   {
    "duration": 96,
    "start_time": "2024-01-23T11:51:32.873Z"
   },
   {
    "duration": 105,
    "start_time": "2024-01-23T11:51:32.972Z"
   },
   {
    "duration": 196,
    "start_time": "2024-01-23T11:51:33.079Z"
   },
   {
    "duration": 5,
    "start_time": "2024-01-23T11:51:33.364Z"
   },
   {
    "duration": 12,
    "start_time": "2024-01-23T11:51:33.370Z"
   },
   {
    "duration": 7,
    "start_time": "2024-01-23T11:51:33.384Z"
   },
   {
    "duration": 3949,
    "start_time": "2024-01-23T11:51:33.392Z"
   },
   {
    "duration": 4,
    "start_time": "2024-01-23T11:56:34.269Z"
   },
   {
    "duration": 390,
    "start_time": "2024-01-23T11:56:34.275Z"
   },
   {
    "duration": 21,
    "start_time": "2024-01-23T11:56:34.666Z"
   },
   {
    "duration": 35,
    "start_time": "2024-01-23T11:56:34.690Z"
   },
   {
    "duration": 431,
    "start_time": "2024-01-23T11:56:34.726Z"
   },
   {
    "duration": 22,
    "start_time": "2024-01-23T11:56:35.159Z"
   },
   {
    "duration": 37,
    "start_time": "2024-01-23T11:56:35.183Z"
   },
   {
    "duration": 419,
    "start_time": "2024-01-23T11:56:35.222Z"
   },
   {
    "duration": 30,
    "start_time": "2024-01-23T11:56:35.642Z"
   },
   {
    "duration": 35,
    "start_time": "2024-01-23T11:56:35.674Z"
   },
   {
    "duration": 404,
    "start_time": "2024-01-23T11:56:35.711Z"
   },
   {
    "duration": 131,
    "start_time": "2024-01-23T11:56:36.117Z"
   },
   {
    "duration": 61,
    "start_time": "2024-01-23T11:56:36.250Z"
   },
   {
    "duration": 25,
    "start_time": "2024-01-23T11:56:36.312Z"
   },
   {
    "duration": 37,
    "start_time": "2024-01-23T11:56:36.338Z"
   },
   {
    "duration": 38,
    "start_time": "2024-01-23T11:56:36.377Z"
   },
   {
    "duration": 53,
    "start_time": "2024-01-23T11:56:36.417Z"
   },
   {
    "duration": 108,
    "start_time": "2024-01-23T11:56:36.471Z"
   },
   {
    "duration": 109,
    "start_time": "2024-01-23T11:56:36.667Z"
   },
   {
    "duration": 3,
    "start_time": "2024-01-23T11:56:36.778Z"
   },
   {
    "duration": 101,
    "start_time": "2024-01-23T11:56:36.867Z"
   },
   {
    "duration": 4,
    "start_time": "2024-01-23T11:56:36.970Z"
   },
   {
    "duration": 4103,
    "start_time": "2024-01-23T11:56:36.976Z"
   },
   {
    "duration": 3,
    "start_time": "2024-01-23T11:59:06.554Z"
   },
   {
    "duration": 3,
    "start_time": "2024-01-23T11:59:09.688Z"
   },
   {
    "duration": 390,
    "start_time": "2024-01-23T11:59:09.692Z"
   },
   {
    "duration": 20,
    "start_time": "2024-01-23T11:59:10.084Z"
   },
   {
    "duration": 35,
    "start_time": "2024-01-23T11:59:10.106Z"
   },
   {
    "duration": 423,
    "start_time": "2024-01-23T11:59:10.142Z"
   },
   {
    "duration": 24,
    "start_time": "2024-01-23T11:59:10.567Z"
   },
   {
    "duration": 35,
    "start_time": "2024-01-23T11:59:10.593Z"
   },
   {
    "duration": 427,
    "start_time": "2024-01-23T11:59:10.629Z"
   },
   {
    "duration": 24,
    "start_time": "2024-01-23T11:59:11.058Z"
   },
   {
    "duration": 36,
    "start_time": "2024-01-23T11:59:11.083Z"
   },
   {
    "duration": 417,
    "start_time": "2024-01-23T11:59:11.120Z"
   },
   {
    "duration": 127,
    "start_time": "2024-01-23T11:59:11.538Z"
   },
   {
    "duration": 58,
    "start_time": "2024-01-23T11:59:11.667Z"
   },
   {
    "duration": 44,
    "start_time": "2024-01-23T11:59:11.727Z"
   },
   {
    "duration": 14,
    "start_time": "2024-01-23T11:59:11.772Z"
   },
   {
    "duration": 34,
    "start_time": "2024-01-23T11:59:11.787Z"
   },
   {
    "duration": 56,
    "start_time": "2024-01-23T11:59:11.822Z"
   },
   {
    "duration": 188,
    "start_time": "2024-01-23T11:59:11.880Z"
   },
   {
    "duration": 102,
    "start_time": "2024-01-23T11:59:12.070Z"
   },
   {
    "duration": 91,
    "start_time": "2024-01-23T11:59:12.175Z"
   },
   {
    "duration": 96,
    "start_time": "2024-01-23T11:59:12.268Z"
   },
   {
    "duration": 5,
    "start_time": "2024-01-23T11:59:12.366Z"
   },
   {
    "duration": 3896,
    "start_time": "2024-01-23T11:59:12.372Z"
   },
   {
    "duration": 1089,
    "start_time": "2024-01-23T12:00:15.600Z"
   },
   {
    "duration": 416,
    "start_time": "2024-01-23T12:00:16.691Z"
   },
   {
    "duration": 26,
    "start_time": "2024-01-23T12:00:17.109Z"
   },
   {
    "duration": 41,
    "start_time": "2024-01-23T12:00:17.137Z"
   },
   {
    "duration": 800,
    "start_time": "2024-01-23T12:00:17.179Z"
   },
   {
    "duration": 0,
    "start_time": "2024-01-23T12:00:17.981Z"
   },
   {
    "duration": 0,
    "start_time": "2024-01-23T12:00:17.982Z"
   },
   {
    "duration": 1,
    "start_time": "2024-01-23T12:00:17.983Z"
   },
   {
    "duration": 0,
    "start_time": "2024-01-23T12:00:17.984Z"
   },
   {
    "duration": 0,
    "start_time": "2024-01-23T12:00:17.986Z"
   },
   {
    "duration": 0,
    "start_time": "2024-01-23T12:00:17.987Z"
   },
   {
    "duration": 0,
    "start_time": "2024-01-23T12:00:17.987Z"
   },
   {
    "duration": 0,
    "start_time": "2024-01-23T12:00:17.989Z"
   },
   {
    "duration": 0,
    "start_time": "2024-01-23T12:00:17.990Z"
   },
   {
    "duration": 0,
    "start_time": "2024-01-23T12:00:17.991Z"
   },
   {
    "duration": 1,
    "start_time": "2024-01-23T12:00:17.991Z"
   },
   {
    "duration": 0,
    "start_time": "2024-01-23T12:00:17.992Z"
   },
   {
    "duration": 1,
    "start_time": "2024-01-23T12:00:17.993Z"
   },
   {
    "duration": 0,
    "start_time": "2024-01-23T12:00:17.995Z"
   },
   {
    "duration": 0,
    "start_time": "2024-01-23T12:00:17.995Z"
   },
   {
    "duration": 0,
    "start_time": "2024-01-23T12:00:17.996Z"
   },
   {
    "duration": 0,
    "start_time": "2024-01-23T12:00:17.997Z"
   },
   {
    "duration": 0,
    "start_time": "2024-01-23T12:00:17.998Z"
   },
   {
    "duration": 1352,
    "start_time": "2024-01-23T12:01:52.672Z"
   },
   {
    "duration": 397,
    "start_time": "2024-01-23T12:01:54.026Z"
   },
   {
    "duration": 27,
    "start_time": "2024-01-23T12:01:54.425Z"
   },
   {
    "duration": 47,
    "start_time": "2024-01-23T12:01:54.453Z"
   },
   {
    "duration": 417,
    "start_time": "2024-01-23T12:01:54.501Z"
   },
   {
    "duration": 21,
    "start_time": "2024-01-23T12:01:54.919Z"
   },
   {
    "duration": 49,
    "start_time": "2024-01-23T12:01:54.941Z"
   },
   {
    "duration": 415,
    "start_time": "2024-01-23T12:01:54.991Z"
   },
   {
    "duration": 20,
    "start_time": "2024-01-23T12:01:55.408Z"
   },
   {
    "duration": 48,
    "start_time": "2024-01-23T12:01:55.430Z"
   },
   {
    "duration": 468,
    "start_time": "2024-01-23T12:01:55.480Z"
   },
   {
    "duration": 125,
    "start_time": "2024-01-23T12:01:55.949Z"
   },
   {
    "duration": 54,
    "start_time": "2024-01-23T12:01:56.076Z"
   },
   {
    "duration": 42,
    "start_time": "2024-01-23T12:01:56.132Z"
   },
   {
    "duration": 14,
    "start_time": "2024-01-23T12:01:56.176Z"
   },
   {
    "duration": 118,
    "start_time": "2024-01-23T12:01:56.191Z"
   },
   {
    "duration": 0,
    "start_time": "2024-01-23T12:01:56.310Z"
   },
   {
    "duration": 0,
    "start_time": "2024-01-23T12:01:56.311Z"
   },
   {
    "duration": 0,
    "start_time": "2024-01-23T12:01:56.312Z"
   },
   {
    "duration": 0,
    "start_time": "2024-01-23T12:01:56.313Z"
   },
   {
    "duration": 0,
    "start_time": "2024-01-23T12:01:56.314Z"
   },
   {
    "duration": 0,
    "start_time": "2024-01-23T12:01:56.315Z"
   },
   {
    "duration": 0,
    "start_time": "2024-01-23T12:01:56.316Z"
   },
   {
    "duration": 1389,
    "start_time": "2024-01-23T12:03:20.168Z"
   },
   {
    "duration": 410,
    "start_time": "2024-01-23T12:03:21.558Z"
   },
   {
    "duration": 26,
    "start_time": "2024-01-23T12:03:21.969Z"
   },
   {
    "duration": 38,
    "start_time": "2024-01-23T12:03:21.997Z"
   },
   {
    "duration": 467,
    "start_time": "2024-01-23T12:03:22.036Z"
   },
   {
    "duration": 20,
    "start_time": "2024-01-23T12:03:22.505Z"
   },
   {
    "duration": 48,
    "start_time": "2024-01-23T12:03:22.526Z"
   },
   {
    "duration": 396,
    "start_time": "2024-01-23T12:03:22.575Z"
   },
   {
    "duration": 22,
    "start_time": "2024-01-23T12:03:22.972Z"
   },
   {
    "duration": 34,
    "start_time": "2024-01-23T12:03:22.996Z"
   },
   {
    "duration": 491,
    "start_time": "2024-01-23T12:03:23.031Z"
   },
   {
    "duration": 128,
    "start_time": "2024-01-23T12:03:23.524Z"
   },
   {
    "duration": 61,
    "start_time": "2024-01-23T12:03:23.653Z"
   },
   {
    "duration": 24,
    "start_time": "2024-01-23T12:03:23.715Z"
   },
   {
    "duration": 38,
    "start_time": "2024-01-23T12:03:23.741Z"
   },
   {
    "duration": 43,
    "start_time": "2024-01-23T12:03:23.781Z"
   },
   {
    "duration": 54,
    "start_time": "2024-01-23T12:03:23.826Z"
   },
   {
    "duration": 189,
    "start_time": "2024-01-23T12:03:23.881Z"
   },
   {
    "duration": 196,
    "start_time": "2024-01-23T12:03:24.072Z"
   },
   {
    "duration": 3,
    "start_time": "2024-01-23T12:03:24.270Z"
   },
   {
    "duration": 7,
    "start_time": "2024-01-23T12:03:24.365Z"
   },
   {
    "duration": 5,
    "start_time": "2024-01-23T12:03:24.374Z"
   },
   {
    "duration": 3864,
    "start_time": "2024-01-23T12:03:24.380Z"
   },
   {
    "duration": 69,
    "start_time": "2024-01-24T14:10:34.827Z"
   }
  ],
  "kernelspec": {
   "display_name": "Python 3 (ipykernel)",
   "language": "python",
   "name": "python3"
  },
  "language_info": {
   "codemirror_mode": {
    "name": "ipython",
    "version": 3
   },
   "file_extension": ".py",
   "mimetype": "text/x-python",
   "name": "python",
   "nbconvert_exporter": "python",
   "pygments_lexer": "ipython3",
   "version": "3.11.3"
  },
  "toc": {
   "base_numbering": 1,
   "nav_menu": {},
   "number_sections": true,
   "sideBar": true,
   "skip_h1_title": true,
   "title_cell": "Table of Contents",
   "title_sidebar": "Contents",
   "toc_cell": false,
   "toc_position": {},
   "toc_section_display": true,
   "toc_window_display": false
  }
 },
 "nbformat": 4,
 "nbformat_minor": 2
}
