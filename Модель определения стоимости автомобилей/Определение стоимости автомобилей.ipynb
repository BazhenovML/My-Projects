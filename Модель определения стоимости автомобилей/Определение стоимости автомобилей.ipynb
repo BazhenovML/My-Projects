{
 "cells": [
  {
   "cell_type": "markdown",
   "metadata": {},
   "source": [
    "# Проект: Определение стоимости автомобилей"
   ]
  },
  {
   "cell_type": "markdown",
   "metadata": {},
   "source": [
    "Сервис по продаже автомобилей с пробегом «Не бит, не крашен» разрабатывает приложение, чтобы привлечь новых клиентов. В нём можно будет узнать рыночную стоимость своего автомобиля. \n",
    "Постройте модель, которая умеет её определять. В вашем распоряжении данные о технических характеристиках, комплектации и ценах других автомобилей.\n",
    "\n",
    "Критерии важные заказчику:\n",
    "\n",
    "- качество предсказания;\n",
    "- время обучения;\n",
    "- скорость предсказания.\n",
    "\n",
    "**Цель проекта:** разработать модель машинного обучения способную наилучшим образом предсказать рыночную стоимость автомобиля."
   ]
  },
  {
   "cell_type": "markdown",
   "metadata": {},
   "source": [
    "## Обзор данных"
   ]
  },
  {
   "cell_type": "markdown",
   "metadata": {},
   "source": [
    "Импортируем библиотеки и подробнее изучим данные."
   ]
  },
  {
   "cell_type": "markdown",
   "metadata": {},
   "source": [
    "### Импортируем данные"
   ]
  },
  {
   "cell_type": "code",
   "execution_count": 46,
   "metadata": {},
   "outputs": [],
   "source": [
    "# Импорт стандартных библиотек\n",
    "import pandas as pd\n",
    "from sklearn.metrics import mean_squared_error\n",
    "from sklearn.tree import DecisionTreeRegressor\n",
    "from sklearn.preprocessing import StandardScaler\n",
    "from sklearn.preprocessing import OrdinalEncoder\n",
    "from sklearn.model_selection import train_test_split\n",
    "\n",
    "# Импорт внешних библиотек\n",
    "from lightgbm import LGBMRegressor\n",
    "from catboost import CatBoostRegressor"
   ]
  },
  {
   "cell_type": "code",
   "execution_count": 47,
   "metadata": {},
   "outputs": [],
   "source": [
    "df = pd.read_csv('/datasets/autos.csv')"
   ]
  },
  {
   "cell_type": "markdown",
   "metadata": {},
   "source": [
    "### Обзор данных"
   ]
  },
  {
   "cell_type": "code",
   "execution_count": 48,
   "metadata": {
    "scrolled": true
   },
   "outputs": [
    {
     "name": "stdout",
     "output_type": "stream",
     "text": [
      "<class 'pandas.core.frame.DataFrame'>\n",
      "RangeIndex: 354369 entries, 0 to 354368\n",
      "Data columns (total 16 columns):\n",
      " #   Column             Non-Null Count   Dtype \n",
      "---  ------             --------------   ----- \n",
      " 0   DateCrawled        354369 non-null  object\n",
      " 1   Price              354369 non-null  int64 \n",
      " 2   VehicleType        316879 non-null  object\n",
      " 3   RegistrationYear   354369 non-null  int64 \n",
      " 4   Gearbox            334536 non-null  object\n",
      " 5   Power              354369 non-null  int64 \n",
      " 6   Model              334664 non-null  object\n",
      " 7   Kilometer          354369 non-null  int64 \n",
      " 8   RegistrationMonth  354369 non-null  int64 \n",
      " 9   FuelType           321474 non-null  object\n",
      " 10  Brand              354369 non-null  object\n",
      " 11  Repaired           283215 non-null  object\n",
      " 12  DateCreated        354369 non-null  object\n",
      " 13  NumberOfPictures   354369 non-null  int64 \n",
      " 14  PostalCode         354369 non-null  int64 \n",
      " 15  LastSeen           354369 non-null  object\n",
      "dtypes: int64(7), object(9)\n",
      "memory usage: 43.3+ MB\n"
     ]
    }
   ],
   "source": [
    "df.info()"
   ]
  },
  {
   "cell_type": "code",
   "execution_count": 49,
   "metadata": {},
   "outputs": [
    {
     "data": {
      "text/html": [
       "<div>\n",
       "<style scoped>\n",
       "    .dataframe tbody tr th:only-of-type {\n",
       "        vertical-align: middle;\n",
       "    }\n",
       "\n",
       "    .dataframe tbody tr th {\n",
       "        vertical-align: top;\n",
       "    }\n",
       "\n",
       "    .dataframe thead th {\n",
       "        text-align: right;\n",
       "    }\n",
       "</style>\n",
       "<table border=\"1\" class=\"dataframe\">\n",
       "  <thead>\n",
       "    <tr style=\"text-align: right;\">\n",
       "      <th></th>\n",
       "      <th>Price</th>\n",
       "      <th>RegistrationYear</th>\n",
       "      <th>Power</th>\n",
       "      <th>Kilometer</th>\n",
       "      <th>RegistrationMonth</th>\n",
       "      <th>NumberOfPictures</th>\n",
       "      <th>PostalCode</th>\n",
       "    </tr>\n",
       "  </thead>\n",
       "  <tbody>\n",
       "    <tr>\n",
       "      <th>count</th>\n",
       "      <td>354369.000000</td>\n",
       "      <td>354369.000000</td>\n",
       "      <td>354369.000000</td>\n",
       "      <td>354369.000000</td>\n",
       "      <td>354369.000000</td>\n",
       "      <td>354369.0</td>\n",
       "      <td>354369.000000</td>\n",
       "    </tr>\n",
       "    <tr>\n",
       "      <th>mean</th>\n",
       "      <td>4416.656776</td>\n",
       "      <td>2004.234448</td>\n",
       "      <td>110.094337</td>\n",
       "      <td>128211.172535</td>\n",
       "      <td>5.714645</td>\n",
       "      <td>0.0</td>\n",
       "      <td>50508.689087</td>\n",
       "    </tr>\n",
       "    <tr>\n",
       "      <th>std</th>\n",
       "      <td>4514.158514</td>\n",
       "      <td>90.227958</td>\n",
       "      <td>189.850405</td>\n",
       "      <td>37905.341530</td>\n",
       "      <td>3.726421</td>\n",
       "      <td>0.0</td>\n",
       "      <td>25783.096248</td>\n",
       "    </tr>\n",
       "    <tr>\n",
       "      <th>min</th>\n",
       "      <td>0.000000</td>\n",
       "      <td>1000.000000</td>\n",
       "      <td>0.000000</td>\n",
       "      <td>5000.000000</td>\n",
       "      <td>0.000000</td>\n",
       "      <td>0.0</td>\n",
       "      <td>1067.000000</td>\n",
       "    </tr>\n",
       "    <tr>\n",
       "      <th>25%</th>\n",
       "      <td>1050.000000</td>\n",
       "      <td>1999.000000</td>\n",
       "      <td>69.000000</td>\n",
       "      <td>125000.000000</td>\n",
       "      <td>3.000000</td>\n",
       "      <td>0.0</td>\n",
       "      <td>30165.000000</td>\n",
       "    </tr>\n",
       "    <tr>\n",
       "      <th>50%</th>\n",
       "      <td>2700.000000</td>\n",
       "      <td>2003.000000</td>\n",
       "      <td>105.000000</td>\n",
       "      <td>150000.000000</td>\n",
       "      <td>6.000000</td>\n",
       "      <td>0.0</td>\n",
       "      <td>49413.000000</td>\n",
       "    </tr>\n",
       "    <tr>\n",
       "      <th>75%</th>\n",
       "      <td>6400.000000</td>\n",
       "      <td>2008.000000</td>\n",
       "      <td>143.000000</td>\n",
       "      <td>150000.000000</td>\n",
       "      <td>9.000000</td>\n",
       "      <td>0.0</td>\n",
       "      <td>71083.000000</td>\n",
       "    </tr>\n",
       "    <tr>\n",
       "      <th>max</th>\n",
       "      <td>20000.000000</td>\n",
       "      <td>9999.000000</td>\n",
       "      <td>20000.000000</td>\n",
       "      <td>150000.000000</td>\n",
       "      <td>12.000000</td>\n",
       "      <td>0.0</td>\n",
       "      <td>99998.000000</td>\n",
       "    </tr>\n",
       "  </tbody>\n",
       "</table>\n",
       "</div>"
      ],
      "text/plain": [
       "               Price  RegistrationYear          Power      Kilometer  \\\n",
       "count  354369.000000     354369.000000  354369.000000  354369.000000   \n",
       "mean     4416.656776       2004.234448     110.094337  128211.172535   \n",
       "std      4514.158514         90.227958     189.850405   37905.341530   \n",
       "min         0.000000       1000.000000       0.000000    5000.000000   \n",
       "25%      1050.000000       1999.000000      69.000000  125000.000000   \n",
       "50%      2700.000000       2003.000000     105.000000  150000.000000   \n",
       "75%      6400.000000       2008.000000     143.000000  150000.000000   \n",
       "max     20000.000000       9999.000000   20000.000000  150000.000000   \n",
       "\n",
       "       RegistrationMonth  NumberOfPictures     PostalCode  \n",
       "count      354369.000000          354369.0  354369.000000  \n",
       "mean            5.714645               0.0   50508.689087  \n",
       "std             3.726421               0.0   25783.096248  \n",
       "min             0.000000               0.0    1067.000000  \n",
       "25%             3.000000               0.0   30165.000000  \n",
       "50%             6.000000               0.0   49413.000000  \n",
       "75%             9.000000               0.0   71083.000000  \n",
       "max            12.000000               0.0   99998.000000  "
      ]
     },
     "execution_count": 49,
     "metadata": {},
     "output_type": "execute_result"
    }
   ],
   "source": [
    "df.describe()"
   ]
  },
  {
   "cell_type": "code",
   "execution_count": 50,
   "metadata": {},
   "outputs": [
    {
     "data": {
      "text/html": [
       "<div>\n",
       "<style scoped>\n",
       "    .dataframe tbody tr th:only-of-type {\n",
       "        vertical-align: middle;\n",
       "    }\n",
       "\n",
       "    .dataframe tbody tr th {\n",
       "        vertical-align: top;\n",
       "    }\n",
       "\n",
       "    .dataframe thead th {\n",
       "        text-align: right;\n",
       "    }\n",
       "</style>\n",
       "<table border=\"1\" class=\"dataframe\">\n",
       "  <thead>\n",
       "    <tr style=\"text-align: right;\">\n",
       "      <th></th>\n",
       "      <th>DateCrawled</th>\n",
       "      <th>Price</th>\n",
       "      <th>VehicleType</th>\n",
       "      <th>RegistrationYear</th>\n",
       "      <th>Gearbox</th>\n",
       "      <th>Power</th>\n",
       "      <th>Model</th>\n",
       "      <th>Kilometer</th>\n",
       "      <th>RegistrationMonth</th>\n",
       "      <th>FuelType</th>\n",
       "      <th>Brand</th>\n",
       "      <th>Repaired</th>\n",
       "      <th>DateCreated</th>\n",
       "      <th>NumberOfPictures</th>\n",
       "      <th>PostalCode</th>\n",
       "      <th>LastSeen</th>\n",
       "    </tr>\n",
       "  </thead>\n",
       "  <tbody>\n",
       "    <tr>\n",
       "      <th>0</th>\n",
       "      <td>2016-03-24 11:52:17</td>\n",
       "      <td>480</td>\n",
       "      <td>NaN</td>\n",
       "      <td>1993</td>\n",
       "      <td>manual</td>\n",
       "      <td>0</td>\n",
       "      <td>golf</td>\n",
       "      <td>150000</td>\n",
       "      <td>0</td>\n",
       "      <td>petrol</td>\n",
       "      <td>volkswagen</td>\n",
       "      <td>NaN</td>\n",
       "      <td>2016-03-24 00:00:00</td>\n",
       "      <td>0</td>\n",
       "      <td>70435</td>\n",
       "      <td>2016-04-07 03:16:57</td>\n",
       "    </tr>\n",
       "    <tr>\n",
       "      <th>1</th>\n",
       "      <td>2016-03-24 10:58:45</td>\n",
       "      <td>18300</td>\n",
       "      <td>coupe</td>\n",
       "      <td>2011</td>\n",
       "      <td>manual</td>\n",
       "      <td>190</td>\n",
       "      <td>NaN</td>\n",
       "      <td>125000</td>\n",
       "      <td>5</td>\n",
       "      <td>gasoline</td>\n",
       "      <td>audi</td>\n",
       "      <td>yes</td>\n",
       "      <td>2016-03-24 00:00:00</td>\n",
       "      <td>0</td>\n",
       "      <td>66954</td>\n",
       "      <td>2016-04-07 01:46:50</td>\n",
       "    </tr>\n",
       "    <tr>\n",
       "      <th>2</th>\n",
       "      <td>2016-03-14 12:52:21</td>\n",
       "      <td>9800</td>\n",
       "      <td>suv</td>\n",
       "      <td>2004</td>\n",
       "      <td>auto</td>\n",
       "      <td>163</td>\n",
       "      <td>grand</td>\n",
       "      <td>125000</td>\n",
       "      <td>8</td>\n",
       "      <td>gasoline</td>\n",
       "      <td>jeep</td>\n",
       "      <td>NaN</td>\n",
       "      <td>2016-03-14 00:00:00</td>\n",
       "      <td>0</td>\n",
       "      <td>90480</td>\n",
       "      <td>2016-04-05 12:47:46</td>\n",
       "    </tr>\n",
       "    <tr>\n",
       "      <th>3</th>\n",
       "      <td>2016-03-17 16:54:04</td>\n",
       "      <td>1500</td>\n",
       "      <td>small</td>\n",
       "      <td>2001</td>\n",
       "      <td>manual</td>\n",
       "      <td>75</td>\n",
       "      <td>golf</td>\n",
       "      <td>150000</td>\n",
       "      <td>6</td>\n",
       "      <td>petrol</td>\n",
       "      <td>volkswagen</td>\n",
       "      <td>no</td>\n",
       "      <td>2016-03-17 00:00:00</td>\n",
       "      <td>0</td>\n",
       "      <td>91074</td>\n",
       "      <td>2016-03-17 17:40:17</td>\n",
       "    </tr>\n",
       "    <tr>\n",
       "      <th>4</th>\n",
       "      <td>2016-03-31 17:25:20</td>\n",
       "      <td>3600</td>\n",
       "      <td>small</td>\n",
       "      <td>2008</td>\n",
       "      <td>manual</td>\n",
       "      <td>69</td>\n",
       "      <td>fabia</td>\n",
       "      <td>90000</td>\n",
       "      <td>7</td>\n",
       "      <td>gasoline</td>\n",
       "      <td>skoda</td>\n",
       "      <td>no</td>\n",
       "      <td>2016-03-31 00:00:00</td>\n",
       "      <td>0</td>\n",
       "      <td>60437</td>\n",
       "      <td>2016-04-06 10:17:21</td>\n",
       "    </tr>\n",
       "  </tbody>\n",
       "</table>\n",
       "</div>"
      ],
      "text/plain": [
       "           DateCrawled  Price VehicleType  RegistrationYear Gearbox  Power  \\\n",
       "0  2016-03-24 11:52:17    480         NaN              1993  manual      0   \n",
       "1  2016-03-24 10:58:45  18300       coupe              2011  manual    190   \n",
       "2  2016-03-14 12:52:21   9800         suv              2004    auto    163   \n",
       "3  2016-03-17 16:54:04   1500       small              2001  manual     75   \n",
       "4  2016-03-31 17:25:20   3600       small              2008  manual     69   \n",
       "\n",
       "   Model  Kilometer  RegistrationMonth  FuelType       Brand Repaired  \\\n",
       "0   golf     150000                  0    petrol  volkswagen      NaN   \n",
       "1    NaN     125000                  5  gasoline        audi      yes   \n",
       "2  grand     125000                  8  gasoline        jeep      NaN   \n",
       "3   golf     150000                  6    petrol  volkswagen       no   \n",
       "4  fabia      90000                  7  gasoline       skoda       no   \n",
       "\n",
       "           DateCreated  NumberOfPictures  PostalCode             LastSeen  \n",
       "0  2016-03-24 00:00:00                 0       70435  2016-04-07 03:16:57  \n",
       "1  2016-03-24 00:00:00                 0       66954  2016-04-07 01:46:50  \n",
       "2  2016-03-14 00:00:00                 0       90480  2016-04-05 12:47:46  \n",
       "3  2016-03-17 00:00:00                 0       91074  2016-03-17 17:40:17  \n",
       "4  2016-03-31 00:00:00                 0       60437  2016-04-06 10:17:21  "
      ]
     },
     "execution_count": 50,
     "metadata": {},
     "output_type": "execute_result"
    }
   ],
   "source": [
    "df.head(5)"
   ]
  },
  {
   "cell_type": "markdown",
   "metadata": {},
   "source": [
    "### Вывод:\n",
    "    "
   ]
  },
  {
   "cell_type": "markdown",
   "metadata": {},
   "source": [
    "Из имеющихся данных видно, что:\n",
    "\n",
    "* датасет состоит из 354 369 строк;\n",
    "* в данных имеются пропуски;\n",
    "* формат даты необходимо преобразовать, если он будет использоваться;\n",
    "* всего мы имеем 15 фич, 6 из которых неинформативны для нашей будущей модели (`DateCrawled`, `RegistrationMonth`, `DateCreated`,`NumberOfPictures`, `PostalCode`, `LastSeen`);\n",
    "\n",
    "\n",
    "Значение признаков:\n",
    "\n",
    "* `DateCrawled` — дата скачивания анкеты из базы\n",
    "* `VehicleType` — тип автомобильного кузова\n",
    "* `RegistrationYear` — год регистрации автомобиля\n",
    "* `Gearbox` — тип коробки передач\n",
    "* `Power` — мощность (л. с.)\n",
    "* `Model` — модель автомобиля\n",
    "* `Kilometer` — пробег (км)\n",
    "* `RegistrationMonth` — месяц регистрации автомобиля\n",
    "* `FuelType` — тип топлива\n",
    "* `Brand` — марка автомобиля\n",
    "* `Repaired` — была машина в ремонте или нет\n",
    "* `DateCreated` — дата создания анкеты\n",
    "* `NumberOfPictures` — количество фотографий автомобиля\n",
    "* `PostalCode` — почтовый индекс владельца анкеты (пользователя)\n",
    "* `LastSeen` — дата последней активности пользователя"
   ]
  },
  {
   "cell_type": "markdown",
   "metadata": {},
   "source": [
    "## Предобработка данных"
   ]
  },
  {
   "cell_type": "markdown",
   "metadata": {},
   "source": [
    "### Удаление неиформативных признаков"
   ]
  },
  {
   "cell_type": "markdown",
   "metadata": {},
   "source": [
    "Уберем все неиформативные признаки, которые могут запутать модель или ухудшить точность ее прогнозов."
   ]
  },
  {
   "cell_type": "code",
   "execution_count": 51,
   "metadata": {},
   "outputs": [
    {
     "data": {
      "text/plain": [
       "Index(['Price', 'VehicleType', 'RegistrationYear', 'Gearbox', 'Power', 'Model',\n",
       "       'Kilometer', 'FuelType', 'Brand', 'Repaired'],\n",
       "      dtype='object')"
      ]
     },
     "execution_count": 51,
     "metadata": {},
     "output_type": "execute_result"
    }
   ],
   "source": [
    "# Создание списка неинформативных признаков\n",
    "uninformative_features = ['DateCrawled', 'RegistrationMonth', 'DateCreated', 'NumberOfPictures', 'PostalCode', 'LastSeen']\n",
    "\n",
    "df = df.drop(uninformative_features, axis=1)\n",
    "\n",
    "df.columns"
   ]
  },
  {
   "cell_type": "markdown",
   "metadata": {},
   "source": [
    "### Обработка пропусков"
   ]
  },
  {
   "cell_type": "code",
   "execution_count": 52,
   "metadata": {},
   "outputs": [
    {
     "data": {
      "text/plain": [
       "Price                   0\n",
       "VehicleType         37490\n",
       "RegistrationYear        0\n",
       "Gearbox             19833\n",
       "Power                   0\n",
       "Model               19705\n",
       "Kilometer               0\n",
       "FuelType            32895\n",
       "Brand                   0\n",
       "Repaired            71154\n",
       "dtype: int64"
      ]
     },
     "execution_count": 52,
     "metadata": {},
     "output_type": "execute_result"
    }
   ],
   "source": [
    "df.isna().sum()"
   ]
  },
  {
   "cell_type": "markdown",
   "metadata": {},
   "source": [
    "В колонках `Gearbox`, `FuelType`, `Repaired` есть пробелы, которые составляют до 20% от общей выборки. Потеря таких данных критична. По этой причине в столбцах `Gearbox` и `FuelType` мы заменим пробелы на наиболее часто встречающиеся значения. В ячейке `Repaired` отметим, что машины не биты, потому что чаще всего информация о том, битая машина или нет - отрицательна. Пробелы в столбцах `VehicleType` и `Model` оставим как есть, поскольку используемые нами модели сами определяют такие пробелы в отдельную категорию, кроме простых моделей."
   ]
  },
  {
   "cell_type": "code",
   "execution_count": 53,
   "metadata": {},
   "outputs": [],
   "source": [
    "# Замена NAN на моду\n",
    "df['Gearbox'] = df['Gearbox'].fillna(df['Gearbox'].mode().values[0])\n",
    "df['FuelType'] = df['FuelType'].fillna(df['FuelType'].mode().values[0])\n",
    "\n",
    "# Замена NAN на 'no'\n",
    "df['Repaired'] = df['Repaired'].fillna('no')"
   ]
  },
  {
   "cell_type": "code",
   "execution_count": 54,
   "metadata": {},
   "outputs": [
    {
     "data": {
      "text/plain": [
       "Price                   0\n",
       "VehicleType         37490\n",
       "RegistrationYear        0\n",
       "Gearbox                 0\n",
       "Power                   0\n",
       "Model               19705\n",
       "Kilometer               0\n",
       "FuelType                0\n",
       "Brand                   0\n",
       "Repaired                0\n",
       "dtype: int64"
      ]
     },
     "execution_count": 54,
     "metadata": {},
     "output_type": "execute_result"
    }
   ],
   "source": [
    "df.isna().sum()"
   ]
  },
  {
   "cell_type": "markdown",
   "metadata": {},
   "source": [
    "Замена NAN значений прошла корректно "
   ]
  },
  {
   "cell_type": "markdown",
   "metadata": {},
   "source": [
    "### Обработка дублей"
   ]
  },
  {
   "cell_type": "code",
   "execution_count": 55,
   "metadata": {},
   "outputs": [
    {
     "data": {
      "text/plain": [
       "56547"
      ]
     },
     "execution_count": 55,
     "metadata": {},
     "output_type": "execute_result"
    }
   ],
   "source": [
    "df.duplicated().sum()"
   ]
  },
  {
   "cell_type": "code",
   "execution_count": 56,
   "metadata": {},
   "outputs": [],
   "source": [
    "df = df.drop_duplicates()"
   ]
  },
  {
   "cell_type": "code",
   "execution_count": 57,
   "metadata": {},
   "outputs": [
    {
     "data": {
      "text/plain": [
       "0"
      ]
     },
     "execution_count": 57,
     "metadata": {},
     "output_type": "execute_result"
    }
   ],
   "source": [
    "df.duplicated().sum()"
   ]
  },
  {
   "cell_type": "markdown",
   "metadata": {},
   "source": [
    "Дубликаты успешно удалены"
   ]
  },
  {
   "cell_type": "markdown",
   "metadata": {},
   "source": [
    "### Обработка аномальных значений "
   ]
  },
  {
   "cell_type": "markdown",
   "metadata": {},
   "source": [
    "Через цикл выведем уникальные значения в стобцах"
   ]
  },
  {
   "cell_type": "code",
   "execution_count": 58,
   "metadata": {},
   "outputs": [
    {
     "data": {
      "text/plain": [
       "'Price'"
      ]
     },
     "metadata": {},
     "output_type": "display_data"
    },
    {
     "data": {
      "text/plain": [
       "array([    0,     1,     2, ..., 19998, 19999, 20000])"
      ]
     },
     "metadata": {},
     "output_type": "display_data"
    },
    {
     "data": {
      "text/plain": [
       "'VehicleType'"
      ]
     },
     "metadata": {},
     "output_type": "display_data"
    },
    {
     "data": {
      "text/plain": [
       "array(['bus', 'convertible', 'coupe', 'other', 'sedan', 'small', 'suv',\n",
       "       'wagon', nan], dtype=object)"
      ]
     },
     "metadata": {},
     "output_type": "display_data"
    },
    {
     "data": {
      "text/plain": [
       "'RegistrationYear'"
      ]
     },
     "metadata": {},
     "output_type": "display_data"
    },
    {
     "data": {
      "text/plain": [
       "array([1000, 1001, 1039, 1111, 1200, 1234, 1253, 1255, 1300, 1400, 1500,\n",
       "       1600, 1602, 1688, 1800, 1910, 1915, 1919, 1920, 1923, 1925, 1927,\n",
       "       1928, 1929, 1930, 1931, 1932, 1933, 1934, 1935, 1936, 1937, 1938,\n",
       "       1940, 1941, 1942, 1943, 1944, 1945, 1946, 1947, 1948, 1949, 1950,\n",
       "       1951, 1952, 1953, 1954, 1955, 1956, 1957, 1958, 1959, 1960, 1961,\n",
       "       1962, 1963, 1964, 1965, 1966, 1967, 1968, 1969, 1970, 1971, 1972,\n",
       "       1973, 1974, 1975, 1976, 1977, 1978, 1979, 1980, 1981, 1982, 1983,\n",
       "       1984, 1985, 1986, 1987, 1988, 1989, 1990, 1991, 1992, 1993, 1994,\n",
       "       1995, 1996, 1997, 1998, 1999, 2000, 2001, 2002, 2003, 2004, 2005,\n",
       "       2006, 2007, 2008, 2009, 2010, 2011, 2012, 2013, 2014, 2015, 2016,\n",
       "       2017, 2018, 2019, 2066, 2200, 2222, 2290, 2500, 2800, 2900, 3000,\n",
       "       3200, 3500, 3700, 3800, 4000, 4100, 4500, 4800, 5000, 5300, 5555,\n",
       "       5600, 5900, 5911, 6000, 6500, 7000, 7100, 7500, 7800, 8000, 8200,\n",
       "       8455, 8500, 8888, 9000, 9229, 9450, 9996, 9999])"
      ]
     },
     "metadata": {},
     "output_type": "display_data"
    },
    {
     "data": {
      "text/plain": [
       "'Gearbox'"
      ]
     },
     "metadata": {},
     "output_type": "display_data"
    },
    {
     "data": {
      "text/plain": [
       "array(['auto', 'manual'], dtype=object)"
      ]
     },
     "metadata": {},
     "output_type": "display_data"
    },
    {
     "data": {
      "text/plain": [
       "'Power'"
      ]
     },
     "metadata": {},
     "output_type": "display_data"
    },
    {
     "data": {
      "text/plain": [
       "array([    0,     1,     2,     3,     4,     5,     6,     7,     8,\n",
       "           9,    10,    11,    12,    13,    14,    15,    16,    17,\n",
       "          18,    19,    20,    21,    22,    23,    24,    25,    26,\n",
       "          27,    28,    29,    30,    31,    32,    33,    34,    35,\n",
       "          36,    37,    38,    39,    40,    41,    42,    43,    44,\n",
       "          45,    46,    47,    48,    49,    50,    51,    52,    53,\n",
       "          54,    55,    56,    57,    58,    59,    60,    61,    62,\n",
       "          63,    64,    65,    66,    67,    68,    69,    70,    71,\n",
       "          72,    73,    74,    75,    76,    77,    78,    79,    80,\n",
       "          81,    82,    83,    84,    85,    86,    87,    88,    89,\n",
       "          90,    91,    92,    93,    94,    95,    96,    97,    98,\n",
       "          99,   100,   101,   102,   103,   104,   105,   106,   107,\n",
       "         108,   109,   110,   111,   112,   113,   114,   115,   116,\n",
       "         117,   118,   119,   120,   121,   122,   123,   124,   125,\n",
       "         126,   127,   128,   129,   130,   131,   132,   133,   134,\n",
       "         135,   136,   137,   138,   139,   140,   141,   142,   143,\n",
       "         144,   145,   146,   147,   148,   149,   150,   151,   152,\n",
       "         153,   154,   155,   156,   157,   158,   159,   160,   161,\n",
       "         162,   163,   164,   165,   166,   167,   168,   169,   170,\n",
       "         171,   172,   173,   174,   175,   176,   177,   178,   179,\n",
       "         180,   181,   182,   183,   184,   185,   186,   187,   188,\n",
       "         189,   190,   191,   192,   193,   194,   195,   196,   197,\n",
       "         198,   199,   200,   201,   202,   203,   204,   205,   206,\n",
       "         207,   208,   209,   210,   211,   212,   213,   214,   215,\n",
       "         216,   217,   218,   219,   220,   221,   222,   223,   224,\n",
       "         225,   226,   227,   228,   229,   230,   231,   232,   233,\n",
       "         234,   235,   236,   237,   238,   239,   240,   241,   242,\n",
       "         243,   244,   245,   246,   247,   248,   249,   250,   251,\n",
       "         252,   253,   254,   255,   256,   257,   258,   259,   260,\n",
       "         261,   262,   264,   265,   266,   267,   268,   269,   270,\n",
       "         271,   272,   273,   274,   275,   276,   277,   278,   279,\n",
       "         280,   281,   282,   283,   284,   285,   286,   287,   288,\n",
       "         289,   290,   292,   293,   294,   295,   296,   297,   298,\n",
       "         299,   300,   301,   303,   304,   305,   306,   307,   308,\n",
       "         309,   310,   311,   313,   314,   315,   316,   317,   318,\n",
       "         320,   321,   322,   323,   324,   325,   326,   327,   328,\n",
       "         329,   330,   331,   332,   333,   334,   335,   336,   337,\n",
       "         338,   339,   340,   341,   343,   344,   345,   346,   347,\n",
       "         348,   349,   350,   351,   352,   353,   354,   355,   356,\n",
       "         357,   358,   360,   361,   362,   363,   364,   365,   367,\n",
       "         368,   370,   371,   374,   375,   376,   377,   379,   380,\n",
       "         381,   382,   385,   386,   387,   388,   390,   392,   394,\n",
       "         396,   398,   399,   400,   401,   402,   405,   408,   409,\n",
       "         411,   416,   420,   421,   425,   426,   428,   430,   431,\n",
       "         435,   440,   442,   445,   449,   450,   454,   457,   459,\n",
       "         460,   475,   476,   485,   487,   489,   490,   500,   504,\n",
       "         505,   507,   508,   510,   514,   515,   517,   519,   520,\n",
       "         521,   525,   530,   540,   541,   544,   550,   551,   553,\n",
       "         560,   572,   574,   579,   580,   584,   585,   599,   600,\n",
       "         601,   602,   603,   604,   606,   607,   610,   612,   620,\n",
       "         640,   645,   650,   651,   671,   678,   682,   685,   696,\n",
       "         700,   702,   703,   732,   743,   750,   751,   754,   771,\n",
       "         776,   800,   805,   808,   850,   851,   871,   900,   901,\n",
       "         902,   903,   907,   909,   923,   950,   952,   953,   960,\n",
       "         998,   999,  1000,  1001,  1002,  1003,  1004,  1005,  1011,\n",
       "        1012,  1016,  1017,  1021,  1024,  1054,  1055,  1056,  1062,\n",
       "        1079,  1082,  1090,  1100,  1102,  1103,  1105,  1111,  1115,\n",
       "        1120,  1149,  1151,  1158,  1160,  1162,  1164,  1199,  1200,\n",
       "        1202,  1221,  1223,  1230,  1239,  1240,  1241,  1250,  1252,\n",
       "        1256,  1275,  1288,  1299,  1300,  1312,  1317,  1324,  1339,\n",
       "        1351,  1360,  1362,  1363,  1367,  1390,  1394,  1398,  1399,\n",
       "        1400,  1401,  1403,  1405,  1416,  1432,  1433,  1436,  1500,\n",
       "        1501,  1502,  1503,  1506,  1521,  1548,  1595,  1596,  1597,\n",
       "        1598,  1600,  1625,  1631,  1653,  1659,  1689,  1700,  1701,\n",
       "        1703,  1704,  1707,  1753,  1771,  1779,  1780,  1781,  1783,\n",
       "        1793,  1796,  1799,  1800,  1801,  1870,  1895,  1896,  1900,\n",
       "        1910,  1920,  1922,  1933,  1937,  1968,  1986,  1988,  1992,\n",
       "        1993,  1995,  1998,  1999,  2000,  2004,  2005,  2007,  2009,\n",
       "        2016,  2017,  2018,  2172,  2200,  2201,  2331,  2340,  2389,\n",
       "        2402,  2461,  2598,  2729,  2789,  2792,  2799,  3000,  3199,\n",
       "        3454,  3500,  3750,  4400,  4507,  4700,  5000,  5411,  5420,\n",
       "        5575,  5809,  5815,  5867,  6006,  6010,  6011,  6012,  6018,\n",
       "        6045,  6062,  6226,  6512,  6920,  7508,  7511,  7512,  7515,\n",
       "        7518,  7529,  7544,  8011,  8259,  8404,  8500,  9000,  9007,\n",
       "        9010,  9011,  9012,  9013,  9710, 10000, 10110, 10218, 10311,\n",
       "       10317, 10520, 10522, 10710, 10910, 10912, 11011, 11025, 11111,\n",
       "       11509, 11530, 11635, 12012, 12510, 12512, 12684, 13616, 13636,\n",
       "       14009, 15001, 15016, 15017, 15020, 15033, 16011, 16051, 16311,\n",
       "       16312, 17011, 17019, 17410, 17700, 17932, 19208, 19211, 19312,\n",
       "       20000])"
      ]
     },
     "metadata": {},
     "output_type": "display_data"
    },
    {
     "data": {
      "text/plain": [
       "'Model'"
      ]
     },
     "metadata": {},
     "output_type": "display_data"
    },
    {
     "data": {
      "text/plain": [
       "array(['100', '145', '147', '156', '159', '1_reihe', '1er', '200',\n",
       "       '2_reihe', '300c', '3_reihe', '3er', '4_reihe', '500', '5_reihe',\n",
       "       '5er', '601', '6_reihe', '6er', '7er', '80', '850', '90', '900',\n",
       "       '9000', '911', 'a1', 'a2', 'a3', 'a4', 'a5', 'a6', 'a8',\n",
       "       'a_klasse', 'accord', 'agila', 'alhambra', 'almera', 'altea',\n",
       "       'amarok', 'antara', 'arosa', 'astra', 'auris', 'avensis', 'aveo',\n",
       "       'aygo', 'b_klasse', 'b_max', 'beetle', 'berlingo', 'bora',\n",
       "       'boxster', 'bravo', 'c1', 'c2', 'c3', 'c4', 'c5', 'c_klasse',\n",
       "       'c_max', 'c_reihe', 'caddy', 'calibra', 'captiva', 'carisma',\n",
       "       'carnival', 'cayenne', 'cc', 'ceed', 'charade', 'cherokee',\n",
       "       'citigo', 'civic', 'cl', 'clio', 'clk', 'clubman', 'colt', 'combo',\n",
       "       'cooper', 'cordoba', 'corolla', 'corsa', 'cr_reihe', 'croma',\n",
       "       'crossfire', 'cuore', 'cx_reihe', 'defender', 'delta', 'discovery',\n",
       "       'doblo', 'ducato', 'duster', 'e_klasse', 'elefantino', 'eos',\n",
       "       'escort', 'espace', 'exeo', 'fabia', 'fiesta', 'focus', 'forester',\n",
       "       'forfour', 'fortwo', 'fox', 'freelander', 'fusion', 'g_klasse',\n",
       "       'galant', 'galaxy', 'getz', 'gl', 'glk', 'golf', 'grand', 'i3',\n",
       "       'i_reihe', 'ibiza', 'impreza', 'insignia', 'jazz', 'jetta',\n",
       "       'jimny', 'juke', 'justy', 'ka', 'kadett', 'kaefer', 'kalina',\n",
       "       'kalos', 'kangoo', 'kappa', 'kuga', 'laguna', 'lancer', 'lanos',\n",
       "       'legacy', 'leon', 'lodgy', 'logan', 'lupo', 'lybra', 'm_klasse',\n",
       "       'm_reihe', 'materia', 'matiz', 'megane', 'meriva', 'micra', 'mii',\n",
       "       'modus', 'mondeo', 'move', 'musa', 'mustang', 'mx_reihe', 'navara',\n",
       "       'niva', 'note', 'nubira', 'octavia', 'omega', 'one', 'other',\n",
       "       'outlander', 'pajero', 'panda', 'passat', 'phaeton', 'picanto',\n",
       "       'polo', 'primera', 'ptcruiser', 'punto', 'q3', 'q5', 'q7',\n",
       "       'qashqai', 'r19', 'range_rover', 'range_rover_evoque',\n",
       "       'range_rover_sport', 'rangerover', 'rav', 'rio', 'roadster',\n",
       "       'roomster', 'rx_reihe', 's60', 's_klasse', 's_max', 's_type',\n",
       "       'samara', 'sandero', 'santa', 'scenic', 'scirocco', 'seicento',\n",
       "       'serie_1', 'serie_2', 'serie_3', 'sharan', 'signum', 'sirion',\n",
       "       'sl', 'slk', 'sorento', 'spark', 'spider', 'sportage', 'sprinter',\n",
       "       'stilo', 'superb', 'swift', 'terios', 'tigra', 'tiguan', 'toledo',\n",
       "       'touareg', 'touran', 'transit', 'transporter', 'tt', 'tucson',\n",
       "       'twingo', 'up', 'v40', 'v50', 'v60', 'v70', 'v_klasse', 'vectra',\n",
       "       'verso', 'viano', 'vito', 'vivaro', 'voyager', 'wrangler',\n",
       "       'x_reihe', 'x_trail', 'x_type', 'xc_reihe', 'yaris', 'yeti',\n",
       "       'ypsilon', 'z_reihe', 'zafira', nan], dtype=object)"
      ]
     },
     "metadata": {},
     "output_type": "display_data"
    },
    {
     "data": {
      "text/plain": [
       "'Kilometer'"
      ]
     },
     "metadata": {},
     "output_type": "display_data"
    },
    {
     "data": {
      "text/plain": [
       "array([  5000,  10000,  20000,  30000,  40000,  50000,  60000,  70000,\n",
       "        80000,  90000, 100000, 125000, 150000])"
      ]
     },
     "metadata": {},
     "output_type": "display_data"
    },
    {
     "data": {
      "text/plain": [
       "'FuelType'"
      ]
     },
     "metadata": {},
     "output_type": "display_data"
    },
    {
     "data": {
      "text/plain": [
       "array(['cng', 'electric', 'gasoline', 'hybrid', 'lpg', 'other', 'petrol'],\n",
       "      dtype=object)"
      ]
     },
     "metadata": {},
     "output_type": "display_data"
    },
    {
     "data": {
      "text/plain": [
       "'Brand'"
      ]
     },
     "metadata": {},
     "output_type": "display_data"
    },
    {
     "data": {
      "text/plain": [
       "array(['alfa_romeo', 'audi', 'bmw', 'chevrolet', 'chrysler', 'citroen',\n",
       "       'dacia', 'daewoo', 'daihatsu', 'fiat', 'ford', 'honda', 'hyundai',\n",
       "       'jaguar', 'jeep', 'kia', 'lada', 'lancia', 'land_rover', 'mazda',\n",
       "       'mercedes_benz', 'mini', 'mitsubishi', 'nissan', 'opel', 'peugeot',\n",
       "       'porsche', 'renault', 'rover', 'saab', 'seat', 'skoda', 'smart',\n",
       "       'sonstige_autos', 'subaru', 'suzuki', 'toyota', 'trabant',\n",
       "       'volkswagen', 'volvo'], dtype=object)"
      ]
     },
     "metadata": {},
     "output_type": "display_data"
    },
    {
     "data": {
      "text/plain": [
       "'Repaired'"
      ]
     },
     "metadata": {},
     "output_type": "display_data"
    },
    {
     "data": {
      "text/plain": [
       "array(['no', 'yes'], dtype=object)"
      ]
     },
     "metadata": {},
     "output_type": "display_data"
    }
   ],
   "source": [
    "for column in df.columns:\n",
    "    anomaly = df[column].sort_values().unique()\n",
    "    display(column)\n",
    "    display(anomaly)\n",
    "    display()"
   ]
  },
  {
   "cell_type": "markdown",
   "metadata": {},
   "source": [
    "Аномалии видны в столбацах `RegistrationYear` и `Power`. В столбце `RegistrationYear` имеются автомобили, поставленные на учет через 12 лет после крещения Руси, а так же автомобили из будущего. Массовое машиностроение началось с 1936 года и продолжается в наше время, поэтому в данных мы ограничимся этими годами. В части мощности ограничимся `50-1000 л.с.` т.к. машины меньшей и большей мощности в наше время редкость."
   ]
  },
  {
   "cell_type": "code",
   "execution_count": 59,
   "metadata": {},
   "outputs": [
    {
     "data": {
      "text/plain": [
       "array([1937, 1941, 1942, 1943, 1945, 1947, 1948, 1949, 1950, 1951, 1952,\n",
       "       1953, 1954, 1955, 1956, 1957, 1958, 1959, 1960, 1961, 1962, 1963,\n",
       "       1964, 1965, 1966, 1967, 1968, 1969, 1970, 1971, 1972, 1973, 1974,\n",
       "       1975, 1976, 1977, 1978, 1979, 1980, 1981, 1982, 1983, 1984, 1985,\n",
       "       1986, 1987, 1988, 1989, 1990, 1991, 1992, 1993, 1994, 1995, 1996,\n",
       "       1997, 1998, 1999, 2000, 2001, 2002, 2003, 2004, 2005, 2006, 2007,\n",
       "       2008, 2009, 2010, 2011, 2012, 2013, 2014, 2015, 2016, 2017, 2018,\n",
       "       2019])"
      ]
     },
     "metadata": {},
     "output_type": "display_data"
    },
    {
     "data": {
      "text/plain": [
       "array([  50,   51,   52,   53,   54,   55,   56,   57,   58,   59,   60,\n",
       "         61,   62,   63,   64,   65,   66,   67,   68,   69,   70,   71,\n",
       "         72,   73,   74,   75,   76,   77,   78,   79,   80,   81,   82,\n",
       "         83,   84,   85,   86,   87,   88,   89,   90,   91,   92,   93,\n",
       "         94,   95,   96,   97,   98,   99,  100,  101,  102,  103,  104,\n",
       "        105,  106,  107,  108,  109,  110,  111,  112,  113,  114,  115,\n",
       "        116,  117,  118,  119,  120,  121,  122,  123,  124,  125,  126,\n",
       "        127,  128,  129,  130,  131,  132,  133,  134,  135,  136,  137,\n",
       "        138,  139,  140,  141,  142,  143,  144,  145,  146,  147,  148,\n",
       "        149,  150,  151,  152,  153,  154,  155,  156,  157,  158,  159,\n",
       "        160,  161,  162,  163,  164,  165,  166,  167,  168,  169,  170,\n",
       "        171,  172,  173,  174,  175,  176,  177,  178,  179,  180,  181,\n",
       "        182,  183,  184,  185,  186,  187,  188,  189,  190,  191,  192,\n",
       "        193,  194,  195,  196,  197,  198,  199,  200,  201,  202,  203,\n",
       "        204,  205,  206,  207,  208,  209,  210,  211,  212,  213,  214,\n",
       "        215,  216,  217,  218,  219,  220,  221,  222,  223,  224,  225,\n",
       "        226,  227,  228,  229,  230,  231,  232,  233,  234,  235,  236,\n",
       "        237,  238,  239,  240,  241,  242,  243,  244,  245,  246,  247,\n",
       "        248,  249,  250,  251,  252,  253,  254,  255,  256,  257,  258,\n",
       "        259,  260,  261,  262,  264,  265,  266,  267,  268,  269,  270,\n",
       "        271,  272,  273,  274,  275,  276,  277,  278,  279,  280,  281,\n",
       "        282,  283,  284,  285,  286,  287,  288,  289,  290,  292,  293,\n",
       "        294,  295,  296,  297,  298,  299,  300,  301,  303,  304,  305,\n",
       "        306,  307,  308,  309,  310,  311,  313,  314,  315,  316,  317,\n",
       "        318,  320,  321,  322,  323,  324,  325,  326,  327,  328,  329,\n",
       "        330,  331,  332,  333,  334,  335,  336,  337,  338,  339,  340,\n",
       "        341,  343,  344,  345,  346,  347,  348,  349,  350,  351,  352,\n",
       "        353,  354,  355,  356,  357,  358,  360,  361,  362,  363,  364,\n",
       "        365,  367,  368,  370,  371,  374,  375,  376,  377,  379,  380,\n",
       "        381,  382,  385,  386,  387,  388,  390,  392,  394,  396,  398,\n",
       "        399,  400,  401,  402,  405,  408,  409,  411,  416,  420,  421,\n",
       "        425,  426,  428,  430,  431,  435,  440,  442,  445,  449,  450,\n",
       "        454,  457,  459,  460,  475,  476,  487,  489,  490,  500,  504,\n",
       "        505,  507,  508,  510,  514,  515,  517,  519,  520,  521,  525,\n",
       "        540,  541,  544,  550,  551,  553,  560,  572,  579,  580,  584,\n",
       "        585,  599,  600,  601,  602,  603,  604,  606,  607,  610,  612,\n",
       "        620,  640,  645,  650,  651,  671,  678,  682,  685,  696,  700,\n",
       "        702,  703,  732,  743,  750,  751,  754,  771,  776,  800,  805,\n",
       "        808,  850,  851,  871,  900,  901,  902,  903,  907,  909,  923,\n",
       "        950,  952,  953,  998,  999, 1000])"
      ]
     },
     "metadata": {},
     "output_type": "display_data"
    },
    {
     "data": {
      "text/plain": [
       "(252128, 10)"
      ]
     },
     "metadata": {},
     "output_type": "display_data"
    }
   ],
   "source": [
    "# Годы регистрации автомобиля от 1936 до 2022\n",
    "df = df.loc[(df['RegistrationYear'] >= 1936) & (df['RegistrationYear'] <= 2024)]\n",
    "# Мощность от 50 до 1000 л.с.\n",
    "df = df.loc[(df['Power'] >= 50) & (df['Power'] <= 1000)]\n",
    "# Цена от 100 euro\n",
    "df = df.loc[df['Price'] >= 100]\n",
    "\n",
    "display(df['RegistrationYear'].sort_values().unique())\n",
    "display()\n",
    "display(df['Power'].sort_values().unique())\n",
    "display()\n",
    "display(df.shape)"
   ]
  },
  {
   "cell_type": "markdown",
   "metadata": {},
   "source": [
    "Все аномалии удалены."
   ]
  },
  {
   "cell_type": "markdown",
   "metadata": {},
   "source": [
    "## Кодирование, масштабирование, разбивка данных"
   ]
  },
  {
   "cell_type": "markdown",
   "metadata": {},
   "source": [
    "### Для регрессий "
   ]
  },
  {
   "cell_type": "markdown",
   "metadata": {},
   "source": [
    "**Разбивка данных на целевой признак и фичи**"
   ]
  },
  {
   "cell_type": "code",
   "execution_count": 60,
   "metadata": {},
   "outputs": [],
   "source": [
    "features = df.drop('Price', axis=1)\n",
    "target = df['Price']"
   ]
  },
  {
   "cell_type": "markdown",
   "metadata": {},
   "source": [
    "**Кодирование категориальных фич**"
   ]
  },
  {
   "cell_type": "code",
   "execution_count": 61,
   "metadata": {},
   "outputs": [],
   "source": [
    "features = pd.get_dummies(features, drop_first=True)"
   ]
  },
  {
   "cell_type": "markdown",
   "metadata": {},
   "source": [
    "Разбивка на train и valid + test выборки."
   ]
  },
  {
   "cell_type": "code",
   "execution_count": 62,
   "metadata": {},
   "outputs": [
    {
     "data": {
      "text/plain": [
       "(151276, 305)"
      ]
     },
     "metadata": {},
     "output_type": "display_data"
    },
    {
     "data": {
      "text/plain": [
       "(151276,)"
      ]
     },
     "metadata": {},
     "output_type": "display_data"
    },
    {
     "data": {
      "text/plain": [
       "(100852, 305)"
      ]
     },
     "metadata": {},
     "output_type": "display_data"
    },
    {
     "data": {
      "text/plain": [
       "(100852,)"
      ]
     },
     "metadata": {},
     "output_type": "display_data"
    }
   ],
   "source": [
    "(features_train, features_valid_test,\n",
    " target_train, target_valid_test) = train_test_split(features,\n",
    "                                                     target,\n",
    "                                                     test_size=0.4,\n",
    "                                                     random_state=12345)\n",
    "\n",
    "display(features_train.shape)\n",
    "display(target_train.shape)\n",
    "display(features_valid_test.shape)\n",
    "display(target_valid_test.shape)"
   ]
  },
  {
   "cell_type": "markdown",
   "metadata": {},
   "source": [
    "Valid + test выборку разобьем на valid и test по отдельности."
   ]
  },
  {
   "cell_type": "code",
   "execution_count": 63,
   "metadata": {},
   "outputs": [
    {
     "data": {
      "text/plain": [
       "(50426, 305)"
      ]
     },
     "metadata": {},
     "output_type": "display_data"
    },
    {
     "data": {
      "text/plain": [
       "(50426,)"
      ]
     },
     "metadata": {},
     "output_type": "display_data"
    },
    {
     "data": {
      "text/plain": [
       "(50426, 305)"
      ]
     },
     "metadata": {},
     "output_type": "display_data"
    },
    {
     "data": {
      "text/plain": [
       "(50426,)"
      ]
     },
     "metadata": {},
     "output_type": "display_data"
    }
   ],
   "source": [
    "(features_valid, features_test,\n",
    " target_valid, target_test) = train_test_split(features_valid_test,\n",
    "                                               target_valid_test,\n",
    "                                               test_size=0.5,\n",
    "                                               random_state=12345)\n",
    "\n",
    "display(features_valid.shape)\n",
    "display(target_valid.shape)\n",
    "display(features_test.shape)\n",
    "display(target_test.shape)"
   ]
  },
  {
   "cell_type": "markdown",
   "metadata": {},
   "source": [
    "**Масштабирование данных**"
   ]
  },
  {
   "cell_type": "code",
   "execution_count": 64,
   "metadata": {},
   "outputs": [
    {
     "name": "stderr",
     "output_type": "stream",
     "text": [
      "/tmp/ipykernel_31/3350154884.py:7: SettingWithCopyWarning: \n",
      "A value is trying to be set on a copy of a slice from a DataFrame.\n",
      "Try using .loc[row_indexer,col_indexer] = value instead\n",
      "\n",
      "See the caveats in the documentation: https://pandas.pydata.org/pandas-docs/stable/user_guide/indexing.html#returning-a-view-versus-a-copy\n",
      "  features_train[scale_list] = scaler.transform(features_train[scale_list])\n",
      "/opt/conda/lib/python3.9/site-packages/pandas/core/indexing.py:1738: SettingWithCopyWarning: \n",
      "A value is trying to be set on a copy of a slice from a DataFrame.\n",
      "Try using .loc[row_indexer,col_indexer] = value instead\n",
      "\n",
      "See the caveats in the documentation: https://pandas.pydata.org/pandas-docs/stable/user_guide/indexing.html#returning-a-view-versus-a-copy\n",
      "  self._setitem_single_column(loc, value[:, i].tolist(), pi)\n",
      "/tmp/ipykernel_31/3350154884.py:8: SettingWithCopyWarning: \n",
      "A value is trying to be set on a copy of a slice from a DataFrame.\n",
      "Try using .loc[row_indexer,col_indexer] = value instead\n",
      "\n",
      "See the caveats in the documentation: https://pandas.pydata.org/pandas-docs/stable/user_guide/indexing.html#returning-a-view-versus-a-copy\n",
      "  features_valid[scale_list] = scaler.transform(features_valid[scale_list])\n",
      "/opt/conda/lib/python3.9/site-packages/pandas/core/indexing.py:1738: SettingWithCopyWarning: \n",
      "A value is trying to be set on a copy of a slice from a DataFrame.\n",
      "Try using .loc[row_indexer,col_indexer] = value instead\n",
      "\n",
      "See the caveats in the documentation: https://pandas.pydata.org/pandas-docs/stable/user_guide/indexing.html#returning-a-view-versus-a-copy\n",
      "  self._setitem_single_column(loc, value[:, i].tolist(), pi)\n",
      "/tmp/ipykernel_31/3350154884.py:9: SettingWithCopyWarning: \n",
      "A value is trying to be set on a copy of a slice from a DataFrame.\n",
      "Try using .loc[row_indexer,col_indexer] = value instead\n",
      "\n",
      "See the caveats in the documentation: https://pandas.pydata.org/pandas-docs/stable/user_guide/indexing.html#returning-a-view-versus-a-copy\n",
      "  features_test[scale_list] = scaler.transform(features_test[scale_list])\n",
      "/opt/conda/lib/python3.9/site-packages/pandas/core/indexing.py:1738: SettingWithCopyWarning: \n",
      "A value is trying to be set on a copy of a slice from a DataFrame.\n",
      "Try using .loc[row_indexer,col_indexer] = value instead\n",
      "\n",
      "See the caveats in the documentation: https://pandas.pydata.org/pandas-docs/stable/user_guide/indexing.html#returning-a-view-versus-a-copy\n",
      "  self._setitem_single_column(loc, value[:, i].tolist(), pi)\n"
     ]
    },
    {
     "data": {
      "text/html": [
       "<div>\n",
       "<style scoped>\n",
       "    .dataframe tbody tr th:only-of-type {\n",
       "        vertical-align: middle;\n",
       "    }\n",
       "\n",
       "    .dataframe tbody tr th {\n",
       "        vertical-align: top;\n",
       "    }\n",
       "\n",
       "    .dataframe thead th {\n",
       "        text-align: right;\n",
       "    }\n",
       "</style>\n",
       "<table border=\"1\" class=\"dataframe\">\n",
       "  <thead>\n",
       "    <tr style=\"text-align: right;\">\n",
       "      <th></th>\n",
       "      <th>RegistrationYear</th>\n",
       "      <th>Power</th>\n",
       "      <th>Kilometer</th>\n",
       "      <th>VehicleType_convertible</th>\n",
       "      <th>VehicleType_coupe</th>\n",
       "      <th>VehicleType_other</th>\n",
       "      <th>VehicleType_sedan</th>\n",
       "      <th>VehicleType_small</th>\n",
       "      <th>VehicleType_suv</th>\n",
       "      <th>VehicleType_wagon</th>\n",
       "      <th>...</th>\n",
       "      <th>Brand_skoda</th>\n",
       "      <th>Brand_smart</th>\n",
       "      <th>Brand_sonstige_autos</th>\n",
       "      <th>Brand_subaru</th>\n",
       "      <th>Brand_suzuki</th>\n",
       "      <th>Brand_toyota</th>\n",
       "      <th>Brand_trabant</th>\n",
       "      <th>Brand_volkswagen</th>\n",
       "      <th>Brand_volvo</th>\n",
       "      <th>Repaired_yes</th>\n",
       "    </tr>\n",
       "  </thead>\n",
       "  <tbody>\n",
       "    <tr>\n",
       "      <th>185096</th>\n",
       "      <td>0.057740</td>\n",
       "      <td>-0.885473</td>\n",
       "      <td>0.609869</td>\n",
       "      <td>0</td>\n",
       "      <td>0</td>\n",
       "      <td>0</td>\n",
       "      <td>1</td>\n",
       "      <td>0</td>\n",
       "      <td>0</td>\n",
       "      <td>0</td>\n",
       "      <td>...</td>\n",
       "      <td>0</td>\n",
       "      <td>0</td>\n",
       "      <td>0</td>\n",
       "      <td>0</td>\n",
       "      <td>0</td>\n",
       "      <td>0</td>\n",
       "      <td>0</td>\n",
       "      <td>0</td>\n",
       "      <td>0</td>\n",
       "      <td>0</td>\n",
       "    </tr>\n",
       "    <tr>\n",
       "      <th>273854</th>\n",
       "      <td>-0.233057</td>\n",
       "      <td>-0.885473</td>\n",
       "      <td>0.609869</td>\n",
       "      <td>0</td>\n",
       "      <td>0</td>\n",
       "      <td>0</td>\n",
       "      <td>0</td>\n",
       "      <td>1</td>\n",
       "      <td>0</td>\n",
       "      <td>0</td>\n",
       "      <td>...</td>\n",
       "      <td>0</td>\n",
       "      <td>0</td>\n",
       "      <td>0</td>\n",
       "      <td>0</td>\n",
       "      <td>0</td>\n",
       "      <td>0</td>\n",
       "      <td>0</td>\n",
       "      <td>0</td>\n",
       "      <td>0</td>\n",
       "      <td>0</td>\n",
       "    </tr>\n",
       "    <tr>\n",
       "      <th>127516</th>\n",
       "      <td>-0.960048</td>\n",
       "      <td>-0.410828</td>\n",
       "      <td>-2.598058</td>\n",
       "      <td>0</td>\n",
       "      <td>0</td>\n",
       "      <td>0</td>\n",
       "      <td>0</td>\n",
       "      <td>0</td>\n",
       "      <td>0</td>\n",
       "      <td>1</td>\n",
       "      <td>...</td>\n",
       "      <td>0</td>\n",
       "      <td>0</td>\n",
       "      <td>0</td>\n",
       "      <td>0</td>\n",
       "      <td>0</td>\n",
       "      <td>0</td>\n",
       "      <td>0</td>\n",
       "      <td>0</td>\n",
       "      <td>0</td>\n",
       "      <td>0</td>\n",
       "    </tr>\n",
       "    <tr>\n",
       "      <th>2401</th>\n",
       "      <td>-0.233057</td>\n",
       "      <td>0.848807</td>\n",
       "      <td>0.609869</td>\n",
       "      <td>0</td>\n",
       "      <td>1</td>\n",
       "      <td>0</td>\n",
       "      <td>0</td>\n",
       "      <td>0</td>\n",
       "      <td>0</td>\n",
       "      <td>0</td>\n",
       "      <td>...</td>\n",
       "      <td>0</td>\n",
       "      <td>0</td>\n",
       "      <td>0</td>\n",
       "      <td>0</td>\n",
       "      <td>0</td>\n",
       "      <td>0</td>\n",
       "      <td>0</td>\n",
       "      <td>0</td>\n",
       "      <td>0</td>\n",
       "      <td>0</td>\n",
       "    </tr>\n",
       "    <tr>\n",
       "      <th>14691</th>\n",
       "      <td>1.947917</td>\n",
       "      <td>-0.611639</td>\n",
       "      <td>0.609869</td>\n",
       "      <td>0</td>\n",
       "      <td>0</td>\n",
       "      <td>0</td>\n",
       "      <td>0</td>\n",
       "      <td>0</td>\n",
       "      <td>0</td>\n",
       "      <td>0</td>\n",
       "      <td>...</td>\n",
       "      <td>0</td>\n",
       "      <td>0</td>\n",
       "      <td>0</td>\n",
       "      <td>0</td>\n",
       "      <td>0</td>\n",
       "      <td>0</td>\n",
       "      <td>0</td>\n",
       "      <td>1</td>\n",
       "      <td>0</td>\n",
       "      <td>0</td>\n",
       "    </tr>\n",
       "    <tr>\n",
       "      <th>...</th>\n",
       "      <td>...</td>\n",
       "      <td>...</td>\n",
       "      <td>...</td>\n",
       "      <td>...</td>\n",
       "      <td>...</td>\n",
       "      <td>...</td>\n",
       "      <td>...</td>\n",
       "      <td>...</td>\n",
       "      <td>...</td>\n",
       "      <td>...</td>\n",
       "      <td>...</td>\n",
       "      <td>...</td>\n",
       "      <td>...</td>\n",
       "      <td>...</td>\n",
       "      <td>...</td>\n",
       "      <td>...</td>\n",
       "      <td>...</td>\n",
       "      <td>...</td>\n",
       "      <td>...</td>\n",
       "      <td>...</td>\n",
       "      <td>...</td>\n",
       "    </tr>\n",
       "    <tr>\n",
       "      <th>108171</th>\n",
       "      <td>-0.378455</td>\n",
       "      <td>-0.465594</td>\n",
       "      <td>-1.261422</td>\n",
       "      <td>0</td>\n",
       "      <td>0</td>\n",
       "      <td>0</td>\n",
       "      <td>1</td>\n",
       "      <td>0</td>\n",
       "      <td>0</td>\n",
       "      <td>0</td>\n",
       "      <td>...</td>\n",
       "      <td>0</td>\n",
       "      <td>0</td>\n",
       "      <td>0</td>\n",
       "      <td>0</td>\n",
       "      <td>0</td>\n",
       "      <td>0</td>\n",
       "      <td>0</td>\n",
       "      <td>0</td>\n",
       "      <td>0</td>\n",
       "      <td>0</td>\n",
       "    </tr>\n",
       "    <tr>\n",
       "      <th>173942</th>\n",
       "      <td>-0.378455</td>\n",
       "      <td>0.483696</td>\n",
       "      <td>0.609869</td>\n",
       "      <td>0</td>\n",
       "      <td>0</td>\n",
       "      <td>0</td>\n",
       "      <td>0</td>\n",
       "      <td>0</td>\n",
       "      <td>0</td>\n",
       "      <td>1</td>\n",
       "      <td>...</td>\n",
       "      <td>0</td>\n",
       "      <td>0</td>\n",
       "      <td>0</td>\n",
       "      <td>0</td>\n",
       "      <td>0</td>\n",
       "      <td>0</td>\n",
       "      <td>0</td>\n",
       "      <td>1</td>\n",
       "      <td>0</td>\n",
       "      <td>0</td>\n",
       "    </tr>\n",
       "    <tr>\n",
       "      <th>169812</th>\n",
       "      <td>0.639333</td>\n",
       "      <td>0.136840</td>\n",
       "      <td>0.609869</td>\n",
       "      <td>0</td>\n",
       "      <td>0</td>\n",
       "      <td>0</td>\n",
       "      <td>0</td>\n",
       "      <td>0</td>\n",
       "      <td>0</td>\n",
       "      <td>0</td>\n",
       "      <td>...</td>\n",
       "      <td>0</td>\n",
       "      <td>0</td>\n",
       "      <td>0</td>\n",
       "      <td>0</td>\n",
       "      <td>0</td>\n",
       "      <td>0</td>\n",
       "      <td>0</td>\n",
       "      <td>1</td>\n",
       "      <td>0</td>\n",
       "      <td>0</td>\n",
       "    </tr>\n",
       "    <tr>\n",
       "      <th>97296</th>\n",
       "      <td>1.511722</td>\n",
       "      <td>0.027306</td>\n",
       "      <td>-2.598058</td>\n",
       "      <td>0</td>\n",
       "      <td>0</td>\n",
       "      <td>0</td>\n",
       "      <td>0</td>\n",
       "      <td>0</td>\n",
       "      <td>0</td>\n",
       "      <td>0</td>\n",
       "      <td>...</td>\n",
       "      <td>0</td>\n",
       "      <td>0</td>\n",
       "      <td>0</td>\n",
       "      <td>0</td>\n",
       "      <td>0</td>\n",
       "      <td>0</td>\n",
       "      <td>0</td>\n",
       "      <td>0</td>\n",
       "      <td>0</td>\n",
       "      <td>0</td>\n",
       "    </tr>\n",
       "    <tr>\n",
       "      <th>299335</th>\n",
       "      <td>-0.087658</td>\n",
       "      <td>0.721018</td>\n",
       "      <td>0.609869</td>\n",
       "      <td>0</td>\n",
       "      <td>0</td>\n",
       "      <td>0</td>\n",
       "      <td>1</td>\n",
       "      <td>0</td>\n",
       "      <td>0</td>\n",
       "      <td>0</td>\n",
       "      <td>...</td>\n",
       "      <td>0</td>\n",
       "      <td>0</td>\n",
       "      <td>0</td>\n",
       "      <td>0</td>\n",
       "      <td>0</td>\n",
       "      <td>0</td>\n",
       "      <td>0</td>\n",
       "      <td>0</td>\n",
       "      <td>0</td>\n",
       "      <td>0</td>\n",
       "    </tr>\n",
       "  </tbody>\n",
       "</table>\n",
       "<p>151276 rows × 305 columns</p>\n",
       "</div>"
      ],
      "text/plain": [
       "        RegistrationYear     Power  Kilometer  VehicleType_convertible  \\\n",
       "185096          0.057740 -0.885473   0.609869                        0   \n",
       "273854         -0.233057 -0.885473   0.609869                        0   \n",
       "127516         -0.960048 -0.410828  -2.598058                        0   \n",
       "2401           -0.233057  0.848807   0.609869                        0   \n",
       "14691           1.947917 -0.611639   0.609869                        0   \n",
       "...                  ...       ...        ...                      ...   \n",
       "108171         -0.378455 -0.465594  -1.261422                        0   \n",
       "173942         -0.378455  0.483696   0.609869                        0   \n",
       "169812          0.639333  0.136840   0.609869                        0   \n",
       "97296           1.511722  0.027306  -2.598058                        0   \n",
       "299335         -0.087658  0.721018   0.609869                        0   \n",
       "\n",
       "        VehicleType_coupe  VehicleType_other  VehicleType_sedan  \\\n",
       "185096                  0                  0                  1   \n",
       "273854                  0                  0                  0   \n",
       "127516                  0                  0                  0   \n",
       "2401                    1                  0                  0   \n",
       "14691                   0                  0                  0   \n",
       "...                   ...                ...                ...   \n",
       "108171                  0                  0                  1   \n",
       "173942                  0                  0                  0   \n",
       "169812                  0                  0                  0   \n",
       "97296                   0                  0                  0   \n",
       "299335                  0                  0                  1   \n",
       "\n",
       "        VehicleType_small  VehicleType_suv  VehicleType_wagon  ...  \\\n",
       "185096                  0                0                  0  ...   \n",
       "273854                  1                0                  0  ...   \n",
       "127516                  0                0                  1  ...   \n",
       "2401                    0                0                  0  ...   \n",
       "14691                   0                0                  0  ...   \n",
       "...                   ...              ...                ...  ...   \n",
       "108171                  0                0                  0  ...   \n",
       "173942                  0                0                  1  ...   \n",
       "169812                  0                0                  0  ...   \n",
       "97296                   0                0                  0  ...   \n",
       "299335                  0                0                  0  ...   \n",
       "\n",
       "        Brand_skoda  Brand_smart  Brand_sonstige_autos  Brand_subaru  \\\n",
       "185096            0            0                     0             0   \n",
       "273854            0            0                     0             0   \n",
       "127516            0            0                     0             0   \n",
       "2401              0            0                     0             0   \n",
       "14691             0            0                     0             0   \n",
       "...             ...          ...                   ...           ...   \n",
       "108171            0            0                     0             0   \n",
       "173942            0            0                     0             0   \n",
       "169812            0            0                     0             0   \n",
       "97296             0            0                     0             0   \n",
       "299335            0            0                     0             0   \n",
       "\n",
       "        Brand_suzuki  Brand_toyota  Brand_trabant  Brand_volkswagen  \\\n",
       "185096             0             0              0                 0   \n",
       "273854             0             0              0                 0   \n",
       "127516             0             0              0                 0   \n",
       "2401               0             0              0                 0   \n",
       "14691              0             0              0                 1   \n",
       "...              ...           ...            ...               ...   \n",
       "108171             0             0              0                 0   \n",
       "173942             0             0              0                 1   \n",
       "169812             0             0              0                 1   \n",
       "97296              0             0              0                 0   \n",
       "299335             0             0              0                 0   \n",
       "\n",
       "        Brand_volvo  Repaired_yes  \n",
       "185096            0             0  \n",
       "273854            0             0  \n",
       "127516            0             0  \n",
       "2401              0             0  \n",
       "14691             0             0  \n",
       "...             ...           ...  \n",
       "108171            0             0  \n",
       "173942            0             0  \n",
       "169812            0             0  \n",
       "97296             0             0  \n",
       "299335            0             0  \n",
       "\n",
       "[151276 rows x 305 columns]"
      ]
     },
     "metadata": {},
     "output_type": "display_data"
    },
    {
     "data": {
      "text/html": [
       "<div>\n",
       "<style scoped>\n",
       "    .dataframe tbody tr th:only-of-type {\n",
       "        vertical-align: middle;\n",
       "    }\n",
       "\n",
       "    .dataframe tbody tr th {\n",
       "        vertical-align: top;\n",
       "    }\n",
       "\n",
       "    .dataframe thead th {\n",
       "        text-align: right;\n",
       "    }\n",
       "</style>\n",
       "<table border=\"1\" class=\"dataframe\">\n",
       "  <thead>\n",
       "    <tr style=\"text-align: right;\">\n",
       "      <th></th>\n",
       "      <th>RegistrationYear</th>\n",
       "      <th>Power</th>\n",
       "      <th>Kilometer</th>\n",
       "      <th>VehicleType_convertible</th>\n",
       "      <th>VehicleType_coupe</th>\n",
       "      <th>VehicleType_other</th>\n",
       "      <th>VehicleType_sedan</th>\n",
       "      <th>VehicleType_small</th>\n",
       "      <th>VehicleType_suv</th>\n",
       "      <th>VehicleType_wagon</th>\n",
       "      <th>...</th>\n",
       "      <th>Brand_skoda</th>\n",
       "      <th>Brand_smart</th>\n",
       "      <th>Brand_sonstige_autos</th>\n",
       "      <th>Brand_subaru</th>\n",
       "      <th>Brand_suzuki</th>\n",
       "      <th>Brand_toyota</th>\n",
       "      <th>Brand_trabant</th>\n",
       "      <th>Brand_volkswagen</th>\n",
       "      <th>Brand_volvo</th>\n",
       "      <th>Repaired_yes</th>\n",
       "    </tr>\n",
       "  </thead>\n",
       "  <tbody>\n",
       "    <tr>\n",
       "      <th>149540</th>\n",
       "      <td>0.203138</td>\n",
       "      <td>0.721018</td>\n",
       "      <td>0.609869</td>\n",
       "      <td>0</td>\n",
       "      <td>0</td>\n",
       "      <td>0</td>\n",
       "      <td>0</td>\n",
       "      <td>0</td>\n",
       "      <td>0</td>\n",
       "      <td>1</td>\n",
       "      <td>...</td>\n",
       "      <td>0</td>\n",
       "      <td>0</td>\n",
       "      <td>0</td>\n",
       "      <td>0</td>\n",
       "      <td>0</td>\n",
       "      <td>0</td>\n",
       "      <td>0</td>\n",
       "      <td>0</td>\n",
       "      <td>0</td>\n",
       "      <td>0</td>\n",
       "    </tr>\n",
       "    <tr>\n",
       "      <th>300344</th>\n",
       "      <td>0.784731</td>\n",
       "      <td>-0.885473</td>\n",
       "      <td>-0.726767</td>\n",
       "      <td>0</td>\n",
       "      <td>0</td>\n",
       "      <td>0</td>\n",
       "      <td>0</td>\n",
       "      <td>1</td>\n",
       "      <td>0</td>\n",
       "      <td>0</td>\n",
       "      <td>...</td>\n",
       "      <td>0</td>\n",
       "      <td>0</td>\n",
       "      <td>0</td>\n",
       "      <td>0</td>\n",
       "      <td>0</td>\n",
       "      <td>0</td>\n",
       "      <td>0</td>\n",
       "      <td>0</td>\n",
       "      <td>0</td>\n",
       "      <td>0</td>\n",
       "    </tr>\n",
       "    <tr>\n",
       "      <th>220186</th>\n",
       "      <td>-0.814650</td>\n",
       "      <td>0.483696</td>\n",
       "      <td>0.609869</td>\n",
       "      <td>0</td>\n",
       "      <td>0</td>\n",
       "      <td>0</td>\n",
       "      <td>1</td>\n",
       "      <td>0</td>\n",
       "      <td>0</td>\n",
       "      <td>0</td>\n",
       "      <td>...</td>\n",
       "      <td>0</td>\n",
       "      <td>0</td>\n",
       "      <td>0</td>\n",
       "      <td>0</td>\n",
       "      <td>0</td>\n",
       "      <td>0</td>\n",
       "      <td>0</td>\n",
       "      <td>0</td>\n",
       "      <td>0</td>\n",
       "      <td>0</td>\n",
       "    </tr>\n",
       "    <tr>\n",
       "      <th>51766</th>\n",
       "      <td>-1.105446</td>\n",
       "      <td>0.228118</td>\n",
       "      <td>0.609869</td>\n",
       "      <td>0</td>\n",
       "      <td>0</td>\n",
       "      <td>0</td>\n",
       "      <td>1</td>\n",
       "      <td>0</td>\n",
       "      <td>0</td>\n",
       "      <td>0</td>\n",
       "      <td>...</td>\n",
       "      <td>0</td>\n",
       "      <td>0</td>\n",
       "      <td>0</td>\n",
       "      <td>0</td>\n",
       "      <td>0</td>\n",
       "      <td>0</td>\n",
       "      <td>0</td>\n",
       "      <td>0</td>\n",
       "      <td>0</td>\n",
       "      <td>0</td>\n",
       "    </tr>\n",
       "    <tr>\n",
       "      <th>28933</th>\n",
       "      <td>0.639333</td>\n",
       "      <td>-0.136994</td>\n",
       "      <td>0.609869</td>\n",
       "      <td>0</td>\n",
       "      <td>0</td>\n",
       "      <td>0</td>\n",
       "      <td>0</td>\n",
       "      <td>0</td>\n",
       "      <td>0</td>\n",
       "      <td>1</td>\n",
       "      <td>...</td>\n",
       "      <td>0</td>\n",
       "      <td>0</td>\n",
       "      <td>0</td>\n",
       "      <td>0</td>\n",
       "      <td>0</td>\n",
       "      <td>0</td>\n",
       "      <td>0</td>\n",
       "      <td>0</td>\n",
       "      <td>0</td>\n",
       "      <td>0</td>\n",
       "    </tr>\n",
       "    <tr>\n",
       "      <th>...</th>\n",
       "      <td>...</td>\n",
       "      <td>...</td>\n",
       "      <td>...</td>\n",
       "      <td>...</td>\n",
       "      <td>...</td>\n",
       "      <td>...</td>\n",
       "      <td>...</td>\n",
       "      <td>...</td>\n",
       "      <td>...</td>\n",
       "      <td>...</td>\n",
       "      <td>...</td>\n",
       "      <td>...</td>\n",
       "      <td>...</td>\n",
       "      <td>...</td>\n",
       "      <td>...</td>\n",
       "      <td>...</td>\n",
       "      <td>...</td>\n",
       "      <td>...</td>\n",
       "      <td>...</td>\n",
       "      <td>...</td>\n",
       "      <td>...</td>\n",
       "    </tr>\n",
       "    <tr>\n",
       "      <th>8299</th>\n",
       "      <td>0.784731</td>\n",
       "      <td>0.848807</td>\n",
       "      <td>-0.726767</td>\n",
       "      <td>0</td>\n",
       "      <td>0</td>\n",
       "      <td>0</td>\n",
       "      <td>0</td>\n",
       "      <td>0</td>\n",
       "      <td>0</td>\n",
       "      <td>1</td>\n",
       "      <td>...</td>\n",
       "      <td>0</td>\n",
       "      <td>0</td>\n",
       "      <td>0</td>\n",
       "      <td>0</td>\n",
       "      <td>0</td>\n",
       "      <td>0</td>\n",
       "      <td>0</td>\n",
       "      <td>1</td>\n",
       "      <td>0</td>\n",
       "      <td>0</td>\n",
       "    </tr>\n",
       "    <tr>\n",
       "      <th>51979</th>\n",
       "      <td>0.784731</td>\n",
       "      <td>-1.159306</td>\n",
       "      <td>-2.330731</td>\n",
       "      <td>0</td>\n",
       "      <td>0</td>\n",
       "      <td>0</td>\n",
       "      <td>0</td>\n",
       "      <td>0</td>\n",
       "      <td>0</td>\n",
       "      <td>1</td>\n",
       "      <td>...</td>\n",
       "      <td>0</td>\n",
       "      <td>0</td>\n",
       "      <td>0</td>\n",
       "      <td>0</td>\n",
       "      <td>0</td>\n",
       "      <td>0</td>\n",
       "      <td>0</td>\n",
       "      <td>0</td>\n",
       "      <td>0</td>\n",
       "      <td>0</td>\n",
       "    </tr>\n",
       "    <tr>\n",
       "      <th>191684</th>\n",
       "      <td>-0.669251</td>\n",
       "      <td>-0.757684</td>\n",
       "      <td>0.609869</td>\n",
       "      <td>0</td>\n",
       "      <td>0</td>\n",
       "      <td>0</td>\n",
       "      <td>1</td>\n",
       "      <td>0</td>\n",
       "      <td>0</td>\n",
       "      <td>0</td>\n",
       "      <td>...</td>\n",
       "      <td>0</td>\n",
       "      <td>0</td>\n",
       "      <td>0</td>\n",
       "      <td>0</td>\n",
       "      <td>0</td>\n",
       "      <td>0</td>\n",
       "      <td>0</td>\n",
       "      <td>0</td>\n",
       "      <td>0</td>\n",
       "      <td>0</td>\n",
       "    </tr>\n",
       "    <tr>\n",
       "      <th>256138</th>\n",
       "      <td>-0.087658</td>\n",
       "      <td>-0.885473</td>\n",
       "      <td>-0.994095</td>\n",
       "      <td>0</td>\n",
       "      <td>0</td>\n",
       "      <td>0</td>\n",
       "      <td>0</td>\n",
       "      <td>1</td>\n",
       "      <td>0</td>\n",
       "      <td>0</td>\n",
       "      <td>...</td>\n",
       "      <td>0</td>\n",
       "      <td>0</td>\n",
       "      <td>0</td>\n",
       "      <td>0</td>\n",
       "      <td>0</td>\n",
       "      <td>0</td>\n",
       "      <td>0</td>\n",
       "      <td>0</td>\n",
       "      <td>0</td>\n",
       "      <td>0</td>\n",
       "    </tr>\n",
       "    <tr>\n",
       "      <th>45592</th>\n",
       "      <td>1.947917</td>\n",
       "      <td>0.666252</td>\n",
       "      <td>-0.058449</td>\n",
       "      <td>0</td>\n",
       "      <td>0</td>\n",
       "      <td>0</td>\n",
       "      <td>0</td>\n",
       "      <td>0</td>\n",
       "      <td>0</td>\n",
       "      <td>0</td>\n",
       "      <td>...</td>\n",
       "      <td>0</td>\n",
       "      <td>0</td>\n",
       "      <td>0</td>\n",
       "      <td>0</td>\n",
       "      <td>0</td>\n",
       "      <td>0</td>\n",
       "      <td>0</td>\n",
       "      <td>0</td>\n",
       "      <td>0</td>\n",
       "      <td>0</td>\n",
       "    </tr>\n",
       "  </tbody>\n",
       "</table>\n",
       "<p>50426 rows × 305 columns</p>\n",
       "</div>"
      ],
      "text/plain": [
       "        RegistrationYear     Power  Kilometer  VehicleType_convertible  \\\n",
       "149540          0.203138  0.721018   0.609869                        0   \n",
       "300344          0.784731 -0.885473  -0.726767                        0   \n",
       "220186         -0.814650  0.483696   0.609869                        0   \n",
       "51766          -1.105446  0.228118   0.609869                        0   \n",
       "28933           0.639333 -0.136994   0.609869                        0   \n",
       "...                  ...       ...        ...                      ...   \n",
       "8299            0.784731  0.848807  -0.726767                        0   \n",
       "51979           0.784731 -1.159306  -2.330731                        0   \n",
       "191684         -0.669251 -0.757684   0.609869                        0   \n",
       "256138         -0.087658 -0.885473  -0.994095                        0   \n",
       "45592           1.947917  0.666252  -0.058449                        0   \n",
       "\n",
       "        VehicleType_coupe  VehicleType_other  VehicleType_sedan  \\\n",
       "149540                  0                  0                  0   \n",
       "300344                  0                  0                  0   \n",
       "220186                  0                  0                  1   \n",
       "51766                   0                  0                  1   \n",
       "28933                   0                  0                  0   \n",
       "...                   ...                ...                ...   \n",
       "8299                    0                  0                  0   \n",
       "51979                   0                  0                  0   \n",
       "191684                  0                  0                  1   \n",
       "256138                  0                  0                  0   \n",
       "45592                   0                  0                  0   \n",
       "\n",
       "        VehicleType_small  VehicleType_suv  VehicleType_wagon  ...  \\\n",
       "149540                  0                0                  1  ...   \n",
       "300344                  1                0                  0  ...   \n",
       "220186                  0                0                  0  ...   \n",
       "51766                   0                0                  0  ...   \n",
       "28933                   0                0                  1  ...   \n",
       "...                   ...              ...                ...  ...   \n",
       "8299                    0                0                  1  ...   \n",
       "51979                   0                0                  1  ...   \n",
       "191684                  0                0                  0  ...   \n",
       "256138                  1                0                  0  ...   \n",
       "45592                   0                0                  0  ...   \n",
       "\n",
       "        Brand_skoda  Brand_smart  Brand_sonstige_autos  Brand_subaru  \\\n",
       "149540            0            0                     0             0   \n",
       "300344            0            0                     0             0   \n",
       "220186            0            0                     0             0   \n",
       "51766             0            0                     0             0   \n",
       "28933             0            0                     0             0   \n",
       "...             ...          ...                   ...           ...   \n",
       "8299              0            0                     0             0   \n",
       "51979             0            0                     0             0   \n",
       "191684            0            0                     0             0   \n",
       "256138            0            0                     0             0   \n",
       "45592             0            0                     0             0   \n",
       "\n",
       "        Brand_suzuki  Brand_toyota  Brand_trabant  Brand_volkswagen  \\\n",
       "149540             0             0              0                 0   \n",
       "300344             0             0              0                 0   \n",
       "220186             0             0              0                 0   \n",
       "51766              0             0              0                 0   \n",
       "28933              0             0              0                 0   \n",
       "...              ...           ...            ...               ...   \n",
       "8299               0             0              0                 1   \n",
       "51979              0             0              0                 0   \n",
       "191684             0             0              0                 0   \n",
       "256138             0             0              0                 0   \n",
       "45592              0             0              0                 0   \n",
       "\n",
       "        Brand_volvo  Repaired_yes  \n",
       "149540            0             0  \n",
       "300344            0             0  \n",
       "220186            0             0  \n",
       "51766             0             0  \n",
       "28933             0             0  \n",
       "...             ...           ...  \n",
       "8299              0             0  \n",
       "51979             0             0  \n",
       "191684            0             0  \n",
       "256138            0             0  \n",
       "45592             0             0  \n",
       "\n",
       "[50426 rows x 305 columns]"
      ]
     },
     "metadata": {},
     "output_type": "display_data"
    },
    {
     "data": {
      "text/html": [
       "<div>\n",
       "<style scoped>\n",
       "    .dataframe tbody tr th:only-of-type {\n",
       "        vertical-align: middle;\n",
       "    }\n",
       "\n",
       "    .dataframe tbody tr th {\n",
       "        vertical-align: top;\n",
       "    }\n",
       "\n",
       "    .dataframe thead th {\n",
       "        text-align: right;\n",
       "    }\n",
       "</style>\n",
       "<table border=\"1\" class=\"dataframe\">\n",
       "  <thead>\n",
       "    <tr style=\"text-align: right;\">\n",
       "      <th></th>\n",
       "      <th>RegistrationYear</th>\n",
       "      <th>Power</th>\n",
       "      <th>Kilometer</th>\n",
       "      <th>VehicleType_convertible</th>\n",
       "      <th>VehicleType_coupe</th>\n",
       "      <th>VehicleType_other</th>\n",
       "      <th>VehicleType_sedan</th>\n",
       "      <th>VehicleType_small</th>\n",
       "      <th>VehicleType_suv</th>\n",
       "      <th>VehicleType_wagon</th>\n",
       "      <th>...</th>\n",
       "      <th>Brand_skoda</th>\n",
       "      <th>Brand_smart</th>\n",
       "      <th>Brand_sonstige_autos</th>\n",
       "      <th>Brand_subaru</th>\n",
       "      <th>Brand_suzuki</th>\n",
       "      <th>Brand_toyota</th>\n",
       "      <th>Brand_trabant</th>\n",
       "      <th>Brand_volkswagen</th>\n",
       "      <th>Brand_volvo</th>\n",
       "      <th>Repaired_yes</th>\n",
       "    </tr>\n",
       "  </thead>\n",
       "  <tbody>\n",
       "    <tr>\n",
       "      <th>171724</th>\n",
       "      <td>0.203138</td>\n",
       "      <td>0.574974</td>\n",
       "      <td>0.609869</td>\n",
       "      <td>0</td>\n",
       "      <td>0</td>\n",
       "      <td>0</td>\n",
       "      <td>0</td>\n",
       "      <td>0</td>\n",
       "      <td>0</td>\n",
       "      <td>1</td>\n",
       "      <td>...</td>\n",
       "      <td>0</td>\n",
       "      <td>0</td>\n",
       "      <td>0</td>\n",
       "      <td>0</td>\n",
       "      <td>0</td>\n",
       "      <td>0</td>\n",
       "      <td>0</td>\n",
       "      <td>0</td>\n",
       "      <td>0</td>\n",
       "      <td>0</td>\n",
       "    </tr>\n",
       "    <tr>\n",
       "      <th>174442</th>\n",
       "      <td>0.057740</td>\n",
       "      <td>1.834609</td>\n",
       "      <td>0.609869</td>\n",
       "      <td>0</td>\n",
       "      <td>0</td>\n",
       "      <td>0</td>\n",
       "      <td>1</td>\n",
       "      <td>0</td>\n",
       "      <td>0</td>\n",
       "      <td>0</td>\n",
       "      <td>...</td>\n",
       "      <td>0</td>\n",
       "      <td>0</td>\n",
       "      <td>0</td>\n",
       "      <td>0</td>\n",
       "      <td>0</td>\n",
       "      <td>0</td>\n",
       "      <td>0</td>\n",
       "      <td>0</td>\n",
       "      <td>0</td>\n",
       "      <td>0</td>\n",
       "    </tr>\n",
       "    <tr>\n",
       "      <th>231988</th>\n",
       "      <td>-0.087658</td>\n",
       "      <td>-0.136994</td>\n",
       "      <td>-0.058449</td>\n",
       "      <td>0</td>\n",
       "      <td>0</td>\n",
       "      <td>0</td>\n",
       "      <td>0</td>\n",
       "      <td>1</td>\n",
       "      <td>0</td>\n",
       "      <td>0</td>\n",
       "      <td>...</td>\n",
       "      <td>0</td>\n",
       "      <td>0</td>\n",
       "      <td>0</td>\n",
       "      <td>0</td>\n",
       "      <td>0</td>\n",
       "      <td>0</td>\n",
       "      <td>0</td>\n",
       "      <td>0</td>\n",
       "      <td>0</td>\n",
       "      <td>0</td>\n",
       "    </tr>\n",
       "    <tr>\n",
       "      <th>268154</th>\n",
       "      <td>-0.233057</td>\n",
       "      <td>-0.410828</td>\n",
       "      <td>0.609869</td>\n",
       "      <td>0</td>\n",
       "      <td>0</td>\n",
       "      <td>0</td>\n",
       "      <td>1</td>\n",
       "      <td>0</td>\n",
       "      <td>0</td>\n",
       "      <td>0</td>\n",
       "      <td>...</td>\n",
       "      <td>0</td>\n",
       "      <td>0</td>\n",
       "      <td>0</td>\n",
       "      <td>0</td>\n",
       "      <td>0</td>\n",
       "      <td>0</td>\n",
       "      <td>0</td>\n",
       "      <td>0</td>\n",
       "      <td>0</td>\n",
       "      <td>0</td>\n",
       "    </tr>\n",
       "    <tr>\n",
       "      <th>32805</th>\n",
       "      <td>-2.123234</td>\n",
       "      <td>0.100329</td>\n",
       "      <td>0.609869</td>\n",
       "      <td>0</td>\n",
       "      <td>0</td>\n",
       "      <td>0</td>\n",
       "      <td>0</td>\n",
       "      <td>0</td>\n",
       "      <td>0</td>\n",
       "      <td>1</td>\n",
       "      <td>...</td>\n",
       "      <td>0</td>\n",
       "      <td>0</td>\n",
       "      <td>0</td>\n",
       "      <td>0</td>\n",
       "      <td>0</td>\n",
       "      <td>0</td>\n",
       "      <td>0</td>\n",
       "      <td>0</td>\n",
       "      <td>0</td>\n",
       "      <td>0</td>\n",
       "    </tr>\n",
       "    <tr>\n",
       "      <th>...</th>\n",
       "      <td>...</td>\n",
       "      <td>...</td>\n",
       "      <td>...</td>\n",
       "      <td>...</td>\n",
       "      <td>...</td>\n",
       "      <td>...</td>\n",
       "      <td>...</td>\n",
       "      <td>...</td>\n",
       "      <td>...</td>\n",
       "      <td>...</td>\n",
       "      <td>...</td>\n",
       "      <td>...</td>\n",
       "      <td>...</td>\n",
       "      <td>...</td>\n",
       "      <td>...</td>\n",
       "      <td>...</td>\n",
       "      <td>...</td>\n",
       "      <td>...</td>\n",
       "      <td>...</td>\n",
       "      <td>...</td>\n",
       "      <td>...</td>\n",
       "    </tr>\n",
       "    <tr>\n",
       "      <th>265034</th>\n",
       "      <td>0.784731</td>\n",
       "      <td>-0.995006</td>\n",
       "      <td>-2.865385</td>\n",
       "      <td>0</td>\n",
       "      <td>0</td>\n",
       "      <td>0</td>\n",
       "      <td>0</td>\n",
       "      <td>1</td>\n",
       "      <td>0</td>\n",
       "      <td>0</td>\n",
       "      <td>...</td>\n",
       "      <td>0</td>\n",
       "      <td>0</td>\n",
       "      <td>0</td>\n",
       "      <td>0</td>\n",
       "      <td>0</td>\n",
       "      <td>0</td>\n",
       "      <td>0</td>\n",
       "      <td>0</td>\n",
       "      <td>0</td>\n",
       "      <td>0</td>\n",
       "    </tr>\n",
       "    <tr>\n",
       "      <th>167622</th>\n",
       "      <td>0.203138</td>\n",
       "      <td>0.301140</td>\n",
       "      <td>0.609869</td>\n",
       "      <td>0</td>\n",
       "      <td>0</td>\n",
       "      <td>0</td>\n",
       "      <td>1</td>\n",
       "      <td>0</td>\n",
       "      <td>0</td>\n",
       "      <td>0</td>\n",
       "      <td>...</td>\n",
       "      <td>0</td>\n",
       "      <td>0</td>\n",
       "      <td>0</td>\n",
       "      <td>0</td>\n",
       "      <td>0</td>\n",
       "      <td>0</td>\n",
       "      <td>0</td>\n",
       "      <td>1</td>\n",
       "      <td>0</td>\n",
       "      <td>0</td>\n",
       "    </tr>\n",
       "    <tr>\n",
       "      <th>330466</th>\n",
       "      <td>-0.669251</td>\n",
       "      <td>-0.611639</td>\n",
       "      <td>0.609869</td>\n",
       "      <td>0</td>\n",
       "      <td>0</td>\n",
       "      <td>0</td>\n",
       "      <td>0</td>\n",
       "      <td>0</td>\n",
       "      <td>0</td>\n",
       "      <td>1</td>\n",
       "      <td>...</td>\n",
       "      <td>0</td>\n",
       "      <td>0</td>\n",
       "      <td>0</td>\n",
       "      <td>0</td>\n",
       "      <td>0</td>\n",
       "      <td>0</td>\n",
       "      <td>0</td>\n",
       "      <td>0</td>\n",
       "      <td>0</td>\n",
       "      <td>0</td>\n",
       "    </tr>\n",
       "    <tr>\n",
       "      <th>246902</th>\n",
       "      <td>-0.378455</td>\n",
       "      <td>-1.195818</td>\n",
       "      <td>0.609869</td>\n",
       "      <td>0</td>\n",
       "      <td>0</td>\n",
       "      <td>0</td>\n",
       "      <td>0</td>\n",
       "      <td>1</td>\n",
       "      <td>0</td>\n",
       "      <td>0</td>\n",
       "      <td>...</td>\n",
       "      <td>0</td>\n",
       "      <td>0</td>\n",
       "      <td>0</td>\n",
       "      <td>0</td>\n",
       "      <td>0</td>\n",
       "      <td>0</td>\n",
       "      <td>0</td>\n",
       "      <td>0</td>\n",
       "      <td>0</td>\n",
       "      <td>0</td>\n",
       "    </tr>\n",
       "    <tr>\n",
       "      <th>1656</th>\n",
       "      <td>0.057740</td>\n",
       "      <td>0.848807</td>\n",
       "      <td>-3.266376</td>\n",
       "      <td>0</td>\n",
       "      <td>1</td>\n",
       "      <td>0</td>\n",
       "      <td>0</td>\n",
       "      <td>0</td>\n",
       "      <td>0</td>\n",
       "      <td>0</td>\n",
       "      <td>...</td>\n",
       "      <td>0</td>\n",
       "      <td>0</td>\n",
       "      <td>0</td>\n",
       "      <td>0</td>\n",
       "      <td>0</td>\n",
       "      <td>0</td>\n",
       "      <td>0</td>\n",
       "      <td>0</td>\n",
       "      <td>0</td>\n",
       "      <td>0</td>\n",
       "    </tr>\n",
       "  </tbody>\n",
       "</table>\n",
       "<p>50426 rows × 305 columns</p>\n",
       "</div>"
      ],
      "text/plain": [
       "        RegistrationYear     Power  Kilometer  VehicleType_convertible  \\\n",
       "171724          0.203138  0.574974   0.609869                        0   \n",
       "174442          0.057740  1.834609   0.609869                        0   \n",
       "231988         -0.087658 -0.136994  -0.058449                        0   \n",
       "268154         -0.233057 -0.410828   0.609869                        0   \n",
       "32805          -2.123234  0.100329   0.609869                        0   \n",
       "...                  ...       ...        ...                      ...   \n",
       "265034          0.784731 -0.995006  -2.865385                        0   \n",
       "167622          0.203138  0.301140   0.609869                        0   \n",
       "330466         -0.669251 -0.611639   0.609869                        0   \n",
       "246902         -0.378455 -1.195818   0.609869                        0   \n",
       "1656            0.057740  0.848807  -3.266376                        0   \n",
       "\n",
       "        VehicleType_coupe  VehicleType_other  VehicleType_sedan  \\\n",
       "171724                  0                  0                  0   \n",
       "174442                  0                  0                  1   \n",
       "231988                  0                  0                  0   \n",
       "268154                  0                  0                  1   \n",
       "32805                   0                  0                  0   \n",
       "...                   ...                ...                ...   \n",
       "265034                  0                  0                  0   \n",
       "167622                  0                  0                  1   \n",
       "330466                  0                  0                  0   \n",
       "246902                  0                  0                  0   \n",
       "1656                    1                  0                  0   \n",
       "\n",
       "        VehicleType_small  VehicleType_suv  VehicleType_wagon  ...  \\\n",
       "171724                  0                0                  1  ...   \n",
       "174442                  0                0                  0  ...   \n",
       "231988                  1                0                  0  ...   \n",
       "268154                  0                0                  0  ...   \n",
       "32805                   0                0                  1  ...   \n",
       "...                   ...              ...                ...  ...   \n",
       "265034                  1                0                  0  ...   \n",
       "167622                  0                0                  0  ...   \n",
       "330466                  0                0                  1  ...   \n",
       "246902                  1                0                  0  ...   \n",
       "1656                    0                0                  0  ...   \n",
       "\n",
       "        Brand_skoda  Brand_smart  Brand_sonstige_autos  Brand_subaru  \\\n",
       "171724            0            0                     0             0   \n",
       "174442            0            0                     0             0   \n",
       "231988            0            0                     0             0   \n",
       "268154            0            0                     0             0   \n",
       "32805             0            0                     0             0   \n",
       "...             ...          ...                   ...           ...   \n",
       "265034            0            0                     0             0   \n",
       "167622            0            0                     0             0   \n",
       "330466            0            0                     0             0   \n",
       "246902            0            0                     0             0   \n",
       "1656              0            0                     0             0   \n",
       "\n",
       "        Brand_suzuki  Brand_toyota  Brand_trabant  Brand_volkswagen  \\\n",
       "171724             0             0              0                 0   \n",
       "174442             0             0              0                 0   \n",
       "231988             0             0              0                 0   \n",
       "268154             0             0              0                 0   \n",
       "32805              0             0              0                 0   \n",
       "...              ...           ...            ...               ...   \n",
       "265034             0             0              0                 0   \n",
       "167622             0             0              0                 1   \n",
       "330466             0             0              0                 0   \n",
       "246902             0             0              0                 0   \n",
       "1656               0             0              0                 0   \n",
       "\n",
       "        Brand_volvo  Repaired_yes  \n",
       "171724            0             0  \n",
       "174442            0             0  \n",
       "231988            0             0  \n",
       "268154            0             0  \n",
       "32805             0             0  \n",
       "...             ...           ...  \n",
       "265034            0             0  \n",
       "167622            0             0  \n",
       "330466            0             0  \n",
       "246902            0             0  \n",
       "1656              0             0  \n",
       "\n",
       "[50426 rows x 305 columns]"
      ]
     },
     "metadata": {},
     "output_type": "display_data"
    }
   ],
   "source": [
    "# Масштабирование признаков\n",
    "scale_list = ['RegistrationYear', 'Power', 'Kilometer']\n",
    "\n",
    "scaler = StandardScaler()\n",
    "scaler.fit(features_train[scale_list])\n",
    "\n",
    "features_train[scale_list] = scaler.transform(features_train[scale_list])\n",
    "features_valid[scale_list] = scaler.transform(features_valid[scale_list])\n",
    "features_test[scale_list] = scaler.transform(features_test[scale_list])\n",
    "\n",
    "display(features_train)\n",
    "display(features_valid)\n",
    "display(features_test)"
   ]
  },
  {
   "cell_type": "markdown",
   "metadata": {},
   "source": [
    "### Для деревьев"
   ]
  },
  {
   "cell_type": "markdown",
   "metadata": {},
   "source": [
    "**Разбика данных на фичи и целевой признак для деревьев**"
   ]
  },
  {
   "cell_type": "code",
   "execution_count": 65,
   "metadata": {},
   "outputs": [],
   "source": [
    "df_tree = df.copy()"
   ]
  },
  {
   "cell_type": "code",
   "execution_count": 66,
   "metadata": {},
   "outputs": [],
   "source": [
    "df_tree['VehicleType'] = df_tree['VehicleType'].fillna(df_tree['VehicleType']\n",
    "                                               .mode()\n",
    "                                               .values[0])\n",
    "df_tree['Model'] = df_tree['Model'].fillna(df_tree['Model']\n",
    "                                   .mode()\n",
    "                                   .values[0])"
   ]
  },
  {
   "cell_type": "code",
   "execution_count": 67,
   "metadata": {},
   "outputs": [],
   "source": [
    "# Разбивка данных на фичи и таргет\n",
    "features_tree = df_tree.drop('Price', axis=1)\n",
    "target_tree = df_tree['Price']"
   ]
  },
  {
   "cell_type": "markdown",
   "metadata": {},
   "source": [
    "**Кодирование категориальных фич для деревьев**"
   ]
  },
  {
   "cell_type": "code",
   "execution_count": 69,
   "metadata": {},
   "outputs": [
    {
     "data": {
      "text/plain": [
       "(189096, 9)"
      ]
     },
     "metadata": {},
     "output_type": "display_data"
    },
    {
     "data": {
      "text/plain": [
       "(189096,)"
      ]
     },
     "metadata": {},
     "output_type": "display_data"
    },
    {
     "data": {
      "text/plain": [
       "(63032, 9)"
      ]
     },
     "metadata": {},
     "output_type": "display_data"
    },
    {
     "data": {
      "text/plain": [
       "(63032,)"
      ]
     },
     "metadata": {},
     "output_type": "display_data"
    }
   ],
   "source": [
    "(features_train_tree, features_valid_tree,\n",
    " target_train_tree, target_valid_tree) = train_test_split(features_tree,\n",
    "                                                          target_tree,\n",
    "                                                          test_size=0.25,\n",
    "                                                          random_state=12345)\n",
    "\n",
    "display(features_train_tree.shape)\n",
    "display(target_train_tree.shape)\n",
    "display(features_valid_tree.shape)\n",
    "display(target_valid_tree.shape)"
   ]
  },
  {
   "cell_type": "code",
   "execution_count": 70,
   "metadata": {},
   "outputs": [
    {
     "data": {
      "text/plain": [
       "(31516, 9)"
      ]
     },
     "metadata": {},
     "output_type": "display_data"
    },
    {
     "data": {
      "text/plain": [
       "(31516,)"
      ]
     },
     "metadata": {},
     "output_type": "display_data"
    },
    {
     "data": {
      "text/plain": [
       "(31516, 9)"
      ]
     },
     "metadata": {},
     "output_type": "display_data"
    },
    {
     "data": {
      "text/plain": [
       "(31516,)"
      ]
     },
     "metadata": {},
     "output_type": "display_data"
    }
   ],
   "source": [
    "(features_valid_tree, features_test_tree,\n",
    " target_valid_tree, target_test_tree) = train_test_split(features_valid_tree,\n",
    "                                                         target_valid_tree,\n",
    "                                                         test_size=0.5,\n",
    "                                                         random_state=12345)\n",
    "\n",
    "display(features_valid_tree.shape)\n",
    "display(target_valid_tree.shape)\n",
    "display(features_test_tree.shape)\n",
    "display(target_test_tree.shape)"
   ]
  },
  {
   "cell_type": "code",
   "execution_count": 71,
   "metadata": {},
   "outputs": [
    {
     "name": "stderr",
     "output_type": "stream",
     "text": [
      "/tmp/ipykernel_31/2180118040.py:5: SettingWithCopyWarning: \n",
      "A value is trying to be set on a copy of a slice from a DataFrame.\n",
      "Try using .loc[row_indexer,col_indexer] = value instead\n",
      "\n",
      "See the caveats in the documentation: https://pandas.pydata.org/pandas-docs/stable/user_guide/indexing.html#returning-a-view-versus-a-copy\n",
      "  features_train_tree[encoder_list] = ordinal_encoder.transform(features_train_tree[encoder_list])\n",
      "/opt/conda/lib/python3.9/site-packages/pandas/core/indexing.py:1738: SettingWithCopyWarning: \n",
      "A value is trying to be set on a copy of a slice from a DataFrame.\n",
      "Try using .loc[row_indexer,col_indexer] = value instead\n",
      "\n",
      "See the caveats in the documentation: https://pandas.pydata.org/pandas-docs/stable/user_guide/indexing.html#returning-a-view-versus-a-copy\n",
      "  self._setitem_single_column(loc, value[:, i].tolist(), pi)\n"
     ]
    },
    {
     "data": {
      "text/html": [
       "<div>\n",
       "<style scoped>\n",
       "    .dataframe tbody tr th:only-of-type {\n",
       "        vertical-align: middle;\n",
       "    }\n",
       "\n",
       "    .dataframe tbody tr th {\n",
       "        vertical-align: top;\n",
       "    }\n",
       "\n",
       "    .dataframe thead th {\n",
       "        text-align: right;\n",
       "    }\n",
       "</style>\n",
       "<table border=\"1\" class=\"dataframe\">\n",
       "  <thead>\n",
       "    <tr style=\"text-align: right;\">\n",
       "      <th></th>\n",
       "      <th>VehicleType</th>\n",
       "      <th>RegistrationYear</th>\n",
       "      <th>Gearbox</th>\n",
       "      <th>Power</th>\n",
       "      <th>Model</th>\n",
       "      <th>Kilometer</th>\n",
       "      <th>FuelType</th>\n",
       "      <th>Brand</th>\n",
       "      <th>Repaired</th>\n",
       "    </tr>\n",
       "  </thead>\n",
       "  <tbody>\n",
       "    <tr>\n",
       "      <th>153529</th>\n",
       "      <td>4.0</td>\n",
       "      <td>2012</td>\n",
       "      <td>0.0</td>\n",
       "      <td>122</td>\n",
       "      <td>116.0</td>\n",
       "      <td>60000</td>\n",
       "      <td>6.0</td>\n",
       "      <td>38.0</td>\n",
       "      <td>0.0</td>\n",
       "    </tr>\n",
       "    <tr>\n",
       "      <th>228624</th>\n",
       "      <td>0.0</td>\n",
       "      <td>2003</td>\n",
       "      <td>1.0</td>\n",
       "      <td>101</td>\n",
       "      <td>236.0</td>\n",
       "      <td>150000</td>\n",
       "      <td>2.0</td>\n",
       "      <td>24.0</td>\n",
       "      <td>0.0</td>\n",
       "    </tr>\n",
       "    <tr>\n",
       "      <th>86018</th>\n",
       "      <td>4.0</td>\n",
       "      <td>2008</td>\n",
       "      <td>0.0</td>\n",
       "      <td>235</td>\n",
       "      <td>15.0</td>\n",
       "      <td>150000</td>\n",
       "      <td>2.0</td>\n",
       "      <td>2.0</td>\n",
       "      <td>0.0</td>\n",
       "    </tr>\n",
       "    <tr>\n",
       "      <th>94469</th>\n",
       "      <td>5.0</td>\n",
       "      <td>2003</td>\n",
       "      <td>1.0</td>\n",
       "      <td>80</td>\n",
       "      <td>83.0</td>\n",
       "      <td>150000</td>\n",
       "      <td>6.0</td>\n",
       "      <td>24.0</td>\n",
       "      <td>0.0</td>\n",
       "    </tr>\n",
       "    <tr>\n",
       "      <th>32683</th>\n",
       "      <td>7.0</td>\n",
       "      <td>2004</td>\n",
       "      <td>1.0</td>\n",
       "      <td>155</td>\n",
       "      <td>203.0</td>\n",
       "      <td>125000</td>\n",
       "      <td>6.0</td>\n",
       "      <td>24.0</td>\n",
       "      <td>1.0</td>\n",
       "    </tr>\n",
       "    <tr>\n",
       "      <th>...</th>\n",
       "      <td>...</td>\n",
       "      <td>...</td>\n",
       "      <td>...</td>\n",
       "      <td>...</td>\n",
       "      <td>...</td>\n",
       "      <td>...</td>\n",
       "      <td>...</td>\n",
       "      <td>...</td>\n",
       "      <td>...</td>\n",
       "    </tr>\n",
       "    <tr>\n",
       "      <th>108171</th>\n",
       "      <td>4.0</td>\n",
       "      <td>2001</td>\n",
       "      <td>1.0</td>\n",
       "      <td>98</td>\n",
       "      <td>10.0</td>\n",
       "      <td>80000</td>\n",
       "      <td>6.0</td>\n",
       "      <td>19.0</td>\n",
       "      <td>0.0</td>\n",
       "    </tr>\n",
       "    <tr>\n",
       "      <th>173942</th>\n",
       "      <td>7.0</td>\n",
       "      <td>2001</td>\n",
       "      <td>1.0</td>\n",
       "      <td>150</td>\n",
       "      <td>170.0</td>\n",
       "      <td>150000</td>\n",
       "      <td>6.0</td>\n",
       "      <td>38.0</td>\n",
       "      <td>0.0</td>\n",
       "    </tr>\n",
       "    <tr>\n",
       "      <th>169812</th>\n",
       "      <td>0.0</td>\n",
       "      <td>2008</td>\n",
       "      <td>1.0</td>\n",
       "      <td>131</td>\n",
       "      <td>222.0</td>\n",
       "      <td>150000</td>\n",
       "      <td>2.0</td>\n",
       "      <td>38.0</td>\n",
       "      <td>0.0</td>\n",
       "    </tr>\n",
       "    <tr>\n",
       "      <th>97296</th>\n",
       "      <td>0.0</td>\n",
       "      <td>2014</td>\n",
       "      <td>1.0</td>\n",
       "      <td>125</td>\n",
       "      <td>60.0</td>\n",
       "      <td>30000</td>\n",
       "      <td>6.0</td>\n",
       "      <td>10.0</td>\n",
       "      <td>0.0</td>\n",
       "    </tr>\n",
       "    <tr>\n",
       "      <th>299335</th>\n",
       "      <td>4.0</td>\n",
       "      <td>2003</td>\n",
       "      <td>1.0</td>\n",
       "      <td>163</td>\n",
       "      <td>15.0</td>\n",
       "      <td>150000</td>\n",
       "      <td>2.0</td>\n",
       "      <td>2.0</td>\n",
       "      <td>0.0</td>\n",
       "    </tr>\n",
       "  </tbody>\n",
       "</table>\n",
       "<p>189096 rows × 9 columns</p>\n",
       "</div>"
      ],
      "text/plain": [
       "        VehicleType  RegistrationYear  Gearbox  Power  Model  Kilometer  \\\n",
       "153529          4.0              2012      0.0    122  116.0      60000   \n",
       "228624          0.0              2003      1.0    101  236.0     150000   \n",
       "86018           4.0              2008      0.0    235   15.0     150000   \n",
       "94469           5.0              2003      1.0     80   83.0     150000   \n",
       "32683           7.0              2004      1.0    155  203.0     125000   \n",
       "...             ...               ...      ...    ...    ...        ...   \n",
       "108171          4.0              2001      1.0     98   10.0      80000   \n",
       "173942          7.0              2001      1.0    150  170.0     150000   \n",
       "169812          0.0              2008      1.0    131  222.0     150000   \n",
       "97296           0.0              2014      1.0    125   60.0      30000   \n",
       "299335          4.0              2003      1.0    163   15.0     150000   \n",
       "\n",
       "        FuelType  Brand  Repaired  \n",
       "153529       6.0   38.0       0.0  \n",
       "228624       2.0   24.0       0.0  \n",
       "86018        2.0    2.0       0.0  \n",
       "94469        6.0   24.0       0.0  \n",
       "32683        6.0   24.0       1.0  \n",
       "...          ...    ...       ...  \n",
       "108171       6.0   19.0       0.0  \n",
       "173942       6.0   38.0       0.0  \n",
       "169812       2.0   38.0       0.0  \n",
       "97296        6.0   10.0       0.0  \n",
       "299335       2.0    2.0       0.0  \n",
       "\n",
       "[189096 rows x 9 columns]"
      ]
     },
     "metadata": {},
     "output_type": "display_data"
    },
    {
     "data": {
      "text/html": [
       "<div>\n",
       "<style scoped>\n",
       "    .dataframe tbody tr th:only-of-type {\n",
       "        vertical-align: middle;\n",
       "    }\n",
       "\n",
       "    .dataframe tbody tr th {\n",
       "        vertical-align: top;\n",
       "    }\n",
       "\n",
       "    .dataframe thead th {\n",
       "        text-align: right;\n",
       "    }\n",
       "</style>\n",
       "<table border=\"1\" class=\"dataframe\">\n",
       "  <thead>\n",
       "    <tr style=\"text-align: right;\">\n",
       "      <th></th>\n",
       "      <th>VehicleType</th>\n",
       "      <th>RegistrationYear</th>\n",
       "      <th>Gearbox</th>\n",
       "      <th>Power</th>\n",
       "      <th>Model</th>\n",
       "      <th>Kilometer</th>\n",
       "      <th>FuelType</th>\n",
       "      <th>Brand</th>\n",
       "      <th>Repaired</th>\n",
       "    </tr>\n",
       "  </thead>\n",
       "  <tbody>\n",
       "    <tr>\n",
       "      <th>71941</th>\n",
       "      <td>7.0</td>\n",
       "      <td>2009</td>\n",
       "      <td>1.0</td>\n",
       "      <td>160</td>\n",
       "      <td>122.0</td>\n",
       "      <td>100000</td>\n",
       "      <td>2.0</td>\n",
       "      <td>24.0</td>\n",
       "      <td>0.0</td>\n",
       "    </tr>\n",
       "    <tr>\n",
       "      <th>120901</th>\n",
       "      <td>5.0</td>\n",
       "      <td>1999</td>\n",
       "      <td>1.0</td>\n",
       "      <td>54</td>\n",
       "      <td>106.0</td>\n",
       "      <td>40000</td>\n",
       "      <td>6.0</td>\n",
       "      <td>32.0</td>\n",
       "      <td>0.0</td>\n",
       "    </tr>\n",
       "    <tr>\n",
       "      <th>208606</th>\n",
       "      <td>7.0</td>\n",
       "      <td>2008</td>\n",
       "      <td>1.0</td>\n",
       "      <td>156</td>\n",
       "      <td>59.0</td>\n",
       "      <td>100000</td>\n",
       "      <td>6.0</td>\n",
       "      <td>20.0</td>\n",
       "      <td>0.0</td>\n",
       "    </tr>\n",
       "    <tr>\n",
       "      <th>194437</th>\n",
       "      <td>4.0</td>\n",
       "      <td>1995</td>\n",
       "      <td>0.0</td>\n",
       "      <td>116</td>\n",
       "      <td>116.0</td>\n",
       "      <td>150000</td>\n",
       "      <td>6.0</td>\n",
       "      <td>38.0</td>\n",
       "      <td>0.0</td>\n",
       "    </tr>\n",
       "    <tr>\n",
       "      <th>302632</th>\n",
       "      <td>7.0</td>\n",
       "      <td>2002</td>\n",
       "      <td>0.0</td>\n",
       "      <td>163</td>\n",
       "      <td>29.0</td>\n",
       "      <td>150000</td>\n",
       "      <td>2.0</td>\n",
       "      <td>1.0</td>\n",
       "      <td>1.0</td>\n",
       "    </tr>\n",
       "    <tr>\n",
       "      <th>...</th>\n",
       "      <td>...</td>\n",
       "      <td>...</td>\n",
       "      <td>...</td>\n",
       "      <td>...</td>\n",
       "      <td>...</td>\n",
       "      <td>...</td>\n",
       "      <td>...</td>\n",
       "      <td>...</td>\n",
       "      <td>...</td>\n",
       "    </tr>\n",
       "    <tr>\n",
       "      <th>222066</th>\n",
       "      <td>4.0</td>\n",
       "      <td>2003</td>\n",
       "      <td>1.0</td>\n",
       "      <td>69</td>\n",
       "      <td>83.0</td>\n",
       "      <td>150000</td>\n",
       "      <td>2.0</td>\n",
       "      <td>24.0</td>\n",
       "      <td>1.0</td>\n",
       "    </tr>\n",
       "    <tr>\n",
       "      <th>245720</th>\n",
       "      <td>4.0</td>\n",
       "      <td>2016</td>\n",
       "      <td>1.0</td>\n",
       "      <td>75</td>\n",
       "      <td>116.0</td>\n",
       "      <td>150000</td>\n",
       "      <td>6.0</td>\n",
       "      <td>38.0</td>\n",
       "      <td>0.0</td>\n",
       "    </tr>\n",
       "    <tr>\n",
       "      <th>191684</th>\n",
       "      <td>4.0</td>\n",
       "      <td>1999</td>\n",
       "      <td>1.0</td>\n",
       "      <td>82</td>\n",
       "      <td>33.0</td>\n",
       "      <td>150000</td>\n",
       "      <td>6.0</td>\n",
       "      <td>20.0</td>\n",
       "      <td>0.0</td>\n",
       "    </tr>\n",
       "    <tr>\n",
       "      <th>132617</th>\n",
       "      <td>0.0</td>\n",
       "      <td>2013</td>\n",
       "      <td>1.0</td>\n",
       "      <td>105</td>\n",
       "      <td>116.0</td>\n",
       "      <td>100000</td>\n",
       "      <td>2.0</td>\n",
       "      <td>38.0</td>\n",
       "      <td>1.0</td>\n",
       "    </tr>\n",
       "    <tr>\n",
       "      <th>216681</th>\n",
       "      <td>6.0</td>\n",
       "      <td>2005</td>\n",
       "      <td>0.0</td>\n",
       "      <td>224</td>\n",
       "      <td>219.0</td>\n",
       "      <td>150000</td>\n",
       "      <td>2.0</td>\n",
       "      <td>38.0</td>\n",
       "      <td>0.0</td>\n",
       "    </tr>\n",
       "  </tbody>\n",
       "</table>\n",
       "<p>31516 rows × 9 columns</p>\n",
       "</div>"
      ],
      "text/plain": [
       "        VehicleType  RegistrationYear  Gearbox  Power  Model  Kilometer  \\\n",
       "71941           7.0              2009      1.0    160  122.0     100000   \n",
       "120901          5.0              1999      1.0     54  106.0      40000   \n",
       "208606          7.0              2008      1.0    156   59.0     100000   \n",
       "194437          4.0              1995      0.0    116  116.0     150000   \n",
       "302632          7.0              2002      0.0    163   29.0     150000   \n",
       "...             ...               ...      ...    ...    ...        ...   \n",
       "222066          4.0              2003      1.0     69   83.0     150000   \n",
       "245720          4.0              2016      1.0     75  116.0     150000   \n",
       "191684          4.0              1999      1.0     82   33.0     150000   \n",
       "132617          0.0              2013      1.0    105  116.0     100000   \n",
       "216681          6.0              2005      0.0    224  219.0     150000   \n",
       "\n",
       "        FuelType  Brand  Repaired  \n",
       "71941        2.0   24.0       0.0  \n",
       "120901       6.0   32.0       0.0  \n",
       "208606       6.0   20.0       0.0  \n",
       "194437       6.0   38.0       0.0  \n",
       "302632       2.0    1.0       1.0  \n",
       "...          ...    ...       ...  \n",
       "222066       2.0   24.0       1.0  \n",
       "245720       6.0   38.0       0.0  \n",
       "191684       6.0   20.0       0.0  \n",
       "132617       2.0   38.0       1.0  \n",
       "216681       2.0   38.0       0.0  \n",
       "\n",
       "[31516 rows x 9 columns]"
      ]
     },
     "metadata": {},
     "output_type": "display_data"
    },
    {
     "data": {
      "text/html": [
       "<div>\n",
       "<style scoped>\n",
       "    .dataframe tbody tr th:only-of-type {\n",
       "        vertical-align: middle;\n",
       "    }\n",
       "\n",
       "    .dataframe tbody tr th {\n",
       "        vertical-align: top;\n",
       "    }\n",
       "\n",
       "    .dataframe thead th {\n",
       "        text-align: right;\n",
       "    }\n",
       "</style>\n",
       "<table border=\"1\" class=\"dataframe\">\n",
       "  <thead>\n",
       "    <tr style=\"text-align: right;\">\n",
       "      <th></th>\n",
       "      <th>VehicleType</th>\n",
       "      <th>RegistrationYear</th>\n",
       "      <th>Gearbox</th>\n",
       "      <th>Power</th>\n",
       "      <th>Model</th>\n",
       "      <th>Kilometer</th>\n",
       "      <th>FuelType</th>\n",
       "      <th>Brand</th>\n",
       "      <th>Repaired</th>\n",
       "    </tr>\n",
       "  </thead>\n",
       "  <tbody>\n",
       "    <tr>\n",
       "      <th>51202</th>\n",
       "      <td>3.0</td>\n",
       "      <td>1991</td>\n",
       "      <td>1.0</td>\n",
       "      <td>170</td>\n",
       "      <td>166.0</td>\n",
       "      <td>150000</td>\n",
       "      <td>2.0</td>\n",
       "      <td>23.0</td>\n",
       "      <td>1.0</td>\n",
       "    </tr>\n",
       "    <tr>\n",
       "      <th>31521</th>\n",
       "      <td>1.0</td>\n",
       "      <td>2008</td>\n",
       "      <td>1.0</td>\n",
       "      <td>140</td>\n",
       "      <td>42.0</td>\n",
       "      <td>125000</td>\n",
       "      <td>6.0</td>\n",
       "      <td>24.0</td>\n",
       "      <td>0.0</td>\n",
       "    </tr>\n",
       "    <tr>\n",
       "      <th>302229</th>\n",
       "      <td>4.0</td>\n",
       "      <td>2009</td>\n",
       "      <td>1.0</td>\n",
       "      <td>102</td>\n",
       "      <td>163.0</td>\n",
       "      <td>125000</td>\n",
       "      <td>6.0</td>\n",
       "      <td>31.0</td>\n",
       "      <td>0.0</td>\n",
       "    </tr>\n",
       "    <tr>\n",
       "      <th>139213</th>\n",
       "      <td>4.0</td>\n",
       "      <td>2006</td>\n",
       "      <td>0.0</td>\n",
       "      <td>163</td>\n",
       "      <td>11.0</td>\n",
       "      <td>100000</td>\n",
       "      <td>2.0</td>\n",
       "      <td>2.0</td>\n",
       "      <td>0.0</td>\n",
       "    </tr>\n",
       "    <tr>\n",
       "      <th>108316</th>\n",
       "      <td>2.0</td>\n",
       "      <td>2003</td>\n",
       "      <td>0.0</td>\n",
       "      <td>163</td>\n",
       "      <td>76.0</td>\n",
       "      <td>150000</td>\n",
       "      <td>6.0</td>\n",
       "      <td>20.0</td>\n",
       "      <td>0.0</td>\n",
       "    </tr>\n",
       "    <tr>\n",
       "      <th>...</th>\n",
       "      <td>...</td>\n",
       "      <td>...</td>\n",
       "      <td>...</td>\n",
       "      <td>...</td>\n",
       "      <td>...</td>\n",
       "      <td>...</td>\n",
       "      <td>...</td>\n",
       "      <td>...</td>\n",
       "      <td>...</td>\n",
       "    </tr>\n",
       "    <tr>\n",
       "      <th>136633</th>\n",
       "      <td>5.0</td>\n",
       "      <td>2014</td>\n",
       "      <td>1.0</td>\n",
       "      <td>136</td>\n",
       "      <td>80.0</td>\n",
       "      <td>20000</td>\n",
       "      <td>6.0</td>\n",
       "      <td>21.0</td>\n",
       "      <td>0.0</td>\n",
       "    </tr>\n",
       "    <tr>\n",
       "      <th>181956</th>\n",
       "      <td>3.0</td>\n",
       "      <td>2002</td>\n",
       "      <td>1.0</td>\n",
       "      <td>88</td>\n",
       "      <td>211.0</td>\n",
       "      <td>100000</td>\n",
       "      <td>2.0</td>\n",
       "      <td>20.0</td>\n",
       "      <td>0.0</td>\n",
       "    </tr>\n",
       "    <tr>\n",
       "      <th>207456</th>\n",
       "      <td>5.0</td>\n",
       "      <td>1995</td>\n",
       "      <td>1.0</td>\n",
       "      <td>50</td>\n",
       "      <td>102.0</td>\n",
       "      <td>100000</td>\n",
       "      <td>6.0</td>\n",
       "      <td>10.0</td>\n",
       "      <td>1.0</td>\n",
       "    </tr>\n",
       "    <tr>\n",
       "      <th>202110</th>\n",
       "      <td>1.0</td>\n",
       "      <td>2011</td>\n",
       "      <td>1.0</td>\n",
       "      <td>140</td>\n",
       "      <td>97.0</td>\n",
       "      <td>100000</td>\n",
       "      <td>2.0</td>\n",
       "      <td>38.0</td>\n",
       "      <td>0.0</td>\n",
       "    </tr>\n",
       "    <tr>\n",
       "      <th>259159</th>\n",
       "      <td>4.0</td>\n",
       "      <td>2000</td>\n",
       "      <td>0.0</td>\n",
       "      <td>184</td>\n",
       "      <td>15.0</td>\n",
       "      <td>150000</td>\n",
       "      <td>2.0</td>\n",
       "      <td>2.0</td>\n",
       "      <td>0.0</td>\n",
       "    </tr>\n",
       "  </tbody>\n",
       "</table>\n",
       "<p>31516 rows × 9 columns</p>\n",
       "</div>"
      ],
      "text/plain": [
       "        VehicleType  RegistrationYear  Gearbox  Power  Model  Kilometer  \\\n",
       "51202           3.0              1991      1.0    170  166.0     150000   \n",
       "31521           1.0              2008      1.0    140   42.0     125000   \n",
       "302229          4.0              2009      1.0    102  163.0     125000   \n",
       "139213          4.0              2006      0.0    163   11.0     100000   \n",
       "108316          2.0              2003      0.0    163   76.0     150000   \n",
       "...             ...               ...      ...    ...    ...        ...   \n",
       "136633          5.0              2014      1.0    136   80.0      20000   \n",
       "181956          3.0              2002      1.0     88  211.0     100000   \n",
       "207456          5.0              1995      1.0     50  102.0     100000   \n",
       "202110          1.0              2011      1.0    140   97.0     100000   \n",
       "259159          4.0              2000      0.0    184   15.0     150000   \n",
       "\n",
       "        FuelType  Brand  Repaired  \n",
       "51202        2.0   23.0       1.0  \n",
       "31521        6.0   24.0       0.0  \n",
       "302229       6.0   31.0       0.0  \n",
       "139213       2.0    2.0       0.0  \n",
       "108316       6.0   20.0       0.0  \n",
       "...          ...    ...       ...  \n",
       "136633       6.0   21.0       0.0  \n",
       "181956       2.0   20.0       0.0  \n",
       "207456       6.0   10.0       1.0  \n",
       "202110       2.0   38.0       0.0  \n",
       "259159       2.0    2.0       0.0  \n",
       "\n",
       "[31516 rows x 9 columns]"
      ]
     },
     "metadata": {},
     "output_type": "display_data"
    }
   ],
   "source": [
    "encoder_list = ['VehicleType', 'Gearbox', 'Model',\n",
    "                'FuelType', 'Brand', 'Repaired']\n",
    "ordinal_encoder = OrdinalEncoder(handle_unknown='use_encoded_value', unknown_value=-1)\n",
    "ordinal_encoder.fit(features_train_tree[encoder_list])\n",
    "features_train_tree[encoder_list] = ordinal_encoder.transform(features_train_tree[encoder_list])\n",
    "features_valid_tree[encoder_list] = ordinal_encoder.transform(features_valid_tree[encoder_list])\n",
    "features_test_tree[encoder_list] = ordinal_encoder.transform(features_test_tree[encoder_list])\n",
    "display(features_train_tree)\n",
    "display(features_valid_tree)\n",
    "display(features_test_tree)"
   ]
  },
  {
   "cell_type": "markdown",
   "metadata": {},
   "source": [
    "### Вывод\n"
   ]
  },
  {
   "cell_type": "markdown",
   "metadata": {},
   "source": [
    "Мы провели обработку данных для того, чтобы использовать их при обучении моделей. Нам удалось:\n",
    "* удалить ненужные признаки;\n",
    "* обработать пропущенные, повторяющиеся и аномальные значения;\n",
    "* кодировать,  масштабировать признаки и разделить их на обучающую и валидационную выборки для моделей градиентного бустинга;\n",
    "* кодировать, масштабировать признаки и их разделить на обучающую и валидационную выборки для деревьев."
   ]
  },
  {
   "cell_type": "markdown",
   "metadata": {},
   "source": [
    "## Анализ Моделей"
   ]
  },
  {
   "cell_type": "markdown",
   "metadata": {},
   "source": [
    "Обучим модели на обработанных данных и оценим их качество через метрику RMSE"
   ]
  },
  {
   "cell_type": "markdown",
   "metadata": {},
   "source": [
    "### DesicionTreeRegressor"
   ]
  },
  {
   "cell_type": "markdown",
   "metadata": {},
   "source": [
    "**Вариант проверки №1**"
   ]
  },
  {
   "cell_type": "code",
   "execution_count": 72,
   "metadata": {},
   "outputs": [],
   "source": [
    "model_tree = DecisionTreeRegressor(max_depth=10, random_state=12345)"
   ]
  },
  {
   "cell_type": "code",
   "execution_count": 73,
   "metadata": {},
   "outputs": [
    {
     "name": "stdout",
     "output_type": "stream",
     "text": [
      "CPU times: user 332 ms, sys: 100 µs, total: 332 ms\n",
      "Wall time: 332 ms\n"
     ]
    },
    {
     "data": {
      "text/plain": [
       "DecisionTreeRegressor(max_depth=10, random_state=12345)"
      ]
     },
     "execution_count": 73,
     "metadata": {},
     "output_type": "execute_result"
    }
   ],
   "source": [
    "%%time\n",
    "\n",
    "model_tree.fit(features_train_tree, target_train_tree)"
   ]
  },
  {
   "cell_type": "code",
   "execution_count": 74,
   "metadata": {},
   "outputs": [
    {
     "data": {
      "text/plain": [
       "2056.7804397194177"
      ]
     },
     "metadata": {},
     "output_type": "display_data"
    },
    {
     "name": "stdout",
     "output_type": "stream",
     "text": [
      "CPU times: user 8.81 ms, sys: 10 µs, total: 8.82 ms\n",
      "Wall time: 7.9 ms\n"
     ]
    }
   ],
   "source": [
    "%%time\n",
    "\n",
    "predictions_valid = model_tree.predict(features_valid_tree)\n",
    "rmse = mean_squared_error(target_valid_tree, predictions_valid) ** .5\n",
    "\n",
    "display(rmse)"
   ]
  },
  {
   "cell_type": "markdown",
   "metadata": {},
   "source": [
    "**Вариант проверки №2**"
   ]
  },
  {
   "cell_type": "code",
   "execution_count": 75,
   "metadata": {},
   "outputs": [],
   "source": [
    "model_tree_2 = DecisionTreeRegressor(max_depth=50, random_state=12345)"
   ]
  },
  {
   "cell_type": "code",
   "execution_count": 76,
   "metadata": {},
   "outputs": [
    {
     "name": "stdout",
     "output_type": "stream",
     "text": [
      "CPU times: user 560 ms, sys: 168 µs, total: 561 ms\n",
      "Wall time: 560 ms\n"
     ]
    },
    {
     "data": {
      "text/plain": [
       "DecisionTreeRegressor(max_depth=50, random_state=12345)"
      ]
     },
     "execution_count": 76,
     "metadata": {},
     "output_type": "execute_result"
    }
   ],
   "source": [
    "%%time\n",
    "\n",
    "model_tree_2.fit(features_train_tree, target_train_tree)"
   ]
  },
  {
   "cell_type": "code",
   "execution_count": 77,
   "metadata": {},
   "outputs": [
    {
     "data": {
      "text/plain": [
       "2067.1659875124537"
      ]
     },
     "metadata": {},
     "output_type": "display_data"
    },
    {
     "name": "stdout",
     "output_type": "stream",
     "text": [
      "CPU times: user 16.5 ms, sys: 17 µs, total: 16.6 ms\n",
      "Wall time: 15.5 ms\n"
     ]
    }
   ],
   "source": [
    "%%time\n",
    "\n",
    "predictions_valid = model_tree_2.predict(features_valid_tree)\n",
    "rmse = mean_squared_error(target_valid_tree, predictions_valid) ** .5\n",
    "\n",
    "display(rmse)"
   ]
  },
  {
   "cell_type": "markdown",
   "metadata": {},
   "source": [
    "### LGBMRegressor"
   ]
  },
  {
   "cell_type": "markdown",
   "metadata": {},
   "source": [
    "**Вариант проверки №1**"
   ]
  },
  {
   "cell_type": "code",
   "execution_count": 78,
   "metadata": {},
   "outputs": [],
   "source": [
    "model_LGBM = LGBMRegressor(learning_rate=1,\n",
    "                           max_depth=5,\n",
    "                           metric='rmse',\n",
    "                           random_state=12345)"
   ]
  },
  {
   "cell_type": "code",
   "execution_count": 79,
   "metadata": {},
   "outputs": [
    {
     "name": "stdout",
     "output_type": "stream",
     "text": [
      "CPU times: user 3.52 s, sys: 150 ms, total: 3.67 s\n",
      "Wall time: 3.64 s\n"
     ]
    },
    {
     "data": {
      "text/plain": [
       "LGBMRegressor(learning_rate=1, max_depth=5, metric='rmse', random_state=12345)"
      ]
     },
     "execution_count": 79,
     "metadata": {},
     "output_type": "execute_result"
    }
   ],
   "source": [
    "%%time\n",
    "\n",
    "model_LGBM.fit(features_train, target_train)"
   ]
  },
  {
   "cell_type": "code",
   "execution_count": 80,
   "metadata": {},
   "outputs": [
    {
     "data": {
      "text/plain": [
       "1807.2801812670498"
      ]
     },
     "metadata": {},
     "output_type": "display_data"
    },
    {
     "name": "stdout",
     "output_type": "stream",
     "text": [
      "CPU times: user 451 ms, sys: 33.8 ms, total: 484 ms\n",
      "Wall time: 499 ms\n"
     ]
    }
   ],
   "source": [
    "%%time\n",
    "\n",
    "predictions_valid = model_LGBM.predict(features_valid)\n",
    "rmse = mean_squared_error(target_valid, predictions_valid) ** .5\n",
    "\n",
    "display(rmse)"
   ]
  },
  {
   "cell_type": "markdown",
   "metadata": {},
   "source": [
    "**Вариант проверки №2**"
   ]
  },
  {
   "cell_type": "code",
   "execution_count": 81,
   "metadata": {},
   "outputs": [],
   "source": [
    "model_LGBM_2 = LGBMRegressor(learning_rate=1,\n",
    "                             max_depth=10,\n",
    "                             metric='rmse',\n",
    "                             random_state=12345)"
   ]
  },
  {
   "cell_type": "code",
   "execution_count": 82,
   "metadata": {},
   "outputs": [
    {
     "name": "stdout",
     "output_type": "stream",
     "text": [
      "CPU times: user 4.25 s, sys: 167 ms, total: 4.41 s\n",
      "Wall time: 4.39 s\n"
     ]
    },
    {
     "data": {
      "text/plain": [
       "LGBMRegressor(learning_rate=1, max_depth=10, metric='rmse', random_state=12345)"
      ]
     },
     "execution_count": 82,
     "metadata": {},
     "output_type": "execute_result"
    }
   ],
   "source": [
    "%%time\n",
    "\n",
    "model_LGBM_2.fit(features_train, target_train)"
   ]
  },
  {
   "cell_type": "code",
   "execution_count": 83,
   "metadata": {},
   "outputs": [
    {
     "data": {
      "text/plain": [
       "1760.6882827940124"
      ]
     },
     "metadata": {},
     "output_type": "display_data"
    },
    {
     "name": "stdout",
     "output_type": "stream",
     "text": [
      "CPU times: user 395 ms, sys: 57.2 ms, total: 452 ms\n",
      "Wall time: 493 ms\n"
     ]
    }
   ],
   "source": [
    "%%time\n",
    "\n",
    "predictions_valid = model_LGBM_2.predict(features_valid)\n",
    "rmse = mean_squared_error(target_valid, predictions_valid) ** .5\n",
    "\n",
    "display(rmse)"
   ]
  },
  {
   "cell_type": "markdown",
   "metadata": {},
   "source": [
    "## CatBoostRegressor"
   ]
  },
  {
   "cell_type": "markdown",
   "metadata": {},
   "source": [
    "**Вариант проверки №1**"
   ]
  },
  {
   "cell_type": "code",
   "execution_count": 84,
   "metadata": {},
   "outputs": [],
   "source": [
    "model_CB = CatBoostRegressor(learning_rate=1,\n",
    "                             depth=5,\n",
    "                             loss_function='RMSE',\n",
    "                             random_state=12345)"
   ]
  },
  {
   "cell_type": "code",
   "execution_count": 85,
   "metadata": {},
   "outputs": [
    {
     "data": {
      "application/vnd.jupyter.widget-view+json": {
       "model_id": "657efd56a76f401b85000a050c3bde2e",
       "version_major": 2,
       "version_minor": 0
      },
      "text/plain": [
       "MetricVisualizer(layout=Layout(align_self='stretch', height='500px'))"
      ]
     },
     "metadata": {},
     "output_type": "display_data"
    },
    {
     "name": "stdout",
     "output_type": "stream",
     "text": [
      "CPU times: user 16.7 s, sys: 71.7 ms, total: 16.8 s\n",
      "Wall time: 18.1 s\n"
     ]
    },
    {
     "data": {
      "text/plain": [
       "<catboost.core.CatBoostRegressor at 0x7fb908d40f40>"
      ]
     },
     "execution_count": 85,
     "metadata": {},
     "output_type": "execute_result"
    }
   ],
   "source": [
    "%%time\n",
    "\n",
    "model_CB.fit(features_train,\n",
    "             target_train,\n",
    "             verbose=False,\n",
    "             plot=True)"
   ]
  },
  {
   "cell_type": "code",
   "execution_count": 86,
   "metadata": {},
   "outputs": [
    {
     "data": {
      "text/plain": [
       "1715.3120717459763"
      ]
     },
     "metadata": {},
     "output_type": "display_data"
    },
    {
     "name": "stdout",
     "output_type": "stream",
     "text": [
      "CPU times: user 90.3 ms, sys: 37 µs, total: 90.3 ms\n",
      "Wall time: 88.9 ms\n"
     ]
    }
   ],
   "source": [
    "%%time\n",
    "\n",
    "predictions_valid = model_CB.predict(features_valid)\n",
    "rmse = mean_squared_error(target_valid, predictions_valid) ** .5\n",
    "display(rmse)"
   ]
  },
  {
   "cell_type": "markdown",
   "metadata": {},
   "source": [
    "**Вариант проверки №2**"
   ]
  },
  {
   "cell_type": "code",
   "execution_count": 87,
   "metadata": {},
   "outputs": [],
   "source": [
    "model_CB_2 = CatBoostRegressor(learning_rate=1,\n",
    "                               depth=10,\n",
    "                               loss_function='RMSE',\n",
    "                               random_state=12345)"
   ]
  },
  {
   "cell_type": "code",
   "execution_count": 88,
   "metadata": {},
   "outputs": [
    {
     "data": {
      "application/vnd.jupyter.widget-view+json": {
       "model_id": "116e70c8f5a745ac8165656107de127b",
       "version_major": 2,
       "version_minor": 0
      },
      "text/plain": [
       "MetricVisualizer(layout=Layout(align_self='stretch', height='500px'))"
      ]
     },
     "metadata": {},
     "output_type": "display_data"
    },
    {
     "name": "stdout",
     "output_type": "stream",
     "text": [
      "CPU times: user 38.8 s, sys: 173 ms, total: 39 s\n",
      "Wall time: 40.3 s\n"
     ]
    },
    {
     "data": {
      "text/plain": [
       "<catboost.core.CatBoostRegressor at 0x7fb9084db790>"
      ]
     },
     "execution_count": 88,
     "metadata": {},
     "output_type": "execute_result"
    }
   ],
   "source": [
    "%%time\n",
    "\n",
    "model_CB_2.fit(features_train, target_train, verbose=False, plot=True)"
   ]
  },
  {
   "cell_type": "code",
   "execution_count": 89,
   "metadata": {},
   "outputs": [
    {
     "data": {
      "text/plain": [
       "1759.1749195741265"
      ]
     },
     "metadata": {},
     "output_type": "display_data"
    },
    {
     "name": "stdout",
     "output_type": "stream",
     "text": [
      "CPU times: user 196 ms, sys: 0 ns, total: 196 ms\n",
      "Wall time: 200 ms\n"
     ]
    }
   ],
   "source": [
    "%%time\n",
    "\n",
    "predictions_valid = model_CB_2.predict(features_valid)\n",
    "rmse = mean_squared_error(target_valid, predictions_valid) ** .5\n",
    "display(rmse)"
   ]
  },
  {
   "cell_type": "markdown",
   "metadata": {},
   "source": [
    "### Вывод:"
   ]
  },
  {
   "cell_type": "markdown",
   "metadata": {},
   "source": [
    "По итогам обучения мы имеем следующие показатели "
   ]
  },
  {
   "cell_type": "markdown",
   "metadata": {},
   "source": [
    "| Вариант реализации | Показатели | DecisionTreeRegressor | LGBMRegressor | CatBoostRegressor|  \n",
    "| --- | --- | --- |--- | --- |\n",
    "| Вариант №1  | RMSE | 2056.78 |1807.28 | 1715.31 |\n",
    "|   | Скорость обучения | 332 ms | 3.88 s | 19.4 s |\n",
    "|   | Скорость предсказания | 7.67 ms | 409 ms | 99.1 ms |\n",
    "| Вариант №2  | RMSE | 2067.16 | 1760.69 | 1759.18 |\n",
    "|   | Скорость обучения | 568 ms | 4.27 s | 42.2 s |\n",
    "|   | Скорость предсказания | 17.6 ms | 494 ms | 264 ms |"
   ]
  },
  {
   "cell_type": "markdown",
   "metadata": {},
   "source": [
    "Как видно из итоговой таблицы, `DecisionTreeRegressor` с увеличением глубины обучения переобучилось и стало плохо предсказывать. То же самое произошло и с моделью `CatBoostRegressor` - ее время обучения и предсказания увеличилось, а ключевая метрика ухудшилась. `LGBMRegressor` с увеличение глубины улучшил свои показатели, но ненамного."
   ]
  },
  {
   "cell_type": "markdown",
   "metadata": {},
   "source": [
    "**Проверим лучшую модель на тестовой выборке**"
   ]
  },
  {
   "cell_type": "code",
   "execution_count": 90,
   "metadata": {},
   "outputs": [
    {
     "data": {
      "text/plain": [
       "1679.1692521246946"
      ]
     },
     "metadata": {},
     "output_type": "display_data"
    },
    {
     "name": "stdout",
     "output_type": "stream",
     "text": [
      "CPU times: user 81.4 ms, sys: 0 ns, total: 81.4 ms\n",
      "Wall time: 86.2 ms\n"
     ]
    }
   ],
   "source": [
    "%%time\n",
    "\n",
    "predictions_test = model_CB.predict(features_test)\n",
    "rmse = mean_squared_error(target_test, predictions_test) ** .5\n",
    "display(rmse)"
   ]
  },
  {
   "cell_type": "markdown",
   "metadata": {},
   "source": [
    "RMSE на тестовой выборке составляет 1679.17 Евро."
   ]
  },
  {
   "cell_type": "markdown",
   "metadata": {},
   "source": [
    "## Итоговый вывод:"
   ]
  },
  {
   "cell_type": "markdown",
   "metadata": {},
   "source": [
    "Исходя из проведенного анализа данных и построения модели машинного обучения можно сделать вывод, что в соответствии с критериями, установленными заказчиком, а именно:\n",
    "\n",
    "* качество предсказания;\n",
    "* время обучения модели;\n",
    "* время предсказания модели.\n",
    "\n",
    "Самой подходящей моделью является первый вариант `CatBoostRegressor` с max_depth=5, т.к. скорость ее предсказания достаточно высока при низкой RMSE. Обучение модели проходит примерно в 5 раз дольше, чем обучение `LGBMRegressor`, однако, т.к. данные статичные, то переобучение модели можно производить нединамично и эта метрика менее важная, чем отлик модели на запрос пользователя. RMSE на тестовой выборке показывает значение 1679.17 евро, что несильно отличается от показателя на валидационной выборке."
   ]
  }
 ],
 "metadata": {
  "ExecuteTimeLog": [
   {
    "duration": 1315,
    "start_time": "2024-02-26T13:51:16.544Z"
   },
   {
    "duration": 2835,
    "start_time": "2024-02-26T13:52:20.315Z"
   },
   {
    "duration": 146,
    "start_time": "2024-02-26T13:53:20.484Z"
   },
   {
    "duration": 20,
    "start_time": "2024-02-26T13:58:11.368Z"
   },
   {
    "duration": 11,
    "start_time": "2024-02-26T13:59:28.247Z"
   },
   {
    "duration": 89,
    "start_time": "2024-02-26T13:59:58.052Z"
   },
   {
    "duration": 152,
    "start_time": "2024-02-26T14:01:26.787Z"
   },
   {
    "duration": 139,
    "start_time": "2024-02-26T14:06:26.348Z"
   },
   {
    "duration": 106,
    "start_time": "2024-02-26T14:17:10.319Z"
   },
   {
    "duration": 26,
    "start_time": "2024-02-26T14:17:10.848Z"
   },
   {
    "duration": 110,
    "start_time": "2024-02-26T14:17:16.985Z"
   },
   {
    "duration": 11,
    "start_time": "2024-02-26T14:17:25.528Z"
   },
   {
    "duration": 12,
    "start_time": "2024-02-26T14:17:36.623Z"
   },
   {
    "duration": 3,
    "start_time": "2024-02-26T14:17:49.476Z"
   },
   {
    "duration": 881,
    "start_time": "2024-02-26T14:17:49.480Z"
   },
   {
    "duration": 149,
    "start_time": "2024-02-26T14:17:50.363Z"
   },
   {
    "duration": 90,
    "start_time": "2024-02-26T14:17:50.513Z"
   },
   {
    "duration": 11,
    "start_time": "2024-02-26T14:17:50.605Z"
   },
   {
    "duration": 29,
    "start_time": "2024-02-26T14:17:50.617Z"
   },
   {
    "duration": 90,
    "start_time": "2024-02-26T14:27:52.448Z"
   },
   {
    "duration": 1773,
    "start_time": "2024-02-26T14:34:14.299Z"
   },
   {
    "duration": 93,
    "start_time": "2024-02-26T14:36:58.957Z"
   },
   {
    "duration": 104,
    "start_time": "2024-02-26T14:37:32.086Z"
   },
   {
    "duration": 95,
    "start_time": "2024-02-26T14:39:36.498Z"
   },
   {
    "duration": 2,
    "start_time": "2024-02-26T14:40:02.720Z"
   },
   {
    "duration": 156,
    "start_time": "2024-02-26T14:40:41.811Z"
   },
   {
    "duration": 167,
    "start_time": "2024-02-26T14:41:08.976Z"
   },
   {
    "duration": 7,
    "start_time": "2024-02-26T14:41:28.077Z"
   },
   {
    "duration": 145,
    "start_time": "2024-02-26T14:41:35.662Z"
   },
   {
    "duration": 1659,
    "start_time": "2024-02-26T14:58:03.168Z"
   },
   {
    "duration": 1584,
    "start_time": "2024-02-26T14:58:27.330Z"
   },
   {
    "duration": 1564,
    "start_time": "2024-02-26T15:07:03.485Z"
   },
   {
    "duration": 111,
    "start_time": "2024-02-26T15:08:23.133Z"
   },
   {
    "duration": 116,
    "start_time": "2024-02-26T15:14:19.099Z"
   },
   {
    "duration": 88,
    "start_time": "2024-02-26T15:15:44.848Z"
   },
   {
    "duration": 84,
    "start_time": "2024-02-26T15:16:12.046Z"
   },
   {
    "duration": 79,
    "start_time": "2024-02-26T15:16:37.805Z"
   },
   {
    "duration": 83,
    "start_time": "2024-02-26T15:17:09.614Z"
   },
   {
    "duration": 1344,
    "start_time": "2024-02-26T15:17:31.383Z"
   },
   {
    "duration": 893,
    "start_time": "2024-02-26T15:17:32.729Z"
   },
   {
    "duration": 162,
    "start_time": "2024-02-26T15:17:33.623Z"
   },
   {
    "duration": 106,
    "start_time": "2024-02-26T15:17:33.788Z"
   },
   {
    "duration": 13,
    "start_time": "2024-02-26T15:17:33.896Z"
   },
   {
    "duration": 27,
    "start_time": "2024-02-26T15:17:33.910Z"
   },
   {
    "duration": 112,
    "start_time": "2024-02-26T15:17:33.938Z"
   },
   {
    "duration": 103,
    "start_time": "2024-02-26T15:17:34.052Z"
   },
   {
    "duration": 98,
    "start_time": "2024-02-26T15:17:34.157Z"
   },
   {
    "duration": 229,
    "start_time": "2024-02-26T15:17:34.257Z"
   },
   {
    "duration": 226,
    "start_time": "2024-02-26T15:17:34.488Z"
   },
   {
    "duration": 143,
    "start_time": "2024-02-26T15:17:34.716Z"
   },
   {
    "duration": 1561,
    "start_time": "2024-02-26T15:17:34.860Z"
   },
   {
    "duration": 104,
    "start_time": "2024-02-26T15:17:36.422Z"
   },
   {
    "duration": 86,
    "start_time": "2024-02-26T15:18:39.347Z"
   },
   {
    "duration": 88,
    "start_time": "2024-02-26T15:19:01.004Z"
   },
   {
    "duration": 1348,
    "start_time": "2024-02-26T15:19:32.558Z"
   },
   {
    "duration": 893,
    "start_time": "2024-02-26T15:19:33.908Z"
   },
   {
    "duration": 161,
    "start_time": "2024-02-26T15:19:34.803Z"
   },
   {
    "duration": 107,
    "start_time": "2024-02-26T15:19:34.965Z"
   },
   {
    "duration": 22,
    "start_time": "2024-02-26T15:19:35.073Z"
   },
   {
    "duration": 26,
    "start_time": "2024-02-26T15:19:35.097Z"
   },
   {
    "duration": 105,
    "start_time": "2024-02-26T15:19:35.124Z"
   },
   {
    "duration": 120,
    "start_time": "2024-02-26T15:19:35.231Z"
   },
   {
    "duration": 89,
    "start_time": "2024-02-26T15:19:35.353Z"
   },
   {
    "duration": 185,
    "start_time": "2024-02-26T15:19:35.444Z"
   },
   {
    "duration": 168,
    "start_time": "2024-02-26T15:19:35.630Z"
   },
   {
    "duration": 133,
    "start_time": "2024-02-26T15:19:35.800Z"
   },
   {
    "duration": 1555,
    "start_time": "2024-02-26T15:19:35.934Z"
   },
   {
    "duration": 118,
    "start_time": "2024-02-26T15:19:37.491Z"
   },
   {
    "duration": 14,
    "start_time": "2024-02-26T15:53:33.593Z"
   },
   {
    "duration": 100,
    "start_time": "2024-02-26T15:55:14.102Z"
   },
   {
    "duration": 444,
    "start_time": "2024-02-26T15:56:05.251Z"
   },
   {
    "duration": 98,
    "start_time": "2024-02-26T15:56:17.007Z"
   },
   {
    "duration": 287,
    "start_time": "2024-02-26T15:56:59.927Z"
   },
   {
    "duration": 104,
    "start_time": "2024-02-26T15:57:34.878Z"
   },
   {
    "duration": 79,
    "start_time": "2024-02-26T15:57:54.877Z"
   },
   {
    "duration": 89,
    "start_time": "2024-02-26T15:58:27.259Z"
   },
   {
    "duration": 191,
    "start_time": "2024-02-26T15:58:56.429Z"
   },
   {
    "duration": 143,
    "start_time": "2024-02-26T16:02:33.381Z"
   },
   {
    "duration": 24,
    "start_time": "2024-02-26T16:02:56.008Z"
   },
   {
    "duration": 56,
    "start_time": "2024-02-26T16:03:08.637Z"
   },
   {
    "duration": 17,
    "start_time": "2024-02-26T16:03:21.115Z"
   },
   {
    "duration": 108,
    "start_time": "2024-02-26T16:03:35.666Z"
   },
   {
    "duration": 793,
    "start_time": "2024-02-26T16:04:29.169Z"
   },
   {
    "duration": 41,
    "start_time": "2024-02-26T16:05:14.244Z"
   },
   {
    "duration": 14,
    "start_time": "2024-02-26T16:05:25.441Z"
   },
   {
    "duration": 73,
    "start_time": "2024-02-26T19:47:39.808Z"
   },
   {
    "duration": 41,
    "start_time": "2024-02-26T20:12:06.404Z"
   },
   {
    "duration": 75,
    "start_time": "2024-02-26T20:12:06.764Z"
   },
   {
    "duration": 76,
    "start_time": "2024-02-26T20:12:07.378Z"
   },
   {
    "duration": 1318,
    "start_time": "2024-02-26T20:12:30.998Z"
   },
   {
    "duration": 1057,
    "start_time": "2024-02-26T20:12:32.317Z"
   },
   {
    "duration": 148,
    "start_time": "2024-02-26T20:12:33.375Z"
   },
   {
    "duration": 114,
    "start_time": "2024-02-26T20:12:33.526Z"
   },
   {
    "duration": 11,
    "start_time": "2024-02-26T20:12:33.642Z"
   },
   {
    "duration": 57,
    "start_time": "2024-02-26T20:12:33.655Z"
   },
   {
    "duration": 113,
    "start_time": "2024-02-26T20:12:33.714Z"
   },
   {
    "duration": 96,
    "start_time": "2024-02-26T20:12:33.829Z"
   },
   {
    "duration": 87,
    "start_time": "2024-02-26T20:12:33.926Z"
   },
   {
    "duration": 174,
    "start_time": "2024-02-26T20:12:34.021Z"
   },
   {
    "duration": 207,
    "start_time": "2024-02-26T20:12:34.197Z"
   },
   {
    "duration": 131,
    "start_time": "2024-02-26T20:12:34.405Z"
   },
   {
    "duration": 1479,
    "start_time": "2024-02-26T20:12:34.538Z"
   },
   {
    "duration": 89,
    "start_time": "2024-02-26T20:12:36.018Z"
   },
   {
    "duration": 24,
    "start_time": "2024-02-26T20:12:36.109Z"
   },
   {
    "duration": 435,
    "start_time": "2024-02-26T20:12:36.134Z"
   },
   {
    "duration": 270,
    "start_time": "2024-02-26T20:12:36.570Z"
   },
   {
    "duration": 86,
    "start_time": "2024-02-26T20:12:36.841Z"
   },
   {
    "duration": 229,
    "start_time": "2024-02-26T20:12:36.929Z"
   },
   {
    "duration": 22,
    "start_time": "2024-02-26T20:12:37.159Z"
   },
   {
    "duration": 67,
    "start_time": "2024-02-26T20:12:37.183Z"
   },
   {
    "duration": 16,
    "start_time": "2024-02-26T20:12:37.252Z"
   },
   {
    "duration": 768,
    "start_time": "2024-02-26T20:12:37.270Z"
   },
   {
    "duration": 38,
    "start_time": "2024-02-26T20:12:38.040Z"
   },
   {
    "duration": 15,
    "start_time": "2024-02-26T20:12:38.080Z"
   },
   {
    "duration": 2,
    "start_time": "2024-02-26T20:12:38.121Z"
   },
   {
    "duration": 338,
    "start_time": "2024-02-26T20:12:38.125Z"
   },
   {
    "duration": 11,
    "start_time": "2024-02-26T20:12:38.466Z"
   },
   {
    "duration": 82,
    "start_time": "2024-02-26T20:20:38.551Z"
   },
   {
    "duration": 3,
    "start_time": "2024-02-26T20:21:14.863Z"
   },
   {
    "duration": 572,
    "start_time": "2024-02-26T20:21:15.980Z"
   },
   {
    "duration": 20,
    "start_time": "2024-02-26T20:21:16.554Z"
   },
   {
    "duration": 3,
    "start_time": "2024-02-26T20:23:38.724Z"
   },
   {
    "duration": 3891,
    "start_time": "2024-02-26T20:23:39.547Z"
   },
   {
    "duration": 413,
    "start_time": "2024-02-26T20:23:43.521Z"
   },
   {
    "duration": 88,
    "start_time": "2024-02-26T20:23:43.935Z"
   },
   {
    "duration": 3,
    "start_time": "2024-02-26T20:32:50.805Z"
   },
   {
    "duration": 4274,
    "start_time": "2024-02-26T20:32:52.558Z"
   },
   {
    "duration": 497,
    "start_time": "2024-02-26T20:32:56.834Z"
   },
   {
    "duration": 76,
    "start_time": "2024-02-26T20:35:17.802Z"
   },
   {
    "duration": 3,
    "start_time": "2024-02-26T20:36:35.980Z"
   },
   {
    "duration": 19375,
    "start_time": "2024-02-26T20:36:36.326Z"
   },
   {
    "duration": 102,
    "start_time": "2024-02-26T20:36:55.703Z"
   },
   {
    "duration": 3,
    "start_time": "2024-02-26T20:44:06.248Z"
   },
   {
    "duration": 42249,
    "start_time": "2024-02-26T20:44:06.556Z"
   },
   {
    "duration": 267,
    "start_time": "2024-02-26T20:44:48.808Z"
   },
   {
    "duration": 83,
    "start_time": "2024-02-26T21:13:15.559Z"
   },
   {
    "duration": 100,
    "start_time": "2024-02-26T22:02:36.859Z"
   },
   {
    "duration": 79,
    "start_time": "2024-02-26T22:21:22.183Z"
   },
   {
    "duration": 1218,
    "start_time": "2024-02-26T22:38:50.148Z"
   },
   {
    "duration": 817,
    "start_time": "2024-02-26T22:38:51.368Z"
   },
   {
    "duration": 161,
    "start_time": "2024-02-26T22:38:52.187Z"
   },
   {
    "duration": 103,
    "start_time": "2024-02-26T22:38:52.350Z"
   },
   {
    "duration": 12,
    "start_time": "2024-02-26T22:38:52.455Z"
   },
   {
    "duration": 31,
    "start_time": "2024-02-26T22:38:52.468Z"
   },
   {
    "duration": 99,
    "start_time": "2024-02-26T22:38:52.500Z"
   },
   {
    "duration": 99,
    "start_time": "2024-02-26T22:38:52.600Z"
   },
   {
    "duration": 87,
    "start_time": "2024-02-26T22:38:52.701Z"
   },
   {
    "duration": 182,
    "start_time": "2024-02-26T22:38:52.790Z"
   },
   {
    "duration": 205,
    "start_time": "2024-02-26T22:38:52.974Z"
   },
   {
    "duration": 136,
    "start_time": "2024-02-26T22:38:53.180Z"
   },
   {
    "duration": 1522,
    "start_time": "2024-02-26T22:38:53.317Z"
   },
   {
    "duration": 100,
    "start_time": "2024-02-26T22:38:54.840Z"
   },
   {
    "duration": 14,
    "start_time": "2024-02-26T22:38:54.941Z"
   },
   {
    "duration": 446,
    "start_time": "2024-02-26T22:38:54.956Z"
   },
   {
    "duration": 273,
    "start_time": "2024-02-26T22:38:55.404Z"
   },
   {
    "duration": 96,
    "start_time": "2024-02-26T22:38:55.678Z"
   },
   {
    "duration": 189,
    "start_time": "2024-02-26T22:38:55.775Z"
   },
   {
    "duration": 21,
    "start_time": "2024-02-26T22:38:55.966Z"
   },
   {
    "duration": 66,
    "start_time": "2024-02-26T22:38:55.989Z"
   },
   {
    "duration": 17,
    "start_time": "2024-02-26T22:38:56.057Z"
   },
   {
    "duration": 750,
    "start_time": "2024-02-26T22:38:56.075Z"
   },
   {
    "duration": 36,
    "start_time": "2024-02-26T22:38:56.827Z"
   },
   {
    "duration": 14,
    "start_time": "2024-02-26T22:38:56.864Z"
   },
   {
    "duration": 2,
    "start_time": "2024-02-26T22:38:56.880Z"
   },
   {
    "duration": 345,
    "start_time": "2024-02-26T22:38:56.883Z"
   },
   {
    "duration": 10,
    "start_time": "2024-02-26T22:38:57.232Z"
   },
   {
    "duration": 3,
    "start_time": "2024-02-26T22:38:57.243Z"
   },
   {
    "duration": 598,
    "start_time": "2024-02-26T22:38:57.247Z"
   },
   {
    "duration": 21,
    "start_time": "2024-02-26T22:38:57.846Z"
   },
   {
    "duration": 2,
    "start_time": "2024-02-26T22:38:57.869Z"
   },
   {
    "duration": 4665,
    "start_time": "2024-02-26T22:38:57.873Z"
   },
   {
    "duration": 490,
    "start_time": "2024-02-26T22:39:02.539Z"
   },
   {
    "duration": 2,
    "start_time": "2024-02-26T22:39:03.031Z"
   },
   {
    "duration": 4394,
    "start_time": "2024-02-26T22:39:03.035Z"
   },
   {
    "duration": 501,
    "start_time": "2024-02-26T22:39:07.430Z"
   },
   {
    "duration": 3,
    "start_time": "2024-02-26T22:39:07.933Z"
   },
   {
    "duration": 18566,
    "start_time": "2024-02-26T22:39:07.937Z"
   },
   {
    "duration": 103,
    "start_time": "2024-02-26T22:39:26.505Z"
   },
   {
    "duration": 3,
    "start_time": "2024-02-26T22:39:26.610Z"
   },
   {
    "duration": 42790,
    "start_time": "2024-02-26T22:39:26.620Z"
   },
   {
    "duration": 255,
    "start_time": "2024-02-26T22:40:09.411Z"
   },
   {
    "duration": 122,
    "start_time": "2024-02-26T22:40:09.667Z"
   },
   {
    "duration": 123,
    "start_time": "2024-02-27T08:23:53.942Z"
   },
   {
    "duration": 48,
    "start_time": "2024-02-27T15:46:47.342Z"
   },
   {
    "duration": 6,
    "start_time": "2024-02-27T15:47:00.123Z"
   },
   {
    "duration": 1311,
    "start_time": "2024-02-27T15:47:03.877Z"
   },
   {
    "duration": 2791,
    "start_time": "2024-02-27T15:47:05.190Z"
   },
   {
    "duration": 160,
    "start_time": "2024-02-27T15:47:07.982Z"
   },
   {
    "duration": 100,
    "start_time": "2024-02-27T15:47:08.144Z"
   },
   {
    "duration": 13,
    "start_time": "2024-02-27T15:47:08.246Z"
   },
   {
    "duration": 26,
    "start_time": "2024-02-27T15:47:08.269Z"
   },
   {
    "duration": 110,
    "start_time": "2024-02-27T15:47:08.297Z"
   },
   {
    "duration": 114,
    "start_time": "2024-02-27T15:47:08.408Z"
   },
   {
    "duration": 107,
    "start_time": "2024-02-27T15:47:08.524Z"
   },
   {
    "duration": 192,
    "start_time": "2024-02-27T15:47:08.633Z"
   },
   {
    "duration": 215,
    "start_time": "2024-02-27T15:47:08.827Z"
   },
   {
    "duration": 147,
    "start_time": "2024-02-27T15:47:09.043Z"
   },
   {
    "duration": 1660,
    "start_time": "2024-02-27T15:47:09.191Z"
   },
   {
    "duration": 101,
    "start_time": "2024-02-27T15:47:10.855Z"
   },
   {
    "duration": 14,
    "start_time": "2024-02-27T15:47:10.970Z"
   },
   {
    "duration": 463,
    "start_time": "2024-02-27T15:47:10.986Z"
   },
   {
    "duration": 287,
    "start_time": "2024-02-27T15:47:11.450Z"
   },
   {
    "duration": 84,
    "start_time": "2024-02-27T15:47:11.738Z"
   },
   {
    "duration": 198,
    "start_time": "2024-02-27T15:47:11.823Z"
   },
   {
    "duration": 22,
    "start_time": "2024-02-27T15:47:12.023Z"
   },
   {
    "duration": 68,
    "start_time": "2024-02-27T15:47:12.046Z"
   },
   {
    "duration": 17,
    "start_time": "2024-02-27T15:47:12.116Z"
   },
   {
    "duration": 5,
    "start_time": "2024-02-27T15:47:12.135Z"
   },
   {
    "duration": 80,
    "start_time": "2024-02-27T15:47:12.142Z"
   },
   {
    "duration": 21,
    "start_time": "2024-02-27T15:47:12.224Z"
   },
   {
    "duration": 33,
    "start_time": "2024-02-27T15:47:12.247Z"
   },
   {
    "duration": 460,
    "start_time": "2024-02-27T15:47:12.282Z"
   },
   {
    "duration": 0,
    "start_time": "2024-02-27T15:47:12.745Z"
   },
   {
    "duration": 0,
    "start_time": "2024-02-27T15:47:12.746Z"
   },
   {
    "duration": 0,
    "start_time": "2024-02-27T15:47:12.747Z"
   },
   {
    "duration": 0,
    "start_time": "2024-02-27T15:47:12.748Z"
   },
   {
    "duration": 0,
    "start_time": "2024-02-27T15:47:12.749Z"
   },
   {
    "duration": 0,
    "start_time": "2024-02-27T15:47:12.750Z"
   },
   {
    "duration": 0,
    "start_time": "2024-02-27T15:47:12.750Z"
   },
   {
    "duration": 0,
    "start_time": "2024-02-27T15:47:12.769Z"
   },
   {
    "duration": 0,
    "start_time": "2024-02-27T15:47:12.770Z"
   },
   {
    "duration": 0,
    "start_time": "2024-02-27T15:47:12.771Z"
   },
   {
    "duration": 0,
    "start_time": "2024-02-27T15:47:12.772Z"
   },
   {
    "duration": 0,
    "start_time": "2024-02-27T15:47:12.773Z"
   },
   {
    "duration": 0,
    "start_time": "2024-02-27T15:47:12.774Z"
   },
   {
    "duration": 0,
    "start_time": "2024-02-27T15:47:12.775Z"
   },
   {
    "duration": 0,
    "start_time": "2024-02-27T15:47:12.776Z"
   },
   {
    "duration": 0,
    "start_time": "2024-02-27T15:47:12.777Z"
   },
   {
    "duration": 0,
    "start_time": "2024-02-27T15:47:12.778Z"
   },
   {
    "duration": 0,
    "start_time": "2024-02-27T15:47:12.779Z"
   },
   {
    "duration": 0,
    "start_time": "2024-02-27T15:47:12.780Z"
   },
   {
    "duration": 702,
    "start_time": "2024-02-27T15:51:12.345Z"
   },
   {
    "duration": 425,
    "start_time": "2024-02-27T15:53:53.964Z"
   },
   {
    "duration": 456,
    "start_time": "2024-02-27T15:56:45.556Z"
   },
   {
    "duration": 439,
    "start_time": "2024-02-27T15:57:42.342Z"
   },
   {
    "duration": 4,
    "start_time": "2024-02-27T15:57:57.205Z"
   },
   {
    "duration": 838,
    "start_time": "2024-02-27T15:57:57.210Z"
   },
   {
    "duration": 174,
    "start_time": "2024-02-27T15:57:58.050Z"
   },
   {
    "duration": 97,
    "start_time": "2024-02-27T15:57:58.225Z"
   },
   {
    "duration": 12,
    "start_time": "2024-02-27T15:57:58.324Z"
   },
   {
    "duration": 32,
    "start_time": "2024-02-27T15:57:58.338Z"
   },
   {
    "duration": 104,
    "start_time": "2024-02-27T15:57:58.371Z"
   },
   {
    "duration": 108,
    "start_time": "2024-02-27T15:57:58.476Z"
   },
   {
    "duration": 103,
    "start_time": "2024-02-27T15:57:58.585Z"
   },
   {
    "duration": 169,
    "start_time": "2024-02-27T15:57:58.689Z"
   },
   {
    "duration": 180,
    "start_time": "2024-02-27T15:57:58.860Z"
   },
   {
    "duration": 137,
    "start_time": "2024-02-27T15:57:59.041Z"
   },
   {
    "duration": 1614,
    "start_time": "2024-02-27T15:57:59.181Z"
   },
   {
    "duration": 98,
    "start_time": "2024-02-27T15:58:00.797Z"
   },
   {
    "duration": 12,
    "start_time": "2024-02-27T15:58:00.896Z"
   },
   {
    "duration": 562,
    "start_time": "2024-02-27T15:58:00.909Z"
   },
   {
    "duration": 300,
    "start_time": "2024-02-27T15:58:01.473Z"
   },
   {
    "duration": 121,
    "start_time": "2024-02-27T15:58:01.774Z"
   },
   {
    "duration": 235,
    "start_time": "2024-02-27T15:58:01.897Z"
   },
   {
    "duration": 11,
    "start_time": "2024-02-27T15:58:02.133Z"
   },
   {
    "duration": 183,
    "start_time": "2024-02-27T15:58:02.145Z"
   },
   {
    "duration": 31,
    "start_time": "2024-02-27T15:58:02.330Z"
   },
   {
    "duration": 80,
    "start_time": "2024-02-27T15:58:02.363Z"
   },
   {
    "duration": 81,
    "start_time": "2024-02-27T15:58:02.445Z"
   },
   {
    "duration": 19,
    "start_time": "2024-02-27T15:58:02.528Z"
   },
   {
    "duration": 35,
    "start_time": "2024-02-27T15:58:02.549Z"
   },
   {
    "duration": 739,
    "start_time": "2024-02-27T15:58:10.120Z"
   },
   {
    "duration": 17,
    "start_time": "2024-02-27T15:58:46.925Z"
   },
   {
    "duration": 8,
    "start_time": "2024-02-27T15:59:12.672Z"
   },
   {
    "duration": 1651,
    "start_time": "2024-02-27T15:59:28.475Z"
   },
   {
    "duration": 9,
    "start_time": "2024-02-27T15:59:32.965Z"
   },
   {
    "duration": 597,
    "start_time": "2024-02-27T16:01:37.088Z"
   },
   {
    "duration": 5,
    "start_time": "2024-02-27T16:03:02.110Z"
   },
   {
    "duration": 3,
    "start_time": "2024-02-27T16:03:19.061Z"
   },
   {
    "duration": 793,
    "start_time": "2024-02-27T16:03:19.066Z"
   },
   {
    "duration": 164,
    "start_time": "2024-02-27T16:03:19.860Z"
   },
   {
    "duration": 95,
    "start_time": "2024-02-27T16:03:20.026Z"
   },
   {
    "duration": 13,
    "start_time": "2024-02-27T16:03:20.122Z"
   },
   {
    "duration": 33,
    "start_time": "2024-02-27T16:03:20.137Z"
   },
   {
    "duration": 102,
    "start_time": "2024-02-27T16:03:20.172Z"
   },
   {
    "duration": 110,
    "start_time": "2024-02-27T16:03:20.276Z"
   },
   {
    "duration": 117,
    "start_time": "2024-02-27T16:03:20.388Z"
   },
   {
    "duration": 175,
    "start_time": "2024-02-27T16:03:20.507Z"
   },
   {
    "duration": 184,
    "start_time": "2024-02-27T16:03:20.684Z"
   },
   {
    "duration": 137,
    "start_time": "2024-02-27T16:03:20.869Z"
   },
   {
    "duration": 1582,
    "start_time": "2024-02-27T16:03:21.008Z"
   },
   {
    "duration": 98,
    "start_time": "2024-02-27T16:03:22.591Z"
   },
   {
    "duration": 12,
    "start_time": "2024-02-27T16:03:22.691Z"
   },
   {
    "duration": 464,
    "start_time": "2024-02-27T16:03:22.705Z"
   },
   {
    "duration": 292,
    "start_time": "2024-02-27T16:03:23.171Z"
   },
   {
    "duration": 70,
    "start_time": "2024-02-27T16:03:23.470Z"
   },
   {
    "duration": 212,
    "start_time": "2024-02-27T16:03:23.542Z"
   },
   {
    "duration": 10,
    "start_time": "2024-02-27T16:03:23.770Z"
   },
   {
    "duration": 60,
    "start_time": "2024-02-27T16:03:23.782Z"
   },
   {
    "duration": 33,
    "start_time": "2024-02-27T16:03:23.844Z"
   },
   {
    "duration": 3,
    "start_time": "2024-02-27T16:03:23.879Z"
   },
   {
    "duration": 50,
    "start_time": "2024-02-27T16:03:23.885Z"
   },
   {
    "duration": 46,
    "start_time": "2024-02-27T16:03:23.937Z"
   },
   {
    "duration": 9,
    "start_time": "2024-02-27T16:03:26.856Z"
   },
   {
    "duration": 16,
    "start_time": "2024-02-27T16:05:54.570Z"
   },
   {
    "duration": 792,
    "start_time": "2024-02-27T16:07:28.897Z"
   },
   {
    "duration": 6,
    "start_time": "2024-02-27T16:10:15.967Z"
   },
   {
    "duration": 7,
    "start_time": "2024-02-27T16:10:29.727Z"
   },
   {
    "duration": 548,
    "start_time": "2024-02-27T16:11:16.836Z"
   },
   {
    "duration": 3,
    "start_time": "2024-02-27T16:13:54.750Z"
   },
   {
    "duration": 792,
    "start_time": "2024-02-27T16:13:54.755Z"
   },
   {
    "duration": 160,
    "start_time": "2024-02-27T16:13:55.548Z"
   },
   {
    "duration": 96,
    "start_time": "2024-02-27T16:13:55.710Z"
   },
   {
    "duration": 14,
    "start_time": "2024-02-27T16:13:55.807Z"
   },
   {
    "duration": 21,
    "start_time": "2024-02-27T16:13:55.822Z"
   },
   {
    "duration": 107,
    "start_time": "2024-02-27T16:13:55.845Z"
   },
   {
    "duration": 101,
    "start_time": "2024-02-27T16:13:55.953Z"
   },
   {
    "duration": 118,
    "start_time": "2024-02-27T16:13:56.056Z"
   },
   {
    "duration": 159,
    "start_time": "2024-02-27T16:13:56.176Z"
   },
   {
    "duration": 179,
    "start_time": "2024-02-27T16:13:56.336Z"
   },
   {
    "duration": 138,
    "start_time": "2024-02-27T16:13:56.517Z"
   },
   {
    "duration": 1570,
    "start_time": "2024-02-27T16:13:56.657Z"
   },
   {
    "duration": 99,
    "start_time": "2024-02-27T16:13:58.228Z"
   },
   {
    "duration": 12,
    "start_time": "2024-02-27T16:13:58.328Z"
   },
   {
    "duration": 468,
    "start_time": "2024-02-27T16:13:58.341Z"
   },
   {
    "duration": 287,
    "start_time": "2024-02-27T16:13:58.810Z"
   },
   {
    "duration": 77,
    "start_time": "2024-02-27T16:13:59.098Z"
   },
   {
    "duration": 208,
    "start_time": "2024-02-27T16:13:59.176Z"
   },
   {
    "duration": 10,
    "start_time": "2024-02-27T16:13:59.386Z"
   },
   {
    "duration": 80,
    "start_time": "2024-02-27T16:13:59.398Z"
   },
   {
    "duration": 15,
    "start_time": "2024-02-27T16:13:59.479Z"
   },
   {
    "duration": 2,
    "start_time": "2024-02-27T16:13:59.496Z"
   },
   {
    "duration": 70,
    "start_time": "2024-02-27T16:13:59.502Z"
   },
   {
    "duration": 21,
    "start_time": "2024-02-27T16:13:59.573Z"
   },
   {
    "duration": 874,
    "start_time": "2024-02-27T16:13:59.596Z"
   },
   {
    "duration": 3,
    "start_time": "2024-02-27T16:14:00.472Z"
   },
   {
    "duration": 478,
    "start_time": "2024-02-27T16:14:00.476Z"
   },
   {
    "duration": 17,
    "start_time": "2024-02-27T16:14:00.956Z"
   },
   {
    "duration": 29,
    "start_time": "2024-02-27T16:14:00.974Z"
   },
   {
    "duration": 690,
    "start_time": "2024-02-27T16:14:01.004Z"
   },
   {
    "duration": 22,
    "start_time": "2024-02-27T16:14:01.695Z"
   },
   {
    "duration": 283,
    "start_time": "2024-02-27T16:14:01.718Z"
   },
   {
    "duration": 4075,
    "start_time": "2024-02-27T16:14:02.002Z"
   },
   {
    "duration": 498,
    "start_time": "2024-02-27T16:14:06.079Z"
   },
   {
    "duration": 3,
    "start_time": "2024-02-27T16:14:06.579Z"
   },
   {
    "duration": 4495,
    "start_time": "2024-02-27T16:14:06.583Z"
   },
   {
    "duration": 504,
    "start_time": "2024-02-27T16:14:11.079Z"
   },
   {
    "duration": 3,
    "start_time": "2024-02-27T16:14:11.585Z"
   },
   {
    "duration": 20635,
    "start_time": "2024-02-27T16:14:11.589Z"
   },
   {
    "duration": 114,
    "start_time": "2024-02-27T16:14:32.226Z"
   },
   {
    "duration": 104,
    "start_time": "2024-02-27T16:14:32.342Z"
   },
   {
    "duration": 46523,
    "start_time": "2024-02-27T16:14:32.447Z"
   },
   {
    "duration": 263,
    "start_time": "2024-02-27T16:15:18.972Z"
   },
   {
    "duration": 122,
    "start_time": "2024-02-27T16:15:19.236Z"
   },
   {
    "duration": 1105,
    "start_time": "2024-02-27T17:43:56.046Z"
   },
   {
    "duration": 931,
    "start_time": "2024-02-27T17:43:57.153Z"
   },
   {
    "duration": 106,
    "start_time": "2024-02-27T17:43:58.086Z"
   },
   {
    "duration": 89,
    "start_time": "2024-02-27T17:43:58.194Z"
   },
   {
    "duration": 17,
    "start_time": "2024-02-27T17:43:58.285Z"
   },
   {
    "duration": 52,
    "start_time": "2024-02-27T17:43:58.303Z"
   },
   {
    "duration": 76,
    "start_time": "2024-02-27T17:43:58.357Z"
   },
   {
    "duration": 86,
    "start_time": "2024-02-27T17:43:58.434Z"
   },
   {
    "duration": 60,
    "start_time": "2024-02-27T17:43:58.521Z"
   },
   {
    "duration": 158,
    "start_time": "2024-02-27T17:43:58.584Z"
   },
   {
    "duration": 187,
    "start_time": "2024-02-27T17:43:58.744Z"
   },
   {
    "duration": 119,
    "start_time": "2024-02-27T17:43:58.932Z"
   },
   {
    "duration": 1178,
    "start_time": "2024-02-27T17:43:59.053Z"
   },
   {
    "duration": 101,
    "start_time": "2024-02-27T17:44:00.232Z"
   },
   {
    "duration": 14,
    "start_time": "2024-02-27T17:44:00.334Z"
   },
   {
    "duration": 390,
    "start_time": "2024-02-27T17:44:00.350Z"
   },
   {
    "duration": 221,
    "start_time": "2024-02-27T17:44:00.741Z"
   },
   {
    "duration": 71,
    "start_time": "2024-02-27T17:44:00.963Z"
   },
   {
    "duration": 170,
    "start_time": "2024-02-27T17:44:01.035Z"
   },
   {
    "duration": 18,
    "start_time": "2024-02-27T17:44:01.206Z"
   },
   {
    "duration": 87,
    "start_time": "2024-02-27T17:44:01.226Z"
   },
   {
    "duration": 27,
    "start_time": "2024-02-27T17:44:01.315Z"
   },
   {
    "duration": 37,
    "start_time": "2024-02-27T17:44:01.343Z"
   },
   {
    "duration": 99,
    "start_time": "2024-02-27T17:44:01.381Z"
   },
   {
    "duration": 107,
    "start_time": "2024-02-27T17:44:01.482Z"
   },
   {
    "duration": 627,
    "start_time": "2024-02-27T17:44:01.590Z"
   },
   {
    "duration": 3,
    "start_time": "2024-02-27T17:44:02.218Z"
   },
   {
    "duration": 350,
    "start_time": "2024-02-27T17:44:02.223Z"
   },
   {
    "duration": 10,
    "start_time": "2024-02-27T17:44:02.574Z"
   },
   {
    "duration": 11,
    "start_time": "2024-02-27T17:44:02.585Z"
   },
   {
    "duration": 582,
    "start_time": "2024-02-27T17:44:02.597Z"
   },
   {
    "duration": 26,
    "start_time": "2024-02-27T17:44:03.180Z"
   },
   {
    "duration": 2,
    "start_time": "2024-02-27T17:44:03.207Z"
   },
   {
    "duration": 3702,
    "start_time": "2024-02-27T17:44:03.210Z"
   },
   {
    "duration": 489,
    "start_time": "2024-02-27T17:44:06.914Z"
   },
   {
    "duration": 3,
    "start_time": "2024-02-27T17:44:07.405Z"
   },
   {
    "duration": 4701,
    "start_time": "2024-02-27T17:44:07.409Z"
   },
   {
    "duration": 494,
    "start_time": "2024-02-27T17:44:12.112Z"
   },
   {
    "duration": 3,
    "start_time": "2024-02-27T17:44:12.607Z"
   },
   {
    "duration": 18001,
    "start_time": "2024-02-27T17:44:12.611Z"
   },
   {
    "duration": 116,
    "start_time": "2024-02-27T17:44:30.614Z"
   },
   {
    "duration": 6,
    "start_time": "2024-02-27T17:44:30.732Z"
   },
   {
    "duration": 40763,
    "start_time": "2024-02-27T17:44:30.739Z"
   },
   {
    "duration": 205,
    "start_time": "2024-02-27T17:45:11.504Z"
   },
   {
    "duration": 94,
    "start_time": "2024-02-27T17:45:11.710Z"
   },
   {
    "duration": 3,
    "start_time": "2024-02-27T17:47:44.564Z"
   },
   {
    "duration": 667,
    "start_time": "2024-02-27T17:47:44.569Z"
   },
   {
    "duration": 98,
    "start_time": "2024-02-27T17:47:45.237Z"
   },
   {
    "duration": 99,
    "start_time": "2024-02-27T17:47:45.336Z"
   },
   {
    "duration": 10,
    "start_time": "2024-02-27T17:47:45.436Z"
   },
   {
    "duration": 46,
    "start_time": "2024-02-27T17:47:45.447Z"
   },
   {
    "duration": 93,
    "start_time": "2024-02-27T17:47:45.494Z"
   },
   {
    "duration": 99,
    "start_time": "2024-02-27T17:47:45.588Z"
   },
   {
    "duration": 59,
    "start_time": "2024-02-27T17:47:45.689Z"
   },
   {
    "duration": 134,
    "start_time": "2024-02-27T17:47:45.749Z"
   },
   {
    "duration": 155,
    "start_time": "2024-02-27T17:47:45.884Z"
   },
   {
    "duration": 112,
    "start_time": "2024-02-27T17:47:46.040Z"
   },
   {
    "duration": 1191,
    "start_time": "2024-02-27T17:47:46.155Z"
   },
   {
    "duration": 89,
    "start_time": "2024-02-27T17:47:47.347Z"
   },
   {
    "duration": 11,
    "start_time": "2024-02-27T17:47:47.437Z"
   },
   {
    "duration": 350,
    "start_time": "2024-02-27T17:47:47.449Z"
   },
   {
    "duration": 215,
    "start_time": "2024-02-27T17:47:47.801Z"
   },
   {
    "duration": 52,
    "start_time": "2024-02-27T17:47:48.018Z"
   },
   {
    "duration": 152,
    "start_time": "2024-02-27T17:47:48.072Z"
   },
   {
    "duration": 8,
    "start_time": "2024-02-27T17:47:48.226Z"
   },
   {
    "duration": 41,
    "start_time": "2024-02-27T17:47:48.236Z"
   },
   {
    "duration": 32,
    "start_time": "2024-02-27T17:47:48.278Z"
   },
   {
    "duration": 2,
    "start_time": "2024-02-27T17:47:48.311Z"
   },
   {
    "duration": 37,
    "start_time": "2024-02-27T17:47:48.314Z"
   },
   {
    "duration": 14,
    "start_time": "2024-02-27T17:47:48.353Z"
   },
   {
    "duration": 601,
    "start_time": "2024-02-27T17:47:48.368Z"
   },
   {
    "duration": 2,
    "start_time": "2024-02-27T17:47:48.971Z"
   },
   {
    "duration": 359,
    "start_time": "2024-02-27T17:47:48.974Z"
   },
   {
    "duration": 11,
    "start_time": "2024-02-27T17:47:49.334Z"
   },
   {
    "duration": 71,
    "start_time": "2024-02-27T17:47:49.347Z"
   },
   {
    "duration": 574,
    "start_time": "2024-02-27T17:47:49.420Z"
   },
   {
    "duration": 23,
    "start_time": "2024-02-27T17:47:49.995Z"
   },
   {
    "duration": 18,
    "start_time": "2024-02-27T17:47:50.019Z"
   },
   {
    "duration": 3670,
    "start_time": "2024-02-27T17:47:50.038Z"
   },
   {
    "duration": 508,
    "start_time": "2024-02-27T17:47:53.709Z"
   },
   {
    "duration": 3,
    "start_time": "2024-02-27T17:47:54.302Z"
   },
   {
    "duration": 4402,
    "start_time": "2024-02-27T17:47:54.307Z"
   },
   {
    "duration": 496,
    "start_time": "2024-02-27T17:47:58.710Z"
   },
   {
    "duration": 2,
    "start_time": "2024-02-27T17:47:59.207Z"
   },
   {
    "duration": 18126,
    "start_time": "2024-02-27T17:47:59.211Z"
   },
   {
    "duration": 92,
    "start_time": "2024-02-27T17:48:17.338Z"
   },
   {
    "duration": 2,
    "start_time": "2024-02-27T17:48:17.431Z"
   },
   {
    "duration": 40296,
    "start_time": "2024-02-27T17:48:17.435Z"
   },
   {
    "duration": 202,
    "start_time": "2024-02-27T17:48:57.733Z"
   },
   {
    "duration": 89,
    "start_time": "2024-02-27T17:48:57.937Z"
   }
  ],
  "kernelspec": {
   "display_name": "Python 3 (ipykernel)",
   "language": "python",
   "name": "python3"
  },
  "language_info": {
   "codemirror_mode": {
    "name": "ipython",
    "version": 3
   },
   "file_extension": ".py",
   "mimetype": "text/x-python",
   "name": "python",
   "nbconvert_exporter": "python",
   "pygments_lexer": "ipython3",
   "version": "3.11.3"
  },
  "toc": {
   "base_numbering": 1,
   "nav_menu": {},
   "number_sections": true,
   "sideBar": true,
   "skip_h1_title": true,
   "title_cell": "Table of Contents",
   "title_sidebar": "Contents",
   "toc_cell": false,
   "toc_position": {},
   "toc_section_display": true,
   "toc_window_display": false
  }
 },
 "nbformat": 4,
 "nbformat_minor": 2
}
